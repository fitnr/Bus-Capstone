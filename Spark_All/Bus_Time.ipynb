{
 "cells": [
  {
   "cell_type": "markdown",
   "metadata": {},
   "source": [
    "### This project parses 3 TB nested Json file into csv using pyspark along with sparksql for further analysis"
   ]
  },
  {
   "cell_type": "markdown",
   "metadata": {},
   "source": [
    "# Read Json, parse"
   ]
  },
  {
   "cell_type": "markdown",
   "metadata": {},
   "source": [
    "## Import dependencies"
   ]
  },
  {
   "cell_type": "code",
   "execution_count": 1,
   "metadata": {
    "collapsed": false
   },
   "outputs": [],
   "source": [
    "import pyspark\n",
    "from pyspark.sql import HiveContext"
   ]
  },
  {
   "cell_type": "markdown",
   "metadata": {},
   "source": [
    "## Read JSON File"
   ]
  },
  {
   "cell_type": "code",
   "execution_count": 2,
   "metadata": {
    "collapsed": false
   },
   "outputs": [],
   "source": [
    "sc\n",
    "sqlContext = HiveContext(sc)\n",
    "bus_file='test.jsons'\n",
    "bus = sqlContext.read.json(bus_file)\n",
    "bus.registerTempTable(\"bus\")"
   ]
  },
  {
   "cell_type": "code",
   "execution_count": 3,
   "metadata": {
    "collapsed": false,
    "scrolled": true
   },
   "outputs": [
    {
     "name": "stdout",
     "output_type": "stream",
     "text": [
      "root\n",
      " |-- Siri: struct (nullable = true)\n",
      " |    |-- ServiceDelivery: struct (nullable = true)\n",
      " |    |    |-- ResponseTimestamp: string (nullable = true)\n",
      " |    |    |-- SituationExchangeDelivery: array (nullable = true)\n",
      " |    |    |    |-- element: struct (containsNull = true)\n",
      " |    |    |    |    |-- Situations: struct (nullable = true)\n",
      " |    |    |    |    |    |-- PtSituationElement: array (nullable = true)\n",
      " |    |    |    |    |    |    |-- element: struct (containsNull = true)\n",
      " |    |    |    |    |    |    |    |-- Affects: struct (nullable = true)\n",
      " |    |    |    |    |    |    |    |    |-- VehicleJourneys: struct (nullable = true)\n",
      " |    |    |    |    |    |    |    |    |    |-- AffectedVehicleJourney: array (nullable = true)\n",
      " |    |    |    |    |    |    |    |    |    |    |-- element: struct (containsNull = true)\n",
      " |    |    |    |    |    |    |    |    |    |    |    |-- DirectionRef: string (nullable = true)\n",
      " |    |    |    |    |    |    |    |    |    |    |    |-- LineRef: string (nullable = true)\n",
      " |    |    |    |    |    |    |    |-- Consequences: struct (nullable = true)\n",
      " |    |    |    |    |    |    |    |    |-- Consequence: array (nullable = true)\n",
      " |    |    |    |    |    |    |    |    |    |-- element: struct (containsNull = true)\n",
      " |    |    |    |    |    |    |    |    |    |    |-- Condition: string (nullable = true)\n",
      " |    |    |    |    |    |    |    |-- CreationTime: string (nullable = true)\n",
      " |    |    |    |    |    |    |    |-- Description: string (nullable = true)\n",
      " |    |    |    |    |    |    |    |-- PublicationWindow: struct (nullable = true)\n",
      " |    |    |    |    |    |    |    |    |-- EndTime: string (nullable = true)\n",
      " |    |    |    |    |    |    |    |    |-- StartTime: string (nullable = true)\n",
      " |    |    |    |    |    |    |    |-- Severity: string (nullable = true)\n",
      " |    |    |    |    |    |    |    |-- SituationNumber: string (nullable = true)\n",
      " |    |    |    |    |    |    |    |-- Summary: string (nullable = true)\n",
      " |    |    |-- VehicleMonitoringDelivery: array (nullable = true)\n",
      " |    |    |    |-- element: struct (containsNull = true)\n",
      " |    |    |    |    |-- ResponseTimestamp: string (nullable = true)\n",
      " |    |    |    |    |-- ValidUntil: string (nullable = true)\n",
      " |    |    |    |    |-- VehicleActivity: array (nullable = true)\n",
      " |    |    |    |    |    |-- element: struct (containsNull = true)\n",
      " |    |    |    |    |    |    |-- MonitoredVehicleJourney: struct (nullable = true)\n",
      " |    |    |    |    |    |    |    |-- Bearing: double (nullable = true)\n",
      " |    |    |    |    |    |    |    |-- BlockRef: string (nullable = true)\n",
      " |    |    |    |    |    |    |    |-- DestinationName: string (nullable = true)\n",
      " |    |    |    |    |    |    |    |-- DestinationRef: string (nullable = true)\n",
      " |    |    |    |    |    |    |    |-- DirectionRef: string (nullable = true)\n",
      " |    |    |    |    |    |    |    |-- FramedVehicleJourneyRef: struct (nullable = true)\n",
      " |    |    |    |    |    |    |    |    |-- DataFrameRef: string (nullable = true)\n",
      " |    |    |    |    |    |    |    |    |-- DatedVehicleJourneyRef: string (nullable = true)\n",
      " |    |    |    |    |    |    |    |-- JourneyPatternRef: string (nullable = true)\n",
      " |    |    |    |    |    |    |    |-- LineRef: string (nullable = true)\n",
      " |    |    |    |    |    |    |    |-- Monitored: boolean (nullable = true)\n",
      " |    |    |    |    |    |    |    |-- MonitoredCall: struct (nullable = true)\n",
      " |    |    |    |    |    |    |    |    |-- ExpectedArrivalTime: string (nullable = true)\n",
      " |    |    |    |    |    |    |    |    |-- ExpectedDepartureTime: string (nullable = true)\n",
      " |    |    |    |    |    |    |    |    |-- Extensions: struct (nullable = true)\n",
      " |    |    |    |    |    |    |    |    |    |-- Distances: struct (nullable = true)\n",
      " |    |    |    |    |    |    |    |    |    |    |-- CallDistanceAlongRoute: double (nullable = true)\n",
      " |    |    |    |    |    |    |    |    |    |    |-- DistanceFromCall: double (nullable = true)\n",
      " |    |    |    |    |    |    |    |    |    |    |-- PresentableDistance: string (nullable = true)\n",
      " |    |    |    |    |    |    |    |    |    |    |-- StopsFromCall: long (nullable = true)\n",
      " |    |    |    |    |    |    |    |    |-- StopPointName: string (nullable = true)\n",
      " |    |    |    |    |    |    |    |    |-- StopPointRef: string (nullable = true)\n",
      " |    |    |    |    |    |    |    |    |-- VisitNumber: long (nullable = true)\n",
      " |    |    |    |    |    |    |    |-- OnwardCalls: struct (nullable = true)\n",
      " |    |    |    |    |    |    |    |    |-- OnwardCall: array (nullable = true)\n",
      " |    |    |    |    |    |    |    |    |    |-- element: struct (containsNull = true)\n",
      " |    |    |    |    |    |    |    |    |    |    |-- ExpectedArrivalTime: string (nullable = true)\n",
      " |    |    |    |    |    |    |    |    |    |    |-- ExpectedDepartureTime: string (nullable = true)\n",
      " |    |    |    |    |    |    |    |    |    |    |-- Extensions: struct (nullable = true)\n",
      " |    |    |    |    |    |    |    |    |    |    |    |-- Distances: struct (nullable = true)\n",
      " |    |    |    |    |    |    |    |    |    |    |    |    |-- CallDistanceAlongRoute: double (nullable = true)\n",
      " |    |    |    |    |    |    |    |    |    |    |    |    |-- DistanceFromCall: double (nullable = true)\n",
      " |    |    |    |    |    |    |    |    |    |    |    |    |-- PresentableDistance: string (nullable = true)\n",
      " |    |    |    |    |    |    |    |    |    |    |    |    |-- StopsFromCall: long (nullable = true)\n",
      " |    |    |    |    |    |    |    |    |    |    |-- StopPointName: string (nullable = true)\n",
      " |    |    |    |    |    |    |    |    |    |    |-- StopPointRef: string (nullable = true)\n",
      " |    |    |    |    |    |    |    |    |    |    |-- VisitNumber: long (nullable = true)\n",
      " |    |    |    |    |    |    |    |-- OperatorRef: string (nullable = true)\n",
      " |    |    |    |    |    |    |    |-- OriginAimedDepartureTime: string (nullable = true)\n",
      " |    |    |    |    |    |    |    |-- OriginRef: string (nullable = true)\n",
      " |    |    |    |    |    |    |    |-- ProgressRate: string (nullable = true)\n",
      " |    |    |    |    |    |    |    |-- ProgressStatus: string (nullable = true)\n",
      " |    |    |    |    |    |    |    |-- PublishedLineName: string (nullable = true)\n",
      " |    |    |    |    |    |    |    |-- SituationRef: array (nullable = true)\n",
      " |    |    |    |    |    |    |    |    |-- element: struct (containsNull = true)\n",
      " |    |    |    |    |    |    |    |    |    |-- SituationSimpleRef: string (nullable = true)\n",
      " |    |    |    |    |    |    |    |-- VehicleLocation: struct (nullable = true)\n",
      " |    |    |    |    |    |    |    |    |-- Latitude: double (nullable = true)\n",
      " |    |    |    |    |    |    |    |    |-- Longitude: double (nullable = true)\n",
      " |    |    |    |    |    |    |    |-- VehicleRef: string (nullable = true)\n",
      " |    |    |    |    |    |    |-- RecordedAtTime: string (nullable = true)\n",
      "\n"
     ]
    }
   ],
   "source": [
    "bus.printSchema()"
   ]
  },
  {
   "cell_type": "markdown",
   "metadata": {},
   "source": [
    "## load and apply SQL Query"
   ]
  },
  {
   "cell_type": "code",
   "execution_count": 4,
   "metadata": {
    "collapsed": false
   },
   "outputs": [],
   "source": [
    "with open(\"spark_extract.sql\") as fr:\n",
    "     query = fr.read()\n",
    "output = sqlContext.sql(query)"
   ]
  },
  {
   "cell_type": "markdown",
   "metadata": {},
   "source": [
    "## Flatten the list"
   ]
  },
  {
   "cell_type": "markdown",
   "metadata": {},
   "source": [
    "### Method A"
   ]
  },
  {
   "cell_type": "code",
   "execution_count": 5,
   "metadata": {
    "collapsed": false
   },
   "outputs": [],
   "source": [
    "import itertools\n",
    "def extract(parts):\n",
    "    for p in parts:\n",
    "        for o in itertools.izip(p.Line,p.Latitude,p.Longitude,p.RecordedAtTime,p.vehicleID,p.Trip,p.TripDate):\n",
    "            yield o"
   ]
  },
  {
   "cell_type": "markdown",
   "metadata": {},
   "source": [
    "### Method B"
   ]
  },
  {
   "cell_type": "code",
   "execution_count": 6,
   "metadata": {
    "collapsed": false
   },
   "outputs": [],
   "source": [
    "def parse_list(p):\n",
    "    if p.Line!=None:\n",
    "        return zip(p.Line,p.Latitude,p.Longitude,p.RecordedAtTime,p.vehicleID,p.Trip,p.TripDate,p.TripPattern,p.MonitoredCallRef,p.DistFromCall,p.CallDistAlongRoute,p.PresentableDistance)\n",
    "    else:\n",
    "        return []"
   ]
  },
  {
   "cell_type": "markdown",
   "metadata": {},
   "source": [
    "## Tranfer time to Unix time for interpolatation"
   ]
  },
  {
   "cell_type": "code",
   "execution_count": 7,
   "metadata": {
    "collapsed": true
   },
   "outputs": [],
   "source": [
    "import time\n",
    "import dateutil.parser\n",
    "def unix_time(x):\n",
    "    dt = dateutil.parser.parse(x)\n",
    "    return time.mktime(dt.timetuple())"
   ]
  },
  {
   "cell_type": "code",
   "execution_count": 17,
   "metadata": {
    "collapsed": true
   },
   "outputs": [],
   "source": [
    "a= [1,2,3,5,6]\n",
    "b =[3,4,6,7,8]\n",
    "f = interp1d(a,b)"
   ]
  },
  {
   "cell_type": "code",
   "execution_count": 20,
   "metadata": {
    "collapsed": false
   },
   "outputs": [
    {
     "data": {
      "text/plain": [
       "array([ 3. ,  4. ,  6.5,  6.5])"
      ]
     },
     "execution_count": 20,
     "metadata": {},
     "output_type": "execute_result"
    }
   ],
   "source": [
    "f([1,2,4,4])"
   ]
  },
  {
   "cell_type": "code",
   "execution_count": 30,
   "metadata": {
    "collapsed": true
   },
   "outputs": [],
   "source": [
    "a = [1,2]"
   ]
  },
  {
   "cell_type": "markdown",
   "metadata": {},
   "source": [
    "## Interpolate function"
   ]
  },
  {
   "cell_type": "markdown",
   "metadata": {},
   "source": [
    "## Method A"
   ]
  },
  {
   "cell_type": "code",
   "execution_count": 93,
   "metadata": {
    "collapsed": false
   },
   "outputs": [],
   "source": [
    "from scipy.interpolate import interp1d\n",
    "def predict(x):\n",
    "    pre_x = [p[-2] for p in x if p[-2]!=None]\n",
    "    if len(pre_x) >= 2:\n",
    "        pre_y = [unix_time(p[3]) for p in x if p[-2]!=None]\n",
    "        f = interp1d(pre_x, pre_y)\n",
    "    else:\n",
    "        return []\n",
    "    return [(p[0],p[5],p[-4],f(p[-2]+p[-3])) for p in x if p[-2]!=None and (p[-2]+p[-3]) <= pre_x[-1]]"
   ]
  },
  {
   "cell_type": "markdown",
   "metadata": {},
   "source": [
    "## method b"
   ]
  },
  {
   "cell_type": "code",
   "execution_count": 87,
   "metadata": {
    "collapsed": true
   },
   "outputs": [],
   "source": [
    "from scipy.interpolate import interp1d\n",
    "def predict_map(x):\n",
    "    train_y = [unix_time(p[3]) for p in x if p[-2]!=None ]\n",
    "    if len(train_y) >= 2:\n",
    "        train_x = [p[-2] for p in x if p[-2]!=None]\n",
    "        f = interp1d(train_x, train_y)\n",
    "        distance = [(p[-2]+p[-3]) for p in x \\\n",
    "                    if (p[-2]!=None and p[-3]!=None) and (p[-2]+p[-3]) <= train_x[-1]]\n",
    "        stoptimes = f(distance)\n",
    "        stops = [p[-4] for p in x if p[-2]!=None]\n",
    "    else:\n",
    "        return[]\n",
    "    return map(lambda a,b: (a,b), stops,stoptimes)\n",
    "    #return [(p[-4],f(p[-2]+p[-3])) for p in x if (p[-2]!=None and p[-3]!=None) and (p[-2]+p[-3]) <= pre_x[-1]] "
   ]
  },
  {
   "cell_type": "markdown",
   "metadata": {},
   "source": [
    "## Groupby Date and Line & Apply Interpolation"
   ]
  },
  {
   "cell_type": "markdown",
   "metadata": {},
   "source": [
    "## Simple Extraction"
   ]
  },
  {
   "cell_type": "code",
   "execution_count": 105,
   "metadata": {
    "collapsed": false
   },
   "outputs": [
    {
     "data": {
      "text/plain": [
       "[(u'MTA NYCT_Q76',\n",
       "  40.753476,\n",
       "  -73.780631,\n",
       "  u'2015-12-30T18:59:41.621-05:00',\n",
       "  u'MTA NYCT_7424',\n",
       "  u'MTA NYCT_CS_W5-Weekday-111000_MISC_843',\n",
       "  u'2015-12-30',\n",
       "  u'MTA_Q760118',\n",
       "  u'MTA_502697',\n",
       "  16.14,\n",
       "  7903.95,\n",
       "  u'at stop'),\n",
       " (u'MTA NYCT_B67',\n",
       "  40.664322,\n",
       "  -73.983724,\n",
       "  u'2015-12-30T18:59:52.000-05:00',\n",
       "  u'MTA NYCT_406',\n",
       "  u'MTA NYCT_JG_W5-Weekday-109900_B6769_24',\n",
       "  u'2015-12-30',\n",
       "  u'MTA_B670106',\n",
       "  u'MTA_305679',\n",
       "  12.05,\n",
       "  8002.2,\n",
       "  u'at stop')]"
      ]
     },
     "execution_count": 105,
     "metadata": {},
     "output_type": "execute_result"
    }
   ],
   "source": [
    "output.flatMap(parse_list)\\\n",
    "      .take(2)"
   ]
  },
  {
   "cell_type": "markdown",
   "metadata": {},
   "source": [
    "## Apply Interpolation"
   ]
  },
  {
   "cell_type": "code",
   "execution_count": 106,
   "metadata": {
    "collapsed": false
   },
   "outputs": [
    {
     "data": {
      "text/plain": [
       "[(u'MTA NYCT_Q46',\n",
       "  u'MTA NYCT_QV_W5-Weekday-110900_Q46_6',\n",
       "  u'MTA_502327',\n",
       "  array(1451520016.346892)),\n",
       " (u'MTA NYCT_Q46',\n",
       "  u'MTA NYCT_QV_W5-Weekday-110900_Q46_6',\n",
       "  u'MTA_502331',\n",
       "  array(1451520119.0))]"
      ]
     },
     "execution_count": 106,
     "metadata": {},
     "output_type": "execute_result"
    }
   ],
   "source": [
    "output.flatMap(parse_list)\\\n",
    "      .map(lambda x:((x[5],x[6]),x)).groupByKey() \\\n",
    "      .flatMap(lambda x: predict(x[1]))\\\n",
    "      .take(2)"
   ]
  },
  {
   "cell_type": "markdown",
   "metadata": {},
   "source": [
    "## Remove the prefix, timezones and save as CSV"
   ]
  },
  {
   "cell_type": "code",
   "execution_count": null,
   "metadata": {
    "collapsed": true
   },
   "outputs": [],
   "source": [
    "output.flatMap(parse_list)\\\n",
    "      .map(lambda x: \",\".join(map(str, x)))\\\n",
    "      .map(lambda x: x.replace('MTA NYCT_', '').replace('MTABC_','').replace('MTA_','').replace('-05:00',''))\\\n",
    "      .saveAsTextFile(sys.argv[-1])"
   ]
  },
  {
   "cell_type": "markdown",
   "metadata": {},
   "source": [
    "# Read From CSV and SQL Manupilation"
   ]
  },
  {
   "cell_type": "markdown",
   "metadata": {},
   "source": [
    "## Import dependencies"
   ]
  },
  {
   "cell_type": "code",
   "execution_count": null,
   "metadata": {
    "collapsed": true
   },
   "outputs": [],
   "source": [
    "from pyspark.sql.types import *"
   ]
  },
  {
   "cell_type": "markdown",
   "metadata": {},
   "source": [
    "## Reset Schemas and Indexing"
   ]
  },
  {
   "cell_type": "code",
   "execution_count": null,
   "metadata": {
    "collapsed": false
   },
   "outputs": [],
   "source": [
    "customSchema = StructType([StructField(\"Line\", StringType(), True),\\\n",
    "                           StructField(\"Latitude\", DoubleType(), True),\\\n",
    "                           StructField(\"Longitude\", DoubleType(), True),\\\n",
    "                           StructField(\"RecordedAtTime\", StringType(), True),\\\n",
    "                           StructField(\"vehicleID\", StringType(), True),\\\n",
    "                           StructField(\"TripRef\", StringType(), True),\\\n",
    "                           StructField(\"TripDate\", DateType(), True),\\\n",
    "                           StructField(\"TripPattern\", StringType(), True),\\\n",
    "                           StructField(\"Stop_ID\", StringType(), True),\\\n",
    "                           StructField(\"DistFromCall\", DoubleType(), True),\\\n",
    "                           StructField(\"CallDistAlongRoute\", DoubleType(), True),\\\n",
    "                           StructField(\"PresentableDistance\", StringType(), True)])                 "
   ]
  },
  {
   "cell_type": "markdown",
   "metadata": {},
   "source": [
    "## Use CSV=>DF tool to read saved csv"
   ]
  },
  {
   "cell_type": "code",
   "execution_count": null,
   "metadata": {
    "collapsed": false,
    "scrolled": true
   },
   "outputs": [],
   "source": [
    "record = sqlContext.read.format('com.databricks.spark.csv').options(header='true').load('final.csv', schema = customSchema)"
   ]
  },
  {
   "cell_type": "code",
   "execution_count": null,
   "metadata": {
    "collapsed": true
   },
   "outputs": [],
   "source": [
    "record.registerTempTable('record')"
   ]
  },
  {
   "cell_type": "code",
   "execution_count": null,
   "metadata": {
    "collapsed": false
   },
   "outputs": [],
   "source": [
    "record.take(1)"
   ]
  },
  {
   "cell_type": "code",
   "execution_count": null,
   "metadata": {
    "collapsed": false
   },
   "outputs": [],
   "source": [
    "import pyspark.sql.functions as f"
   ]
  },
  {
   "cell_type": "markdown",
   "metadata": {},
   "source": [
    "## Time Tansfer to UnixTimeStamp"
   ]
  },
  {
   "cell_type": "code",
   "execution_count": null,
   "metadata": {
    "collapsed": false,
    "scrolled": true
   },
   "outputs": [],
   "source": [
    "record_new = record.withColumn(\"Record_time_unix\", f.unix_timestamp('RecordedAtTime', format=\"yyyy-MM-dd'T'HH:mm:ss.SSS\"))\n",
    "record_new.registerTempTable('record')"
   ]
  },
  {
   "cell_type": "code",
   "execution_count": null,
   "metadata": {
    "collapsed": false,
    "scrolled": true
   },
   "outputs": [],
   "source": [
    "record_new.take(1)"
   ]
  },
  {
   "cell_type": "markdown",
   "metadata": {},
   "source": [
    "## Calculate the trips of each line of everyday to test the data intergrety"
   ]
  },
  {
   "cell_type": "code",
   "execution_count": null,
   "metadata": {
    "collapsed": false
   },
   "outputs": [],
   "source": [
    "gaps = sqlContext.sql('select TripRef, Record_time_unix, DistFromCall,CallDistAlongRoute,Stop_ID\\\n",
    "                       from record\\\n",
    "                       ORDER BY Record_time_unix DESC')"
   ]
  },
  {
   "cell_type": "code",
   "execution_count": null,
   "metadata": {
    "collapsed": false
   },
   "outputs": [],
   "source": [
    "gaps.take(10)"
   ]
  },
  {
   "cell_type": "markdown",
   "metadata": {},
   "source": [
    "## Merge Data from Stoptimes to interpolated times"
   ]
  },
  {
   "cell_type": "code",
   "execution_count": null,
   "metadata": {
    "collapsed": false
   },
   "outputs": [],
   "source": [
    "combine = sqlContext.sql(\n",
    "    'SELECT record.TripRef, record.Stop_ID, record.RecordedAtTime \\\n",
    "    FROM record \\\n",
    "    JOIN stop_times \\\n",
    "    on (record.Stop_ID = stop_times.stop_id AND record.TripRef = stop_times.trip_id)')"
   ]
  },
  {
   "cell_type": "code",
   "execution_count": null,
   "metadata": {
    "collapsed": false
   },
   "outputs": [],
   "source": [
    "#output_df = output1.toDF(['Line','Lat','Lon','Recordtime','ID','Trip','TripDate'])"
   ]
  },
  {
   "cell_type": "code",
   "execution_count": null,
   "metadata": {
    "collapsed": false
   },
   "outputs": [],
   "source": [
    "#output_df.show()"
   ]
  },
  {
   "cell_type": "code",
   "execution_count": null,
   "metadata": {
    "collapsed": true
   },
   "outputs": [],
   "source": []
  }
 ],
 "metadata": {
  "kernelspec": {
   "display_name": "Python 2",
   "language": "python",
   "name": "python2"
  },
  "language_info": {
   "codemirror_mode": {
    "name": "ipython",
    "version": 2
   },
   "file_extension": ".py",
   "mimetype": "text/x-python",
   "name": "python",
   "nbconvert_exporter": "python",
   "pygments_lexer": "ipython2",
   "version": "2.7.11"
  }
 },
 "nbformat": 4,
 "nbformat_minor": 0
}
