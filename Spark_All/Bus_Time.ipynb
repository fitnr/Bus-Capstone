{
 "cells": [
  {
   "cell_type": "markdown",
   "metadata": {},
   "source": [
    "### This project parses 3 TB nested Json file into csv using pyspark along with sparksql for further analysis"
   ]
  },
  {
   "cell_type": "markdown",
   "metadata": {},
   "source": [
    "# Read Json, parse"
   ]
  },
  {
   "cell_type": "markdown",
   "metadata": {},
   "source": [
    "## Import dependencies"
   ]
  },
  {
   "cell_type": "code",
   "execution_count": 1,
   "metadata": {
    "collapsed": false
   },
   "outputs": [],
   "source": [
    "import pyspark\n",
    "from pyspark.sql import HiveContext"
   ]
  },
  {
   "cell_type": "markdown",
   "metadata": {},
   "source": [
    "## Read JSON File"
   ]
  },
  {
   "cell_type": "code",
   "execution_count": 2,
   "metadata": {
    "collapsed": false
   },
   "outputs": [],
   "source": [
    "sc\n",
    "sqlContext = HiveContext(sc)\n",
    "bus_file='test.jsons'\n",
    "bus = sqlContext.read.json(bus_file)\n",
    "bus.registerTempTable(\"bus\")"
   ]
  },
  {
   "cell_type": "markdown",
   "metadata": {},
   "source": [
    "## Show Schema"
   ]
  },
  {
   "cell_type": "code",
   "execution_count": 3,
   "metadata": {
    "collapsed": false,
    "scrolled": true
   },
   "outputs": [
    {
     "name": "stdout",
     "output_type": "stream",
     "text": [
      "root\n",
      " |-- Siri: struct (nullable = true)\n",
      " |    |-- ServiceDelivery: struct (nullable = true)\n",
      " |    |    |-- ResponseTimestamp: string (nullable = true)\n",
      " |    |    |-- SituationExchangeDelivery: array (nullable = true)\n",
      " |    |    |    |-- element: struct (containsNull = true)\n",
      " |    |    |    |    |-- Situations: struct (nullable = true)\n",
      " |    |    |    |    |    |-- PtSituationElement: array (nullable = true)\n",
      " |    |    |    |    |    |    |-- element: struct (containsNull = true)\n",
      " |    |    |    |    |    |    |    |-- Affects: struct (nullable = true)\n",
      " |    |    |    |    |    |    |    |    |-- VehicleJourneys: struct (nullable = true)\n",
      " |    |    |    |    |    |    |    |    |    |-- AffectedVehicleJourney: array (nullable = true)\n",
      " |    |    |    |    |    |    |    |    |    |    |-- element: struct (containsNull = true)\n",
      " |    |    |    |    |    |    |    |    |    |    |    |-- DirectionRef: string (nullable = true)\n",
      " |    |    |    |    |    |    |    |    |    |    |    |-- LineRef: string (nullable = true)\n",
      " |    |    |    |    |    |    |    |-- Consequences: struct (nullable = true)\n",
      " |    |    |    |    |    |    |    |    |-- Consequence: array (nullable = true)\n",
      " |    |    |    |    |    |    |    |    |    |-- element: struct (containsNull = true)\n",
      " |    |    |    |    |    |    |    |    |    |    |-- Condition: string (nullable = true)\n",
      " |    |    |    |    |    |    |    |-- CreationTime: string (nullable = true)\n",
      " |    |    |    |    |    |    |    |-- Description: string (nullable = true)\n",
      " |    |    |    |    |    |    |    |-- PublicationWindow: struct (nullable = true)\n",
      " |    |    |    |    |    |    |    |    |-- EndTime: string (nullable = true)\n",
      " |    |    |    |    |    |    |    |    |-- StartTime: string (nullable = true)\n",
      " |    |    |    |    |    |    |    |-- Severity: string (nullable = true)\n",
      " |    |    |    |    |    |    |    |-- SituationNumber: string (nullable = true)\n",
      " |    |    |    |    |    |    |    |-- Summary: string (nullable = true)\n",
      " |    |    |-- VehicleMonitoringDelivery: array (nullable = true)\n",
      " |    |    |    |-- element: struct (containsNull = true)\n",
      " |    |    |    |    |-- ResponseTimestamp: string (nullable = true)\n",
      " |    |    |    |    |-- ValidUntil: string (nullable = true)\n",
      " |    |    |    |    |-- VehicleActivity: array (nullable = true)\n",
      " |    |    |    |    |    |-- element: struct (containsNull = true)\n",
      " |    |    |    |    |    |    |-- MonitoredVehicleJourney: struct (nullable = true)\n",
      " |    |    |    |    |    |    |    |-- Bearing: double (nullable = true)\n",
      " |    |    |    |    |    |    |    |-- BlockRef: string (nullable = true)\n",
      " |    |    |    |    |    |    |    |-- DestinationName: string (nullable = true)\n",
      " |    |    |    |    |    |    |    |-- DestinationRef: string (nullable = true)\n",
      " |    |    |    |    |    |    |    |-- DirectionRef: string (nullable = true)\n",
      " |    |    |    |    |    |    |    |-- FramedVehicleJourneyRef: struct (nullable = true)\n",
      " |    |    |    |    |    |    |    |    |-- DataFrameRef: string (nullable = true)\n",
      " |    |    |    |    |    |    |    |    |-- DatedVehicleJourneyRef: string (nullable = true)\n",
      " |    |    |    |    |    |    |    |-- JourneyPatternRef: string (nullable = true)\n",
      " |    |    |    |    |    |    |    |-- LineRef: string (nullable = true)\n",
      " |    |    |    |    |    |    |    |-- Monitored: boolean (nullable = true)\n",
      " |    |    |    |    |    |    |    |-- MonitoredCall: struct (nullable = true)\n",
      " |    |    |    |    |    |    |    |    |-- ExpectedArrivalTime: string (nullable = true)\n",
      " |    |    |    |    |    |    |    |    |-- ExpectedDepartureTime: string (nullable = true)\n",
      " |    |    |    |    |    |    |    |    |-- Extensions: struct (nullable = true)\n",
      " |    |    |    |    |    |    |    |    |    |-- Distances: struct (nullable = true)\n",
      " |    |    |    |    |    |    |    |    |    |    |-- CallDistanceAlongRoute: double (nullable = true)\n",
      " |    |    |    |    |    |    |    |    |    |    |-- DistanceFromCall: double (nullable = true)\n",
      " |    |    |    |    |    |    |    |    |    |    |-- PresentableDistance: string (nullable = true)\n",
      " |    |    |    |    |    |    |    |    |    |    |-- StopsFromCall: long (nullable = true)\n",
      " |    |    |    |    |    |    |    |    |-- StopPointName: string (nullable = true)\n",
      " |    |    |    |    |    |    |    |    |-- StopPointRef: string (nullable = true)\n",
      " |    |    |    |    |    |    |    |    |-- VisitNumber: long (nullable = true)\n",
      " |    |    |    |    |    |    |    |-- OnwardCalls: struct (nullable = true)\n",
      " |    |    |    |    |    |    |    |    |-- OnwardCall: array (nullable = true)\n",
      " |    |    |    |    |    |    |    |    |    |-- element: struct (containsNull = true)\n",
      " |    |    |    |    |    |    |    |    |    |    |-- ExpectedArrivalTime: string (nullable = true)\n",
      " |    |    |    |    |    |    |    |    |    |    |-- ExpectedDepartureTime: string (nullable = true)\n",
      " |    |    |    |    |    |    |    |    |    |    |-- Extensions: struct (nullable = true)\n",
      " |    |    |    |    |    |    |    |    |    |    |    |-- Distances: struct (nullable = true)\n",
      " |    |    |    |    |    |    |    |    |    |    |    |    |-- CallDistanceAlongRoute: double (nullable = true)\n",
      " |    |    |    |    |    |    |    |    |    |    |    |    |-- DistanceFromCall: double (nullable = true)\n",
      " |    |    |    |    |    |    |    |    |    |    |    |    |-- PresentableDistance: string (nullable = true)\n",
      " |    |    |    |    |    |    |    |    |    |    |    |    |-- StopsFromCall: long (nullable = true)\n",
      " |    |    |    |    |    |    |    |    |    |    |-- StopPointName: string (nullable = true)\n",
      " |    |    |    |    |    |    |    |    |    |    |-- StopPointRef: string (nullable = true)\n",
      " |    |    |    |    |    |    |    |    |    |    |-- VisitNumber: long (nullable = true)\n",
      " |    |    |    |    |    |    |    |-- OperatorRef: string (nullable = true)\n",
      " |    |    |    |    |    |    |    |-- OriginAimedDepartureTime: string (nullable = true)\n",
      " |    |    |    |    |    |    |    |-- OriginRef: string (nullable = true)\n",
      " |    |    |    |    |    |    |    |-- ProgressRate: string (nullable = true)\n",
      " |    |    |    |    |    |    |    |-- ProgressStatus: string (nullable = true)\n",
      " |    |    |    |    |    |    |    |-- PublishedLineName: string (nullable = true)\n",
      " |    |    |    |    |    |    |    |-- SituationRef: array (nullable = true)\n",
      " |    |    |    |    |    |    |    |    |-- element: struct (containsNull = true)\n",
      " |    |    |    |    |    |    |    |    |    |-- SituationSimpleRef: string (nullable = true)\n",
      " |    |    |    |    |    |    |    |-- VehicleLocation: struct (nullable = true)\n",
      " |    |    |    |    |    |    |    |    |-- Latitude: double (nullable = true)\n",
      " |    |    |    |    |    |    |    |    |-- Longitude: double (nullable = true)\n",
      " |    |    |    |    |    |    |    |-- VehicleRef: string (nullable = true)\n",
      " |    |    |    |    |    |    |-- RecordedAtTime: string (nullable = true)\n",
      "\n"
     ]
    }
   ],
   "source": [
    "bus.printSchema()"
   ]
  },
  {
   "cell_type": "markdown",
   "metadata": {},
   "source": [
    "## load and apply SQL Query"
   ]
  },
  {
   "cell_type": "code",
   "execution_count": 4,
   "metadata": {
    "collapsed": false
   },
   "outputs": [],
   "source": [
    "with open(\"spark_extract.sql\") as fr:\n",
    "     query = fr.read()\n",
    "output = sqlContext.sql(query)"
   ]
  },
  {
   "cell_type": "markdown",
   "metadata": {},
   "source": [
    "## Flatten the list"
   ]
  },
  {
   "cell_type": "markdown",
   "metadata": {},
   "source": [
    "### Method A"
   ]
  },
  {
   "cell_type": "code",
   "execution_count": 5,
   "metadata": {
    "collapsed": false
   },
   "outputs": [],
   "source": [
    "import itertools\n",
    "def extract(parts):\n",
    "    for p in parts:\n",
    "        for o in itertools.izip(p.Line,p.Latitude,p.Longitude,p.RecordedAtTime,p.vehicleID,p.Trip,p.TripDate):\n",
    "            yield o"
   ]
  },
  {
   "cell_type": "markdown",
   "metadata": {},
   "source": [
    "### Method B"
   ]
  },
  {
   "cell_type": "code",
   "execution_count": 110,
   "metadata": {
    "collapsed": false
   },
   "outputs": [],
   "source": [
    "def parse_list(p):\n",
    "    if p.Line!=None:\n",
    "        return zip(p.ROUTE_ID,p.latitude,p.longitude,p.recorded_time\\\n",
    "                   ,p.vehicle_id,p.TRIP_ID,p.tripdate,p.SHAPE_ID\\\n",
    "                   ,p.STOP_ID,p.distance_stop,p.distance_shape,p.status,p.destination)\n",
    "    else:\n",
    "        return []"
   ]
  },
  {
   "cell_type": "markdown",
   "metadata": {},
   "source": [
    "## Tranfer time to Unix time for interpolatation"
   ]
  },
  {
   "cell_type": "code",
   "execution_count": 7,
   "metadata": {
    "collapsed": true
   },
   "outputs": [],
   "source": [
    "import time\n",
    "import dateutil.parser\n",
    "def unix_time(x):\n",
    "    dt = dateutil.parser.parse(x)\n",
    "    return time.mktime(dt.timetuple())"
   ]
  },
  {
   "cell_type": "markdown",
   "metadata": {},
   "source": [
    "## Interpolate function"
   ]
  },
  {
   "cell_type": "markdown",
   "metadata": {},
   "source": [
    "## Method A"
   ]
  },
  {
   "cell_type": "code",
   "execution_count": 93,
   "metadata": {
    "collapsed": false
   },
   "outputs": [],
   "source": [
    "from scipy.interpolate import interp1d # import dependency\n",
    "def predict(x):\n",
    "    pre_x = [p[-2] for p in x if p[-2]!=None] # use distance as x to train\n",
    "    if len(pre_x) >= 2:\n",
    "        pre_y = [unix_time(p[3]) for p in x if p[-2]!=None] # use time as y to train\n",
    "        f = interp1d(pre_x, pre_y) #train the interpolation\n",
    "    else:\n",
    "        return []\n",
    "    return [(p[0],p[5],p[-4],f(p[-2]+p[-3])) for p in x if p[-2]!=None and (p[-2]+p[-3]) <= pre_x[-1]] #apply interpolation"
   ]
  },
  {
   "cell_type": "markdown",
   "metadata": {},
   "source": [
    "## method b"
   ]
  },
  {
   "cell_type": "code",
   "execution_count": 87,
   "metadata": {
    "collapsed": true
   },
   "outputs": [],
   "source": [
    "from scipy.interpolate import interp1d\n",
    "def predict_map(x):\n",
    "    train_y = [unix_time(p[3]) for p in x if p[-2]!=None ]\n",
    "    if len(train_y) >= 2:\n",
    "        train_x = [p[-2] for p in x if p[-2]!=None]\n",
    "        f = interp1d(train_x, train_y)\n",
    "        distance = [(p[-2]+p[-3]) for p in x \\\n",
    "                    if (p[-2]!=None and p[-3]!=None) and (p[-2]+p[-3]) <= train_x[-1]]\n",
    "        stoptimes = f(distance)\n",
    "        stops = [p[-4] for p in x if p[-2]!=None]\n",
    "    else:\n",
    "        return[]\n",
    "    return map(lambda a,b: (a,b), stops,stoptimes)\n",
    "    #return [(p[-4],f(p[-2]+p[-3])) for p in x if (p[-2]!=None and p[-3]!=None) and (p[-2]+p[-3]) <= pre_x[-1]] "
   ]
  },
  {
   "cell_type": "markdown",
   "metadata": {},
   "source": [
    "## Groupby Date and Line & Apply Interpolation"
   ]
  },
  {
   "cell_type": "markdown",
   "metadata": {},
   "source": [
    "## Simple Extraction"
   ]
  },
  {
   "cell_type": "code",
   "execution_count": 105,
   "metadata": {
    "collapsed": false
   },
   "outputs": [
    {
     "data": {
      "text/plain": [
       "[(u'MTA NYCT_Q76',\n",
       "  40.753476,\n",
       "  -73.780631,\n",
       "  u'2015-12-30T18:59:41.621-05:00',\n",
       "  u'MTA NYCT_7424',\n",
       "  u'MTA NYCT_CS_W5-Weekday-111000_MISC_843',\n",
       "  u'2015-12-30',\n",
       "  u'MTA_Q760118',\n",
       "  u'MTA_502697',\n",
       "  16.14,\n",
       "  7903.95,\n",
       "  u'at stop'),\n",
       " (u'MTA NYCT_B67',\n",
       "  40.664322,\n",
       "  -73.983724,\n",
       "  u'2015-12-30T18:59:52.000-05:00',\n",
       "  u'MTA NYCT_406',\n",
       "  u'MTA NYCT_JG_W5-Weekday-109900_B6769_24',\n",
       "  u'2015-12-30',\n",
       "  u'MTA_B670106',\n",
       "  u'MTA_305679',\n",
       "  12.05,\n",
       "  8002.2,\n",
       "  u'at stop')]"
      ]
     },
     "execution_count": 105,
     "metadata": {},
     "output_type": "execute_result"
    }
   ],
   "source": [
    "output.flatMap(parse_list)\\\n",
    "      .take(2)"
   ]
  },
  {
   "cell_type": "markdown",
   "metadata": {},
   "source": [
    "## Group By TRIP_ID and Date"
   ]
  },
  {
   "cell_type": "code",
   "execution_count": 109,
   "metadata": {
    "collapsed": false
   },
   "outputs": [
    {
     "data": {
      "text/plain": [
       "[(u'MTA NYCT_Q46',\n",
       "  40.734032,\n",
       "  -73.756463,\n",
       "  u'2015-12-30T18:59:49.000-05:00',\n",
       "  u'MTA NYCT_9564',\n",
       "  u'MTA NYCT_QV_W5-Weekday-110900_Q46_6',\n",
       "  u'2015-12-30',\n",
       "  u'MTA_Q460137',\n",
       "  u'MTA_502327',\n",
       "  147.08,\n",
       "  7379.36,\n",
       "  u'approaching')]"
      ]
     },
     "execution_count": 109,
     "metadata": {},
     "output_type": "execute_result"
    }
   ],
   "source": [
    "output.flatMap(parse_list)\\\n",
    "      .map(lambda x:((x[5],x[6]),x)).groupByKey().mapValues(list) \\\n",
    "      .flatMap(lambda x: x[1])\\\n",
    "      .take(1)"
   ]
  },
  {
   "cell_type": "markdown",
   "metadata": {},
   "source": [
    "## Groupbykey and Apply Interpolation"
   ]
  },
  {
   "cell_type": "code",
   "execution_count": 107,
   "metadata": {
    "collapsed": false
   },
   "outputs": [
    {
     "data": {
      "text/plain": [
       "[(u'MTA NYCT_Q46',\n",
       "  u'MTA NYCT_QV_W5-Weekday-110900_Q46_6',\n",
       "  u'MTA_502327',\n",
       "  array(1451520016.346892)),\n",
       " (u'MTA NYCT_Q46',\n",
       "  u'MTA NYCT_QV_W5-Weekday-110900_Q46_6',\n",
       "  u'MTA_502331',\n",
       "  array(1451520119.0)),\n",
       " (u'MTA NYCT_Q20A',\n",
       "  u'MTA NYCT_CS_W5-Weekday-113900_MISC_769',\n",
       "  u'MTA_505023',\n",
       "  array(1451520122.033537)),\n",
       " (u'MTA NYCT_Q20A',\n",
       "  u'MTA NYCT_CS_W5-Weekday-113900_MISC_769',\n",
       "  u'MTA_505024',\n",
       "  array(1451520122.0558827)),\n",
       " (u'MTA NYCT_Q20A',\n",
       "  u'MTA NYCT_CS_W5-Weekday-113900_MISC_769',\n",
       "  u'MTA_505026',\n",
       "  array(1451520338.3900702)),\n",
       " (u'MTA NYCT_Q20A',\n",
       "  u'MTA NYCT_CS_W5-Weekday-113900_MISC_769',\n",
       "  u'MTA_505027',\n",
       "  array(1451520330.5580943)),\n",
       " (u'MTA NYCT_BX8',\n",
       "  u'MTA NYCT_WF_W5-Weekday-110800_BX8_13',\n",
       "  u'MTA_100947',\n",
       "  array(1451520014.054865)),\n",
       " (u'MTA NYCT_BX8',\n",
       "  u'MTA NYCT_WF_W5-Weekday-110800_BX8_13',\n",
       "  u'MTA_103181',\n",
       "  array(1451520125.8062081)),\n",
       " (u'MTA NYCT_BX8',\n",
       "  u'MTA NYCT_WF_W5-Weekday-110800_BX8_13',\n",
       "  u'MTA_103183',\n",
       "  array(1451520377.7902856)),\n",
       " (u'MTA NYCT_BX8',\n",
       "  u'MTA NYCT_WF_W5-Weekday-110800_BX8_13',\n",
       "  u'MTA_103183',\n",
       "  array(1451520315.7822244)),\n",
       " (u'MTA NYCT_BX10',\n",
       "  u'MTA NYCT_KB_W5-Weekday-111000_BX10_32',\n",
       "  u'MTA_103960',\n",
       "  array(1451519992.9190516)),\n",
       " (u'MTA NYCT_BX10',\n",
       "  u'MTA NYCT_KB_W5-Weekday-111000_BX10_32',\n",
       "  u'MTA_103966',\n",
       "  array(1451520201.7349436)),\n",
       " (u'MTA NYCT_BX10',\n",
       "  u'MTA NYCT_KB_W5-Weekday-111000_BX10_32',\n",
       "  u'MTA_103962',\n",
       "  array(1451520341.7645352)),\n",
       " (u'MTA NYCT_BX10',\n",
       "  u'MTA NYCT_KB_W5-Weekday-111000_BX10_32',\n",
       "  u'MTA_103954',\n",
       "  array(1451520347.1359773)),\n",
       " (u'MTA NYCT_B54',\n",
       "  u'MTA NYCT_FP_W5-Weekday-112600_B54_215',\n",
       "  u'MTA_306929',\n",
       "  array(1451520018.2893147)),\n",
       " (u'MTA NYCT_B54',\n",
       "  u'MTA NYCT_FP_W5-Weekday-112600_B54_215',\n",
       "  u'MTA_306927',\n",
       "  array(1451520130.383468)),\n",
       " (u'MTA NYCT_B54',\n",
       "  u'MTA NYCT_FP_W5-Weekday-112600_B54_215',\n",
       "  u'MTA_304391',\n",
       "  array(1451520299.9194305)),\n",
       " (u'MTA NYCT_B54',\n",
       "  u'MTA NYCT_FP_W5-Weekday-112600_B54_215',\n",
       "  u'MTA_304392',\n",
       "  array(1451520333.1772306)),\n",
       " (u'MTA NYCT_B6',\n",
       "  u'MTA NYCT_UP_W5-Weekday-109900_B6_291',\n",
       "  u'MTA_300628',\n",
       "  array(1451519989.797934)),\n",
       " (u'MTA NYCT_B6',\n",
       "  u'MTA NYCT_UP_W5-Weekday-109900_B6_291',\n",
       "  u'MTA_300632',\n",
       "  array(1451520146.1546507)),\n",
       " (u'MTA NYCT_M98',\n",
       "  u'MTA NYCT_MV_W5-Weekday-108000_M10_15',\n",
       "  u'MTA_403417',\n",
       "  array(1451520019.3164012)),\n",
       " (u'MTA NYCT_M98',\n",
       "  u'MTA NYCT_MV_W5-Weekday-108000_M10_15',\n",
       "  u'MTA_403418',\n",
       "  array(1451520285.8371317)),\n",
       " (u'MTA NYCT_M98',\n",
       "  u'MTA NYCT_MV_W5-Weekday-108000_M10_15',\n",
       "  u'MTA_403418',\n",
       "  array(1451520226.1121857)),\n",
       " (u'MTA NYCT_M98',\n",
       "  u'MTA NYCT_MV_W5-Weekday-108000_M10_15',\n",
       "  u'MTA_403419',\n",
       "  array(1451520364.750124)),\n",
       " (u'MTA NYCT_M9',\n",
       "  u'MTA NYCT_MQ_W5-Weekday-110500_M9_106',\n",
       "  u'MTA_402038',\n",
       "  array(1451520040.853921)),\n",
       " (u'MTA NYCT_M9',\n",
       "  u'MTA NYCT_MQ_W5-Weekday-110500_M9_106',\n",
       "  u'MTA_402039',\n",
       "  array(1451520193.8718576)),\n",
       " (u'MTA NYCT_M9',\n",
       "  u'MTA NYCT_MQ_W5-Weekday-110500_M9_106',\n",
       "  u'MTA_401630',\n",
       "  array(1451520198.2778058)),\n",
       " (u'MTA NYCT_M9',\n",
       "  u'MTA NYCT_MQ_W5-Weekday-110500_M9_106',\n",
       "  u'MTA_402043',\n",
       "  array(1451520324.1603003)),\n",
       " (u'MTA NYCT_BX15',\n",
       "  u'MTA NYCT_KB_W5-Weekday-110600_BX15_419',\n",
       "  u'MTA_101062',\n",
       "  array(1451520005.6914308)),\n",
       " (u'MTA NYCT_BX15',\n",
       "  u'MTA NYCT_KB_W5-Weekday-110600_BX15_419',\n",
       "  u'MTA_101066',\n",
       "  array(1451520424.0)),\n",
       " (u'MTA NYCT_M5',\n",
       "  u'MTA NYCT_MV_W5-Weekday-105000_M5_245',\n",
       "  u'MTA_400622',\n",
       "  array(1451520093.24)),\n",
       " (u'MTA NYCT_B38',\n",
       "  u'MTA NYCT_FP_W5-Weekday-110600_B38_127',\n",
       "  u'MTA_303039',\n",
       "  array(1451520160.366287)),\n",
       " (u'MTA NYCT_B38',\n",
       "  u'MTA NYCT_FP_W5-Weekday-110600_B38_127',\n",
       "  u'MTA_303040',\n",
       "  array(1451520140.8993866)),\n",
       " (u'MTA NYCT_B38',\n",
       "  u'MTA NYCT_FP_W5-Weekday-110600_B38_127',\n",
       "  u'MTA_303041',\n",
       "  array(1451520198.9360528)),\n",
       " (u'MTA NYCT_BX1',\n",
       "  u'MTA NYCT_KB_W5-Weekday-113400_BX1_139',\n",
       "  u'MTA_100019',\n",
       "  array(1451520012.4117563)),\n",
       " (u'MTA NYCT_BX1',\n",
       "  u'MTA NYCT_KB_W5-Weekday-113400_BX1_139',\n",
       "  u'MTA_100021',\n",
       "  array(1451520259.4507873)),\n",
       " (u'MTA NYCT_BX1',\n",
       "  u'MTA NYCT_KB_W5-Weekday-113400_BX1_139',\n",
       "  u'MTA_100021',\n",
       "  array(1451520226.5118253)),\n",
       " (u'MTA NYCT_BX36',\n",
       "  u'MTA NYCT_WF_W5-Weekday-113800_BX36_163',\n",
       "  u'MTA_400799',\n",
       "  array(1451519998.2173674)),\n",
       " (u'MTA NYCT_BX36',\n",
       "  u'MTA NYCT_WF_W5-Weekday-113800_BX36_163',\n",
       "  u'MTA_403783',\n",
       "  array(1451520147.725375)),\n",
       " (u'MTA NYCT_BX36',\n",
       "  u'MTA NYCT_WF_W5-Weekday-113800_BX36_163',\n",
       "  u'MTA_403667',\n",
       "  array(1451520005.7857537)),\n",
       " (u'MTA NYCT_BX36',\n",
       "  u'MTA NYCT_WF_W5-Weekday-113800_BX36_163',\n",
       "  u'MTA_403656',\n",
       "  array(1451520407.9931636)),\n",
       " (u'MTA NYCT_BX36',\n",
       "  u'MTA NYCT_WF_W5-Weekday-113800_BX36_163',\n",
       "  u'MTA_403667',\n",
       "  array(1451520084.800552)),\n",
       " (u'MTA NYCT_BX36',\n",
       "  u'MTA NYCT_WF_W5-Weekday-113800_BX36_163',\n",
       "  u'MTA_403656',\n",
       "  array(1451520307.4142313)),\n",
       " (u'MTA NYCT_M102',\n",
       "  u'MTA NYCT_OH_W5-Weekday-107500_M101_140',\n",
       "  u'MTA_402841',\n",
       "  array(1451519986.3213985)),\n",
       " (u'MTA NYCT_BX5',\n",
       "  u'MTA NYCT_GH_W5-Weekday-112800_BX5_324',\n",
       "  u'MTA_101557',\n",
       "  array(1451520016.6963174)),\n",
       " (u'MTA NYCT_BX5',\n",
       "  u'MTA NYCT_GH_W5-Weekday-112800_BX5_324',\n",
       "  u'MTA_104057',\n",
       "  array(1451520157.2029283)),\n",
       " (u'MTA NYCT_BX5',\n",
       "  u'MTA NYCT_GH_W5-Weekday-112800_BX5_324',\n",
       "  u'MTA_102985',\n",
       "  array(1451520395.1519854)),\n",
       " (u'MTA NYCT_BX5',\n",
       "  u'MTA NYCT_GH_W5-Weekday-112800_BX5_324',\n",
       "  u'MTA_102985',\n",
       "  array(1451520328.3042297)),\n",
       " (u'MTA NYCT_BX12',\n",
       "  u'MTA NYCT_GH_W5-Weekday-113400_BX12_25',\n",
       "  u'MTA_104240',\n",
       "  array(1451520113.0897539)),\n",
       " (u'MTA NYCT_BX12',\n",
       "  u'MTA NYCT_GH_W5-Weekday-113400_BX12_25',\n",
       "  u'MTA_104240',\n",
       "  array(1451520098.288324)),\n",
       " (u'MTA NYCT_BX12',\n",
       "  u'MTA NYCT_GH_W5-Weekday-113400_BX12_25',\n",
       "  u'MTA_104015',\n",
       "  array(1451520379.820317)),\n",
       " (u'MTA NYCT_BX12',\n",
       "  u'MTA NYCT_GH_W5-Weekday-113400_BX12_25',\n",
       "  u'MTA_104015',\n",
       "  array(1451520322.8816533)),\n",
       " (u'MTA NYCT_BX2',\n",
       "  u'MTA NYCT_KB_W5-Weekday-113400_BX2_218',\n",
       "  u'MTA_103595',\n",
       "  array(1451520037.7028265)),\n",
       " (u'MTA NYCT_BX2',\n",
       "  u'MTA NYCT_KB_W5-Weekday-113400_BX2_218',\n",
       "  u'MTA_103912',\n",
       "  array(1451520151.0754766)),\n",
       " (u'MTA NYCT_BX2',\n",
       "  u'MTA NYCT_KB_W5-Weekday-113400_BX2_218',\n",
       "  u'MTA_100096',\n",
       "  array(1451520298.7438133)),\n",
       " (u'MTA NYCT_BX2',\n",
       "  u'MTA NYCT_KB_W5-Weekday-113400_BX2_218',\n",
       "  u'MTA_103722',\n",
       "  array(1451520390.2057173)),\n",
       " (u'MTA NYCT_Q5',\n",
       "  u'MTA NYCT_JA_W5-Weekday-113300_MISC_515',\n",
       "  u'MTA_504467',\n",
       "  array(1451520115.8851912)),\n",
       " (u'MTA NYCT_Q5',\n",
       "  u'MTA NYCT_JA_W5-Weekday-113300_MISC_515',\n",
       "  u'MTA_504467',\n",
       "  array(1451520106.1843991)),\n",
       " (u'MTA NYCT_M15+',\n",
       "  u'MTA NYCT_OF_W5-Weekday-106700_SBS15_445',\n",
       "  u'MTA_803078',\n",
       "  array(1451520251.0262132)),\n",
       " (u'MTA NYCT_M15+',\n",
       "  u'MTA NYCT_OF_W5-Weekday-106700_SBS15_445',\n",
       "  u'MTA_803078',\n",
       "  array(1451520220.2206585)),\n",
       " (u'MTA NYCT_BX6',\n",
       "  u'MTA NYCT_WF_W5-Weekday-110900_BX6_49',\n",
       "  u'MTA_103807',\n",
       "  array(1451520000.165163)),\n",
       " (u'MTA NYCT_B41',\n",
       "  u'MTA NYCT_FB_W5-Weekday-105900_B41_46',\n",
       "  u'MTA_303241',\n",
       "  array(1451520005.243646)),\n",
       " (u'MTA NYCT_B41',\n",
       "  u'MTA NYCT_FB_W5-Weekday-105900_B41_46',\n",
       "  u'MTA_303242',\n",
       "  array(1451520139.9251142)),\n",
       " (u'MTA NYCT_B41',\n",
       "  u'MTA NYCT_FB_W5-Weekday-105900_B41_46',\n",
       "  u'MTA_303243',\n",
       "  array(1451520275.6447518)),\n",
       " (u'MTA NYCT_B41',\n",
       "  u'MTA NYCT_FB_W5-Weekday-105900_B41_46',\n",
       "  u'MTA_303244',\n",
       "  array(1451520321.7080433)),\n",
       " (u'MTA NYCT_B35',\n",
       "  u'MTA NYCT_JG_W5-Weekday-110400_B35_69',\n",
       "  u'MTA_302715',\n",
       "  array(1451519983.7324686)),\n",
       " (u'MTA NYCT_B35',\n",
       "  u'MTA NYCT_JG_W5-Weekday-110400_B35_69',\n",
       "  u'MTA_302717',\n",
       "  array(1451520120.7294216)),\n",
       " (u'MTA NYCT_B35',\n",
       "  u'MTA NYCT_JG_W5-Weekday-110400_B35_69',\n",
       "  u'MTA_302719',\n",
       "  array(1451520242.5543504)),\n",
       " (u'MTA NYCT_B35',\n",
       "  u'MTA NYCT_JG_W5-Weekday-110400_B35_69',\n",
       "  u'MTA_306838',\n",
       "  array(1451520423.0)),\n",
       " (u'MTA NYCT_BX8',\n",
       "  u'MTA NYCT_WF_W5-Weekday-111000_BX8_20',\n",
       "  u'MTA_100493',\n",
       "  array(1451520314.7502491)),\n",
       " (u'MTA NYCT_BX8',\n",
       "  u'MTA NYCT_WF_W5-Weekday-111000_BX8_20',\n",
       "  u'MTA_100494',\n",
       "  array(1451520307.3029742)),\n",
       " (u'MTA NYCT_BX7',\n",
       "  u'MTA NYCT_KB_W5-Weekday-108200_BX7_23',\n",
       "  u'MTA_404140',\n",
       "  array(1451520189.0)),\n",
       " (u'MTA NYCT_BX7',\n",
       "  u'MTA NYCT_KB_W5-Weekday-108200_BX7_23',\n",
       "  u'MTA_404140',\n",
       "  array(1451520189.0)),\n",
       " (u'MTA NYCT_BX7',\n",
       "  u'MTA NYCT_KB_W5-Weekday-108200_BX7_23',\n",
       "  u'MTA_404140',\n",
       "  array(1451520189.0)),\n",
       " (u'MTA NYCT_B46',\n",
       "  u'MTA NYCT_FB_W5-Weekday-113100_B46_90',\n",
       "  u'MTA_306304',\n",
       "  array(1451519989.1693306)),\n",
       " (u'MTA NYCT_B46',\n",
       "  u'MTA NYCT_FB_W5-Weekday-113100_B46_90',\n",
       "  u'MTA_303683',\n",
       "  array(1451520185.1065032)),\n",
       " (u'MTA NYCT_B46',\n",
       "  u'MTA NYCT_FB_W5-Weekday-113100_B46_90',\n",
       "  u'MTA_303685',\n",
       "  array(1451520306.6866772)),\n",
       " (u'MTA NYCT_B46',\n",
       "  u'MTA NYCT_FB_W5-Weekday-113100_B46_90',\n",
       "  u'MTA_303686',\n",
       "  array(1451520428.0)),\n",
       " (u'MTA NYCT_S91',\n",
       "  u'MTA NYCT_YU_E5-Weekday-109500_S6191_13',\n",
       "  u'MTA_202720',\n",
       "  array(1451520014.7382216)),\n",
       " (u'MTA NYCT_S91',\n",
       "  u'MTA NYCT_YU_E5-Weekday-109500_S6191_13',\n",
       "  u'MTA_202991',\n",
       "  array(1451520148.7936177)),\n",
       " (u'MTA NYCT_S91',\n",
       "  u'MTA NYCT_YU_E5-Weekday-109500_S6191_13',\n",
       "  u'MTA_202931',\n",
       "  array(1451520219.859836)),\n",
       " (u'MTA NYCT_S91',\n",
       "  u'MTA NYCT_YU_E5-Weekday-109500_S6191_13',\n",
       "  u'MTA_202849',\n",
       "  array(1451520347.163885)),\n",
       " (u'MTA NYCT_S91',\n",
       "  u'MTA NYCT_YU_E5-Weekday-109500_S6191_13',\n",
       "  u'MTA_202850',\n",
       "  array(1451520423.0)),\n",
       " (u'MTA NYCT_M103',\n",
       "  u'MTA NYCT_OH_W5-Weekday-107000_M101_116',\n",
       "  u'MTA_402861',\n",
       "  array(1451520076.526668)),\n",
       " (u'MTA NYCT_M103',\n",
       "  u'MTA NYCT_OH_W5-Weekday-107000_M101_116',\n",
       "  u'MTA_402862',\n",
       "  array(1451520026.9589722)),\n",
       " (u'MTA NYCT_M103',\n",
       "  u'MTA NYCT_OH_W5-Weekday-107000_M101_116',\n",
       "  u'MTA_402862',\n",
       "  array(1451520153.6466205)),\n",
       " (u'MTA NYCT_S55',\n",
       "  u'MTA NYCT_CH_E5-Weekday-113000_MISC_848',\n",
       "  u'MTA_203648',\n",
       "  array(1451520022.756553)),\n",
       " (u'MTA NYCT_S55',\n",
       "  u'MTA NYCT_CH_E5-Weekday-113000_MISC_848',\n",
       "  u'MTA_203078',\n",
       "  array(1451520104.7907069)),\n",
       " (u'MTA NYCT_S55',\n",
       "  u'MTA NYCT_CH_E5-Weekday-113000_MISC_848',\n",
       "  u'MTA_200460',\n",
       "  array(1451520371.5862236)),\n",
       " (u'MTA NYCT_M7',\n",
       "  u'MTA NYCT_OF_W5-Weekday-105000_M7_228',\n",
       "  u'MTA_405297',\n",
       "  array(1451520212.4137468)),\n",
       " (u'MTA NYCT_M7',\n",
       "  u'MTA NYCT_OF_W5-Weekday-105000_M7_228',\n",
       "  u'MTA_405297',\n",
       "  array(1451520135.5059013)),\n",
       " (u'MTA NYCT_M7',\n",
       "  u'MTA NYCT_OF_W5-Weekday-105000_M7_228',\n",
       "  u'MTA_404153',\n",
       "  array(1451520210.7300546)),\n",
       " (u'MTA NYCT_M7',\n",
       "  u'MTA NYCT_OF_W5-Weekday-105000_M7_228',\n",
       "  u'MTA_401360',\n",
       "  array(1451520428.0)),\n",
       " (u'MTA NYCT_M101',\n",
       "  u'MTA NYCT_OH_W5-Weekday-108600_M101_117',\n",
       "  u'MTA_402660',\n",
       "  array(1451520061.7038329)),\n",
       " (u'MTA NYCT_M101',\n",
       "  u'MTA NYCT_OH_W5-Weekday-108600_M101_117',\n",
       "  u'MTA_402662',\n",
       "  array(1451520175.7350988)),\n",
       " (u'MTA NYCT_M101',\n",
       "  u'MTA NYCT_OH_W5-Weekday-108600_M101_117',\n",
       "  u'MTA_404255',\n",
       "  array(1451520225.2987206)),\n",
       " (u'MTA NYCT_B46',\n",
       "  u'MTA NYCT_FB_W5-Weekday-114100_B46_67',\n",
       "  u'MTA_303601',\n",
       "  array(1451520222.8657625)),\n",
       " (u'MTA NYCT_B46',\n",
       "  u'MTA NYCT_FB_W5-Weekday-114100_B46_67',\n",
       "  u'MTA_303603',\n",
       "  array(1451520346.0958374)),\n",
       " (u'MTA NYCT_X30',\n",
       "  u'MTA NYCT_MA_E5-Weekday-109500_MISC_661',\n",
       "  u'MTA_403830',\n",
       "  array(1451520312.8471582)),\n",
       " (u'MTA NYCT_X30',\n",
       "  u'MTA NYCT_MA_E5-Weekday-109500_MISC_661',\n",
       "  u'MTA_403830',\n",
       "  array(1451520258.101784))]"
      ]
     },
     "execution_count": 107,
     "metadata": {},
     "output_type": "execute_result"
    }
   ],
   "source": [
    "output.flatMap(parse_list)\\\n",
    "      .map(lambda x:((x[5],x[6]),x)).groupByKey() \\\n",
    "      .flatMap(lambda x: predict(x[1]))\\\n",
    "       .take(100)"
   ]
  },
  {
   "cell_type": "markdown",
   "metadata": {},
   "source": [
    "## Remove the prefix, timezones and save as CSV"
   ]
  },
  {
   "cell_type": "code",
   "execution_count": null,
   "metadata": {
    "collapsed": true
   },
   "outputs": [],
   "source": [
    "output.flatMap(parse_list)\\\n",
    "      .map(lambda x: \",\".join(map(str, x)))\\\n",
    "      .map(lambda x: x.replace('MTA NYCT_', '').replace('MTABC_','').replace('MTA_','').replace('-05:00',''))\\\n",
    "      .saveAsTextFile(sys.argv[-1])"
   ]
  },
  {
   "cell_type": "markdown",
   "metadata": {},
   "source": [
    "# Read From CSV and SQL Manupilation"
   ]
  },
  {
   "cell_type": "markdown",
   "metadata": {},
   "source": [
    "## Import dependencies"
   ]
  },
  {
   "cell_type": "code",
   "execution_count": 112,
   "metadata": {
    "collapsed": true
   },
   "outputs": [],
   "source": [
    "from pyspark.sql.types import *"
   ]
  },
  {
   "cell_type": "markdown",
   "metadata": {},
   "source": [
    "## Reset Schemas and Indexing"
   ]
  },
  {
   "cell_type": "code",
   "execution_count": 113,
   "metadata": {
    "collapsed": false
   },
   "outputs": [],
   "source": [
    "customSchema = StructType([StructField(\"ROUTE_ID\", StringType(), True),\\\n",
    "                           StructField(\"latitude\", DoubleType(), True),\\\n",
    "                           StructField(\"longitude\", DoubleType(), True),\\\n",
    "                           StructField(\"recorded_time\", StringType(), True),\\\n",
    "                           StructField(\"vehicle_id\", StringType(), True),\\\n",
    "                           StructField(\"TRIP_ID\", StringType(), True),\\\n",
    "                           StructField(\"tripdate\", DateType(), True),\\\n",
    "                           StructField(\"SHAPE_ID\", StringType(), True),\\\n",
    "                           StructField(\"STOP_ID\", StringType(), True),\\\n",
    "                           StructField(\"distance_stop\", DoubleType(), True),\\\n",
    "                           StructField(\"distance_shape\", DoubleType(), True),\\\n",
    "                           StructField(\"status\", StringType(), True),\\\n",
    "                           StructField(\"destination\", StringType(), True)])             "
   ]
  },
  {
   "cell_type": "markdown",
   "metadata": {},
   "source": [
    "## Use CSV=>DF tool to read saved csv"
   ]
  },
  {
   "cell_type": "code",
   "execution_count": 115,
   "metadata": {
    "collapsed": false,
    "scrolled": true
   },
   "outputs": [],
   "source": [
    "record = sqlContext.read.format('com.databricks.spark.csv').options(header='true').load('final.csv', schema = customSchema)"
   ]
  },
  {
   "cell_type": "code",
   "execution_count": 116,
   "metadata": {
    "collapsed": true
   },
   "outputs": [],
   "source": [
    "record.registerTempTable('record')"
   ]
  },
  {
   "cell_type": "code",
   "execution_count": 117,
   "metadata": {
    "collapsed": false
   },
   "outputs": [],
   "source": [
    "import pyspark.sql.functions as f"
   ]
  },
  {
   "cell_type": "markdown",
   "metadata": {},
   "source": [
    "## Time Tansfer to UnixTimeStamp"
   ]
  },
  {
   "cell_type": "markdown",
   "metadata": {},
   "source": [
    "## Calculate the trips of each line of everyday to test the data intergrety"
   ]
  },
  {
   "cell_type": "code",
   "execution_count": 136,
   "metadata": {
    "collapsed": false
   },
   "outputs": [],
   "source": [
    "gaps = sqlContext.sql('SELECT Route_Id, tripdate, count(recorded_time) AS trips\\\n",
    "                       FROM record\\\n",
    "                       GROUP BY Route_Id, tripdate\\\n",
    "                       ORDER BY tripdate DESC') #apply sql Query"
   ]
  },
  {
   "cell_type": "code",
   "execution_count": 137,
   "metadata": {
    "collapsed": false
   },
   "outputs": [
    {
     "name": "stdout",
     "output_type": "stream",
     "text": [
      "+--------+----------+-----+\n",
      "|Route_Id|  tripdate|trips|\n",
      "+--------+----------+-----+\n",
      "|     M79|2015-12-30|   40|\n",
      "|     S98|2015-12-30|   14|\n",
      "|      Q3|2015-12-30|   42|\n",
      "+--------+----------+-----+\n",
      "only showing top 3 rows\n",
      "\n"
     ]
    }
   ],
   "source": [
    "gaps.show(3)"
   ]
  },
  {
   "cell_type": "markdown",
   "metadata": {},
   "source": [
    "## Next Step _ Merge Data from Stoptimes to interpolated times"
   ]
  },
  {
   "cell_type": "code",
   "execution_count": null,
   "metadata": {
    "collapsed": false
   },
   "outputs": [],
   "source": [
    "combine = sqlContext.sql(\n",
    "    'SELECT record.TripRef, record.Stop_ID, record.RecordedAtTime \\\n",
    "    FROM record \\\n",
    "    JOIN stop_times \\\n",
    "    on (record.Stop_ID = stop_times.stop_id AND record.TripRef = stop_times.trip_id)')"
   ]
  },
  {
   "cell_type": "code",
   "execution_count": null,
   "metadata": {
    "collapsed": false
   },
   "outputs": [],
   "source": [
    "#output_df = output1.toDF(['Line','Lat','Lon','Recordtime','ID','Trip','TripDate'])"
   ]
  },
  {
   "cell_type": "code",
   "execution_count": null,
   "metadata": {
    "collapsed": false
   },
   "outputs": [],
   "source": [
    "#output_df.show()"
   ]
  },
  {
   "cell_type": "code",
   "execution_count": null,
   "metadata": {
    "collapsed": true
   },
   "outputs": [],
   "source": []
  }
 ],
 "metadata": {
  "kernelspec": {
   "display_name": "Python 2",
   "language": "python",
   "name": "python2"
  },
  "language_info": {
   "codemirror_mode": {
    "name": "ipython",
    "version": 2
   },
   "file_extension": ".py",
   "mimetype": "text/x-python",
   "name": "python",
   "nbconvert_exporter": "python",
   "pygments_lexer": "ipython2",
   "version": "2.7.11"
  }
 },
 "nbformat": 4,
 "nbformat_minor": 0
}
