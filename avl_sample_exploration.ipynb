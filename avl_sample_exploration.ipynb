{
 "cells": [
  {
   "cell_type": "markdown",
   "metadata": {},
   "source": [
    "## BusTime sample exploration of gaps in quasi-continuous vehicle data streams.\n",
    "Ground-truth data sources (e.g. samples from MTA, DOT shown in the dot_sample_exploration.ipynb) indicate that the vehicles reliably submit data approximately every 30 seconds, with less than 1% failure. \n",
    "\n",
    "This explores the quality of our data feed.  A \"gap\" is defined as longer than 33 seconds between vehicle pings, as captured in our data.  We know there are delays in the Siri API responses, so we can measure how many of the expected intermediate pings were lost because of the API problems."
   ]
  },
  {
   "cell_type": "code",
   "execution_count": 1,
   "metadata": {
    "collapsed": false
   },
   "outputs": [],
   "source": [
    "import os\n",
    "import pandas as pd\n",
    "import numpy as np\n",
    "import sys\n",
    "sys.path.append('/gpfs2/projects/project-bus_capstone_2016/workspace/mu529/Bus-Capstone')\n",
    "import ttools\n",
    "os.chdir('/gpfs2/projects/project-bus_capstone_2016/workspace/share')\n",
    "%matplotlib inline"
   ]
  },
  {
   "cell_type": "code",
   "execution_count": 2,
   "metadata": {
    "collapsed": true
   },
   "outputs": [],
   "source": [
    "# import sample and slice one day\n",
    "avl_data = pd.read_csv('newdata_parsed.csv')\n",
    "oneday = avl_data.query('TripDate==\"2016-06-13\"')\n",
    "del avl_data"
   ]
  },
  {
   "cell_type": "code",
   "execution_count": 3,
   "metadata": {
    "collapsed": false
   },
   "outputs": [],
   "source": [
    "# organize the data: sort, drop duplicates, and parse vehicle timestamps\n",
    "oneday = oneday.sort(columns=['vehicleID','RecordedAtTime'])\n",
    "oneday.drop_duplicates(subset=['vehicleID','RecordedAtTime','Latitude','Longitude'],inplace=True)\n",
    "oneday['RecordedAtTime_parsed'] = oneday.RecordedAtTime.apply(ttools.parseActualTime,tdate='2016-06-13')\n",
    "# Also add a column showing the time since the previous ping from the same vehicle.\n",
    "oneday['TimeSinceLastPing'] = oneday.RecordedAtTime_parsed.diff()"
   ]
  },
  {
   "cell_type": "code",
   "execution_count": 7,
   "metadata": {
    "collapsed": false
   },
   "outputs": [
    {
     "data": {
      "text/plain": [
       "Line         Trip                                        TripDate    vehicleID    \n",
       "MTA NYCT_B1  MTA NYCT_FB_B6-Weekday-SDon-044500_B49_21   2016-06-13  MTA NYCT_4583     13\n",
       "             MTA NYCT_FB_B6-Weekday-SDon-047300_B49_15   2016-06-13  MTA NYCT_4621      8\n",
       "             MTA NYCT_FB_B6-Weekday-SDon-047400_B49_21   2016-06-13  MTA NYCT_4583      8\n",
       "             MTA NYCT_FB_B6-Weekday-SDon-051000_B49_15   2016-06-13  MTA NYCT_4621     37\n",
       "             MTA NYCT_FB_B6-Weekday-SDon-051200_B49_21   2016-06-13  MTA NYCT_4583     42\n",
       "                                                                     MTA NYCT_4988      1\n",
       "             MTA NYCT_UP_B6-Weekday-SDon-009800_B1_1     2016-06-13  MTA NYCT_4858     21\n",
       "             MTA NYCT_UP_B6-Weekday-SDon-010000_B1_2     2016-06-13  MTA NYCT_7153      4\n",
       "             MTA NYCT_UP_B6-Weekday-SDon-013800_B1_2     2016-06-13  MTA NYCT_7153     82\n",
       "             MTA NYCT_UP_B6-Weekday-SDon-014000_B1_1     2016-06-13  MTA NYCT_4858     63\n",
       "             MTA NYCT_UP_B6-Weekday-SDon-017800_B1_1     2016-06-13  MTA NYCT_4858     72\n",
       "             MTA NYCT_UP_B6-Weekday-SDon-018000_B1_2     2016-06-13  MTA NYCT_7153     65\n",
       "             MTA NYCT_UP_B6-Weekday-SDon-021800_B1_2     2016-06-13  MTA NYCT_7153    154\n",
       "             MTA NYCT_UP_B6-Weekday-SDon-022000_B1_1     2016-06-13  MTA NYCT_4858     62\n",
       "             MTA NYCT_UP_B6-Weekday-SDon-025500_B1_3     2016-06-13  MTA NYCT_7149     50\n",
       "             MTA NYCT_UP_B6-Weekday-SDon-025800_B1_1     2016-06-13  MTA NYCT_4858     45\n",
       "                                                                     MTA NYCT_4877      4\n",
       "                                                                     MTA NYCT_7173      3\n",
       "             MTA NYCT_UP_B6-Weekday-SDon-028000_B1_4     2016-06-13  MTA NYCT_4877     61\n",
       "                                                                     MTA NYCT_7173      3\n",
       "             MTA NYCT_UP_B6-Weekday-SDon-029400_B1_3     2016-06-13  MTA NYCT_4867      8\n",
       "                                                                     MTA NYCT_7149     84\n",
       "             MTA NYCT_UP_B6-Weekday-SDon-030500_B1_5     2016-06-13  MTA NYCT_7173     40\n",
       "             MTA NYCT_UP_B6-Weekday-SDon-032400_B1_4     2016-06-13  MTA NYCT_4877     61\n",
       "             MTA NYCT_UP_B6-Weekday-SDon-033000_B1_2     2016-06-13  MTA NYCT_7153     46\n",
       "             MTA NYCT_UP_B6-Weekday-SDon-034500_B1_3     2016-06-13  MTA NYCT_4867     13\n",
       "                                                                     MTA NYCT_7149     46\n",
       "             MTA NYCT_UP_B6-Weekday-SDon-035100_B1_5     2016-06-13  MTA NYCT_4862      1\n",
       "                                                                     MTA NYCT_7173     69\n",
       "             MTA NYCT_UP_B6-Weekday-SDon-036000_B1_6     2016-06-13  MTA NYCT_4867     65\n",
       "                                                                                     ... \n",
       "MTABC_QM7    MTABC_12056797-CPPB6-CP_B6-Weekday-10-SDon  2016-06-13  MTABC_3214       110\n",
       "             MTABC_12056798-CPPB6-CP_B6-Weekday-10-SDon  2016-06-13  MTABC_2209       125\n",
       "                                                                     MTABC_3000        38\n",
       "             MTABC_12056799-CPPB6-CP_B6-Weekday-10-SDon  2016-06-13  MTABC_3213       114\n",
       "MTABC_QM8    MTABC_12056851-CPPB6-CP_B6-Weekday-10-SDon  2016-06-13  MTABC_3051       166\n",
       "                                                                     MTABC_3192         3\n",
       "             MTABC_12056852-CPPB6-CP_B6-Weekday-10-SDon  2016-06-13  MTABC_3132       146\n",
       "                                                                     MTABC_3192        18\n",
       "             MTABC_12056853-CPPB6-CP_B6-Weekday-10-SDon  2016-06-13  MTABC_3007        14\n",
       "                                                                     MTABC_3020         4\n",
       "                                                                     MTABC_3202        54\n",
       "             MTABC_12056854-CPPB6-CP_B6-Weekday-10-SDon  2016-06-13  MTABC_3020         1\n",
       "                                                                     MTABC_3202        60\n",
       "             MTABC_12056855-CPPB6-CP_B6-Weekday-10-SDon  2016-06-13  MTABC_3163        85\n",
       "             MTABC_12056856-CPPB6-CP_B6-Weekday-10-SDon  2016-06-13  MTABC_3468        57\n",
       "             MTABC_12056857-CPPB6-CP_B6-Weekday-10-SDon  2016-06-13  MTABC_3192       125\n",
       "             MTABC_12056858-CPPB6-CP_B6-Weekday-10-SDon  2016-06-13  MTABC_3007       110\n",
       "             MTABC_12056859-CPPB6-CP_B6-Weekday-10-SDon  2016-06-13  MTABC_3020       105\n",
       "             MTABC_12056860-CPPB6-CP_B6-Weekday-10-SDon  2016-06-13  MTABC_3002       148\n",
       "             MTABC_12056862-CPPB6-CP_B6-Weekday-10-SDon  2016-06-13  MTABC_3050        75\n",
       "             MTABC_12056863-CPPB6-CP_B6-Weekday-10-SDon  2016-06-13  MTABC_2926       112\n",
       "             MTABC_12056864-CPPB6-CP_B6-Weekday-10-SDon  2016-06-13  MTABC_3000       141\n",
       "             MTABC_12056865-CPPB6-CP_B6-Weekday-10-SDon  2016-06-13  MTABC_3472       156\n",
       "             MTABC_12056866-CPPB6-CP_B6-Weekday-10-SDon  2016-06-13  MTABC_3221       139\n",
       "             MTABC_12056867-CPPB6-CP_B6-Weekday-10-SDon  2016-06-13  MTABC_3201       143\n",
       "             MTABC_12056868-CPPB6-CP_B6-Weekday-10-SDon  2016-06-13  MTABC_3130        59\n",
       "                                                                     MTABC_3458       126\n",
       "             MTABC_12056869-CPPB6-CP_B6-Weekday-10-SDon  2016-06-13  MTABC_3130        52\n",
       "             MTABC_12056870-CPPB6-CP_B6-Weekday-10-SDon  2016-06-13  MTABC_3387        78\n",
       "             MTABC_12056871-CPPB6-CP_B6-Weekday-10-SDon  2016-06-13  MTABC_3030       121\n",
       "dtype: int64"
      ]
     },
     "execution_count": 7,
     "metadata": {},
     "output_type": "execute_result"
    }
   ],
   "source": [
    "# check for data coming from two vehicles on the same trip\n",
    "oneday.groupby(['Line','Trip','TripDate','vehicleID']).size()"
   ]
  },
  {
   "cell_type": "markdown",
   "metadata": {},
   "source": [
    "That finishes the parsing of the vehicle ping times.\n",
    "\n",
    "Next is to look at the time deltas between the Siri API responses."
   ]
  },
  {
   "cell_type": "code",
   "execution_count": 4,
   "metadata": {
    "collapsed": true
   },
   "outputs": [],
   "source": [
    "responsetimes = oneday.ResponseTimeStamp.unique()\n",
    "responsetimes.sort()\n",
    "responsetimes = pd.Series(data=responsetimes,index=responsetimes)\n",
    "responsetimes = responsetimes.apply(ttools.parseActualTime,tdate='2016-06-13')\n",
    "responsetimediffs = pd.DataFrame(responsetimes.diff(),columns=['TimeSinceLastSiriResponse'])"
   ]
  },
  {
   "cell_type": "markdown",
   "metadata": {},
   "source": [
    "Now we have a simple dataframe with the elapsed time between Siri API responses, indexed by the datetime of the following response."
   ]
  },
  {
   "cell_type": "code",
   "execution_count": 5,
   "metadata": {
    "collapsed": false
   },
   "outputs": [
    {
     "data": {
      "text/html": [
       "<div style=\"max-height:1000px;max-width:1500px;overflow:auto;\">\n",
       "<table border=\"1\" class=\"dataframe\">\n",
       "  <thead>\n",
       "    <tr style=\"text-align: right;\">\n",
       "      <th></th>\n",
       "      <th>TimeSinceLastSiriResponse</th>\n",
       "    </tr>\n",
       "  </thead>\n",
       "  <tbody>\n",
       "    <tr>\n",
       "      <th>2016-06-13T02:10:40.022-04:00</th>\n",
       "      <td>NaT</td>\n",
       "    </tr>\n",
       "    <tr>\n",
       "      <th>2016-06-13T02:11:15.880-04:00</th>\n",
       "      <td>00:00:35</td>\n",
       "    </tr>\n",
       "    <tr>\n",
       "      <th>2016-06-13T02:11:51.152-04:00</th>\n",
       "      <td>00:00:36</td>\n",
       "    </tr>\n",
       "    <tr>\n",
       "      <th>2016-06-13T02:12:25.817-04:00</th>\n",
       "      <td>00:00:34</td>\n",
       "    </tr>\n",
       "    <tr>\n",
       "      <th>2016-06-13T02:13:00.099-04:00</th>\n",
       "      <td>00:00:35</td>\n",
       "    </tr>\n",
       "  </tbody>\n",
       "</table>\n",
       "</div>"
      ],
      "text/plain": [
       "                               TimeSinceLastSiriResponse\n",
       "2016-06-13T02:10:40.022-04:00                        NaT\n",
       "2016-06-13T02:11:15.880-04:00                   00:00:35\n",
       "2016-06-13T02:11:51.152-04:00                   00:00:36\n",
       "2016-06-13T02:12:25.817-04:00                   00:00:34\n",
       "2016-06-13T02:13:00.099-04:00                   00:00:35"
      ]
     },
     "execution_count": 5,
     "metadata": {},
     "output_type": "execute_result"
    }
   ],
   "source": [
    "responsetimediffs.head()"
   ]
  },
  {
   "cell_type": "markdown",
   "metadata": {},
   "source": [
    "The index is used to join with the original data."
   ]
  },
  {
   "cell_type": "code",
   "execution_count": 6,
   "metadata": {
    "collapsed": false
   },
   "outputs": [],
   "source": [
    "oneday = oneday.merge(responsetimediffs,how='left',left_on='ResponseTimeStamp',right_index=True)"
   ]
  },
  {
   "cell_type": "markdown",
   "metadata": {
    "collapsed": false
   },
   "source": [
    "## Explore density of gaps\n",
    "### expressed as a ratio of number-of-gaps to total-number-of-pings\n",
    "Various comparisons are made using the time-difference columns to categorize the gaps (stored as booleans)."
   ]
  },
  {
   "cell_type": "code",
   "execution_count": 7,
   "metadata": {
    "collapsed": false
   },
   "outputs": [
    {
     "data": {
      "text/plain": [
       "663836     False\n",
       "666177      True\n",
       "1156394     True\n",
       "3826081     True\n",
       "4435928    False\n",
       "Name: TimeSinceLastPing, dtype: bool"
      ]
     },
     "execution_count": 7,
     "metadata": {},
     "output_type": "execute_result"
    }
   ],
   "source": [
    "# gap for any reason\n",
    "gaps = oneday.TimeSinceLastPing>ttools.datetime.timedelta(seconds=33)\n",
    "oneday['gap_ind'] = gaps\n",
    "gaps.head()"
   ]
  },
  {
   "cell_type": "code",
   "execution_count": 8,
   "metadata": {
    "collapsed": false
   },
   "outputs": [
    {
     "data": {
      "text/plain": [
       "0.5279752228452772"
      ]
     },
     "execution_count": 8,
     "metadata": {},
     "output_type": "execute_result"
    }
   ],
   "source": [
    "# percent of all pings that follow a gap (that is, longer than 33 seconds since the previous ping)\n",
    "sum(gaps)/(len(gaps)*1.0)"
   ]
  },
  {
   "cell_type": "code",
   "execution_count": 9,
   "metadata": {
    "collapsed": false
   },
   "outputs": [
    {
     "data": {
      "text/plain": [
       "0.14328071722972568"
      ]
     },
     "execution_count": 9,
     "metadata": {},
     "output_type": "execute_result"
    }
   ],
   "source": [
    "# these are definitely obscured by Siri gap, because the gap since the last siri response is even longer.\n",
    "oneday['siri_gap_ind'] = False\n",
    "oneday.loc[gaps,'siri_gap_ind'] = oneday.TimeSinceLastPing[gaps] < oneday.TimeSinceLastSiriResponse[gaps]\n",
    "# report percentage\n",
    "sum(oneday['siri_gap_ind'])/(len(gaps)*1.0)"
   ]
  },
  {
   "cell_type": "code",
   "execution_count": 10,
   "metadata": {
    "collapsed": false
   },
   "outputs": [
    {
     "data": {
      "text/plain": [
       "0.010716084262715884"
      ]
     },
     "execution_count": 10,
     "metadata": {},
     "output_type": "execute_result"
    }
   ],
   "source": [
    "# these are gaps for which the last Siri response was at least 33 seconds after the last ping, so there\n",
    "# should have been at least one more ping recorded.  These are definitely a vehicle gap (at least, partially)\n",
    "oneday['veh_gap_ind'] = False\n",
    "oneday.loc[gaps,'veh_gap_ind'] = oneday.TimeSinceLastSiriResponse[gaps] < (oneday.TimeSinceLastPing[gaps] - ttools.datetime.timedelta(seconds=33))\n",
    "# need to exclude cases where the last Siri response was less than 30 seconds ago, since that would result in duplicate reports.\n",
    "oneday.loc[oneday.TimeSinceLastSiriResponse < ttools.datetime.timedelta(seconds=30),'veh_gap_ind'] = False\n",
    "# report percentage\n",
    "sum(oneday['veh_gap_ind'])/(len(gaps)*1.0)"
   ]
  },
  {
   "cell_type": "markdown",
   "metadata": {},
   "source": [
    "### Plot distribution of the gap ratio by route and vehicle to check randomness"
   ]
  },
  {
   "cell_type": "code",
   "execution_count": 11,
   "metadata": {
    "collapsed": false
   },
   "outputs": [
    {
     "data": {
      "text/plain": [
       "<matplotlib.axes._subplots.AxesSubplot at 0x7f98f1d9a890>"
      ]
     },
     "execution_count": 11,
     "metadata": {},
     "output_type": "execute_result"
    },
    {
     "data": {
      "image/png": "[encoded data removed]",
      "text/plain": [
       "<matplotlib.figure.Figure at 0x7f98f1be1610>"
      ]
     },
     "metadata": {},
     "output_type": "display_data"
    }
   ],
   "source": [
    "# gap rates for any line, by line\n",
    "gap_rates = oneday.groupby('Line')['gap_ind'].sum()/oneday.groupby('Line').size()\n",
    "gap_rates.hist(range=(0.3,0.6),bins=30)"
   ]
  },
  {
   "cell_type": "code",
   "execution_count": 12,
   "metadata": {
    "collapsed": false
   },
   "outputs": [
    {
     "data": {
      "text/plain": [
       "<matplotlib.axes._subplots.AxesSubplot at 0x7f98da27fb10>"
      ]
     },
     "execution_count": 12,
     "metadata": {},
     "output_type": "execute_result"
    },
    {
     "data": {
      "image/png": "[encoded data removed]",
      "text/plain": [
       "<matplotlib.figure.Figure at 0x7f99101e3850>"
      ]
     },
     "metadata": {},
     "output_type": "display_data"
    }
   ],
   "source": [
    "# veh-caused gap rates by vehicle\n",
    "vehicle_gap_rates = oneday.groupby('vehicleID')['veh_gap_ind'].sum()/oneday.groupby('vehicleID').size()\n",
    "vehicle_gap_rates.hist(range=(0.0,0.05),bins=40)"
   ]
  },
  {
   "cell_type": "markdown",
   "metadata": {},
   "source": [
    "## Plot gap ratio according to time-of-day, to check for time-series correlation\n",
    "Siri API performance is known to be much better in the middle of the night.\n",
    "\n",
    "It is unknown whether this is related to server-request load, size of response data, or \"throttling\" of user requests."
   ]
  },
  {
   "cell_type": "code",
   "execution_count": 13,
   "metadata": {
    "collapsed": false
   },
   "outputs": [
    {
     "data": {
      "text/plain": [
       "<matplotlib.axes._subplots.AxesSubplot at 0x7f98e6c044d0>"
      ]
     },
     "execution_count": 13,
     "metadata": {},
     "output_type": "execute_result"
    },
    {
     "data": {
      "image/png": "[encoded data removed]",
      "text/plain": [
       "<matplotlib.figure.Figure at 0x7f98db128ed0>"
      ]
     },
     "metadata": {},
     "output_type": "display_data"
    }
   ],
   "source": [
    "oneday['response_hour'] = oneday.ResponseTimeStamp.str[11:13]\n",
    "hourly_gap_rates = oneday.groupby('response_hour')['gap_ind'].sum()/oneday.groupby('response_hour').size()\n",
    "hourly_gap_rates.plot()"
   ]
  }
 ],
 "metadata": {
  "kernelspec": {
   "display_name": "Python 2",
   "language": "python",
   "name": "python2"
  },
  "language_info": {
   "codemirror_mode": {
    "name": "ipython",
    "version": 2
   },
   "file_extension": ".py",
   "mimetype": "text/x-python",
   "name": "python",
   "nbconvert_exporter": "python",
   "pygments_lexer": "ipython2",
   "version": "2.7.11"
  }
 },
 "nbformat": 4,
 "nbformat_minor": 0
}
