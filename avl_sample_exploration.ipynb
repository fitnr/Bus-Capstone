{
 "cells": [
  {
   "cell_type": "code",
   "execution_count": 1,
   "metadata": {
    "collapsed": false
   },
   "outputs": [],
   "source": [
    "import os\n",
    "import pandas as pd\n",
    "import numpy as np\n",
    "import sys\n",
    "sys.path.append('/gpfs2/projects/project-bus_capstone_2016/workspace/mu529/Bus-Capstone')\n",
    "import ttools\n",
    "os.chdir('/gpfs2/projects/project-bus_capstone_2016/workspace/share')"
   ]
  },
  {
   "cell_type": "code",
   "execution_count": 2,
   "metadata": {
    "collapsed": true
   },
   "outputs": [],
   "source": [
    "avl_data = pd.read_csv('newdata_parsed.csv')"
   ]
  },
  {
   "cell_type": "code",
   "execution_count": 3,
   "metadata": {
    "collapsed": false
   },
   "outputs": [],
   "source": [
    "oneday = avl_data.query('TripDate==\"2016-06-13\"')"
   ]
  },
  {
   "cell_type": "code",
   "execution_count": 4,
   "metadata": {
    "collapsed": false
   },
   "outputs": [],
   "source": [
    "oneday = oneday.sort(columns=['vehicleID','RecordedAtTime'])"
   ]
  },
  {
   "cell_type": "code",
   "execution_count": 5,
   "metadata": {
    "collapsed": true
   },
   "outputs": [],
   "source": [
    "oneday.drop_duplicates(subset=['vehicleID','RecordedAtTime','Latitude','Longitude'],inplace=True)"
   ]
  },
  {
   "cell_type": "code",
   "execution_count": 6,
   "metadata": {
    "collapsed": false
   },
   "outputs": [],
   "source": [
    "oneday['RecordedAtTime_parsed'] = oneday.RecordedAtTime.apply(ttools.parseActualTime,tdate='2016-06-13')"
   ]
  },
  {
   "cell_type": "markdown",
   "metadata": {},
   "source": [
    "That finishes the parsing of the vehicle ping times.\n",
    "Next is to look at the time deltas between the Siri API responses."
   ]
  },
  {
   "cell_type": "code",
   "execution_count": 7,
   "metadata": {
    "collapsed": true
   },
   "outputs": [],
   "source": [
    "responsetimes = oneday.ResponseTimeStamp.unique()"
   ]
  },
  {
   "cell_type": "code",
   "execution_count": 8,
   "metadata": {
    "collapsed": true
   },
   "outputs": [],
   "source": [
    "responsetimes.sort()"
   ]
  },
  {
   "cell_type": "code",
   "execution_count": 9,
   "metadata": {
    "collapsed": true
   },
   "outputs": [],
   "source": [
    "responsetimes = pd.Series(data=responsetimes,index=responsetimes)"
   ]
  },
  {
   "cell_type": "code",
   "execution_count": 10,
   "metadata": {
    "collapsed": false
   },
   "outputs": [],
   "source": [
    "responsetimes = responsetimes.apply(ttools.parseActualTime,tdate='2016-06-13')"
   ]
  },
  {
   "cell_type": "code",
   "execution_count": 11,
   "metadata": {
    "collapsed": false
   },
   "outputs": [],
   "source": [
    "responsetimediffs = pd.DataFrame(responsetimes.diff(),columns=['TimeSinceLastSiriResponse'])"
   ]
  },
  {
   "cell_type": "code",
   "execution_count": 12,
   "metadata": {
    "collapsed": false
   },
   "outputs": [
    {
     "data": {
      "text/html": [
       "<div style=\"max-height:1000px;max-width:1500px;overflow:auto;\">\n",
       "<table border=\"1\" class=\"dataframe\">\n",
       "  <thead>\n",
       "    <tr style=\"text-align: right;\">\n",
       "      <th></th>\n",
       "      <th>TimeSinceLastSiriResponse</th>\n",
       "    </tr>\n",
       "  </thead>\n",
       "  <tbody>\n",
       "    <tr>\n",
       "      <th>2016-06-13T02:10:40.022-04:00</th>\n",
       "      <td>NaT</td>\n",
       "    </tr>\n",
       "    <tr>\n",
       "      <th>2016-06-13T02:11:15.880-04:00</th>\n",
       "      <td>00:00:35</td>\n",
       "    </tr>\n",
       "    <tr>\n",
       "      <th>2016-06-13T02:11:51.152-04:00</th>\n",
       "      <td>00:00:36</td>\n",
       "    </tr>\n",
       "    <tr>\n",
       "      <th>2016-06-13T02:12:25.817-04:00</th>\n",
       "      <td>00:00:34</td>\n",
       "    </tr>\n",
       "    <tr>\n",
       "      <th>2016-06-13T02:13:00.099-04:00</th>\n",
       "      <td>00:00:35</td>\n",
       "    </tr>\n",
       "  </tbody>\n",
       "</table>\n",
       "</div>"
      ],
      "text/plain": [
       "                               TimeSinceLastSiriResponse\n",
       "2016-06-13T02:10:40.022-04:00                        NaT\n",
       "2016-06-13T02:11:15.880-04:00                   00:00:35\n",
       "2016-06-13T02:11:51.152-04:00                   00:00:36\n",
       "2016-06-13T02:12:25.817-04:00                   00:00:34\n",
       "2016-06-13T02:13:00.099-04:00                   00:00:35"
      ]
     },
     "execution_count": 12,
     "metadata": {},
     "output_type": "execute_result"
    }
   ],
   "source": [
    "responsetimediffs.head()"
   ]
  },
  {
   "cell_type": "markdown",
   "metadata": {},
   "source": [
    "That finished calculating the Siri response time differences"
   ]
  },
  {
   "cell_type": "code",
   "execution_count": 13,
   "metadata": {
    "collapsed": false
   },
   "outputs": [],
   "source": [
    "oneday = oneday.merge(responsetimediffs,how='left',left_on='ResponseTimeStamp',right_index=True)"
   ]
  },
  {
   "cell_type": "code",
   "execution_count": 14,
   "metadata": {
    "collapsed": false
   },
   "outputs": [],
   "source": [
    "oneday['TimeSinceLastPing'] = oneday.RecordedAtTime_parsed.diff()"
   ]
  },
  {
   "cell_type": "code",
   "execution_count": 15,
   "metadata": {
    "collapsed": false
   },
   "outputs": [
    {
     "data": {
      "text/html": [
       "<div style=\"max-height:1000px;max-width:1500px;overflow:auto;\">\n",
       "<table border=\"1\" class=\"dataframe\">\n",
       "  <thead>\n",
       "    <tr style=\"text-align: right;\">\n",
       "      <th></th>\n",
       "      <th>vehicleID</th>\n",
       "      <th>Line</th>\n",
       "      <th>RecordedAtTime</th>\n",
       "      <th>Latitude</th>\n",
       "      <th>Longitude</th>\n",
       "      <th>Trip</th>\n",
       "      <th>TripDate</th>\n",
       "      <th>ResponseTimeStamp</th>\n",
       "      <th>RecordedAtTime_parsed</th>\n",
       "      <th>TimeSinceLastSiriResponse</th>\n",
       "      <th>TimeSinceLastPing</th>\n",
       "    </tr>\n",
       "  </thead>\n",
       "  <tbody>\n",
       "    <tr>\n",
       "      <th>663836</th>\n",
       "      <td>MTA NYCT_1001</td>\n",
       "      <td>MTA NYCT_M101</td>\n",
       "      <td>2016-06-13T13:05:40.000-04:00</td>\n",
       "      <td>40.786901</td>\n",
       "      <td>-73.950176</td>\n",
       "      <td>MTA NYCT_OH_B6-Weekday-SDon-077600_M101_100</td>\n",
       "      <td>2016-06-13</td>\n",
       "      <td>2016-06-13T13:06:00.048-04:00</td>\n",
       "      <td>13:05:40</td>\n",
       "      <td>00:01:28</td>\n",
       "      <td>NaT</td>\n",
       "    </tr>\n",
       "    <tr>\n",
       "      <th>666177</th>\n",
       "      <td>MTA NYCT_1001</td>\n",
       "      <td>MTA NYCT_M101</td>\n",
       "      <td>2016-06-13T13:07:14.000-04:00</td>\n",
       "      <td>40.785463</td>\n",
       "      <td>-73.951226</td>\n",
       "      <td>MTA NYCT_OH_B6-Weekday-SDon-077600_M101_100</td>\n",
       "      <td>2016-06-13</td>\n",
       "      <td>2016-06-13T13:07:33.389-04:00</td>\n",
       "      <td>13:07:14</td>\n",
       "      <td>00:00:03</td>\n",
       "      <td>00:01:34</td>\n",
       "    </tr>\n",
       "    <tr>\n",
       "      <th>1156394</th>\n",
       "      <td>MTA NYCT_1001</td>\n",
       "      <td>MTA NYCT_M101</td>\n",
       "      <td>2016-06-13T13:08:28.000-04:00</td>\n",
       "      <td>40.783989</td>\n",
       "      <td>-73.952304</td>\n",
       "      <td>MTA NYCT_OH_B6-Weekday-SDon-077600_M101_100</td>\n",
       "      <td>2016-06-13</td>\n",
       "      <td>2016-06-13T13:08:53.334-04:00</td>\n",
       "      <td>13:08:28</td>\n",
       "      <td>00:00:22</td>\n",
       "      <td>00:01:14</td>\n",
       "    </tr>\n",
       "    <tr>\n",
       "      <th>3826081</th>\n",
       "      <td>MTA NYCT_1001</td>\n",
       "      <td>MTA NYCT_M101</td>\n",
       "      <td>2016-06-13T13:09:32.000-04:00</td>\n",
       "      <td>40.780415</td>\n",
       "      <td>-73.954914</td>\n",
       "      <td>MTA NYCT_OH_B6-Weekday-SDon-077600_M101_100</td>\n",
       "      <td>2016-06-13</td>\n",
       "      <td>2016-06-13T13:10:00.135-04:00</td>\n",
       "      <td>13:09:32</td>\n",
       "      <td>00:00:04</td>\n",
       "      <td>00:01:04</td>\n",
       "    </tr>\n",
       "    <tr>\n",
       "      <th>4435928</th>\n",
       "      <td>MTA NYCT_1001</td>\n",
       "      <td>MTA NYCT_M101</td>\n",
       "      <td>2016-06-13T13:10:04.000-04:00</td>\n",
       "      <td>40.779581</td>\n",
       "      <td>-73.955523</td>\n",
       "      <td>MTA NYCT_OH_B6-Weekday-SDon-077600_M101_100</td>\n",
       "      <td>2016-06-13</td>\n",
       "      <td>2016-06-13T13:10:09.167-04:00</td>\n",
       "      <td>13:10:04</td>\n",
       "      <td>00:00:09</td>\n",
       "      <td>00:00:32</td>\n",
       "    </tr>\n",
       "    <tr>\n",
       "      <th>189959</th>\n",
       "      <td>MTA NYCT_1001</td>\n",
       "      <td>MTA NYCT_M101</td>\n",
       "      <td>2016-06-13T13:11:08.000-04:00</td>\n",
       "      <td>40.778855</td>\n",
       "      <td>-73.956053</td>\n",
       "      <td>MTA NYCT_OH_B6-Weekday-SDon-077600_M101_100</td>\n",
       "      <td>2016-06-13</td>\n",
       "      <td>2016-06-13T13:11:26.766-04:00</td>\n",
       "      <td>13:11:08</td>\n",
       "      <td>00:01:17</td>\n",
       "      <td>00:01:04</td>\n",
       "    </tr>\n",
       "    <tr>\n",
       "      <th>2658845</th>\n",
       "      <td>MTA NYCT_1001</td>\n",
       "      <td>MTA NYCT_M101</td>\n",
       "      <td>2016-06-13T13:11:39.000-04:00</td>\n",
       "      <td>40.778855</td>\n",
       "      <td>-73.956053</td>\n",
       "      <td>MTA NYCT_OH_B6-Weekday-SDon-077600_M101_100</td>\n",
       "      <td>2016-06-13</td>\n",
       "      <td>2016-06-13T13:11:41.402-04:00</td>\n",
       "      <td>13:11:39</td>\n",
       "      <td>00:00:15</td>\n",
       "      <td>00:00:31</td>\n",
       "    </tr>\n",
       "    <tr>\n",
       "      <th>1580839</th>\n",
       "      <td>MTA NYCT_1001</td>\n",
       "      <td>MTA NYCT_M101</td>\n",
       "      <td>2016-06-13T13:12:44.000-04:00</td>\n",
       "      <td>40.778855</td>\n",
       "      <td>-73.956053</td>\n",
       "      <td>MTA NYCT_OH_B6-Weekday-SDon-077600_M101_100</td>\n",
       "      <td>2016-06-13</td>\n",
       "      <td>2016-06-13T13:13:00.129-04:00</td>\n",
       "      <td>13:12:44</td>\n",
       "      <td>00:01:19</td>\n",
       "      <td>00:01:05</td>\n",
       "    </tr>\n",
       "    <tr>\n",
       "      <th>1200980</th>\n",
       "      <td>MTA NYCT_1001</td>\n",
       "      <td>MTA NYCT_M101</td>\n",
       "      <td>2016-06-13T13:14:21.000-04:00</td>\n",
       "      <td>40.776306</td>\n",
       "      <td>-73.957914</td>\n",
       "      <td>MTA NYCT_OH_B6-Weekday-SDon-077600_M101_100</td>\n",
       "      <td>2016-06-13</td>\n",
       "      <td>2016-06-13T13:14:30.117-04:00</td>\n",
       "      <td>13:14:21</td>\n",
       "      <td>00:01:28</td>\n",
       "      <td>00:01:37</td>\n",
       "    </tr>\n",
       "    <tr>\n",
       "      <th>4440650</th>\n",
       "      <td>MTA NYCT_1001</td>\n",
       "      <td>MTA NYCT_M101</td>\n",
       "      <td>2016-06-13T13:14:53.000-04:00</td>\n",
       "      <td>40.775373</td>\n",
       "      <td>-73.958594</td>\n",
       "      <td>MTA NYCT_OH_B6-Weekday-SDon-077600_M101_100</td>\n",
       "      <td>2016-06-13</td>\n",
       "      <td>2016-06-13T13:15:24.481-04:00</td>\n",
       "      <td>13:14:53</td>\n",
       "      <td>00:00:54</td>\n",
       "      <td>00:00:32</td>\n",
       "    </tr>\n",
       "    <tr>\n",
       "      <th>1203358</th>\n",
       "      <td>MTA NYCT_1001</td>\n",
       "      <td>MTA NYCT_M101</td>\n",
       "      <td>2016-06-13T13:15:25.000-04:00</td>\n",
       "      <td>40.775046</td>\n",
       "      <td>-73.958830</td>\n",
       "      <td>MTA NYCT_OH_B6-Weekday-SDon-077600_M101_100</td>\n",
       "      <td>2016-06-13</td>\n",
       "      <td>2016-06-13T13:15:41.835-04:00</td>\n",
       "      <td>13:15:25</td>\n",
       "      <td>00:00:11</td>\n",
       "      <td>00:00:32</td>\n",
       "    </tr>\n",
       "    <tr>\n",
       "      <th>692932</th>\n",
       "      <td>MTA NYCT_1001</td>\n",
       "      <td>MTA NYCT_M101</td>\n",
       "      <td>2016-06-13T13:16:29.000-04:00</td>\n",
       "      <td>40.774441</td>\n",
       "      <td>-73.959274</td>\n",
       "      <td>MTA NYCT_OH_B6-Weekday-SDon-077600_M101_100</td>\n",
       "      <td>2016-06-13</td>\n",
       "      <td>2016-06-13T13:17:00.096-04:00</td>\n",
       "      <td>13:16:29</td>\n",
       "      <td>00:01:19</td>\n",
       "      <td>00:01:04</td>\n",
       "    </tr>\n",
       "    <tr>\n",
       "      <th>2661211</th>\n",
       "      <td>MTA NYCT_1001</td>\n",
       "      <td>MTA NYCT_M101</td>\n",
       "      <td>2016-06-13T13:17:01.000-04:00</td>\n",
       "      <td>40.773747</td>\n",
       "      <td>-73.959779</td>\n",
       "      <td>MTA NYCT_OH_B6-Weekday-SDon-077600_M101_100</td>\n",
       "      <td>2016-06-13</td>\n",
       "      <td>2016-06-13T13:17:08.897-04:00</td>\n",
       "      <td>13:17:01</td>\n",
       "      <td>00:00:08</td>\n",
       "      <td>00:00:32</td>\n",
       "    </tr>\n",
       "    <tr>\n",
       "      <th>695328</th>\n",
       "      <td>MTA NYCT_1001</td>\n",
       "      <td>MTA NYCT_M101</td>\n",
       "      <td>2016-06-13T13:18:06.000-04:00</td>\n",
       "      <td>40.773643</td>\n",
       "      <td>-73.959854</td>\n",
       "      <td>MTA NYCT_OH_B6-Weekday-SDon-077600_M101_100</td>\n",
       "      <td>2016-06-13</td>\n",
       "      <td>2016-06-13T13:18:30.130-04:00</td>\n",
       "      <td>13:18:06</td>\n",
       "      <td>00:01:22</td>\n",
       "      <td>00:01:05</td>\n",
       "    </tr>\n",
       "    <tr>\n",
       "      <th>5054877</th>\n",
       "      <td>MTA NYCT_1001</td>\n",
       "      <td>MTA NYCT_M101</td>\n",
       "      <td>2016-06-13T13:19:10.000-04:00</td>\n",
       "      <td>40.773113</td>\n",
       "      <td>-73.960244</td>\n",
       "      <td>MTA NYCT_OH_B6-Weekday-SDon-077600_M101_100</td>\n",
       "      <td>2016-06-13</td>\n",
       "      <td>2016-06-13T13:19:30.883-04:00</td>\n",
       "      <td>13:19:10</td>\n",
       "      <td>00:01:00</td>\n",
       "      <td>00:01:04</td>\n",
       "    </tr>\n",
       "  </tbody>\n",
       "</table>\n",
       "</div>"
      ],
      "text/plain": [
       "             vehicleID           Line                 RecordedAtTime  \\\n",
       "663836   MTA NYCT_1001  MTA NYCT_M101  2016-06-13T13:05:40.000-04:00   \n",
       "666177   MTA NYCT_1001  MTA NYCT_M101  2016-06-13T13:07:14.000-04:00   \n",
       "1156394  MTA NYCT_1001  MTA NYCT_M101  2016-06-13T13:08:28.000-04:00   \n",
       "3826081  MTA NYCT_1001  MTA NYCT_M101  2016-06-13T13:09:32.000-04:00   \n",
       "4435928  MTA NYCT_1001  MTA NYCT_M101  2016-06-13T13:10:04.000-04:00   \n",
       "189959   MTA NYCT_1001  MTA NYCT_M101  2016-06-13T13:11:08.000-04:00   \n",
       "2658845  MTA NYCT_1001  MTA NYCT_M101  2016-06-13T13:11:39.000-04:00   \n",
       "1580839  MTA NYCT_1001  MTA NYCT_M101  2016-06-13T13:12:44.000-04:00   \n",
       "1200980  MTA NYCT_1001  MTA NYCT_M101  2016-06-13T13:14:21.000-04:00   \n",
       "4440650  MTA NYCT_1001  MTA NYCT_M101  2016-06-13T13:14:53.000-04:00   \n",
       "1203358  MTA NYCT_1001  MTA NYCT_M101  2016-06-13T13:15:25.000-04:00   \n",
       "692932   MTA NYCT_1001  MTA NYCT_M101  2016-06-13T13:16:29.000-04:00   \n",
       "2661211  MTA NYCT_1001  MTA NYCT_M101  2016-06-13T13:17:01.000-04:00   \n",
       "695328   MTA NYCT_1001  MTA NYCT_M101  2016-06-13T13:18:06.000-04:00   \n",
       "5054877  MTA NYCT_1001  MTA NYCT_M101  2016-06-13T13:19:10.000-04:00   \n",
       "\n",
       "          Latitude  Longitude                                         Trip  \\\n",
       "663836   40.786901 -73.950176  MTA NYCT_OH_B6-Weekday-SDon-077600_M101_100   \n",
       "666177   40.785463 -73.951226  MTA NYCT_OH_B6-Weekday-SDon-077600_M101_100   \n",
       "1156394  40.783989 -73.952304  MTA NYCT_OH_B6-Weekday-SDon-077600_M101_100   \n",
       "3826081  40.780415 -73.954914  MTA NYCT_OH_B6-Weekday-SDon-077600_M101_100   \n",
       "4435928  40.779581 -73.955523  MTA NYCT_OH_B6-Weekday-SDon-077600_M101_100   \n",
       "189959   40.778855 -73.956053  MTA NYCT_OH_B6-Weekday-SDon-077600_M101_100   \n",
       "2658845  40.778855 -73.956053  MTA NYCT_OH_B6-Weekday-SDon-077600_M101_100   \n",
       "1580839  40.778855 -73.956053  MTA NYCT_OH_B6-Weekday-SDon-077600_M101_100   \n",
       "1200980  40.776306 -73.957914  MTA NYCT_OH_B6-Weekday-SDon-077600_M101_100   \n",
       "4440650  40.775373 -73.958594  MTA NYCT_OH_B6-Weekday-SDon-077600_M101_100   \n",
       "1203358  40.775046 -73.958830  MTA NYCT_OH_B6-Weekday-SDon-077600_M101_100   \n",
       "692932   40.774441 -73.959274  MTA NYCT_OH_B6-Weekday-SDon-077600_M101_100   \n",
       "2661211  40.773747 -73.959779  MTA NYCT_OH_B6-Weekday-SDon-077600_M101_100   \n",
       "695328   40.773643 -73.959854  MTA NYCT_OH_B6-Weekday-SDon-077600_M101_100   \n",
       "5054877  40.773113 -73.960244  MTA NYCT_OH_B6-Weekday-SDon-077600_M101_100   \n",
       "\n",
       "           TripDate              ResponseTimeStamp  RecordedAtTime_parsed  \\\n",
       "663836   2016-06-13  2016-06-13T13:06:00.048-04:00               13:05:40   \n",
       "666177   2016-06-13  2016-06-13T13:07:33.389-04:00               13:07:14   \n",
       "1156394  2016-06-13  2016-06-13T13:08:53.334-04:00               13:08:28   \n",
       "3826081  2016-06-13  2016-06-13T13:10:00.135-04:00               13:09:32   \n",
       "4435928  2016-06-13  2016-06-13T13:10:09.167-04:00               13:10:04   \n",
       "189959   2016-06-13  2016-06-13T13:11:26.766-04:00               13:11:08   \n",
       "2658845  2016-06-13  2016-06-13T13:11:41.402-04:00               13:11:39   \n",
       "1580839  2016-06-13  2016-06-13T13:13:00.129-04:00               13:12:44   \n",
       "1200980  2016-06-13  2016-06-13T13:14:30.117-04:00               13:14:21   \n",
       "4440650  2016-06-13  2016-06-13T13:15:24.481-04:00               13:14:53   \n",
       "1203358  2016-06-13  2016-06-13T13:15:41.835-04:00               13:15:25   \n",
       "692932   2016-06-13  2016-06-13T13:17:00.096-04:00               13:16:29   \n",
       "2661211  2016-06-13  2016-06-13T13:17:08.897-04:00               13:17:01   \n",
       "695328   2016-06-13  2016-06-13T13:18:30.130-04:00               13:18:06   \n",
       "5054877  2016-06-13  2016-06-13T13:19:30.883-04:00               13:19:10   \n",
       "\n",
       "         TimeSinceLastSiriResponse  TimeSinceLastPing  \n",
       "663836                    00:01:28                NaT  \n",
       "666177                    00:00:03           00:01:34  \n",
       "1156394                   00:00:22           00:01:14  \n",
       "3826081                   00:00:04           00:01:04  \n",
       "4435928                   00:00:09           00:00:32  \n",
       "189959                    00:01:17           00:01:04  \n",
       "2658845                   00:00:15           00:00:31  \n",
       "1580839                   00:01:19           00:01:05  \n",
       "1200980                   00:01:28           00:01:37  \n",
       "4440650                   00:00:54           00:00:32  \n",
       "1203358                   00:00:11           00:00:32  \n",
       "692932                    00:01:19           00:01:04  \n",
       "2661211                   00:00:08           00:00:32  \n",
       "695328                    00:01:22           00:01:05  \n",
       "5054877                   00:01:00           00:01:04  "
      ]
     },
     "execution_count": 15,
     "metadata": {},
     "output_type": "execute_result"
    }
   ],
   "source": [
    "oneday.head(15)"
   ]
  },
  {
   "cell_type": "code",
   "execution_count": 16,
   "metadata": {
    "collapsed": false
   },
   "outputs": [
    {
     "data": {
      "text/plain": [
       "663836     False\n",
       "666177      True\n",
       "1156394     True\n",
       "3826081     True\n",
       "4435928    False\n",
       "Name: TimeSinceLastPing, dtype: bool"
      ]
     },
     "execution_count": 16,
     "metadata": {},
     "output_type": "execute_result"
    }
   ],
   "source": [
    "# gap for any reasons\n",
    "gaps = oneday.TimeSinceLastPing>ttools.datetime.timedelta(seconds=45)\n",
    "gaps.head()"
   ]
  },
  {
   "cell_type": "code",
   "execution_count": 17,
   "metadata": {
    "collapsed": false
   },
   "outputs": [
    {
     "data": {
      "text/plain": [
       "666177    00:00:03\n",
       "1156394   00:00:22\n",
       "3826081   00:00:04\n",
       "189959    00:01:17\n",
       "1580839   00:01:19\n",
       "Name: TimeSinceLastSiriResponse, dtype: timedelta64[ns]"
      ]
     },
     "execution_count": 17,
     "metadata": {},
     "output_type": "execute_result"
    }
   ],
   "source": [
    "# but we got a response from siri since then + 30 seconds\n",
    "oneday.TimeSinceLastSiriResponse[gaps].head()"
   ]
  },
  {
   "cell_type": "code",
   "execution_count": 21,
   "metadata": {
    "collapsed": false
   },
   "outputs": [
    {
     "data": {
      "text/html": [
       "<div style=\"max-height:1000px;max-width:1500px;overflow:auto;\">\n",
       "<table border=\"1\" class=\"dataframe\">\n",
       "  <thead>\n",
       "    <tr style=\"text-align: right;\">\n",
       "      <th></th>\n",
       "      <th>vehicleID</th>\n",
       "      <th>Line</th>\n",
       "      <th>RecordedAtTime</th>\n",
       "      <th>Latitude</th>\n",
       "      <th>Longitude</th>\n",
       "      <th>Trip</th>\n",
       "      <th>TripDate</th>\n",
       "      <th>ResponseTimeStamp</th>\n",
       "      <th>RecordedAtTime_parsed</th>\n",
       "      <th>TimeSinceLastSiriResponse</th>\n",
       "      <th>TimeSinceLastPing</th>\n",
       "    </tr>\n",
       "  </thead>\n",
       "  <tbody>\n",
       "    <tr>\n",
       "      <th>666177</th>\n",
       "      <td>MTA NYCT_1001</td>\n",
       "      <td>MTA NYCT_M101</td>\n",
       "      <td>2016-06-13T13:07:14.000-04:00</td>\n",
       "      <td>40.785463</td>\n",
       "      <td>-73.951226</td>\n",
       "      <td>MTA NYCT_OH_B6-Weekday-SDon-077600_M101_100</td>\n",
       "      <td>2016-06-13</td>\n",
       "      <td>2016-06-13T13:07:33.389-04:00</td>\n",
       "      <td>13:07:14</td>\n",
       "      <td>00:00:03</td>\n",
       "      <td>00:01:34</td>\n",
       "    </tr>\n",
       "    <tr>\n",
       "      <th>1156394</th>\n",
       "      <td>MTA NYCT_1001</td>\n",
       "      <td>MTA NYCT_M101</td>\n",
       "      <td>2016-06-13T13:08:28.000-04:00</td>\n",
       "      <td>40.783989</td>\n",
       "      <td>-73.952304</td>\n",
       "      <td>MTA NYCT_OH_B6-Weekday-SDon-077600_M101_100</td>\n",
       "      <td>2016-06-13</td>\n",
       "      <td>2016-06-13T13:08:53.334-04:00</td>\n",
       "      <td>13:08:28</td>\n",
       "      <td>00:00:22</td>\n",
       "      <td>00:01:14</td>\n",
       "    </tr>\n",
       "    <tr>\n",
       "      <th>3826081</th>\n",
       "      <td>MTA NYCT_1001</td>\n",
       "      <td>MTA NYCT_M101</td>\n",
       "      <td>2016-06-13T13:09:32.000-04:00</td>\n",
       "      <td>40.780415</td>\n",
       "      <td>-73.954914</td>\n",
       "      <td>MTA NYCT_OH_B6-Weekday-SDon-077600_M101_100</td>\n",
       "      <td>2016-06-13</td>\n",
       "      <td>2016-06-13T13:10:00.135-04:00</td>\n",
       "      <td>13:09:32</td>\n",
       "      <td>00:00:04</td>\n",
       "      <td>00:01:04</td>\n",
       "    </tr>\n",
       "    <tr>\n",
       "      <th>189959</th>\n",
       "      <td>MTA NYCT_1001</td>\n",
       "      <td>MTA NYCT_M101</td>\n",
       "      <td>2016-06-13T13:11:08.000-04:00</td>\n",
       "      <td>40.778855</td>\n",
       "      <td>-73.956053</td>\n",
       "      <td>MTA NYCT_OH_B6-Weekday-SDon-077600_M101_100</td>\n",
       "      <td>2016-06-13</td>\n",
       "      <td>2016-06-13T13:11:26.766-04:00</td>\n",
       "      <td>13:11:08</td>\n",
       "      <td>00:01:17</td>\n",
       "      <td>00:01:04</td>\n",
       "    </tr>\n",
       "    <tr>\n",
       "      <th>1580839</th>\n",
       "      <td>MTA NYCT_1001</td>\n",
       "      <td>MTA NYCT_M101</td>\n",
       "      <td>2016-06-13T13:12:44.000-04:00</td>\n",
       "      <td>40.778855</td>\n",
       "      <td>-73.956053</td>\n",
       "      <td>MTA NYCT_OH_B6-Weekday-SDon-077600_M101_100</td>\n",
       "      <td>2016-06-13</td>\n",
       "      <td>2016-06-13T13:13:00.129-04:00</td>\n",
       "      <td>13:12:44</td>\n",
       "      <td>00:01:19</td>\n",
       "      <td>00:01:05</td>\n",
       "    </tr>\n",
       "    <tr>\n",
       "      <th>1200980</th>\n",
       "      <td>MTA NYCT_1001</td>\n",
       "      <td>MTA NYCT_M101</td>\n",
       "      <td>2016-06-13T13:14:21.000-04:00</td>\n",
       "      <td>40.776306</td>\n",
       "      <td>-73.957914</td>\n",
       "      <td>MTA NYCT_OH_B6-Weekday-SDon-077600_M101_100</td>\n",
       "      <td>2016-06-13</td>\n",
       "      <td>2016-06-13T13:14:30.117-04:00</td>\n",
       "      <td>13:14:21</td>\n",
       "      <td>00:01:28</td>\n",
       "      <td>00:01:37</td>\n",
       "    </tr>\n",
       "    <tr>\n",
       "      <th>692932</th>\n",
       "      <td>MTA NYCT_1001</td>\n",
       "      <td>MTA NYCT_M101</td>\n",
       "      <td>2016-06-13T13:16:29.000-04:00</td>\n",
       "      <td>40.774441</td>\n",
       "      <td>-73.959274</td>\n",
       "      <td>MTA NYCT_OH_B6-Weekday-SDon-077600_M101_100</td>\n",
       "      <td>2016-06-13</td>\n",
       "      <td>2016-06-13T13:17:00.096-04:00</td>\n",
       "      <td>13:16:29</td>\n",
       "      <td>00:01:19</td>\n",
       "      <td>00:01:04</td>\n",
       "    </tr>\n",
       "    <tr>\n",
       "      <th>695328</th>\n",
       "      <td>MTA NYCT_1001</td>\n",
       "      <td>MTA NYCT_M101</td>\n",
       "      <td>2016-06-13T13:18:06.000-04:00</td>\n",
       "      <td>40.773643</td>\n",
       "      <td>-73.959854</td>\n",
       "      <td>MTA NYCT_OH_B6-Weekday-SDon-077600_M101_100</td>\n",
       "      <td>2016-06-13</td>\n",
       "      <td>2016-06-13T13:18:30.130-04:00</td>\n",
       "      <td>13:18:06</td>\n",
       "      <td>00:01:22</td>\n",
       "      <td>00:01:05</td>\n",
       "    </tr>\n",
       "    <tr>\n",
       "      <th>5054877</th>\n",
       "      <td>MTA NYCT_1001</td>\n",
       "      <td>MTA NYCT_M101</td>\n",
       "      <td>2016-06-13T13:19:10.000-04:00</td>\n",
       "      <td>40.773113</td>\n",
       "      <td>-73.960244</td>\n",
       "      <td>MTA NYCT_OH_B6-Weekday-SDon-077600_M101_100</td>\n",
       "      <td>2016-06-13</td>\n",
       "      <td>2016-06-13T13:19:30.883-04:00</td>\n",
       "      <td>13:19:10</td>\n",
       "      <td>00:01:00</td>\n",
       "      <td>00:01:04</td>\n",
       "    </tr>\n",
       "    <tr>\n",
       "      <th>1205750</th>\n",
       "      <td>MTA NYCT_1001</td>\n",
       "      <td>MTA NYCT_M101</td>\n",
       "      <td>2016-06-13T13:20:46.000-04:00</td>\n",
       "      <td>40.772552</td>\n",
       "      <td>-73.960653</td>\n",
       "      <td>MTA NYCT_OH_B6-Weekday-SDon-077600_M101_100</td>\n",
       "      <td>2016-06-13</td>\n",
       "      <td>2016-06-13T13:20:57.115-04:00</td>\n",
       "      <td>13:20:46</td>\n",
       "      <td>00:01:11</td>\n",
       "      <td>00:01:03</td>\n",
       "    </tr>\n",
       "  </tbody>\n",
       "</table>\n",
       "</div>"
      ],
      "text/plain": [
       "             vehicleID           Line                 RecordedAtTime  \\\n",
       "666177   MTA NYCT_1001  MTA NYCT_M101  2016-06-13T13:07:14.000-04:00   \n",
       "1156394  MTA NYCT_1001  MTA NYCT_M101  2016-06-13T13:08:28.000-04:00   \n",
       "3826081  MTA NYCT_1001  MTA NYCT_M101  2016-06-13T13:09:32.000-04:00   \n",
       "189959   MTA NYCT_1001  MTA NYCT_M101  2016-06-13T13:11:08.000-04:00   \n",
       "1580839  MTA NYCT_1001  MTA NYCT_M101  2016-06-13T13:12:44.000-04:00   \n",
       "1200980  MTA NYCT_1001  MTA NYCT_M101  2016-06-13T13:14:21.000-04:00   \n",
       "692932   MTA NYCT_1001  MTA NYCT_M101  2016-06-13T13:16:29.000-04:00   \n",
       "695328   MTA NYCT_1001  MTA NYCT_M101  2016-06-13T13:18:06.000-04:00   \n",
       "5054877  MTA NYCT_1001  MTA NYCT_M101  2016-06-13T13:19:10.000-04:00   \n",
       "1205750  MTA NYCT_1001  MTA NYCT_M101  2016-06-13T13:20:46.000-04:00   \n",
       "\n",
       "          Latitude  Longitude                                         Trip  \\\n",
       "666177   40.785463 -73.951226  MTA NYCT_OH_B6-Weekday-SDon-077600_M101_100   \n",
       "1156394  40.783989 -73.952304  MTA NYCT_OH_B6-Weekday-SDon-077600_M101_100   \n",
       "3826081  40.780415 -73.954914  MTA NYCT_OH_B6-Weekday-SDon-077600_M101_100   \n",
       "189959   40.778855 -73.956053  MTA NYCT_OH_B6-Weekday-SDon-077600_M101_100   \n",
       "1580839  40.778855 -73.956053  MTA NYCT_OH_B6-Weekday-SDon-077600_M101_100   \n",
       "1200980  40.776306 -73.957914  MTA NYCT_OH_B6-Weekday-SDon-077600_M101_100   \n",
       "692932   40.774441 -73.959274  MTA NYCT_OH_B6-Weekday-SDon-077600_M101_100   \n",
       "695328   40.773643 -73.959854  MTA NYCT_OH_B6-Weekday-SDon-077600_M101_100   \n",
       "5054877  40.773113 -73.960244  MTA NYCT_OH_B6-Weekday-SDon-077600_M101_100   \n",
       "1205750  40.772552 -73.960653  MTA NYCT_OH_B6-Weekday-SDon-077600_M101_100   \n",
       "\n",
       "           TripDate              ResponseTimeStamp  RecordedAtTime_parsed  \\\n",
       "666177   2016-06-13  2016-06-13T13:07:33.389-04:00               13:07:14   \n",
       "1156394  2016-06-13  2016-06-13T13:08:53.334-04:00               13:08:28   \n",
       "3826081  2016-06-13  2016-06-13T13:10:00.135-04:00               13:09:32   \n",
       "189959   2016-06-13  2016-06-13T13:11:26.766-04:00               13:11:08   \n",
       "1580839  2016-06-13  2016-06-13T13:13:00.129-04:00               13:12:44   \n",
       "1200980  2016-06-13  2016-06-13T13:14:30.117-04:00               13:14:21   \n",
       "692932   2016-06-13  2016-06-13T13:17:00.096-04:00               13:16:29   \n",
       "695328   2016-06-13  2016-06-13T13:18:30.130-04:00               13:18:06   \n",
       "5054877  2016-06-13  2016-06-13T13:19:30.883-04:00               13:19:10   \n",
       "1205750  2016-06-13  2016-06-13T13:20:57.115-04:00               13:20:46   \n",
       "\n",
       "         TimeSinceLastSiriResponse  TimeSinceLastPing  \n",
       "666177                    00:00:03           00:01:34  \n",
       "1156394                   00:00:22           00:01:14  \n",
       "3826081                   00:00:04           00:01:04  \n",
       "189959                    00:01:17           00:01:04  \n",
       "1580839                   00:01:19           00:01:05  \n",
       "1200980                   00:01:28           00:01:37  \n",
       "692932                    00:01:19           00:01:04  \n",
       "695328                    00:01:22           00:01:05  \n",
       "5054877                   00:01:00           00:01:04  \n",
       "1205750                   00:01:11           00:01:03  "
      ]
     },
     "execution_count": 21,
     "metadata": {},
     "output_type": "execute_result"
    }
   ],
   "source": [
    "oneday[gaps].head(10)"
   ]
  },
  {
   "cell_type": "code",
   "execution_count": 31,
   "metadata": {
    "collapsed": false
   },
   "outputs": [
    {
     "data": {
      "text/plain": [
       "0.51354414734344878"
      ]
     },
     "execution_count": 31,
     "metadata": {},
     "output_type": "execute_result"
    }
   ],
   "source": [
    "# percent of pings that follow a gap\n",
    "sum(gaps)/(len(gaps)*1.0)"
   ]
  },
  {
   "cell_type": "code",
   "execution_count": 30,
   "metadata": {
    "collapsed": false
   },
   "outputs": [
    {
     "data": {
      "text/plain": [
       "0.13833149697946398"
      ]
     },
     "execution_count": 30,
     "metadata": {},
     "output_type": "execute_result"
    }
   ],
   "source": [
    "# these are definitely obscured by Siri gap\n",
    "sum(oneday.TimeSinceLastPing[gaps] < oneday.TimeSinceLastSiriResponse[gaps])/(len(gaps)*1.0)"
   ]
  },
  {
   "cell_type": "code",
   "execution_count": 46,
   "metadata": {
    "collapsed": false
   },
   "outputs": [
    {
     "data": {
      "text/plain": [
       "0.15767868855916872"
      ]
     },
     "execution_count": 46,
     "metadata": {},
     "output_type": "execute_result"
    }
   ],
   "source": [
    "# for which gaps was the last siri call at least 30 seconds after the last ping\n",
    "# these are definitely a vehicle gap (at least, the first ping...)\n",
    "sum(oneday.TimeSinceLastSiriResponse[gaps] < (oneday.TimeSinceLastPing[gaps] - ttools.datetime.timedelta(seconds=30)))/(len(gaps)*1.0)"
   ]
  },
  {
   "cell_type": "code",
   "execution_count": null,
   "metadata": {
    "collapsed": true
   },
   "outputs": [],
   "source": []
  }
 ],
 "metadata": {
  "kernelspec": {
   "display_name": "Python 2",
   "language": "python",
   "name": "python2"
  },
  "language_info": {
   "codemirror_mode": {
    "name": "ipython",
    "version": 2
   },
   "file_extension": ".py",
   "mimetype": "text/x-python",
   "name": "python",
   "nbconvert_exporter": "python",
   "pygments_lexer": "ipython2",
   "version": "2.7.11"
  }
 },
 "nbformat": 4,
 "nbformat_minor": 0
}
