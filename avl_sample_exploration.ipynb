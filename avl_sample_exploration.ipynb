{
 "cells": [
  {
   "cell_type": "code",
   "execution_count": 1,
   "metadata": {
    "collapsed": true
   },
   "outputs": [],
   "source": [
    "import os\n",
    "import pandas as pd\n",
    "import numpy as np\n",
    "os.chdir('../..')\n",
    "os.chdir('share')"
   ]
  },
  {
   "cell_type": "code",
   "execution_count": 22,
   "metadata": {
    "collapsed": true
   },
   "outputs": [],
   "source": [
    "avl_data = pd.read_csv('newdata_parsed.csv',parse_dates=['RecordedAtTime','ResponseTimeStamp'])"
   ]
  },
  {
   "cell_type": "code",
   "execution_count": 23,
   "metadata": {
    "collapsed": false
   },
   "outputs": [],
   "source": [
    "avl_data = avl_data.sort(columns=['vehicleID','RecordedAtTime'])"
   ]
  },
  {
   "cell_type": "code",
   "execution_count": 29,
   "metadata": {
    "collapsed": true
   },
   "outputs": [],
   "source": [
    "avl_data.drop_duplicates(subset=['vehicleID','RecordedAtTime','Latitude','Longitude'],inplace=True)"
   ]
  },
  {
   "cell_type": "code",
   "execution_count": 30,
   "metadata": {
    "collapsed": false
   },
   "outputs": [
    {
     "data": {
      "text/html": [
       "<div style=\"max-height:1000px;max-width:1500px;overflow:auto;\">\n",
       "<table border=\"1\" class=\"dataframe\">\n",
       "  <thead>\n",
       "    <tr style=\"text-align: right;\">\n",
       "      <th></th>\n",
       "      <th>vehicleID</th>\n",
       "      <th>Line</th>\n",
       "      <th>RecordedAtTime</th>\n",
       "      <th>Latitude</th>\n",
       "      <th>Longitude</th>\n",
       "      <th>Trip</th>\n",
       "      <th>TripDate</th>\n",
       "      <th>ResponseTimeStamp</th>\n",
       "    </tr>\n",
       "  </thead>\n",
       "  <tbody>\n",
       "    <tr>\n",
       "      <th>663836</th>\n",
       "      <td>MTA NYCT_1001</td>\n",
       "      <td>MTA NYCT_M101</td>\n",
       "      <td>2016-06-13 17:05:40</td>\n",
       "      <td>40.786901</td>\n",
       "      <td>-73.950176</td>\n",
       "      <td>MTA NYCT_OH_B6-Weekday-SDon-077600_M101_100</td>\n",
       "      <td>2016-06-13</td>\n",
       "      <td>2016-06-13 17:06:00.048000</td>\n",
       "    </tr>\n",
       "    <tr>\n",
       "      <th>666177</th>\n",
       "      <td>MTA NYCT_1001</td>\n",
       "      <td>MTA NYCT_M101</td>\n",
       "      <td>2016-06-13 17:07:14</td>\n",
       "      <td>40.785463</td>\n",
       "      <td>-73.951226</td>\n",
       "      <td>MTA NYCT_OH_B6-Weekday-SDon-077600_M101_100</td>\n",
       "      <td>2016-06-13</td>\n",
       "      <td>2016-06-13 17:07:33.389000</td>\n",
       "    </tr>\n",
       "    <tr>\n",
       "      <th>1156394</th>\n",
       "      <td>MTA NYCT_1001</td>\n",
       "      <td>MTA NYCT_M101</td>\n",
       "      <td>2016-06-13 17:08:28</td>\n",
       "      <td>40.783989</td>\n",
       "      <td>-73.952304</td>\n",
       "      <td>MTA NYCT_OH_B6-Weekday-SDon-077600_M101_100</td>\n",
       "      <td>2016-06-13</td>\n",
       "      <td>2016-06-13 17:08:53.334000</td>\n",
       "    </tr>\n",
       "    <tr>\n",
       "      <th>3826081</th>\n",
       "      <td>MTA NYCT_1001</td>\n",
       "      <td>MTA NYCT_M101</td>\n",
       "      <td>2016-06-13 17:09:32</td>\n",
       "      <td>40.780415</td>\n",
       "      <td>-73.954914</td>\n",
       "      <td>MTA NYCT_OH_B6-Weekday-SDon-077600_M101_100</td>\n",
       "      <td>2016-06-13</td>\n",
       "      <td>2016-06-13 17:10:00.135000</td>\n",
       "    </tr>\n",
       "    <tr>\n",
       "      <th>4435928</th>\n",
       "      <td>MTA NYCT_1001</td>\n",
       "      <td>MTA NYCT_M101</td>\n",
       "      <td>2016-06-13 17:10:04</td>\n",
       "      <td>40.779581</td>\n",
       "      <td>-73.955523</td>\n",
       "      <td>MTA NYCT_OH_B6-Weekday-SDon-077600_M101_100</td>\n",
       "      <td>2016-06-13</td>\n",
       "      <td>2016-06-13 17:10:09.167000</td>\n",
       "    </tr>\n",
       "  </tbody>\n",
       "</table>\n",
       "</div>"
      ],
      "text/plain": [
       "             vehicleID           Line      RecordedAtTime   Latitude  \\\n",
       "663836   MTA NYCT_1001  MTA NYCT_M101 2016-06-13 17:05:40  40.786901   \n",
       "666177   MTA NYCT_1001  MTA NYCT_M101 2016-06-13 17:07:14  40.785463   \n",
       "1156394  MTA NYCT_1001  MTA NYCT_M101 2016-06-13 17:08:28  40.783989   \n",
       "3826081  MTA NYCT_1001  MTA NYCT_M101 2016-06-13 17:09:32  40.780415   \n",
       "4435928  MTA NYCT_1001  MTA NYCT_M101 2016-06-13 17:10:04  40.779581   \n",
       "\n",
       "         Longitude                                         Trip    TripDate  \\\n",
       "663836  -73.950176  MTA NYCT_OH_B6-Weekday-SDon-077600_M101_100  2016-06-13   \n",
       "666177  -73.951226  MTA NYCT_OH_B6-Weekday-SDon-077600_M101_100  2016-06-13   \n",
       "1156394 -73.952304  MTA NYCT_OH_B6-Weekday-SDon-077600_M101_100  2016-06-13   \n",
       "3826081 -73.954914  MTA NYCT_OH_B6-Weekday-SDon-077600_M101_100  2016-06-13   \n",
       "4435928 -73.955523  MTA NYCT_OH_B6-Weekday-SDon-077600_M101_100  2016-06-13   \n",
       "\n",
       "                 ResponseTimeStamp  \n",
       "663836  2016-06-13 17:06:00.048000  \n",
       "666177  2016-06-13 17:07:33.389000  \n",
       "1156394 2016-06-13 17:08:53.334000  \n",
       "3826081 2016-06-13 17:10:00.135000  \n",
       "4435928 2016-06-13 17:10:09.167000  "
      ]
     },
     "execution_count": 30,
     "metadata": {},
     "output_type": "execute_result"
    }
   ],
   "source": [
    "avl_data.head()"
   ]
  },
  {
   "cell_type": "code",
   "execution_count": 32,
   "metadata": {
    "collapsed": false
   },
   "outputs": [
    {
     "data": {
      "text/html": [
       "<div style=\"max-height:1000px;max-width:1500px;overflow:auto;\">\n",
       "<table border=\"1\" class=\"dataframe\">\n",
       "  <thead>\n",
       "    <tr style=\"text-align: right;\">\n",
       "      <th></th>\n",
       "      <th>Latitude</th>\n",
       "      <th>Longitude</th>\n",
       "      <th>RecordedAtTime</th>\n",
       "      <th>ResponseTimeStamp</th>\n",
       "    </tr>\n",
       "  </thead>\n",
       "  <tbody>\n",
       "    <tr>\n",
       "      <th>666177</th>\n",
       "      <td>NaN</td>\n",
       "      <td>NaN</td>\n",
       "      <td>NaT</td>\n",
       "      <td>NaT</td>\n",
       "    </tr>\n",
       "    <tr>\n",
       "      <th>1156394</th>\n",
       "      <td>-0.001474</td>\n",
       "      <td>-0.001078</td>\n",
       "      <td>00:01:14</td>\n",
       "      <td>00:01:19.945000</td>\n",
       "    </tr>\n",
       "    <tr>\n",
       "      <th>3826081</th>\n",
       "      <td>-0.003574</td>\n",
       "      <td>-0.002610</td>\n",
       "      <td>00:01:04</td>\n",
       "      <td>00:01:06.801000</td>\n",
       "    </tr>\n",
       "  </tbody>\n",
       "</table>\n",
       "</div>"
      ],
      "text/plain": [
       "         Latitude  Longitude  RecordedAtTime  ResponseTimeStamp\n",
       "666177        NaN        NaN             NaT                NaT\n",
       "1156394 -0.001474  -0.001078        00:01:14    00:01:19.945000\n",
       "3826081 -0.003574  -0.002610        00:01:04    00:01:06.801000"
      ]
     },
     "execution_count": 32,
     "metadata": {},
     "output_type": "execute_result"
    }
   ],
   "source": [
    "avl_data.iloc[1:4][['Latitude','Longitude','RecordedAtTime','ResponseTimeStamp']].diff()"
   ]
  },
  {
   "cell_type": "code",
   "execution_count": 58,
   "metadata": {
    "collapsed": false
   },
   "outputs": [
    {
     "data": {
      "text/plain": [
       "vehicleID                    object\n",
       "Line                         object\n",
       "RecordedAtTime       datetime64[ns]\n",
       "Latitude                    float64\n",
       "Longitude                   float64\n",
       "Trip                         object\n",
       "TripDate                     object\n",
       "ResponseTimeStamp    datetime64[ns]\n",
       "dtype: object"
      ]
     },
     "execution_count": 58,
     "metadata": {},
     "output_type": "execute_result"
    }
   ],
   "source": [
    "avl_data.dtypes"
   ]
  },
  {
   "cell_type": "code",
   "execution_count": 49,
   "metadata": {
    "collapsed": false
   },
   "outputs": [
    {
     "data": {
      "text/plain": [
       "(3422,)"
      ]
     },
     "execution_count": 49,
     "metadata": {},
     "output_type": "execute_result"
    }
   ],
   "source": [
    "np.diff(responsetimes).shape"
   ]
  },
  {
   "cell_type": "code",
   "execution_count": null,
   "metadata": {
    "collapsed": true
   },
   "outputs": [],
   "source": []
  },
  {
   "cell_type": "code",
   "execution_count": 37,
   "metadata": {
    "collapsed": true
   },
   "outputs": [],
   "source": [
    "responsetimes = avl_data.ResponseTimeStamp.unique()"
   ]
  },
  {
   "cell_type": "code",
   "execution_count": 38,
   "metadata": {
    "collapsed": true
   },
   "outputs": [],
   "source": [
    "responsetimes.sort()"
   ]
  },
  {
   "cell_type": "code",
   "execution_count": 53,
   "metadata": {
    "collapsed": false
   },
   "outputs": [],
   "source": [
    "responsetimediffs = pd.Series(index=responsetimes[1:],data=np.diff(responsetimes))"
   ]
  },
  {
   "cell_type": "code",
   "execution_count": 56,
   "metadata": {
    "collapsed": false
   },
   "outputs": [
    {
     "data": {
      "text/plain": [
       "DatetimeIndex(['2016-06-13 06:11:15.880000', '2016-06-13 06:11:51.152000'], dtype='datetime64[ns]', freq=None, tz=None)"
      ]
     },
     "execution_count": 56,
     "metadata": {},
     "output_type": "execute_result"
    }
   ],
   "source": [
    "responsetimediffs.index[:2]"
   ]
  },
  {
   "cell_type": "code",
   "execution_count": 59,
   "metadata": {
    "collapsed": false
   },
   "outputs": [
    {
     "ename": "IndexError",
     "evalue": "list index out of range",
     "output_type": "error",
     "traceback": [
      "\u001b[1;31m---------------------------------------------------------------------------\u001b[0m",
      "\u001b[1;31mIndexError\u001b[0m                                Traceback (most recent call last)",
      "\u001b[1;32m<ipython-input-59-2d5382a3b9d6>\u001b[0m in \u001b[0;36m<module>\u001b[1;34m()\u001b[0m\n\u001b[1;32m----> 1\u001b[1;33m \u001b[0mpd\u001b[0m\u001b[1;33m.\u001b[0m\u001b[0mmerge\u001b[0m\u001b[1;33m(\u001b[0m\u001b[0mavl_data\u001b[0m\u001b[1;33m,\u001b[0m\u001b[0mresponsetimediffs\u001b[0m\u001b[1;33m,\u001b[0m\u001b[0mleft_on\u001b[0m\u001b[1;33m=\u001b[0m\u001b[1;34m'ResponseTimeStamp'\u001b[0m\u001b[1;33m,\u001b[0m\u001b[0mright_index\u001b[0m\u001b[1;33m=\u001b[0m\u001b[0mTrue\u001b[0m\u001b[1;33m)\u001b[0m\u001b[1;33m\u001b[0m\u001b[0m\n\u001b[0m",
      "\u001b[1;32m/opt/rh/anaconda/root/lib/python2.7/site-packages/pandas/tools/merge.pyc\u001b[0m in \u001b[0;36mmerge\u001b[1;34m(left, right, how, on, left_on, right_on, left_index, right_index, sort, suffixes, copy)\u001b[0m\n\u001b[0;32m     36\u001b[0m                          \u001b[0mright_index\u001b[0m\u001b[1;33m=\u001b[0m\u001b[0mright_index\u001b[0m\u001b[1;33m,\u001b[0m \u001b[0msort\u001b[0m\u001b[1;33m=\u001b[0m\u001b[0msort\u001b[0m\u001b[1;33m,\u001b[0m \u001b[0msuffixes\u001b[0m\u001b[1;33m=\u001b[0m\u001b[0msuffixes\u001b[0m\u001b[1;33m,\u001b[0m\u001b[1;33m\u001b[0m\u001b[0m\n\u001b[0;32m     37\u001b[0m                          copy=copy)\n\u001b[1;32m---> 38\u001b[1;33m     \u001b[1;32mreturn\u001b[0m \u001b[0mop\u001b[0m\u001b[1;33m.\u001b[0m\u001b[0mget_result\u001b[0m\u001b[1;33m(\u001b[0m\u001b[1;33m)\u001b[0m\u001b[1;33m\u001b[0m\u001b[0m\n\u001b[0m\u001b[0;32m     39\u001b[0m \u001b[1;32mif\u001b[0m \u001b[0m__debug__\u001b[0m\u001b[1;33m:\u001b[0m\u001b[1;33m\u001b[0m\u001b[0m\n\u001b[0;32m     40\u001b[0m     \u001b[0mmerge\u001b[0m\u001b[1;33m.\u001b[0m\u001b[0m__doc__\u001b[0m \u001b[1;33m=\u001b[0m \u001b[0m_merge_doc\u001b[0m \u001b[1;33m%\u001b[0m \u001b[1;34m'\\nleft : DataFrame'\u001b[0m\u001b[1;33m\u001b[0m\u001b[0m\n",
      "\u001b[1;32m/opt/rh/anaconda/root/lib/python2.7/site-packages/pandas/tools/merge.pyc\u001b[0m in \u001b[0;36mget_result\u001b[1;34m(self)\u001b[0m\n\u001b[0;32m    184\u001b[0m \u001b[1;33m\u001b[0m\u001b[0m\n\u001b[0;32m    185\u001b[0m     \u001b[1;32mdef\u001b[0m \u001b[0mget_result\u001b[0m\u001b[1;33m(\u001b[0m\u001b[0mself\u001b[0m\u001b[1;33m)\u001b[0m\u001b[1;33m:\u001b[0m\u001b[1;33m\u001b[0m\u001b[0m\n\u001b[1;32m--> 186\u001b[1;33m         \u001b[0mjoin_index\u001b[0m\u001b[1;33m,\u001b[0m \u001b[0mleft_indexer\u001b[0m\u001b[1;33m,\u001b[0m \u001b[0mright_indexer\u001b[0m \u001b[1;33m=\u001b[0m \u001b[0mself\u001b[0m\u001b[1;33m.\u001b[0m\u001b[0m_get_join_info\u001b[0m\u001b[1;33m(\u001b[0m\u001b[1;33m)\u001b[0m\u001b[1;33m\u001b[0m\u001b[0m\n\u001b[0m\u001b[0;32m    187\u001b[0m \u001b[1;33m\u001b[0m\u001b[0m\n\u001b[0;32m    188\u001b[0m         \u001b[0mldata\u001b[0m\u001b[1;33m,\u001b[0m \u001b[0mrdata\u001b[0m \u001b[1;33m=\u001b[0m \u001b[0mself\u001b[0m\u001b[1;33m.\u001b[0m\u001b[0mleft\u001b[0m\u001b[1;33m.\u001b[0m\u001b[0m_data\u001b[0m\u001b[1;33m,\u001b[0m \u001b[0mself\u001b[0m\u001b[1;33m.\u001b[0m\u001b[0mright\u001b[0m\u001b[1;33m.\u001b[0m\u001b[0m_data\u001b[0m\u001b[1;33m\u001b[0m\u001b[0m\n",
      "\u001b[1;32m/opt/rh/anaconda/root/lib/python2.7/site-packages/pandas/tools/merge.pyc\u001b[0m in \u001b[0;36m_get_join_info\u001b[1;34m(self)\u001b[0m\n\u001b[0;32m    254\u001b[0m     \u001b[1;32mdef\u001b[0m \u001b[0m_get_join_info\u001b[0m\u001b[1;33m(\u001b[0m\u001b[0mself\u001b[0m\u001b[1;33m)\u001b[0m\u001b[1;33m:\u001b[0m\u001b[1;33m\u001b[0m\u001b[0m\n\u001b[0;32m    255\u001b[0m         \u001b[0mleft_ax\u001b[0m \u001b[1;33m=\u001b[0m \u001b[0mself\u001b[0m\u001b[1;33m.\u001b[0m\u001b[0mleft\u001b[0m\u001b[1;33m.\u001b[0m\u001b[0m_data\u001b[0m\u001b[1;33m.\u001b[0m\u001b[0maxes\u001b[0m\u001b[1;33m[\u001b[0m\u001b[0mself\u001b[0m\u001b[1;33m.\u001b[0m\u001b[0maxis\u001b[0m\u001b[1;33m]\u001b[0m\u001b[1;33m\u001b[0m\u001b[0m\n\u001b[1;32m--> 256\u001b[1;33m         \u001b[0mright_ax\u001b[0m \u001b[1;33m=\u001b[0m \u001b[0mself\u001b[0m\u001b[1;33m.\u001b[0m\u001b[0mright\u001b[0m\u001b[1;33m.\u001b[0m\u001b[0m_data\u001b[0m\u001b[1;33m.\u001b[0m\u001b[0maxes\u001b[0m\u001b[1;33m[\u001b[0m\u001b[0mself\u001b[0m\u001b[1;33m.\u001b[0m\u001b[0maxis\u001b[0m\u001b[1;33m]\u001b[0m\u001b[1;33m\u001b[0m\u001b[0m\n\u001b[0m\u001b[0;32m    257\u001b[0m         \u001b[1;32mif\u001b[0m \u001b[0mself\u001b[0m\u001b[1;33m.\u001b[0m\u001b[0mleft_index\u001b[0m \u001b[1;32mand\u001b[0m \u001b[0mself\u001b[0m\u001b[1;33m.\u001b[0m\u001b[0mright_index\u001b[0m\u001b[1;33m:\u001b[0m\u001b[1;33m\u001b[0m\u001b[0m\n\u001b[0;32m    258\u001b[0m             \u001b[0mjoin_index\u001b[0m\u001b[1;33m,\u001b[0m \u001b[0mleft_indexer\u001b[0m\u001b[1;33m,\u001b[0m \u001b[0mright_indexer\u001b[0m \u001b[1;33m=\u001b[0m\u001b[0;31m \u001b[0m\u001b[0;31m\\\u001b[0m\u001b[1;33m\u001b[0m\u001b[0m\n",
      "\u001b[1;31mIndexError\u001b[0m: list index out of range"
     ]
    }
   ],
   "source": [
    "pd.merge(avl_data,responsetimediffs,left_on='ResponseTimeStamp',right_index=True)"
   ]
  },
  {
   "cell_type": "code",
   "execution_count": null,
   "metadata": {
    "collapsed": true
   },
   "outputs": [],
   "source": []
  }
 ],
 "metadata": {
  "kernelspec": {
   "display_name": "Python 2",
   "language": "python",
   "name": "python2"
  },
  "language_info": {
   "codemirror_mode": {
    "name": "ipython",
    "version": 2
   },
   "file_extension": ".py",
   "mimetype": "text/x-python",
   "name": "python",
   "nbconvert_exporter": "python",
   "pygments_lexer": "ipython2",
   "version": "2.7.11"
  }
 },
 "nbformat": 4,
 "nbformat_minor": 0
}
