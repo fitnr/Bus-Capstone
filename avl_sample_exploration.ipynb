{
 "cells": [
  {
   "cell_type": "code",
   "execution_count": 1,
   "metadata": {
    "collapsed": true
   },
   "outputs": [],
   "source": [
    "import os\n",
    "import pandas as pd\n",
    "import numpy as np\n",
    "import sys\n",
    "sys.path.append('/gpfs2/projects/project-bus_capstone_2016/workspace/mu529/Bus-Capstone')\n",
    "import ttools\n",
    "os.chdir('../..')\n",
    "os.chdir('share')"
   ]
  },
  {
   "cell_type": "code",
   "execution_count": 2,
   "metadata": {
    "collapsed": true
   },
   "outputs": [],
   "source": [
    "avl_data = pd.read_csv('newdata_parsed.csv')"
   ]
  },
  {
   "cell_type": "code",
   "execution_count": 3,
   "metadata": {
    "collapsed": false
   },
   "outputs": [],
   "source": [
    "oneday = avl_data.query('TripDate==\"2016-06-13\"')"
   ]
  },
  {
   "cell_type": "code",
   "execution_count": 6,
   "metadata": {
    "collapsed": false
   },
   "outputs": [],
   "source": [
    "oneday.query('Line == \"MTA NYCT_B26\"').to_csv('2016-06-13_lineB26_sample.csv')"
   ]
  },
  {
   "cell_type": "code",
   "execution_count": 9,
   "metadata": {
    "collapsed": false
   },
   "outputs": [],
   "source": [
    "oneday = oneday.sort(columns=['vehicleID','RecordedAtTime'])"
   ]
  },
  {
   "cell_type": "code",
   "execution_count": 10,
   "metadata": {
    "collapsed": true
   },
   "outputs": [],
   "source": [
    "oneday.drop_duplicates(subset=['vehicleID','RecordedAtTime','Latitude','Longitude'],inplace=True)"
   ]
  },
  {
   "cell_type": "code",
   "execution_count": 14,
   "metadata": {
    "collapsed": false
   },
   "outputs": [],
   "source": [
    "oneday['RecordedAtTime_parsed'] = oneday.RecordedAtTime.apply(ttools.parseActualTime,tdate='2016-06-13')"
   ]
  },
  {
   "cell_type": "markdown",
   "metadata": {},
   "source": [
    "That finishes the parsing of the vehicle ping times.\n",
    "Next is to look at the time deltas between the Siri API responses."
   ]
  },
  {
   "cell_type": "code",
   "execution_count": 39,
   "metadata": {
    "collapsed": true
   },
   "outputs": [],
   "source": [
    "responsetimes = oneday.ResponseTimeStamp.unique()"
   ]
  },
  {
   "cell_type": "code",
   "execution_count": 40,
   "metadata": {
    "collapsed": true
   },
   "outputs": [],
   "source": [
    "responsetimes.sort()"
   ]
  },
  {
   "cell_type": "code",
   "execution_count": 41,
   "metadata": {
    "collapsed": true
   },
   "outputs": [],
   "source": [
    "responsetimes = pd.Series(data=responsetimes,index=responsetimes)"
   ]
  },
  {
   "cell_type": "code",
   "execution_count": 42,
   "metadata": {
    "collapsed": false
   },
   "outputs": [],
   "source": [
    "responsetimes = responsetimes.apply(ttools.parseActualTime,tdate='2016-06-13')"
   ]
  },
  {
   "cell_type": "code",
   "execution_count": 43,
   "metadata": {
    "collapsed": false
   },
   "outputs": [],
   "source": [
    "responsetimediffs = pd.DataFrame(responsetimes.diff(),columns=['TimeSinceLastSiriResponse'])"
   ]
  },
  {
   "cell_type": "code",
   "execution_count": 44,
   "metadata": {
    "collapsed": false
   },
   "outputs": [
    {
     "data": {
      "text/html": [
       "<div style=\"max-height:1000px;max-width:1500px;overflow:auto;\">\n",
       "<table border=\"1\" class=\"dataframe\">\n",
       "  <thead>\n",
       "    <tr style=\"text-align: right;\">\n",
       "      <th></th>\n",
       "      <th>TimeSinceLastSiriResponse</th>\n",
       "    </tr>\n",
       "  </thead>\n",
       "  <tbody>\n",
       "    <tr>\n",
       "      <th>2016-06-13T02:10:40.022-04:00</th>\n",
       "      <td>NaT</td>\n",
       "    </tr>\n",
       "    <tr>\n",
       "      <th>2016-06-13T02:11:15.880-04:00</th>\n",
       "      <td>00:00:35</td>\n",
       "    </tr>\n",
       "    <tr>\n",
       "      <th>2016-06-13T02:11:51.152-04:00</th>\n",
       "      <td>00:00:36</td>\n",
       "    </tr>\n",
       "    <tr>\n",
       "      <th>2016-06-13T02:12:25.817-04:00</th>\n",
       "      <td>00:00:34</td>\n",
       "    </tr>\n",
       "    <tr>\n",
       "      <th>2016-06-13T02:13:00.099-04:00</th>\n",
       "      <td>00:00:35</td>\n",
       "    </tr>\n",
       "  </tbody>\n",
       "</table>\n",
       "</div>"
      ],
      "text/plain": [
       "                               TimeSinceLastSiriResponse\n",
       "2016-06-13T02:10:40.022-04:00                        NaT\n",
       "2016-06-13T02:11:15.880-04:00                   00:00:35\n",
       "2016-06-13T02:11:51.152-04:00                   00:00:36\n",
       "2016-06-13T02:12:25.817-04:00                   00:00:34\n",
       "2016-06-13T02:13:00.099-04:00                   00:00:35"
      ]
     },
     "execution_count": 44,
     "metadata": {},
     "output_type": "execute_result"
    }
   ],
   "source": [
    "responsetimediffs.head()"
   ]
  },
  {
   "cell_type": "code",
   "execution_count": 48,
   "metadata": {
    "collapsed": false
   },
   "outputs": [
    {
     "data": {
      "text/html": [
       "<div style=\"max-height:1000px;max-width:1500px;overflow:auto;\">\n",
       "<table border=\"1\" class=\"dataframe\">\n",
       "  <thead>\n",
       "    <tr style=\"text-align: right;\">\n",
       "      <th></th>\n",
       "      <th>vehicleID</th>\n",
       "      <th>Line</th>\n",
       "      <th>RecordedAtTime</th>\n",
       "      <th>Latitude</th>\n",
       "      <th>Longitude</th>\n",
       "      <th>Trip</th>\n",
       "      <th>TripDate</th>\n",
       "      <th>ResponseTimeStamp</th>\n",
       "      <th>RecordedAtTime_parsed</th>\n",
       "      <th>TimeSinceLastSiriResponse</th>\n",
       "    </tr>\n",
       "  </thead>\n",
       "  <tbody>\n",
       "    <tr>\n",
       "      <th>663836</th>\n",
       "      <td>MTA NYCT_1001</td>\n",
       "      <td>MTA NYCT_M101</td>\n",
       "      <td>2016-06-13T13:05:40.000-04:00</td>\n",
       "      <td>40.786901</td>\n",
       "      <td>-73.950176</td>\n",
       "      <td>MTA NYCT_OH_B6-Weekday-SDon-077600_M101_100</td>\n",
       "      <td>2016-06-13</td>\n",
       "      <td>2016-06-13T13:06:00.048-04:00</td>\n",
       "      <td>13:05:40</td>\n",
       "      <td>00:01:28</td>\n",
       "    </tr>\n",
       "    <tr>\n",
       "      <th>666177</th>\n",
       "      <td>MTA NYCT_1001</td>\n",
       "      <td>MTA NYCT_M101</td>\n",
       "      <td>2016-06-13T13:07:14.000-04:00</td>\n",
       "      <td>40.785463</td>\n",
       "      <td>-73.951226</td>\n",
       "      <td>MTA NYCT_OH_B6-Weekday-SDon-077600_M101_100</td>\n",
       "      <td>2016-06-13</td>\n",
       "      <td>2016-06-13T13:07:33.389-04:00</td>\n",
       "      <td>13:07:14</td>\n",
       "      <td>00:00:03</td>\n",
       "    </tr>\n",
       "    <tr>\n",
       "      <th>1156394</th>\n",
       "      <td>MTA NYCT_1001</td>\n",
       "      <td>MTA NYCT_M101</td>\n",
       "      <td>2016-06-13T13:08:28.000-04:00</td>\n",
       "      <td>40.783989</td>\n",
       "      <td>-73.952304</td>\n",
       "      <td>MTA NYCT_OH_B6-Weekday-SDon-077600_M101_100</td>\n",
       "      <td>2016-06-13</td>\n",
       "      <td>2016-06-13T13:08:53.334-04:00</td>\n",
       "      <td>13:08:28</td>\n",
       "      <td>00:00:22</td>\n",
       "    </tr>\n",
       "    <tr>\n",
       "      <th>3826081</th>\n",
       "      <td>MTA NYCT_1001</td>\n",
       "      <td>MTA NYCT_M101</td>\n",
       "      <td>2016-06-13T13:09:32.000-04:00</td>\n",
       "      <td>40.780415</td>\n",
       "      <td>-73.954914</td>\n",
       "      <td>MTA NYCT_OH_B6-Weekday-SDon-077600_M101_100</td>\n",
       "      <td>2016-06-13</td>\n",
       "      <td>2016-06-13T13:10:00.135-04:00</td>\n",
       "      <td>13:09:32</td>\n",
       "      <td>00:00:04</td>\n",
       "    </tr>\n",
       "    <tr>\n",
       "      <th>4435928</th>\n",
       "      <td>MTA NYCT_1001</td>\n",
       "      <td>MTA NYCT_M101</td>\n",
       "      <td>2016-06-13T13:10:04.000-04:00</td>\n",
       "      <td>40.779581</td>\n",
       "      <td>-73.955523</td>\n",
       "      <td>MTA NYCT_OH_B6-Weekday-SDon-077600_M101_100</td>\n",
       "      <td>2016-06-13</td>\n",
       "      <td>2016-06-13T13:10:09.167-04:00</td>\n",
       "      <td>13:10:04</td>\n",
       "      <td>00:00:09</td>\n",
       "    </tr>\n",
       "  </tbody>\n",
       "</table>\n",
       "</div>"
      ],
      "text/plain": [
       "             vehicleID           Line                 RecordedAtTime  \\\n",
       "663836   MTA NYCT_1001  MTA NYCT_M101  2016-06-13T13:05:40.000-04:00   \n",
       "666177   MTA NYCT_1001  MTA NYCT_M101  2016-06-13T13:07:14.000-04:00   \n",
       "1156394  MTA NYCT_1001  MTA NYCT_M101  2016-06-13T13:08:28.000-04:00   \n",
       "3826081  MTA NYCT_1001  MTA NYCT_M101  2016-06-13T13:09:32.000-04:00   \n",
       "4435928  MTA NYCT_1001  MTA NYCT_M101  2016-06-13T13:10:04.000-04:00   \n",
       "\n",
       "          Latitude  Longitude                                         Trip  \\\n",
       "663836   40.786901 -73.950176  MTA NYCT_OH_B6-Weekday-SDon-077600_M101_100   \n",
       "666177   40.785463 -73.951226  MTA NYCT_OH_B6-Weekday-SDon-077600_M101_100   \n",
       "1156394  40.783989 -73.952304  MTA NYCT_OH_B6-Weekday-SDon-077600_M101_100   \n",
       "3826081  40.780415 -73.954914  MTA NYCT_OH_B6-Weekday-SDon-077600_M101_100   \n",
       "4435928  40.779581 -73.955523  MTA NYCT_OH_B6-Weekday-SDon-077600_M101_100   \n",
       "\n",
       "           TripDate              ResponseTimeStamp  RecordedAtTime_parsed  \\\n",
       "663836   2016-06-13  2016-06-13T13:06:00.048-04:00               13:05:40   \n",
       "666177   2016-06-13  2016-06-13T13:07:33.389-04:00               13:07:14   \n",
       "1156394  2016-06-13  2016-06-13T13:08:53.334-04:00               13:08:28   \n",
       "3826081  2016-06-13  2016-06-13T13:10:00.135-04:00               13:09:32   \n",
       "4435928  2016-06-13  2016-06-13T13:10:09.167-04:00               13:10:04   \n",
       "\n",
       "         TimeSinceLastSiriResponse  \n",
       "663836                    00:01:28  \n",
       "666177                    00:00:03  \n",
       "1156394                   00:00:22  \n",
       "3826081                   00:00:04  \n",
       "4435928                   00:00:09  "
      ]
     },
     "execution_count": 48,
     "metadata": {},
     "output_type": "execute_result"
    }
   ],
   "source": [
    "oneday = oneday.merge(responsetimediffs,how='left',left_on='ResponseTimeStamp',right_index=True)"
   ]
  },
  {
   "cell_type": "code",
   "execution_count": null,
   "metadata": {
    "collapsed": true
   },
   "outputs": [],
   "source": []
  }
 ],
 "metadata": {
  "kernelspec": {
   "display_name": "Python 2",
   "language": "python",
   "name": "python2"
  },
  "language_info": {
   "codemirror_mode": {
    "name": "ipython",
    "version": 2
   },
   "file_extension": ".py",
   "mimetype": "text/x-python",
   "name": "python",
   "nbconvert_exporter": "python",
   "pygments_lexer": "ipython2",
   "version": "2.7.11"
  }
 },
 "nbformat": 4,
 "nbformat_minor": 0
}
