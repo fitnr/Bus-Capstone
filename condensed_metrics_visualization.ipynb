{
 "cells": [
  {
   "cell_type": "code",
   "execution_count": 60,
   "metadata": {
    "collapsed": false
   },
   "outputs": [],
   "source": [
    "import os\n",
    "import pandas as pd\n",
    "import matplotlib.pyplot as plt\n",
    "from scipy import interpolate\n",
    "import time\n",
    "import datetime \n",
    "%matplotlib inline  \n",
    "import sys\n",
    "sys.path.append('/gpfs2/projects/project-bus_capstone_2016/workspace/jz2308/bus-Capstone')\n",
    "\n",
    "# these two modules are homemade\n",
    "import gtfs\n",
    "import arrivals\n",
    "import ttools\n",
    "os.chdir('/gpfs2/projects/project-bus_capstone_2016/workspace/share')"
   ]
  },
  {
   "cell_type": "code",
   "execution_count": 81,
   "metadata": {
    "collapsed": false
   },
   "outputs": [],
   "source": [
    "import os\n",
    "import pandas as pd\n",
    "import gtfs #homemade module\n",
    "os.chdir('/gpfs2/projects/project-bus_capstone_2016/workspace/share')\n",
    "\n",
    "base = datetime.date(2015, 1, 1)\n",
    "schedule_samples = [str(base + datetime.timedelta(days=x)) for x in range(0, 365)]\n",
    "#schedule_samples = ['2015-01-04','2015-04-05','2015-06-27','2015-07-06','2015-09-05','2015-09-15','2015-10-12']\n",
    "collected = pd.DataFrame()\n",
    "for sdate in schedule_samples:\n",
    "    stops = gtfs.load_stops(sdate,'gtfs/')\n",
    "    stops['schedule_sample_date'] = sdate\n",
    "    collected = collected.append(stops[['stop_lat','stop_lon','stop_name','schedule_sample_date']].drop_duplicates())"
   ]
  },
  {
   "cell_type": "code",
   "execution_count": 79,
   "metadata": {
    "collapsed": false
   },
   "outputs": [],
   "source": []
  },
  {
   "cell_type": "code",
   "execution_count": null,
   "metadata": {
    "collapsed": false
   },
   "outputs": [],
   "source": []
  },
  {
   "cell_type": "code",
   "execution_count": 83,
   "metadata": {
    "collapsed": false
   },
   "outputs": [
    {
     "data": {
      "text/html": [
       "<div style=\"max-height:1000px;max-width:1500px;overflow:auto;\">\n",
       "<table border=\"1\" class=\"dataframe\">\n",
       "  <thead>\n",
       "    <tr style=\"text-align: right;\">\n",
       "      <th></th>\n",
       "      <th>stop_lat</th>\n",
       "      <th>stop_lon</th>\n",
       "      <th>stop_name</th>\n",
       "      <th>schedule_sample_date</th>\n",
       "    </tr>\n",
       "    <tr>\n",
       "      <th>stop_id</th>\n",
       "      <th></th>\n",
       "      <th></th>\n",
       "      <th></th>\n",
       "      <th></th>\n",
       "    </tr>\n",
       "  </thead>\n",
       "  <tbody>\n",
       "    <tr>\n",
       "      <th>985005</th>\n",
       "      <td>40.933637</td>\n",
       "      <td>-73.897818</td>\n",
       "      <td>S BROADWAY/NEW MAIN ST</td>\n",
       "      <td>2015-12-31</td>\n",
       "    </tr>\n",
       "    <tr>\n",
       "      <th>985006</th>\n",
       "      <td>40.932045</td>\n",
       "      <td>-73.899141</td>\n",
       "      <td>S BROADWAY/PROSPECT AV</td>\n",
       "      <td>2015-12-31</td>\n",
       "    </tr>\n",
       "    <tr>\n",
       "      <th>985007</th>\n",
       "      <td>40.920549</td>\n",
       "      <td>-73.896247</td>\n",
       "      <td>S BROADWAY/McLEAN AV</td>\n",
       "      <td>2015-12-31</td>\n",
       "    </tr>\n",
       "    <tr>\n",
       "      <th>985008</th>\n",
       "      <td>40.928762</td>\n",
       "      <td>-73.896532</td>\n",
       "      <td>S BROADWAY/VARK ST</td>\n",
       "      <td>2015-12-31</td>\n",
       "    </tr>\n",
       "    <tr>\n",
       "      <th>985009</th>\n",
       "      <td>40.917289</td>\n",
       "      <td>-73.896847</td>\n",
       "      <td>S BROADWAY/RADFORD ST</td>\n",
       "      <td>2015-12-31</td>\n",
       "    </tr>\n",
       "  </tbody>\n",
       "</table>\n",
       "</div>"
      ],
      "text/plain": [
       "          stop_lat   stop_lon               stop_name schedule_sample_date\n",
       "stop_id                                                                   \n",
       "985005   40.933637 -73.897818  S BROADWAY/NEW MAIN ST           2015-12-31\n",
       "985006   40.932045 -73.899141  S BROADWAY/PROSPECT AV           2015-12-31\n",
       "985007   40.920549 -73.896247    S BROADWAY/McLEAN AV           2015-12-31\n",
       "985008   40.928762 -73.896532      S BROADWAY/VARK ST           2015-12-31\n",
       "985009   40.917289 -73.896847   S BROADWAY/RADFORD ST           2015-12-31"
      ]
     },
     "execution_count": 83,
     "metadata": {},
     "output_type": "execute_result"
    }
   ],
   "source": [
    "collected.tail()"
   ]
  },
  {
   "cell_type": "code",
   "execution_count": 105,
   "metadata": {
    "collapsed": false
   },
   "outputs": [],
   "source": [
    "reliability_metrics = pd.read_csv('performance.csv',names = [\"Line\", \"stop_id\", \"schedule_sample_date\", \"ontime_ratio\", \"peak_hours wait ass\",\"offpeak hours wait ass\"])"
   ]
  },
  {
   "cell_type": "code",
   "execution_count": 106,
   "metadata": {
    "collapsed": false
   },
   "outputs": [
    {
     "data": {
      "text/html": [
       "<div style=\"max-height:1000px;max-width:1500px;overflow:auto;\">\n",
       "<table border=\"1\" class=\"dataframe\">\n",
       "  <thead>\n",
       "    <tr style=\"text-align: right;\">\n",
       "      <th></th>\n",
       "      <th>stop_lat</th>\n",
       "      <th>stop_lon</th>\n",
       "      <th>ontime_ratio</th>\n",
       "      <th>offpeak hours wait ass</th>\n",
       "    </tr>\n",
       "    <tr>\n",
       "      <th>stop_id</th>\n",
       "      <th></th>\n",
       "      <th></th>\n",
       "      <th></th>\n",
       "      <th></th>\n",
       "    </tr>\n",
       "  </thead>\n",
       "  <tbody>\n",
       "    <tr>\n",
       "      <th>100014</th>\n",
       "      <td>40.872562</td>\n",
       "      <td>-73.888153</td>\n",
       "      <td>0.139963</td>\n",
       "      <td>0.921871</td>\n",
       "    </tr>\n",
       "    <tr>\n",
       "      <th>100017</th>\n",
       "      <td>40.876808</td>\n",
       "      <td>-73.889656</td>\n",
       "      <td>0.210164</td>\n",
       "      <td>0.913365</td>\n",
       "    </tr>\n",
       "    <tr>\n",
       "      <th>100018</th>\n",
       "      <td>40.880341</td>\n",
       "      <td>-73.886063</td>\n",
       "      <td>0.177457</td>\n",
       "      <td>0.892479</td>\n",
       "    </tr>\n",
       "    <tr>\n",
       "      <th>100019</th>\n",
       "      <td>40.813496</td>\n",
       "      <td>-73.929489</td>\n",
       "      <td>0.203798</td>\n",
       "      <td>0.918004</td>\n",
       "    </tr>\n",
       "    <tr>\n",
       "      <th>100020</th>\n",
       "      <td>40.816803</td>\n",
       "      <td>-73.927956</td>\n",
       "      <td>0.203381</td>\n",
       "      <td>0.854682</td>\n",
       "    </tr>\n",
       "  </tbody>\n",
       "</table>\n",
       "</div>"
      ],
      "text/plain": [
       "          stop_lat   stop_lon  ontime_ratio  offpeak hours wait ass\n",
       "stop_id                                                            \n",
       "100014   40.872562 -73.888153      0.139963                0.921871\n",
       "100017   40.876808 -73.889656      0.210164                0.913365\n",
       "100018   40.880341 -73.886063      0.177457                0.892479\n",
       "100019   40.813496 -73.929489      0.203798                0.918004\n",
       "100020   40.816803 -73.927956      0.203381                0.854682"
      ]
     },
     "execution_count": 106,
     "metadata": {},
     "output_type": "execute_result"
    }
   ],
   "source": [
    "stops_metrics = collected.reset_index().merge(pd.DataFrame(reliability_metrics.groupby('stop_id').mean()).reset_index())\n",
    "stops_metrics.groupby('stop_id').mean().head()"
   ]
  },
  {
   "cell_type": "code",
   "execution_count": 101,
   "metadata": {
    "collapsed": false
   },
   "outputs": [],
   "source": [
    "#line_metrics = collected.reset_index().merge(pd.DataFrame(reliability_metrics.groupby('Line').mean()).reset_index())\n",
    "#line_metrics.groupby('Line').mean()"
   ]
  },
  {
   "cell_type": "code",
   "execution_count": 107,
   "metadata": {
    "collapsed": true
   },
   "outputs": [],
   "source": [
    "stops_metrics.to_csv('metrics-by-stop-2015.csv')"
   ]
  }
 ],
 "metadata": {
  "kernelspec": {
   "display_name": "Python 2",
   "language": "python",
   "name": "python2"
  },
  "language_info": {
   "codemirror_mode": {
    "name": "ipython",
    "version": 2
   },
   "file_extension": ".py",
   "mimetype": "text/x-python",
   "name": "python",
   "nbconvert_exporter": "python",
   "pygments_lexer": "ipython2",
   "version": "2.7.11"
  }
 },
 "nbformat": 4,
 "nbformat_minor": 0
}
