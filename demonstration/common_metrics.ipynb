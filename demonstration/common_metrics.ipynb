{
 "cells": [
  {
   "cell_type": "code",
   "execution_count": 1,
   "metadata": {
    "collapsed": true
   },
   "outputs": [],
   "source": [
    "import os\n",
    "import pandas as pd\n",
    "import matplotlib.pyplot as plt\n",
    "from scipy import interpolate\n",
    "import time\n",
    "%matplotlib inline  \n",
    "import sys\n",
    "sys.path.append('/gpfs2/projects/project-bus_capstone_2016/workspace/jz2308/bus-Capstone')\n",
    "\n",
    "# these two modules are homemade\n",
    "import gtfs\n",
    "import arrivals\n",
    "import ttools\n",
    "os.chdir('/gpfs2/projects/project-bus_capstone_2016/workspace/share')"
   ]
  },
  {
   "cell_type": "code",
   "execution_count": 2,
   "metadata": {
    "collapsed": false
   },
   "outputs": [
    {
     "name": "stdout",
     "output_type": "stream",
     "text": [
      "Finished loading GTFS data.\n"
     ]
    }
   ],
   "source": [
    "# get all the schedule data. (subset can be created later)\n",
    "trips = gtfs.load_trips('2015-12-03','gtfs/')\n",
    "stops = gtfs.load_stops('2015-12-03','gtfs/')\n",
    "stop_times, tz_sched = gtfs.load_stop_times('2015-12-03','gtfs/')\n",
    "tcal=gtfs.TransitCalendar('2015-12-03')\n",
    "thurs_services = tcal.get_service_ids('2015-12-03')\n",
    "thurs_trips = trips.service_id.isin(thurs_services)\n",
    "thurs_stops = stop_times.reset_index().set_index('trip_id').loc[thurs_trips]\n",
    "print 'Finished loading GTFS data.'"
   ]
  },
  {
   "cell_type": "code",
   "execution_count": 3,
   "metadata": {
    "collapsed": true
   },
   "outputs": [],
   "source": [
    "interpolated = pd.read_csv('2015-12-03_interpolated.csv')"
   ]
  },
  {
   "cell_type": "code",
   "execution_count": 4,
   "metadata": {
    "collapsed": false
   },
   "outputs": [
    {
     "data": {
      "text/html": [
       "<div style=\"max-height:1000px;max-width:1500px;overflow:auto;\">\n",
       "<table border=\"1\" class=\"dataframe\">\n",
       "  <thead>\n",
       "    <tr style=\"text-align: right;\">\n",
       "      <th></th>\n",
       "      <th>route</th>\n",
       "      <th>trip_id</th>\n",
       "      <th>trip_date</th>\n",
       "      <th>vehicle_id</th>\n",
       "      <th>stop_id</th>\n",
       "      <th>interpolated_arrival_time</th>\n",
       "    </tr>\n",
       "  </thead>\n",
       "  <tbody>\n",
       "    <tr>\n",
       "      <th>0</th>\n",
       "      <td>MTA NYCT_M101</td>\n",
       "      <td>OH_D5-Weekday-SDon-036500_M101_38</td>\n",
       "      <td>2015-12-03</td>\n",
       "      <td>MTA NYCT_5879</td>\n",
       "      <td>402805</td>\n",
       "      <td>0 days 06:10:56.778916</td>\n",
       "    </tr>\n",
       "    <tr>\n",
       "      <th>1</th>\n",
       "      <td>MTA NYCT_M101</td>\n",
       "      <td>OH_D5-Weekday-SDon-036500_M101_38</td>\n",
       "      <td>2015-12-03</td>\n",
       "      <td>MTA NYCT_5879</td>\n",
       "      <td>405057</td>\n",
       "      <td>0 days 06:14:24.977703</td>\n",
       "    </tr>\n",
       "    <tr>\n",
       "      <th>2</th>\n",
       "      <td>MTA NYCT_M101</td>\n",
       "      <td>OH_D5-Weekday-SDon-036500_M101_38</td>\n",
       "      <td>2015-12-03</td>\n",
       "      <td>MTA NYCT_5879</td>\n",
       "      <td>403416</td>\n",
       "      <td>0 days 06:16:58.526210</td>\n",
       "    </tr>\n",
       "    <tr>\n",
       "      <th>3</th>\n",
       "      <td>MTA NYCT_M101</td>\n",
       "      <td>OH_D5-Weekday-SDon-036500_M101_38</td>\n",
       "      <td>2015-12-03</td>\n",
       "      <td>MTA NYCT_5879</td>\n",
       "      <td>402809</td>\n",
       "      <td>0 days 06:17:25.226045</td>\n",
       "    </tr>\n",
       "    <tr>\n",
       "      <th>4</th>\n",
       "      <td>MTA NYCT_M101</td>\n",
       "      <td>OH_D5-Weekday-SDon-036500_M101_38</td>\n",
       "      <td>2015-12-03</td>\n",
       "      <td>MTA NYCT_5879</td>\n",
       "      <td>402811</td>\n",
       "      <td>0 days 06:18:36.819142</td>\n",
       "    </tr>\n",
       "  </tbody>\n",
       "</table>\n",
       "</div>"
      ],
      "text/plain": [
       "           route                            trip_id   trip_date  \\\n",
       "0  MTA NYCT_M101  OH_D5-Weekday-SDon-036500_M101_38  2015-12-03   \n",
       "1  MTA NYCT_M101  OH_D5-Weekday-SDon-036500_M101_38  2015-12-03   \n",
       "2  MTA NYCT_M101  OH_D5-Weekday-SDon-036500_M101_38  2015-12-03   \n",
       "3  MTA NYCT_M101  OH_D5-Weekday-SDon-036500_M101_38  2015-12-03   \n",
       "4  MTA NYCT_M101  OH_D5-Weekday-SDon-036500_M101_38  2015-12-03   \n",
       "\n",
       "      vehicle_id  stop_id interpolated_arrival_time  \n",
       "0  MTA NYCT_5879   402805    0 days 06:10:56.778916  \n",
       "1  MTA NYCT_5879   405057    0 days 06:14:24.977703  \n",
       "2  MTA NYCT_5879   403416    0 days 06:16:58.526210  \n",
       "3  MTA NYCT_5879   402809    0 days 06:17:25.226045  \n",
       "4  MTA NYCT_5879   402811    0 days 06:18:36.819142  "
      ]
     },
     "execution_count": 4,
     "metadata": {},
     "output_type": "execute_result"
    }
   ],
   "source": [
    "interpolated.head()"
   ]
  },
  {
   "cell_type": "code",
   "execution_count": 5,
   "metadata": {
    "collapsed": true
   },
   "outputs": [],
   "source": [
    "interpolated['interpolated_arrival_time'] = pd.to_timedelta(interpolated['interpolated_arrival_time'])"
   ]
  },
  {
   "cell_type": "code",
   "execution_count": 6,
   "metadata": {
    "collapsed": false
   },
   "outputs": [],
   "source": [
    "interpolated = interpolated.merge(stop_times[['arrival_time','stop_sequence']],how='left',left_on=['trip_id','stop_id'],right_index=True)"
   ]
  },
  {
   "cell_type": "code",
   "execution_count": 7,
   "metadata": {
    "collapsed": false
   },
   "outputs": [],
   "source": [
    "# bools = interpolated.duplicated(subset=['route','trip_id','trip_date','vehicle_id','stop_id'],take_last=False) + interpolated.duplicated(subset=['route','trip_id','trip_date','vehicle_id','stop_id'],take_last=True)\n",
    "# interpolated[bools].sort(['route','trip_id','trip_date','vehicle_id']).shape"
   ]
  },
  {
   "cell_type": "code",
   "execution_count": 8,
   "metadata": {
    "collapsed": false
   },
   "outputs": [],
   "source": [
    "interpolated.set_index(['route','trip_id','trip_date','vehicle_id','stop_sequence','stop_id'],inplace=True)"
   ]
  },
  {
   "cell_type": "markdown",
   "metadata": {},
   "source": [
    "## Get the densest stop_id by shape (trip?)"
   ]
  },
  {
   "cell_type": "code",
   "execution_count": 9,
   "metadata": {
    "collapsed": false
   },
   "outputs": [],
   "source": [
    "trip_groups = interpolated.groupby(level=(0,2,5,4)).size()"
   ]
  },
  {
   "cell_type": "code",
   "execution_count": 10,
   "metadata": {
    "collapsed": true
   },
   "outputs": [],
   "source": [
    "def series_max(s):\n",
    "    return s.idxmax()[2]"
   ]
  },
  {
   "cell_type": "code",
   "execution_count": 11,
   "metadata": {
    "collapsed": false
   },
   "outputs": [
    {
     "data": {
      "text/plain": [
       "route\n",
       "MTA NYCT_B1      300009\n",
       "MTA NYCT_B11     301173\n",
       "MTA NYCT_B12     301328\n",
       "MTA NYCT_B13     301505\n",
       "MTA NYCT_B14     301598\n",
       "MTA NYCT_B15     301135\n",
       "MTA NYCT_B16     301677\n",
       "MTA NYCT_B17     300853\n",
       "MTA NYCT_B2      300173\n",
       "MTA NYCT_B20     301959\n",
       "MTA NYCT_B24     503993\n",
       "MTA NYCT_B25     302383\n",
       "MTA NYCT_B26     302372\n",
       "MTA NYCT_B3      300261\n",
       "MTA NYCT_B31     300175\n",
       "MTA NYCT_B32     302304\n",
       "MTA NYCT_B35     302692\n",
       "MTA NYCT_B36     300019\n",
       "MTA NYCT_B37     302914\n",
       "MTA NYCT_B38     302948\n",
       "MTA NYCT_B39     403679\n",
       "MTA NYCT_B4      300368\n",
       "MTA NYCT_B41     303295\n",
       "MTA NYCT_B42     303358\n",
       "MTA NYCT_B43     303711\n",
       "MTA NYCT_B44     303483\n",
       "MTA NYCT_B44+    303441\n",
       "MTA NYCT_B45     303531\n",
       "MTA NYCT_B46     303592\n",
       "MTA NYCT_B47     300857\n",
       "                  ...  \n",
       "MTABC_Q50        101743\n",
       "MTABC_Q52        550070\n",
       "MTABC_Q53        550070\n",
       "MTABC_Q60        504399\n",
       "MTABC_Q64        551812\n",
       "MTABC_Q65        550032\n",
       "MTABC_Q66        551894\n",
       "MTABC_Q67        503832\n",
       "MTABC_Q69        550010\n",
       "MTABC_Q70        504542\n",
       "MTABC_Q72        552020\n",
       "MTABC_QM1        502399\n",
       "MTABC_QM10       502984\n",
       "MTABC_QM11       550470\n",
       "MTABC_QM12       504309\n",
       "MTABC_QM15       550070\n",
       "MTABC_QM16       401840\n",
       "MTABC_QM17       401842\n",
       "MTABC_QM18       401840\n",
       "MTABC_QM2        501198\n",
       "MTABC_QM20       501133\n",
       "MTABC_QM21       450030\n",
       "MTABC_QM24       503456\n",
       "MTABC_QM25       401165\n",
       "MTABC_QM3        401840\n",
       "MTABC_QM4        551819\n",
       "MTABC_QM5        501470\n",
       "MTABC_QM6        502369\n",
       "MTABC_QM7        401797\n",
       "MTABC_QM8        501337\n",
       "dtype: int64"
      ]
     },
     "execution_count": 11,
     "metadata": {},
     "output_type": "execute_result"
    }
   ],
   "source": [
    "densest_stops = trip_groups.groupby(level=(0)).apply(series_max)\n",
    "densest_stops"
   ]
  },
  {
   "cell_type": "markdown",
   "metadata": {},
   "source": [
    "## Function that can applied repeatedly"
   ]
  },
  {
   "cell_type": "code",
   "execution_count": 12,
   "metadata": {
    "collapsed": false
   },
   "outputs": [],
   "source": [
    "# convert scheduled time to numeric\n",
    "interpolated['schedule_convert'] = pd.to_timedelta(interpolated['arrival_time'])"
   ]
  },
  {
   "cell_type": "code",
   "execution_count": 13,
   "metadata": {
    "collapsed": true
   },
   "outputs": [],
   "source": [
    "def peak_hour(x):\n",
    "    if x > '06:00:00' and x < '09:00:00':\n",
    "        return True\n",
    "    else:\n",
    "        if x > '16:00:00' and x < '19:00:00':\n",
    "            return True\n",
    "        else:\n",
    "            return False"
   ]
  },
  {
   "cell_type": "code",
   "execution_count": 14,
   "metadata": {
    "collapsed": false
   },
   "outputs": [],
   "source": [
    "def wait_ass(x,y):\n",
    "    if x == True:\n",
    "        if y >= 3*60:\n",
    "            return True\n",
    "        else:\n",
    "            return False\n",
    "    if x == False:\n",
    "        if y>= 5*60:\n",
    "            return True\n",
    "        else:\n",
    "            return False         "
   ]
  },
  {
   "cell_type": "code",
   "execution_count": 25,
   "metadata": {
    "collapsed": true
   },
   "outputs": [],
   "source": [
    "def data_pre(route,stop):\n",
    "    pd.options.mode.chained_assignment = None\n",
    "    interpolated_2 = interpolated.xs((route,stop),level=(0,5),drop_level=False)\n",
    "    interpolated_2['sche_headway'] = interpolated_2.sort(columns='schedule_convert')['schedule_convert'].diff()\n",
    "    interpolated_2['inter_headway'] = interpolated_2.sort(columns='interpolated_arrival_time')['interpolated_arrival_time'].diff()\n",
    "    interpolated_2['sche_h_sec'] = interpolated_2['sche_headway']/ttools.datetime.timedelta(seconds=1)\n",
    "    interpolated_2['inter_h_sec'] = interpolated_2['inter_headway']/ttools.datetime.timedelta(seconds=1)\n",
    "    interpolated_2['P_hour'] = map(lambda x:peak_hour(x),interpolated_2['arrival_time'])\n",
    "    interpolated_2['diff'] = interpolated_2['inter_h_sec'] - interpolated_2['sche_h_sec']\n",
    "    interpolated_2['wait_ass'] = map(lambda x,y:wait_ass(x,y), interpolated_2['P_hour'],interpolated_2['diff'])\n",
    "    ##wait assessment for the single route on the single stop\n",
    "    # 100% is best\n",
    "    #return 1.0-(1.0*interpolated_2['wait_ass'].sum()/len(interpolated_2['wait_ass']))\n",
    "    return interpolated_2"
   ]
  },
  {
   "cell_type": "code",
   "execution_count": 26,
   "metadata": {
    "collapsed": false
   },
   "outputs": [],
   "source": [
    "trydata = data_pre('MTA NYCT_B1',300009)"
   ]
  },
  {
   "cell_type": "code",
   "execution_count": 27,
   "metadata": {
    "collapsed": true
   },
   "outputs": [],
   "source": [
    "###Only report for subway in MTA annual repo, permissible when the real arrival time within +-50% of the schedule headway\n",
    "def headway_regularity(sche,inter):\n",
    "    if inter >= 0.5*sche and inter <= 1.5*sche:\n",
    "        return True\n",
    "    else:\n",
    "        return False    "
   ]
  },
  {
   "cell_type": "code",
   "execution_count": 28,
   "metadata": {
    "collapsed": false
   },
   "outputs": [],
   "source": [
    "trydata['headway_reg']=map(lambda x,y:headway_regularity(x,y), trydata['sche_h_sec'],trydata['inter_h_sec'])"
   ]
  },
  {
   "cell_type": "code",
   "execution_count": 30,
   "metadata": {
    "collapsed": true
   },
   "outputs": [],
   "source": [
    "## on-time performance\n",
    "## 1 min before or 5 min later compared with the schedule\n",
    "## According to http://comptroller.nyc.gov/wp-content/uploads/documents/MH13_118A.pdf\n",
    "## http://web.mta.info/developers/performance.html"
   ]
  },
  {
   "cell_type": "code",
   "execution_count": 48,
   "metadata": {
    "collapsed": true
   },
   "outputs": [],
   "source": [
    "def On_Time_Per(sche,inter):\n",
    "    if inter > sche - 60 and inter <= sche + 300:\n",
    "        return True\n",
    "    else:\n",
    "        return False"
   ]
  },
  {
   "cell_type": "code",
   "execution_count": 49,
   "metadata": {
    "collapsed": true
   },
   "outputs": [],
   "source": [
    "trydata['OnTimeP'] = map(lambda x,y:On_Time_Per(x,y), trydata['sche_h_sec'],trydata['inter_h_sec'] )"
   ]
  },
  {
   "cell_type": "code",
   "execution_count": 50,
   "metadata": {
    "collapsed": false
   },
   "outputs": [
    {
     "data": {
      "text/html": [
       "<div style=\"max-height:1000px;max-width:1500px;overflow:auto;\">\n",
       "<table border=\"1\" class=\"dataframe\">\n",
       "  <thead>\n",
       "    <tr style=\"text-align: right;\">\n",
       "      <th></th>\n",
       "      <th></th>\n",
       "      <th></th>\n",
       "      <th></th>\n",
       "      <th></th>\n",
       "      <th></th>\n",
       "      <th>interpolated_arrival_time</th>\n",
       "      <th>arrival_time</th>\n",
       "      <th>schedule_convert</th>\n",
       "      <th>sche_headway</th>\n",
       "      <th>inter_headway</th>\n",
       "      <th>sche_h_sec</th>\n",
       "      <th>inter_h_sec</th>\n",
       "      <th>P_hour</th>\n",
       "      <th>diff</th>\n",
       "      <th>wait_ass</th>\n",
       "      <th>headway_reg</th>\n",
       "      <th>OnTimeP</th>\n",
       "    </tr>\n",
       "    <tr>\n",
       "      <th>route</th>\n",
       "      <th>trip_id</th>\n",
       "      <th>trip_date</th>\n",
       "      <th>vehicle_id</th>\n",
       "      <th>stop_sequence</th>\n",
       "      <th>stop_id</th>\n",
       "      <th></th>\n",
       "      <th></th>\n",
       "      <th></th>\n",
       "      <th></th>\n",
       "      <th></th>\n",
       "      <th></th>\n",
       "      <th></th>\n",
       "      <th></th>\n",
       "      <th></th>\n",
       "      <th></th>\n",
       "      <th></th>\n",
       "      <th></th>\n",
       "    </tr>\n",
       "  </thead>\n",
       "  <tbody>\n",
       "    <tr>\n",
       "      <th rowspan=\"5\" valign=\"top\">MTA NYCT_B1</th>\n",
       "      <th>UP_D5-Weekday-SDon-073300_B1_12</th>\n",
       "      <th>2015-12-03</th>\n",
       "      <th>MTA NYCT_4892</th>\n",
       "      <th>8</th>\n",
       "      <th>300009</th>\n",
       "      <td>12:21:25.050014</td>\n",
       "      <td>12:23:02</td>\n",
       "      <td>12:23:02</td>\n",
       "      <td>00:10:00</td>\n",
       "      <td>00:10:01.374255</td>\n",
       "      <td>600</td>\n",
       "      <td>601.374255</td>\n",
       "      <td>False</td>\n",
       "      <td>1.374255</td>\n",
       "      <td>False</td>\n",
       "      <td>True</td>\n",
       "      <td>True</td>\n",
       "    </tr>\n",
       "    <tr>\n",
       "      <th>UP_D5-Weekday-SDon-057800_B1_8</th>\n",
       "      <th>2015-12-03</th>\n",
       "      <th>MTA NYCT_7168</th>\n",
       "      <th>8</th>\n",
       "      <th>300009</th>\n",
       "      <td>09:50:21.445500</td>\n",
       "      <td>09:43:02</td>\n",
       "      <td>09:43:02</td>\n",
       "      <td>00:10:00</td>\n",
       "      <td>00:19:02.201000</td>\n",
       "      <td>600</td>\n",
       "      <td>1142.201000</td>\n",
       "      <td>False</td>\n",
       "      <td>542.201000</td>\n",
       "      <td>True</td>\n",
       "      <td>False</td>\n",
       "      <td>False</td>\n",
       "    </tr>\n",
       "    <tr>\n",
       "      <th>UP_D5-Weekday-SDon-106500_B1_43</th>\n",
       "      <th>2015-12-03</th>\n",
       "      <th>MTA NYCT_7172</th>\n",
       "      <th>8</th>\n",
       "      <th>300009</th>\n",
       "      <td>17:51:37.570228</td>\n",
       "      <td>17:55:02</td>\n",
       "      <td>17:55:02</td>\n",
       "      <td>00:05:00</td>\n",
       "      <td>00:02:24.854065</td>\n",
       "      <td>300</td>\n",
       "      <td>144.854065</td>\n",
       "      <td>True</td>\n",
       "      <td>-155.145935</td>\n",
       "      <td>False</td>\n",
       "      <td>False</td>\n",
       "      <td>False</td>\n",
       "    </tr>\n",
       "    <tr>\n",
       "      <th>UP_D5-Weekday-SDon-128900_B1_42</th>\n",
       "      <th>2015-12-03</th>\n",
       "      <th>MTA NYCT_4867</th>\n",
       "      <th>8</th>\n",
       "      <th>300009</th>\n",
       "      <td>21:32:51.901086</td>\n",
       "      <td>21:33:19</td>\n",
       "      <td>21:33:19</td>\n",
       "      <td>00:05:00</td>\n",
       "      <td>00:05:55.430150</td>\n",
       "      <td>300</td>\n",
       "      <td>355.430150</td>\n",
       "      <td>False</td>\n",
       "      <td>55.430150</td>\n",
       "      <td>False</td>\n",
       "      <td>True</td>\n",
       "      <td>True</td>\n",
       "    </tr>\n",
       "    <tr>\n",
       "      <th>UP_D5-Weekday-SDon-090200_B1_35</th>\n",
       "      <th>2015-12-03</th>\n",
       "      <th>MTA NYCT_5118</th>\n",
       "      <th>8</th>\n",
       "      <th>300009</th>\n",
       "      <td>15:12:25.500396</td>\n",
       "      <td>15:12:02</td>\n",
       "      <td>15:12:02</td>\n",
       "      <td>00:02:00</td>\n",
       "      <td>00:00:55.234394</td>\n",
       "      <td>120</td>\n",
       "      <td>55.234394</td>\n",
       "      <td>False</td>\n",
       "      <td>-64.765606</td>\n",
       "      <td>False</td>\n",
       "      <td>False</td>\n",
       "      <td>False</td>\n",
       "    </tr>\n",
       "  </tbody>\n",
       "</table>\n",
       "</div>"
      ],
      "text/plain": [
       "                                                                                            interpolated_arrival_time  \\\n",
       "route       trip_id                         trip_date  vehicle_id    stop_sequence stop_id                              \n",
       "MTA NYCT_B1 UP_D5-Weekday-SDon-073300_B1_12 2015-12-03 MTA NYCT_4892 8             300009             12:21:25.050014   \n",
       "            UP_D5-Weekday-SDon-057800_B1_8  2015-12-03 MTA NYCT_7168 8             300009             09:50:21.445500   \n",
       "            UP_D5-Weekday-SDon-106500_B1_43 2015-12-03 MTA NYCT_7172 8             300009             17:51:37.570228   \n",
       "            UP_D5-Weekday-SDon-128900_B1_42 2015-12-03 MTA NYCT_4867 8             300009             21:32:51.901086   \n",
       "            UP_D5-Weekday-SDon-090200_B1_35 2015-12-03 MTA NYCT_5118 8             300009             15:12:25.500396   \n",
       "\n",
       "                                                                                           arrival_time  \\\n",
       "route       trip_id                         trip_date  vehicle_id    stop_sequence stop_id                \n",
       "MTA NYCT_B1 UP_D5-Weekday-SDon-073300_B1_12 2015-12-03 MTA NYCT_4892 8             300009      12:23:02   \n",
       "            UP_D5-Weekday-SDon-057800_B1_8  2015-12-03 MTA NYCT_7168 8             300009      09:43:02   \n",
       "            UP_D5-Weekday-SDon-106500_B1_43 2015-12-03 MTA NYCT_7172 8             300009      17:55:02   \n",
       "            UP_D5-Weekday-SDon-128900_B1_42 2015-12-03 MTA NYCT_4867 8             300009      21:33:19   \n",
       "            UP_D5-Weekday-SDon-090200_B1_35 2015-12-03 MTA NYCT_5118 8             300009      15:12:02   \n",
       "\n",
       "                                                                                            schedule_convert  \\\n",
       "route       trip_id                         trip_date  vehicle_id    stop_sequence stop_id                     \n",
       "MTA NYCT_B1 UP_D5-Weekday-SDon-073300_B1_12 2015-12-03 MTA NYCT_4892 8             300009           12:23:02   \n",
       "            UP_D5-Weekday-SDon-057800_B1_8  2015-12-03 MTA NYCT_7168 8             300009           09:43:02   \n",
       "            UP_D5-Weekday-SDon-106500_B1_43 2015-12-03 MTA NYCT_7172 8             300009           17:55:02   \n",
       "            UP_D5-Weekday-SDon-128900_B1_42 2015-12-03 MTA NYCT_4867 8             300009           21:33:19   \n",
       "            UP_D5-Weekday-SDon-090200_B1_35 2015-12-03 MTA NYCT_5118 8             300009           15:12:02   \n",
       "\n",
       "                                                                                            sche_headway  \\\n",
       "route       trip_id                         trip_date  vehicle_id    stop_sequence stop_id                 \n",
       "MTA NYCT_B1 UP_D5-Weekday-SDon-073300_B1_12 2015-12-03 MTA NYCT_4892 8             300009       00:10:00   \n",
       "            UP_D5-Weekday-SDon-057800_B1_8  2015-12-03 MTA NYCT_7168 8             300009       00:10:00   \n",
       "            UP_D5-Weekday-SDon-106500_B1_43 2015-12-03 MTA NYCT_7172 8             300009       00:05:00   \n",
       "            UP_D5-Weekday-SDon-128900_B1_42 2015-12-03 MTA NYCT_4867 8             300009       00:05:00   \n",
       "            UP_D5-Weekday-SDon-090200_B1_35 2015-12-03 MTA NYCT_5118 8             300009       00:02:00   \n",
       "\n",
       "                                                                                             inter_headway  \\\n",
       "route       trip_id                         trip_date  vehicle_id    stop_sequence stop_id                   \n",
       "MTA NYCT_B1 UP_D5-Weekday-SDon-073300_B1_12 2015-12-03 MTA NYCT_4892 8             300009  00:10:01.374255   \n",
       "            UP_D5-Weekday-SDon-057800_B1_8  2015-12-03 MTA NYCT_7168 8             300009  00:19:02.201000   \n",
       "            UP_D5-Weekday-SDon-106500_B1_43 2015-12-03 MTA NYCT_7172 8             300009  00:02:24.854065   \n",
       "            UP_D5-Weekday-SDon-128900_B1_42 2015-12-03 MTA NYCT_4867 8             300009  00:05:55.430150   \n",
       "            UP_D5-Weekday-SDon-090200_B1_35 2015-12-03 MTA NYCT_5118 8             300009  00:00:55.234394   \n",
       "\n",
       "                                                                                            sche_h_sec  \\\n",
       "route       trip_id                         trip_date  vehicle_id    stop_sequence stop_id               \n",
       "MTA NYCT_B1 UP_D5-Weekday-SDon-073300_B1_12 2015-12-03 MTA NYCT_4892 8             300009          600   \n",
       "            UP_D5-Weekday-SDon-057800_B1_8  2015-12-03 MTA NYCT_7168 8             300009          600   \n",
       "            UP_D5-Weekday-SDon-106500_B1_43 2015-12-03 MTA NYCT_7172 8             300009          300   \n",
       "            UP_D5-Weekday-SDon-128900_B1_42 2015-12-03 MTA NYCT_4867 8             300009          300   \n",
       "            UP_D5-Weekday-SDon-090200_B1_35 2015-12-03 MTA NYCT_5118 8             300009          120   \n",
       "\n",
       "                                                                                            inter_h_sec  \\\n",
       "route       trip_id                         trip_date  vehicle_id    stop_sequence stop_id                \n",
       "MTA NYCT_B1 UP_D5-Weekday-SDon-073300_B1_12 2015-12-03 MTA NYCT_4892 8             300009    601.374255   \n",
       "            UP_D5-Weekday-SDon-057800_B1_8  2015-12-03 MTA NYCT_7168 8             300009   1142.201000   \n",
       "            UP_D5-Weekday-SDon-106500_B1_43 2015-12-03 MTA NYCT_7172 8             300009    144.854065   \n",
       "            UP_D5-Weekday-SDon-128900_B1_42 2015-12-03 MTA NYCT_4867 8             300009    355.430150   \n",
       "            UP_D5-Weekday-SDon-090200_B1_35 2015-12-03 MTA NYCT_5118 8             300009     55.234394   \n",
       "\n",
       "                                                                                           P_hour  \\\n",
       "route       trip_id                         trip_date  vehicle_id    stop_sequence stop_id          \n",
       "MTA NYCT_B1 UP_D5-Weekday-SDon-073300_B1_12 2015-12-03 MTA NYCT_4892 8             300009   False   \n",
       "            UP_D5-Weekday-SDon-057800_B1_8  2015-12-03 MTA NYCT_7168 8             300009   False   \n",
       "            UP_D5-Weekday-SDon-106500_B1_43 2015-12-03 MTA NYCT_7172 8             300009    True   \n",
       "            UP_D5-Weekday-SDon-128900_B1_42 2015-12-03 MTA NYCT_4867 8             300009   False   \n",
       "            UP_D5-Weekday-SDon-090200_B1_35 2015-12-03 MTA NYCT_5118 8             300009   False   \n",
       "\n",
       "                                                                                                  diff  \\\n",
       "route       trip_id                         trip_date  vehicle_id    stop_sequence stop_id               \n",
       "MTA NYCT_B1 UP_D5-Weekday-SDon-073300_B1_12 2015-12-03 MTA NYCT_4892 8             300009     1.374255   \n",
       "            UP_D5-Weekday-SDon-057800_B1_8  2015-12-03 MTA NYCT_7168 8             300009   542.201000   \n",
       "            UP_D5-Weekday-SDon-106500_B1_43 2015-12-03 MTA NYCT_7172 8             300009  -155.145935   \n",
       "            UP_D5-Weekday-SDon-128900_B1_42 2015-12-03 MTA NYCT_4867 8             300009    55.430150   \n",
       "            UP_D5-Weekday-SDon-090200_B1_35 2015-12-03 MTA NYCT_5118 8             300009   -64.765606   \n",
       "\n",
       "                                                                                           wait_ass  \\\n",
       "route       trip_id                         trip_date  vehicle_id    stop_sequence stop_id            \n",
       "MTA NYCT_B1 UP_D5-Weekday-SDon-073300_B1_12 2015-12-03 MTA NYCT_4892 8             300009     False   \n",
       "            UP_D5-Weekday-SDon-057800_B1_8  2015-12-03 MTA NYCT_7168 8             300009      True   \n",
       "            UP_D5-Weekday-SDon-106500_B1_43 2015-12-03 MTA NYCT_7172 8             300009     False   \n",
       "            UP_D5-Weekday-SDon-128900_B1_42 2015-12-03 MTA NYCT_4867 8             300009     False   \n",
       "            UP_D5-Weekday-SDon-090200_B1_35 2015-12-03 MTA NYCT_5118 8             300009     False   \n",
       "\n",
       "                                                                                           headway_reg  \\\n",
       "route       trip_id                         trip_date  vehicle_id    stop_sequence stop_id               \n",
       "MTA NYCT_B1 UP_D5-Weekday-SDon-073300_B1_12 2015-12-03 MTA NYCT_4892 8             300009         True   \n",
       "            UP_D5-Weekday-SDon-057800_B1_8  2015-12-03 MTA NYCT_7168 8             300009        False   \n",
       "            UP_D5-Weekday-SDon-106500_B1_43 2015-12-03 MTA NYCT_7172 8             300009        False   \n",
       "            UP_D5-Weekday-SDon-128900_B1_42 2015-12-03 MTA NYCT_4867 8             300009         True   \n",
       "            UP_D5-Weekday-SDon-090200_B1_35 2015-12-03 MTA NYCT_5118 8             300009        False   \n",
       "\n",
       "                                                                                           OnTimeP  \n",
       "route       trip_id                         trip_date  vehicle_id    stop_sequence stop_id          \n",
       "MTA NYCT_B1 UP_D5-Weekday-SDon-073300_B1_12 2015-12-03 MTA NYCT_4892 8             300009     True  \n",
       "            UP_D5-Weekday-SDon-057800_B1_8  2015-12-03 MTA NYCT_7168 8             300009    False  \n",
       "            UP_D5-Weekday-SDon-106500_B1_43 2015-12-03 MTA NYCT_7172 8             300009    False  \n",
       "            UP_D5-Weekday-SDon-128900_B1_42 2015-12-03 MTA NYCT_4867 8             300009     True  \n",
       "            UP_D5-Weekday-SDon-090200_B1_35 2015-12-03 MTA NYCT_5118 8             300009    False  "
      ]
     },
     "execution_count": 50,
     "metadata": {},
     "output_type": "execute_result"
    }
   ],
   "source": [
    "trydata"
   ]
  },
  {
   "cell_type": "code",
   "execution_count": null,
   "metadata": {
    "collapsed": true
   },
   "outputs": [],
   "source": [
    "## Excess Wait Time\n",
    "## According to http://greatergreaterwashington.org/post/2616/bus-on-time-performance-it-matters-what-you-measure/"
   ]
  },
  {
   "cell_type": "code",
   "execution_count": null,
   "metadata": {
    "collapsed": true
   },
   "outputs": [],
   "source": []
  },
  {
   "cell_type": "code",
   "execution_count": 51,
   "metadata": {
    "collapsed": false
   },
   "outputs": [
    {
     "name": "stdout",
     "output_type": "stream",
     "text": [
      "0.570552147239\n"
     ]
    }
   ],
   "source": [
    "OTP = (1.0*trydata['OnTimeP'].sum())/len(trydata)\n",
    "print OTP"
   ]
  },
  {
   "cell_type": "code",
   "execution_count": 61,
   "metadata": {
    "collapsed": false
   },
   "outputs": [
    {
     "name": "stdout",
     "output_type": "stream",
     "text": [
      "0.680981595092\n"
     ]
    }
   ],
   "source": [
    "Headway_Regularity = (1.0*trydata['headway_reg'].sum())/len(trydata)\n",
    "print Headway_Regularity"
   ]
  },
  {
   "cell_type": "code",
   "execution_count": 80,
   "metadata": {
    "collapsed": true
   },
   "outputs": [],
   "source": [
    "## Trip Length for each trip, we need to compare the schedule trip length with actual trip length\n",
    "## I saw the trip length distribution in Sponsor Report ppt, so I didn't add it here"
   ]
  },
  {
   "cell_type": "code",
   "execution_count": 81,
   "metadata": {
    "collapsed": false
   },
   "outputs": [],
   "source": [
    "## Headway Adherence\n",
    "import numpy as np\n",
    "def headway_adherence(sche,inter):\n",
    "    return 1.0* np.absolute(sche-inter)/sche"
   ]
  },
  {
   "cell_type": "code",
   "execution_count": 82,
   "metadata": {
    "collapsed": true
   },
   "outputs": [],
   "source": [
    "trydata['headway_adh'] = map(lambda x,y: headway_adherence(x,y), trydata['sche_h_sec'],trydata['inter_h_sec'])"
   ]
  },
  {
   "cell_type": "code",
   "execution_count": 83,
   "metadata": {
    "collapsed": false
   },
   "outputs": [
    {
     "data": {
      "text/html": [
       "<div style=\"max-height:1000px;max-width:1500px;overflow:auto;\">\n",
       "<table border=\"1\" class=\"dataframe\">\n",
       "  <thead>\n",
       "    <tr style=\"text-align: right;\">\n",
       "      <th></th>\n",
       "      <th></th>\n",
       "      <th></th>\n",
       "      <th></th>\n",
       "      <th></th>\n",
       "      <th></th>\n",
       "      <th>interpolated_arrival_time</th>\n",
       "      <th>arrival_time</th>\n",
       "      <th>schedule_convert</th>\n",
       "      <th>sche_headway</th>\n",
       "      <th>inter_headway</th>\n",
       "      <th>sche_h_sec</th>\n",
       "      <th>inter_h_sec</th>\n",
       "      <th>P_hour</th>\n",
       "      <th>diff</th>\n",
       "      <th>wait_ass</th>\n",
       "      <th>headway_reg</th>\n",
       "      <th>OnTimeP</th>\n",
       "      <th>headway_adh</th>\n",
       "    </tr>\n",
       "    <tr>\n",
       "      <th>route</th>\n",
       "      <th>trip_id</th>\n",
       "      <th>trip_date</th>\n",
       "      <th>vehicle_id</th>\n",
       "      <th>stop_sequence</th>\n",
       "      <th>stop_id</th>\n",
       "      <th></th>\n",
       "      <th></th>\n",
       "      <th></th>\n",
       "      <th></th>\n",
       "      <th></th>\n",
       "      <th></th>\n",
       "      <th></th>\n",
       "      <th></th>\n",
       "      <th></th>\n",
       "      <th></th>\n",
       "      <th></th>\n",
       "      <th></th>\n",
       "      <th></th>\n",
       "    </tr>\n",
       "  </thead>\n",
       "  <tbody>\n",
       "    <tr>\n",
       "      <th rowspan=\"5\" valign=\"top\">MTA NYCT_B1</th>\n",
       "      <th>UP_D5-Weekday-SDon-073300_B1_12</th>\n",
       "      <th>2015-12-03</th>\n",
       "      <th>MTA NYCT_4892</th>\n",
       "      <th>8</th>\n",
       "      <th>300009</th>\n",
       "      <td>12:21:25.050014</td>\n",
       "      <td>12:23:02</td>\n",
       "      <td>12:23:02</td>\n",
       "      <td>00:10:00</td>\n",
       "      <td>00:10:01.374255</td>\n",
       "      <td>600</td>\n",
       "      <td>601.374255</td>\n",
       "      <td>False</td>\n",
       "      <td>1.374255</td>\n",
       "      <td>False</td>\n",
       "      <td>True</td>\n",
       "      <td>True</td>\n",
       "      <td>0.002290</td>\n",
       "    </tr>\n",
       "    <tr>\n",
       "      <th>UP_D5-Weekday-SDon-057800_B1_8</th>\n",
       "      <th>2015-12-03</th>\n",
       "      <th>MTA NYCT_7168</th>\n",
       "      <th>8</th>\n",
       "      <th>300009</th>\n",
       "      <td>09:50:21.445500</td>\n",
       "      <td>09:43:02</td>\n",
       "      <td>09:43:02</td>\n",
       "      <td>00:10:00</td>\n",
       "      <td>00:19:02.201000</td>\n",
       "      <td>600</td>\n",
       "      <td>1142.201000</td>\n",
       "      <td>False</td>\n",
       "      <td>542.201000</td>\n",
       "      <td>True</td>\n",
       "      <td>False</td>\n",
       "      <td>False</td>\n",
       "      <td>0.903668</td>\n",
       "    </tr>\n",
       "    <tr>\n",
       "      <th>UP_D5-Weekday-SDon-106500_B1_43</th>\n",
       "      <th>2015-12-03</th>\n",
       "      <th>MTA NYCT_7172</th>\n",
       "      <th>8</th>\n",
       "      <th>300009</th>\n",
       "      <td>17:51:37.570228</td>\n",
       "      <td>17:55:02</td>\n",
       "      <td>17:55:02</td>\n",
       "      <td>00:05:00</td>\n",
       "      <td>00:02:24.854065</td>\n",
       "      <td>300</td>\n",
       "      <td>144.854065</td>\n",
       "      <td>True</td>\n",
       "      <td>-155.145935</td>\n",
       "      <td>False</td>\n",
       "      <td>False</td>\n",
       "      <td>False</td>\n",
       "      <td>0.517153</td>\n",
       "    </tr>\n",
       "    <tr>\n",
       "      <th>UP_D5-Weekday-SDon-128900_B1_42</th>\n",
       "      <th>2015-12-03</th>\n",
       "      <th>MTA NYCT_4867</th>\n",
       "      <th>8</th>\n",
       "      <th>300009</th>\n",
       "      <td>21:32:51.901086</td>\n",
       "      <td>21:33:19</td>\n",
       "      <td>21:33:19</td>\n",
       "      <td>00:05:00</td>\n",
       "      <td>00:05:55.430150</td>\n",
       "      <td>300</td>\n",
       "      <td>355.430150</td>\n",
       "      <td>False</td>\n",
       "      <td>55.430150</td>\n",
       "      <td>False</td>\n",
       "      <td>True</td>\n",
       "      <td>True</td>\n",
       "      <td>0.184767</td>\n",
       "    </tr>\n",
       "    <tr>\n",
       "      <th>UP_D5-Weekday-SDon-090200_B1_35</th>\n",
       "      <th>2015-12-03</th>\n",
       "      <th>MTA NYCT_5118</th>\n",
       "      <th>8</th>\n",
       "      <th>300009</th>\n",
       "      <td>15:12:25.500396</td>\n",
       "      <td>15:12:02</td>\n",
       "      <td>15:12:02</td>\n",
       "      <td>00:02:00</td>\n",
       "      <td>00:00:55.234394</td>\n",
       "      <td>120</td>\n",
       "      <td>55.234394</td>\n",
       "      <td>False</td>\n",
       "      <td>-64.765606</td>\n",
       "      <td>False</td>\n",
       "      <td>False</td>\n",
       "      <td>False</td>\n",
       "      <td>0.539713</td>\n",
       "    </tr>\n",
       "  </tbody>\n",
       "</table>\n",
       "</div>"
      ],
      "text/plain": [
       "                                                                                            interpolated_arrival_time  \\\n",
       "route       trip_id                         trip_date  vehicle_id    stop_sequence stop_id                              \n",
       "MTA NYCT_B1 UP_D5-Weekday-SDon-073300_B1_12 2015-12-03 MTA NYCT_4892 8             300009             12:21:25.050014   \n",
       "            UP_D5-Weekday-SDon-057800_B1_8  2015-12-03 MTA NYCT_7168 8             300009             09:50:21.445500   \n",
       "            UP_D5-Weekday-SDon-106500_B1_43 2015-12-03 MTA NYCT_7172 8             300009             17:51:37.570228   \n",
       "            UP_D5-Weekday-SDon-128900_B1_42 2015-12-03 MTA NYCT_4867 8             300009             21:32:51.901086   \n",
       "            UP_D5-Weekday-SDon-090200_B1_35 2015-12-03 MTA NYCT_5118 8             300009             15:12:25.500396   \n",
       "\n",
       "                                                                                           arrival_time  \\\n",
       "route       trip_id                         trip_date  vehicle_id    stop_sequence stop_id                \n",
       "MTA NYCT_B1 UP_D5-Weekday-SDon-073300_B1_12 2015-12-03 MTA NYCT_4892 8             300009      12:23:02   \n",
       "            UP_D5-Weekday-SDon-057800_B1_8  2015-12-03 MTA NYCT_7168 8             300009      09:43:02   \n",
       "            UP_D5-Weekday-SDon-106500_B1_43 2015-12-03 MTA NYCT_7172 8             300009      17:55:02   \n",
       "            UP_D5-Weekday-SDon-128900_B1_42 2015-12-03 MTA NYCT_4867 8             300009      21:33:19   \n",
       "            UP_D5-Weekday-SDon-090200_B1_35 2015-12-03 MTA NYCT_5118 8             300009      15:12:02   \n",
       "\n",
       "                                                                                            schedule_convert  \\\n",
       "route       trip_id                         trip_date  vehicle_id    stop_sequence stop_id                     \n",
       "MTA NYCT_B1 UP_D5-Weekday-SDon-073300_B1_12 2015-12-03 MTA NYCT_4892 8             300009           12:23:02   \n",
       "            UP_D5-Weekday-SDon-057800_B1_8  2015-12-03 MTA NYCT_7168 8             300009           09:43:02   \n",
       "            UP_D5-Weekday-SDon-106500_B1_43 2015-12-03 MTA NYCT_7172 8             300009           17:55:02   \n",
       "            UP_D5-Weekday-SDon-128900_B1_42 2015-12-03 MTA NYCT_4867 8             300009           21:33:19   \n",
       "            UP_D5-Weekday-SDon-090200_B1_35 2015-12-03 MTA NYCT_5118 8             300009           15:12:02   \n",
       "\n",
       "                                                                                            sche_headway  \\\n",
       "route       trip_id                         trip_date  vehicle_id    stop_sequence stop_id                 \n",
       "MTA NYCT_B1 UP_D5-Weekday-SDon-073300_B1_12 2015-12-03 MTA NYCT_4892 8             300009       00:10:00   \n",
       "            UP_D5-Weekday-SDon-057800_B1_8  2015-12-03 MTA NYCT_7168 8             300009       00:10:00   \n",
       "            UP_D5-Weekday-SDon-106500_B1_43 2015-12-03 MTA NYCT_7172 8             300009       00:05:00   \n",
       "            UP_D5-Weekday-SDon-128900_B1_42 2015-12-03 MTA NYCT_4867 8             300009       00:05:00   \n",
       "            UP_D5-Weekday-SDon-090200_B1_35 2015-12-03 MTA NYCT_5118 8             300009       00:02:00   \n",
       "\n",
       "                                                                                             inter_headway  \\\n",
       "route       trip_id                         trip_date  vehicle_id    stop_sequence stop_id                   \n",
       "MTA NYCT_B1 UP_D5-Weekday-SDon-073300_B1_12 2015-12-03 MTA NYCT_4892 8             300009  00:10:01.374255   \n",
       "            UP_D5-Weekday-SDon-057800_B1_8  2015-12-03 MTA NYCT_7168 8             300009  00:19:02.201000   \n",
       "            UP_D5-Weekday-SDon-106500_B1_43 2015-12-03 MTA NYCT_7172 8             300009  00:02:24.854065   \n",
       "            UP_D5-Weekday-SDon-128900_B1_42 2015-12-03 MTA NYCT_4867 8             300009  00:05:55.430150   \n",
       "            UP_D5-Weekday-SDon-090200_B1_35 2015-12-03 MTA NYCT_5118 8             300009  00:00:55.234394   \n",
       "\n",
       "                                                                                            sche_h_sec  \\\n",
       "route       trip_id                         trip_date  vehicle_id    stop_sequence stop_id               \n",
       "MTA NYCT_B1 UP_D5-Weekday-SDon-073300_B1_12 2015-12-03 MTA NYCT_4892 8             300009          600   \n",
       "            UP_D5-Weekday-SDon-057800_B1_8  2015-12-03 MTA NYCT_7168 8             300009          600   \n",
       "            UP_D5-Weekday-SDon-106500_B1_43 2015-12-03 MTA NYCT_7172 8             300009          300   \n",
       "            UP_D5-Weekday-SDon-128900_B1_42 2015-12-03 MTA NYCT_4867 8             300009          300   \n",
       "            UP_D5-Weekday-SDon-090200_B1_35 2015-12-03 MTA NYCT_5118 8             300009          120   \n",
       "\n",
       "                                                                                            inter_h_sec  \\\n",
       "route       trip_id                         trip_date  vehicle_id    stop_sequence stop_id                \n",
       "MTA NYCT_B1 UP_D5-Weekday-SDon-073300_B1_12 2015-12-03 MTA NYCT_4892 8             300009    601.374255   \n",
       "            UP_D5-Weekday-SDon-057800_B1_8  2015-12-03 MTA NYCT_7168 8             300009   1142.201000   \n",
       "            UP_D5-Weekday-SDon-106500_B1_43 2015-12-03 MTA NYCT_7172 8             300009    144.854065   \n",
       "            UP_D5-Weekday-SDon-128900_B1_42 2015-12-03 MTA NYCT_4867 8             300009    355.430150   \n",
       "            UP_D5-Weekday-SDon-090200_B1_35 2015-12-03 MTA NYCT_5118 8             300009     55.234394   \n",
       "\n",
       "                                                                                           P_hour  \\\n",
       "route       trip_id                         trip_date  vehicle_id    stop_sequence stop_id          \n",
       "MTA NYCT_B1 UP_D5-Weekday-SDon-073300_B1_12 2015-12-03 MTA NYCT_4892 8             300009   False   \n",
       "            UP_D5-Weekday-SDon-057800_B1_8  2015-12-03 MTA NYCT_7168 8             300009   False   \n",
       "            UP_D5-Weekday-SDon-106500_B1_43 2015-12-03 MTA NYCT_7172 8             300009    True   \n",
       "            UP_D5-Weekday-SDon-128900_B1_42 2015-12-03 MTA NYCT_4867 8             300009   False   \n",
       "            UP_D5-Weekday-SDon-090200_B1_35 2015-12-03 MTA NYCT_5118 8             300009   False   \n",
       "\n",
       "                                                                                                  diff  \\\n",
       "route       trip_id                         trip_date  vehicle_id    stop_sequence stop_id               \n",
       "MTA NYCT_B1 UP_D5-Weekday-SDon-073300_B1_12 2015-12-03 MTA NYCT_4892 8             300009     1.374255   \n",
       "            UP_D5-Weekday-SDon-057800_B1_8  2015-12-03 MTA NYCT_7168 8             300009   542.201000   \n",
       "            UP_D5-Weekday-SDon-106500_B1_43 2015-12-03 MTA NYCT_7172 8             300009  -155.145935   \n",
       "            UP_D5-Weekday-SDon-128900_B1_42 2015-12-03 MTA NYCT_4867 8             300009    55.430150   \n",
       "            UP_D5-Weekday-SDon-090200_B1_35 2015-12-03 MTA NYCT_5118 8             300009   -64.765606   \n",
       "\n",
       "                                                                                           wait_ass  \\\n",
       "route       trip_id                         trip_date  vehicle_id    stop_sequence stop_id            \n",
       "MTA NYCT_B1 UP_D5-Weekday-SDon-073300_B1_12 2015-12-03 MTA NYCT_4892 8             300009     False   \n",
       "            UP_D5-Weekday-SDon-057800_B1_8  2015-12-03 MTA NYCT_7168 8             300009      True   \n",
       "            UP_D5-Weekday-SDon-106500_B1_43 2015-12-03 MTA NYCT_7172 8             300009     False   \n",
       "            UP_D5-Weekday-SDon-128900_B1_42 2015-12-03 MTA NYCT_4867 8             300009     False   \n",
       "            UP_D5-Weekday-SDon-090200_B1_35 2015-12-03 MTA NYCT_5118 8             300009     False   \n",
       "\n",
       "                                                                                           headway_reg  \\\n",
       "route       trip_id                         trip_date  vehicle_id    stop_sequence stop_id               \n",
       "MTA NYCT_B1 UP_D5-Weekday-SDon-073300_B1_12 2015-12-03 MTA NYCT_4892 8             300009         True   \n",
       "            UP_D5-Weekday-SDon-057800_B1_8  2015-12-03 MTA NYCT_7168 8             300009        False   \n",
       "            UP_D5-Weekday-SDon-106500_B1_43 2015-12-03 MTA NYCT_7172 8             300009        False   \n",
       "            UP_D5-Weekday-SDon-128900_B1_42 2015-12-03 MTA NYCT_4867 8             300009         True   \n",
       "            UP_D5-Weekday-SDon-090200_B1_35 2015-12-03 MTA NYCT_5118 8             300009        False   \n",
       "\n",
       "                                                                                           OnTimeP  \\\n",
       "route       trip_id                         trip_date  vehicle_id    stop_sequence stop_id           \n",
       "MTA NYCT_B1 UP_D5-Weekday-SDon-073300_B1_12 2015-12-03 MTA NYCT_4892 8             300009     True   \n",
       "            UP_D5-Weekday-SDon-057800_B1_8  2015-12-03 MTA NYCT_7168 8             300009    False   \n",
       "            UP_D5-Weekday-SDon-106500_B1_43 2015-12-03 MTA NYCT_7172 8             300009    False   \n",
       "            UP_D5-Weekday-SDon-128900_B1_42 2015-12-03 MTA NYCT_4867 8             300009     True   \n",
       "            UP_D5-Weekday-SDon-090200_B1_35 2015-12-03 MTA NYCT_5118 8             300009    False   \n",
       "\n",
       "                                                                                            headway_adh  \n",
       "route       trip_id                         trip_date  vehicle_id    stop_sequence stop_id               \n",
       "MTA NYCT_B1 UP_D5-Weekday-SDon-073300_B1_12 2015-12-03 MTA NYCT_4892 8             300009      0.002290  \n",
       "            UP_D5-Weekday-SDon-057800_B1_8  2015-12-03 MTA NYCT_7168 8             300009      0.903668  \n",
       "            UP_D5-Weekday-SDon-106500_B1_43 2015-12-03 MTA NYCT_7172 8             300009      0.517153  \n",
       "            UP_D5-Weekday-SDon-128900_B1_42 2015-12-03 MTA NYCT_4867 8             300009      0.184767  \n",
       "            UP_D5-Weekday-SDon-090200_B1_35 2015-12-03 MTA NYCT_5118 8             300009      0.539713  "
      ]
     },
     "execution_count": 83,
     "metadata": {},
     "output_type": "execute_result"
    }
   ],
   "source": [
    "trydata.head()"
   ]
  },
  {
   "cell_type": "code",
   "execution_count": null,
   "metadata": {
    "collapsed": true
   },
   "outputs": [],
   "source": [
    "## If the adherence function was applied on the beginning and ending time of the whole trip, we can get the running time adherence for a trip"
   ]
  },
  {
   "cell_type": "code",
   "execution_count": null,
   "metadata": {
    "collapsed": true
   },
   "outputs": [],
   "source": []
  }
 ],
 "metadata": {
  "kernelspec": {
   "display_name": "Python 2",
   "language": "python",
   "name": "python2"
  },
  "language_info": {
   "codemirror_mode": {
    "name": "ipython",
    "version": 2
   },
   "file_extension": ".py",
   "mimetype": "text/x-python",
   "name": "python",
   "nbconvert_exporter": "python",
   "pygments_lexer": "ipython2",
   "version": "2.7.11"
  }
 },
 "nbformat": 4,
 "nbformat_minor": 0
}
