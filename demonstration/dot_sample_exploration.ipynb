{
 "cells": [
  {
   "cell_type": "code",
   "execution_count": 52,
   "metadata": {
    "collapsed": true
   },
   "outputs": [],
   "source": [
    "import os\n",
    "import pandas as pd\n",
    "%matplotlib inline\n",
    "from datetime import timedelta\n",
    "os.chdir('/gpfs2/projects/project-bus_capstone_2016/workspace/share')"
   ]
  },
  {
   "cell_type": "code",
   "execution_count": 8,
   "metadata": {
    "collapsed": false
   },
   "outputs": [],
   "source": [
    "dot_sample = pd.read_csv('20141201.csv',header=None,names=['Vehicle','Route','Direction','Phase','NMEA'])"
   ]
  },
  {
   "cell_type": "code",
   "execution_count": 9,
   "metadata": {
    "collapsed": false
   },
   "outputs": [
    {
     "data": {
      "text/html": [
       "<div style=\"max-height:1000px;max-width:1500px;overflow:auto;\">\n",
       "<table border=\"1\" class=\"dataframe\">\n",
       "  <thead>\n",
       "    <tr style=\"text-align: right;\">\n",
       "      <th></th>\n",
       "      <th>Vehicle</th>\n",
       "      <th>Route</th>\n",
       "      <th>Direction</th>\n",
       "      <th>Phase</th>\n",
       "      <th>NMEA</th>\n",
       "    </tr>\n",
       "  </thead>\n",
       "  <tbody>\n",
       "    <tr>\n",
       "      <th>0</th>\n",
       "      <td>1001</td>\n",
       "      <td>MTA NYCT_M101</td>\n",
       "      <td>0</td>\n",
       "      <td>DEADHEAD_BEFORE</td>\n",
       "      <td>$GPRMC,002005.610,A,4047.23656,N,07356.79964,W...</td>\n",
       "    </tr>\n",
       "    <tr>\n",
       "      <th>1</th>\n",
       "      <td>1001</td>\n",
       "      <td>MTA NYCT_M101</td>\n",
       "      <td>0</td>\n",
       "      <td>DEADHEAD_BEFORE</td>\n",
       "      <td>$GPRMC,002037.609,A,4047.23656,N,07356.79964,W...</td>\n",
       "    </tr>\n",
       "    <tr>\n",
       "      <th>2</th>\n",
       "      <td>1001</td>\n",
       "      <td>MTA NYCT_M101</td>\n",
       "      <td>0</td>\n",
       "      <td>DEADHEAD_BEFORE</td>\n",
       "      <td>$GPRMC,002109.609,A,4047.23656,N,07356.79964,W...</td>\n",
       "    </tr>\n",
       "    <tr>\n",
       "      <th>3</th>\n",
       "      <td>1001</td>\n",
       "      <td>MTA NYCT_M101</td>\n",
       "      <td>0</td>\n",
       "      <td>DEADHEAD_BEFORE</td>\n",
       "      <td>$GPRMC,002140.609,A,4047.23656,N,07356.79964,W...</td>\n",
       "    </tr>\n",
       "    <tr>\n",
       "      <th>4</th>\n",
       "      <td>1001</td>\n",
       "      <td>MTA NYCT_M101</td>\n",
       "      <td>0</td>\n",
       "      <td>DEADHEAD_BEFORE</td>\n",
       "      <td>$GPRMC,002520.609,A,4047.23656,N,07356.79964,W...</td>\n",
       "    </tr>\n",
       "  </tbody>\n",
       "</table>\n",
       "</div>"
      ],
      "text/plain": [
       "   Vehicle          Route  Direction            Phase  \\\n",
       "0     1001  MTA NYCT_M101          0  DEADHEAD_BEFORE   \n",
       "1     1001  MTA NYCT_M101          0  DEADHEAD_BEFORE   \n",
       "2     1001  MTA NYCT_M101          0  DEADHEAD_BEFORE   \n",
       "3     1001  MTA NYCT_M101          0  DEADHEAD_BEFORE   \n",
       "4     1001  MTA NYCT_M101          0  DEADHEAD_BEFORE   \n",
       "\n",
       "                                                NMEA  \n",
       "0  $GPRMC,002005.610,A,4047.23656,N,07356.79964,W...  \n",
       "1  $GPRMC,002037.609,A,4047.23656,N,07356.79964,W...  \n",
       "2  $GPRMC,002109.609,A,4047.23656,N,07356.79964,W...  \n",
       "3  $GPRMC,002140.609,A,4047.23656,N,07356.79964,W...  \n",
       "4  $GPRMC,002520.609,A,4047.23656,N,07356.79964,W...  "
      ]
     },
     "execution_count": 9,
     "metadata": {},
     "output_type": "execute_result"
    }
   ],
   "source": [
    "dot_sample.head()"
   ]
  },
  {
   "cell_type": "code",
   "execution_count": 21,
   "metadata": {
    "collapsed": true
   },
   "outputs": [],
   "source": [
    "def time_from_nmea(s):\n",
    "    h = int(s[7:9])\n",
    "    m = int(s[9:11])\n",
    "    s = float(s[11:16])\n",
    "    return timedelta(hours=h,minutes=m,seconds=s)"
   ]
  },
  {
   "cell_type": "code",
   "execution_count": 22,
   "metadata": {
    "collapsed": false
   },
   "outputs": [],
   "source": [
    "dot_sample['timestamp'] = dot_sample.NMEA.apply(time_from_nmea)"
   ]
  },
  {
   "cell_type": "code",
   "execution_count": 23,
   "metadata": {
    "collapsed": false
   },
   "outputs": [
    {
     "data": {
      "text/html": [
       "<div style=\"max-height:1000px;max-width:1500px;overflow:auto;\">\n",
       "<table border=\"1\" class=\"dataframe\">\n",
       "  <thead>\n",
       "    <tr style=\"text-align: right;\">\n",
       "      <th></th>\n",
       "      <th>Vehicle</th>\n",
       "      <th>Route</th>\n",
       "      <th>Direction</th>\n",
       "      <th>Phase</th>\n",
       "      <th>NMEA</th>\n",
       "      <th>timestamp</th>\n",
       "    </tr>\n",
       "  </thead>\n",
       "  <tbody>\n",
       "    <tr>\n",
       "      <th>0</th>\n",
       "      <td>1001</td>\n",
       "      <td>MTA NYCT_M101</td>\n",
       "      <td>0</td>\n",
       "      <td>DEADHEAD_BEFORE</td>\n",
       "      <td>$GPRMC,002005.610,A,4047.23656,N,07356.79964,W...</td>\n",
       "      <td>00:20:05.610000</td>\n",
       "    </tr>\n",
       "    <tr>\n",
       "      <th>1</th>\n",
       "      <td>1001</td>\n",
       "      <td>MTA NYCT_M101</td>\n",
       "      <td>0</td>\n",
       "      <td>DEADHEAD_BEFORE</td>\n",
       "      <td>$GPRMC,002037.609,A,4047.23656,N,07356.79964,W...</td>\n",
       "      <td>00:20:37.600000</td>\n",
       "    </tr>\n",
       "    <tr>\n",
       "      <th>2</th>\n",
       "      <td>1001</td>\n",
       "      <td>MTA NYCT_M101</td>\n",
       "      <td>0</td>\n",
       "      <td>DEADHEAD_BEFORE</td>\n",
       "      <td>$GPRMC,002109.609,A,4047.23656,N,07356.79964,W...</td>\n",
       "      <td>00:21:09.600000</td>\n",
       "    </tr>\n",
       "    <tr>\n",
       "      <th>3</th>\n",
       "      <td>1001</td>\n",
       "      <td>MTA NYCT_M101</td>\n",
       "      <td>0</td>\n",
       "      <td>DEADHEAD_BEFORE</td>\n",
       "      <td>$GPRMC,002140.609,A,4047.23656,N,07356.79964,W...</td>\n",
       "      <td>00:21:40.600000</td>\n",
       "    </tr>\n",
       "    <tr>\n",
       "      <th>4</th>\n",
       "      <td>1001</td>\n",
       "      <td>MTA NYCT_M101</td>\n",
       "      <td>0</td>\n",
       "      <td>DEADHEAD_BEFORE</td>\n",
       "      <td>$GPRMC,002520.609,A,4047.23656,N,07356.79964,W...</td>\n",
       "      <td>00:25:20.600000</td>\n",
       "    </tr>\n",
       "    <tr>\n",
       "      <th>5</th>\n",
       "      <td>1001</td>\n",
       "      <td>MTA NYCT_M101</td>\n",
       "      <td>0</td>\n",
       "      <td>DEADHEAD_BEFORE</td>\n",
       "      <td>$GPRMC,002624.609,A,4047.23656,N,07356.79964,W...</td>\n",
       "      <td>00:26:24.600000</td>\n",
       "    </tr>\n",
       "    <tr>\n",
       "      <th>6</th>\n",
       "      <td>1001</td>\n",
       "      <td>MTA NYCT_M101</td>\n",
       "      <td>0</td>\n",
       "      <td>DEADHEAD_BEFORE</td>\n",
       "      <td>$GPRMC,002655.609,A,4047.23656,N,07356.79964,W...</td>\n",
       "      <td>00:26:55.600000</td>\n",
       "    </tr>\n",
       "    <tr>\n",
       "      <th>7</th>\n",
       "      <td>1001</td>\n",
       "      <td>MTA NYCT_M101</td>\n",
       "      <td>0</td>\n",
       "      <td>DEADHEAD_BEFORE</td>\n",
       "      <td>$GPRMC,002727.609,A,4047.23656,N,07356.79964,W...</td>\n",
       "      <td>00:27:27.600000</td>\n",
       "    </tr>\n",
       "    <tr>\n",
       "      <th>8</th>\n",
       "      <td>1001</td>\n",
       "      <td>MTA NYCT_M101</td>\n",
       "      <td>0</td>\n",
       "      <td>DEADHEAD_BEFORE</td>\n",
       "      <td>$GPRMC,002759.609,A,4047.23656,N,07356.79964,W...</td>\n",
       "      <td>00:27:59.600000</td>\n",
       "    </tr>\n",
       "    <tr>\n",
       "      <th>9</th>\n",
       "      <td>1001</td>\n",
       "      <td>MTA NYCT_M101</td>\n",
       "      <td>0</td>\n",
       "      <td>DEADHEAD_BEFORE</td>\n",
       "      <td>$GPRMC,002830.609,A,4047.23656,N,07356.79964,W...</td>\n",
       "      <td>00:28:30.600000</td>\n",
       "    </tr>\n",
       "  </tbody>\n",
       "</table>\n",
       "</div>"
      ],
      "text/plain": [
       "   Vehicle          Route  Direction            Phase  \\\n",
       "0     1001  MTA NYCT_M101          0  DEADHEAD_BEFORE   \n",
       "1     1001  MTA NYCT_M101          0  DEADHEAD_BEFORE   \n",
       "2     1001  MTA NYCT_M101          0  DEADHEAD_BEFORE   \n",
       "3     1001  MTA NYCT_M101          0  DEADHEAD_BEFORE   \n",
       "4     1001  MTA NYCT_M101          0  DEADHEAD_BEFORE   \n",
       "5     1001  MTA NYCT_M101          0  DEADHEAD_BEFORE   \n",
       "6     1001  MTA NYCT_M101          0  DEADHEAD_BEFORE   \n",
       "7     1001  MTA NYCT_M101          0  DEADHEAD_BEFORE   \n",
       "8     1001  MTA NYCT_M101          0  DEADHEAD_BEFORE   \n",
       "9     1001  MTA NYCT_M101          0  DEADHEAD_BEFORE   \n",
       "\n",
       "                                                NMEA       timestamp  \n",
       "0  $GPRMC,002005.610,A,4047.23656,N,07356.79964,W... 00:20:05.610000  \n",
       "1  $GPRMC,002037.609,A,4047.23656,N,07356.79964,W... 00:20:37.600000  \n",
       "2  $GPRMC,002109.609,A,4047.23656,N,07356.79964,W... 00:21:09.600000  \n",
       "3  $GPRMC,002140.609,A,4047.23656,N,07356.79964,W... 00:21:40.600000  \n",
       "4  $GPRMC,002520.609,A,4047.23656,N,07356.79964,W... 00:25:20.600000  \n",
       "5  $GPRMC,002624.609,A,4047.23656,N,07356.79964,W... 00:26:24.600000  \n",
       "6  $GPRMC,002655.609,A,4047.23656,N,07356.79964,W... 00:26:55.600000  \n",
       "7  $GPRMC,002727.609,A,4047.23656,N,07356.79964,W... 00:27:27.600000  \n",
       "8  $GPRMC,002759.609,A,4047.23656,N,07356.79964,W... 00:27:59.600000  \n",
       "9  $GPRMC,002830.609,A,4047.23656,N,07356.79964,W... 00:28:30.600000  "
      ]
     },
     "execution_count": 23,
     "metadata": {},
     "output_type": "execute_result"
    }
   ],
   "source": [
    "dot_sample.head(10)"
   ]
  },
  {
   "cell_type": "code",
   "execution_count": 42,
   "metadata": {
    "collapsed": false
   },
   "outputs": [],
   "source": [
    "dot_sample.sort(['Vehicle','timestamp'],inplace=True)"
   ]
  },
  {
   "cell_type": "code",
   "execution_count": 64,
   "metadata": {
    "collapsed": false
   },
   "outputs": [],
   "source": [
    "dot_sample['elapsed'] = dot_sample.groupby(['Vehicle'])['timestamp'].diff()/timedelta(seconds=1)"
   ]
  },
  {
   "cell_type": "code",
   "execution_count": 69,
   "metadata": {
    "collapsed": false
   },
   "outputs": [
    {
     "data": {
      "text/plain": [
       "<matplotlib.axes._subplots.AxesSubplot at 0x7ff2009227d0>"
      ]
     },
     "execution_count": 69,
     "metadata": {},
     "output_type": "execute_result"
    },
    {
     "data": {
      "image/png": "[encoded data removed]",
      "text/plain": [
       "<matplotlib.figure.Figure at 0x7ff1fc4681d0>"
      ]
     },
     "metadata": {},
     "output_type": "display_data"
    }
   ],
   "source": [
    "dot_sample['elapsed'].dropna().hist(range=(0,89),bins=45)"
   ]
  },
  {
   "cell_type": "code",
   "execution_count": 77,
   "metadata": {
    "collapsed": false
   },
   "outputs": [
    {
     "data": {
      "text/plain": [
       "0.98604550679763969"
      ]
     },
     "execution_count": 77,
     "metadata": {},
     "output_type": "execute_result"
    }
   ],
   "source": [
    "# percent of AVL pings received under 35 seconds from previous\n",
    "sum(dot_sample['elapsed'].dropna()<35.0)/(1.0*(len(dot_sample['elapsed'].dropna())))"
   ]
  }
 ],
 "metadata": {
  "kernelspec": {
   "display_name": "Python 2",
   "language": "python",
   "name": "python2"
  },
  "language_info": {
   "codemirror_mode": {
    "name": "ipython",
    "version": 2
   },
   "file_extension": ".py",
   "mimetype": "text/x-python",
   "name": "python",
   "nbconvert_exporter": "python",
   "pygments_lexer": "ipython2",
   "version": "2.7.11"
  }
 },
 "nbformat": 4,
 "nbformat_minor": 0
}
