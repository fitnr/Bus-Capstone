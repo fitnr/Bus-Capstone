{
 "cells": [
  {
   "cell_type": "markdown",
   "metadata": {},
   "source": [
    "## Data quality summary of raw internal data file used by DOT"
   ]
  },
  {
   "cell_type": "code",
   "execution_count": 1,
   "metadata": {
    "collapsed": true
   },
   "outputs": [],
   "source": [
    "import os\n",
    "import pandas as pd\n",
    "%matplotlib inline\n",
    "from datetime import timedelta\n",
    "sample_file = '/gpfs2/projects/project-bus_capstone_2016/workspace/share/20141201_dot.csv'"
   ]
  },
  {
   "cell_type": "code",
   "execution_count": 2,
   "metadata": {
    "collapsed": false
   },
   "outputs": [],
   "source": [
    "dot_sample = pd.read_csv(sample_file,header=None,names=['Vehicle','Route','Direction','Phase','NMEA'])"
   ]
  },
  {
   "cell_type": "code",
   "execution_count": 3,
   "metadata": {
    "collapsed": false
   },
   "outputs": [
    {
     "data": {
      "text/html": [
       "<div style=\"max-height:1000px;max-width:1500px;overflow:auto;\">\n",
       "<table border=\"1\" class=\"dataframe\">\n",
       "  <thead>\n",
       "    <tr style=\"text-align: right;\">\n",
       "      <th></th>\n",
       "      <th>Vehicle</th>\n",
       "      <th>Route</th>\n",
       "      <th>Direction</th>\n",
       "      <th>Phase</th>\n",
       "      <th>NMEA</th>\n",
       "    </tr>\n",
       "  </thead>\n",
       "  <tbody>\n",
       "    <tr>\n",
       "      <th>0</th>\n",
       "      <td>1001</td>\n",
       "      <td>MTA NYCT_M101</td>\n",
       "      <td>0</td>\n",
       "      <td>DEADHEAD_BEFORE</td>\n",
       "      <td>$GPRMC,002005.610,A,4047.23656,N,07356.79964,W...</td>\n",
       "    </tr>\n",
       "    <tr>\n",
       "      <th>1</th>\n",
       "      <td>1001</td>\n",
       "      <td>MTA NYCT_M101</td>\n",
       "      <td>0</td>\n",
       "      <td>DEADHEAD_BEFORE</td>\n",
       "      <td>$GPRMC,002037.609,A,4047.23656,N,07356.79964,W...</td>\n",
       "    </tr>\n",
       "    <tr>\n",
       "      <th>2</th>\n",
       "      <td>1001</td>\n",
       "      <td>MTA NYCT_M101</td>\n",
       "      <td>0</td>\n",
       "      <td>DEADHEAD_BEFORE</td>\n",
       "      <td>$GPRMC,002109.609,A,4047.23656,N,07356.79964,W...</td>\n",
       "    </tr>\n",
       "    <tr>\n",
       "      <th>3</th>\n",
       "      <td>1001</td>\n",
       "      <td>MTA NYCT_M101</td>\n",
       "      <td>0</td>\n",
       "      <td>DEADHEAD_BEFORE</td>\n",
       "      <td>$GPRMC,002140.609,A,4047.23656,N,07356.79964,W...</td>\n",
       "    </tr>\n",
       "    <tr>\n",
       "      <th>4</th>\n",
       "      <td>1001</td>\n",
       "      <td>MTA NYCT_M101</td>\n",
       "      <td>0</td>\n",
       "      <td>DEADHEAD_BEFORE</td>\n",
       "      <td>$GPRMC,002520.609,A,4047.23656,N,07356.79964,W...</td>\n",
       "    </tr>\n",
       "  </tbody>\n",
       "</table>\n",
       "</div>"
      ],
      "text/plain": [
       "   Vehicle          Route  Direction            Phase  \\\n",
       "0     1001  MTA NYCT_M101          0  DEADHEAD_BEFORE   \n",
       "1     1001  MTA NYCT_M101          0  DEADHEAD_BEFORE   \n",
       "2     1001  MTA NYCT_M101          0  DEADHEAD_BEFORE   \n",
       "3     1001  MTA NYCT_M101          0  DEADHEAD_BEFORE   \n",
       "4     1001  MTA NYCT_M101          0  DEADHEAD_BEFORE   \n",
       "\n",
       "                                                NMEA  \n",
       "0  $GPRMC,002005.610,A,4047.23656,N,07356.79964,W...  \n",
       "1  $GPRMC,002037.609,A,4047.23656,N,07356.79964,W...  \n",
       "2  $GPRMC,002109.609,A,4047.23656,N,07356.79964,W...  \n",
       "3  $GPRMC,002140.609,A,4047.23656,N,07356.79964,W...  \n",
       "4  $GPRMC,002520.609,A,4047.23656,N,07356.79964,W...  "
      ]
     },
     "execution_count": 3,
     "metadata": {},
     "output_type": "execute_result"
    }
   ],
   "source": [
    "dot_sample.head()"
   ]
  },
  {
   "cell_type": "code",
   "execution_count": 5,
   "metadata": {
    "collapsed": true
   },
   "outputs": [],
   "source": [
    "# apply function to extract time element from NMEA string\n",
    "def time_from_nmea(s):\n",
    "    h = int(s[7:9])\n",
    "    m = int(s[9:11])\n",
    "    s = float(s[11:16])\n",
    "    return timedelta(hours=h,minutes=m,seconds=s)\n",
    "dot_sample['timestamp'] = dot_sample.NMEA.apply(time_from_nmea)"
   ]
  },
  {
   "cell_type": "code",
   "execution_count": 6,
   "metadata": {
    "collapsed": false
   },
   "outputs": [],
   "source": [
    "dot_sample.sort(['Vehicle','timestamp'],inplace=True)\n",
    "dot_sample['elapsed'] = dot_sample.groupby(['Vehicle'])['timestamp'].diff()/timedelta(seconds=1)"
   ]
  },
  {
   "cell_type": "code",
   "execution_count": 7,
   "metadata": {
    "collapsed": false
   },
   "outputs": [
    {
     "data": {
      "text/html": [
       "<div style=\"max-height:1000px;max-width:1500px;overflow:auto;\">\n",
       "<table border=\"1\" class=\"dataframe\">\n",
       "  <thead>\n",
       "    <tr style=\"text-align: right;\">\n",
       "      <th></th>\n",
       "      <th>Vehicle</th>\n",
       "      <th>Route</th>\n",
       "      <th>Direction</th>\n",
       "      <th>Phase</th>\n",
       "      <th>NMEA</th>\n",
       "      <th>timestamp</th>\n",
       "      <th>elapsed</th>\n",
       "    </tr>\n",
       "  </thead>\n",
       "  <tbody>\n",
       "    <tr>\n",
       "      <th>90877</th>\n",
       "      <td>133</td>\n",
       "      <td>NaN</td>\n",
       "      <td>NaN</td>\n",
       "      <td>DEADHEAD_BEFORE</td>\n",
       "      <td>$GPRMC,105819.672,A,4053.02190,N,07349.52910,W...</td>\n",
       "      <td>10:58:19.670000</td>\n",
       "      <td>NaN</td>\n",
       "    </tr>\n",
       "    <tr>\n",
       "      <th>90878</th>\n",
       "      <td>133</td>\n",
       "      <td>NaN</td>\n",
       "      <td>NaN</td>\n",
       "      <td>DEADHEAD_BEFORE</td>\n",
       "      <td>$GPRMC,105850.673,A,4052.99660,N,07349.66840,W...</td>\n",
       "      <td>10:58:50.670000</td>\n",
       "      <td>31.0</td>\n",
       "    </tr>\n",
       "    <tr>\n",
       "      <th>90879</th>\n",
       "      <td>133</td>\n",
       "      <td>NaN</td>\n",
       "      <td>NaN</td>\n",
       "      <td>DEADHEAD_BEFORE</td>\n",
       "      <td>$GPRMC,105921.673,A,4052.92370,N,07349.80310,W...</td>\n",
       "      <td>10:59:21.670000</td>\n",
       "      <td>31.0</td>\n",
       "    </tr>\n",
       "    <tr>\n",
       "      <th>90880</th>\n",
       "      <td>133</td>\n",
       "      <td>NaN</td>\n",
       "      <td>NaN</td>\n",
       "      <td>DEADHEAD_BEFORE</td>\n",
       "      <td>$GPRMC,105954.674,A,4052.72090,N,07350.02730,W...</td>\n",
       "      <td>10:59:54.670000</td>\n",
       "      <td>33.0</td>\n",
       "    </tr>\n",
       "    <tr>\n",
       "      <th>90881</th>\n",
       "      <td>133</td>\n",
       "      <td>NaN</td>\n",
       "      <td>NaN</td>\n",
       "      <td>DEADHEAD_BEFORE</td>\n",
       "      <td>$GPRMC,110025.674,A,4052.41130,N,07350.08680,W...</td>\n",
       "      <td>11:00:25.670000</td>\n",
       "      <td>31.0</td>\n",
       "    </tr>\n",
       "    <tr>\n",
       "      <th>90882</th>\n",
       "      <td>133</td>\n",
       "      <td>NaN</td>\n",
       "      <td>NaN</td>\n",
       "      <td>DEADHEAD_BEFORE</td>\n",
       "      <td>$GPRMC,110057.675,A,4052.06780,N,07349.94710,W...</td>\n",
       "      <td>11:00:57.670000</td>\n",
       "      <td>32.0</td>\n",
       "    </tr>\n",
       "    <tr>\n",
       "      <th>90883</th>\n",
       "      <td>133</td>\n",
       "      <td>NaN</td>\n",
       "      <td>NaN</td>\n",
       "      <td>DEADHEAD_BEFORE</td>\n",
       "      <td>$GPRMC,110128.675,A,4051.74380,N,07349.78370,W...</td>\n",
       "      <td>11:01:28.670000</td>\n",
       "      <td>31.0</td>\n",
       "    </tr>\n",
       "    <tr>\n",
       "      <th>90884</th>\n",
       "      <td>133</td>\n",
       "      <td>NaN</td>\n",
       "      <td>NaN</td>\n",
       "      <td>DEADHEAD_BEFORE</td>\n",
       "      <td>$GPRMC,110200.476,A,4051.50230,N,07349.61680,W...</td>\n",
       "      <td>11:02:00.470000</td>\n",
       "      <td>31.8</td>\n",
       "    </tr>\n",
       "    <tr>\n",
       "      <th>90885</th>\n",
       "      <td>133</td>\n",
       "      <td>NaN</td>\n",
       "      <td>NaN</td>\n",
       "      <td>DEADHEAD_BEFORE</td>\n",
       "      <td>$GPRMC,110231.476,A,4051.23500,N,07349.59140,W...</td>\n",
       "      <td>11:02:31.470000</td>\n",
       "      <td>31.0</td>\n",
       "    </tr>\n",
       "    <tr>\n",
       "      <th>90886</th>\n",
       "      <td>133</td>\n",
       "      <td>NaN</td>\n",
       "      <td>NaN</td>\n",
       "      <td>DEADHEAD_BEFORE</td>\n",
       "      <td>$GPRMC,110303.677,A,4051.14420,N,07349.61950,W...</td>\n",
       "      <td>11:03:03.670000</td>\n",
       "      <td>32.2</td>\n",
       "    </tr>\n",
       "  </tbody>\n",
       "</table>\n",
       "</div>"
      ],
      "text/plain": [
       "       Vehicle Route  Direction            Phase  \\\n",
       "90877      133   NaN        NaN  DEADHEAD_BEFORE   \n",
       "90878      133   NaN        NaN  DEADHEAD_BEFORE   \n",
       "90879      133   NaN        NaN  DEADHEAD_BEFORE   \n",
       "90880      133   NaN        NaN  DEADHEAD_BEFORE   \n",
       "90881      133   NaN        NaN  DEADHEAD_BEFORE   \n",
       "90882      133   NaN        NaN  DEADHEAD_BEFORE   \n",
       "90883      133   NaN        NaN  DEADHEAD_BEFORE   \n",
       "90884      133   NaN        NaN  DEADHEAD_BEFORE   \n",
       "90885      133   NaN        NaN  DEADHEAD_BEFORE   \n",
       "90886      133   NaN        NaN  DEADHEAD_BEFORE   \n",
       "\n",
       "                                                    NMEA       timestamp  \\\n",
       "90877  $GPRMC,105819.672,A,4053.02190,N,07349.52910,W... 10:58:19.670000   \n",
       "90878  $GPRMC,105850.673,A,4052.99660,N,07349.66840,W... 10:58:50.670000   \n",
       "90879  $GPRMC,105921.673,A,4052.92370,N,07349.80310,W... 10:59:21.670000   \n",
       "90880  $GPRMC,105954.674,A,4052.72090,N,07350.02730,W... 10:59:54.670000   \n",
       "90881  $GPRMC,110025.674,A,4052.41130,N,07350.08680,W... 11:00:25.670000   \n",
       "90882  $GPRMC,110057.675,A,4052.06780,N,07349.94710,W... 11:00:57.670000   \n",
       "90883  $GPRMC,110128.675,A,4051.74380,N,07349.78370,W... 11:01:28.670000   \n",
       "90884  $GPRMC,110200.476,A,4051.50230,N,07349.61680,W... 11:02:00.470000   \n",
       "90885  $GPRMC,110231.476,A,4051.23500,N,07349.59140,W... 11:02:31.470000   \n",
       "90886  $GPRMC,110303.677,A,4051.14420,N,07349.61950,W... 11:03:03.670000   \n",
       "\n",
       "       elapsed  \n",
       "90877      NaN  \n",
       "90878     31.0  \n",
       "90879     31.0  \n",
       "90880     33.0  \n",
       "90881     31.0  \n",
       "90882     32.0  \n",
       "90883     31.0  \n",
       "90884     31.8  \n",
       "90885     31.0  \n",
       "90886     32.2  "
      ]
     },
     "execution_count": 7,
     "metadata": {},
     "output_type": "execute_result"
    }
   ],
   "source": [
    "dot_sample.head(10)"
   ]
  },
  {
   "cell_type": "markdown",
   "metadata": {
    "collapsed": false
   },
   "source": [
    "### Show distribution of intervals.  Best density is when all intervals are 30 seconds."
   ]
  },
  {
   "cell_type": "code",
   "execution_count": 8,
   "metadata": {
    "collapsed": false
   },
   "outputs": [
    {
     "data": {
      "text/plain": [
       "<matplotlib.axes._subplots.AxesSubplot at 0x7f4fd9f07550>"
      ]
     },
     "execution_count": 8,
     "metadata": {},
     "output_type": "execute_result"
    },
    {
     "data": {
      "image/png": "[encoded data removed]",
      "text/plain": [
       "<matplotlib.figure.Figure at 0x7f4fdc5a1690>"
      ]
     },
     "metadata": {},
     "output_type": "display_data"
    }
   ],
   "source": [
    "dot_sample['elapsed'].dropna().hist(range=(0,89),bins=45)"
   ]
  },
  {
   "cell_type": "code",
   "execution_count": 9,
   "metadata": {
    "collapsed": false
   },
   "outputs": [
    {
     "data": {
      "text/plain": [
       "0.98604550679763969"
      ]
     },
     "execution_count": 9,
     "metadata": {},
     "output_type": "execute_result"
    }
   ],
   "source": [
    "# percent of AVL pings received under 35 seconds from previous\n",
    "sum(dot_sample['elapsed'].dropna()<35.0)/(1.0*(len(dot_sample['elapsed'].dropna())))"
   ]
  },
  {
   "cell_type": "code",
   "execution_count": 17,
   "metadata": {
    "collapsed": false
   },
   "outputs": [
    {
     "data": {
      "text/plain": [
       "5149"
      ]
     },
     "execution_count": 17,
     "metadata": {},
     "output_type": "execute_result"
    }
   ],
   "source": [
    "# number of unique Vehicle IDs (expect <5700 on any given day, accounting for out-of-service vehicles: http://web.mta.info/nyct/facts/about_us.htm)\n",
    "len(dot_sample.Vehicle.unique())"
   ]
  },
  {
   "cell_type": "code",
   "execution_count": 16,
   "metadata": {
    "collapsed": false
   },
   "outputs": [
    {
     "data": {
      "text/plain": [
       "<matplotlib.axes._subplots.AxesSubplot at 0x7f4f3198bd50>"
      ]
     },
     "execution_count": 16,
     "metadata": {},
     "output_type": "execute_result"
    },
    {
     "data": {
      "image/png": "[encoded data removed]",
      "text/plain": [
       "<matplotlib.figure.Figure at 0x7f4fd6d0e090>"
      ]
     },
     "metadata": {},
     "output_type": "display_data"
    }
   ],
   "source": [
    "# number of pings recorded in 5-minute intervals, all service status\n",
    "ts_float = (dot_sample.timestamp/timedelta(hours=1))-5\n",
    "ts_float.hist(bins=288)"
   ]
  },
  {
   "cell_type": "code",
   "execution_count": 19,
   "metadata": {
    "collapsed": false
   },
   "outputs": [
    {
     "data": {
      "text/plain": [
       "<matplotlib.axes._subplots.AxesSubplot at 0x7f4fd1760c90>"
      ]
     },
     "execution_count": 19,
     "metadata": {},
     "output_type": "execute_result"
    },
    {
     "data": {
      "image/png": "[encoded data removed]",
      "text/plain": [
       "<matplotlib.figure.Figure at 0x7f4fd1839050>"
      ]
     },
     "metadata": {},
     "output_type": "display_data"
    }
   ],
   "source": [
    "# number of pings recorded in 5-minute intervals, IN PROGRESS only\n",
    "ts_float = (dot_sample.query('Phase == \"IN_PROGRESS\"').timestamp/timedelta(hours=1))-5\n",
    "ts_float.hist(bins=288)"
   ]
  },
  {
   "cell_type": "code",
   "execution_count": 20,
   "metadata": {
    "collapsed": false
   },
   "outputs": [
    {
     "data": {
      "text/plain": [
       "Route\n",
       "MTA NYCT_B1      24639\n",
       "MTA NYCT_B11     21371\n",
       "MTA NYCT_B12     24167\n",
       "MTA NYCT_B13     13721\n",
       "MTA NYCT_B14     11862\n",
       "MTA NYCT_B15     37746\n",
       "MTA NYCT_B16     15129\n",
       "MTA NYCT_B17     17399\n",
       "MTA NYCT_B2       5216\n",
       "MTA NYCT_B20     17545\n",
       "MTA NYCT_B24      8260\n",
       "MTA NYCT_B25     19789\n",
       "MTA NYCT_B26     22511\n",
       "MTA NYCT_B3      19864\n",
       "MTA NYCT_B31      4699\n",
       "MTA NYCT_B32      2502\n",
       "MTA NYCT_B35     49603\n",
       "MTA NYCT_B36     21376\n",
       "MTA NYCT_B37      8567\n",
       "MTA NYCT_B38     37976\n",
       "MTA NYCT_B39      1204\n",
       "MTA NYCT_B4      14360\n",
       "MTA NYCT_B41     55971\n",
       "MTA NYCT_B42      6230\n",
       "MTA NYCT_B43     20905\n",
       "MTA NYCT_B44     33244\n",
       "MTA NYCT_B44+    29943\n",
       "MTA NYCT_B45     14103\n",
       "MTA NYCT_B46     73917\n",
       "MTA NYCT_B47     20158\n",
       "                 ...  \n",
       "MTABC_Q50        10489\n",
       "MTABC_Q52        11552\n",
       "MTABC_Q53        28062\n",
       "MTABC_Q60        27395\n",
       "MTABC_Q64         9790\n",
       "MTABC_Q65        31417\n",
       "MTABC_Q66        23518\n",
       "MTABC_Q67         7492\n",
       "MTABC_Q69        12441\n",
       "MTABC_Q70         7434\n",
       "MTABC_Q72         7483\n",
       "MTABC_QM1         4331\n",
       "MTABC_QM10        2194\n",
       "MTABC_QM11        2555\n",
       "MTABC_QM12        2819\n",
       "MTABC_QM15        6823\n",
       "MTABC_QM16        2963\n",
       "MTABC_QM17        3107\n",
       "MTABC_QM18        1432\n",
       "MTABC_QM2        10422\n",
       "MTABC_QM20        5892\n",
       "MTABC_QM21        1438\n",
       "MTABC_QM24        5900\n",
       "MTABC_QM25        2054\n",
       "MTABC_QM3          904\n",
       "MTABC_QM4         4579\n",
       "MTABC_QM5        11491\n",
       "MTABC_QM6         7344\n",
       "MTABC_QM7         3340\n",
       "MTABC_QM8         2665\n",
       "dtype: int64"
      ]
     },
     "execution_count": 20,
     "metadata": {},
     "output_type": "execute_result"
    }
   ],
   "source": [
    "# number of IN_PROGRESS pings recorded by Route\n",
    "dot_sample.query('Phase == \"IN_PROGRESS\"').groupby('Route').size()"
   ]
  },
  {
   "cell_type": "code",
   "execution_count": null,
   "metadata": {
    "collapsed": true
   },
   "outputs": [],
   "source": []
  }
 ],
 "metadata": {
  "kernelspec": {
   "display_name": "Python 2",
   "language": "python",
   "name": "python2"
  },
  "language_info": {
   "codemirror_mode": {
    "name": "ipython",
    "version": 2
   },
   "file_extension": ".py",
   "mimetype": "text/x-python",
   "name": "python",
   "nbconvert_exporter": "python",
   "pygments_lexer": "ipython2",
   "version": "2.7.11"
  }
 },
 "nbformat": 4,
 "nbformat_minor": 0
}
