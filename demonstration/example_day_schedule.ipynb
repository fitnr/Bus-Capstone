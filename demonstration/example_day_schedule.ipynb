{
 "cells": [
  {
   "cell_type": "markdown",
   "metadata": {},
   "source": [
    "## Single day schedule data extraction and summarization"
   ]
  },
  {
   "cell_type": "code",
   "execution_count": 1,
   "metadata": {
    "collapsed": true
   },
   "outputs": [],
   "source": [
    "example_date = '2015-12-03'\n",
    "gtfs_path = '/gpfs2/projects/project-bus_capstone_2016/workspace/share/gtfs/'\n",
    "code_filepath = '..'\n",
    "\n",
    "import os\n",
    "import pandas as pd\n",
    "import numpy as np\n",
    "%matplotlib inline\n",
    "\n",
    "# these modules are homemade\n",
    "os.chdir(code_filepath)\n",
    "import ttools\n",
    "import gtfs"
   ]
  },
  {
   "cell_type": "code",
   "execution_count": 2,
   "metadata": {
    "collapsed": true
   },
   "outputs": [],
   "source": [
    "# get all the schedule data. (subset can be created later)\n",
    "trips = gtfs.load_trips(example_date,gtfs_path)\n",
    "stops = gtfs.load_stops(example_date,gtfs_path)\n",
    "stop_times, tz_sched = gtfs.load_stop_times(example_date,gtfs_path)\n",
    "tcal=gtfs.TransitCalendar(example_date,gtfs_path)"
   ]
  },
  {
   "cell_type": "code",
   "execution_count": 3,
   "metadata": {
    "collapsed": false
   },
   "outputs": [
    {
     "name": "stdout",
     "output_type": "stream",
     "text": [
      "Finished loading GTFS data.\n"
     ]
    }
   ],
   "source": [
    "active_services = tcal.get_service_ids(example_date)\n",
    "active_trips = trips.service_id.isin(active_services)\n",
    "active_stop_times = stop_times.reset_index().set_index('trip_id').loc[active_trips]\n",
    "print 'Finished loading GTFS data.'"
   ]
  },
  {
   "cell_type": "code",
   "execution_count": 4,
   "metadata": {
    "collapsed": false
   },
   "outputs": [],
   "source": [
    "active_stop_times.set_index('stop_id',append=True,inplace=True)"
   ]
  },
  {
   "cell_type": "code",
   "execution_count": 5,
   "metadata": {
    "collapsed": false
   },
   "outputs": [
    {
     "data": {
      "text/plain": [
       "<matplotlib.axes._subplots.AxesSubplot at 0x7fe9a51b8ad0>"
      ]
     },
     "execution_count": 5,
     "metadata": {},
     "output_type": "execute_result"
    },
    {
     "data": {
      "image/png": "[encoded data removed]",
      "text/plain": [
       "<matplotlib.figure.Figure at 0x7fea70f25c90>"
      ]
     },
     "metadata": {},
     "output_type": "display_data"
    }
   ],
   "source": [
    "active_stop_times.groupby(level=0).size().hist(range=(0,60),bins=30)"
   ]
  },
  {
   "cell_type": "code",
   "execution_count": 6,
   "metadata": {
    "collapsed": false
   },
   "outputs": [
    {
     "name": "stdout",
     "output_type": "stream",
     "text": [
      "2064230\n",
      "54272\n",
      "38.0348982901\n"
     ]
    }
   ],
   "source": [
    "print len(active_stop_times)\n",
    "print sum(active_trips)\n",
    "print 1.0*len(active_stop_times)/sum(active_trips)"
   ]
  },
  {
   "cell_type": "code",
   "execution_count": 7,
   "metadata": {
    "collapsed": false
   },
   "outputs": [],
   "source": [
    "active_stop_times['arrival_time'] = pd.to_timedelta(active_stop_times['arrival_time'])\n",
    "active_stop_times['departure_time'] = pd.to_timedelta(active_stop_times['departure_time'])"
   ]
  },
  {
   "cell_type": "code",
   "execution_count": 8,
   "metadata": {
    "collapsed": false
   },
   "outputs": [],
   "source": [
    "trip_durations = active_stop_times.groupby(level=(0))['arrival_time'].max()- active_stop_times.groupby(level=(0))['arrival_time'].min()"
   ]
  },
  {
   "cell_type": "code",
   "execution_count": 9,
   "metadata": {
    "collapsed": false
   },
   "outputs": [
    {
     "data": {
      "text/plain": [
       "count                     54272\n",
       "mean     0 days 00:48:38.765975\n",
       "std      0 days 00:21:33.547153\n",
       "min             0 days 00:02:00\n",
       "25%             0 days 00:32:00\n",
       "50%             0 days 00:46:00\n",
       "75%             0 days 01:02:00\n",
       "max             0 days 02:52:00\n",
       "Name: arrival_time, dtype: object"
      ]
     },
     "execution_count": 9,
     "metadata": {},
     "output_type": "execute_result"
    }
   ],
   "source": [
    "trip_durations.describe()"
   ]
  },
  {
   "cell_type": "code",
   "execution_count": 10,
   "metadata": {
    "collapsed": false
   },
   "outputs": [
    {
     "data": {
      "text/plain": [
       "<matplotlib.axes._subplots.AxesSubplot at 0x7fe9a9f8a510>"
      ]
     },
     "execution_count": 10,
     "metadata": {},
     "output_type": "execute_result"
    },
    {
     "data": {
      "image/png": "[encoded data removed]",
      "text/plain": [
       "<matplotlib.figure.Figure at 0x7fea3cbd61d0>"
      ]
     },
     "metadata": {},
     "output_type": "display_data"
    }
   ],
   "source": [
    "(trip_durations/ttools.datetime.timedelta(minutes=1)).hist(bins=40)"
   ]
  },
  {
   "cell_type": "code",
   "execution_count": 11,
   "metadata": {
    "collapsed": false
   },
   "outputs": [
    {
     "data": {
      "text/plain": [
       "['9911403-SCPD5-SC_D5-Weekday-10-SDon',\n",
       " '9911404-SCPD5-SC_D5-Weekday-10-SDon',\n",
       " '9911405-SCPD5-SC_D5-Weekday-10-SDon',\n",
       " '9911406-SCPD5-SC_D5-Weekday-10-SDon',\n",
       " '9911414-SCPD5-SC_D5-Weekday-10-SDon',\n",
       " 'GA_D5-Weekday-SDon-115800_B60_728',\n",
       " 'GA_D5-Weekday-SDon-118800_B60_728',\n",
       " 'GA_D5-Weekday-SDon-121800_B60_728',\n",
       " 'GA_D5-Weekday-SDon-124800_B60_728',\n",
       " 'GA_D5-Weekday-SDon-127800_B60_728',\n",
       " 'GH_D5-Weekday-SDon-030000_SBS12_201',\n",
       " 'GH_D5-Weekday-SDon-032000_SBS12_202',\n",
       " 'GH_D5-Weekday-SDon-034000_SBS12_204',\n",
       " 'GH_D5-Weekday-SDon-036000_SBS12_207',\n",
       " 'GH_D5-Weekday-SDon-038000_SBS12_211']"
      ]
     },
     "execution_count": 11,
     "metadata": {},
     "output_type": "execute_result"
    }
   ],
   "source": [
    "list(trip_durations[trip_durations < ttools.datetime.timedelta(minutes=5)].index)"
   ]
  },
  {
   "cell_type": "code",
   "execution_count": 12,
   "metadata": {
    "collapsed": false
   },
   "outputs": [
    {
     "data": {
      "text/plain": [
       "block_id                               NaN\n",
       "direction_id                             0\n",
       "route_id                               B39\n",
       "service_id              GA_D5-Weekday-SDon\n",
       "shape_id                           B390024\n",
       "trip_headsign    WILLIAMSBURG BRIDGE PLAZA\n",
       "Name: GA_D5-Weekday-SDon-118800_B60_728, dtype: object"
      ]
     },
     "execution_count": 12,
     "metadata": {},
     "output_type": "execute_result"
    }
   ],
   "source": [
    "trips.loc['GA_D5-Weekday-SDon-118800_B60_728']"
   ]
  },
  {
   "cell_type": "code",
   "execution_count": 13,
   "metadata": {
    "collapsed": false
   },
   "outputs": [
    {
     "data": {
      "text/html": [
       "<div style=\"max-height:1000px;max-width:1500px;overflow:auto;\">\n",
       "<table border=\"1\" class=\"dataframe\">\n",
       "  <thead>\n",
       "    <tr style=\"text-align: right;\">\n",
       "      <th></th>\n",
       "      <th>arrival_time</th>\n",
       "      <th>departure_time</th>\n",
       "      <th>stop_sequence</th>\n",
       "      <th>pickup_type</th>\n",
       "      <th>drop_off_type</th>\n",
       "    </tr>\n",
       "    <tr>\n",
       "      <th>stop_id</th>\n",
       "      <th></th>\n",
       "      <th></th>\n",
       "      <th></th>\n",
       "      <th></th>\n",
       "      <th></th>\n",
       "    </tr>\n",
       "  </thead>\n",
       "  <tbody>\n",
       "    <tr>\n",
       "      <th>403647</th>\n",
       "      <td>19:48:00</td>\n",
       "      <td>19:48:00</td>\n",
       "      <td>1</td>\n",
       "      <td>0</td>\n",
       "      <td>0</td>\n",
       "    </tr>\n",
       "    <tr>\n",
       "      <th>804174</th>\n",
       "      <td>19:48:15</td>\n",
       "      <td>19:48:15</td>\n",
       "      <td>2</td>\n",
       "      <td>0</td>\n",
       "      <td>0</td>\n",
       "    </tr>\n",
       "    <tr>\n",
       "      <th>801012</th>\n",
       "      <td>19:52:00</td>\n",
       "      <td>19:52:00</td>\n",
       "      <td>3</td>\n",
       "      <td>0</td>\n",
       "      <td>0</td>\n",
       "    </tr>\n",
       "  </tbody>\n",
       "</table>\n",
       "</div>"
      ],
      "text/plain": [
       "        arrival_time departure_time  stop_sequence  pickup_type  drop_off_type\n",
       "stop_id                                                                       \n",
       "403647      19:48:00       19:48:00              1            0              0\n",
       "804174      19:48:15       19:48:15              2            0              0\n",
       "801012      19:52:00       19:52:00              3            0              0"
      ]
     },
     "execution_count": 13,
     "metadata": {},
     "output_type": "execute_result"
    }
   ],
   "source": [
    "stop_times.loc['GA_D5-Weekday-SDon-118800_B60_728']"
   ]
  }
 ],
 "metadata": {
  "kernelspec": {
   "display_name": "Python 2",
   "language": "python",
   "name": "python2"
  },
  "language_info": {
   "codemirror_mode": {
    "name": "ipython",
    "version": 2
   },
   "file_extension": ".py",
   "mimetype": "text/x-python",
   "name": "python",
   "nbconvert_exporter": "python",
   "pygments_lexer": "ipython2",
   "version": "2.7.11"
  }
 },
 "nbformat": 4,
 "nbformat_minor": 0
}
