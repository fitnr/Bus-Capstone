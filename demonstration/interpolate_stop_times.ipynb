{
 "cells": [
  {
   "cell_type": "code",
   "execution_count": 1,
   "metadata": {
    "collapsed": false
   },
   "outputs": [],
   "source": [
    "# -*- coding: utf-8 -*-\n",
    "\"\"\"\n",
    "The script demonstrates the performance of an interpolation algorithm when applied to a large dataset.\n",
    "\"\"\"\n",
    "\n",
    "bustime_filepath = '/gpfs2/projects/project-bus_capstone_2016/workspace/share/dec2015_extract_cleaned.csv'\n",
    "code_filepath = '..'\n",
    "output_filepath = '/gpfs2/projects/project-bus_capstone_2016/workspace/share/20151203_interpolated.csv'\n",
    "\n",
    "import os\n",
    "import pandas as pd\n",
    "import matplotlib.pyplot as plt\n",
    "%matplotlib inline  \n",
    "\n",
    "# these modules are homemade\n",
    "os.chdir(code_filepath)\n",
    "import gtfs\n",
    "import arrivals\n",
    "import ttools"
   ]
  },
  {
   "cell_type": "markdown",
   "metadata": {},
   "source": [
    "### Previous versions of the interpolation function. (final version is below)"
   ]
  },
  {
   "cell_type": "markdown",
   "metadata": {},
   "source": [
    "### Current working version of interpolation function.\n",
    "Takes several lists as inputs, which can be stored together as a dataframe row (merged_row).\n",
    "\n",
    "merged_row.shape_stop_dist is a list of distances of *all* stops from the schedule on that shape.<p>\n",
    "mergedrow.shape_stop_id is a list of stop_id labels for those stops<p>"
   ]
  },
  {
   "cell_type": "markdown",
   "metadata": {},
   "source": [
    "## Get the Bus Time data"
   ]
  },
  {
   "cell_type": "code",
   "execution_count": 2,
   "metadata": {
    "collapsed": false
   },
   "outputs": [],
   "source": [
    "# get the sample of parsed AVL data.  Beware, large files take more time.\n",
    "bustime = pd.read_csv(bustime_filepath)"
   ]
  },
  {
   "cell_type": "code",
   "execution_count": 3,
   "metadata": {
    "collapsed": false
   },
   "outputs": [
    {
     "data": {
      "text/html": [
       "<div style=\"max-height:1000px;max-width:1500px;overflow:auto;\">\n",
       "<table border=\"1\" class=\"dataframe\">\n",
       "  <thead>\n",
       "    <tr style=\"text-align: right;\">\n",
       "      <th></th>\n",
       "      <th>ROUTE_ID</th>\n",
       "      <th>latitude</th>\n",
       "      <th>longitude</th>\n",
       "      <th>recorded_time</th>\n",
       "      <th>vehicle_id</th>\n",
       "      <th>TRIP_ID</th>\n",
       "      <th>trip_date</th>\n",
       "      <th>SHAPE_ID</th>\n",
       "      <th>STOP_ID</th>\n",
       "      <th>distance_stop</th>\n",
       "      <th>distance_shape</th>\n",
       "      <th>status</th>\n",
       "      <th>destination</th>\n",
       "    </tr>\n",
       "  </thead>\n",
       "  <tbody>\n",
       "    <tr>\n",
       "      <th>0</th>\n",
       "      <td>Q66</td>\n",
       "      <td>40.759376</td>\n",
       "      <td>-73.830754</td>\n",
       "      <td>2015-11-30T23:41:52.000</td>\n",
       "      <td>211</td>\n",
       "      <td>9866275-CPPD5-CP_D5-Weekday-10-SDon</td>\n",
       "      <td>2015-12-01</td>\n",
       "      <td>Q660138</td>\n",
       "      <td>503845</td>\n",
       "      <td>0.01</td>\n",
       "      <td>0.01</td>\n",
       "      <td>at stop</td>\n",
       "      <td>505066</td>\n",
       "    </tr>\n",
       "    <tr>\n",
       "      <th>1</th>\n",
       "      <td>Q66</td>\n",
       "      <td>40.759376</td>\n",
       "      <td>-73.830754</td>\n",
       "      <td>2015-11-30T23:42:54.000</td>\n",
       "      <td>211</td>\n",
       "      <td>9866275-CPPD5-CP_D5-Weekday-10-SDon</td>\n",
       "      <td>2015-12-01</td>\n",
       "      <td>Q660138</td>\n",
       "      <td>503845</td>\n",
       "      <td>0.01</td>\n",
       "      <td>0.01</td>\n",
       "      <td>at stop</td>\n",
       "      <td>505066</td>\n",
       "    </tr>\n",
       "    <tr>\n",
       "      <th>2</th>\n",
       "      <td>Q66</td>\n",
       "      <td>40.759376</td>\n",
       "      <td>-73.830754</td>\n",
       "      <td>2015-11-30T23:44:30.000</td>\n",
       "      <td>211</td>\n",
       "      <td>9866275-CPPD5-CP_D5-Weekday-10-SDon</td>\n",
       "      <td>2015-12-01</td>\n",
       "      <td>Q660138</td>\n",
       "      <td>503845</td>\n",
       "      <td>0.01</td>\n",
       "      <td>0.01</td>\n",
       "      <td>at stop</td>\n",
       "      <td>505066</td>\n",
       "    </tr>\n",
       "    <tr>\n",
       "      <th>3</th>\n",
       "      <td>Q66</td>\n",
       "      <td>40.759376</td>\n",
       "      <td>-73.830754</td>\n",
       "      <td>2015-11-30T23:45:33.000</td>\n",
       "      <td>211</td>\n",
       "      <td>9866275-CPPD5-CP_D5-Weekday-10-SDon</td>\n",
       "      <td>2015-12-01</td>\n",
       "      <td>Q660138</td>\n",
       "      <td>503845</td>\n",
       "      <td>0.01</td>\n",
       "      <td>0.01</td>\n",
       "      <td>at stop</td>\n",
       "      <td>505066</td>\n",
       "    </tr>\n",
       "    <tr>\n",
       "      <th>4</th>\n",
       "      <td>Q66</td>\n",
       "      <td>40.759376</td>\n",
       "      <td>-73.830754</td>\n",
       "      <td>2015-11-30T23:46:36.000</td>\n",
       "      <td>211</td>\n",
       "      <td>9866275-CPPD5-CP_D5-Weekday-10-SDon</td>\n",
       "      <td>2015-12-01</td>\n",
       "      <td>Q660138</td>\n",
       "      <td>503845</td>\n",
       "      <td>0.01</td>\n",
       "      <td>0.01</td>\n",
       "      <td>at stop</td>\n",
       "      <td>505066</td>\n",
       "    </tr>\n",
       "  </tbody>\n",
       "</table>\n",
       "</div>"
      ],
      "text/plain": [
       "  ROUTE_ID   latitude  longitude            recorded_time  vehicle_id  \\\n",
       "0      Q66  40.759376 -73.830754  2015-11-30T23:41:52.000         211   \n",
       "1      Q66  40.759376 -73.830754  2015-11-30T23:42:54.000         211   \n",
       "2      Q66  40.759376 -73.830754  2015-11-30T23:44:30.000         211   \n",
       "3      Q66  40.759376 -73.830754  2015-11-30T23:45:33.000         211   \n",
       "4      Q66  40.759376 -73.830754  2015-11-30T23:46:36.000         211   \n",
       "\n",
       "                               TRIP_ID   trip_date SHAPE_ID  STOP_ID  \\\n",
       "0  9866275-CPPD5-CP_D5-Weekday-10-SDon  2015-12-01  Q660138   503845   \n",
       "1  9866275-CPPD5-CP_D5-Weekday-10-SDon  2015-12-01  Q660138   503845   \n",
       "2  9866275-CPPD5-CP_D5-Weekday-10-SDon  2015-12-01  Q660138   503845   \n",
       "3  9866275-CPPD5-CP_D5-Weekday-10-SDon  2015-12-01  Q660138   503845   \n",
       "4  9866275-CPPD5-CP_D5-Weekday-10-SDon  2015-12-01  Q660138   503845   \n",
       "\n",
       "   distance_stop  distance_shape   status  destination  \n",
       "0           0.01            0.01  at stop       505066  \n",
       "1           0.01            0.01  at stop       505066  \n",
       "2           0.01            0.01  at stop       505066  \n",
       "3           0.01            0.01  at stop       505066  \n",
       "4           0.01            0.01  at stop       505066  "
      ]
     },
     "execution_count": 3,
     "metadata": {},
     "output_type": "execute_result"
    }
   ],
   "source": [
    "bustime.head()"
   ]
  },
  {
   "cell_type": "markdown",
   "metadata": {},
   "source": [
    "#### Additional cleaning, organizing and sorting"
   ]
  },
  {
   "cell_type": "code",
   "execution_count": 4,
   "metadata": {
    "collapsed": true
   },
   "outputs": [],
   "source": [
    "bustime.drop_duplicates(['vehicle_id','recorded_time'],inplace=True)\n",
    "\n",
    "bustime.set_index(['ROUTE_ID','TRIP_ID','trip_date','vehicle_id'],inplace=True,drop=True)\n",
    "bustime.set_index('recorded_time',append=True,drop=False,inplace=True)\n",
    "bustime.sort_index(inplace=True)\n",
    "\n",
    "# for demonstration, use a subset. Just get data one day.\n",
    "tripDateLookup = '2015-12-03'\n",
    "bustime = bustime.xs((tripDateLookup),level=(2),drop_level=False)"
   ]
  },
  {
   "cell_type": "code",
   "execution_count": 5,
   "metadata": {
    "collapsed": false
   },
   "outputs": [
    {
     "name": "stdout",
     "output_type": "stream",
     "text": [
      "Finished loading BusTime data, parsing timestamps, and slicing ONE DAY.\n"
     ]
    }
   ],
   "source": [
    "bustime['distance_shape'] = bustime['distance_shape'].convert_objects(convert_numeric=True)\n",
    "bustime['distance_stop'] = bustime['distance_stop'].convert_objects(convert_numeric=True)\n",
    "# add calculated column for distance along shape\n",
    "bustime['veh_dist_along_shape'] = bustime['distance_shape'] - bustime['distance_stop']\n",
    "\n",
    "print 'Finished loading BusTime data, parsing timestamps, and slicing ONE DAY.'"
   ]
  },
  {
   "cell_type": "code",
   "execution_count": 6,
   "metadata": {
    "collapsed": false,
    "scrolled": true
   },
   "outputs": [],
   "source": [
    "for name, group in bustime.groupby(level=2):\n",
    "    bustime.loc[(slice(None),slice(None),name),'recorded_time'] = group['recorded_time'].apply(ttools.parseActualTime,tdate=name)"
   ]
  },
  {
   "cell_type": "code",
   "execution_count": 7,
   "metadata": {
    "collapsed": false
   },
   "outputs": [
    {
     "data": {
      "text/plain": [
       "ROUTE_ID  TRIP_ID                           trip_date   vehicle_id  recorded_time          \n",
       "B1        FB_D5-Weekday-SDon-047200_B49_15  2015-12-03  5125        2015-12-03T07:59:24.000   07:59:24\n",
       "                                                                    2015-12-03T08:02:35.000   08:02:35\n",
       "                                                                    2015-12-03T08:04:11.000   08:04:11\n",
       "                                                                    2015-12-03T08:06:18.000   08:06:18\n",
       "          FB_D5-Weekday-SDon-051000_B49_15  2015-12-03  4855        2015-12-03T08:52:39.000   08:52:39\n",
       "Name: recorded_time, dtype: timedelta64[ns]"
      ]
     },
     "execution_count": 7,
     "metadata": {},
     "output_type": "execute_result"
    }
   ],
   "source": [
    "bustime.loc[(slice(None),slice(None),'2015-12-03'),'recorded_time'].head()"
   ]
  },
  {
   "cell_type": "markdown",
   "metadata": {},
   "source": [
    "#### Create a separate dataframe containing the distances of ALL stops along each shape.\n",
    "Although GTFS is the official source for all stop information, Bus Time has the distances calculated already according to the shape.  The problem is the records from each trip may not contain information about all the stops (for example, when some are skipped).  Using a large enough sample should resolve that problem."
   ]
  },
  {
   "cell_type": "code",
   "execution_count": 8,
   "metadata": {
    "collapsed": false
   },
   "outputs": [
    {
     "name": "stdout",
     "output_type": "stream",
     "text": [
      "Finished creating stop-distances reference dataframe.\n"
     ]
    }
   ],
   "source": [
    "bustime_distances = bustime.drop(['recorded_time'],axis=1,inplace=False)\n",
    "bustime_distances = bustime_distances.reset_index().drop(['ROUTE_ID','TRIP_ID','trip_date','vehicle_id','recorded_time',\n",
    "                                                'latitude','longitude','distance_stop','status','destination',\n",
    "                                                'veh_dist_along_shape'],axis=1,inplace=False)\n",
    "stop_distances = bustime_distances.drop_duplicates(['SHAPE_ID','STOP_ID','distance_shape'])\n",
    "stop_distances = stop_distances.query('distance_shape > 0.1')\n",
    "stop_distances = stop_distances.sort(['SHAPE_ID','distance_shape']).reset_index(drop=True)\n",
    "\n",
    "print 'Finished creating stop-distances reference dataframe.'"
   ]
  },
  {
   "cell_type": "markdown",
   "metadata": {},
   "source": [
    "## Organization of Bus Time data\n",
    "A trip is identified as the grouping of records for each route, trip date, trip_id **and** vehicle_id.  Both are required because sometimes trip_id labels are \"recycled\" during the day and used by two different vehicles serving the route."
   ]
  },
  {
   "cell_type": "code",
   "execution_count": 9,
   "metadata": {
    "collapsed": true
   },
   "outputs": [],
   "source": [
    "gb = bustime.groupby(level=(0,1,2,3))"
   ]
  },
  {
   "cell_type": "markdown",
   "metadata": {},
   "source": [
    "For each **trip data group**, take the reported shape_id (single value), which will be used next to get the information about all stops along that shape.<p>\n",
    "From each group, take the necessary data in list form:\n",
    "<ol>\n",
    "<li>time stamps of all the pings</li>\n",
    "<li>vehicle distances for thosee pings (note: Python list ordering is persistent, so the two lists can be kept separate)</li></ol>"
   ]
  },
  {
   "cell_type": "code",
   "execution_count": 10,
   "metadata": {
    "collapsed": true
   },
   "outputs": [],
   "source": [
    "shape_ids = gb['SHAPE_ID'].agg(lambda x:x.value_counts().index[0])\n",
    "reported_timestamps = gb['recorded_time'].apply(list)\n",
    "reported_dists = gb['veh_dist_along_shape'].apply(list)"
   ]
  },
  {
   "cell_type": "markdown",
   "metadata": {},
   "source": [
    "... and also take the necessary data (in list form) from each **shape**:\n",
    "<ol start=\"3\">\n",
    "<li>labels of all the stops along that shape, from the separate dataframe of stop distances</li>\n",
    "<li>the distances of all those stops</li><ol>\n",
    "<br>Also, rename the objects for clarity.  And then merge together."
   ]
  },
  {
   "cell_type": "code",
   "execution_count": 11,
   "metadata": {
    "collapsed": false
   },
   "outputs": [],
   "source": [
    "all_stops = stop_distances.groupby('SHAPE_ID')['STOP_ID'].apply(list)\n",
    "all_dists = stop_distances.groupby('SHAPE_ID')['distance_shape'].apply(list)\n",
    "all_dists.name = 'shape_stop_dist'\n",
    "all_stops.name = 'shape_stop_id'\n",
    "all_stop_dists = pd.DataFrame(shape_ids).merge(pd.DataFrame(all_dists),left_on='SHAPE_ID',right_index=True).merge(pd.DataFrame(all_stops),left_on='SHAPE_ID',right_index=True)"
   ]
  },
  {
   "cell_type": "markdown",
   "metadata": {},
   "source": [
    "## Merge everything into a dataframe"
   ]
  },
  {
   "cell_type": "code",
   "execution_count": 12,
   "metadata": {
    "collapsed": false
   },
   "outputs": [
    {
     "data": {
      "text/html": [
       "<div style=\"max-height:1000px;max-width:1500px;overflow:auto;\">\n",
       "<table border=\"1\" class=\"dataframe\">\n",
       "  <thead>\n",
       "    <tr style=\"text-align: right;\">\n",
       "      <th></th>\n",
       "      <th></th>\n",
       "      <th></th>\n",
       "      <th></th>\n",
       "      <th>SHAPE_ID</th>\n",
       "      <th>shape_stop_dist</th>\n",
       "      <th>shape_stop_id</th>\n",
       "      <th>recorded_time</th>\n",
       "      <th>veh_dist_along_shape</th>\n",
       "    </tr>\n",
       "    <tr>\n",
       "      <th>ROUTE_ID</th>\n",
       "      <th>TRIP_ID</th>\n",
       "      <th>trip_date</th>\n",
       "      <th>vehicle_id</th>\n",
       "      <th></th>\n",
       "      <th></th>\n",
       "      <th></th>\n",
       "      <th></th>\n",
       "      <th></th>\n",
       "    </tr>\n",
       "  </thead>\n",
       "  <tbody>\n",
       "    <tr>\n",
       "      <th rowspan=\"25\" valign=\"top\">B1</th>\n",
       "      <th>FB_D5-Weekday-SDon-047200_B49_15</th>\n",
       "      <th>2015-12-03</th>\n",
       "      <th>5125</th>\n",
       "      <td>B1O0254</td>\n",
       "      <td>[146.45, 343.65, 508.5, 682.49, 896.49, 1004.1...</td>\n",
       "      <td>[300123, 300124, 308045, 300126, 300127, 30012...</td>\n",
       "      <td>[0 days 07:59:24, 0 days 08:02:35, 0 days 08:0...</td>\n",
       "      <td>[331.85, 463.38, 559.01, 1546.4]</td>\n",
       "    </tr>\n",
       "    <tr>\n",
       "      <th rowspan=\"3\" valign=\"top\">FB_D5-Weekday-SDon-051000_B49_15</th>\n",
       "      <th rowspan=\"3\" valign=\"top\">2015-12-03</th>\n",
       "      <th>4855</th>\n",
       "      <td>B1O0256</td>\n",
       "      <td>[530.31, 895.26, 1248.41, 1644.35, 2689.21, 31...</td>\n",
       "      <td>[300109, 300111, 307132, 300114, 300117, 30011...</td>\n",
       "      <td>[0 days 08:52:39]</td>\n",
       "      <td>[3707.69]</td>\n",
       "    </tr>\n",
       "    <tr>\n",
       "      <th>5125</th>\n",
       "      <td>B1O0256</td>\n",
       "      <td>[530.31, 895.26, 1248.41, 1644.35, 2689.21, 31...</td>\n",
       "      <td>[300109, 300111, 307132, 300114, 300117, 30011...</td>\n",
       "      <td>[0 days 08:37:55, 0 days 08:40:01, 0 days 08:4...</td>\n",
       "      <td>[449.39, 1126.74, 1221.7, 1514.36, 2447.31, 26...</td>\n",
       "    </tr>\n",
       "    <tr>\n",
       "      <th>7146</th>\n",
       "      <td>B1O0256</td>\n",
       "      <td>[530.31, 895.26, 1248.41, 1644.35, 2689.21, 31...</td>\n",
       "      <td>[300109, 300111, 307132, 300114, 300117, 30011...</td>\n",
       "      <td>[0 days 08:33:58, 0 days 08:38:12]</td>\n",
       "      <td>[796.14, 1230.6]</td>\n",
       "    </tr>\n",
       "    <tr>\n",
       "      <th>FB_D5-Weekday-SDon-051200_B49_21</th>\n",
       "      <th>2015-12-03</th>\n",
       "      <th>7146</th>\n",
       "      <td>B1O0256</td>\n",
       "      <td>[530.31, 895.26, 1248.41, 1644.35, 2689.21, 31...</td>\n",
       "      <td>[300109, 300111, 307132, 300114, 300117, 30011...</td>\n",
       "      <td>[0 days 08:51:25, 0 days 08:52:28, 0 days 08:5...</td>\n",
       "      <td>[3620.86, 3623.96, 3914.0, 4238.83, 4322.27]</td>\n",
       "    </tr>\n",
       "    <tr>\n",
       "      <th>UP_D5-Weekday-SDon-006000_B1_1</th>\n",
       "      <th>2015-12-03</th>\n",
       "      <th>4877</th>\n",
       "      <td>B1O0243</td>\n",
       "      <td>[0.44, 289.31, 427.52, 560.27, 845.9, 1002.3, ...</td>\n",
       "      <td>[300000, 300002, 300003, 300004, 300006, 30000...</td>\n",
       "      <td>[0 days 00:57:25, 0 days 00:58:28, 0 days 00:5...</td>\n",
       "      <td>[91.67, 91.67, 91.67, 560.27, 883.14, 1353.46,...</td>\n",
       "    </tr>\n",
       "    <tr>\n",
       "      <th>UP_D5-Weekday-SDon-009800_B1_1</th>\n",
       "      <th>2015-12-03</th>\n",
       "      <th>4877</th>\n",
       "      <td>B1O0251</td>\n",
       "      <td>[0.27, 187.16, 361.71, 567.94, 720.29, 920.63,...</td>\n",
       "      <td>[305775, 301614, 301615, 305511, 305512, 30551...</td>\n",
       "      <td>[0 days 01:33:33, 0 days 01:34:35, 0 days 01:3...</td>\n",
       "      <td>[2.15, 2.15, 2.15, 2.15, 21.47, 85.58, 140.81,...</td>\n",
       "    </tr>\n",
       "    <tr>\n",
       "      <th>UP_D5-Weekday-SDon-010000_B1_2</th>\n",
       "      <th>2015-12-03</th>\n",
       "      <th>4893</th>\n",
       "      <td>B1O0243</td>\n",
       "      <td>[0.44, 289.31, 427.52, 560.27, 845.9, 1002.3, ...</td>\n",
       "      <td>[300000, 300002, 300003, 300004, 300006, 30000...</td>\n",
       "      <td>[0 days 01:35:01, 0 days 01:36:05, 0 days 01:3...</td>\n",
       "      <td>[3007.67, 3034.77, 3034.77, 3034.77, 3034.77, ...</td>\n",
       "    </tr>\n",
       "    <tr>\n",
       "      <th>UP_D5-Weekday-SDon-013800_B1_2</th>\n",
       "      <th>2015-12-03</th>\n",
       "      <th>4893</th>\n",
       "      <td>B1O0251</td>\n",
       "      <td>[0.27, 187.16, 361.71, 567.94, 720.29, 920.63,...</td>\n",
       "      <td>[305775, 301614, 301615, 305511, 305512, 30551...</td>\n",
       "      <td>[0 days 02:21:15, 0 days 02:21:46, 0 days 02:2...</td>\n",
       "      <td>[45.03, 148.15, 309.34, 514.14, 844.95, 893.92...</td>\n",
       "    </tr>\n",
       "    <tr>\n",
       "      <th>UP_D5-Weekday-SDon-014000_B1_1</th>\n",
       "      <th>2015-12-03</th>\n",
       "      <th>4877</th>\n",
       "      <td>B1O0243</td>\n",
       "      <td>[0.44, 289.31, 427.52, 560.27, 845.9, 1002.3, ...</td>\n",
       "      <td>[300000, 300002, 300003, 300004, 300006, 30000...</td>\n",
       "      <td>[0 days 02:21:05, 0 days 02:22:07, 0 days 02:2...</td>\n",
       "      <td>[167.68, 745.55, 1055.53, 1582.67, 1768.29, 18...</td>\n",
       "    </tr>\n",
       "    <tr>\n",
       "      <th>UP_D5-Weekday-SDon-017800_B1_1</th>\n",
       "      <th>2015-12-03</th>\n",
       "      <th>4877</th>\n",
       "      <td>B1O0251</td>\n",
       "      <td>[0.27, 187.16, 361.71, 567.94, 720.29, 920.63,...</td>\n",
       "      <td>[305775, 301614, 301615, 305511, 305512, 30551...</td>\n",
       "      <td>[0 days 02:55:19, 0 days 02:55:50, 0 days 02:5...</td>\n",
       "      <td>[21.08, 21.08, 21.08, 21.08, 21.08, 21.08, 130...</td>\n",
       "    </tr>\n",
       "    <tr>\n",
       "      <th>UP_D5-Weekday-SDon-018000_B1_2</th>\n",
       "      <th>2015-12-03</th>\n",
       "      <th>4893</th>\n",
       "      <td>B1O0243</td>\n",
       "      <td>[0.44, 289.31, 427.52, 560.27, 845.9, 1002.3, ...</td>\n",
       "      <td>[300000, 300002, 300003, 300004, 300006, 30000...</td>\n",
       "      <td>[0 days 03:02:57, 0 days 03:04:00, 0 days 03:0...</td>\n",
       "      <td>[91.67, 760.98, 1078.34, 1621.26, 1760.55, 185...</td>\n",
       "    </tr>\n",
       "    <tr>\n",
       "      <th rowspan=\"2\" valign=\"top\">UP_D5-Weekday-SDon-021800_B1_2</th>\n",
       "      <th rowspan=\"2\" valign=\"top\">2015-12-03</th>\n",
       "      <th>4893</th>\n",
       "      <td>B1O0251</td>\n",
       "      <td>[0.27, 187.16, 361.71, 567.94, 720.29, 920.63,...</td>\n",
       "      <td>[305775, 301614, 301615, 305511, 305512, 30551...</td>\n",
       "      <td>[0 days 03:37:47, 0 days 03:38:18, 0 days 03:3...</td>\n",
       "      <td>[43.87, 43.87, 145.06, 200.25, 496.21, 598.41,...</td>\n",
       "    </tr>\n",
       "    <tr>\n",
       "      <th>7179</th>\n",
       "      <td>B1O0251</td>\n",
       "      <td>[0.27, 187.16, 361.71, 567.94, 720.29, 920.63,...</td>\n",
       "      <td>[305775, 301614, 301615, 305511, 305512, 30551...</td>\n",
       "      <td>[0 days 04:35:05]</td>\n",
       "      <td>[9155.52]</td>\n",
       "    </tr>\n",
       "    <tr>\n",
       "      <th>UP_D5-Weekday-SDon-022000_B1_1</th>\n",
       "      <th>2015-12-03</th>\n",
       "      <th>4877</th>\n",
       "      <td>B1O0243</td>\n",
       "      <td>[0.44, 289.31, 427.52, 560.27, 845.9, 1002.3, ...</td>\n",
       "      <td>[300000, 300002, 300003, 300004, 300006, 30000...</td>\n",
       "      <td>[0 days 03:36:11, 0 days 03:36:43, 0 days 03:3...</td>\n",
       "      <td>[99.27, 99.27, 99.27, 0.44, 320.02, 505.61, 11...</td>\n",
       "    </tr>\n",
       "    <tr>\n",
       "      <th>UP_D5-Weekday-SDon-025500_B1_3</th>\n",
       "      <th>2015-12-03</th>\n",
       "      <th>4990</th>\n",
       "      <td>B1O0243</td>\n",
       "      <td>[0.44, 289.31, 427.52, 560.27, 845.9, 1002.3, ...</td>\n",
       "      <td>[300000, 300002, 300003, 300004, 300006, 30000...</td>\n",
       "      <td>[0 days 04:19:12, 0 days 04:20:15, 0 days 04:2...</td>\n",
       "      <td>[1551.79, 1768.29, 1838.0, 2104.19, 2470.29, 2...</td>\n",
       "    </tr>\n",
       "    <tr>\n",
       "      <th rowspan=\"3\" valign=\"top\">UP_D5-Weekday-SDon-025800_B1_1</th>\n",
       "      <th rowspan=\"3\" valign=\"top\">2015-12-03</th>\n",
       "      <th>4877</th>\n",
       "      <td>B1O0251</td>\n",
       "      <td>[0.27, 187.16, 361.71, 567.94, 720.29, 920.63,...</td>\n",
       "      <td>[305775, 301614, 301615, 305511, 305512, 30551...</td>\n",
       "      <td>[0 days 04:18:35, 0 days 04:19:06, 0 days 04:2...</td>\n",
       "      <td>[147.38, 357.35, 602.76, 782.62, 1417.18, 1880...</td>\n",
       "    </tr>\n",
       "    <tr>\n",
       "      <th>7179</th>\n",
       "      <td>B1O0251</td>\n",
       "      <td>[0.27, 187.16, 361.71, 567.94, 720.29, 920.63,...</td>\n",
       "      <td>[305775, 301614, 301615, 305511, 305512, 30551...</td>\n",
       "      <td>[0 days 04:35:37, 0 days 04:36:40, 0 days 04:3...</td>\n",
       "      <td>[9271.28, 9676.97, 10005.07, 10636.07, 10842.2...</td>\n",
       "    </tr>\n",
       "    <tr>\n",
       "      <th>7191</th>\n",
       "      <td>B1O0251</td>\n",
       "      <td>[0.27, 187.16, 361.71, 567.94, 720.29, 920.63,...</td>\n",
       "      <td>[305775, 301614, 301615, 305511, 305512, 30551...</td>\n",
       "      <td>[0 days 05:04:09]</td>\n",
       "      <td>[10643.45]</td>\n",
       "    </tr>\n",
       "    <tr>\n",
       "      <th>UP_D5-Weekday-SDon-028000_B1_4</th>\n",
       "      <th>2015-12-03</th>\n",
       "      <th>7179</th>\n",
       "      <td>B1O0243</td>\n",
       "      <td>[0.44, 289.31, 427.52, 560.27, 845.9, 1002.3, ...</td>\n",
       "      <td>[300000, 300002, 300003, 300004, 300006, 30000...</td>\n",
       "      <td>[0 days 04:42:29, 0 days 04:43:32, 0 days 04:4...</td>\n",
       "      <td>[1002.3, 1391.47, 1536.36, 1864.0, 2146.89, 26...</td>\n",
       "    </tr>\n",
       "    <tr>\n",
       "      <th rowspan=\"2\" valign=\"top\">UP_D5-Weekday-SDon-029400_B1_3</th>\n",
       "      <th rowspan=\"2\" valign=\"top\">2015-12-03</th>\n",
       "      <th>4990</th>\n",
       "      <td>B1O0251</td>\n",
       "      <td>[0.27, 187.16, 361.71, 567.94, 720.29, 920.63,...</td>\n",
       "      <td>[305775, 301614, 301615, 305511, 305512, 30551...</td>\n",
       "      <td>[0 days 04:45:10, 0 days 04:45:42, 0 days 04:4...</td>\n",
       "      <td>[54.48, 61.41, 61.41, 61.41, 61.41, 61.41, 61....</td>\n",
       "    </tr>\n",
       "    <tr>\n",
       "      <th>7174</th>\n",
       "      <td>B1O0251</td>\n",
       "      <td>[0.27, 187.16, 361.71, 567.94, 720.29, 920.63,...</td>\n",
       "      <td>[305775, 301614, 301615, 305511, 305512, 30551...</td>\n",
       "      <td>[0 days 05:21:43, 0 days 05:22:46, 0 days 05:2...</td>\n",
       "      <td>[10234.34, 10870.75, 10870.75]</td>\n",
       "    </tr>\n",
       "    <tr>\n",
       "      <th>UP_D5-Weekday-SDon-030500_B1_5</th>\n",
       "      <th>2015-12-03</th>\n",
       "      <th>7191</th>\n",
       "      <td>B1O0243</td>\n",
       "      <td>[0.44, 289.31, 427.52, 560.27, 845.9, 1002.3, ...</td>\n",
       "      <td>[300000, 300002, 300003, 300004, 300006, 30000...</td>\n",
       "      <td>[0 days 05:05:11, 0 days 05:05:43, 0 days 05:0...</td>\n",
       "      <td>[343.05, 791.86, 1254.16, 1768.29, 1768.29, 20...</td>\n",
       "    </tr>\n",
       "    <tr>\n",
       "      <th>UP_D5-Weekday-SDon-032400_B1_6</th>\n",
       "      <th>2015-12-03</th>\n",
       "      <th>5088</th>\n",
       "      <td>B1O0251</td>\n",
       "      <td>[0.27, 187.16, 361.71, 567.94, 720.29, 920.63,...</td>\n",
       "      <td>[305775, 301614, 301615, 305511, 305512, 30551...</td>\n",
       "      <td>[0 days 05:22:04, 0 days 05:22:36, 0 days 05:2...</td>\n",
       "      <td>[47.45, 47.14, 155.61, 563.46, 594.05, 1179.96...</td>\n",
       "    </tr>\n",
       "    <tr>\n",
       "      <th>UP_D5-Weekday-SDon-033000_B1_7</th>\n",
       "      <th>2015-12-03</th>\n",
       "      <th>7174</th>\n",
       "      <td>B1O0243</td>\n",
       "      <td>[0.44, 289.31, 427.52, 560.27, 845.9, 1002.3, ...</td>\n",
       "      <td>[300000, 300002, 300003, 300004, 300006, 30000...</td>\n",
       "      <td>[0 days 05:25:25, 0 days 05:26:28, 0 days 05:2...</td>\n",
       "      <td>[92.64, 92.64, 92.64, 92.64, 270.87, 700.05, 1...</td>\n",
       "    </tr>\n",
       "  </tbody>\n",
       "</table>\n",
       "</div>"
      ],
      "text/plain": [
       "                                                                SHAPE_ID  \\\n",
       "ROUTE_ID TRIP_ID                          trip_date  vehicle_id            \n",
       "B1       FB_D5-Weekday-SDon-047200_B49_15 2015-12-03 5125        B1O0254   \n",
       "         FB_D5-Weekday-SDon-051000_B49_15 2015-12-03 4855        B1O0256   \n",
       "                                                     5125        B1O0256   \n",
       "                                                     7146        B1O0256   \n",
       "         FB_D5-Weekday-SDon-051200_B49_21 2015-12-03 7146        B1O0256   \n",
       "         UP_D5-Weekday-SDon-006000_B1_1   2015-12-03 4877        B1O0243   \n",
       "         UP_D5-Weekday-SDon-009800_B1_1   2015-12-03 4877        B1O0251   \n",
       "         UP_D5-Weekday-SDon-010000_B1_2   2015-12-03 4893        B1O0243   \n",
       "         UP_D5-Weekday-SDon-013800_B1_2   2015-12-03 4893        B1O0251   \n",
       "         UP_D5-Weekday-SDon-014000_B1_1   2015-12-03 4877        B1O0243   \n",
       "         UP_D5-Weekday-SDon-017800_B1_1   2015-12-03 4877        B1O0251   \n",
       "         UP_D5-Weekday-SDon-018000_B1_2   2015-12-03 4893        B1O0243   \n",
       "         UP_D5-Weekday-SDon-021800_B1_2   2015-12-03 4893        B1O0251   \n",
       "                                                     7179        B1O0251   \n",
       "         UP_D5-Weekday-SDon-022000_B1_1   2015-12-03 4877        B1O0243   \n",
       "         UP_D5-Weekday-SDon-025500_B1_3   2015-12-03 4990        B1O0243   \n",
       "         UP_D5-Weekday-SDon-025800_B1_1   2015-12-03 4877        B1O0251   \n",
       "                                                     7179        B1O0251   \n",
       "                                                     7191        B1O0251   \n",
       "         UP_D5-Weekday-SDon-028000_B1_4   2015-12-03 7179        B1O0243   \n",
       "         UP_D5-Weekday-SDon-029400_B1_3   2015-12-03 4990        B1O0251   \n",
       "                                                     7174        B1O0251   \n",
       "         UP_D5-Weekday-SDon-030500_B1_5   2015-12-03 7191        B1O0243   \n",
       "         UP_D5-Weekday-SDon-032400_B1_6   2015-12-03 5088        B1O0251   \n",
       "         UP_D5-Weekday-SDon-033000_B1_7   2015-12-03 7174        B1O0243   \n",
       "\n",
       "                                                                                                   shape_stop_dist  \\\n",
       "ROUTE_ID TRIP_ID                          trip_date  vehicle_id                                                      \n",
       "B1       FB_D5-Weekday-SDon-047200_B49_15 2015-12-03 5125        [146.45, 343.65, 508.5, 682.49, 896.49, 1004.1...   \n",
       "         FB_D5-Weekday-SDon-051000_B49_15 2015-12-03 4855        [530.31, 895.26, 1248.41, 1644.35, 2689.21, 31...   \n",
       "                                                     5125        [530.31, 895.26, 1248.41, 1644.35, 2689.21, 31...   \n",
       "                                                     7146        [530.31, 895.26, 1248.41, 1644.35, 2689.21, 31...   \n",
       "         FB_D5-Weekday-SDon-051200_B49_21 2015-12-03 7146        [530.31, 895.26, 1248.41, 1644.35, 2689.21, 31...   \n",
       "         UP_D5-Weekday-SDon-006000_B1_1   2015-12-03 4877        [0.44, 289.31, 427.52, 560.27, 845.9, 1002.3, ...   \n",
       "         UP_D5-Weekday-SDon-009800_B1_1   2015-12-03 4877        [0.27, 187.16, 361.71, 567.94, 720.29, 920.63,...   \n",
       "         UP_D5-Weekday-SDon-010000_B1_2   2015-12-03 4893        [0.44, 289.31, 427.52, 560.27, 845.9, 1002.3, ...   \n",
       "         UP_D5-Weekday-SDon-013800_B1_2   2015-12-03 4893        [0.27, 187.16, 361.71, 567.94, 720.29, 920.63,...   \n",
       "         UP_D5-Weekday-SDon-014000_B1_1   2015-12-03 4877        [0.44, 289.31, 427.52, 560.27, 845.9, 1002.3, ...   \n",
       "         UP_D5-Weekday-SDon-017800_B1_1   2015-12-03 4877        [0.27, 187.16, 361.71, 567.94, 720.29, 920.63,...   \n",
       "         UP_D5-Weekday-SDon-018000_B1_2   2015-12-03 4893        [0.44, 289.31, 427.52, 560.27, 845.9, 1002.3, ...   \n",
       "         UP_D5-Weekday-SDon-021800_B1_2   2015-12-03 4893        [0.27, 187.16, 361.71, 567.94, 720.29, 920.63,...   \n",
       "                                                     7179        [0.27, 187.16, 361.71, 567.94, 720.29, 920.63,...   \n",
       "         UP_D5-Weekday-SDon-022000_B1_1   2015-12-03 4877        [0.44, 289.31, 427.52, 560.27, 845.9, 1002.3, ...   \n",
       "         UP_D5-Weekday-SDon-025500_B1_3   2015-12-03 4990        [0.44, 289.31, 427.52, 560.27, 845.9, 1002.3, ...   \n",
       "         UP_D5-Weekday-SDon-025800_B1_1   2015-12-03 4877        [0.27, 187.16, 361.71, 567.94, 720.29, 920.63,...   \n",
       "                                                     7179        [0.27, 187.16, 361.71, 567.94, 720.29, 920.63,...   \n",
       "                                                     7191        [0.27, 187.16, 361.71, 567.94, 720.29, 920.63,...   \n",
       "         UP_D5-Weekday-SDon-028000_B1_4   2015-12-03 7179        [0.44, 289.31, 427.52, 560.27, 845.9, 1002.3, ...   \n",
       "         UP_D5-Weekday-SDon-029400_B1_3   2015-12-03 4990        [0.27, 187.16, 361.71, 567.94, 720.29, 920.63,...   \n",
       "                                                     7174        [0.27, 187.16, 361.71, 567.94, 720.29, 920.63,...   \n",
       "         UP_D5-Weekday-SDon-030500_B1_5   2015-12-03 7191        [0.44, 289.31, 427.52, 560.27, 845.9, 1002.3, ...   \n",
       "         UP_D5-Weekday-SDon-032400_B1_6   2015-12-03 5088        [0.27, 187.16, 361.71, 567.94, 720.29, 920.63,...   \n",
       "         UP_D5-Weekday-SDon-033000_B1_7   2015-12-03 7174        [0.44, 289.31, 427.52, 560.27, 845.9, 1002.3, ...   \n",
       "\n",
       "                                                                                                     shape_stop_id  \\\n",
       "ROUTE_ID TRIP_ID                          trip_date  vehicle_id                                                      \n",
       "B1       FB_D5-Weekday-SDon-047200_B49_15 2015-12-03 5125        [300123, 300124, 308045, 300126, 300127, 30012...   \n",
       "         FB_D5-Weekday-SDon-051000_B49_15 2015-12-03 4855        [300109, 300111, 307132, 300114, 300117, 30011...   \n",
       "                                                     5125        [300109, 300111, 307132, 300114, 300117, 30011...   \n",
       "                                                     7146        [300109, 300111, 307132, 300114, 300117, 30011...   \n",
       "         FB_D5-Weekday-SDon-051200_B49_21 2015-12-03 7146        [300109, 300111, 307132, 300114, 300117, 30011...   \n",
       "         UP_D5-Weekday-SDon-006000_B1_1   2015-12-03 4877        [300000, 300002, 300003, 300004, 300006, 30000...   \n",
       "         UP_D5-Weekday-SDon-009800_B1_1   2015-12-03 4877        [305775, 301614, 301615, 305511, 305512, 30551...   \n",
       "         UP_D5-Weekday-SDon-010000_B1_2   2015-12-03 4893        [300000, 300002, 300003, 300004, 300006, 30000...   \n",
       "         UP_D5-Weekday-SDon-013800_B1_2   2015-12-03 4893        [305775, 301614, 301615, 305511, 305512, 30551...   \n",
       "         UP_D5-Weekday-SDon-014000_B1_1   2015-12-03 4877        [300000, 300002, 300003, 300004, 300006, 30000...   \n",
       "         UP_D5-Weekday-SDon-017800_B1_1   2015-12-03 4877        [305775, 301614, 301615, 305511, 305512, 30551...   \n",
       "         UP_D5-Weekday-SDon-018000_B1_2   2015-12-03 4893        [300000, 300002, 300003, 300004, 300006, 30000...   \n",
       "         UP_D5-Weekday-SDon-021800_B1_2   2015-12-03 4893        [305775, 301614, 301615, 305511, 305512, 30551...   \n",
       "                                                     7179        [305775, 301614, 301615, 305511, 305512, 30551...   \n",
       "         UP_D5-Weekday-SDon-022000_B1_1   2015-12-03 4877        [300000, 300002, 300003, 300004, 300006, 30000...   \n",
       "         UP_D5-Weekday-SDon-025500_B1_3   2015-12-03 4990        [300000, 300002, 300003, 300004, 300006, 30000...   \n",
       "         UP_D5-Weekday-SDon-025800_B1_1   2015-12-03 4877        [305775, 301614, 301615, 305511, 305512, 30551...   \n",
       "                                                     7179        [305775, 301614, 301615, 305511, 305512, 30551...   \n",
       "                                                     7191        [305775, 301614, 301615, 305511, 305512, 30551...   \n",
       "         UP_D5-Weekday-SDon-028000_B1_4   2015-12-03 7179        [300000, 300002, 300003, 300004, 300006, 30000...   \n",
       "         UP_D5-Weekday-SDon-029400_B1_3   2015-12-03 4990        [305775, 301614, 301615, 305511, 305512, 30551...   \n",
       "                                                     7174        [305775, 301614, 301615, 305511, 305512, 30551...   \n",
       "         UP_D5-Weekday-SDon-030500_B1_5   2015-12-03 7191        [300000, 300002, 300003, 300004, 300006, 30000...   \n",
       "         UP_D5-Weekday-SDon-032400_B1_6   2015-12-03 5088        [305775, 301614, 301615, 305511, 305512, 30551...   \n",
       "         UP_D5-Weekday-SDon-033000_B1_7   2015-12-03 7174        [300000, 300002, 300003, 300004, 300006, 30000...   \n",
       "\n",
       "                                                                                                     recorded_time  \\\n",
       "ROUTE_ID TRIP_ID                          trip_date  vehicle_id                                                      \n",
       "B1       FB_D5-Weekday-SDon-047200_B49_15 2015-12-03 5125        [0 days 07:59:24, 0 days 08:02:35, 0 days 08:0...   \n",
       "         FB_D5-Weekday-SDon-051000_B49_15 2015-12-03 4855                                        [0 days 08:52:39]   \n",
       "                                                     5125        [0 days 08:37:55, 0 days 08:40:01, 0 days 08:4...   \n",
       "                                                     7146                       [0 days 08:33:58, 0 days 08:38:12]   \n",
       "         FB_D5-Weekday-SDon-051200_B49_21 2015-12-03 7146        [0 days 08:51:25, 0 days 08:52:28, 0 days 08:5...   \n",
       "         UP_D5-Weekday-SDon-006000_B1_1   2015-12-03 4877        [0 days 00:57:25, 0 days 00:58:28, 0 days 00:5...   \n",
       "         UP_D5-Weekday-SDon-009800_B1_1   2015-12-03 4877        [0 days 01:33:33, 0 days 01:34:35, 0 days 01:3...   \n",
       "         UP_D5-Weekday-SDon-010000_B1_2   2015-12-03 4893        [0 days 01:35:01, 0 days 01:36:05, 0 days 01:3...   \n",
       "         UP_D5-Weekday-SDon-013800_B1_2   2015-12-03 4893        [0 days 02:21:15, 0 days 02:21:46, 0 days 02:2...   \n",
       "         UP_D5-Weekday-SDon-014000_B1_1   2015-12-03 4877        [0 days 02:21:05, 0 days 02:22:07, 0 days 02:2...   \n",
       "         UP_D5-Weekday-SDon-017800_B1_1   2015-12-03 4877        [0 days 02:55:19, 0 days 02:55:50, 0 days 02:5...   \n",
       "         UP_D5-Weekday-SDon-018000_B1_2   2015-12-03 4893        [0 days 03:02:57, 0 days 03:04:00, 0 days 03:0...   \n",
       "         UP_D5-Weekday-SDon-021800_B1_2   2015-12-03 4893        [0 days 03:37:47, 0 days 03:38:18, 0 days 03:3...   \n",
       "                                                     7179                                        [0 days 04:35:05]   \n",
       "         UP_D5-Weekday-SDon-022000_B1_1   2015-12-03 4877        [0 days 03:36:11, 0 days 03:36:43, 0 days 03:3...   \n",
       "         UP_D5-Weekday-SDon-025500_B1_3   2015-12-03 4990        [0 days 04:19:12, 0 days 04:20:15, 0 days 04:2...   \n",
       "         UP_D5-Weekday-SDon-025800_B1_1   2015-12-03 4877        [0 days 04:18:35, 0 days 04:19:06, 0 days 04:2...   \n",
       "                                                     7179        [0 days 04:35:37, 0 days 04:36:40, 0 days 04:3...   \n",
       "                                                     7191                                        [0 days 05:04:09]   \n",
       "         UP_D5-Weekday-SDon-028000_B1_4   2015-12-03 7179        [0 days 04:42:29, 0 days 04:43:32, 0 days 04:4...   \n",
       "         UP_D5-Weekday-SDon-029400_B1_3   2015-12-03 4990        [0 days 04:45:10, 0 days 04:45:42, 0 days 04:4...   \n",
       "                                                     7174        [0 days 05:21:43, 0 days 05:22:46, 0 days 05:2...   \n",
       "         UP_D5-Weekday-SDon-030500_B1_5   2015-12-03 7191        [0 days 05:05:11, 0 days 05:05:43, 0 days 05:0...   \n",
       "         UP_D5-Weekday-SDon-032400_B1_6   2015-12-03 5088        [0 days 05:22:04, 0 days 05:22:36, 0 days 05:2...   \n",
       "         UP_D5-Weekday-SDon-033000_B1_7   2015-12-03 7174        [0 days 05:25:25, 0 days 05:26:28, 0 days 05:2...   \n",
       "\n",
       "                                                                                              veh_dist_along_shape  \n",
       "ROUTE_ID TRIP_ID                          trip_date  vehicle_id                                                     \n",
       "B1       FB_D5-Weekday-SDon-047200_B49_15 2015-12-03 5125                         [331.85, 463.38, 559.01, 1546.4]  \n",
       "         FB_D5-Weekday-SDon-051000_B49_15 2015-12-03 4855                                                [3707.69]  \n",
       "                                                     5125        [449.39, 1126.74, 1221.7, 1514.36, 2447.31, 26...  \n",
       "                                                     7146                                         [796.14, 1230.6]  \n",
       "         FB_D5-Weekday-SDon-051200_B49_21 2015-12-03 7146             [3620.86, 3623.96, 3914.0, 4238.83, 4322.27]  \n",
       "         UP_D5-Weekday-SDon-006000_B1_1   2015-12-03 4877        [91.67, 91.67, 91.67, 560.27, 883.14, 1353.46,...  \n",
       "         UP_D5-Weekday-SDon-009800_B1_1   2015-12-03 4877        [2.15, 2.15, 2.15, 2.15, 21.47, 85.58, 140.81,...  \n",
       "         UP_D5-Weekday-SDon-010000_B1_2   2015-12-03 4893        [3007.67, 3034.77, 3034.77, 3034.77, 3034.77, ...  \n",
       "         UP_D5-Weekday-SDon-013800_B1_2   2015-12-03 4893        [45.03, 148.15, 309.34, 514.14, 844.95, 893.92...  \n",
       "         UP_D5-Weekday-SDon-014000_B1_1   2015-12-03 4877        [167.68, 745.55, 1055.53, 1582.67, 1768.29, 18...  \n",
       "         UP_D5-Weekday-SDon-017800_B1_1   2015-12-03 4877        [21.08, 21.08, 21.08, 21.08, 21.08, 21.08, 130...  \n",
       "         UP_D5-Weekday-SDon-018000_B1_2   2015-12-03 4893        [91.67, 760.98, 1078.34, 1621.26, 1760.55, 185...  \n",
       "         UP_D5-Weekday-SDon-021800_B1_2   2015-12-03 4893        [43.87, 43.87, 145.06, 200.25, 496.21, 598.41,...  \n",
       "                                                     7179                                                [9155.52]  \n",
       "         UP_D5-Weekday-SDon-022000_B1_1   2015-12-03 4877        [99.27, 99.27, 99.27, 0.44, 320.02, 505.61, 11...  \n",
       "         UP_D5-Weekday-SDon-025500_B1_3   2015-12-03 4990        [1551.79, 1768.29, 1838.0, 2104.19, 2470.29, 2...  \n",
       "         UP_D5-Weekday-SDon-025800_B1_1   2015-12-03 4877        [147.38, 357.35, 602.76, 782.62, 1417.18, 1880...  \n",
       "                                                     7179        [9271.28, 9676.97, 10005.07, 10636.07, 10842.2...  \n",
       "                                                     7191                                               [10643.45]  \n",
       "         UP_D5-Weekday-SDon-028000_B1_4   2015-12-03 7179        [1002.3, 1391.47, 1536.36, 1864.0, 2146.89, 26...  \n",
       "         UP_D5-Weekday-SDon-029400_B1_3   2015-12-03 4990        [54.48, 61.41, 61.41, 61.41, 61.41, 61.41, 61....  \n",
       "                                                     7174                           [10234.34, 10870.75, 10870.75]  \n",
       "         UP_D5-Weekday-SDon-030500_B1_5   2015-12-03 7191        [343.05, 791.86, 1254.16, 1768.29, 1768.29, 20...  \n",
       "         UP_D5-Weekday-SDon-032400_B1_6   2015-12-03 5088        [47.45, 47.14, 155.61, 563.46, 594.05, 1179.96...  \n",
       "         UP_D5-Weekday-SDon-033000_B1_7   2015-12-03 7174        [92.64, 92.64, 92.64, 92.64, 270.87, 700.05, 1...  "
      ]
     },
     "execution_count": 12,
     "metadata": {},
     "output_type": "execute_result"
    }
   ],
   "source": [
    "avl_merged = pd.concat([all_stop_dists,reported_timestamps,reported_dists],axis=1)\n",
    "avl_merged.head(25)"
   ]
  },
  {
   "cell_type": "markdown",
   "metadata": {},
   "source": [
    "### Interpolate stops and store in dict"
   ]
  },
  {
   "cell_type": "code",
   "execution_count": 13,
   "metadata": {
    "collapsed": false
   },
   "outputs": [],
   "source": [
    "results = {}\n",
    "for i, v in avl_merged.iterrows():\n",
    "    results[i] = arrivals.interpolate_all_stops(v)"
   ]
  },
  {
   "cell_type": "markdown",
   "metadata": {},
   "source": [
    "### Expand results into a dataframe (to use for things like headway measurement)"
   ]
  },
  {
   "cell_type": "code",
   "execution_count": 14,
   "metadata": {
    "collapsed": false
   },
   "outputs": [],
   "source": [
    "import csv\n",
    "with open(output_filepath,'w') as out:\n",
    "    csv_out=csv.writer(out)\n",
    "    csv_out.writerow(['ROUTE_ID','TRIP_ID','trip_date','vehicle_id','STOP_ID','interpolated_arrival_time'])\n",
    "    for k, v in results.iteritems():\n",
    "        for i in range(len(v[0])):\n",
    "            row = k + (v[0][i],v[1][i])\n",
    "            csv_out.writerow(row)"
   ]
  },
  {
   "cell_type": "markdown",
   "metadata": {},
   "source": [
    "## Investigate results and check method for data groups with more than one ping"
   ]
  },
  {
   "cell_type": "code",
   "execution_count": 15,
   "metadata": {
    "collapsed": false
   },
   "outputs": [
    {
     "name": "stdout",
     "output_type": "stream",
     "text": [
      "Some basic stats: \n",
      "Total number of estimated arrival times\n",
      "1823562\n",
      "Number of trips identified overall\n",
      "66682\n",
      "Number of trips with estimates\n",
      "56938\n",
      "Number of trips without valid interpolation\n",
      "9744\n",
      "Average number of estimates per trip\n",
      "32.0271523411\n"
     ]
    }
   ],
   "source": [
    "lens = []\n",
    "trip_count = 0\n",
    "for k, v in results.iteritems():\n",
    "    l = len(v[0])\n",
    "    if l > 0:\n",
    "        trip_count += 1\n",
    "    lens.append(l)\n",
    "def empty_inds(lst):\n",
    "    k = results.keys()\n",
    "    return [k[i] for i, x in enumerate(lst) if x==0]\n",
    "empty_keys = empty_inds(lens)\n",
    "print 'Some basic stats: '\n",
    "print 'Total number of estimated arrival times'\n",
    "print sum(lens)\n",
    "print 'Number of trips identified overall'\n",
    "print len(lens)\n",
    "print 'Number of trips with estimates'\n",
    "print trip_count\n",
    "print 'Number of trips without valid interpolation'\n",
    "print len(empty_keys)\n",
    "print 'Average number of estimates per trip'\n",
    "print 1.0*sum(lens)/trip_count"
   ]
  },
  {
   "cell_type": "code",
   "execution_count": 16,
   "metadata": {
    "collapsed": false
   },
   "outputs": [],
   "source": [
    "ek_index = pd.MultiIndex.from_tuples(empty_keys)\n",
    "ek_info = pd.DataFrame(data=gb.size(),index=ek_index,columns=['N'])\n",
    "ek_info['min_ts'] = gb['recorded_time'].min()\n",
    "ek_info['max_ts'] = gb['recorded_time'].max()\n",
    "ek_info['min_dist'] = gb['veh_dist_along_shape'].min()\n",
    "ek_info['max_dist'] = gb['veh_dist_along_shape'].max()\n",
    "ek_info['ts_delta'] = ek_info['max_ts'] - ek_info['min_ts']\n",
    "ek_info['dist_delta'] = ek_info['max_dist'] - ek_info['min_dist']"
   ]
  },
  {
   "cell_type": "code",
   "execution_count": 17,
   "metadata": {
    "collapsed": false
   },
   "outputs": [
    {
     "data": {
      "text/plain": [
       "N\n",
       "1     0.649528\n",
       "2     0.141318\n",
       "3     0.066400\n",
       "4     0.038998\n",
       "5     0.024425\n",
       "6     0.019499\n",
       "7     0.011802\n",
       "8     0.007492\n",
       "9     0.006363\n",
       "10    0.006158\n",
       "dtype: float64"
      ]
     },
     "execution_count": 17,
     "metadata": {},
     "output_type": "execute_result"
    }
   ],
   "source": [
    "# For the trip data groups that were unable to generate interpolations, how many pings did they have (N)?\n",
    "ek_info.groupby('N').size()[:10]/len(ek_info)"
   ]
  },
  {
   "cell_type": "code",
   "execution_count": 18,
   "metadata": {
    "collapsed": false
   },
   "outputs": [
    {
     "data": {
      "text/plain": [
       "<matplotlib.axes._subplots.AxesSubplot at 0x7fb7ca574ed0>"
      ]
     },
     "execution_count": 18,
     "metadata": {},
     "output_type": "execute_result"
    },
    {
     "data": {
      "image/png": "[encoded data removed]",
      "text/plain": [
       "<matplotlib.figure.Figure at 0x7fb841f38a90>"
      ]
     },
     "metadata": {},
     "output_type": "display_data"
    }
   ],
   "source": [
    "# how many stops were estimated for each trip data group?\n",
    "pd.Series(lens).hist(range=(0,80),bins=40)"
   ]
  },
  {
   "cell_type": "code",
   "execution_count": 19,
   "metadata": {
    "collapsed": false
   },
   "outputs": [
    {
     "data": {
      "text/plain": [
       "<matplotlib.axes._subplots.AxesSubplot at 0x7fb7c9d79290>"
      ]
     },
     "execution_count": 19,
     "metadata": {},
     "output_type": "execute_result"
    },
    {
     "data": {
      "image/png": "[encoded data removed]",
      "text/plain": [
       "<matplotlib.figure.Figure at 0x7fb8d6436c50>"
      ]
     },
     "metadata": {},
     "output_type": "display_data"
    }
   ],
   "source": [
    "# how many pings were available for each trip data group?\n",
    "gb.size().hist(range=(0,90),bins=30)"
   ]
  },
  {
   "cell_type": "code",
   "execution_count": null,
   "metadata": {
    "collapsed": true
   },
   "outputs": [],
   "source": []
  }
 ],
 "metadata": {
  "kernelspec": {
   "display_name": "Python 2",
   "language": "python",
   "name": "python2"
  },
  "language_info": {
   "codemirror_mode": {
    "name": "ipython",
    "version": 2
   },
   "file_extension": ".py",
   "mimetype": "text/x-python",
   "name": "python",
   "nbconvert_exporter": "python",
   "pygments_lexer": "ipython2",
   "version": "2.7.11"
  }
 },
 "nbformat": 4,
 "nbformat_minor": 0
}
