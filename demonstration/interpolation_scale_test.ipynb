{
 "cells": [
  {
   "cell_type": "code",
   "execution_count": 2,
   "metadata": {
    "collapsed": false
   },
   "outputs": [],
   "source": [
    "# -*- coding: utf-8 -*-\n",
    "\"\"\"\n",
    "The script demonstrates the performance of an interpolation algorithm when applied to a large dataset.\n",
    "\"\"\"\n",
    "\n",
    "import os\n",
    "import pandas as pd\n",
    "import matplotlib.pyplot as plt\n",
    "from scipy import interpolate\n",
    "from itertools import compress\n",
    "import time\n",
    "%matplotlib inline  \n",
    "import sys\n",
    "sys.path.append('/gpfs2/projects/project-bus_capstone_2016/workspace/mu529/Bus-Capstone')\n",
    "\n",
    "# these two modules are homemade\n",
    "import gtfs\n",
    "import arrivals\n",
    "import time\n",
    "import ttools\n",
    "import seqtools\n",
    "os.chdir('/gpfs2/projects/project-bus_capstone_2016/workspace/share')"
   ]
  },
  {
   "cell_type": "markdown",
   "metadata": {},
   "source": [
    "### Previous versions of the interpolation function. (final version is below)"
   ]
  },
  {
   "cell_type": "code",
   "execution_count": 3,
   "metadata": {
    "collapsed": false
   },
   "outputs": [],
   "source": [
    "# for iteration over dataframe rows (each row is a collection of lists of necessary data)\n",
    "def interpolate_stops3(merged_row):\n",
    "    distance_stops = merged_row.shape_stop_dist\n",
    "    if len(merged_row.timestamp)<2:\n",
    "        return [[]]    \n",
    "    list1, list2 = zip(*sorted(zip(merged_row.timestamp,merged_row.veh_dist_along_trip)))\n",
    "    veh_pings = pd.Series(index=list1,data=list2)\n",
    "    last = veh_pings.idxmax()\n",
    "    first = veh_pings.sort_index(ascending=False).idxmin()\n",
    "    veh_pings = veh_pings.dropna()\n",
    "    if len(veh_pings) == 0:\n",
    "        return [[]]\n",
    "    inter_stops = veh_pings.loc[first:last]\n",
    "    if len(inter_stops)<2:\n",
    "        return [[]]\n",
    "    x = inter_stops.values\n",
    "    y = inter_stops.index.values\n",
    "    f = interpolate.interp1d(x,y)\n",
    "    xnew = distance_stops\n",
    "    masker = (xnew > min(x)) & (xnew < max(x))\n",
    "    xnew = list(compress(xnew,masker))\n",
    "    interp_times = pd.to_timedelta(f(xnew),unit='ns')    \n",
    "    return [list(compress(merged_row.shape_stop_id,masker)),interp_times]"
   ]
  },
  {
   "cell_type": "code",
   "execution_count": 4,
   "metadata": {
    "collapsed": true
   },
   "outputs": [],
   "source": [
    "# for iteration over dict-of-dicts (each dict is a collection of lists of necessary data)\n",
    "def interpolate_stops4(d):\n",
    "    distance_stops = d['shape_stop_dist']\n",
    "    if len(d['timestamp'])<2:\n",
    "        return [[]]    \n",
    "    list1, list2 = zip(*sorted(zip(d['timestamp'],d['veh_dist_along_trip'])))\n",
    "    veh_pings = pd.Series(index=list1,data=list2)\n",
    "    last = veh_pings.idxmax()\n",
    "    first = veh_pings.sort_index(ascending=False).idxmin()\n",
    "    veh_pings = veh_pings.dropna()\n",
    "    if len(veh_pings) == 0:\n",
    "        return [[]]\n",
    "    inter_stops = veh_pings.loc[first:last]\n",
    "    if len(inter_stops)<2:\n",
    "        return [[]]\n",
    "    x = inter_stops.values\n",
    "    y = inter_stops.index.values\n",
    "    f = interpolate.interp1d(x,y)\n",
    "    xnew = distance_stops\n",
    "    masker = (xnew > min(x)) & (xnew < max(x))\n",
    "    xnew = list(compress(xnew,masker))\n",
    "    interp_times = pd.to_timedelta(f(xnew),unit='ns')    \n",
    "    return [list(compress(d['shape_stop_id'],masker)),interp_times]"
   ]
  },
  {
   "cell_type": "markdown",
   "metadata": {},
   "source": [
    "### Current working version of interpolation function.\n",
    "Takes several lists as inputs, which can be stored together as a dataframe row (merged_row).\n",
    "\n",
    "merged_row.shape_stop_dist is a list of distances of *all* stops from the schedule on that shape.<p>\n",
    "mergedrow.shape_stop_id is a list of stop_id labels for those stops<p>"
   ]
  },
  {
   "cell_type": "code",
   "execution_count": 5,
   "metadata": {
    "collapsed": true
   },
   "outputs": [],
   "source": [
    "# for iteration over dataframe rows (each row is a collection of lists of necessary data)\n",
    "def interpolate_stops5(merged_row,tol=100):\n",
    "    distance_stops = merged_row.shape_stop_dist\n",
    "    # if the returned object is not a list, it does not contain any information, so there is nothing to interpolate.\n",
    "    if type(distance_stops) != list:\n",
    "        return [[]]\n",
    "    # if there are fewer than 2 pings, no interpolation is possible\n",
    "    if len(merged_row.timestamp)<2:\n",
    "        return [[]]    \n",
    "    # assemble the ping data as a pandas Series, for convenient use of dropna() method\n",
    "    list1, list2 = zip(*sorted(zip(merged_row.timestamp,merged_row.veh_dist_along_trip)))\n",
    "    veh_pings = pd.Series(index=list1,data=list2)\n",
    "    veh_pings = veh_pings.dropna()\n",
    "    # pings must be cleaned for cases when the vehicle \"moves backwards\" along the route.\n",
    "    # this may occur when the vehicle is actually finishing another trip, or returning to the first stop\n",
    "    # the proposed method is to identify the the largest monotonic increasing subsequence\n",
    "    first, last = seqtools.longest_inc_range(veh_pings.values,tolerance=tol)\n",
    "    if len(veh_pings) == 0:\n",
    "        return [[]]\n",
    "    valid_pings = veh_pings.iloc[first:last]\n",
    "    if len(valid_pings)<2:\n",
    "        return [[]]\n",
    "    # finally, perform the interpolation with the cleaned data\n",
    "    x = valid_pings.values\n",
    "    y = valid_pings.index.values\n",
    "    f = interpolate.interp1d(x,y)\n",
    "    xnew = distance_stops\n",
    "    masker = (xnew > min(x)) & (xnew < max(x))\n",
    "    xnew = list(compress(xnew,masker))\n",
    "    # return the estimated times (as timedelta dtype) and the stop labels\n",
    "    interp_times = pd.to_timedelta(f(xnew),unit='ns')\n",
    "    return [list(compress(merged_row.shape_stop_id,masker)),interp_times]"
   ]
  },
  {
   "cell_type": "markdown",
   "metadata": {},
   "source": [
    "## Now try it on a WHOLE DAY of data...\n",
    "#### Important: input dataset needs to be cleaned first by removing any that report a \"next stop\" that is not valid for the shape.  (See filter_invalid_stops.ipynb)"
   ]
  },
  {
   "cell_type": "code",
   "execution_count": 6,
   "metadata": {
    "collapsed": true
   },
   "outputs": [],
   "source": [
    "# get the sample of parsed AVL data.  Beware, large files take more time.\n",
    "bustime = pd.read_csv('spark_parse/1203_cleaned.csv')\n",
    "bustime.drop('Unnamed: 0',axis=1,inplace=True)"
   ]
  },
  {
   "cell_type": "markdown",
   "metadata": {},
   "source": [
    "#### Additional cleaning steps\n",
    "Remove prefixes from trip and shape labels.  (GTFS data does not use the prefix).  Distance values need to be numeric, not string."
   ]
  },
  {
   "cell_type": "code",
   "execution_count": 7,
   "metadata": {
    "collapsed": false
   },
   "outputs": [
    {
     "name": "stdout",
     "output_type": "stream",
     "text": [
      "Finished loading BusTime data, parsing timestamps, and slicing ONE DAY.\n"
     ]
    }
   ],
   "source": [
    "# beware!  Bonan is still working on organizing the extract files.  these columns may change.\n",
    "\n",
    "bustime.drop_duplicates(['vehicle_id','timestamp'],inplace=True)\n",
    "bustime['trip_id'] = bustime['trip_id'].str.replace('MTA NYCT_','')\n",
    "bustime['trip_id'] = bustime['trip_id'].str.replace('MTABC_','')\n",
    "bustime['shape_id'] = bustime['shape_id'].str.replace('MTA_','')\n",
    "\n",
    "bustime.set_index(['route','trip_id','trip_date','vehicle_id'],inplace=True,drop=True)\n",
    "bustime.set_index('timestamp',append=True,drop=False,inplace=True)\n",
    "\n",
    "# for demonstration, use a subset. Just get data one day.\n",
    "tripDateLookup = \"2015-12-03\"\n",
    "bustime = bustime.xs((tripDateLookup),level=(2),drop_level=False)\n",
    "# note that the AVL dataframe must be sorted by timestammp, since iloc[]\n",
    "# selection is used later in this script to find the earliest time\n",
    "bustime.sort_index(inplace=True)\n",
    "bustime['timestamp'] = bustime['timestamp'].apply(ttools.parseActualTime,tdate='2015-12-03')\n",
    "\n",
    "bustime['stop_dist_on_trip'] = bustime['stop_dist_on_trip'].convert_objects(convert_numeric=True)\n",
    "bustime['dist_from_stop'] = bustime['dist_from_stop'].convert_objects(convert_numeric=True)\n",
    "# add calculated column for distance along shape\n",
    "bustime['veh_dist_along_trip'] = bustime['stop_dist_on_trip'] - bustime['dist_from_stop']\n",
    "\n",
    "print 'Finished loading BusTime data, parsing timestamps, and slicing ONE DAY.'"
   ]
  },
  {
   "cell_type": "markdown",
   "metadata": {},
   "source": [
    "#### Create a separate dataframe containing the distances of ALL stops along each shape.\n",
    "Although GTFS is the official source for all stop information, Bus Time has the distances calculated already according to the shape.  The problem is the records from each trip may not contain information about all the stops (for example, when some are skipped).  Using a large enough sample should resolve that problem."
   ]
  },
  {
   "cell_type": "code",
   "execution_count": 8,
   "metadata": {
    "collapsed": false
   },
   "outputs": [
    {
     "name": "stdout",
     "output_type": "stream",
     "text": [
      "Finished creating stop-distances reference dataframe.\n"
     ]
    }
   ],
   "source": [
    "bustime_distances = bustime.drop(['timestamp'],axis=1,inplace=False)\n",
    "bustime_distances = bustime_distances.reset_index().drop(['route','trip_id','trip_date','vehicle_id','timestamp',\n",
    "                                                'lat','lon','dist_from_stop','presentable_dist',\n",
    "                                                'veh_dist_along_trip'],axis=1,inplace=False)\n",
    "\n",
    "stop_distances = bustime_distances.drop_duplicates(['shape_id','next_stop_id','stop_dist_on_trip'])\n",
    "stop_distances = stop_distances.query('stop_dist_on_trip > 0.1')\n",
    "\n",
    "# stop_distances.next_stop_id = stop_distances.next_stop_id.str.replace('MTA_','')\n",
    "\n",
    "stop_distances = stop_distances.sort(['shape_id','stop_dist_on_trip']).reset_index(drop=True)\n",
    "\n",
    "print 'Finished creating stop-distances reference dataframe.'"
   ]
  },
  {
   "cell_type": "markdown",
   "metadata": {},
   "source": [
    "## Organization of Bus Time data\n",
    "A trip is identified as the grouping of records for each route, trip date, trip_id **and** vehicle_id.  Both are required because sometimes trip_id labels are \"recycled\" during the day and used by two different vehicles serving the route."
   ]
  },
  {
   "cell_type": "code",
   "execution_count": 9,
   "metadata": {
    "collapsed": false
   },
   "outputs": [],
   "source": [
    "# make a copy\n",
    "avl_data2 = bustime"
   ]
  },
  {
   "cell_type": "code",
   "execution_count": 10,
   "metadata": {
    "collapsed": true
   },
   "outputs": [],
   "source": [
    "gb = avl_data2.groupby(level=(0,1,2,3))"
   ]
  },
  {
   "cell_type": "markdown",
   "metadata": {},
   "source": [
    "For each **trip data group**, take the reported shape_id (single value), which will be used next to get the information about all stops along that shape.<p>\n",
    "From each group, take the necessary data in list form:\n",
    "<ol>\n",
    "<li>time stamps of all the pings</li>\n",
    "<li>vehicle distances for thosee pings (note: Python list ordering is persistent, so the two lists can be kept separate)</li></ol>"
   ]
  },
  {
   "cell_type": "code",
   "execution_count": 11,
   "metadata": {
    "collapsed": true
   },
   "outputs": [],
   "source": [
    "shape_ids = gb['shape_id'].agg(lambda x:x.value_counts().index[0])\n",
    "reported_timestamps = gb['timestamp'].apply(list)\n",
    "reported_dists = gb['veh_dist_along_trip'].apply(list)"
   ]
  },
  {
   "cell_type": "markdown",
   "metadata": {},
   "source": [
    "... and also take the necessary data (in list form) from each **shape**:\n",
    "<ol start=\"3\">\n",
    "<li>labels of all the stops along that shape, from the separate dataframe of stop distances</li>\n",
    "<li>the distances of all those stops</li><ol>\n",
    "<br>Also, rename the objects for clarity.  And then merge together."
   ]
  },
  {
   "cell_type": "code",
   "execution_count": 12,
   "metadata": {
    "collapsed": true
   },
   "outputs": [],
   "source": [
    "all_stops = stop_distances.groupby('shape_id')['next_stop_id'].apply(list)\n",
    "all_dists = stop_distances.groupby('shape_id')['stop_dist_on_trip'].apply(list)\n",
    "all_dists.name = 'shape_stop_dist'\n",
    "all_stops.name = 'shape_stop_id'\n",
    "all_stop_dists = pd.DataFrame(shape_ids).merge(pd.DataFrame(all_dists),left_on='shape_id',right_index=True).merge(pd.DataFrame(all_stops),left_on='shape_id',right_index=True)"
   ]
  },
  {
   "cell_type": "markdown",
   "metadata": {},
   "source": [
    "## Two approaches for consolidated the data.\n",
    "Approach 1: merge everything into a dataframe"
   ]
  },
  {
   "cell_type": "code",
   "execution_count": 13,
   "metadata": {
    "collapsed": false
   },
   "outputs": [
    {
     "name": "stdout",
     "output_type": "stream",
     "text": [
      "Processing time:\n",
      "1.81179118156\n"
     ]
    }
   ],
   "source": [
    "starttime = time.time()\n",
    "avl_merged = pd.concat([all_stop_dists,reported_timestamps,reported_dists],axis=1)\n",
    "print 'Processing time:'\n",
    "print time.time() - starttime"
   ]
  },
  {
   "cell_type": "markdown",
   "metadata": {},
   "source": [
    "Approach 2: Use a for-loop to merge everything as a dict-of-dicts, instead of a dataframe"
   ]
  },
  {
   "cell_type": "code",
   "execution_count": 14,
   "metadata": {
    "collapsed": false
   },
   "outputs": [
    {
     "name": "stdout",
     "output_type": "stream",
     "text": [
      "Processing time:\n",
      "20.9029839039\n"
     ]
    }
   ],
   "source": [
    "starttime = time.time()\n",
    "test_dict = {}\n",
    "for i,v in all_stop_dists.iterrows():\n",
    "    test_dict[i] = {'shape_stop_dist':v.shape_stop_dist,'shape_stop_id':v.shape_stop_id,\n",
    "                    'timestamp':reported_timestamps.loc[i],'veh_dist_along_trip':reported_dists.loc[i]}\n",
    "print 'Processing time:'\n",
    "print time.time() - starttime"
   ]
  },
  {
   "cell_type": "markdown",
   "metadata": {},
   "source": [
    "### Compare performance when iterating over dataframe of lists or dict of dicts\n",
    "Approach 1"
   ]
  },
  {
   "cell_type": "code",
   "execution_count": 15,
   "metadata": {
    "collapsed": false
   },
   "outputs": [
    {
     "name": "stdout",
     "output_type": "stream",
     "text": [
      "Processing time:\n",
      "128.379277945\n"
     ]
    }
   ],
   "source": [
    "starttime = time.time()\n",
    "results = {}\n",
    "for i, v in avl_merged.iterrows():\n",
    "    results[i] = interpolate_stops3(v)\n",
    "print 'Processing time:'\n",
    "print time.time() - starttime"
   ]
  },
  {
   "cell_type": "markdown",
   "metadata": {},
   "source": [
    "Approach 2 (using dict-of-dicts)"
   ]
  },
  {
   "cell_type": "code",
   "execution_count": 15,
   "metadata": {
    "collapsed": false
   },
   "outputs": [
    {
     "name": "stdout",
     "output_type": "stream",
     "text": [
      "Processing time:\n",
      "81.2485888004\n"
     ]
    }
   ],
   "source": [
    "starttime = time.time()\n",
    "results2 = {}\n",
    "for k, v in test_dict.iteritems():\n",
    "    results2[k] = interpolate_stops4(v)\n",
    "print 'Processing time:'\n",
    "print time.time() - starttime"
   ]
  },
  {
   "cell_type": "markdown",
   "metadata": {},
   "source": [
    "Approach 3, using dataframe version but trying longest-increasing subsequence to slice array"
   ]
  },
  {
   "cell_type": "code",
   "execution_count": 16,
   "metadata": {
    "collapsed": false
   },
   "outputs": [
    {
     "name": "stdout",
     "output_type": "stream",
     "text": [
      "Processing time:\n",
      "106.457950115\n"
     ]
    }
   ],
   "source": [
    "starttime = time.time()\n",
    "results_longest = {}\n",
    "for i, v in avl_merged.iterrows():\n",
    "    results_longest[i] = interpolate_stops5(v)\n",
    "print 'Processing time:'\n",
    "print time.time() - starttime"
   ]
  },
  {
   "cell_type": "markdown",
   "metadata": {},
   "source": [
    "### Expand results into a dataframe (to use for things like headway measurement)"
   ]
  },
  {
   "cell_type": "code",
   "execution_count": 138,
   "metadata": {
    "collapsed": false
   },
   "outputs": [],
   "source": [
    "import csv\n",
    "with open('2015-12-03_interpolated.csv','w') as out:\n",
    "    csv_out=csv.writer(out)\n",
    "    csv_out.writerow(['route','trip_id','trip_date','vehicle_id','stop_id','interpolated_arrival_time'])\n",
    "    for k, v in results_longest.iteritems():\n",
    "        for i in range(len(v[0])):\n",
    "            row = k + (v[0][i],v[1][i])\n",
    "            csv_out.writerow(row)"
   ]
  },
  {
   "cell_type": "markdown",
   "metadata": {},
   "source": [
    "## Investigate results and check method for data groups with more than one ping"
   ]
  },
  {
   "cell_type": "code",
   "execution_count": 21,
   "metadata": {
    "collapsed": false
   },
   "outputs": [
    {
     "name": "stdout",
     "output_type": "stream",
     "text": [
      "Some basic stats: \n",
      "Total number of estimated arrival times\n",
      "1769451\n",
      "Number of trips identified overall\n",
      "65525\n",
      "Number of trips with estimates\n",
      "55844\n",
      "Number of trips without valid interpolation\n",
      "9681\n",
      "Average number of estimates per trip\n",
      "31.6856063319\n"
     ]
    }
   ],
   "source": [
    "lens = []\n",
    "trip_count = 0\n",
    "for k, v in results_longest.iteritems():\n",
    "    l = len(v[0])\n",
    "    if l > 0:\n",
    "        trip_count += 1\n",
    "    lens.append(l)\n",
    "def empty_inds(lst):\n",
    "    k = results_longest.keys()\n",
    "    return [k[i] for i, x in enumerate(lst) if x==0]\n",
    "empty_keys = empty_inds(lens)\n",
    "print 'Some basic stats: '\n",
    "print 'Total number of estimated arrival times'\n",
    "print sum(lens)\n",
    "print 'Number of trips identified overall'\n",
    "print len(lens)\n",
    "print 'Number of trips with estimates'\n",
    "print trip_count\n",
    "print 'Number of trips without valid interpolation'\n",
    "print len(empty_keys)\n",
    "print 'Average number of estimates per trip'\n",
    "print 1.0*sum(lens)/trip_count"
   ]
  },
  {
   "cell_type": "code",
   "execution_count": 22,
   "metadata": {
    "collapsed": false
   },
   "outputs": [],
   "source": [
    "ek_index = pd.MultiIndex.from_tuples(empty_keys)\n",
    "ek_info = pd.DataFrame(data=gb.size(),index=ek_index,columns=['N'])"
   ]
  },
  {
   "cell_type": "code",
   "execution_count": 23,
   "metadata": {
    "collapsed": false
   },
   "outputs": [],
   "source": [
    "ek_info['min_ts'] = gb['timestamp'].min()\n",
    "ek_info['max_ts'] = gb['timestamp'].max()\n",
    "ek_info['min_dist'] = gb['veh_dist_along_trip'].min()\n",
    "ek_info['max_dist'] = gb['veh_dist_along_trip'].max()"
   ]
  },
  {
   "cell_type": "code",
   "execution_count": 24,
   "metadata": {
    "collapsed": false
   },
   "outputs": [],
   "source": [
    "ek_info['ts_delta'] = ek_info['max_ts'] - ek_info['min_ts']\n",
    "ek_info['dist_delta'] = ek_info['max_dist'] - ek_info['min_dist']"
   ]
  },
  {
   "cell_type": "code",
   "execution_count": 25,
   "metadata": {
    "collapsed": false
   },
   "outputs": [
    {
     "data": {
      "text/plain": [
       "N\n",
       "1     0.648693\n",
       "2     0.140688\n",
       "3     0.066729\n",
       "4     0.039355\n",
       "5     0.024481\n",
       "6     0.019936\n",
       "7     0.012189\n",
       "8     0.007541\n",
       "9     0.006611\n",
       "10    0.006508\n",
       "11    0.004442\n",
       "12    0.004338\n",
       "13    0.001963\n",
       "14    0.002479\n",
       "15    0.001549\n",
       "16    0.001033\n",
       "17    0.000413\n",
       "18    0.001033\n",
       "19    0.000826\n",
       "20    0.000930\n",
       "21    0.000723\n",
       "22    0.000620\n",
       "23    0.000516\n",
       "24    0.000310\n",
       "25    0.000826\n",
       "26    0.000103\n",
       "27    0.000516\n",
       "28    0.000103\n",
       "29    0.000826\n",
       "30    0.000413\n",
       "31    0.000103\n",
       "32    0.000103\n",
       "33    0.000103\n",
       "34    0.000310\n",
       "35    0.000103\n",
       "36    0.000310\n",
       "37    0.000207\n",
       "38    0.000413\n",
       "41    0.000103\n",
       "43    0.000310\n",
       "47    0.000207\n",
       "48    0.000103\n",
       "49    0.000207\n",
       "50    0.000207\n",
       "52    0.000103\n",
       "56    0.000207\n",
       "57    0.000207\n",
       "dtype: float64"
      ]
     },
     "execution_count": 25,
     "metadata": {},
     "output_type": "execute_result"
    }
   ],
   "source": [
    "ek_info.groupby('N').size()/len(ek_info)"
   ]
  },
  {
   "cell_type": "code",
   "execution_count": 26,
   "metadata": {
    "collapsed": false
   },
   "outputs": [
    {
     "data": {
      "text/plain": [
       "<matplotlib.axes._subplots.AxesSubplot at 0x7f886fe5ffd0>"
      ]
     },
     "execution_count": 26,
     "metadata": {},
     "output_type": "execute_result"
    },
    {
     "data": {
      "image/png": "[encoded data removed]",
      "text/plain": [
       "<matplotlib.figure.Figure at 0x7f8949327d90>"
      ]
     },
     "metadata": {},
     "output_type": "display_data"
    }
   ],
   "source": [
    "ek_info.query('N>1')['dist_delta'].hist(range=(0,1000),bins=50)"
   ]
  },
  {
   "cell_type": "code",
   "execution_count": 27,
   "metadata": {
    "collapsed": false
   },
   "outputs": [
    {
     "data": {
      "text/plain": [
       "6280"
      ]
     },
     "execution_count": 27,
     "metadata": {},
     "output_type": "execute_result"
    }
   ],
   "source": [
    "# how many of the original groupings had only 1 ping?\n",
    "sum(bustime.groupby(level=(0,1,2,3)).size()==1)"
   ]
  },
  {
   "cell_type": "code",
   "execution_count": 28,
   "metadata": {
    "collapsed": false
   },
   "outputs": [
    {
     "data": {
      "text/plain": [
       "59245"
      ]
     },
     "execution_count": 28,
     "metadata": {},
     "output_type": "execute_result"
    }
   ],
   "source": [
    "# how many with more than one ping?\n",
    "sum(bustime.groupby(level=(0,1,2,3)).size()>1)"
   ]
  },
  {
   "cell_type": "code",
   "execution_count": 33,
   "metadata": {
    "collapsed": false
   },
   "outputs": [
    {
     "data": {
      "text/plain": [
       "<matplotlib.axes._subplots.AxesSubplot at 0x7f885c2dde50>"
      ]
     },
     "execution_count": 33,
     "metadata": {},
     "output_type": "execute_result"
    },
    {
     "data": {
      "image/png": "[encoded data removed]",
      "text/plain": [
       "<matplotlib.figure.Figure at 0x7f8864224d10>"
      ]
     },
     "metadata": {},
     "output_type": "display_data"
    }
   ],
   "source": [
    "# how many stops were estimated for each trip data group?\n",
    "pd.Series(lens).hist(range=(0,80),bins=40)"
   ]
  },
  {
   "cell_type": "code",
   "execution_count": 32,
   "metadata": {
    "collapsed": false
   },
   "outputs": [
    {
     "data": {
      "text/plain": [
       "<matplotlib.axes._subplots.AxesSubplot at 0x7f8864199750>"
      ]
     },
     "execution_count": 32,
     "metadata": {},
     "output_type": "execute_result"
    },
    {
     "data": {
      "image/png": "[encoded data removed]",
      "text/plain": [
       "<matplotlib.figure.Figure at 0x7f886c3127d0>"
      ]
     },
     "metadata": {},
     "output_type": "display_data"
    }
   ],
   "source": [
    "# how many pings were available for each trip data group?\n",
    "gb.size().hist(range=(0,90),bins=30)"
   ]
  }
 ],
 "metadata": {
  "kernelspec": {
   "display_name": "Python 2",
   "language": "python",
   "name": "python2"
  },
  "language_info": {
   "codemirror_mode": {
    "name": "ipython",
    "version": 2
   },
   "file_extension": ".py",
   "mimetype": "text/x-python",
   "name": "python",
   "nbconvert_exporter": "python",
   "pygments_lexer": "ipython2",
   "version": "2.7.11"
  }
 },
 "nbformat": 4,
 "nbformat_minor": 0
}
