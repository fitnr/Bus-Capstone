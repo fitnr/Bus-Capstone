{
 "cells": [
  {
   "cell_type": "code",
   "execution_count": 23,
   "metadata": {
    "collapsed": true
   },
   "outputs": [],
   "source": [
    "import os\n",
    "import pandas as pd\n",
    "import numpy as np\n",
    "import matplotlib.pyplot as plt\n",
    "from scipy import interpolate\n",
    "import time\n",
    "%matplotlib inline  \n",
    "import sys\n",
    "sys.path.append('/gpfs2/projects/project-bus_capstone_2016/workspace/jz2308/bus-Capstone')\n",
    "\n",
    "# these two modules are homemade\n",
    "import gtfs\n",
    "import arrivals\n",
    "import ttools\n",
    "os.chdir('/gpfs2/projects/project-bus_capstone_2016/workspace/share')"
   ]
  },
  {
   "cell_type": "code",
   "execution_count": 2,
   "metadata": {
    "collapsed": false
   },
   "outputs": [
    {
     "name": "stdout",
     "output_type": "stream",
     "text": [
      "Finished loading GTFS data.\n"
     ]
    }
   ],
   "source": [
    "# get all the schedule data. (subset can be created later)\n",
    "trips = gtfs.load_trips('2015-12-03','gtfs/')\n",
    "stops = gtfs.load_stops('2015-12-03','gtfs/')\n",
    "stop_times, tz_sched = gtfs.load_stop_times('2015-12-03','gtfs/')\n",
    "tcal=gtfs.TransitCalendar('2015-12-03','gtfs/')\n",
    "thurs_services = tcal.get_service_ids('2015-12-03')\n",
    "thurs_trips = trips.service_id.isin(thurs_services)\n",
    "thurs_stops = stop_times.reset_index().set_index('trip_id').loc[thurs_trips]\n",
    "print 'Finished loading GTFS data.'"
   ]
  },
  {
   "cell_type": "code",
   "execution_count": 3,
   "metadata": {
    "collapsed": true
   },
   "outputs": [],
   "source": [
    "interpolated = pd.read_csv('2015-12-03_interpolated.csv')"
   ]
  },
  {
   "cell_type": "code",
   "execution_count": 4,
   "metadata": {
    "collapsed": true
   },
   "outputs": [],
   "source": [
    "interpolated = interpolated.merge(stop_times[['arrival_time','stop_sequence']],how='left',left_on=['trip_id','stop_id'],right_index=True)"
   ]
  },
  {
   "cell_type": "code",
   "execution_count": 30,
   "metadata": {
    "collapsed": false
   },
   "outputs": [
    {
     "data": {
      "text/plain": [
       "(2064230, 7)"
      ]
     },
     "execution_count": 30,
     "metadata": {},
     "output_type": "execute_result"
    }
   ],
   "source": [
    "thurs_stops.shape"
   ]
  },
  {
   "cell_type": "code",
   "execution_count": 5,
   "metadata": {
    "collapsed": false
   },
   "outputs": [],
   "source": [
    "thurs_stops = thurs_stops.join(trips[thurs_trips]['route_id'],how='left')"
   ]
  },
  {
   "cell_type": "code",
   "execution_count": 12,
   "metadata": {
    "collapsed": false
   },
   "outputs": [
    {
     "data": {
      "text/plain": [
       "<matplotlib.axes._subplots.AxesSubplot at 0x7fe95cb27890>"
      ]
     },
     "execution_count": 12,
     "metadata": {},
     "output_type": "execute_result"
    },
    {
     "data": {
      "image/png": "[encoded data removed]",
      "text/plain": [
       "<matplotlib.figure.Figure at 0x7fe95f4f6d10>"
      ]
     },
     "metadata": {},
     "output_type": "display_data"
    }
   ],
   "source": [
    "thurs_stops.groupby(level=0).size().hist(range=(0,80),bins=20)"
   ]
  },
  {
   "cell_type": "code",
   "execution_count": 14,
   "metadata": {
    "collapsed": false
   },
   "outputs": [
    {
     "data": {
      "text/plain": [
       "<matplotlib.axes._subplots.AxesSubplot at 0x7fe95cabbf50>"
      ]
     },
     "execution_count": 14,
     "metadata": {},
     "output_type": "execute_result"
    },
    {
     "data": {
      "image/png": "[encoded data removed]",
      "text/plain": [
       "<matplotlib.figure.Figure at 0x7fe95ca2bf10>"
      ]
     },
     "metadata": {},
     "output_type": "display_data"
    }
   ],
   "source": [
    "interpolated.groupby(['trip_id','vehicle_id']).size().hist(range=(0,80),bins=20)"
   ]
  },
  {
   "cell_type": "code",
   "execution_count": 15,
   "metadata": {
    "collapsed": false
   },
   "outputs": [
    {
     "data": {
      "text/plain": [
       "route_id  stop_id\n",
       "B1        300000     171\n",
       "          300002     171\n",
       "          300003     171\n",
       "          300004     171\n",
       "          300006     171\n",
       "          300007     171\n",
       "          300008     171\n",
       "          300009     171\n",
       "          300010     171\n",
       "          300011     171\n",
       "          300012     171\n",
       "          300013     171\n",
       "          300014     171\n",
       "          300016     171\n",
       "          300017     148\n",
       "          300018     148\n",
       "          300019     148\n",
       "          300020     148\n",
       "          300022     148\n",
       "          300023     148\n",
       "          300024     148\n",
       "          300025     148\n",
       "          300026     148\n",
       "          300028     148\n",
       "          300029     148\n",
       "          300030     148\n",
       "          300031     148\n",
       "          300032     124\n",
       "          300033     124\n",
       "          300034     124\n",
       "                    ... \n",
       "X9        203728      14\n",
       "          250054      22\n",
       "          400153      14\n",
       "          400323      14\n",
       "          400732      22\n",
       "          400933      22\n",
       "          400936      22\n",
       "          402130      14\n",
       "          402169      14\n",
       "          403132      22\n",
       "          404050      14\n",
       "          404197      14\n",
       "          404228      14\n",
       "          404294      14\n",
       "          404873      14\n",
       "          404923      14\n",
       "          404931      14\n",
       "          404992      22\n",
       "          405017      22\n",
       "          405031      22\n",
       "          405042      14\n",
       "          405046      22\n",
       "          405177      14\n",
       "          405305      14\n",
       "          805013      14\n",
       "          805025      14\n",
       "          805026      14\n",
       "          805027      14\n",
       "          903013      14\n",
       "          903036      22\n",
       "dtype: int64"
      ]
     },
     "execution_count": 15,
     "metadata": {},
     "output_type": "execute_result"
    }
   ],
   "source": [
    "thurs_stops.reset_index().groupby(['route_id','stop_id']).size()"
   ]
  },
  {
   "cell_type": "code",
   "execution_count": 16,
   "metadata": {
    "collapsed": false
   },
   "outputs": [],
   "source": [
    "interpolated['route'] = interpolated.route.str.replace('MTA NYCT_','')\n",
    "interpolated['route'] = interpolated.route.str.replace('MTABC_','')"
   ]
  },
  {
   "cell_type": "code",
   "execution_count": 17,
   "metadata": {
    "collapsed": true
   },
   "outputs": [],
   "source": [
    "interpolated.set_index(['route','trip_id','trip_date','vehicle_id','stop_sequence','stop_id'],inplace=True)\n",
    "trip_groups = interpolated.groupby(level=(0,2,5,4)).size()"
   ]
  },
  {
   "cell_type": "code",
   "execution_count": 18,
   "metadata": {
    "collapsed": true
   },
   "outputs": [],
   "source": [
    "def series_max(s):\n",
    "    return s.idxmax()[2]"
   ]
  },
  {
   "cell_type": "code",
   "execution_count": 19,
   "metadata": {
    "collapsed": false
   },
   "outputs": [
    {
     "data": {
      "text/plain": [
       "route\n",
       "B1      300009\n",
       "B100    350059\n",
       "B103    300619\n",
       "B11     301173\n",
       "B12     301328\n",
       "B13     301505\n",
       "B14     301598\n",
       "B15     301135\n",
       "B16     301677\n",
       "B17     300853\n",
       "B2      300173\n",
       "B20     301959\n",
       "B24     503993\n",
       "B25     302383\n",
       "B26     302372\n",
       "B3      300261\n",
       "B31     300175\n",
       "B32     302304\n",
       "B35     302692\n",
       "B36     300019\n",
       "B37     302914\n",
       "B38     302948\n",
       "B39     403679\n",
       "B4      300368\n",
       "B41     303295\n",
       "B42     303358\n",
       "B43     303711\n",
       "B44     303483\n",
       "B44+    303441\n",
       "B45     303531\n",
       "         ...  \n",
       "X10     404215\n",
       "X10B    404891\n",
       "X11     202039\n",
       "X12     203087\n",
       "X14     203343\n",
       "X15     200496\n",
       "X17     400144\n",
       "X17A    404202\n",
       "X17J    203927\n",
       "X19     202090\n",
       "X2      201022\n",
       "X21     200375\n",
       "X22     401851\n",
       "X22A    250049\n",
       "X27     300071\n",
       "X28     300044\n",
       "X3      201020\n",
       "X30     200434\n",
       "X31     201476\n",
       "X37     300071\n",
       "X38     404183\n",
       "X4      200097\n",
       "X42     200406\n",
       "X5      402133\n",
       "X63     402212\n",
       "X64     402679\n",
       "X68     500066\n",
       "X7      405017\n",
       "X8      200358\n",
       "X9      201020\n",
       "dtype: int64"
      ]
     },
     "execution_count": 19,
     "metadata": {},
     "output_type": "execute_result"
    }
   ],
   "source": [
    "densest_stops = trip_groups.groupby(level=(0)).apply(series_max)\n",
    "densest_stops"
   ]
  },
  {
   "cell_type": "code",
   "execution_count": 22,
   "metadata": {
    "collapsed": false
   },
   "outputs": [],
   "source": [
    "right_df = trip_groups.reset_index()[['route','stop_id',0]].set_index(['route','stop_id'])\n",
    "left_df = pd.DataFrame(densest_stops,columns=['stop_id']).reset_index().set_index(['route','stop_id'])\n",
    "scheduled_count = thurs_stops.reset_index().groupby(['route_id','stop_id']).size()\n",
    "scheduled_count.name = 'scheduled_count'\n",
    "actual_count = left_df.join(right_df,how='left')"
   ]
  },
  {
   "cell_type": "code",
   "execution_count": 24,
   "metadata": {
    "collapsed": false
   },
   "outputs": [],
   "source": [
    "merged_counts = actual_count.rename(columns={0:'actual_count'})\n",
    "merged_counts['scheduled_count'] = np.nan\n",
    "for i, r in actual_count.iterrows():\n",
    "    merged_counts.loc[i,'scheduled_count'] = scheduled_count[i]\n",
    "# since some stops occur at difference sequence numbers, only look at the most frequent\n",
    "merged_counts = merged_counts.groupby(level=0).max()"
   ]
  },
  {
   "cell_type": "code",
   "execution_count": 26,
   "metadata": {
    "collapsed": false
   },
   "outputs": [
    {
     "data": {
      "text/plain": [
       "<matplotlib.axes._subplots.AxesSubplot at 0x7fe91aeab150>"
      ]
     },
     "execution_count": 26,
     "metadata": {},
     "output_type": "execute_result"
    },
    {
     "data": {
      "image/png": "[encoded data removed]",
      "text/plain": [
       "<matplotlib.figure.Figure at 0x7fe91b04e5d0>"
      ]
     },
     "metadata": {},
     "output_type": "display_data"
    }
   ],
   "source": [
    "merged_counts['coverage_ratio'] = merged_counts['actual_count']/merged_counts['scheduled_count']\n",
    "merged_counts['coverage_ratio'].hist(range=(0.6,1.2),bins=20)"
   ]
  },
  {
   "cell_type": "code",
   "execution_count": 28,
   "metadata": {
    "collapsed": false
   },
   "outputs": [
    {
     "data": {
      "text/plain": [
       "route  trip_date   stop_id  stop_sequence\n",
       "B1     2015-12-03  300000   1                 11\n",
       "                   300002   2                143\n",
       "                   300003   3                137\n",
       "                   300004   4                138\n",
       "                   300006   5                139\n",
       "dtype: int64"
      ]
     },
     "execution_count": 28,
     "metadata": {},
     "output_type": "execute_result"
    }
   ],
   "source": [
    "trip_groups.groupby(level=(0))"
   ]
  },
  {
   "cell_type": "code",
   "execution_count": null,
   "metadata": {
    "collapsed": true
   },
   "outputs": [],
   "source": []
  }
 ],
 "metadata": {
  "kernelspec": {
   "display_name": "Python 2",
   "language": "python",
   "name": "python2"
  },
  "language_info": {
   "codemirror_mode": {
    "name": "ipython",
    "version": 2
   },
   "file_extension": ".py",
   "mimetype": "text/x-python",
   "name": "python",
   "nbconvert_exporter": "python",
   "pygments_lexer": "ipython2",
   "version": "2.7.11"
  }
 },
 "nbformat": 4,
 "nbformat_minor": 0
}
