{
 "cells": [
  {
   "cell_type": "code",
   "execution_count": 1,
   "metadata": {
    "collapsed": true
   },
   "outputs": [],
   "source": [
    "example_date = '2015-12-03'\n",
    "gtfs_path = '/gpfs2/projects/project-bus_capstone_2016/workspace/share/gtfs/'\n",
    "code_filepath = '..'\n",
    "interps = '/gpfs2/projects/project-bus_capstone_2016/workspace/share/20151203_interpolated.csv'\n",
    "\n",
    "import os\n",
    "import pandas as pd\n",
    "import numpy as np\n",
    "import matplotlib.pyplot as plt\n",
    "%matplotlib inline  \n",
    "\n",
    "# these two modules are homemade\n",
    "os.chdir(code_filepath)\n",
    "import gtfs\n",
    "import arrivals"
   ]
  },
  {
   "cell_type": "code",
   "execution_count": 2,
   "metadata": {
    "collapsed": false
   },
   "outputs": [
    {
     "name": "stdout",
     "output_type": "stream",
     "text": [
      "Finished loading GTFS data.\n"
     ]
    }
   ],
   "source": [
    "# get all the schedule data. (subset can be created later)\n",
    "trips = gtfs.load_trips(example_date,gtfs_path)\n",
    "stops = gtfs.load_stops(example_date,gtfs_path)\n",
    "stop_times, tz_sched = gtfs.load_stop_times(example_date,gtfs_path)\n",
    "tcal=gtfs.TransitCalendar(example_date,gtfs_path)\n",
    "thurs_services = tcal.get_service_ids(example_date)\n",
    "thurs_trips = trips.service_id.isin(thurs_services)\n",
    "thurs_stops = stop_times.reset_index().set_index('trip_id').loc[thurs_trips]\n",
    "print 'Finished loading GTFS data.'"
   ]
  },
  {
   "cell_type": "code",
   "execution_count": 3,
   "metadata": {
    "collapsed": true
   },
   "outputs": [],
   "source": [
    "interpolated = pd.read_csv(interps)\n",
    "interpolated = interpolated.merge(stop_times[['arrival_time','stop_sequence']],how='left',left_on=['TRIP_ID','STOP_ID'],right_index=True)"
   ]
  },
  {
   "cell_type": "code",
   "execution_count": 4,
   "metadata": {
    "collapsed": false
   },
   "outputs": [
    {
     "data": {
      "text/plain": [
       "(2064230, 6)"
      ]
     },
     "execution_count": 4,
     "metadata": {},
     "output_type": "execute_result"
    }
   ],
   "source": [
    "thurs_stops.shape"
   ]
  },
  {
   "cell_type": "code",
   "execution_count": 5,
   "metadata": {
    "collapsed": false
   },
   "outputs": [],
   "source": [
    "thurs_stops = thurs_stops.join(trips[thurs_trips]['route_id'],how='left')"
   ]
  },
  {
   "cell_type": "code",
   "execution_count": 6,
   "metadata": {
    "collapsed": false
   },
   "outputs": [
    {
     "data": {
      "text/plain": [
       "<matplotlib.axes._subplots.AxesSubplot at 0x7f539a739450>"
      ]
     },
     "execution_count": 6,
     "metadata": {},
     "output_type": "execute_result"
    },
    {
     "data": {
      "image/png": "[encoded data removed]",
      "text/plain": [
       "<matplotlib.figure.Figure at 0x7f541e067890>"
      ]
     },
     "metadata": {},
     "output_type": "display_data"
    }
   ],
   "source": [
    "thurs_stops.groupby(level=0).size().hist(range=(0,80),bins=20)"
   ]
  },
  {
   "cell_type": "code",
   "execution_count": 8,
   "metadata": {
    "collapsed": false
   },
   "outputs": [
    {
     "data": {
      "text/plain": [
       "<matplotlib.axes._subplots.AxesSubplot at 0x7f53882df650>"
      ]
     },
     "execution_count": 8,
     "metadata": {},
     "output_type": "execute_result"
    },
    {
     "data": {
      "image/png": "[encoded data removed]",
      "text/plain": [
       "<matplotlib.figure.Figure at 0x7f538de970d0>"
      ]
     },
     "metadata": {},
     "output_type": "display_data"
    }
   ],
   "source": [
    "interpolated.groupby(['TRIP_ID','vehicle_id']).size().hist(range=(0,80),bins=20)"
   ]
  },
  {
   "cell_type": "code",
   "execution_count": 9,
   "metadata": {
    "collapsed": false
   },
   "outputs": [
    {
     "data": {
      "text/plain": [
       "route_id  stop_id\n",
       "B1        300000     171\n",
       "          300002     171\n",
       "          300003     171\n",
       "          300004     171\n",
       "          300006     171\n",
       "          300007     171\n",
       "          300008     171\n",
       "          300009     171\n",
       "          300010     171\n",
       "          300011     171\n",
       "          300012     171\n",
       "          300013     171\n",
       "          300014     171\n",
       "          300016     171\n",
       "          300017     148\n",
       "          300018     148\n",
       "          300019     148\n",
       "          300020     148\n",
       "          300022     148\n",
       "          300023     148\n",
       "          300024     148\n",
       "          300025     148\n",
       "          300026     148\n",
       "          300028     148\n",
       "          300029     148\n",
       "          300030     148\n",
       "          300031     148\n",
       "          300032     124\n",
       "          300033     124\n",
       "          300034     124\n",
       "                    ... \n",
       "X9        203728      14\n",
       "          250054      22\n",
       "          400153      14\n",
       "          400323      14\n",
       "          400732      22\n",
       "          400933      22\n",
       "          400936      22\n",
       "          402130      14\n",
       "          402169      14\n",
       "          403132      22\n",
       "          404050      14\n",
       "          404197      14\n",
       "          404228      14\n",
       "          404294      14\n",
       "          404873      14\n",
       "          404923      14\n",
       "          404931      14\n",
       "          404992      22\n",
       "          405017      22\n",
       "          405031      22\n",
       "          405042      14\n",
       "          405046      22\n",
       "          405177      14\n",
       "          405305      14\n",
       "          805013      14\n",
       "          805025      14\n",
       "          805026      14\n",
       "          805027      14\n",
       "          903013      14\n",
       "          903036      22\n",
       "dtype: int64"
      ]
     },
     "execution_count": 9,
     "metadata": {},
     "output_type": "execute_result"
    }
   ],
   "source": [
    "thurs_stops.reset_index().groupby(['route_id','stop_id']).size()"
   ]
  },
  {
   "cell_type": "code",
   "execution_count": 11,
   "metadata": {
    "collapsed": true
   },
   "outputs": [],
   "source": [
    "interpolated.set_index(['ROUTE_ID','TRIP_ID','trip_date','vehicle_id','stop_sequence','STOP_ID'],inplace=True)\n",
    "trip_groups = interpolated.groupby(level=(0,2,5,4)).size()"
   ]
  },
  {
   "cell_type": "code",
   "execution_count": 12,
   "metadata": {
    "collapsed": false
   },
   "outputs": [
    {
     "data": {
      "text/plain": [
       "ROUTE_ID\n",
       "B1      300009\n",
       "B100    350059\n",
       "B103    300619\n",
       "B11     301173\n",
       "B12     300709\n",
       "B13     301028\n",
       "B14     301598\n",
       "B15     301135\n",
       "B16     301677\n",
       "B17     300853\n",
       "B2      300173\n",
       "B20     301959\n",
       "B24     302346\n",
       "B25     302383\n",
       "B26     302372\n",
       "B3      300261\n",
       "B31     302609\n",
       "B32     302304\n",
       "B35     302692\n",
       "B36     300019\n",
       "B37     302914\n",
       "B38     302948\n",
       "B39     403679\n",
       "B4      300368\n",
       "B41     303295\n",
       "B42     303358\n",
       "B43     303762\n",
       "B44     303483\n",
       "B44+    303441\n",
       "B45     303531\n",
       "         ...  \n",
       "X10     400144\n",
       "X10B    404891\n",
       "X11     202039\n",
       "X12     203087\n",
       "X14     203343\n",
       "X15     200496\n",
       "X17     400144\n",
       "X17A    404202\n",
       "X17J    203927\n",
       "X19     202090\n",
       "X2      201022\n",
       "X21     200375\n",
       "X22     401851\n",
       "X22A    250049\n",
       "X27     300071\n",
       "X28     300044\n",
       "X3      201020\n",
       "X30     200434\n",
       "X31     201476\n",
       "X37     300071\n",
       "X38     404183\n",
       "X4      200097\n",
       "X42     200406\n",
       "X5      402133\n",
       "X63     402212\n",
       "X64     402679\n",
       "X68     500066\n",
       "X7      405017\n",
       "X8      200358\n",
       "X9      201020\n",
       "dtype: int64"
      ]
     },
     "execution_count": 12,
     "metadata": {},
     "output_type": "execute_result"
    }
   ],
   "source": [
    "def series_max(s):\n",
    "    return s.idxmax()[2]\n",
    "densest_stops = trip_groups.groupby(level=(0)).apply(series_max)\n",
    "densest_stops"
   ]
  },
  {
   "cell_type": "code",
   "execution_count": 14,
   "metadata": {
    "collapsed": false
   },
   "outputs": [],
   "source": [
    "right_df = trip_groups.reset_index()[['ROUTE_ID','STOP_ID',0]].set_index(['ROUTE_ID','STOP_ID'])\n",
    "left_df = pd.DataFrame(densest_stops,columns=['STOP_ID']).reset_index().set_index(['ROUTE_ID','STOP_ID'])\n",
    "scheduled_count = thurs_stops.reset_index().groupby(['route_id','stop_id']).size()\n",
    "scheduled_count.name = 'scheduled_count'\n",
    "actual_count = left_df.join(right_df,how='left')"
   ]
  },
  {
   "cell_type": "code",
   "execution_count": 15,
   "metadata": {
    "collapsed": false
   },
   "outputs": [],
   "source": [
    "merged_counts = actual_count.rename(columns={0:'actual_count'})\n",
    "merged_counts['scheduled_count'] = np.nan\n",
    "for i, r in actual_count.iterrows():\n",
    "    merged_counts.loc[i,'scheduled_count'] = scheduled_count[i]\n",
    "# since some stops occur at difference sequence numbers, only look at the most frequent\n",
    "merged_counts = merged_counts.groupby(level=0).max()"
   ]
  },
  {
   "cell_type": "code",
   "execution_count": 16,
   "metadata": {
    "collapsed": false
   },
   "outputs": [
    {
     "data": {
      "text/plain": [
       "<matplotlib.axes._subplots.AxesSubplot at 0x7f538de97fd0>"
      ]
     },
     "execution_count": 16,
     "metadata": {},
     "output_type": "execute_result"
    },
    {
     "data": {
      "image/png": "[encoded data removed]",
      "text/plain": [
       "<matplotlib.figure.Figure at 0x7f53881e8b10>"
      ]
     },
     "metadata": {},
     "output_type": "display_data"
    }
   ],
   "source": [
    "merged_counts['coverage_ratio'] = merged_counts['actual_count']/merged_counts['scheduled_count']\n",
    "merged_counts['coverage_ratio'].hist(range=(0.6,1.2),bins=20)"
   ]
  }
 ],
 "metadata": {
  "kernelspec": {
   "display_name": "Python 2",
   "language": "python",
   "name": "python2"
  },
  "language_info": {
   "codemirror_mode": {
    "name": "ipython",
    "version": 2
   },
   "file_extension": ".py",
   "mimetype": "text/x-python",
   "name": "python",
   "nbconvert_exporter": "python",
   "pygments_lexer": "ipython2",
   "version": "2.7.11"
  }
 },
 "nbformat": 4,
 "nbformat_minor": 0
}
