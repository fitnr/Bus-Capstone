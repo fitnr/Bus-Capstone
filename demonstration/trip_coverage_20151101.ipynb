{
 "cells": [
  {
   "cell_type": "code",
   "execution_count": 1,
   "metadata": {
    "collapsed": true
   },
   "outputs": [],
   "source": [
    "example_date = '2015-11-01'\n",
    "gtfs_path = '/gpfs2/projects/project-bus_capstone_2016/workspace/share/gtfs/'\n",
    "code_filepath = '..'\n",
    "avl_sample = '/gpfs2/projects/project-bus_capstone_2016/workspace/share/old_junk/20151101_parsed.csv'\n",
    "\n",
    "import os\n",
    "import pandas as pd\n",
    "import numpy as np\n",
    "%matplotlib inline\n",
    "\n",
    "# these two modules are homemade\n",
    "os.chdir(code_filepath)\n",
    "import ttools #homemade module\n",
    "import gtfs #homemade module"
   ]
  },
  {
   "cell_type": "code",
   "execution_count": 2,
   "metadata": {
    "collapsed": false
   },
   "outputs": [
    {
     "name": "stdout",
     "output_type": "stream",
     "text": [
      "Finished loading GTFS data.\n"
     ]
    }
   ],
   "source": [
    "# get all the schedule data. (subset can be created later)\n",
    "trips = gtfs.load_trips(example_date,gtfs_path)\n",
    "stops = gtfs.load_stops(example_date,gtfs_path)\n",
    "stop_times, tz_sched = gtfs.load_stop_times(example_date,gtfs_path)\n",
    "tcal = gtfs.TransitCalendar(example_date,gtfs_path)\n",
    "print 'Finished loading GTFS data.'"
   ]
  },
  {
   "cell_type": "markdown",
   "metadata": {
    "collapsed": true
   },
   "source": [
    "# get the sample of parsed AVL data.\n",
    "Clean MTA prefixes from trip_id"
   ]
  },
  {
   "cell_type": "code",
   "execution_count": 3,
   "metadata": {
    "collapsed": true
   },
   "outputs": [],
   "source": [
    "# get the sample of parsed AVL data.  Beware, large files take more time.\n",
    "bustime = pd.read_csv(avl_sample)"
   ]
  },
  {
   "cell_type": "markdown",
   "metadata": {},
   "source": [
    "### Warning, this demonstration uses a dataframe index that was deprecated."
   ]
  },
  {
   "cell_type": "code",
   "execution_count": 4,
   "metadata": {
    "collapsed": false
   },
   "outputs": [],
   "source": [
    "bustime.columns = ['vehicle_id','route','timestamp','lat','lon','trip_id','trip_date','shape_id',\n",
    "                   'next_stop_id','est_arrival','dist_from_stop','stop_dist_on_trip','presentable_dist','response']\n",
    "bustime.drop_duplicates(['vehicle_id','timestamp'],inplace=True)\n",
    "bustime['trip_id'] = bustime['trip_id'].str.replace('MTA NYCT_','')\n",
    "bustime['trip_id'] = bustime['trip_id'].str.replace('MTABC_','')\n",
    "bustime.set_index(['route','trip_id','trip_date','vehicle_id'],inplace=True,drop=True)"
   ]
  },
  {
   "cell_type": "code",
   "execution_count": 5,
   "metadata": {
    "collapsed": false
   },
   "outputs": [
    {
     "data": {
      "text/plain": [
       "trip_date\n",
       "2015-10-31     59293\n",
       "2015-11-01    846834\n",
       "2015-11-02        57\n",
       "dtype: int64"
      ]
     },
     "execution_count": 5,
     "metadata": {},
     "output_type": "execute_result"
    }
   ],
   "source": [
    "bustime.groupby(level=2).size()"
   ]
  },
  {
   "cell_type": "code",
   "execution_count": 6,
   "metadata": {
    "collapsed": false
   },
   "outputs": [
    {
     "name": "stdout",
     "output_type": "stream",
     "text": [
      "Finished loading BusTime data and and slicing one day.\n"
     ]
    }
   ],
   "source": [
    "# for demonstration, use a subset. Just get data for one trip-date.\n",
    "tripDateLookup = \"2015-11-01\" # this is a non-holiday Monday\n",
    "bustime = bustime.xs((tripDateLookup),level=(2),drop_level=False)\n",
    "bustime.sort_index(inplace=True)\n",
    "print 'Finished loading BusTime data and and slicing one day.'"
   ]
  },
  {
   "cell_type": "markdown",
   "metadata": {},
   "source": [
    "## Compare list of trip_id between GTFS schedule and BusTime reported data.\n",
    "First just compare the length of the lists."
   ]
  },
  {
   "cell_type": "code",
   "execution_count": 8,
   "metadata": {
    "collapsed": false
   },
   "outputs": [],
   "source": [
    "# Filter the service_ids for those applicable to this date\n",
    "# gtfs.TransitCalendar class now correctly adjusts for exception dates\n",
    "active_services = tcal.get_service_ids('2015-11-01') \n",
    "# Load a sepate trips dataframe but use only one index level\n",
    "trips_ = gtfs.load_trips(example_date,gtfs_path).reset_index().set_index(['service_id'])\n",
    "# Generate list of all trip_ids that are scheduled for those service_ids\n",
    "gtfs_trip_ids = trips_.loc[active_services]['trip_id'].unique()\n",
    "# Generate list of all trip_ids in BusTime subset\n",
    "bustime_trip_ids = bustime.index.get_level_values(1).unique()"
   ]
  },
  {
   "cell_type": "code",
   "execution_count": 9,
   "metadata": {
    "collapsed": false
   },
   "outputs": [
    {
     "data": {
      "text/plain": [
       "32692"
      ]
     },
     "execution_count": 9,
     "metadata": {},
     "output_type": "execute_result"
    }
   ],
   "source": [
    "len(gtfs_trip_ids)"
   ]
  },
  {
   "cell_type": "code",
   "execution_count": 10,
   "metadata": {
    "collapsed": false
   },
   "outputs": [
    {
     "data": {
      "text/plain": [
       "30389"
      ]
     },
     "execution_count": 10,
     "metadata": {},
     "output_type": "execute_result"
    }
   ],
   "source": [
    "len(bustime_trip_ids)"
   ]
  },
  {
   "cell_type": "markdown",
   "metadata": {},
   "source": [
    "## Much smaller difference in trip lists using the recent sample\n",
    "Return the non-matching trip_ids and describe a few things about those trips, based on the GTFS data."
   ]
  },
  {
   "cell_type": "code",
   "execution_count": 11,
   "metadata": {
    "collapsed": false
   },
   "outputs": [],
   "source": [
    "# parse times into numeric\n",
    "ts_parsed = bustime['timestamp'].apply(ttools.parseActualTime,tdate='2015-11-01')"
   ]
  },
  {
   "cell_type": "markdown",
   "metadata": {},
   "source": [
    "### Plot distribution of BusTime pings throughout the day.  Look for sudden dips (gaps)."
   ]
  },
  {
   "cell_type": "code",
   "execution_count": 12,
   "metadata": {
    "collapsed": false
   },
   "outputs": [
    {
     "data": {
      "text/plain": [
       "<matplotlib.axes._subplots.AxesSubplot at 0x7f58356ada50>"
      ]
     },
     "execution_count": 12,
     "metadata": {},
     "output_type": "execute_result"
    },
    {
     "data": {
      "image/png": "[encoded data removed]",
      "text/plain": [
       "<matplotlib.figure.Figure at 0x7f58e9d6bf90>"
      ]
     },
     "metadata": {},
     "output_type": "display_data"
    }
   ],
   "source": [
    "(ts_parsed/ttools.datetime.timedelta(hours=1)).hist(range=(0,30),bins=180)"
   ]
  },
  {
   "cell_type": "markdown",
   "metadata": {},
   "source": [
    "The mid-day gap could be due to the schedule.  Peaks are clearly around rush-hours.\n",
    "### Get the trip_id labels from GTFS which are not found anywhere in BusTime data"
   ]
  },
  {
   "cell_type": "code",
   "execution_count": 13,
   "metadata": {
    "collapsed": false
   },
   "outputs": [
    {
     "data": {
      "text/plain": [
       "2303"
      ]
     },
     "execution_count": 13,
     "metadata": {},
     "output_type": "execute_result"
    }
   ],
   "source": [
    "set1 = set(gtfs_trip_ids)\n",
    "set2 = set(bustime_trip_ids)\n",
    "\n",
    "unmatched = set1.symmetric_difference(set2) # goes both ways\n",
    "len(unmatched)"
   ]
  },
  {
   "cell_type": "markdown",
   "metadata": {},
   "source": [
    "Show routes with percentage of trips missing any data"
   ]
  },
  {
   "cell_type": "code",
   "execution_count": 14,
   "metadata": {
    "collapsed": false
   },
   "outputs": [
    {
     "data": {
      "text/plain": [
       "route_id\n",
       "B32      0.041379\n",
       "Q102     0.036613\n",
       "Q15A     0.034667\n",
       "Q12      0.032725\n",
       "Q13      0.031881\n",
       "M35      0.029489\n",
       "Q15      0.028133\n",
       "M60+     0.025103\n",
       "Q3       0.023859\n",
       "S52      0.023283\n",
       "M72      0.022590\n",
       "BX18     0.021684\n",
       "Q44      0.021555\n",
       "Q20A     0.020958\n",
       "Q32      0.020765\n",
       "Q18      0.019908\n",
       "Q84      0.018349\n",
       "BXM1     0.016807\n",
       "Q22      0.016094\n",
       "M20      0.015611\n",
       "Q50      0.015184\n",
       "M57      0.015162\n",
       "M116     0.015102\n",
       "Q83      0.014469\n",
       "Q19      0.014245\n",
       "M104     0.014124\n",
       "Q27      0.013975\n",
       "Q47      0.013932\n",
       "M34A+    0.013271\n",
       "S59      0.012927\n",
       "           ...   \n",
       "S96           NaN\n",
       "S98           NaN\n",
       "X10           NaN\n",
       "X10B          NaN\n",
       "X11           NaN\n",
       "X12           NaN\n",
       "X14           NaN\n",
       "X15           NaN\n",
       "X17A          NaN\n",
       "X17J          NaN\n",
       "X19           NaN\n",
       "X2            NaN\n",
       "X21           NaN\n",
       "X22           NaN\n",
       "X22A          NaN\n",
       "X28           NaN\n",
       "X3            NaN\n",
       "X30           NaN\n",
       "X31           NaN\n",
       "X37           NaN\n",
       "X38           NaN\n",
       "X4            NaN\n",
       "X42           NaN\n",
       "X5            NaN\n",
       "X63           NaN\n",
       "X64           NaN\n",
       "X68           NaN\n",
       "X7            NaN\n",
       "X8            NaN\n",
       "X9            NaN\n",
       "dtype: float64"
      ]
     },
     "execution_count": 14,
     "metadata": {},
     "output_type": "execute_result"
    }
   ],
   "source": [
    "pct_missing_by_route = trips.loc[unmatched].groupby('route_id').size()/trips.groupby('route_id').size()\n",
    "pct_missing_by_route.sort(ascending=False)\n",
    "pct_missing_by_route"
   ]
  },
  {
   "cell_type": "markdown",
   "metadata": {},
   "source": [
    "### Show distribution of missing data according to the hour of service (based on stop times)\n",
    "This should be roughly inverse to the data density plotted initially."
   ]
  },
  {
   "cell_type": "code",
   "execution_count": 15,
   "metadata": {
    "collapsed": false
   },
   "outputs": [
    {
     "data": {
      "text/plain": [
       "<matplotlib.axes._subplots.AxesSubplot at 0x7f58356eda10>"
      ]
     },
     "execution_count": 15,
     "metadata": {},
     "output_type": "execute_result"
    },
    {
     "data": {
      "image/png": "[encoded data removed]",
      "text/plain": [
       "<matplotlib.figure.Figure at 0x7f58356a84d0>"
      ]
     },
     "metadata": {},
     "output_type": "display_data"
    }
   ],
   "source": [
    "stop_hour = stop_times.reset_index().set_index('trip_id')['arrival_time'].apply(ttools.parseTime)/ttools.datetime.timedelta(hours=1)\n",
    "stop_hour.loc[unmatched].hist(bins=48)"
   ]
  },
  {
   "cell_type": "markdown",
   "metadata": {},
   "source": [
    "### Compare distributions of trip duration, all trips from GTFS versus the missing trips. "
   ]
  },
  {
   "cell_type": "code",
   "execution_count": 16,
   "metadata": {
    "collapsed": false
   },
   "outputs": [
    {
     "data": {
      "text/plain": [
       "<matplotlib.axes._subplots.AxesSubplot at 0x7f583576a310>"
      ]
     },
     "execution_count": 16,
     "metadata": {},
     "output_type": "execute_result"
    },
    {
     "data": {
      "image/png": "[encoded data removed]",
      "text/plain": [
       "<matplotlib.figure.Figure at 0x7f58dd065250>"
      ]
     },
     "metadata": {},
     "output_type": "display_data"
    }
   ],
   "source": [
    "# Distribution of trip durations - ALL scheduled trips\n",
    "pd.Series(stop_hour.groupby(level=0).max() - stop_hour.groupby(level=0).min()).hist(bins=40)"
   ]
  },
  {
   "cell_type": "code",
   "execution_count": 17,
   "metadata": {
    "collapsed": false
   },
   "outputs": [
    {
     "data": {
      "text/plain": [
       "<matplotlib.axes._subplots.AxesSubplot at 0x7f5835711c50>"
      ]
     },
     "execution_count": 17,
     "metadata": {},
     "output_type": "execute_result"
    },
    {
     "data": {
      "image/png": "[encoded data removed]",
      "text/plain": [
       "<matplotlib.figure.Figure at 0x7f5835709c90>"
      ]
     },
     "metadata": {},
     "output_type": "display_data"
    }
   ],
   "source": [
    "# Distribution of trip durations - MISSING trips only\n",
    "pd.Series(stop_hour.loc[unmatched].groupby(level=0).max() - stop_hour.loc[unmatched].groupby(level=0).min()).hist(bins=40)"
   ]
  },
  {
   "cell_type": "markdown",
   "metadata": {},
   "source": [
    "## Analyze expected trip data-density, but agnostic to trip_id\n",
    "Plot a comparison (GTFS versus BusTime) of how many vehicles are on an active trip throughout the day."
   ]
  },
  {
   "cell_type": "code",
   "execution_count": 18,
   "metadata": {
    "collapsed": false
   },
   "outputs": [],
   "source": [
    "gtfs_trip_ids[16130] = ''\n",
    "str_list = filter(None, gtfs_trip_ids)"
   ]
  },
  {
   "cell_type": "code",
   "execution_count": 19,
   "metadata": {
    "collapsed": false
   },
   "outputs": [
    {
     "data": {
      "text/plain": [
       "32691"
      ]
     },
     "execution_count": 19,
     "metadata": {},
     "output_type": "execute_result"
    }
   ],
   "source": [
    "len(str_list)"
   ]
  },
  {
   "cell_type": "code",
   "execution_count": 20,
   "metadata": {
    "collapsed": true
   },
   "outputs": [],
   "source": [
    "gtfs_trip_ids = np.asarray(str_list)"
   ]
  },
  {
   "cell_type": "code",
   "execution_count": 27,
   "metadata": {
    "collapsed": false
   },
   "outputs": [],
   "source": [
    "start_bins = (10*stop_hour.loc[gtfs_trip_ids].groupby(level=0).min()).apply(np.floor).dropna().astype(int)\n",
    "end_bins = (10*stop_hour.loc[gtfs_trip_ids].groupby(level=0).max()).apply(np.floor).dropna().astype(int)"
   ]
  },
  {
   "cell_type": "code",
   "execution_count": 28,
   "metadata": {
    "collapsed": false
   },
   "outputs": [],
   "source": [
    "# time is divided into bins of 0.1 hours (6 minutes)\n",
    "# make a 2D binary matrix indicating when the trip is active during each time bin.\n",
    "time_bin_matrix = np.zeros((len(start_bins),max(end_bins)+1))\n",
    "counter = 0\n",
    "for i,v_start in start_bins.iteritems():\n",
    "    v_end = end_bins.loc[i]\n",
    "    time_bin_matrix[counter,v_start:v_end] = 1\n",
    "    counter += 1"
   ]
  },
  {
   "cell_type": "markdown",
   "metadata": {},
   "source": [
    "Now do the same from the BusTime data.  Danger - vehicles may be recording data even when not on an active trip."
   ]
  },
  {
   "cell_type": "code",
   "execution_count": 29,
   "metadata": {
    "collapsed": false
   },
   "outputs": [],
   "source": [
    "start_bins_bustime = (10*(ts_parsed.groupby(level=(1,3)).min()/ttools.datetime.timedelta(hours=1))).apply(np.floor).astype(int)\n",
    "end_bins_bustime = (10*(ts_parsed.groupby(level=(1,3)).max()/ttools.datetime.timedelta(hours=1))).apply(np.floor).astype(int)\n",
    "time_bin_matrix_bustime = np.zeros((len(start_bins_bustime),max(end_bins_bustime)+1))\n",
    "counter = 0\n",
    "for i,v_start in start_bins_bustime.iteritems():\n",
    "    v_end = end_bins_bustime.loc[i]\n",
    "    time_bin_matrix_bustime[counter,v_start:v_end] = 1\n",
    "    counter += 1"
   ]
  },
  {
   "cell_type": "markdown",
   "metadata": {
    "collapsed": true
   },
   "source": [
    "### Plot the comparison.\n",
    "Note that the BusTime data tracks the expected density nicely."
   ]
  },
  {
   "cell_type": "code",
   "execution_count": 30,
   "metadata": {
    "collapsed": false
   },
   "outputs": [
    {
     "data": {
      "text/plain": [
       "<matplotlib.axes._subplots.AxesSubplot at 0x7f5835a446d0>"
      ]
     },
     "execution_count": 30,
     "metadata": {},
     "output_type": "execute_result"
    },
    {
     "data": {
      "image/png": "[encoded data removed]",
      "text/plain": [
       "<matplotlib.figure.Figure at 0x7f58357a3050>"
      ]
     },
     "metadata": {},
     "output_type": "display_data"
    }
   ],
   "source": [
    "pd.DataFrame(time_bin_matrix_bustime.sum(axis=0),columns=['BusTime_Vehicles']).join(pd.Series(time_bin_matrix.sum(axis=0),name='GTFS_Vehicles')).plot()"
   ]
  },
  {
   "cell_type": "code",
   "execution_count": null,
   "metadata": {
    "collapsed": true
   },
   "outputs": [],
   "source": []
  }
 ],
 "metadata": {
  "kernelspec": {
   "display_name": "Python 2",
   "language": "python",
   "name": "python2"
  },
  "language_info": {
   "codemirror_mode": {
    "name": "ipython",
    "version": 2
   },
   "file_extension": ".py",
   "mimetype": "text/x-python",
   "name": "python",
   "nbconvert_exporter": "python",
   "pygments_lexer": "ipython2",
   "version": "2.7.11"
  }
 },
 "nbformat": 4,
 "nbformat_minor": 0
}
