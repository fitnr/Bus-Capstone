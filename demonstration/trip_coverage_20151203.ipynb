{
 "cells": [
  {
   "cell_type": "code",
   "execution_count": 1,
   "metadata": {
    "collapsed": true
   },
   "outputs": [],
   "source": [
    "import os\n",
    "import pandas as pd\n",
    "import numpy as np\n",
    "import sys\n",
    "sys.path.append('/gpfs2/projects/project-bus_capstone_2016/workspace/mu529/Bus-Capstone')\n",
    "import ttools #homemade module\n",
    "import gtfs #homemade module\n",
    "os.chdir('/gpfs2/projects/project-bus_capstone_2016/workspace/share')\n",
    "%matplotlib inline"
   ]
  },
  {
   "cell_type": "code",
   "execution_count": 2,
   "metadata": {
    "collapsed": false
   },
   "outputs": [
    {
     "name": "stdout",
     "output_type": "stream",
     "text": [
      "Finished loading GTFS data.\n"
     ]
    }
   ],
   "source": [
    "# get all the schedule data. (subset can be created later)\n",
    "trips = gtfs.load_trips('gtfs_nov15/')\n",
    "stops = gtfs.load_stops('gtfs_nov15/')\n",
    "stop_times, tz_sched = gtfs.load_stop_times('gtfs_nov15/')\n",
    "tcal = gtfs.TransitCalendar('gtfs_nov15/')\n",
    "print 'Finished loading GTFS data.'"
   ]
  },
  {
   "cell_type": "markdown",
   "metadata": {
    "collapsed": true
   },
   "source": [
    "# get the sample of parsed AVL data.\n",
    "Clean MTA prefixes from trip_id"
   ]
  },
  {
   "cell_type": "code",
   "execution_count": 3,
   "metadata": {
    "collapsed": false
   },
   "outputs": [],
   "source": [
    "# get the sample of parsed AVL data.  Beware, large files take more time.\n",
    "bustime = pd.read_csv('spark_parse/1203.txt',header=None)\n",
    "\n",
    "# beware!  Bonan is still working on organizing the extract files.  these columns may change.\n",
    "bustime.columns = ['route','lat','lon','timestamp','vehicle_id','trip_id','trip_date','shape_id',\n",
    "                   'next_stop_id','dist_from_stop','stop_dist_on_trip','presentable_dist']\n",
    "\n",
    "bustime.drop_duplicates(['vehicle_id','timestamp'],inplace=True)\n",
    "bustime['trip_id'] = bustime['trip_id'].str.replace('MTA NYCT_','')\n",
    "bustime['trip_id'] = bustime['trip_id'].str.replace('MTABC_','')\n",
    "bustime.set_index(['route','trip_id','trip_date','vehicle_id'],inplace=True,drop=True)"
   ]
  },
  {
   "cell_type": "code",
   "execution_count": 4,
   "metadata": {
    "collapsed": false
   },
   "outputs": [
    {
     "name": "stdout",
     "output_type": "stream",
     "text": [
      "Finished loading BusTime data and and slicing one day.\n"
     ]
    }
   ],
   "source": [
    "# for demonstration, use a subset. Just get data for one trip-date.\n",
    "tripDateLookup = \"2015-12-03\" # this is a non-holiday Monday\n",
    "bustime = bustime.xs((tripDateLookup),level=(2),drop_level=False)\n",
    "bustime.sort_index(inplace=True)\n",
    "print 'Finished loading BusTime data and and slicing one day.'"
   ]
  },
  {
   "cell_type": "code",
   "execution_count": 5,
   "metadata": {
    "collapsed": true
   },
   "outputs": [],
   "source": [
    "# make a separate column with just the hour, to show distribution without parsing numerically\n",
    "# bustime['timestamp_hour'] = bustime['timestamp'].str[11:13]\n",
    "# bustime.groupby('timestamp_hour').size()"
   ]
  },
  {
   "cell_type": "markdown",
   "metadata": {},
   "source": [
    "## Compare list of trip_id between GTFS schedule and BusTime reported data.\n",
    "First just compare the length of the lists."
   ]
  },
  {
   "cell_type": "code",
   "execution_count": 6,
   "metadata": {
    "collapsed": false
   },
   "outputs": [],
   "source": [
    "# Filter the service_ids for those applicable to this date\n",
    "# gtfs.TransitCalendar class now correctly adjusts for exception dates\n",
    "active_services = tcal.get_service_ids('2015-12-03') \n",
    "# Load a sepate trips dataframe but use only one index level\n",
    "trips_ = gtfs.load_trips('gtfs_nov15/').reset_index().set_index(['service_id'])\n",
    "# Generate list of all trip_ids that are scheduled for those service_ids\n",
    "gtfs_trip_ids = trips_.loc[active_services]['trip_id'].unique()\n",
    "# Generate list of all trip_ids in BusTime subset\n",
    "bustime_trip_ids = bustime.index.get_level_values(1).unique()"
   ]
  },
  {
   "cell_type": "code",
   "execution_count": 7,
   "metadata": {
    "collapsed": false
   },
   "outputs": [
    {
     "data": {
      "text/plain": [
       "54272"
      ]
     },
     "execution_count": 7,
     "metadata": {},
     "output_type": "execute_result"
    }
   ],
   "source": [
    "len(gtfs_trip_ids)"
   ]
  },
  {
   "cell_type": "code",
   "execution_count": 8,
   "metadata": {
    "collapsed": false
   },
   "outputs": [
    {
     "data": {
      "text/plain": [
       "51637"
      ]
     },
     "execution_count": 8,
     "metadata": {},
     "output_type": "execute_result"
    }
   ],
   "source": [
    "len(bustime_trip_ids)"
   ]
  },
  {
   "cell_type": "markdown",
   "metadata": {},
   "source": [
    "## There appears to be a big difference in the trip_id lists.\n",
    "Return the non-matching trip_ids and describe a few things about those trips, based on the GTFS data."
   ]
  },
  {
   "cell_type": "code",
   "execution_count": 20,
   "metadata": {
    "collapsed": false
   },
   "outputs": [],
   "source": [
    "# parse times into numeric\n",
    "ts_parsed = bustime['timestamp'].apply(ttools.parseActualTime,tdate='2015-12-03')"
   ]
  },
  {
   "cell_type": "markdown",
   "metadata": {},
   "source": [
    "### Plot distribution of BusTime pings throughout the day.  Look for sudden dips (gaps)."
   ]
  },
  {
   "cell_type": "code",
   "execution_count": 21,
   "metadata": {
    "collapsed": false
   },
   "outputs": [
    {
     "data": {
      "text/plain": [
       "<matplotlib.axes._subplots.AxesSubplot at 0x7fdbc6acb0d0>"
      ]
     },
     "execution_count": 21,
     "metadata": {},
     "output_type": "execute_result"
    },
    {
     "data": {
      "image/png": "[encoded data removed]",
      "text/plain": [
       "<matplotlib.figure.Figure at 0x7fdbacd904d0>"
      ]
     },
     "metadata": {},
     "output_type": "display_data"
    }
   ],
   "source": [
    "(ts_parsed/ttools.datetime.timedelta(hours=1)).hist(range=(0,30),bins=180)"
   ]
  },
  {
   "cell_type": "markdown",
   "metadata": {},
   "source": [
    "There appears to major gaps in the mid-morning and mid-afternoon windows.\n",
    "### Get the trip_id labels from GTFS which are not found anywhere in BusTime data"
   ]
  },
  {
   "cell_type": "code",
   "execution_count": 22,
   "metadata": {
    "collapsed": false
   },
   "outputs": [
    {
     "data": {
      "text/plain": [
       "2635"
      ]
     },
     "execution_count": 22,
     "metadata": {},
     "output_type": "execute_result"
    }
   ],
   "source": [
    "set1 = set(gtfs_trip_ids)\n",
    "set2 = set(bustime_trip_ids)\n",
    "\n",
    "unmatched = set1.symmetric_difference(set2) # goes both ways\n",
    "len(unmatched)"
   ]
  },
  {
   "cell_type": "markdown",
   "metadata": {},
   "source": [
    "Show routes with percentage of trips missing any data"
   ]
  },
  {
   "cell_type": "code",
   "execution_count": 23,
   "metadata": {
    "collapsed": false
   },
   "outputs": [
    {
     "data": {
      "text/plain": [
       "route_id\n",
       "X11     0.036036\n",
       "X42     0.032258\n",
       "S84     0.031250\n",
       "Q07     0.029874\n",
       "Q49     0.029865\n",
       "BX34    0.028668\n",
       "Q40     0.028461\n",
       "Q09     0.026354\n",
       "S90     0.025862\n",
       "X30     0.025424\n",
       "Q06     0.024207\n",
       "S96     0.023438\n",
       "Q100    0.023313\n",
       "QM25    0.023256\n",
       "X38     0.023077\n",
       "X3      0.022989\n",
       "Q114    0.021807\n",
       "X14     0.021583\n",
       "Q39     0.021309\n",
       "M21     0.021220\n",
       "QM17    0.020833\n",
       "Q69     0.020806\n",
       "M57     0.020435\n",
       "X37     0.018634\n",
       "Q37     0.018494\n",
       "QM4     0.018433\n",
       "M8      0.018219\n",
       "X2      0.018100\n",
       "M35     0.017038\n",
       "QM6     0.016878\n",
       "          ...   \n",
       "Q103         NaN\n",
       "Q104         NaN\n",
       "Q44          NaN\n",
       "Q70          NaN\n",
       "QM11         NaN\n",
       "QM12         NaN\n",
       "QM15         NaN\n",
       "QM16         NaN\n",
       "QM18         NaN\n",
       "QM21         NaN\n",
       "QM24         NaN\n",
       "QM3          NaN\n",
       "QM8          NaN\n",
       "S81          NaN\n",
       "S86          NaN\n",
       "S89          NaN\n",
       "S91          NaN\n",
       "S92          NaN\n",
       "S98          NaN\n",
       "X15          NaN\n",
       "X17          NaN\n",
       "X19          NaN\n",
       "X21          NaN\n",
       "X22A         NaN\n",
       "X28          NaN\n",
       "X63          NaN\n",
       "X64          NaN\n",
       "X68          NaN\n",
       "X8           NaN\n",
       "X9           NaN\n",
       "dtype: float64"
      ]
     },
     "execution_count": 23,
     "metadata": {},
     "output_type": "execute_result"
    }
   ],
   "source": [
    "pct_missing_by_route = trips.loc[unmatched].groupby('route_id').size()/trips.groupby('route_id').size()\n",
    "pct_missing_by_route.sort(ascending=False)\n",
    "pct_missing_by_route"
   ]
  },
  {
   "cell_type": "markdown",
   "metadata": {},
   "source": [
    "### Show distribution of missing data according to the hour of service (based on stop times)\n",
    "This should be roughly inverse to the data density plotted initially."
   ]
  },
  {
   "cell_type": "code",
   "execution_count": 13,
   "metadata": {
    "collapsed": false
   },
   "outputs": [
    {
     "data": {
      "text/plain": [
       "<matplotlib.axes._subplots.AxesSubplot at 0x7fdbad3f2c50>"
      ]
     },
     "execution_count": 13,
     "metadata": {},
     "output_type": "execute_result"
    },
    {
     "data": {
      "image/png": "[encoded data removed]",
      "text/plain": [
       "<matplotlib.figure.Figure at 0x7fdbaa9cf1d0>"
      ]
     },
     "metadata": {},
     "output_type": "display_data"
    }
   ],
   "source": [
    "stop_hour = stop_times.reset_index().set_index('trip_id')['arrival_time'].apply(ttools.parseTime)/ttools.datetime.timedelta(hours=1)\n",
    "stop_hour.loc[unmatched].hist(bins=48)"
   ]
  },
  {
   "cell_type": "markdown",
   "metadata": {},
   "source": [
    "### Compare distributions of trip duration, all trips from GTFS versus the missing trips. "
   ]
  },
  {
   "cell_type": "code",
   "execution_count": 14,
   "metadata": {
    "collapsed": false
   },
   "outputs": [
    {
     "data": {
      "text/plain": [
       "<matplotlib.axes._subplots.AxesSubplot at 0x7fdbad6b2b50>"
      ]
     },
     "execution_count": 14,
     "metadata": {},
     "output_type": "execute_result"
    },
    {
     "data": {
      "image/png": "[encoded data removed]",
      "text/plain": [
       "<matplotlib.figure.Figure at 0x7fdbaa054390>"
      ]
     },
     "metadata": {},
     "output_type": "display_data"
    }
   ],
   "source": [
    "# Distribution of trip durations - ALL scheduled trips\n",
    "pd.Series(stop_hour.groupby(level=0).max() - stop_hour.groupby(level=0).min()).hist(bins=40)"
   ]
  },
  {
   "cell_type": "code",
   "execution_count": 15,
   "metadata": {
    "collapsed": false
   },
   "outputs": [
    {
     "data": {
      "text/plain": [
       "<matplotlib.axes._subplots.AxesSubplot at 0x7fdba9e2b690>"
      ]
     },
     "execution_count": 15,
     "metadata": {},
     "output_type": "execute_result"
    },
    {
     "data": {
      "image/png": "[encoded data removed]",
      "text/plain": [
       "<matplotlib.figure.Figure at 0x7fdbaa1d5b10>"
      ]
     },
     "metadata": {},
     "output_type": "display_data"
    }
   ],
   "source": [
    "# Distribution of trip durations - MISSING trips only\n",
    "pd.Series(stop_hour.loc[unmatched].groupby(level=0).max() - stop_hour.loc[unmatched].groupby(level=0).min()).hist(bins=40)"
   ]
  },
  {
   "cell_type": "markdown",
   "metadata": {},
   "source": [
    "## Analyze expected trip data-density, but agnostic to trip_id\n",
    "Plot a comparison (GTFS versus BusTime) of how many vehicles are on an active trip throughout the day."
   ]
  },
  {
   "cell_type": "code",
   "execution_count": 16,
   "metadata": {
    "collapsed": false
   },
   "outputs": [],
   "source": [
    "start_bins = (10*stop_hour.loc[gtfs_trip_ids].groupby(level=0).min()).apply(np.floor).astype(int)\n",
    "end_bins = (10*stop_hour.loc[gtfs_trip_ids].groupby(level=0).max()).apply(np.floor).astype(int)"
   ]
  },
  {
   "cell_type": "code",
   "execution_count": 17,
   "metadata": {
    "collapsed": false
   },
   "outputs": [],
   "source": [
    "# time is divided into bins of 0.1 hours (6 minutes)\n",
    "# make a 2D binary matrix indicating when the trip is active during each time bin.\n",
    "time_bin_matrix = np.zeros((len(start_bins),max(end_bins)+1))\n",
    "counter = 0\n",
    "for i,v_start in start_bins.iteritems():\n",
    "    v_end = end_bins.loc[i]\n",
    "    time_bin_matrix[counter,v_start:v_end] = 1\n",
    "    counter += 1"
   ]
  },
  {
   "cell_type": "markdown",
   "metadata": {},
   "source": [
    "Now do the same from the BusTime data.  Danger - vehicles may be recording data even when not on an active trip."
   ]
  },
  {
   "cell_type": "code",
   "execution_count": 24,
   "metadata": {
    "collapsed": false
   },
   "outputs": [],
   "source": [
    "start_bins_bustime = (10*(ts_parsed.groupby(level=(1,3)).min()/ttools.datetime.timedelta(hours=1))).apply(np.floor).astype(int)\n",
    "end_bins_bustime = (10*(ts_parsed.groupby(level=(1,3)).max()/ttools.datetime.timedelta(hours=1))).apply(np.floor).astype(int)\n",
    "time_bin_matrix_bustime = np.zeros((len(start_bins_bustime),max(end_bins_bustime)+1))\n",
    "counter = 0\n",
    "for i,v_start in start_bins_bustime.iteritems():\n",
    "    v_end = end_bins_bustime.loc[i]\n",
    "    time_bin_matrix_bustime[counter,v_start:v_end] = 1\n",
    "    counter += 1"
   ]
  },
  {
   "cell_type": "markdown",
   "metadata": {
    "collapsed": true
   },
   "source": [
    "### Plot the comparison.\n",
    "Note that the BusTime data tracks the expected density nicely, except in two obvious periods."
   ]
  },
  {
   "cell_type": "code",
   "execution_count": 25,
   "metadata": {
    "collapsed": false
   },
   "outputs": [
    {
     "data": {
      "text/plain": [
       "<matplotlib.axes._subplots.AxesSubplot at 0x7fdbaee4a8d0>"
      ]
     },
     "execution_count": 25,
     "metadata": {},
     "output_type": "execute_result"
    },
    {
     "data": {
      "image/png": "[encoded data removed]",
      "text/plain": [
       "<matplotlib.figure.Figure at 0x7fdbad0bb550>"
      ]
     },
     "metadata": {},
     "output_type": "display_data"
    }
   ],
   "source": [
    "pd.DataFrame(time_bin_matrix_bustime.sum(axis=0),columns=['BusTime_Vehicles']).join(pd.Series(time_bin_matrix.sum(axis=0),name='GTFS_Vehicles')).plot()"
   ]
  },
  {
   "cell_type": "code",
   "execution_count": null,
   "metadata": {
    "collapsed": true
   },
   "outputs": [],
   "source": []
  }
 ],
 "metadata": {
  "kernelspec": {
   "display_name": "Python 2",
   "language": "python",
   "name": "python2"
  },
  "language_info": {
   "codemirror_mode": {
    "name": "ipython",
    "version": 2
   },
   "file_extension": ".py",
   "mimetype": "text/x-python",
   "name": "python",
   "nbconvert_exporter": "python",
   "pygments_lexer": "ipython2",
   "version": "2.7.11"
  }
 },
 "nbformat": 4,
 "nbformat_minor": 0
}
