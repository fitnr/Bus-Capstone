{
 "cells": [
  {
   "cell_type": "code",
   "execution_count": 1,
   "metadata": {
    "collapsed": true
   },
   "outputs": [],
   "source": [
    "# -*- coding: utf-8 -*-\n",
    "\"\"\"\n",
    "The script identifies an example of unstable pairing of trip_id and vehicle_id.\n",
    "\"\"\"\n",
    "\n",
    "import os\n",
    "import pandas as pd\n",
    "import matplotlib.pyplot as plt\n",
    "from IPython.display import HTML\n",
    "%matplotlib inline \n",
    "\n",
    "os.chdir('/gpfs2/projects/project-bus_capstone_2016/workspace/share')"
   ]
  },
  {
   "cell_type": "markdown",
   "metadata": {},
   "source": [
    "## 1. Get Bus Time data sample"
   ]
  },
  {
   "cell_type": "code",
   "execution_count": 2,
   "metadata": {
    "collapsed": false
   },
   "outputs": [
    {
     "name": "stdout",
     "output_type": "stream",
     "text": [
      "Finished loading BusTime data and and slicing one day.\n"
     ]
    }
   ],
   "source": [
    "# get the sample of parsed AVL data.  Beware, large files take more time.\n",
    "bustime = pd.read_csv('spark_parse/1203.txt',header=None)\n",
    "\n",
    "# beware!  Bonan is still working on organizing the extract files.  these columns may change.\n",
    "bustime.columns = ['route','lat','lon','timestamp','vehicle_id','trip_id','trip_date','shape_id',\n",
    "                   'next_stop_id','dist_from_stop','stop_dist_on_trip','presentable_dist']\n",
    "\n",
    "bustime.drop_duplicates(['vehicle_id','timestamp'],inplace=True)\n",
    "bustime['trip_id'] = bustime['trip_id'].str.replace('MTA NYCT_','')\n",
    "bustime['trip_id'] = bustime['trip_id'].str.replace('MTABC_','')\n",
    "bustime.set_index(['route','trip_id','trip_date','vehicle_id'],inplace=True,drop=True)\n",
    "\n",
    "# for demonstration, use a subset. Just get data for one trip-date.\n",
    "tripDateLookup = \"2015-12-03\" # this is a non-holiday Thursday\n",
    "bustime = bustime.xs((tripDateLookup),level=(2),drop_level=False)\n",
    "bustime.sort_index(inplace=True)\n",
    "print 'Finished loading BusTime data and and slicing one day.'"
   ]
  },
  {
   "cell_type": "markdown",
   "metadata": {},
   "source": [
    "## 2. Look for cases of multiple vehicles reported on same trip"
   ]
  },
  {
   "cell_type": "code",
   "execution_count": 3,
   "metadata": {
    "collapsed": false
   },
   "outputs": [
    {
     "data": {
      "text/plain": [
       "route        trip_id                          trip_date   vehicle_id   \n",
       "MTA NYCT_B1  UP_D5-Weekday-SDon-068300_B1_27  2015-12-03  MTA NYCT_4867    17\n",
       "             UP_D5-Weekday-SDon-068400_B1_9   2015-12-03  MTA NYCT_5082    41\n",
       "             UP_D5-Weekday-SDon-068800_B1_10  2015-12-03  MTA NYCT_4855    27\n",
       "                                                          MTA NYCT_4988     7\n",
       "             UP_D5-Weekday-SDon-069300_B1_16  2015-12-03  MTA NYCT_7181    36\n",
       "             UP_D5-Weekday-SDon-069300_B1_19  2015-12-03  MTA NYCT_4858    18\n",
       "             UP_D5-Weekday-SDon-069400_B1_23  2015-12-03  MTA NYCT_4989    12\n",
       "                                                          MTA NYCT_7168     1\n",
       "             UP_D5-Weekday-SDon-069800_B1_5   2015-12-03  MTA NYCT_4855     6\n",
       "                                                          MTA NYCT_5007    37\n",
       "             UP_D5-Weekday-SDon-070200_B1_21  2015-12-03  MTA NYCT_5098    27\n",
       "             UP_D5-Weekday-SDon-070800_B1_7   2015-12-03  MTA NYCT_7168    29\n",
       "             UP_D5-Weekday-SDon-071100_B1_6   2015-12-03  MTA NYCT_4888     2\n",
       "                                                          MTA NYCT_4984    33\n",
       "                                                          MTA NYCT_5098    11\n",
       "             UP_D5-Weekday-SDon-071800_B1_23  2015-12-03  MTA NYCT_4989    25\n",
       "             UP_D5-Weekday-SDon-072000_B1_4   2015-12-03  MTA NYCT_4895    32\n",
       "             UP_D5-Weekday-SDon-072300_B1_22  2015-12-03  MTA NYCT_4878    38\n",
       "                                                          MTA NYCT_4989     5\n",
       "             UP_D5-Weekday-SDon-072900_B1_29  2015-12-03  MTA NYCT_4876    34\n",
       "                                                          MTA NYCT_4990     8\n",
       "             UP_D5-Weekday-SDon-073300_B1_12  2015-12-03  MTA NYCT_4892    42\n",
       "             UP_D5-Weekday-SDon-073800_B1_13  2015-12-03  MTA NYCT_5085    10\n",
       "             UP_D5-Weekday-SDon-073800_B1_18  2015-12-03  MTA NYCT_4990    29\n",
       "             UP_D5-Weekday-SDon-074300_B1_27  2015-12-03  MTA NYCT_4867    36\n",
       "             UP_D5-Weekday-SDon-074700_B1_8   2015-12-03  MTA NYCT_4858     1\n",
       "                                                          MTA NYCT_4988    31\n",
       "                                                          MTA NYCT_4990     4\n",
       "             UP_D5-Weekday-SDon-074700_B1_9   2015-12-03  MTA NYCT_5082    23\n",
       "             UP_D5-Weekday-SDon-075100_B1_17  2015-12-03  MTA NYCT_7172    33\n",
       "dtype: int64"
      ]
     },
     "execution_count": 3,
     "metadata": {},
     "output_type": "execute_result"
    }
   ],
   "source": [
    "# look manually for a good example of multiple vehicles grouped to the same trip_id\n",
    "bustime.groupby(level=(0,1,2,3)).size()[170:200]"
   ]
  },
  {
   "cell_type": "markdown",
   "metadata": {},
   "source": [
    "## 3.  Select one example, export data to CARTO, and visualize\n",
    "First look at locations of MULTIPLE VEHICLES on using same trip_id"
   ]
  },
  {
   "cell_type": "code",
   "execution_count": 4,
   "metadata": {
    "collapsed": false
   },
   "outputs": [],
   "source": [
    "# export the lat-lon data associated for that one trip\n",
    "bustime.loc[('MTA NYCT_B1','UP_D5-Weekday-SDon-071100_B1_6','2015-12-03')][['lat','lon']].to_csv('multi_veh_example.csv')"
   ]
  },
  {
   "cell_type": "code",
   "execution_count": 5,
   "metadata": {
    "collapsed": false
   },
   "outputs": [
    {
     "data": {
      "text/html": [
       "\n",
       "<iframe width=\"100%\" height=\"520\" frameborder=\"0\" src=\"https://mu529.carto.com/viz/d52d1c92-4d0a-11e6-8fab-0e3a376473ab/embed_map\" allowfullscreen webkitallowfullscreen mozallowfullscreen oallowfullscreen msallowfullscreen></iframe>\n"
      ],
      "text/plain": [
       "<IPython.core.display.HTML object>"
      ]
     },
     "execution_count": 5,
     "metadata": {},
     "output_type": "execute_result"
    }
   ],
   "source": [
    "framestring = \"\"\"\n",
    "<iframe width=\"100%\" height=\"520\" frameborder=\"0\" src=\"https://mu529.carto.com/viz/d52d1c92-4d0a-11e6-8fab-0e3a376473ab/embed_map\" allowfullscreen webkitallowfullscreen mozallowfullscreen oallowfullscreen msallowfullscreen></iframe>\n",
    "\"\"\"\n",
    "HTML(framestring)"
   ]
  },
  {
   "cell_type": "markdown",
   "metadata": {},
   "source": [
    "Then look at locations of SAME VEHICLE but with CHANGING TRIP_ID."
   ]
  },
  {
   "cell_type": "code",
   "execution_count": 6,
   "metadata": {
    "collapsed": false
   },
   "outputs": [],
   "source": [
    "# export the lat-lon data associated for one vehicle on that route, so we can also see other trips it reports.\n",
    "bustime.xs(('MTA NYCT_B1','2015-12-03','MTA NYCT_5098'),level=(0,2,3)).query('timestamp > \"2015-12-03T11:36:00.000-05:00\"').sort('timestamp')[['lat','lon','timestamp']].to_csv('multi_trip_example.csv')"
   ]
  },
  {
   "cell_type": "code",
   "execution_count": 7,
   "metadata": {
    "collapsed": false
   },
   "outputs": [
    {
     "data": {
      "text/html": [
       "\n",
       "<iframe width=\"100%\" height=\"520\" frameborder=\"0\" src=\"https://mu529.carto.com/viz/2b57cb06-4d0d-11e6-852c-0e8c56e2ffdb/embed_map\" allowfullscreen webkitallowfullscreen mozallowfullscreen oallowfullscreen msallowfullscreen></iframe>\n"
      ],
      "text/plain": [
       "<IPython.core.display.HTML object>"
      ]
     },
     "execution_count": 7,
     "metadata": {},
     "output_type": "execute_result"
    }
   ],
   "source": [
    "framestring = \"\"\"\n",
    "<iframe width=\"100%\" height=\"520\" frameborder=\"0\" src=\"https://mu529.carto.com/viz/2b57cb06-4d0d-11e6-852c-0e8c56e2ffdb/embed_map\" allowfullscreen webkitallowfullscreen mozallowfullscreen oallowfullscreen msallowfullscreen></iframe>\n",
    "\"\"\"\n",
    "HTML(framestring)"
   ]
  },
  {
   "cell_type": "code",
   "execution_count": null,
   "metadata": {
    "collapsed": true
   },
   "outputs": [],
   "source": []
  }
 ],
 "metadata": {
  "kernelspec": {
   "display_name": "Python 2",
   "language": "python",
   "name": "python2"
  },
  "language_info": {
   "codemirror_mode": {
    "name": "ipython",
    "version": 2
   },
   "file_extension": ".py",
   "mimetype": "text/x-python",
   "name": "python",
   "nbconvert_exporter": "python",
   "pygments_lexer": "ipython2",
   "version": "2.7.11"
  }
 },
 "nbformat": 4,
 "nbformat_minor": 0
}
