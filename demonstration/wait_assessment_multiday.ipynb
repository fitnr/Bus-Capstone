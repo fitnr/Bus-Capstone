{
 "cells": [
  {
   "cell_type": "code",
   "execution_count": 1,
   "metadata": {
    "collapsed": true
   },
   "outputs": [],
   "source": [
    "example_date = '2015-12-03'\n",
    "gtfs_path = '/gpfs2/projects/project-bus_capstone_2016/workspace/share/gtfs/'\n",
    "code_filepath = '..'\n",
    "# contains interpolations for 2015-12-01 thru 2015-12-07\n",
    "interps = '/gpfs2/projects/project-bus_capstone_2016/workspace/share/dec2015_interpolated.csv' \n",
    "\n",
    "import os\n",
    "import pandas as pd\n",
    "import matplotlib.pyplot as plt\n",
    "from scipy import interpolate\n",
    "import time\n",
    "%matplotlib inline  \n",
    "\n",
    "# these modules are homemade\n",
    "os.chdir(code_filepath)\n",
    "import gtfs\n",
    "import ttools"
   ]
  },
  {
   "cell_type": "markdown",
   "metadata": {},
   "source": [
    "### Load schedule data for a single weekday"
   ]
  },
  {
   "cell_type": "code",
   "execution_count": 2,
   "metadata": {
    "collapsed": false
   },
   "outputs": [
    {
     "name": "stdout",
     "output_type": "stream",
     "text": [
      "Finished loading GTFS data.\n"
     ]
    }
   ],
   "source": [
    "# get all the schedule data. (subset can be created later)\n",
    "trips = gtfs.load_trips(example_date,gtfs_path)\n",
    "#stops = gtfs.load_stops('2015-12-03','gtfs/')\n",
    "stop_times, tz_sched = gtfs.load_stop_times(example_date,gtfs_path)\n",
    "tcal=gtfs.TransitCalendar(example_date,gtfs_path)\n",
    "active_services = tcal.get_service_ids(example_date)\n",
    "active_trips = trips.service_id.isin(active_services)\n",
    "active_stops = stop_times.reset_index().set_index('trip_id').loc[active_trips]\n",
    "print 'Finished loading GTFS data.'"
   ]
  },
  {
   "cell_type": "code",
   "execution_count": 3,
   "metadata": {
    "collapsed": false
   },
   "outputs": [],
   "source": [
    "active_stops['sched_hour'] = active_stops.arrival_time.str[:2].astype(int)\n",
    "active_stops['sched_arrival_time'] = active_stops.arrival_time.apply(ttools.parseTime)"
   ]
  },
  {
   "cell_type": "code",
   "execution_count": 4,
   "metadata": {
    "collapsed": false
   },
   "outputs": [],
   "source": [
    "sched_times = active_stops.join(trips['route_id'],how='left')\n",
    "sched_times = sched_times.reset_index().sort(['route_id','sched_arrival_time'])"
   ]
  },
  {
   "cell_type": "markdown",
   "metadata": {},
   "source": [
    "#### Calculate headway between each scheduled arrival"
   ]
  },
  {
   "cell_type": "code",
   "execution_count": 5,
   "metadata": {
    "collapsed": false
   },
   "outputs": [],
   "source": [
    "sec = ttools.datetime.timedelta(seconds=1)\n",
    "sched_times['sched_headway'] = sched_times.groupby(['route_id','stop_id'])['sched_arrival_time'].diff()/sec"
   ]
  },
  {
   "cell_type": "code",
   "execution_count": 6,
   "metadata": {
    "collapsed": false
   },
   "outputs": [
    {
     "data": {
      "text/plain": [
       "<matplotlib.axes._subplots.AxesSubplot at 0x7fc241b04dd0>"
      ]
     },
     "execution_count": 6,
     "metadata": {},
     "output_type": "execute_result"
    },
    {
     "data": {
      "image/png": "[encoded data removed]",
      "text/plain": [
       "<matplotlib.figure.Figure at 0x7fc2ed149dd0>"
      ]
     },
     "metadata": {},
     "output_type": "display_data"
    }
   ],
   "source": [
    "sched_times['sched_headway'].hist(range=(0,1800),bins=30)"
   ]
  },
  {
   "cell_type": "code",
   "execution_count": 7,
   "metadata": {
    "collapsed": true
   },
   "outputs": [],
   "source": [
    "sched_times.set_index(['trip_id','stop_id'],inplace=True,verify_integrity=True)"
   ]
  },
  {
   "cell_type": "markdown",
   "metadata": {},
   "source": [
    "### Load estimated stop times based on Bus Time data (four consecutive weekdays)"
   ]
  },
  {
   "cell_type": "code",
   "execution_count": 8,
   "metadata": {
    "collapsed": false
   },
   "outputs": [],
   "source": [
    "interpolated = pd.read_csv(interps) \n",
    "interpolated = interpolated[interpolated['trip_date']<='2015-12-04']\n",
    "interpolated['interpolated_arrival_time'] = pd.to_timedelta(interpolated['interpolated_arrival_time'])"
   ]
  },
  {
   "cell_type": "markdown",
   "metadata": {},
   "source": [
    "### Join schedule information on the reported TRIP_ID"
   ]
  },
  {
   "cell_type": "code",
   "execution_count": 11,
   "metadata": {
    "collapsed": false
   },
   "outputs": [],
   "source": [
    "merged = interpolated.merge(sched_times[['sched_arrival_time','sched_hour','sched_headway']],how='left',left_on=['TRIP_ID','STOP_ID'],right_index=True)"
   ]
  },
  {
   "cell_type": "code",
   "execution_count": 12,
   "metadata": {
    "collapsed": false
   },
   "outputs": [
    {
     "data": {
      "text/html": [
       "<div style=\"max-height:1000px;max-width:1500px;overflow:auto;\">\n",
       "<table border=\"1\" class=\"dataframe\">\n",
       "  <thead>\n",
       "    <tr style=\"text-align: right;\">\n",
       "      <th></th>\n",
       "      <th></th>\n",
       "      <th></th>\n",
       "      <th>TRIP_ID</th>\n",
       "      <th>vehicle_id</th>\n",
       "      <th>interpolated_arrival_time</th>\n",
       "      <th>sched_arrival_time</th>\n",
       "      <th>sched_hour</th>\n",
       "      <th>sched_headway</th>\n",
       "    </tr>\n",
       "    <tr>\n",
       "      <th>ROUTE_ID</th>\n",
       "      <th>trip_date</th>\n",
       "      <th>STOP_ID</th>\n",
       "      <th></th>\n",
       "      <th></th>\n",
       "      <th></th>\n",
       "      <th></th>\n",
       "      <th></th>\n",
       "      <th></th>\n",
       "    </tr>\n",
       "  </thead>\n",
       "  <tbody>\n",
       "    <tr>\n",
       "      <th rowspan=\"5\" valign=\"top\">BX4</th>\n",
       "      <th rowspan=\"5\" valign=\"top\">2015-12-01</th>\n",
       "      <th>100204</th>\n",
       "      <td>GH_D5-Weekday-SDon-072200_BX44A_115</td>\n",
       "      <td>1232</td>\n",
       "      <td>12:17:12.252435</td>\n",
       "      <td>12:03:27</td>\n",
       "      <td>12</td>\n",
       "      <td>1200</td>\n",
       "    </tr>\n",
       "    <tr>\n",
       "      <th>100206</th>\n",
       "      <td>GH_D5-Weekday-SDon-072200_BX44A_115</td>\n",
       "      <td>1232</td>\n",
       "      <td>12:18:47.609879</td>\n",
       "      <td>12:04:58</td>\n",
       "      <td>12</td>\n",
       "      <td>1200</td>\n",
       "    </tr>\n",
       "    <tr>\n",
       "      <th>100207</th>\n",
       "      <td>GH_D5-Weekday-SDon-072200_BX44A_115</td>\n",
       "      <td>1232</td>\n",
       "      <td>12:20:41.306924</td>\n",
       "      <td>12:06:26</td>\n",
       "      <td>12</td>\n",
       "      <td>1200</td>\n",
       "    </tr>\n",
       "    <tr>\n",
       "      <th>100209</th>\n",
       "      <td>GH_D5-Weekday-SDon-072200_BX44A_115</td>\n",
       "      <td>1232</td>\n",
       "      <td>12:23:33.335432</td>\n",
       "      <td>12:08:00</td>\n",
       "      <td>12</td>\n",
       "      <td>1200</td>\n",
       "    </tr>\n",
       "    <tr>\n",
       "      <th>100211</th>\n",
       "      <td>GH_D5-Weekday-SDon-072200_BX44A_115</td>\n",
       "      <td>1232</td>\n",
       "      <td>12:25:13.534420</td>\n",
       "      <td>12:10:13</td>\n",
       "      <td>12</td>\n",
       "      <td>1217</td>\n",
       "    </tr>\n",
       "  </tbody>\n",
       "</table>\n",
       "</div>"
      ],
      "text/plain": [
       "                                                         TRIP_ID  vehicle_id  \\\n",
       "ROUTE_ID trip_date  STOP_ID                                                    \n",
       "BX4      2015-12-01 100204   GH_D5-Weekday-SDon-072200_BX44A_115        1232   \n",
       "                    100206   GH_D5-Weekday-SDon-072200_BX44A_115        1232   \n",
       "                    100207   GH_D5-Weekday-SDon-072200_BX44A_115        1232   \n",
       "                    100209   GH_D5-Weekday-SDon-072200_BX44A_115        1232   \n",
       "                    100211   GH_D5-Weekday-SDon-072200_BX44A_115        1232   \n",
       "\n",
       "                             interpolated_arrival_time  sched_arrival_time  \\\n",
       "ROUTE_ID trip_date  STOP_ID                                                  \n",
       "BX4      2015-12-01 100204             12:17:12.252435            12:03:27   \n",
       "                    100206             12:18:47.609879            12:04:58   \n",
       "                    100207             12:20:41.306924            12:06:26   \n",
       "                    100209             12:23:33.335432            12:08:00   \n",
       "                    100211             12:25:13.534420            12:10:13   \n",
       "\n",
       "                             sched_hour  sched_headway  \n",
       "ROUTE_ID trip_date  STOP_ID                             \n",
       "BX4      2015-12-01 100204           12           1200  \n",
       "                    100206           12           1200  \n",
       "                    100207           12           1200  \n",
       "                    100209           12           1200  \n",
       "                    100211           12           1217  "
      ]
     },
     "execution_count": 12,
     "metadata": {},
     "output_type": "execute_result"
    }
   ],
   "source": [
    "# beware - processing time for sorting increases exponentially!  this data sample takes 3-5 minutes.\n",
    "merged.set_index(['ROUTE_ID','trip_date','STOP_ID'],inplace=True)\n",
    "merged = merged.set_index('interpolated_arrival_time',append=True,drop=False).sort_index()"
   ]
  },
  {
   "cell_type": "markdown",
   "metadata": {},
   "source": [
    "### Calculate headway between each estimated arrival"
   ]
  },
  {
   "cell_type": "code",
   "execution_count": 15,
   "metadata": {
    "collapsed": false
   },
   "outputs": [
    {
     "data": {
      "text/html": [
       "<div style=\"max-height:1000px;max-width:1500px;overflow:auto;\">\n",
       "<table border=\"1\" class=\"dataframe\">\n",
       "  <thead>\n",
       "    <tr style=\"text-align: right;\">\n",
       "      <th></th>\n",
       "      <th></th>\n",
       "      <th></th>\n",
       "      <th></th>\n",
       "      <th>TRIP_ID</th>\n",
       "      <th>vehicle_id</th>\n",
       "      <th>interpolated_arrival_time</th>\n",
       "      <th>sched_arrival_time</th>\n",
       "      <th>sched_hour</th>\n",
       "      <th>sched_headway</th>\n",
       "      <th>inter_headway</th>\n",
       "    </tr>\n",
       "    <tr>\n",
       "      <th>ROUTE_ID</th>\n",
       "      <th>trip_date</th>\n",
       "      <th>STOP_ID</th>\n",
       "      <th>interpolated_arrival_time</th>\n",
       "      <th></th>\n",
       "      <th></th>\n",
       "      <th></th>\n",
       "      <th></th>\n",
       "      <th></th>\n",
       "      <th></th>\n",
       "      <th></th>\n",
       "    </tr>\n",
       "  </thead>\n",
       "  <tbody>\n",
       "    <tr>\n",
       "      <th rowspan=\"25\" valign=\"top\">B1</th>\n",
       "      <th rowspan=\"25\" valign=\"top\">2015-12-01</th>\n",
       "      <th rowspan=\"11\" valign=\"top\">300000</th>\n",
       "      <th>05:04:59.663721</th>\n",
       "      <td>UP_D5-Weekday-SDon-030500_B1_5</td>\n",
       "      <td>4859</td>\n",
       "      <td>05:04:59.663721</td>\n",
       "      <td>05:05:00</td>\n",
       "      <td>5</td>\n",
       "      <td>1500</td>\n",
       "      <td>NaN</td>\n",
       "    </tr>\n",
       "    <tr>\n",
       "      <th>05:30:42.700777</th>\n",
       "      <td>UP_D5-Weekday-SDon-033000_B1_7</td>\n",
       "      <td>7169</td>\n",
       "      <td>05:30:42.700777</td>\n",
       "      <td>05:30:00</td>\n",
       "      <td>5</td>\n",
       "      <td>1500</td>\n",
       "      <td>1543.037056</td>\n",
       "    </tr>\n",
       "    <tr>\n",
       "      <th>10:09:01.078491</th>\n",
       "      <td>UP_D5-Weekday-SDon-060800_B1_13</td>\n",
       "      <td>7159</td>\n",
       "      <td>10:09:01.078491</td>\n",
       "      <td>10:08:00</td>\n",
       "      <td>10</td>\n",
       "      <td>600</td>\n",
       "      <td>16698.377714</td>\n",
       "    </tr>\n",
       "    <tr>\n",
       "      <th>12:37:29.048152</th>\n",
       "      <td>UP_D5-Weekday-SDon-075100_B1_17</td>\n",
       "      <td>4890</td>\n",
       "      <td>12:37:29.048152</td>\n",
       "      <td>12:36:00</td>\n",
       "      <td>12</td>\n",
       "      <td>240</td>\n",
       "      <td>8907.969661</td>\n",
       "    </tr>\n",
       "    <tr>\n",
       "      <th>12:53:32.616912</th>\n",
       "      <td>UP_D5-Weekday-SDon-076300_B1_11</td>\n",
       "      <td>4880</td>\n",
       "      <td>12:53:32.616912</td>\n",
       "      <td>12:48:00</td>\n",
       "      <td>12</td>\n",
       "      <td>240</td>\n",
       "      <td>963.568760</td>\n",
       "    </tr>\n",
       "    <tr>\n",
       "      <th>13:36:15</th>\n",
       "      <td>UP_D5-Weekday-SDon-081100_B1_9</td>\n",
       "      <td>7144</td>\n",
       "      <td>13:36:15</td>\n",
       "      <td>13:36:00</td>\n",
       "      <td>13</td>\n",
       "      <td>240</td>\n",
       "      <td>2562.383088</td>\n",
       "    </tr>\n",
       "    <tr>\n",
       "      <th>13:49:00.077493</th>\n",
       "      <td>UP_D5-Weekday-SDon-082300_B1_32</td>\n",
       "      <td>7186</td>\n",
       "      <td>13:49:00.077493</td>\n",
       "      <td>13:48:00</td>\n",
       "      <td>13</td>\n",
       "      <td>180</td>\n",
       "      <td>765.077493</td>\n",
       "    </tr>\n",
       "    <tr>\n",
       "      <th>14:00:27.062338</th>\n",
       "      <td>UP_D5-Weekday-SDon-083500_B1_34</td>\n",
       "      <td>7162</td>\n",
       "      <td>14:00:27.062338</td>\n",
       "      <td>14:00:00</td>\n",
       "      <td>14</td>\n",
       "      <td>300</td>\n",
       "      <td>686.984845</td>\n",
       "    </tr>\n",
       "    <tr>\n",
       "      <th>14:07:47.069384</th>\n",
       "      <td>UP_D5-Weekday-SDon-084200_B1_36</td>\n",
       "      <td>7183</td>\n",
       "      <td>14:07:47.069384</td>\n",
       "      <td>14:07:00</td>\n",
       "      <td>14</td>\n",
       "      <td>180</td>\n",
       "      <td>440.007046</td>\n",
       "    </tr>\n",
       "    <tr>\n",
       "      <th>15:10:24.079422</th>\n",
       "      <td>UP_D5-Weekday-SDon-090900_B1_39</td>\n",
       "      <td>5112</td>\n",
       "      <td>15:10:24.079422</td>\n",
       "      <td>15:09:00</td>\n",
       "      <td>15</td>\n",
       "      <td>120</td>\n",
       "      <td>3757.010038</td>\n",
       "    </tr>\n",
       "    <tr>\n",
       "      <th>22:14:54</th>\n",
       "      <td>UP_D5-Weekday-SDon-133000_B1_40</td>\n",
       "      <td>7178</td>\n",
       "      <td>22:14:54</td>\n",
       "      <td>22:10:00</td>\n",
       "      <td>22</td>\n",
       "      <td>660</td>\n",
       "      <td>25469.920578</td>\n",
       "    </tr>\n",
       "    <tr>\n",
       "      <th rowspan=\"14\" valign=\"top\">300002</th>\n",
       "      <th>01:00:57.302967</th>\n",
       "      <td>UP_D5-Weekday-SDon-006000_B1_1</td>\n",
       "      <td>4871</td>\n",
       "      <td>01:00:57.302967</td>\n",
       "      <td>01:00:38</td>\n",
       "      <td>1</td>\n",
       "      <td>NaN</td>\n",
       "      <td>NaN</td>\n",
       "    </tr>\n",
       "    <tr>\n",
       "      <th>02:20:44.756889</th>\n",
       "      <td>UP_D5-Weekday-SDon-014000_B1_1</td>\n",
       "      <td>4871</td>\n",
       "      <td>02:20:44.756889</td>\n",
       "      <td>02:20:38</td>\n",
       "      <td>2</td>\n",
       "      <td>2400</td>\n",
       "      <td>4787.453922</td>\n",
       "    </tr>\n",
       "    <tr>\n",
       "      <th>03:03:45.487774</th>\n",
       "      <td>UP_D5-Weekday-SDon-018000_B1_2</td>\n",
       "      <td>4882</td>\n",
       "      <td>03:03:45.487774</td>\n",
       "      <td>03:00:38</td>\n",
       "      <td>3</td>\n",
       "      <td>2400</td>\n",
       "      <td>2580.730885</td>\n",
       "    </tr>\n",
       "    <tr>\n",
       "      <th>03:40:05.728617</th>\n",
       "      <td>UP_D5-Weekday-SDon-022000_B1_1</td>\n",
       "      <td>4871</td>\n",
       "      <td>03:40:05.728617</td>\n",
       "      <td>03:40:38</td>\n",
       "      <td>3</td>\n",
       "      <td>2400</td>\n",
       "      <td>2180.240843</td>\n",
       "    </tr>\n",
       "    <tr>\n",
       "      <th>05:04:24.933491</th>\n",
       "      <td>UP_D5-Weekday-SDon-030500_B1_5</td>\n",
       "      <td>4859</td>\n",
       "      <td>05:04:24.933491</td>\n",
       "      <td>05:05:38</td>\n",
       "      <td>5</td>\n",
       "      <td>1500</td>\n",
       "      <td>5059.204874</td>\n",
       "    </tr>\n",
       "    <tr>\n",
       "      <th>05:30:18.073091</th>\n",
       "      <td>UP_D5-Weekday-SDon-033000_B1_7</td>\n",
       "      <td>7169</td>\n",
       "      <td>05:30:18.073091</td>\n",
       "      <td>05:30:47</td>\n",
       "      <td>5</td>\n",
       "      <td>1509</td>\n",
       "      <td>1553.139600</td>\n",
       "    </tr>\n",
       "    <tr>\n",
       "      <th>05:45:00.495628</th>\n",
       "      <td>UP_D5-Weekday-SDon-034500_B1_3</td>\n",
       "      <td>5095</td>\n",
       "      <td>05:45:00.495628</td>\n",
       "      <td>05:45:47</td>\n",
       "      <td>5</td>\n",
       "      <td>900</td>\n",
       "      <td>882.422537</td>\n",
       "    </tr>\n",
       "    <tr>\n",
       "      <th>06:02:11.119749</th>\n",
       "      <td>UP_D5-Weekday-SDon-036000_B1_2</td>\n",
       "      <td>4882</td>\n",
       "      <td>06:02:11.119749</td>\n",
       "      <td>06:00:47</td>\n",
       "      <td>6</td>\n",
       "      <td>900</td>\n",
       "      <td>1030.624121</td>\n",
       "    </tr>\n",
       "    <tr>\n",
       "      <th>06:27:14.564137</th>\n",
       "      <td>UP_D5-Weekday-SDon-038600_B1_4</td>\n",
       "      <td>7185</td>\n",
       "      <td>06:27:14.564137</td>\n",
       "      <td>06:26:47</td>\n",
       "      <td>6</td>\n",
       "      <td>660</td>\n",
       "      <td>1503.444388</td>\n",
       "    </tr>\n",
       "    <tr>\n",
       "      <th>06:35:29.907428</th>\n",
       "      <td>UP_D5-Weekday-SDon-039600_B1_9</td>\n",
       "      <td>5083</td>\n",
       "      <td>06:35:29.907428</td>\n",
       "      <td>06:36:47</td>\n",
       "      <td>6</td>\n",
       "      <td>600</td>\n",
       "      <td>495.343291</td>\n",
       "    </tr>\n",
       "    <tr>\n",
       "      <th>06:46:03.693952</th>\n",
       "      <td>UP_D5-Weekday-SDon-040600_B1_5</td>\n",
       "      <td>4859</td>\n",
       "      <td>06:46:03.693952</td>\n",
       "      <td>06:46:47</td>\n",
       "      <td>6</td>\n",
       "      <td>600</td>\n",
       "      <td>633.786524</td>\n",
       "    </tr>\n",
       "    <tr>\n",
       "      <th>07:06:02.962673</th>\n",
       "      <td>UP_D5-Weekday-SDon-042300_B1_15</td>\n",
       "      <td>5086</td>\n",
       "      <td>07:06:02.962673</td>\n",
       "      <td>07:03:57</td>\n",
       "      <td>7</td>\n",
       "      <td>430</td>\n",
       "      <td>1199.268721</td>\n",
       "    </tr>\n",
       "    <tr>\n",
       "      <th>07:23:08.922512</th>\n",
       "      <td>UP_D5-Weekday-SDon-043100_B1_16</td>\n",
       "      <td>4894</td>\n",
       "      <td>07:23:08.922512</td>\n",
       "      <td>07:11:57</td>\n",
       "      <td>7</td>\n",
       "      <td>480</td>\n",
       "      <td>1025.959839</td>\n",
       "    </tr>\n",
       "    <tr>\n",
       "      <th>07:52:57.040049</th>\n",
       "      <td>UP_D5-Weekday-SDon-046800_B1_11</td>\n",
       "      <td>4990</td>\n",
       "      <td>07:52:57.040049</td>\n",
       "      <td>07:49:15</td>\n",
       "      <td>7</td>\n",
       "      <td>600</td>\n",
       "      <td>1788.117537</td>\n",
       "    </tr>\n",
       "  </tbody>\n",
       "</table>\n",
       "</div>"
      ],
      "text/plain": [
       "                                                                               TRIP_ID  \\\n",
       "ROUTE_ID trip_date  STOP_ID interpolated_arrival_time                                    \n",
       "B1       2015-12-01 300000  05:04:59.663721             UP_D5-Weekday-SDon-030500_B1_5   \n",
       "                            05:30:42.700777             UP_D5-Weekday-SDon-033000_B1_7   \n",
       "                            10:09:01.078491            UP_D5-Weekday-SDon-060800_B1_13   \n",
       "                            12:37:29.048152            UP_D5-Weekday-SDon-075100_B1_17   \n",
       "                            12:53:32.616912            UP_D5-Weekday-SDon-076300_B1_11   \n",
       "                            13:36:15                    UP_D5-Weekday-SDon-081100_B1_9   \n",
       "                            13:49:00.077493            UP_D5-Weekday-SDon-082300_B1_32   \n",
       "                            14:00:27.062338            UP_D5-Weekday-SDon-083500_B1_34   \n",
       "                            14:07:47.069384            UP_D5-Weekday-SDon-084200_B1_36   \n",
       "                            15:10:24.079422            UP_D5-Weekday-SDon-090900_B1_39   \n",
       "                            22:14:54                   UP_D5-Weekday-SDon-133000_B1_40   \n",
       "                    300002  01:00:57.302967             UP_D5-Weekday-SDon-006000_B1_1   \n",
       "                            02:20:44.756889             UP_D5-Weekday-SDon-014000_B1_1   \n",
       "                            03:03:45.487774             UP_D5-Weekday-SDon-018000_B1_2   \n",
       "                            03:40:05.728617             UP_D5-Weekday-SDon-022000_B1_1   \n",
       "                            05:04:24.933491             UP_D5-Weekday-SDon-030500_B1_5   \n",
       "                            05:30:18.073091             UP_D5-Weekday-SDon-033000_B1_7   \n",
       "                            05:45:00.495628             UP_D5-Weekday-SDon-034500_B1_3   \n",
       "                            06:02:11.119749             UP_D5-Weekday-SDon-036000_B1_2   \n",
       "                            06:27:14.564137             UP_D5-Weekday-SDon-038600_B1_4   \n",
       "                            06:35:29.907428             UP_D5-Weekday-SDon-039600_B1_9   \n",
       "                            06:46:03.693952             UP_D5-Weekday-SDon-040600_B1_5   \n",
       "                            07:06:02.962673            UP_D5-Weekday-SDon-042300_B1_15   \n",
       "                            07:23:08.922512            UP_D5-Weekday-SDon-043100_B1_16   \n",
       "                            07:52:57.040049            UP_D5-Weekday-SDon-046800_B1_11   \n",
       "\n",
       "                                                       vehicle_id  \\\n",
       "ROUTE_ID trip_date  STOP_ID interpolated_arrival_time               \n",
       "B1       2015-12-01 300000  05:04:59.663721                  4859   \n",
       "                            05:30:42.700777                  7169   \n",
       "                            10:09:01.078491                  7159   \n",
       "                            12:37:29.048152                  4890   \n",
       "                            12:53:32.616912                  4880   \n",
       "                            13:36:15                         7144   \n",
       "                            13:49:00.077493                  7186   \n",
       "                            14:00:27.062338                  7162   \n",
       "                            14:07:47.069384                  7183   \n",
       "                            15:10:24.079422                  5112   \n",
       "                            22:14:54                         7178   \n",
       "                    300002  01:00:57.302967                  4871   \n",
       "                            02:20:44.756889                  4871   \n",
       "                            03:03:45.487774                  4882   \n",
       "                            03:40:05.728617                  4871   \n",
       "                            05:04:24.933491                  4859   \n",
       "                            05:30:18.073091                  7169   \n",
       "                            05:45:00.495628                  5095   \n",
       "                            06:02:11.119749                  4882   \n",
       "                            06:27:14.564137                  7185   \n",
       "                            06:35:29.907428                  5083   \n",
       "                            06:46:03.693952                  4859   \n",
       "                            07:06:02.962673                  5086   \n",
       "                            07:23:08.922512                  4894   \n",
       "                            07:52:57.040049                  4990   \n",
       "\n",
       "                                                       interpolated_arrival_time  \\\n",
       "ROUTE_ID trip_date  STOP_ID interpolated_arrival_time                              \n",
       "B1       2015-12-01 300000  05:04:59.663721                      05:04:59.663721   \n",
       "                            05:30:42.700777                      05:30:42.700777   \n",
       "                            10:09:01.078491                      10:09:01.078491   \n",
       "                            12:37:29.048152                      12:37:29.048152   \n",
       "                            12:53:32.616912                      12:53:32.616912   \n",
       "                            13:36:15                                    13:36:15   \n",
       "                            13:49:00.077493                      13:49:00.077493   \n",
       "                            14:00:27.062338                      14:00:27.062338   \n",
       "                            14:07:47.069384                      14:07:47.069384   \n",
       "                            15:10:24.079422                      15:10:24.079422   \n",
       "                            22:14:54                                    22:14:54   \n",
       "                    300002  01:00:57.302967                      01:00:57.302967   \n",
       "                            02:20:44.756889                      02:20:44.756889   \n",
       "                            03:03:45.487774                      03:03:45.487774   \n",
       "                            03:40:05.728617                      03:40:05.728617   \n",
       "                            05:04:24.933491                      05:04:24.933491   \n",
       "                            05:30:18.073091                      05:30:18.073091   \n",
       "                            05:45:00.495628                      05:45:00.495628   \n",
       "                            06:02:11.119749                      06:02:11.119749   \n",
       "                            06:27:14.564137                      06:27:14.564137   \n",
       "                            06:35:29.907428                      06:35:29.907428   \n",
       "                            06:46:03.693952                      06:46:03.693952   \n",
       "                            07:06:02.962673                      07:06:02.962673   \n",
       "                            07:23:08.922512                      07:23:08.922512   \n",
       "                            07:52:57.040049                      07:52:57.040049   \n",
       "\n",
       "                                                       sched_arrival_time  \\\n",
       "ROUTE_ID trip_date  STOP_ID interpolated_arrival_time                       \n",
       "B1       2015-12-01 300000  05:04:59.663721                      05:05:00   \n",
       "                            05:30:42.700777                      05:30:00   \n",
       "                            10:09:01.078491                      10:08:00   \n",
       "                            12:37:29.048152                      12:36:00   \n",
       "                            12:53:32.616912                      12:48:00   \n",
       "                            13:36:15                             13:36:00   \n",
       "                            13:49:00.077493                      13:48:00   \n",
       "                            14:00:27.062338                      14:00:00   \n",
       "                            14:07:47.069384                      14:07:00   \n",
       "                            15:10:24.079422                      15:09:00   \n",
       "                            22:14:54                             22:10:00   \n",
       "                    300002  01:00:57.302967                      01:00:38   \n",
       "                            02:20:44.756889                      02:20:38   \n",
       "                            03:03:45.487774                      03:00:38   \n",
       "                            03:40:05.728617                      03:40:38   \n",
       "                            05:04:24.933491                      05:05:38   \n",
       "                            05:30:18.073091                      05:30:47   \n",
       "                            05:45:00.495628                      05:45:47   \n",
       "                            06:02:11.119749                      06:00:47   \n",
       "                            06:27:14.564137                      06:26:47   \n",
       "                            06:35:29.907428                      06:36:47   \n",
       "                            06:46:03.693952                      06:46:47   \n",
       "                            07:06:02.962673                      07:03:57   \n",
       "                            07:23:08.922512                      07:11:57   \n",
       "                            07:52:57.040049                      07:49:15   \n",
       "\n",
       "                                                       sched_hour  \\\n",
       "ROUTE_ID trip_date  STOP_ID interpolated_arrival_time               \n",
       "B1       2015-12-01 300000  05:04:59.663721                     5   \n",
       "                            05:30:42.700777                     5   \n",
       "                            10:09:01.078491                    10   \n",
       "                            12:37:29.048152                    12   \n",
       "                            12:53:32.616912                    12   \n",
       "                            13:36:15                           13   \n",
       "                            13:49:00.077493                    13   \n",
       "                            14:00:27.062338                    14   \n",
       "                            14:07:47.069384                    14   \n",
       "                            15:10:24.079422                    15   \n",
       "                            22:14:54                           22   \n",
       "                    300002  01:00:57.302967                     1   \n",
       "                            02:20:44.756889                     2   \n",
       "                            03:03:45.487774                     3   \n",
       "                            03:40:05.728617                     3   \n",
       "                            05:04:24.933491                     5   \n",
       "                            05:30:18.073091                     5   \n",
       "                            05:45:00.495628                     5   \n",
       "                            06:02:11.119749                     6   \n",
       "                            06:27:14.564137                     6   \n",
       "                            06:35:29.907428                     6   \n",
       "                            06:46:03.693952                     6   \n",
       "                            07:06:02.962673                     7   \n",
       "                            07:23:08.922512                     7   \n",
       "                            07:52:57.040049                     7   \n",
       "\n",
       "                                                       sched_headway  \\\n",
       "ROUTE_ID trip_date  STOP_ID interpolated_arrival_time                  \n",
       "B1       2015-12-01 300000  05:04:59.663721                     1500   \n",
       "                            05:30:42.700777                     1500   \n",
       "                            10:09:01.078491                      600   \n",
       "                            12:37:29.048152                      240   \n",
       "                            12:53:32.616912                      240   \n",
       "                            13:36:15                             240   \n",
       "                            13:49:00.077493                      180   \n",
       "                            14:00:27.062338                      300   \n",
       "                            14:07:47.069384                      180   \n",
       "                            15:10:24.079422                      120   \n",
       "                            22:14:54                             660   \n",
       "                    300002  01:00:57.302967                      NaN   \n",
       "                            02:20:44.756889                     2400   \n",
       "                            03:03:45.487774                     2400   \n",
       "                            03:40:05.728617                     2400   \n",
       "                            05:04:24.933491                     1500   \n",
       "                            05:30:18.073091                     1509   \n",
       "                            05:45:00.495628                      900   \n",
       "                            06:02:11.119749                      900   \n",
       "                            06:27:14.564137                      660   \n",
       "                            06:35:29.907428                      600   \n",
       "                            06:46:03.693952                      600   \n",
       "                            07:06:02.962673                      430   \n",
       "                            07:23:08.922512                      480   \n",
       "                            07:52:57.040049                      600   \n",
       "\n",
       "                                                       inter_headway  \n",
       "ROUTE_ID trip_date  STOP_ID interpolated_arrival_time                 \n",
       "B1       2015-12-01 300000  05:04:59.663721                      NaN  \n",
       "                            05:30:42.700777              1543.037056  \n",
       "                            10:09:01.078491             16698.377714  \n",
       "                            12:37:29.048152              8907.969661  \n",
       "                            12:53:32.616912               963.568760  \n",
       "                            13:36:15                     2562.383088  \n",
       "                            13:49:00.077493               765.077493  \n",
       "                            14:00:27.062338               686.984845  \n",
       "                            14:07:47.069384               440.007046  \n",
       "                            15:10:24.079422              3757.010038  \n",
       "                            22:14:54                    25469.920578  \n",
       "                    300002  01:00:57.302967                      NaN  \n",
       "                            02:20:44.756889              4787.453922  \n",
       "                            03:03:45.487774              2580.730885  \n",
       "                            03:40:05.728617              2180.240843  \n",
       "                            05:04:24.933491              5059.204874  \n",
       "                            05:30:18.073091              1553.139600  \n",
       "                            05:45:00.495628               882.422537  \n",
       "                            06:02:11.119749              1030.624121  \n",
       "                            06:27:14.564137              1503.444388  \n",
       "                            06:35:29.907428               495.343291  \n",
       "                            06:46:03.693952               633.786524  \n",
       "                            07:06:02.962673              1199.268721  \n",
       "                            07:23:08.922512              1025.959839  \n",
       "                            07:52:57.040049              1788.117537  "
      ]
     },
     "execution_count": 15,
     "metadata": {},
     "output_type": "execute_result"
    }
   ],
   "source": [
    "sec = ttools.datetime.timedelta(seconds=1)\n",
    "merged['inter_headway'] = merged.groupby(level=(0,1,2))['interpolated_arrival_time'].diff()/sec\n",
    "merged.head(25)"
   ]
  },
  {
   "cell_type": "markdown",
   "metadata": {},
   "source": [
    "## Define labeling and measurement functions"
   ]
  },
  {
   "cell_type": "code",
   "execution_count": 16,
   "metadata": {
    "collapsed": true
   },
   "outputs": [],
   "source": [
    "# Peak Hour is between 07:00 and 08:59, or 16:00 and 18:59\n",
    "def peak_hour_int(x):\n",
    "    if x >= 7 and x < 9:\n",
    "        return True\n",
    "    elif x >= 16 and x < 19:\n",
    "        return True\n",
    "    else:\n",
    "        return False\n",
    "merged['P_hour'] = map(lambda x:peak_hour_int(x),merged['sched_hour'])"
   ]
  },
  {
   "cell_type": "markdown",
   "metadata": {
    "collapsed": false
   },
   "source": [
    "### Wait Assessment"
   ]
  },
  {
   "cell_type": "code",
   "execution_count": 17,
   "metadata": {
    "collapsed": false
   },
   "outputs": [],
   "source": [
    "# Wait Assessment is a True/False condition on the difference between schedule and actual headway, depending on whether it's during Peak Hour\n",
    "def wait_ass(x,y):\n",
    "    if x == True:\n",
    "        if y >= 3*60:\n",
    "            return False\n",
    "        else:\n",
    "            return True\n",
    "    if x == False:\n",
    "        if y>= 5*60:\n",
    "            return False\n",
    "        else:\n",
    "            return True         \n",
    "merged['hw_diff'] = merged['inter_headway']-merged['sched_headway']\n",
    "merged['wait_ass'] = map(lambda x,y:wait_ass(x,y), merged['P_hour'],merged['hw_diff'])"
   ]
  },
  {
   "cell_type": "markdown",
   "metadata": {},
   "source": [
    "## For each route, return the STOP_ID with the most number of estimated arrival times"
   ]
  },
  {
   "cell_type": "code",
   "execution_count": 18,
   "metadata": {
    "collapsed": false
   },
   "outputs": [
    {
     "data": {
      "text/plain": [
       "ROUTE_ID\n",
       "B1      300011\n",
       "B100    350130\n",
       "B103    307840\n",
       "B11     301182\n",
       "B12     301329\n",
       "B13     504094\n",
       "B14     301598\n",
       "B15     301049\n",
       "B16     301625\n",
       "B17     301788\n",
       "B2      300168\n",
       "B20     301963\n",
       "B24     302349\n",
       "B25     302383\n",
       "B26     302464\n",
       "B3      300262\n",
       "B31     302610\n",
       "B32     801164\n",
       "B35     302759\n",
       "B36     307205\n",
       "B37     302914\n",
       "B38     303039\n",
       "B39     403679\n",
       "B4      300026\n",
       "B41     303242\n",
       "B42     303358\n",
       "B43     303765\n",
       "B44     303385\n",
       "B44+    303488\n",
       "B45     303535\n",
       "         ...  \n",
       "X10     404208\n",
       "X10B    405017\n",
       "X11     203200\n",
       "X12     200534\n",
       "X14     903205\n",
       "X15     401797\n",
       "X17     403311\n",
       "X17A    404202\n",
       "X17J    200401\n",
       "X19     202090\n",
       "X2      203344\n",
       "X21     202239\n",
       "X22     202089\n",
       "X22A    250058\n",
       "X27     404225\n",
       "X28     404231\n",
       "X3      201052\n",
       "X30     201571\n",
       "X31     201476\n",
       "X37     300073\n",
       "X38     402130\n",
       "X4      200097\n",
       "X42     401832\n",
       "X5      402851\n",
       "X63     402212\n",
       "X64     500332\n",
       "X68     500074\n",
       "X7      905090\n",
       "X8      200104\n",
       "X9      203344\n",
       "dtype: int64"
      ]
     },
     "execution_count": 18,
     "metadata": {},
     "output_type": "execute_result"
    }
   ],
   "source": [
    "def series_max(s):\n",
    "    return s.idxmax()[1]\n",
    "trip_groups = merged.groupby(level=(0,2)).size()\n",
    "densest_stops = trip_groups.groupby(level=(0)).apply(series_max)\n",
    "densest_stops"
   ]
  },
  {
   "cell_type": "code",
   "execution_count": 19,
   "metadata": {
    "collapsed": false
   },
   "outputs": [
    {
     "data": {
      "text/plain": [
       "wa    0.786535\n",
       "dtype: float64"
      ]
     },
     "execution_count": 19,
     "metadata": {},
     "output_type": "execute_result"
    }
   ],
   "source": [
    "# collect the WA measurements for each route based on its \"most dense\" stop (i.e. the stop with the most number of estimated arrivals)\n",
    "wa_df = pd.DataFrame(columns=['wa'])\n",
    "for route, stop in densest_stops.iteritems():\n",
    "    wa_df.loc[route] = merged.loc[(route,example_date,stop)]['wait_ass'].mean()\n",
    "# check average of all routes collected\n",
    "wa_df.mean()"
   ]
  },
  {
   "cell_type": "code",
   "execution_count": 20,
   "metadata": {
    "collapsed": false
   },
   "outputs": [
    {
     "data": {
      "text/plain": [
       "<matplotlib.axes._subplots.AxesSubplot at 0x7fc20a7d4050>"
      ]
     },
     "execution_count": 20,
     "metadata": {},
     "output_type": "execute_result"
    },
    {
     "data": {
      "image/png": "[encoded data removed]",
      "text/plain": [
       "<matplotlib.figure.Figure at 0x7fc20782a510>"
      ]
     },
     "metadata": {},
     "output_type": "display_data"
    }
   ],
   "source": [
    "# Show disribution of route performance\n",
    "wa_df.wa.hist(range=(0.4,1.0),bins=12)"
   ]
  },
  {
   "cell_type": "markdown",
   "metadata": {},
   "source": [
    "## Best and worst routes (based on off-peak measurement at densest stop)"
   ]
  },
  {
   "cell_type": "code",
   "execution_count": 21,
   "metadata": {
    "collapsed": false
   },
   "outputs": [
    {
     "data": {
      "text/plain": [
       "wa_offpeak    0.819212\n",
       "dtype: float64"
      ]
     },
     "execution_count": 21,
     "metadata": {},
     "output_type": "execute_result"
    }
   ],
   "source": [
    "wa_offpeak_df = pd.DataFrame(columns=['wa_offpeak'])\n",
    "for route, stop in densest_stops.iteritems():\n",
    "    stopslice = merged.loc[(route,example_date,stop)]\n",
    "    wa_offpeak_df.loc[route] = stopslice[stopslice['P_hour']==False]['wait_ass'].mean()\n",
    "wa_offpeak_df.mean()"
   ]
  },
  {
   "cell_type": "code",
   "execution_count": 22,
   "metadata": {
    "collapsed": false
   },
   "outputs": [
    {
     "name": "stdout",
     "output_type": "stream",
     "text": [
      "      wa_offpeak\n",
      "X9             1\n",
      "X14            1\n",
      "Q103           1\n",
      "Q15A           1\n",
      "QM16           1\n",
      "QM24           1\n",
      "QM7            1\n",
      "S84            1\n",
      "S90            1\n",
      "S92            1\n",
      "S94            1\n",
      "S98            1\n",
      "B32            1\n",
      "X10B           1\n",
      "QM18           1\n",
      "X64            1\n",
      "X4             1\n",
      "X22            1\n",
      "X3             1\n",
      "X30            1\n",
      "      wa_offpeak\n",
      "S81     0.000000\n",
      "X15     0.333333\n",
      "QM5     0.451613\n",
      "X63     0.500000\n",
      "X22A    0.500000\n",
      "BM5     0.500000\n",
      "QM8     0.500000\n",
      "X11     0.500000\n",
      "BX20    0.500000\n",
      "QM20    0.571429\n",
      "M35     0.586957\n",
      "M50     0.589744\n",
      "B39     0.600000\n",
      "X2      0.600000\n",
      "M98     0.600000\n",
      "S96     0.600000\n",
      "BX34    0.600000\n",
      "BM3     0.615385\n",
      "BM2     0.615385\n",
      "M57     0.632653\n"
     ]
    }
   ],
   "source": [
    "print (wa_offpeak_df.sort('wa_offpeak',ascending=False)[:20])\n",
    "print (wa_offpeak_df.sort('wa_offpeak',ascending=True)[:20])"
   ]
  }
 ],
 "metadata": {
  "kernelspec": {
   "display_name": "Python 2",
   "language": "python",
   "name": "python2"
  },
  "language_info": {
   "codemirror_mode": {
    "name": "ipython",
    "version": 2
   },
   "file_extension": ".py",
   "mimetype": "text/x-python",
   "name": "python",
   "nbconvert_exporter": "python",
   "pygments_lexer": "ipython2",
   "version": "2.7.11"
  }
 },
 "nbformat": 4,
 "nbformat_minor": 0
}
