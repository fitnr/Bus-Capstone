{
 "cells": [
  {
   "cell_type": "code",
   "execution_count": 1,
   "metadata": {
    "collapsed": true
   },
   "outputs": [],
   "source": [
    "import os\n",
    "import pandas as pd\n",
    "import matplotlib.pyplot as plt\n",
    "# from scipy import interpolate\n",
    "# import time\n",
    "%matplotlib inline  \n",
    "# import sys\n",
    "# sys.path.append('/gpfs2/projects/project-bus_capstone_2016/workspace/jz2308/bus-Capstone')\n",
    "\n",
    "os.chdir('..')\n",
    "import gtfs # homemade module\n",
    "import ttools\n",
    "os.chdir('/gpfs2/projects/project-bus_capstone_2016/workspace/share')"
   ]
  },
  {
   "cell_type": "markdown",
   "metadata": {},
   "source": [
    "## 1. Get data"
   ]
  },
  {
   "cell_type": "code",
   "execution_count": 2,
   "metadata": {
    "collapsed": false
   },
   "outputs": [
    {
     "name": "stdout",
     "output_type": "stream",
     "text": [
      "Finished loading interpolated stop time and schedule data.\n"
     ]
    }
   ],
   "source": [
    "# get all the schedule data. (subset can be created later)\n",
    "# trips = gtfs.load_trips('2015-12-03','gtfs/')\n",
    "# stops = gtfs.load_stops('2015-12-03','gtfs/')\n",
    "stop_times, tz_sched = gtfs.load_stop_times('2015-12-03','gtfs/')\n",
    "# tcal=gtfs.TransitCalendar('2015-12-03')\n",
    "# thurs_services = tcal.get_service_ids('2015-12-03')\n",
    "# thurs_trips = trips.service_id.isin(thurs_services)\n",
    "# thurs_stops = stop_times.reset_index().set_index('trip_id').loc[thurs_trips]\n",
    "interpolated = pd.read_csv('2015-12-03_interpolated.csv')\n",
    "print 'Finished loading interpolated stop time and schedule data.'"
   ]
  },
  {
   "cell_type": "code",
   "execution_count": 3,
   "metadata": {
    "collapsed": false
   },
   "outputs": [
    {
     "data": {
      "text/html": [
       "<div style=\"max-height:1000px;max-width:1500px;overflow:auto;\">\n",
       "<table border=\"1\" class=\"dataframe\">\n",
       "  <thead>\n",
       "    <tr style=\"text-align: right;\">\n",
       "      <th></th>\n",
       "      <th>route</th>\n",
       "      <th>trip_id</th>\n",
       "      <th>trip_date</th>\n",
       "      <th>vehicle_id</th>\n",
       "      <th>stop_id</th>\n",
       "      <th>interpolated_arrival_time</th>\n",
       "    </tr>\n",
       "  </thead>\n",
       "  <tbody>\n",
       "    <tr>\n",
       "      <th>0</th>\n",
       "      <td>MTA NYCT_M101</td>\n",
       "      <td>OH_D5-Weekday-SDon-036500_M101_38</td>\n",
       "      <td>2015-12-03</td>\n",
       "      <td>MTA NYCT_5879</td>\n",
       "      <td>402805</td>\n",
       "      <td>0 days 06:10:56.778916</td>\n",
       "    </tr>\n",
       "    <tr>\n",
       "      <th>1</th>\n",
       "      <td>MTA NYCT_M101</td>\n",
       "      <td>OH_D5-Weekday-SDon-036500_M101_38</td>\n",
       "      <td>2015-12-03</td>\n",
       "      <td>MTA NYCT_5879</td>\n",
       "      <td>405057</td>\n",
       "      <td>0 days 06:14:24.977703</td>\n",
       "    </tr>\n",
       "    <tr>\n",
       "      <th>2</th>\n",
       "      <td>MTA NYCT_M101</td>\n",
       "      <td>OH_D5-Weekday-SDon-036500_M101_38</td>\n",
       "      <td>2015-12-03</td>\n",
       "      <td>MTA NYCT_5879</td>\n",
       "      <td>403416</td>\n",
       "      <td>0 days 06:16:58.526210</td>\n",
       "    </tr>\n",
       "    <tr>\n",
       "      <th>3</th>\n",
       "      <td>MTA NYCT_M101</td>\n",
       "      <td>OH_D5-Weekday-SDon-036500_M101_38</td>\n",
       "      <td>2015-12-03</td>\n",
       "      <td>MTA NYCT_5879</td>\n",
       "      <td>402809</td>\n",
       "      <td>0 days 06:17:25.226045</td>\n",
       "    </tr>\n",
       "    <tr>\n",
       "      <th>4</th>\n",
       "      <td>MTA NYCT_M101</td>\n",
       "      <td>OH_D5-Weekday-SDon-036500_M101_38</td>\n",
       "      <td>2015-12-03</td>\n",
       "      <td>MTA NYCT_5879</td>\n",
       "      <td>402811</td>\n",
       "      <td>0 days 06:18:36.819142</td>\n",
       "    </tr>\n",
       "  </tbody>\n",
       "</table>\n",
       "</div>"
      ],
      "text/plain": [
       "           route                            trip_id   trip_date  \\\n",
       "0  MTA NYCT_M101  OH_D5-Weekday-SDon-036500_M101_38  2015-12-03   \n",
       "1  MTA NYCT_M101  OH_D5-Weekday-SDon-036500_M101_38  2015-12-03   \n",
       "2  MTA NYCT_M101  OH_D5-Weekday-SDon-036500_M101_38  2015-12-03   \n",
       "3  MTA NYCT_M101  OH_D5-Weekday-SDon-036500_M101_38  2015-12-03   \n",
       "4  MTA NYCT_M101  OH_D5-Weekday-SDon-036500_M101_38  2015-12-03   \n",
       "\n",
       "      vehicle_id  stop_id interpolated_arrival_time  \n",
       "0  MTA NYCT_5879   402805    0 days 06:10:56.778916  \n",
       "1  MTA NYCT_5879   405057    0 days 06:14:24.977703  \n",
       "2  MTA NYCT_5879   403416    0 days 06:16:58.526210  \n",
       "3  MTA NYCT_5879   402809    0 days 06:17:25.226045  \n",
       "4  MTA NYCT_5879   402811    0 days 06:18:36.819142  "
      ]
     },
     "execution_count": 3,
     "metadata": {},
     "output_type": "execute_result"
    }
   ],
   "source": [
    "interpolated.head()"
   ]
  },
  {
   "cell_type": "markdown",
   "metadata": {},
   "source": [
    "#### Join schedule times from each stop and convert times to numeric"
   ]
  },
  {
   "cell_type": "code",
   "execution_count": 4,
   "metadata": {
    "collapsed": false
   },
   "outputs": [],
   "source": [
    "interpolated = interpolated.merge(stop_times[['arrival_time','stop_sequence']],how='left',left_on=['trip_id','stop_id'],right_index=True)"
   ]
  },
  {
   "cell_type": "code",
   "execution_count": 5,
   "metadata": {
    "collapsed": true
   },
   "outputs": [],
   "source": [
    "interpolated['interpolated_arrival_time'] = pd.to_timedelta(interpolated['interpolated_arrival_time'])\n",
    "interpolated['schedule_convert'] = pd.to_timedelta(interpolated['arrival_time'])\n",
    "interpolated.set_index(['route','trip_id','trip_date','vehicle_id','stop_sequence','stop_id'],inplace=True)"
   ]
  },
  {
   "cell_type": "markdown",
   "metadata": {},
   "source": [
    "## 2. Group the estimates by route and trip, and for each route identify the stop with the most estimates"
   ]
  },
  {
   "cell_type": "code",
   "execution_count": 6,
   "metadata": {
    "collapsed": false
   },
   "outputs": [],
   "source": [
    "trip_groups = interpolated.groupby(level=(0,2,5,4)).size()"
   ]
  },
  {
   "cell_type": "code",
   "execution_count": 7,
   "metadata": {
    "collapsed": false
   },
   "outputs": [
    {
     "data": {
      "text/plain": [
       "route\n",
       "MTA NYCT_B1      300009\n",
       "MTA NYCT_B11     301173\n",
       "MTA NYCT_B12     301328\n",
       "MTA NYCT_B13     301505\n",
       "MTA NYCT_B14     301598\n",
       "MTA NYCT_B15     301135\n",
       "MTA NYCT_B16     301677\n",
       "MTA NYCT_B17     300853\n",
       "MTA NYCT_B2      300173\n",
       "MTA NYCT_B20     301959\n",
       "MTA NYCT_B24     503993\n",
       "MTA NYCT_B25     302383\n",
       "MTA NYCT_B26     302372\n",
       "MTA NYCT_B3      300261\n",
       "MTA NYCT_B31     300175\n",
       "MTA NYCT_B32     302304\n",
       "MTA NYCT_B35     302692\n",
       "MTA NYCT_B36     300019\n",
       "MTA NYCT_B37     302914\n",
       "MTA NYCT_B38     302948\n",
       "MTA NYCT_B39     403679\n",
       "MTA NYCT_B4      300368\n",
       "MTA NYCT_B41     303295\n",
       "MTA NYCT_B42     303358\n",
       "MTA NYCT_B43     303711\n",
       "MTA NYCT_B44     303483\n",
       "MTA NYCT_B44+    303441\n",
       "MTA NYCT_B45     303531\n",
       "MTA NYCT_B46     303592\n",
       "MTA NYCT_B47     300857\n",
       "                  ...  \n",
       "MTABC_Q50        101743\n",
       "MTABC_Q52        550070\n",
       "MTABC_Q53        550070\n",
       "MTABC_Q60        504399\n",
       "MTABC_Q64        551812\n",
       "MTABC_Q65        550032\n",
       "MTABC_Q66        551894\n",
       "MTABC_Q67        503832\n",
       "MTABC_Q69        550010\n",
       "MTABC_Q70        504542\n",
       "MTABC_Q72        552020\n",
       "MTABC_QM1        502399\n",
       "MTABC_QM10       502984\n",
       "MTABC_QM11       550470\n",
       "MTABC_QM12       504309\n",
       "MTABC_QM15       550070\n",
       "MTABC_QM16       401840\n",
       "MTABC_QM17       401842\n",
       "MTABC_QM18       401840\n",
       "MTABC_QM2        501198\n",
       "MTABC_QM20       501133\n",
       "MTABC_QM21       450030\n",
       "MTABC_QM24       503456\n",
       "MTABC_QM25       401165\n",
       "MTABC_QM3        401840\n",
       "MTABC_QM4        551819\n",
       "MTABC_QM5        501470\n",
       "MTABC_QM6        502369\n",
       "MTABC_QM7        401797\n",
       "MTABC_QM8        501337\n",
       "dtype: int64"
      ]
     },
     "execution_count": 7,
     "metadata": {},
     "output_type": "execute_result"
    }
   ],
   "source": [
    "def series_max(s):\n",
    "    return s.idxmax()[2]\n",
    "densest_stops = trip_groups.groupby(level=(0)).apply(series_max)\n",
    "densest_stops"
   ]
  },
  {
   "cell_type": "markdown",
   "metadata": {},
   "source": [
    "## 3. Define Wait Assessment calculation and apply"
   ]
  },
  {
   "cell_type": "code",
   "execution_count": 8,
   "metadata": {
    "collapsed": true
   },
   "outputs": [],
   "source": [
    "def peak_hour(x):\n",
    "    if x > '06:00:00' and x < '09:00:00':\n",
    "        return True\n",
    "    else:\n",
    "        if x > '16:00:00' and x < '19:00:00':\n",
    "            return True\n",
    "        else:\n",
    "            return False"
   ]
  },
  {
   "cell_type": "code",
   "execution_count": 9,
   "metadata": {
    "collapsed": false
   },
   "outputs": [],
   "source": [
    "def wait_ass(x,y):\n",
    "    if x == True:\n",
    "        if y >= 3*60:\n",
    "            return True\n",
    "        else:\n",
    "            return False\n",
    "    if x == False:\n",
    "        if y>= 5*60:\n",
    "            return True\n",
    "        else:\n",
    "            return False         "
   ]
  },
  {
   "cell_type": "code",
   "execution_count": 10,
   "metadata": {
    "collapsed": true
   },
   "outputs": [],
   "source": [
    "def wa_at_stop(route,stop):\n",
    "    pd.options.mode.chained_assignment = None\n",
    "    interpolated_2 = interpolated.xs((route,stop),level=(0,5),drop_level=False)\n",
    "    interpolated_2.reset_index(inplace=True)\n",
    "    interpolated_2['sche_headway'] = interpolated_2.sort(columns='schedule_convert')['schedule_convert'].diff()\n",
    "    interpolated_2['inter_headway'] = interpolated_2.sort(columns='interpolated_arrival_time')['interpolated_arrival_time'].diff()\n",
    "    interpolated_2['sche_h_sec'] = interpolated_2['sche_headway']/ttools.datetime.timedelta(seconds=1)\n",
    "    interpolated_2['inter_h_sec'] = interpolated_2['inter_headway']/ttools.datetime.timedelta(seconds=1)\n",
    "    interpolated_2['P_hour'] = map(lambda x:peak_hour(x),interpolated_2['arrival_time'])\n",
    "    interpolated_2['diff'] = interpolated_2['inter_h_sec'] - interpolated_2['sche_h_sec']\n",
    "    interpolated_2['wait_ass'] = map(lambda x,y:wait_ass(x,y), interpolated_2['P_hour'],interpolated_2['diff'])\n",
    "    ##wait assessment for the single route on the single stop\n",
    "    # 100% is best\n",
    "    return 1.0-(1.0*interpolated_2['wait_ass'].sum()/len(interpolated_2['wait_ass']))"
   ]
  },
  {
   "cell_type": "markdown",
   "metadata": {},
   "source": [
    "Demonstrate example"
   ]
  },
  {
   "cell_type": "code",
   "execution_count": 11,
   "metadata": {
    "collapsed": false
   },
   "outputs": [
    {
     "data": {
      "text/plain": [
       "0.8957055214723927"
      ]
     },
     "execution_count": 11,
     "metadata": {},
     "output_type": "execute_result"
    }
   ],
   "source": [
    "wa_at_stop('MTA NYCT_B1',300009)"
   ]
  },
  {
   "cell_type": "markdown",
   "metadata": {},
   "source": [
    "Show the mean Wait Assessment if taking only the \"densest stop\" for each route"
   ]
  },
  {
   "cell_type": "code",
   "execution_count": 12,
   "metadata": {
    "collapsed": false
   },
   "outputs": [],
   "source": [
    "all_routes = pd.Series(index=densest_stops.index)\n",
    "for i,v in densest_stops.iteritems():\n",
    "    all_routes[i] = wa_at_stop(i,v)"
   ]
  },
  {
   "cell_type": "code",
   "execution_count": 13,
   "metadata": {
    "collapsed": false
   },
   "outputs": [
    {
     "data": {
      "text/plain": [
       "0.79945940207255217"
      ]
     },
     "execution_count": 13,
     "metadata": {},
     "output_type": "execute_result"
    }
   ],
   "source": [
    "all_routes.mean()"
   ]
  },
  {
   "cell_type": "markdown",
   "metadata": {},
   "source": [
    "Calculate Wait Assessment for ALL stops with more than 50 estimates and assemble results into a DataFrame"
   ]
  },
  {
   "cell_type": "code",
   "execution_count": 12,
   "metadata": {
    "collapsed": false
   },
   "outputs": [],
   "source": [
    "all_stops = pd.Series(index=trip_groups.index)\n",
    "for i, v in trip_groups.iteritems():\n",
    "    if v > 50:\n",
    "        all_stops[i] = wa_at_stop(i[0],i[2])\n",
    "all_stops_df = pd.DataFrame.from_dict(all_stops).dropna().reset_index().rename(columns={0:'wa'})"
   ]
  },
  {
   "cell_type": "code",
   "execution_count": 15,
   "metadata": {
    "collapsed": true
   },
   "outputs": [],
   "source": [
    "# export results\n",
    "all_stops_df.to_csv('all_stops_wa.csv')"
   ]
  },
  {
   "cell_type": "markdown",
   "metadata": {
    "collapsed": false
   },
   "source": [
    "### 3a. Test significance of stop sequence\n",
    "The hypothesis is: later stops along a trip will have worse performance metrics, such as Wait Assessment (lower is worse) or Mean Headway Deviation (higher is worse)."
   ]
  },
  {
   "cell_type": "code",
   "execution_count": 16,
   "metadata": {
    "collapsed": false
   },
   "outputs": [
    {
     "data": {
      "text/html": [
       "<div style=\"max-height:1000px;max-width:1500px;overflow:auto;\">\n",
       "<table border=\"1\" class=\"dataframe\">\n",
       "  <thead>\n",
       "    <tr style=\"text-align: right;\">\n",
       "      <th></th>\n",
       "      <th>stop_id</th>\n",
       "      <th>stop_sequence</th>\n",
       "      <th>wa</th>\n",
       "    </tr>\n",
       "  </thead>\n",
       "  <tbody>\n",
       "    <tr>\n",
       "      <th>stop_id</th>\n",
       "      <td>1.000000</td>\n",
       "      <td>-0.014718</td>\n",
       "      <td>-0.090302</td>\n",
       "    </tr>\n",
       "    <tr>\n",
       "      <th>stop_sequence</th>\n",
       "      <td>-0.014718</td>\n",
       "      <td>1.000000</td>\n",
       "      <td>-0.538366</td>\n",
       "    </tr>\n",
       "    <tr>\n",
       "      <th>wa</th>\n",
       "      <td>-0.090302</td>\n",
       "      <td>-0.538366</td>\n",
       "      <td>1.000000</td>\n",
       "    </tr>\n",
       "  </tbody>\n",
       "</table>\n",
       "</div>"
      ],
      "text/plain": [
       "                stop_id  stop_sequence        wa\n",
       "stop_id        1.000000      -0.014718 -0.090302\n",
       "stop_sequence -0.014718       1.000000 -0.538366\n",
       "wa            -0.090302      -0.538366  1.000000"
      ]
     },
     "execution_count": 16,
     "metadata": {},
     "output_type": "execute_result"
    }
   ],
   "source": [
    "all_stops_df.corr()"
   ]
  },
  {
   "cell_type": "code",
   "execution_count": 13,
   "metadata": {
    "collapsed": false,
    "scrolled": true
   },
   "outputs": [
    {
     "data": {
      "text/html": [
       "<div style=\"max-height:1000px;max-width:1500px;overflow:auto;\">\n",
       "<table border=\"1\" class=\"dataframe\">\n",
       "  <thead>\n",
       "    <tr style=\"text-align: right;\">\n",
       "      <th></th>\n",
       "      <th>route</th>\n",
       "      <th>trip_date</th>\n",
       "      <th>stop_id</th>\n",
       "      <th>stop_sequence</th>\n",
       "      <th>wa</th>\n",
       "    </tr>\n",
       "  </thead>\n",
       "  <tbody>\n",
       "    <tr>\n",
       "      <th>0</th>\n",
       "      <td>MTA NYCT_B1</td>\n",
       "      <td>2015-12-03</td>\n",
       "      <td>300002</td>\n",
       "      <td>2</td>\n",
       "      <td>0.860140</td>\n",
       "    </tr>\n",
       "    <tr>\n",
       "      <th>1</th>\n",
       "      <td>MTA NYCT_B1</td>\n",
       "      <td>2015-12-03</td>\n",
       "      <td>300003</td>\n",
       "      <td>3</td>\n",
       "      <td>0.883212</td>\n",
       "    </tr>\n",
       "    <tr>\n",
       "      <th>2</th>\n",
       "      <td>MTA NYCT_B1</td>\n",
       "      <td>2015-12-03</td>\n",
       "      <td>300004</td>\n",
       "      <td>4</td>\n",
       "      <td>0.891304</td>\n",
       "    </tr>\n",
       "    <tr>\n",
       "      <th>3</th>\n",
       "      <td>MTA NYCT_B1</td>\n",
       "      <td>2015-12-03</td>\n",
       "      <td>300006</td>\n",
       "      <td>5</td>\n",
       "      <td>0.928058</td>\n",
       "    </tr>\n",
       "    <tr>\n",
       "      <th>4</th>\n",
       "      <td>MTA NYCT_B1</td>\n",
       "      <td>2015-12-03</td>\n",
       "      <td>300007</td>\n",
       "      <td>6</td>\n",
       "      <td>0.915033</td>\n",
       "    </tr>\n",
       "    <tr>\n",
       "      <th>5</th>\n",
       "      <td>MTA NYCT_B1</td>\n",
       "      <td>2015-12-03</td>\n",
       "      <td>300008</td>\n",
       "      <td>7</td>\n",
       "      <td>0.910828</td>\n",
       "    </tr>\n",
       "    <tr>\n",
       "      <th>6</th>\n",
       "      <td>MTA NYCT_B1</td>\n",
       "      <td>2015-12-03</td>\n",
       "      <td>300009</td>\n",
       "      <td>8</td>\n",
       "      <td>0.895706</td>\n",
       "    </tr>\n",
       "    <tr>\n",
       "      <th>7</th>\n",
       "      <td>MTA NYCT_B1</td>\n",
       "      <td>2015-12-03</td>\n",
       "      <td>300010</td>\n",
       "      <td>9</td>\n",
       "      <td>0.893333</td>\n",
       "    </tr>\n",
       "    <tr>\n",
       "      <th>8</th>\n",
       "      <td>MTA NYCT_B1</td>\n",
       "      <td>2015-12-03</td>\n",
       "      <td>300011</td>\n",
       "      <td>10</td>\n",
       "      <td>0.889571</td>\n",
       "    </tr>\n",
       "    <tr>\n",
       "      <th>9</th>\n",
       "      <td>MTA NYCT_B1</td>\n",
       "      <td>2015-12-03</td>\n",
       "      <td>300012</td>\n",
       "      <td>11</td>\n",
       "      <td>0.875776</td>\n",
       "    </tr>\n",
       "    <tr>\n",
       "      <th>10</th>\n",
       "      <td>MTA NYCT_B1</td>\n",
       "      <td>2015-12-03</td>\n",
       "      <td>300013</td>\n",
       "      <td>12</td>\n",
       "      <td>0.860759</td>\n",
       "    </tr>\n",
       "    <tr>\n",
       "      <th>11</th>\n",
       "      <td>MTA NYCT_B1</td>\n",
       "      <td>2015-12-03</td>\n",
       "      <td>300014</td>\n",
       "      <td>13</td>\n",
       "      <td>0.860927</td>\n",
       "    </tr>\n",
       "    <tr>\n",
       "      <th>12</th>\n",
       "      <td>MTA NYCT_B1</td>\n",
       "      <td>2015-12-03</td>\n",
       "      <td>300016</td>\n",
       "      <td>15</td>\n",
       "      <td>0.841727</td>\n",
       "    </tr>\n",
       "    <tr>\n",
       "      <th>13</th>\n",
       "      <td>MTA NYCT_B1</td>\n",
       "      <td>2015-12-03</td>\n",
       "      <td>300017</td>\n",
       "      <td>16</td>\n",
       "      <td>0.867133</td>\n",
       "    </tr>\n",
       "    <tr>\n",
       "      <th>14</th>\n",
       "      <td>MTA NYCT_B1</td>\n",
       "      <td>2015-12-03</td>\n",
       "      <td>300018</td>\n",
       "      <td>17</td>\n",
       "      <td>0.853147</td>\n",
       "    </tr>\n",
       "    <tr>\n",
       "      <th>15</th>\n",
       "      <td>MTA NYCT_B1</td>\n",
       "      <td>2015-12-03</td>\n",
       "      <td>300019</td>\n",
       "      <td>18</td>\n",
       "      <td>0.832168</td>\n",
       "    </tr>\n",
       "    <tr>\n",
       "      <th>16</th>\n",
       "      <td>MTA NYCT_B1</td>\n",
       "      <td>2015-12-03</td>\n",
       "      <td>300020</td>\n",
       "      <td>19</td>\n",
       "      <td>0.848276</td>\n",
       "    </tr>\n",
       "    <tr>\n",
       "      <th>17</th>\n",
       "      <td>MTA NYCT_B1</td>\n",
       "      <td>2015-12-03</td>\n",
       "      <td>300022</td>\n",
       "      <td>21</td>\n",
       "      <td>0.834483</td>\n",
       "    </tr>\n",
       "    <tr>\n",
       "      <th>18</th>\n",
       "      <td>MTA NYCT_B1</td>\n",
       "      <td>2015-12-03</td>\n",
       "      <td>300023</td>\n",
       "      <td>22</td>\n",
       "      <td>0.825175</td>\n",
       "    </tr>\n",
       "    <tr>\n",
       "      <th>19</th>\n",
       "      <td>MTA NYCT_B1</td>\n",
       "      <td>2015-12-03</td>\n",
       "      <td>300024</td>\n",
       "      <td>23</td>\n",
       "      <td>0.823944</td>\n",
       "    </tr>\n",
       "    <tr>\n",
       "      <th>20</th>\n",
       "      <td>MTA NYCT_B1</td>\n",
       "      <td>2015-12-03</td>\n",
       "      <td>300025</td>\n",
       "      <td>24</td>\n",
       "      <td>0.819444</td>\n",
       "    </tr>\n",
       "    <tr>\n",
       "      <th>21</th>\n",
       "      <td>MTA NYCT_B1</td>\n",
       "      <td>2015-12-03</td>\n",
       "      <td>300026</td>\n",
       "      <td>25</td>\n",
       "      <td>0.787234</td>\n",
       "    </tr>\n",
       "    <tr>\n",
       "      <th>22</th>\n",
       "      <td>MTA NYCT_B1</td>\n",
       "      <td>2015-12-03</td>\n",
       "      <td>300028</td>\n",
       "      <td>27</td>\n",
       "      <td>0.786765</td>\n",
       "    </tr>\n",
       "    <tr>\n",
       "      <th>23</th>\n",
       "      <td>MTA NYCT_B1</td>\n",
       "      <td>2015-12-03</td>\n",
       "      <td>300029</td>\n",
       "      <td>28</td>\n",
       "      <td>0.780303</td>\n",
       "    </tr>\n",
       "    <tr>\n",
       "      <th>24</th>\n",
       "      <td>MTA NYCT_B1</td>\n",
       "      <td>2015-12-03</td>\n",
       "      <td>300030</td>\n",
       "      <td>29</td>\n",
       "      <td>0.789062</td>\n",
       "    </tr>\n",
       "  </tbody>\n",
       "</table>\n",
       "</div>"
      ],
      "text/plain": [
       "          route   trip_date  stop_id  stop_sequence        wa\n",
       "0   MTA NYCT_B1  2015-12-03   300002              2  0.860140\n",
       "1   MTA NYCT_B1  2015-12-03   300003              3  0.883212\n",
       "2   MTA NYCT_B1  2015-12-03   300004              4  0.891304\n",
       "3   MTA NYCT_B1  2015-12-03   300006              5  0.928058\n",
       "4   MTA NYCT_B1  2015-12-03   300007              6  0.915033\n",
       "5   MTA NYCT_B1  2015-12-03   300008              7  0.910828\n",
       "6   MTA NYCT_B1  2015-12-03   300009              8  0.895706\n",
       "7   MTA NYCT_B1  2015-12-03   300010              9  0.893333\n",
       "8   MTA NYCT_B1  2015-12-03   300011             10  0.889571\n",
       "9   MTA NYCT_B1  2015-12-03   300012             11  0.875776\n",
       "10  MTA NYCT_B1  2015-12-03   300013             12  0.860759\n",
       "11  MTA NYCT_B1  2015-12-03   300014             13  0.860927\n",
       "12  MTA NYCT_B1  2015-12-03   300016             15  0.841727\n",
       "13  MTA NYCT_B1  2015-12-03   300017             16  0.867133\n",
       "14  MTA NYCT_B1  2015-12-03   300018             17  0.853147\n",
       "15  MTA NYCT_B1  2015-12-03   300019             18  0.832168\n",
       "16  MTA NYCT_B1  2015-12-03   300020             19  0.848276\n",
       "17  MTA NYCT_B1  2015-12-03   300022             21  0.834483\n",
       "18  MTA NYCT_B1  2015-12-03   300023             22  0.825175\n",
       "19  MTA NYCT_B1  2015-12-03   300024             23  0.823944\n",
       "20  MTA NYCT_B1  2015-12-03   300025             24  0.819444\n",
       "21  MTA NYCT_B1  2015-12-03   300026             25  0.787234\n",
       "22  MTA NYCT_B1  2015-12-03   300028             27  0.786765\n",
       "23  MTA NYCT_B1  2015-12-03   300029             28  0.780303\n",
       "24  MTA NYCT_B1  2015-12-03   300030             29  0.789062"
      ]
     },
     "execution_count": 13,
     "metadata": {},
     "output_type": "execute_result"
    }
   ],
   "source": [
    "all_stops_df.head(25)"
   ]
  },
  {
   "cell_type": "code",
   "execution_count": 23,
   "metadata": {
    "collapsed": false
   },
   "outputs": [],
   "source": [
    "all_stops_df_indexed = all_stops_df.set_index(['route','stop_sequence'])\n",
    "all_stops_df_indexed.sort_index(inplace=True)"
   ]
  },
  {
   "cell_type": "code",
   "execution_count": 25,
   "metadata": {
    "collapsed": false
   },
   "outputs": [],
   "source": [
    "b1 = all_stops_df_indexed.groupby(level=(0,1))['wa'].mean().loc['MTA NYCT_B1']"
   ]
  },
  {
   "cell_type": "code",
   "execution_count": 31,
   "metadata": {
    "collapsed": false
   },
   "outputs": [
    {
     "data": {
      "image/png": "[encoded data removed]",
      "text/plain": [
       "<matplotlib.figure.Figure at 0x7f50c80615d0>"
      ]
     },
     "metadata": {},
     "output_type": "display_data"
    }
   ],
   "source": [
    "fig, ax = plt.subplots(1,1,figsize=(15,8))\n",
    "ax.plot(b1, 'k-',color='blue')\n",
    "plt.ylabel('Wait Assessment', fontsize=14)\n",
    "plt.xlabel('Stop Sequence Number', fontsize=14)\n",
    "plt.xlim(1,50)\n",
    "vals = ax.get_yticks()\n",
    "ax.set_yticklabels(['{:2.1f}%'.format(x*100) for x in vals])\n",
    "plt.savefig('/gpfs2/projects/project-bus_capstone_2016/workspace//mu529/Bus-Capstone/plots/wa_by_stop_sequence.png')\n",
    "plt.show()"
   ]
  },
  {
   "cell_type": "code",
   "execution_count": 32,
   "metadata": {
    "collapsed": false
   },
   "outputs": [
    {
     "name": "stdout",
     "output_type": "stream",
     "text": [
      "                            OLS Regression Results                            \n",
      "==============================================================================\n",
      "Dep. Variable:                     wa   R-squared:                       0.290\n",
      "Model:                            OLS   Adj. R-squared:                  0.290\n",
      "Method:                 Least Squares   F-statistic:                     6701.\n",
      "Date:                Fri, 22 Jul 2016   Prob (F-statistic):               0.00\n",
      "Time:                        14:27:46   Log-Likelihood:                 25037.\n",
      "No. Observations:               16421   AIC:                        -5.007e+04\n",
      "Df Residuals:                   16419   BIC:                        -5.005e+04\n",
      "Df Model:                           1                                         \n",
      "Covariance Type:            nonrobust                                         \n",
      "=================================================================================\n",
      "                    coef    std err          t      P>|t|      [95.0% Conf. Int.]\n",
      "---------------------------------------------------------------------------------\n",
      "Intercept         0.8405      0.001   1141.083      0.000         0.839     0.842\n",
      "stop_sequence    -0.0021   2.51e-05    -81.860      0.000        -0.002    -0.002\n",
      "==============================================================================\n",
      "Omnibus:                       95.810   Durbin-Watson:                   0.489\n",
      "Prob(Omnibus):                  0.000   Jarque-Bera (JB):               97.389\n",
      "Skew:                          -0.189   Prob(JB):                     7.12e-22\n",
      "Kurtosis:                       3.009   Cond. No.                         52.7\n",
      "==============================================================================\n",
      "\n",
      "Warnings:\n",
      "[1] Standard Errors assume that the covariance matrix of the errors is correctly specified.\n"
     ]
    }
   ],
   "source": [
    "import statsmodels.formula.api as smf\n",
    "results = smf.ols('wa ~ stop_sequence', data=all_stops_df.dropna().reset_index()).fit()\n",
    "print results.summary()"
   ]
  },
  {
   "cell_type": "code",
   "execution_count": 40,
   "metadata": {
    "collapsed": false
   },
   "outputs": [],
   "source": [
    "f1=open('/gpfs2/projects/project-bus_capstone_2016/workspace//mu529/Bus-Capstone/plots/ols_summary.txt', 'w+')\n",
    "f1.write(str(results.summary()))\n",
    "f1.close()"
   ]
  },
  {
   "cell_type": "markdown",
   "metadata": {},
   "source": [
    "## Bunching Rate"
   ]
  },
  {
   "cell_type": "code",
   "execution_count": 56,
   "metadata": {
    "collapsed": true
   },
   "outputs": [],
   "source": [
    "def bunched(x):\n",
    "    try:\n",
    "        if pd.to_timedelta(x)<ttools.datetime.timedelta(minutes=1):\n",
    "            return True\n",
    "        else:\n",
    "            return False\n",
    "    except:\n",
    "        return False"
   ]
  },
  {
   "cell_type": "code",
   "execution_count": 102,
   "metadata": {
    "collapsed": false
   },
   "outputs": [],
   "source": [
    "bunch_bool = interpolated.loc['MTA NYCT_B41'].groupby(level=(0,1,2))['interpolated_arrival_time'].diff().apply(bunched)\n",
    "x = list(bunch_bool.groupby(level=3).mean().index)\n",
    "y = list(bunch_bool.groupby(level=3).mean().values)\n",
    "bunch_bool2 = interpolated.loc['MTA NYCT_B63'].groupby(level=(0,1,2))['interpolated_arrival_time'].diff().apply(bunched)\n",
    "x2 = list(bunch_bool2.groupby(level=3).mean().index)\n",
    "y2 = list(bunch_bool2.groupby(level=3).mean().values)\n",
    "bunch_bool3 = interpolated.loc['MTA NYCT_B61'].groupby(level=(0,1,2))['interpolated_arrival_time'].diff().apply(bunched)\n",
    "x3 = list(bunch_bool3.groupby(level=3).mean().index)\n",
    "y3 = list(bunch_bool3.groupby(level=3).mean().values)"
   ]
  },
  {
   "cell_type": "code",
   "execution_count": 103,
   "metadata": {
    "collapsed": false
   },
   "outputs": [
    {
     "data": {
      "image/png": "[encoded data removed]",
      "text/plain": [
       "<matplotlib.figure.Figure at 0x7f504e59fd50>"
      ]
     },
     "metadata": {},
     "output_type": "display_data"
    }
   ],
   "source": [
    "fig, ax = plt.subplots(1,1,figsize=(15,8))\n",
    "ax.scatter(x,y, color='b',alpha=0.4)\n",
    "ax.scatter(x2,y2, color='green',alpha=0.6)\n",
    "ax.scatter(x3,y3, color='orange',alpha=0.9)\n",
    "plt.ylabel('Bunching Rate', fontsize=14)\n",
    "plt.xlabel('Stop Number', fontsize=14)\n",
    "vals = ax.get_yticks()\n",
    "ax.set_yticklabels(['{:2.1f}%'.format(x*100) for x in vals])\n",
    "plt.savefig('/gpfs2/projects/project-bus_capstone_2016/workspace//mu529/Bus-Capstone/plots/bunching_rates.png')\n",
    "plt.show()"
   ]
  },
  {
   "cell_type": "markdown",
   "metadata": {},
   "source": [
    "## 4. Define Mean Headway Deviation and apply"
   ]
  },
  {
   "cell_type": "code",
   "execution_count": 18,
   "metadata": {
    "collapsed": true
   },
   "outputs": [],
   "source": [
    "def mean_hw_dev_at_stop(route,stop):\n",
    "    pd.options.mode.chained_assignment = None\n",
    "    interpolated_2 = interpolated.xs((route,stop),level=(0,5),drop_level=False)\n",
    "    interpolated_2.reset_index(inplace=True)\n",
    "    interpolated_2['sche_headway'] = interpolated_2.sort(columns='schedule_convert')['schedule_convert'].diff()\n",
    "    interpolated_2['inter_headway'] = interpolated_2.sort(columns='interpolated_arrival_time')['interpolated_arrival_time'].diff()\n",
    "    interpolated_2['sche_h_sec'] = interpolated_2['sche_headway']/ttools.datetime.timedelta(seconds=1)\n",
    "    interpolated_2['inter_h_sec'] = interpolated_2['inter_headway']/ttools.datetime.timedelta(seconds=1)\n",
    "    # interpolated_2['P_hour'] = map(lambda x:peak_hour(x),interpolated_2['arrival_time'])\n",
    "    interpolated_2['abs_diff'] = abs(interpolated_2['inter_h_sec'] - interpolated_2['sche_h_sec'])\n",
    "    # interpolated_2['wait_ass'] = map(lambda x,y:wait_ass(x,y), interpolated_2['P_hour'],interpolated_2['diff'])\n",
    "    ##wait assessment for the single route on the single stop\n",
    "    # 100% is best\n",
    "    return interpolated_2['abs_diff'].dropna().mean()"
   ]
  },
  {
   "cell_type": "markdown",
   "metadata": {},
   "source": [
    "Show an example"
   ]
  },
  {
   "cell_type": "code",
   "execution_count": 19,
   "metadata": {
    "collapsed": false
   },
   "outputs": [
    {
     "data": {
      "text/plain": [
       "136.72597633950616"
      ]
     },
     "execution_count": 19,
     "metadata": {},
     "output_type": "execute_result"
    }
   ],
   "source": [
    "mean_hw_dev_at_stop('MTA NYCT_B1',300009)"
   ]
  },
  {
   "cell_type": "code",
   "execution_count": 20,
   "metadata": {
    "collapsed": true
   },
   "outputs": [],
   "source": [
    "all_routes_hwdev = pd.Series(index=densest_stops.index)\n",
    "for i,v in densest_stops.iteritems():\n",
    "    all_routes_hwdev[i] = mean_hw_dev_at_stop(i,v)"
   ]
  },
  {
   "cell_type": "markdown",
   "metadata": {},
   "source": [
    "Calculate Mean Headway Deviation for ALL stops with more than 50 estimates and assemble results into a DataFrame"
   ]
  },
  {
   "cell_type": "code",
   "execution_count": 103,
   "metadata": {
    "collapsed": true
   },
   "outputs": [],
   "source": [
    "all_stops_hwdev = pd.Series(index=trip_groups.index)\n",
    "for i, v in trip_groups.iteritems():\n",
    "    if v > 50:\n",
    "        all_stops_hwdev[i] = mean_hw_dev_at_stop(i[0],i[2])\n",
    "all_stops_hwdev_df = pd.DataFrame.from_dict(all_stops_hwdev).dropna().reset_index().rename(columns={0:'mean_hwdev'})"
   ]
  },
  {
   "cell_type": "markdown",
   "metadata": {},
   "source": [
    "### 4a. Test significance of stop sequence"
   ]
  },
  {
   "cell_type": "code",
   "execution_count": 104,
   "metadata": {
    "collapsed": false
   },
   "outputs": [
    {
     "name": "stdout",
     "output_type": "stream",
     "text": [
      "                            OLS Regression Results                            \n",
      "==============================================================================\n",
      "Dep. Variable:             mean_hwdev   R-squared:                       0.247\n",
      "Model:                            OLS   Adj. R-squared:                  0.247\n",
      "Method:                 Least Squares   F-statistic:                     5383.\n",
      "Date:                Mon, 18 Jul 2016   Prob (F-statistic):               0.00\n",
      "Time:                        11:32:20   Log-Likelihood:                -97228.\n",
      "No. Observations:               16421   AIC:                         1.945e+05\n",
      "Df Residuals:                   16419   BIC:                         1.945e+05\n",
      "Df Model:                           1                                         \n",
      "Covariance Type:            nonrobust                                         \n",
      "=================================================================================\n",
      "                    coef    std err          t      P>|t|      [95.0% Conf. Int.]\n",
      "---------------------------------------------------------------------------------\n",
      "Intercept       231.7930      1.261    183.775      0.000       229.321   234.265\n",
      "stop_sequence     3.1519      0.043     73.371      0.000         3.068     3.236\n",
      "==============================================================================\n",
      "Omnibus:                     2865.310   Durbin-Watson:                   0.326\n",
      "Prob(Omnibus):                  0.000   Jarque-Bera (JB):             6033.538\n",
      "Skew:                           1.036   Prob(JB):                         0.00\n",
      "Kurtosis:                       5.128   Cond. No.                         52.7\n",
      "==============================================================================\n",
      "\n",
      "Warnings:\n",
      "[1] Standard Errors assume that the covariance matrix of the errors is correctly specified.\n"
     ]
    }
   ],
   "source": [
    "results = smf.ols('mean_hwdev ~ stop_sequence', data=all_stops_hwdev_df.dropna().reset_index()).fit()\n",
    "print results.summary()"
   ]
  },
  {
   "cell_type": "code",
   "execution_count": null,
   "metadata": {
    "collapsed": true
   },
   "outputs": [],
   "source": []
  }
 ],
 "metadata": {
  "kernelspec": {
   "display_name": "Python 2",
   "language": "python",
   "name": "python2"
  },
  "language_info": {
   "codemirror_mode": {
    "name": "ipython",
    "version": 2
   },
   "file_extension": ".py",
   "mimetype": "text/x-python",
   "name": "python",
   "nbconvert_exporter": "python",
   "pygments_lexer": "ipython2",
   "version": "2.7.11"
  }
 },
 "nbformat": 4,
 "nbformat_minor": 0
}
