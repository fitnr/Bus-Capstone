{
 "cells": [
  {
   "cell_type": "code",
   "execution_count": 1,
   "metadata": {
    "collapsed": true
   },
   "outputs": [],
   "source": [
    "import os\n",
    "import pandas as pd\n",
    "import gtfs #homemade module\n",
    "os.chdir('/gpfs2/projects/project-bus_capstone_2016/workspace/share')"
   ]
  },
  {
   "cell_type": "code",
   "execution_count": 2,
   "metadata": {
    "collapsed": false
   },
   "outputs": [
    {
     "name": "stderr",
     "output_type": "stream",
     "text": [
      "/opt/rh/anaconda/root/lib/python2.7/site-packages/pandas/io/parsers.py:1170: DtypeWarning: Columns (9,10) have mixed types. Specify dtype option on import or set low_memory=False.\n",
      "  data = self._reader.read(nrows)\n"
     ]
    }
   ],
   "source": [
    "# get the sample of parsed AVL data.  Beware, large files take more time.\n",
    "bustime = pd.read_csv('spark_parse/test2.txt',header=None)"
   ]
  },
  {
   "cell_type": "code",
   "execution_count": 3,
   "metadata": {
    "collapsed": false
   },
   "outputs": [],
   "source": [
    "# beware!  Bonan is still working on organizing the extract files.  these columns may change.\n",
    "bustime.columns = ['route','lat','lon','timestamp','vehicle_id','trip_id','trip_date','shape_id','next_stop_id','dist_from_stop','stop_dist_on_trip','presentable_dist']"
   ]
  },
  {
   "cell_type": "code",
   "execution_count": 4,
   "metadata": {
    "collapsed": true
   },
   "outputs": [],
   "source": [
    "bustime.drop_duplicates(['vehicle_id','timestamp'],inplace=True)\n",
    "bustime['trip_id'] = bustime['trip_id'].str.replace('MTA NYCT_','')\n",
    "bustime['trip_id'] = bustime['trip_id'].str.replace('MTABC_','')\n",
    "bustime.set_index(['route','trip_id','trip_date','vehicle_id','timestamp'],\n",
    "                  inplace=True,drop=True,verify_integrity=True)"
   ]
  },
  {
   "cell_type": "code",
   "execution_count": 5,
   "metadata": {
    "collapsed": false
   },
   "outputs": [
    {
     "name": "stdout",
     "output_type": "stream",
     "text": [
      "Finished loading BusTime data and and slicing B41 line.\n"
     ]
    }
   ],
   "source": [
    "# for demonstration, use a subset. Just get data for one line (M5) on one day.\n",
    "tripDateLookup = \"2015-01-06\"\n",
    "lineLookup = \"MTA NYCT_B41\"\n",
    "bustime = bustime.xs((lineLookup,tripDateLookup),level=(0,2),\n",
    "                           drop_level=False)\n",
    "# note that the AVL dataframe must be sorted by timestammp, since iloc[]\n",
    "# selection is used later in this script to find the earliest time\n",
    "bustime.sort_index(inplace=True)\n",
    "print 'Finished loading BusTime data and and slicing B41 line.'"
   ]
  },
  {
   "cell_type": "code",
   "execution_count": 6,
   "metadata": {
    "collapsed": false
   },
   "outputs": [
    {
     "data": {
      "text/plain": [
       "'656.78'"
      ]
     },
     "execution_count": 6,
     "metadata": {},
     "output_type": "execute_result"
    }
   ],
   "source": [
    "# be careful - looks like pandas did not recognize this column to be numeric data\n",
    "bustime.iloc[1].stop_dist_on_trip"
   ]
  },
  {
   "cell_type": "code",
   "execution_count": 7,
   "metadata": {
    "collapsed": true
   },
   "outputs": [],
   "source": [
    "bustime['stop_dist_on_trip'] = bustime['stop_dist_on_trip'].convert_objects(convert_numeric=True)\n",
    "bustime['dist_from_stop'] = bustime['dist_from_stop'].convert_objects(convert_numeric=True)"
   ]
  },
  {
   "cell_type": "code",
   "execution_count": 8,
   "metadata": {
    "collapsed": false
   },
   "outputs": [],
   "source": [
    "bustime['veh_dist_along_trip'] = bustime['stop_dist_on_trip'] - bustime['dist_from_stop']"
   ]
  },
  {
   "cell_type": "code",
   "execution_count": 9,
   "metadata": {
    "collapsed": false
   },
   "outputs": [
    {
     "data": {
      "text/plain": [
       "route         trip_id                            trip_date   vehicle_id     timestamp                    \n",
       "MTA NYCT_B41  FB_A5-Weekday-SDon-004500_B41_1    2015-01-06  MTA NYCT_4233  2015-01-06T00:39:55.000-05:00      618.74\n",
       "                                                                            2015-01-06T00:40:58.000-05:00      618.74\n",
       "                                                                            2015-01-06T00:42:02.000-05:00      618.74\n",
       "                                                                            2015-01-06T00:45:41.000-05:00      239.10\n",
       "                                                                            2015-01-06T00:46:43.000-05:00      327.11\n",
       "                                                                            2015-01-06T00:47:45.000-05:00      555.35\n",
       "                                                                            2015-01-06T00:48:49.000-05:00      764.02\n",
       "                                                                            2015-01-06T00:49:52.000-05:00     1274.01\n",
       "                                                                            2015-01-06T00:50:55.000-05:00     1723.94\n",
       "                                                                            2015-01-06T00:51:57.000-05:00     1916.39\n",
       "                                                                            2015-01-06T00:53:01.000-05:00     2273.44\n",
       "                                                                            2015-01-06T00:54:04.000-05:00     2628.51\n",
       "                                                                            2015-01-06T00:54:36.000-05:00     2707.54\n",
       "                                                                            2015-01-06T00:55:39.000-05:00     3153.64\n",
       "                                                                            2015-01-06T00:56:42.000-05:00     3402.89\n",
       "                                                                            2015-01-06T00:57:45.000-05:00     3423.12\n",
       "                                                                            2015-01-06T00:58:48.000-05:00     3814.83\n",
       "                                                                            2015-01-06T00:59:52.000-05:00     4102.09\n",
       "                                                                            2015-01-06T01:00:55.000-05:00     4495.50\n",
       "                                                                            2015-01-06T01:01:58.000-05:00     4739.70\n",
       "                                                                            2015-01-06T01:03:01.000-05:00     4968.50\n",
       "                                                                            2015-01-06T01:03:33.000-05:00     5041.80\n",
       "                                                                            2015-01-06T01:04:35.000-05:00     5243.93\n",
       "                                                                            2015-01-06T01:05:39.000-05:00     5686.49\n",
       "                                                                            2015-01-06T01:06:41.000-05:00     6014.67\n",
       "                                                                            2015-01-06T01:07:46.000-05:00     6219.85\n",
       "                                                                            2015-01-06T01:08:49.000-05:00     6563.62\n",
       "                                                                            2015-01-06T01:09:52.000-05:00     6756.42\n",
       "                                                                            2015-01-06T01:10:56.000-05:00     6984.19\n",
       "                                                                            2015-01-06T01:11:58.000-05:00     7119.30\n",
       "                                                                                                               ...   \n",
       "              FB_A5-Weekday-SDon-150500_B46_210  2015-01-06  MTA NYCT_5141  2015-01-07T01:34:52.000-05:00     5609.41\n",
       "                                                                            2015-01-07T01:35:55.000-05:00     5704.22\n",
       "                                                                            2015-01-07T01:36:59.000-05:00     5936.47\n",
       "                                                                            2015-01-07T01:37:30.000-05:00     5932.31\n",
       "                                                                            2015-01-07T01:38:34.000-05:00     6089.92\n",
       "                                                                            2015-01-07T01:39:37.000-05:00     6196.56\n",
       "                                                                            2015-01-07T01:40:40.000-05:00     6440.14\n",
       "                                                                            2015-01-07T01:41:43.000-05:00     6677.85\n",
       "                                                                            2015-01-07T01:42:47.000-05:00     6935.94\n",
       "                                                                            2015-01-07T01:43:50.000-05:00     7037.34\n",
       "                                                                            2015-01-07T01:44:54.000-05:00     7307.77\n",
       "                                                                            2015-01-07T01:45:57.000-05:00     7498.74\n",
       "                                                                            2015-01-07T01:46:29.000-05:00     7587.41\n",
       "                                                                            2015-01-07T01:47:32.000-05:00     7840.44\n",
       "                                                                            2015-01-07T01:48:36.000-05:00     8279.19\n",
       "                                                                            2015-01-07T01:49:39.000-05:00     8364.46\n",
       "                                                                            2015-01-07T01:50:42.000-05:00     8520.01\n",
       "                                                                            2015-01-07T01:51:46.000-05:00     8599.89\n",
       "                                                                            2015-01-07T01:52:17.000-05:00     8686.13\n",
       "                                                                            2015-01-07T01:53:21.000-05:00     8928.81\n",
       "                                                                            2015-01-07T01:54:25.000-05:00     9377.57\n",
       "                                                                            2015-01-07T01:55:28.000-05:00     9741.55\n",
       "                                                                            2015-01-07T01:56:31.000-05:00    10017.90\n",
       "                                                                            2015-01-07T01:57:35.000-05:00    10437.19\n",
       "                                                                            2015-01-07T01:58:38.000-05:00    10585.82\n",
       "                                                                            2015-01-07T01:59:41.000-05:00    10932.63\n",
       "                                                                            2015-01-07T02:00:45.000-05:00    11315.01\n",
       "                                                                            2015-01-07T02:01:16.000-05:00    11395.74\n",
       "                                                                            2015-01-07T02:02:19.000-05:00    11614.79\n",
       "                                                                            2015-01-07T02:03:22.000-05:00    12033.07\n",
       "Name: veh_dist_along_trip, dtype: float64"
      ]
     },
     "execution_count": 9,
     "metadata": {},
     "output_type": "execute_result"
    }
   ],
   "source": [
    "bustime['veh_dist_along_trip']"
   ]
  },
  {
   "cell_type": "code",
   "execution_count": 12,
   "metadata": {
    "collapsed": false
   },
   "outputs": [],
   "source": [
    "stop_distances = bustime.reset_index().drop_duplicates(['shape_id','next_stop_id','stop_dist_on_trip'])\n",
    "stop_distances.shape_id = stop_distances.shape_id.str.replace('MTA_','')\n",
    "stop_distances.next_stop_id = stop_distances.next_stop_id.str.replace('MTA_','')\n",
    "stop_distances.drop(['route','trip_id','trip_date','vehicle_id','timestamp','lat','lon','dist_from_stop','presentable_dist','veh_dist_along_trip'],axis=1,inplace=True)"
   ]
  },
  {
   "cell_type": "code",
   "execution_count": 13,
   "metadata": {
    "collapsed": false
   },
   "outputs": [
    {
     "data": {
      "text/plain": [
       "0"
      ]
     },
     "execution_count": 13,
     "metadata": {},
     "output_type": "execute_result"
    }
   ],
   "source": [
    "# verify that shape_id and next_stop_id is a valid primary key (that is, exactly one value for each index)\n",
    "sum(stop_distances.duplicated(['shape_id','next_stop_id']))"
   ]
  },
  {
   "cell_type": "code",
   "execution_count": 14,
   "metadata": {
    "collapsed": false
   },
   "outputs": [
    {
     "data": {
      "text/html": [
       "<div style=\"max-height:1000px;max-width:1500px;overflow:auto;\">\n",
       "<table border=\"1\" class=\"dataframe\">\n",
       "  <thead>\n",
       "    <tr style=\"text-align: right;\">\n",
       "      <th></th>\n",
       "      <th>shape_id</th>\n",
       "      <th>next_stop_id</th>\n",
       "      <th>stop_dist_on_trip</th>\n",
       "    </tr>\n",
       "  </thead>\n",
       "  <tbody>\n",
       "    <tr>\n",
       "      <th>0</th>\n",
       "      <td>B410227</td>\n",
       "      <td>303270</td>\n",
       "      <td>334.47</td>\n",
       "    </tr>\n",
       "    <tr>\n",
       "      <th>1</th>\n",
       "      <td>B410227</td>\n",
       "      <td>303274</td>\n",
       "      <td>950.80</td>\n",
       "    </tr>\n",
       "    <tr>\n",
       "      <th>2</th>\n",
       "      <td>B410227</td>\n",
       "      <td>303276</td>\n",
       "      <td>1283.55</td>\n",
       "    </tr>\n",
       "    <tr>\n",
       "      <th>3</th>\n",
       "      <td>B410227</td>\n",
       "      <td>303277</td>\n",
       "      <td>1472.70</td>\n",
       "    </tr>\n",
       "    <tr>\n",
       "      <th>4</th>\n",
       "      <td>B410227</td>\n",
       "      <td>303222</td>\n",
       "      <td>2087.51</td>\n",
       "    </tr>\n",
       "  </tbody>\n",
       "</table>\n",
       "</div>"
      ],
      "text/plain": [
       "  shape_id next_stop_id  stop_dist_on_trip\n",
       "0  B410227       303270             334.47\n",
       "1  B410227       303274             950.80\n",
       "2  B410227       303276            1283.55\n",
       "3  B410227       303277            1472.70\n",
       "4  B410227       303222            2087.51"
      ]
     },
     "execution_count": 14,
     "metadata": {},
     "output_type": "execute_result"
    }
   ],
   "source": [
    "stop_distances = stop_distances.sort(['shape_id','stop_dist_on_trip']).reset_index(drop=True)\n",
    "stop_distances.head()"
   ]
  },
  {
   "cell_type": "code",
   "execution_count": 15,
   "metadata": {
    "collapsed": false
   },
   "outputs": [
    {
     "data": {
      "text/plain": [
       "375.39760814249365"
      ]
     },
     "execution_count": 15,
     "metadata": {},
     "output_type": "execute_result"
    }
   ],
   "source": [
    "# mean distance between stops on trips\n",
    "stop_distances.groupby('shape_id')['stop_dist_on_trip'].diff().mean()"
   ]
  }
 ],
 "metadata": {
  "kernelspec": {
   "display_name": "Python 2",
   "language": "python",
   "name": "python2"
  },
  "language_info": {
   "codemirror_mode": {
    "name": "ipython",
    "version": 2
   },
   "file_extension": ".py",
   "mimetype": "text/x-python",
   "name": "python",
   "nbconvert_exporter": "python",
   "pygments_lexer": "ipython2",
   "version": "2.7.11"
  }
 },
 "nbformat": 4,
 "nbformat_minor": 0
}
