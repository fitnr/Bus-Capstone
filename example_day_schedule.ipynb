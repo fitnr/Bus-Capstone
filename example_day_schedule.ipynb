{
 "cells": [
  {
   "cell_type": "code",
   "execution_count": 1,
   "metadata": {
    "collapsed": true
   },
   "outputs": [],
   "source": [
    "import os\n",
    "import pandas as pd\n",
    "import numpy as np\n",
    "import sys\n",
    "sys.path.append('/gpfs2/projects/project-bus_capstone_2016/workspace/mu529/Bus-Capstone')\n",
    "import ttools #homemade module\n",
    "import gtfs #homemade module\n",
    "os.chdir('/gpfs2/projects/project-bus_capstone_2016/workspace/share')\n",
    "%matplotlib inline"
   ]
  },
  {
   "cell_type": "code",
   "execution_count": 2,
   "metadata": {
    "collapsed": false
   },
   "outputs": [
    {
     "name": "stdout",
     "output_type": "stream",
     "text": [
      "Finished loading GTFS data.\n"
     ]
    }
   ],
   "source": [
    "# get all the schedule data. (subset can be created later)\n",
    "trips = gtfs.load_trips('2015-12-03','gtfs/')\n",
    "# stops = gtfs.load_stops('2015-12-03','gtfs/')\n",
    "stop_times, tz_sched = gtfs.load_stop_times('2015-12-03','gtfs/')\n",
    "print 'Finished loading GTFS data.'"
   ]
  },
  {
   "cell_type": "code",
   "execution_count": 10,
   "metadata": {
    "collapsed": false
   },
   "outputs": [
    {
     "data": {
      "text/plain": [
       "['BPPD5-BP_D5-Saturday-10',\n",
       " 'BPPD5-BP_D5-Sunday-10',\n",
       " 'BPPD5-BP_D5-Weekday-10',\n",
       " 'BPPD5-BP_D5-Weekday-10-SDon',\n",
       " 'BPPD5-BP_S5-Weekday-20',\n",
       " 'CA_D5-Saturday',\n",
       " 'CA_D5-Sunday',\n",
       " 'CA_D5-Weekday',\n",
       " 'CA_D5-Weekday-SDon',\n",
       " 'CA_E5-Saturday',\n",
       " 'CA_E5-Sunday',\n",
       " 'CA_E5-Weekday',\n",
       " 'CA_E5-Weekday-SDon',\n",
       " 'CA_S5-Weekday',\n",
       " 'CH_D5-Saturday',\n",
       " 'CH_D5-Sunday',\n",
       " 'CH_D5-Weekday',\n",
       " 'CH_D5-Weekday-SDon',\n",
       " 'CH_E5-Saturday',\n",
       " 'CH_E5-Sunday',\n",
       " 'CH_E5-Weekday',\n",
       " 'CH_E5-Weekday-SDon',\n",
       " 'CH_S5-Weekday',\n",
       " 'CPPD5-CP_D5-Saturday-10',\n",
       " 'CPPD5-CP_D5-Sunday-10',\n",
       " 'CPPD5-CP_D5-Weekday-10',\n",
       " 'CPPD5-CP_D5-Weekday-10-SDon',\n",
       " 'CPPD5-CP_S5-Weekday-20',\n",
       " 'CS_D5-Saturday',\n",
       " 'CS_D5-Sunday',\n",
       " 'CS_D5-Weekday',\n",
       " 'CS_D5-Weekday-SDon',\n",
       " 'CS_E5-Saturday',\n",
       " 'CS_E5-Sunday',\n",
       " 'CS_E5-Weekday',\n",
       " 'CS_E5-Weekday-SDon',\n",
       " 'CS_R5-Weekday',\n",
       " 'CS_S5-Weekday',\n",
       " 'CS_U5-Weekday',\n",
       " 'CS_W5-Weekday',\n",
       " 'CS_Y6-Weekday',\n",
       " 'ECPD5-EC_D5-Saturday-10',\n",
       " 'ECPD5-EC_D5-Sunday-10',\n",
       " 'ECPD5-EC_D5-Weekday-10',\n",
       " 'ECPD5-EC_D5-Weekday-10-SDon',\n",
       " 'ECPD5-EC_S5-Weekday-20',\n",
       " 'EN_D5-Saturday',\n",
       " 'EN_D5-Sunday',\n",
       " 'EN_D5-Weekday',\n",
       " 'EN_D5-Weekday-SDon',\n",
       " 'EN_O5-Weekday',\n",
       " 'EN_R5-Weekday',\n",
       " 'EN_S5-Weekday',\n",
       " 'EN_U5-Weekday',\n",
       " 'EN_W5-Weekday',\n",
       " 'EN_Y6-Weekday',\n",
       " 'FB_D5-Saturday',\n",
       " 'FB_D5-Sunday',\n",
       " 'FB_D5-Weekday',\n",
       " 'FB_D5-Weekday-SDon',\n",
       " 'FB_O5-Weekday',\n",
       " 'FB_R5-Weekday',\n",
       " 'FB_S5-Weekday',\n",
       " 'FB_U5-Weekday',\n",
       " 'FB_W5-Weekday',\n",
       " 'FB_Y6-Weekday',\n",
       " 'FP_D5-Saturday',\n",
       " 'FP_D5-Sunday',\n",
       " 'FP_D5-Weekday',\n",
       " 'FP_D5-Weekday-SDon',\n",
       " 'FP_O5-Weekday',\n",
       " 'FP_R5-Weekday',\n",
       " 'FP_S5-Weekday',\n",
       " 'FP_U5-Weekday',\n",
       " 'FP_W5-Weekday',\n",
       " 'FP_Y6-Weekday',\n",
       " 'FRPD5-FR_D5-Saturday-10',\n",
       " 'FRPD5-FR_D5-Sunday-10',\n",
       " 'FRPD5-FR_D5-Weekday-10',\n",
       " 'FRPD5-FR_D5-Weekday-10-SDon',\n",
       " 'FRPD5-FR_S5-Weekday-20',\n",
       " 'GA_D5-Saturday',\n",
       " 'GA_D5-Saturday-BM',\n",
       " 'GA_D5-Sunday',\n",
       " 'GA_D5-Weekday',\n",
       " 'GA_D5-Weekday-SDon',\n",
       " 'GA_O5-Weekday',\n",
       " 'GA_R5-Weekday',\n",
       " 'GA_S5-Weekday',\n",
       " 'GA_U5-Weekday',\n",
       " 'GA_W5-Weekday',\n",
       " 'GA_Y6-Weekday',\n",
       " 'GH_D5-Saturday',\n",
       " 'GH_D5-Sunday',\n",
       " 'GH_D5-Weekday',\n",
       " 'GH_D5-Weekday-SDon',\n",
       " 'GH_O5-Weekday',\n",
       " 'GH_R5-Weekday',\n",
       " 'GH_S5-Weekday',\n",
       " 'GH_U5-Weekday',\n",
       " 'GH_W5-Weekday',\n",
       " 'GH_Y6-Weekday',\n",
       " 'JA_D5-Saturday',\n",
       " 'JA_D5-Sunday',\n",
       " 'JA_D5-Weekday',\n",
       " 'JA_D5-Weekday-SDon',\n",
       " 'JA_E5-Saturday',\n",
       " 'JA_E5-Sunday',\n",
       " 'JA_E5-Weekday',\n",
       " 'JA_E5-Weekday-SDon',\n",
       " 'JA_R5-Weekday',\n",
       " 'JA_S5-Weekday',\n",
       " 'JA_U5-Weekday',\n",
       " 'JA_W5-Weekday',\n",
       " 'JA_Y6-Weekday',\n",
       " 'JG_D5-Saturday',\n",
       " 'JG_D5-Saturday-BM',\n",
       " 'JG_D5-Sunday',\n",
       " 'JG_D5-Sunday-BM',\n",
       " 'JG_D5-Weekday',\n",
       " 'JG_D5-Weekday-BM',\n",
       " 'JG_D5-Weekday-SDon',\n",
       " 'JG_D5-Weekday-SDon-BM',\n",
       " 'JG_O5-Weekday',\n",
       " 'JG_O5-Weekday-BM',\n",
       " 'JG_R5-Weekday',\n",
       " 'JG_R5-Weekday-BM',\n",
       " 'JG_S5-Weekday',\n",
       " 'JG_S5-Weekday-BM',\n",
       " 'JG_U5-Weekday',\n",
       " 'JG_U5-Weekday-BM',\n",
       " 'JG_W5-Weekday',\n",
       " 'JG_W5-Weekday-BM',\n",
       " 'JG_Y6-Weekday',\n",
       " 'JG_Y6-Weekday-BM',\n",
       " 'JKPD5-JK_D5-Saturday-10',\n",
       " 'JKPD5-JK_D5-Sunday-10',\n",
       " 'JKPD5-JK_D5-Weekday-10',\n",
       " 'JKPD5-JK_D5-Weekday-10-SDon',\n",
       " 'JKPD5-JK_S5-Weekday-20',\n",
       " 'KB_D5-Saturday',\n",
       " 'KB_D5-Sunday',\n",
       " 'KB_D5-Weekday',\n",
       " 'KB_D5-Weekday-SDon',\n",
       " 'KB_O5-Weekday',\n",
       " 'KB_R5-Weekday',\n",
       " 'KB_S5-Weekday',\n",
       " 'KB_U5-Weekday',\n",
       " 'KB_W5-Weekday',\n",
       " 'KB_Y6-Weekday',\n",
       " 'LGPD5-LG_D5-Saturday-10',\n",
       " 'LGPD5-LG_D5-Saturday-10-b4_12a',\n",
       " 'LGPD5-LG_D5-Sunday-10',\n",
       " 'LGPD5-LG_D5-Sunday-10-b4_12a',\n",
       " 'LGPD5-LG_D5-Weekday-10',\n",
       " 'LGPD5-LG_D5-Weekday-10-SDon',\n",
       " 'LGPD5-LG_S5-Weekday-20',\n",
       " 'MA_D5-Weekday',\n",
       " 'MA_D5-Weekday-SDon',\n",
       " 'MA_E5-Weekday',\n",
       " 'MA_E5-Weekday-SDon',\n",
       " 'MA_S5-Weekday',\n",
       " 'MQ_D5-Saturday',\n",
       " 'MQ_D5-Sunday',\n",
       " 'MQ_D5-Weekday',\n",
       " 'MQ_D5-Weekday-SDon',\n",
       " 'MQ_O5-Weekday',\n",
       " 'MQ_R5-Weekday',\n",
       " 'MQ_S5-Weekday',\n",
       " 'MQ_U5-Weekday',\n",
       " 'MQ_W5-Weekday',\n",
       " 'MQ_Y6-Weekday',\n",
       " 'MV_D5-Saturday',\n",
       " 'MV_D5-Saturday-BM',\n",
       " 'MV_D5-Sunday',\n",
       " 'MV_D5-Weekday',\n",
       " 'MV_D5-Weekday-SDon',\n",
       " 'MV_O5-Weekday',\n",
       " 'MV_R5-Weekday',\n",
       " 'MV_S5-Weekday',\n",
       " 'MV_U5-Weekday',\n",
       " 'MV_W5-Weekday',\n",
       " 'MV_Y6-Weekday',\n",
       " 'OF_D5-Saturday',\n",
       " 'OF_D5-Sunday',\n",
       " 'OF_D5-Weekday',\n",
       " 'OF_D5-Weekday-SDon',\n",
       " 'OF_O5-Weekday',\n",
       " 'OF_R5-Weekday',\n",
       " 'OF_S5-Weekday',\n",
       " 'OF_U5-Weekday',\n",
       " 'OF_W5-Weekday',\n",
       " 'OF_Y6-Weekday',\n",
       " 'OH_D5-Saturday',\n",
       " 'OH_D5-Saturday-BM',\n",
       " 'OH_D5-Sunday',\n",
       " 'OH_D5-Sunday-BM',\n",
       " 'OH_D5-Weekday',\n",
       " 'OH_D5-Weekday-BM',\n",
       " 'OH_D5-Weekday-SDon',\n",
       " 'OH_D5-Weekday-SDon-BM',\n",
       " 'OH_O5-Weekday',\n",
       " 'OH_O5-Weekday-BM',\n",
       " 'OH_R5-Weekday',\n",
       " 'OH_R5-Weekday-BM',\n",
       " 'OH_S5-Weekday',\n",
       " 'OH_S5-Weekday-BM',\n",
       " 'OH_U5-Weekday',\n",
       " 'OH_U5-Weekday-BM',\n",
       " 'OH_W5-Weekday',\n",
       " 'OH_W5-Weekday-BM',\n",
       " 'OH_Y6-Weekday',\n",
       " 'OH_Y6-Weekday-BM',\n",
       " 'QV_D5-Saturday',\n",
       " 'QV_D5-Saturday-BM',\n",
       " 'QV_D5-Sunday',\n",
       " 'QV_D5-Sunday-BM',\n",
       " 'QV_D5-Weekday',\n",
       " 'QV_D5-Weekday-BM',\n",
       " 'QV_D5-Weekday-SDon',\n",
       " 'QV_D5-Weekday-SDon-BM',\n",
       " 'QV_E5-Saturday',\n",
       " 'QV_E5-Saturday-BM',\n",
       " 'QV_E5-Sunday',\n",
       " 'QV_E5-Sunday-BM',\n",
       " 'QV_E5-Weekday',\n",
       " 'QV_E5-Weekday-BM',\n",
       " 'QV_E5-Weekday-SDon',\n",
       " 'QV_E5-Weekday-SDon-BM',\n",
       " 'QV_R5-Weekday',\n",
       " 'QV_R5-Weekday-BM',\n",
       " 'QV_S5-Weekday',\n",
       " 'QV_S5-Weekday-BM',\n",
       " 'QV_U5-Weekday',\n",
       " 'QV_U5-Weekday-BM',\n",
       " 'QV_W5-Weekday',\n",
       " 'QV_W5-Weekday-BM',\n",
       " 'QV_Y6-Weekday',\n",
       " 'QV_Y6-Weekday-BM',\n",
       " 'SCPD5-SC_D5-Saturday-10',\n",
       " 'SCPD5-SC_D5-Sunday-10',\n",
       " 'SCPD5-SC_D5-Weekday-10',\n",
       " 'SCPD5-SC_D5-Weekday-10-SDon',\n",
       " 'SCPD5-SC_S5-Weekday-20',\n",
       " 'UP_D5-Saturday',\n",
       " 'UP_D5-Sunday',\n",
       " 'UP_D5-Weekday',\n",
       " 'UP_D5-Weekday-SDon',\n",
       " 'UP_O5-Weekday',\n",
       " 'UP_R5-Weekday',\n",
       " 'UP_S5-Weekday',\n",
       " 'UP_U5-Weekday',\n",
       " 'UP_W5-Weekday',\n",
       " 'UP_Y6-Weekday',\n",
       " 'WF_D5-Saturday',\n",
       " 'WF_D5-Sunday',\n",
       " 'WF_D5-Weekday',\n",
       " 'WF_D5-Weekday-SDon',\n",
       " 'WF_O5-Weekday',\n",
       " 'WF_R5-Weekday',\n",
       " 'WF_S5-Weekday',\n",
       " 'WF_U5-Weekday',\n",
       " 'WF_W5-Weekday',\n",
       " 'WF_Y6-Weekday',\n",
       " 'YOPD5-YO_D5-Saturday-10',\n",
       " 'YOPD5-YO_D5-Sunday-10',\n",
       " 'YOPD5-YO_D5-Weekday-10',\n",
       " 'YOPD5-YO_S5-Weekday-20',\n",
       " 'YU_D5-Saturday',\n",
       " 'YU_D5-Sunday',\n",
       " 'YU_D5-Weekday',\n",
       " 'YU_D5-Weekday-SDon',\n",
       " 'YU_E5-Saturday',\n",
       " 'YU_E5-Sunday',\n",
       " 'YU_E5-Weekday',\n",
       " 'YU_E5-Weekday-SDon',\n",
       " 'YU_S5-Weekday']"
      ]
     },
     "execution_count": 10,
     "metadata": {},
     "output_type": "execute_result"
    }
   ],
   "source": []
  },
  {
   "cell_type": "code",
   "execution_count": 11,
   "metadata": {
    "collapsed": true
   },
   "outputs": [],
   "source": [
    "weekday_services = []\n",
    "for s in list(trips.groupby('service_id').size().index):\n",
    "    if 'Weekday' in s:\n",
    "        weekday_services.append(s)"
   ]
  },
  {
   "cell_type": "code",
   "execution_count": 18,
   "metadata": {
    "collapsed": false
   },
   "outputs": [],
   "source": [
    "weekday_services = np.array(weekday_services)"
   ]
  },
  {
   "cell_type": "code",
   "execution_count": 21,
   "metadata": {
    "collapsed": false
   },
   "outputs": [
    {
     "data": {
      "text/plain": [
       "array(['BPPD5-BP_D5-Weekday-10', 'BPPD5-BP_D5-Weekday-10-SDon',\n",
       "       'BPPD5-BP_S5-Weekday-20', 'CA_D5-Weekday', 'CA_D5-Weekday-SDon',\n",
       "       'CA_E5-Weekday', 'CA_E5-Weekday-SDon', 'CA_S5-Weekday',\n",
       "       'CH_D5-Weekday', 'CH_D5-Weekday-SDon', 'CH_E5-Weekday',\n",
       "       'CH_E5-Weekday-SDon', 'CH_S5-Weekday', 'CPPD5-CP_D5-Weekday-10',\n",
       "       'CPPD5-CP_D5-Weekday-10-SDon', 'CPPD5-CP_S5-Weekday-20',\n",
       "       'CS_D5-Weekday', 'CS_D5-Weekday-SDon', 'CS_E5-Weekday',\n",
       "       'CS_E5-Weekday-SDon', 'CS_R5-Weekday', 'CS_S5-Weekday',\n",
       "       'CS_U5-Weekday', 'CS_W5-Weekday', 'CS_Y6-Weekday',\n",
       "       'ECPD5-EC_D5-Weekday-10', 'ECPD5-EC_D5-Weekday-10-SDon',\n",
       "       'ECPD5-EC_S5-Weekday-20', 'EN_D5-Weekday', 'EN_D5-Weekday-SDon',\n",
       "       'EN_O5-Weekday', 'EN_R5-Weekday', 'EN_S5-Weekday', 'EN_U5-Weekday',\n",
       "       'EN_W5-Weekday', 'EN_Y6-Weekday', 'FB_D5-Weekday',\n",
       "       'FB_D5-Weekday-SDon', 'FB_O5-Weekday', 'FB_R5-Weekday',\n",
       "       'FB_S5-Weekday', 'FB_U5-Weekday', 'FB_W5-Weekday', 'FB_Y6-Weekday',\n",
       "       'FP_D5-Weekday', 'FP_D5-Weekday-SDon', 'FP_O5-Weekday',\n",
       "       'FP_R5-Weekday', 'FP_S5-Weekday', 'FP_U5-Weekday', 'FP_W5-Weekday',\n",
       "       'FP_Y6-Weekday', 'FRPD5-FR_D5-Weekday-10',\n",
       "       'FRPD5-FR_D5-Weekday-10-SDon', 'FRPD5-FR_S5-Weekday-20',\n",
       "       'GA_D5-Weekday', 'GA_D5-Weekday-SDon', 'GA_O5-Weekday',\n",
       "       'GA_R5-Weekday', 'GA_S5-Weekday', 'GA_U5-Weekday', 'GA_W5-Weekday',\n",
       "       'GA_Y6-Weekday', 'GH_D5-Weekday', 'GH_D5-Weekday-SDon',\n",
       "       'GH_O5-Weekday', 'GH_R5-Weekday', 'GH_S5-Weekday', 'GH_U5-Weekday',\n",
       "       'GH_W5-Weekday', 'GH_Y6-Weekday', 'JA_D5-Weekday',\n",
       "       'JA_D5-Weekday-SDon', 'JA_E5-Weekday', 'JA_E5-Weekday-SDon',\n",
       "       'JA_R5-Weekday', 'JA_S5-Weekday', 'JA_U5-Weekday', 'JA_W5-Weekday',\n",
       "       'JA_Y6-Weekday', 'JG_D5-Weekday', 'JG_D5-Weekday-BM',\n",
       "       'JG_D5-Weekday-SDon', 'JG_D5-Weekday-SDon-BM', 'JG_O5-Weekday',\n",
       "       'JG_O5-Weekday-BM', 'JG_R5-Weekday', 'JG_R5-Weekday-BM',\n",
       "       'JG_S5-Weekday', 'JG_S5-Weekday-BM', 'JG_U5-Weekday',\n",
       "       'JG_U5-Weekday-BM', 'JG_W5-Weekday', 'JG_W5-Weekday-BM',\n",
       "       'JG_Y6-Weekday', 'JG_Y6-Weekday-BM', 'JKPD5-JK_D5-Weekday-10',\n",
       "       'JKPD5-JK_D5-Weekday-10-SDon', 'JKPD5-JK_S5-Weekday-20',\n",
       "       'KB_D5-Weekday', 'KB_D5-Weekday-SDon', 'KB_O5-Weekday',\n",
       "       'KB_R5-Weekday', 'KB_S5-Weekday', 'KB_U5-Weekday', 'KB_W5-Weekday',\n",
       "       'KB_Y6-Weekday', 'LGPD5-LG_D5-Weekday-10',\n",
       "       'LGPD5-LG_D5-Weekday-10-SDon', 'LGPD5-LG_S5-Weekday-20',\n",
       "       'MA_D5-Weekday', 'MA_D5-Weekday-SDon', 'MA_E5-Weekday',\n",
       "       'MA_E5-Weekday-SDon', 'MA_S5-Weekday', 'MQ_D5-Weekday',\n",
       "       'MQ_D5-Weekday-SDon', 'MQ_O5-Weekday', 'MQ_R5-Weekday',\n",
       "       'MQ_S5-Weekday', 'MQ_U5-Weekday', 'MQ_W5-Weekday', 'MQ_Y6-Weekday',\n",
       "       'MV_D5-Weekday', 'MV_D5-Weekday-SDon', 'MV_O5-Weekday',\n",
       "       'MV_R5-Weekday', 'MV_S5-Weekday', 'MV_U5-Weekday', 'MV_W5-Weekday',\n",
       "       'MV_Y6-Weekday', 'OF_D5-Weekday', 'OF_D5-Weekday-SDon',\n",
       "       'OF_O5-Weekday', 'OF_R5-Weekday', 'OF_S5-Weekday', 'OF_U5-Weekday',\n",
       "       'OF_W5-Weekday', 'OF_Y6-Weekday', 'OH_D5-Weekday',\n",
       "       'OH_D5-Weekday-BM', 'OH_D5-Weekday-SDon', 'OH_D5-Weekday-SDon-BM',\n",
       "       'OH_O5-Weekday', 'OH_O5-Weekday-BM', 'OH_R5-Weekday',\n",
       "       'OH_R5-Weekday-BM', 'OH_S5-Weekday', 'OH_S5-Weekday-BM',\n",
       "       'OH_U5-Weekday', 'OH_U5-Weekday-BM', 'OH_W5-Weekday',\n",
       "       'OH_W5-Weekday-BM', 'OH_Y6-Weekday', 'OH_Y6-Weekday-BM',\n",
       "       'QV_D5-Weekday', 'QV_D5-Weekday-BM', 'QV_D5-Weekday-SDon',\n",
       "       'QV_D5-Weekday-SDon-BM', 'QV_E5-Weekday', 'QV_E5-Weekday-BM',\n",
       "       'QV_E5-Weekday-SDon', 'QV_E5-Weekday-SDon-BM', 'QV_R5-Weekday',\n",
       "       'QV_R5-Weekday-BM', 'QV_S5-Weekday', 'QV_S5-Weekday-BM',\n",
       "       'QV_U5-Weekday', 'QV_U5-Weekday-BM', 'QV_W5-Weekday',\n",
       "       'QV_W5-Weekday-BM', 'QV_Y6-Weekday', 'QV_Y6-Weekday-BM',\n",
       "       'SCPD5-SC_D5-Weekday-10', 'SCPD5-SC_D5-Weekday-10-SDon',\n",
       "       'SCPD5-SC_S5-Weekday-20', 'UP_D5-Weekday', 'UP_D5-Weekday-SDon',\n",
       "       'UP_O5-Weekday', 'UP_R5-Weekday', 'UP_S5-Weekday', 'UP_U5-Weekday',\n",
       "       'UP_W5-Weekday', 'UP_Y6-Weekday', 'WF_D5-Weekday',\n",
       "       'WF_D5-Weekday-SDon', 'WF_O5-Weekday', 'WF_R5-Weekday',\n",
       "       'WF_S5-Weekday', 'WF_U5-Weekday', 'WF_W5-Weekday', 'WF_Y6-Weekday',\n",
       "       'YOPD5-YO_D5-Weekday-10', 'YOPD5-YO_S5-Weekday-20', 'YU_D5-Weekday',\n",
       "       'YU_D5-Weekday-SDon', 'YU_E5-Weekday', 'YU_E5-Weekday-SDon',\n",
       "       'YU_S5-Weekday'], \n",
       "      dtype='|S27')"
      ]
     },
     "execution_count": 21,
     "metadata": {},
     "output_type": "execute_result"
    }
   ],
   "source": [
    "weekday_services"
   ]
  },
  {
   "cell_type": "code",
   "execution_count": 23,
   "metadata": {
    "collapsed": false
   },
   "outputs": [],
   "source": [
    "weekday_trips = []\n",
    "for index, row in trips.iterrows():\n",
    "    if 'Weekday' in row.service_id:\n",
    "        weekday_trips.append(index)"
   ]
  },
  {
   "cell_type": "code",
   "execution_count": 25,
   "metadata": {
    "collapsed": false
   },
   "outputs": [
    {
     "data": {
      "text/plain": [
       "array(['EN_U5-Weekday-008000_B12_1', 'EN_U5-Weekday-011000_B12_1',\n",
       "       'EN_U5-Weekday-016000_B12_1', ...,\n",
       "       '9911857-SCPD5-SC_D5-Weekday-10-SDon',\n",
       "       '9911858-SCPD5-SC_D5-Weekday-10-SDon',\n",
       "       '9911859-SCPD5-SC_D5-Weekday-10-SDon'], \n",
       "      dtype='|S35')"
      ]
     },
     "execution_count": 25,
     "metadata": {},
     "output_type": "execute_result"
    }
   ],
   "source": [
    "weekday_trips"
   ]
  },
  {
   "cell_type": "code",
   "execution_count": null,
   "metadata": {
    "collapsed": true
   },
   "outputs": [],
   "source": [
    "weekday_trips = np.array(weekday_trips)"
   ]
  },
  {
   "cell_type": "code",
   "execution_count": 31,
   "metadata": {
    "collapsed": false
   },
   "outputs": [
    {
     "ename": "TypeError",
     "evalue": "",
     "output_type": "error",
     "traceback": [
      "\u001b[1;31m---------------------------------------------------------------------------\u001b[0m",
      "\u001b[1;31mTypeError\u001b[0m                                 Traceback (most recent call last)",
      "\u001b[1;32m<ipython-input-31-f655eb3432d3>\u001b[0m in \u001b[0;36m<module>\u001b[1;34m()\u001b[0m\n\u001b[1;32m----> 1\u001b[1;33m \u001b[0mstop_times\u001b[0m\u001b[1;33m.\u001b[0m\u001b[0mloc\u001b[0m\u001b[1;33m[\u001b[0m\u001b[0mweekday_trips\u001b[0m\u001b[1;33m]\u001b[0m\u001b[1;33m\u001b[0m\u001b[0m\n\u001b[0m",
      "\u001b[1;32m/opt/rh/anaconda/root/lib/python2.7/site-packages/pandas/core/indexing.pyc\u001b[0m in \u001b[0;36m__getitem__\u001b[1;34m(self, key)\u001b[0m\n\u001b[0;32m   1178\u001b[0m             \u001b[1;32mreturn\u001b[0m \u001b[0mself\u001b[0m\u001b[1;33m.\u001b[0m\u001b[0m_getitem_tuple\u001b[0m\u001b[1;33m(\u001b[0m\u001b[0mkey\u001b[0m\u001b[1;33m)\u001b[0m\u001b[1;33m\u001b[0m\u001b[0m\n\u001b[0;32m   1179\u001b[0m         \u001b[1;32melse\u001b[0m\u001b[1;33m:\u001b[0m\u001b[1;33m\u001b[0m\u001b[0m\n\u001b[1;32m-> 1180\u001b[1;33m             \u001b[1;32mreturn\u001b[0m \u001b[0mself\u001b[0m\u001b[1;33m.\u001b[0m\u001b[0m_getitem_axis\u001b[0m\u001b[1;33m(\u001b[0m\u001b[0mkey\u001b[0m\u001b[1;33m,\u001b[0m \u001b[0maxis\u001b[0m\u001b[1;33m=\u001b[0m\u001b[1;36m0\u001b[0m\u001b[1;33m)\u001b[0m\u001b[1;33m\u001b[0m\u001b[0m\n\u001b[0m\u001b[0;32m   1181\u001b[0m \u001b[1;33m\u001b[0m\u001b[0m\n\u001b[0;32m   1182\u001b[0m     \u001b[1;32mdef\u001b[0m \u001b[0m_getitem_axis\u001b[0m\u001b[1;33m(\u001b[0m\u001b[0mself\u001b[0m\u001b[1;33m,\u001b[0m \u001b[0mkey\u001b[0m\u001b[1;33m,\u001b[0m \u001b[0maxis\u001b[0m\u001b[1;33m=\u001b[0m\u001b[1;36m0\u001b[0m\u001b[1;33m)\u001b[0m\u001b[1;33m:\u001b[0m\u001b[1;33m\u001b[0m\u001b[0m\n",
      "\u001b[1;32m/opt/rh/anaconda/root/lib/python2.7/site-packages/pandas/core/indexing.pyc\u001b[0m in \u001b[0;36m_getitem_axis\u001b[1;34m(self, key, axis)\u001b[0m\n\u001b[0;32m   1323\u001b[0m         \u001b[1;31m# fall thru to straight lookup\u001b[0m\u001b[1;33m\u001b[0m\u001b[1;33m\u001b[0m\u001b[0m\n\u001b[0;32m   1324\u001b[0m         \u001b[0mself\u001b[0m\u001b[1;33m.\u001b[0m\u001b[0m_has_valid_type\u001b[0m\u001b[1;33m(\u001b[0m\u001b[0mkey\u001b[0m\u001b[1;33m,\u001b[0m \u001b[0maxis\u001b[0m\u001b[1;33m)\u001b[0m\u001b[1;33m\u001b[0m\u001b[0m\n\u001b[1;32m-> 1325\u001b[1;33m         \u001b[1;32mreturn\u001b[0m \u001b[0mself\u001b[0m\u001b[1;33m.\u001b[0m\u001b[0m_get_label\u001b[0m\u001b[1;33m(\u001b[0m\u001b[0mkey\u001b[0m\u001b[1;33m,\u001b[0m \u001b[0maxis\u001b[0m\u001b[1;33m=\u001b[0m\u001b[0maxis\u001b[0m\u001b[1;33m)\u001b[0m\u001b[1;33m\u001b[0m\u001b[0m\n\u001b[0m\u001b[0;32m   1326\u001b[0m \u001b[1;33m\u001b[0m\u001b[0m\n\u001b[0;32m   1327\u001b[0m \u001b[1;33m\u001b[0m\u001b[0m\n",
      "\u001b[1;32m/opt/rh/anaconda/root/lib/python2.7/site-packages/pandas/core/indexing.pyc\u001b[0m in \u001b[0;36m_get_label\u001b[1;34m(self, label, axis)\u001b[0m\n\u001b[0;32m     87\u001b[0m             \u001b[1;32mraise\u001b[0m \u001b[0mIndexingError\u001b[0m\u001b[1;33m(\u001b[0m\u001b[1;34m'no slices here, handle elsewhere'\u001b[0m\u001b[1;33m)\u001b[0m\u001b[1;33m\u001b[0m\u001b[0m\n\u001b[0;32m     88\u001b[0m \u001b[1;33m\u001b[0m\u001b[0m\n\u001b[1;32m---> 89\u001b[1;33m         \u001b[1;32mreturn\u001b[0m \u001b[0mself\u001b[0m\u001b[1;33m.\u001b[0m\u001b[0mobj\u001b[0m\u001b[1;33m.\u001b[0m\u001b[0m_xs\u001b[0m\u001b[1;33m(\u001b[0m\u001b[0mlabel\u001b[0m\u001b[1;33m,\u001b[0m \u001b[0maxis\u001b[0m\u001b[1;33m=\u001b[0m\u001b[0maxis\u001b[0m\u001b[1;33m)\u001b[0m\u001b[1;33m\u001b[0m\u001b[0m\n\u001b[0m\u001b[0;32m     90\u001b[0m \u001b[1;33m\u001b[0m\u001b[0m\n\u001b[0;32m     91\u001b[0m     \u001b[1;32mdef\u001b[0m \u001b[0m_get_loc\u001b[0m\u001b[1;33m(\u001b[0m\u001b[0mself\u001b[0m\u001b[1;33m,\u001b[0m \u001b[0mkey\u001b[0m\u001b[1;33m,\u001b[0m \u001b[0maxis\u001b[0m\u001b[1;33m=\u001b[0m\u001b[1;36m0\u001b[0m\u001b[1;33m)\u001b[0m\u001b[1;33m:\u001b[0m\u001b[1;33m\u001b[0m\u001b[0m\n",
      "\u001b[1;32m/opt/rh/anaconda/root/lib/python2.7/site-packages/pandas/core/generic.pyc\u001b[0m in \u001b[0;36mxs\u001b[1;34m(self, key, axis, level, copy, drop_level)\u001b[0m\n\u001b[0;32m   1468\u001b[0m         \u001b[1;32mif\u001b[0m \u001b[0misinstance\u001b[0m\u001b[1;33m(\u001b[0m\u001b[0mindex\u001b[0m\u001b[1;33m,\u001b[0m \u001b[0mMultiIndex\u001b[0m\u001b[1;33m)\u001b[0m\u001b[1;33m:\u001b[0m\u001b[1;33m\u001b[0m\u001b[0m\n\u001b[0;32m   1469\u001b[0m             loc, new_index = self.index.get_loc_level(key,\n\u001b[1;32m-> 1470\u001b[1;33m                                                       drop_level=drop_level)\n\u001b[0m\u001b[0;32m   1471\u001b[0m         \u001b[1;32melse\u001b[0m\u001b[1;33m:\u001b[0m\u001b[1;33m\u001b[0m\u001b[0m\n\u001b[0;32m   1472\u001b[0m             \u001b[0mloc\u001b[0m \u001b[1;33m=\u001b[0m \u001b[0mself\u001b[0m\u001b[1;33m.\u001b[0m\u001b[0mindex\u001b[0m\u001b[1;33m.\u001b[0m\u001b[0mget_loc\u001b[0m\u001b[1;33m(\u001b[0m\u001b[0mkey\u001b[0m\u001b[1;33m)\u001b[0m\u001b[1;33m\u001b[0m\u001b[0m\n",
      "\u001b[1;32m/opt/rh/anaconda/root/lib/python2.7/site-packages/pandas/core/index.pyc\u001b[0m in \u001b[0;36mget_loc_level\u001b[1;34m(self, key, level, drop_level)\u001b[0m\n\u001b[0;32m   5205\u001b[0m                         \u001b[1;32mreturn\u001b[0m \u001b[0mpartial_selection\u001b[0m\u001b[1;33m(\u001b[0m\u001b[0mkey\u001b[0m\u001b[1;33m)\u001b[0m\u001b[1;33m\u001b[0m\u001b[0m\n\u001b[0;32m   5206\u001b[0m                 \u001b[1;32melse\u001b[0m\u001b[1;33m:\u001b[0m\u001b[1;33m\u001b[0m\u001b[0m\n\u001b[1;32m-> 5207\u001b[1;33m                     \u001b[1;32mreturn\u001b[0m \u001b[0mpartial_selection\u001b[0m\u001b[1;33m(\u001b[0m\u001b[0mkey\u001b[0m\u001b[1;33m)\u001b[0m\u001b[1;33m\u001b[0m\u001b[0m\n\u001b[0m\u001b[0;32m   5208\u001b[0m             \u001b[1;32melse\u001b[0m\u001b[1;33m:\u001b[0m\u001b[1;33m\u001b[0m\u001b[0m\n\u001b[0;32m   5209\u001b[0m                 \u001b[0mindexer\u001b[0m \u001b[1;33m=\u001b[0m \u001b[0mNone\u001b[0m\u001b[1;33m\u001b[0m\u001b[0m\n",
      "\u001b[1;32m/opt/rh/anaconda/root/lib/python2.7/site-packages/pandas/core/index.pyc\u001b[0m in \u001b[0;36mpartial_selection\u001b[1;34m(key, indexer)\u001b[0m\n\u001b[0;32m   5170\u001b[0m                 \u001b[1;32mdef\u001b[0m \u001b[0mpartial_selection\u001b[0m\u001b[1;33m(\u001b[0m\u001b[0mkey\u001b[0m\u001b[1;33m,\u001b[0m \u001b[0mindexer\u001b[0m\u001b[1;33m=\u001b[0m\u001b[0mNone\u001b[0m\u001b[1;33m)\u001b[0m\u001b[1;33m:\u001b[0m\u001b[1;33m\u001b[0m\u001b[0m\n\u001b[0;32m   5171\u001b[0m                     \u001b[1;32mif\u001b[0m \u001b[0mindexer\u001b[0m \u001b[1;32mis\u001b[0m \u001b[0mNone\u001b[0m\u001b[1;33m:\u001b[0m\u001b[1;33m\u001b[0m\u001b[0m\n\u001b[1;32m-> 5172\u001b[1;33m                         \u001b[0mindexer\u001b[0m \u001b[1;33m=\u001b[0m \u001b[0mself\u001b[0m\u001b[1;33m.\u001b[0m\u001b[0mget_loc\u001b[0m\u001b[1;33m(\u001b[0m\u001b[0mkey\u001b[0m\u001b[1;33m)\u001b[0m\u001b[1;33m\u001b[0m\u001b[0m\n\u001b[0m\u001b[0;32m   5173\u001b[0m                     ilevels = [i for i in range(len(key))\n\u001b[0;32m   5174\u001b[0m                                if key[i] != slice(None, None)]\n",
      "\u001b[1;32m/opt/rh/anaconda/root/lib/python2.7/site-packages/pandas/core/index.pyc\u001b[0m in \u001b[0;36mget_loc\u001b[1;34m(self, key, method)\u001b[0m\n\u001b[0;32m   5094\u001b[0m \u001b[1;33m\u001b[0m\u001b[0m\n\u001b[0;32m   5095\u001b[0m         \u001b[1;32mfor\u001b[0m \u001b[0mi\u001b[0m\u001b[1;33m,\u001b[0m \u001b[0mk\u001b[0m \u001b[1;32min\u001b[0m \u001b[0menumerate\u001b[0m\u001b[1;33m(\u001b[0m\u001b[0mfollow_key\u001b[0m\u001b[1;33m,\u001b[0m \u001b[0mlen\u001b[0m\u001b[1;33m(\u001b[0m\u001b[0mlead_key\u001b[0m\u001b[1;33m)\u001b[0m\u001b[1;33m)\u001b[0m\u001b[1;33m:\u001b[0m\u001b[1;33m\u001b[0m\u001b[0m\n\u001b[1;32m-> 5096\u001b[1;33m             \u001b[0mmask\u001b[0m \u001b[1;33m=\u001b[0m \u001b[0mself\u001b[0m\u001b[1;33m.\u001b[0m\u001b[0mlabels\u001b[0m\u001b[1;33m[\u001b[0m\u001b[0mi\u001b[0m\u001b[1;33m]\u001b[0m\u001b[1;33m[\u001b[0m\u001b[0mloc\u001b[0m\u001b[1;33m]\u001b[0m \u001b[1;33m==\u001b[0m \u001b[0mself\u001b[0m\u001b[1;33m.\u001b[0m\u001b[0mlevels\u001b[0m\u001b[1;33m[\u001b[0m\u001b[0mi\u001b[0m\u001b[1;33m]\u001b[0m\u001b[1;33m.\u001b[0m\u001b[0mget_loc\u001b[0m\u001b[1;33m(\u001b[0m\u001b[0mk\u001b[0m\u001b[1;33m)\u001b[0m\u001b[1;33m\u001b[0m\u001b[0m\n\u001b[0m\u001b[0;32m   5097\u001b[0m             \u001b[1;32mif\u001b[0m \u001b[1;32mnot\u001b[0m \u001b[0mmask\u001b[0m\u001b[1;33m.\u001b[0m\u001b[0mall\u001b[0m\u001b[1;33m(\u001b[0m\u001b[1;33m)\u001b[0m\u001b[1;33m:\u001b[0m\u001b[1;33m\u001b[0m\u001b[0m\n\u001b[0;32m   5098\u001b[0m                 \u001b[0mloc\u001b[0m \u001b[1;33m=\u001b[0m \u001b[0mloc\u001b[0m\u001b[1;33m[\u001b[0m\u001b[0mmask\u001b[0m\u001b[1;33m]\u001b[0m\u001b[1;33m\u001b[0m\u001b[0m\n",
      "\u001b[1;32m/opt/rh/anaconda/root/lib/python2.7/site-packages/pandas/core/index.pyc\u001b[0m in \u001b[0;36mget_loc\u001b[1;34m(self, key, method)\u001b[0m\n\u001b[0;32m   1576\u001b[0m         \"\"\"\n\u001b[0;32m   1577\u001b[0m         \u001b[1;32mif\u001b[0m \u001b[0mmethod\u001b[0m \u001b[1;32mis\u001b[0m \u001b[0mNone\u001b[0m\u001b[1;33m:\u001b[0m\u001b[1;33m\u001b[0m\u001b[0m\n\u001b[1;32m-> 1578\u001b[1;33m             \u001b[1;32mreturn\u001b[0m \u001b[0mself\u001b[0m\u001b[1;33m.\u001b[0m\u001b[0m_engine\u001b[0m\u001b[1;33m.\u001b[0m\u001b[0mget_loc\u001b[0m\u001b[1;33m(\u001b[0m\u001b[0m_values_from_object\u001b[0m\u001b[1;33m(\u001b[0m\u001b[0mkey\u001b[0m\u001b[1;33m)\u001b[0m\u001b[1;33m)\u001b[0m\u001b[1;33m\u001b[0m\u001b[0m\n\u001b[0m\u001b[0;32m   1579\u001b[0m \u001b[1;33m\u001b[0m\u001b[0m\n\u001b[0;32m   1580\u001b[0m         \u001b[0mindexer\u001b[0m \u001b[1;33m=\u001b[0m \u001b[0mself\u001b[0m\u001b[1;33m.\u001b[0m\u001b[0mget_indexer\u001b[0m\u001b[1;33m(\u001b[0m\u001b[1;33m[\u001b[0m\u001b[0mkey\u001b[0m\u001b[1;33m]\u001b[0m\u001b[1;33m,\u001b[0m \u001b[0mmethod\u001b[0m\u001b[1;33m=\u001b[0m\u001b[0mmethod\u001b[0m\u001b[1;33m)\u001b[0m\u001b[1;33m\u001b[0m\u001b[0m\n",
      "\u001b[1;32mpandas/index.pyx\u001b[0m in \u001b[0;36mpandas.index.IndexEngine.get_loc (pandas/index.c:3824)\u001b[1;34m()\u001b[0m\n",
      "\u001b[1;32mpandas/index.pyx\u001b[0m in \u001b[0;36mpandas.index.IndexEngine.get_loc (pandas/index.c:3492)\u001b[1;34m()\u001b[0m\n",
      "\u001b[1;31mTypeError\u001b[0m: "
     ]
    }
   ],
   "source": [
    "stop_times.loc[weekday_trips]"
   ]
  },
  {
   "cell_type": "code",
   "execution_count": 15,
   "metadata": {
    "collapsed": false
   },
   "outputs": [
    {
     "data": {
      "text/html": [
       "<div style=\"max-height:1000px;max-width:1500px;overflow:auto;\">\n",
       "<table border=\"1\" class=\"dataframe\">\n",
       "  <thead>\n",
       "    <tr style=\"text-align: right;\">\n",
       "      <th></th>\n",
       "      <th></th>\n",
       "      <th>arrival_time</th>\n",
       "      <th>departure_time</th>\n",
       "      <th>stop_sequence</th>\n",
       "      <th>pickup_type</th>\n",
       "      <th>drop_off_type</th>\n",
       "    </tr>\n",
       "    <tr>\n",
       "      <th>trip_id</th>\n",
       "      <th>stop_id</th>\n",
       "      <th></th>\n",
       "      <th></th>\n",
       "      <th></th>\n",
       "      <th></th>\n",
       "      <th></th>\n",
       "    </tr>\n",
       "  </thead>\n",
       "  <tbody>\n",
       "    <tr>\n",
       "      <th rowspan=\"5\" valign=\"top\">EN_U5-Weekday-008000_B12_1</th>\n",
       "      <th>901471</th>\n",
       "      <td>01:20:00</td>\n",
       "      <td>01:20:00</td>\n",
       "      <td>1</td>\n",
       "      <td>0</td>\n",
       "      <td>0</td>\n",
       "    </tr>\n",
       "    <tr>\n",
       "      <th>301386</th>\n",
       "      <td>01:21:28</td>\n",
       "      <td>01:21:28</td>\n",
       "      <td>2</td>\n",
       "      <td>0</td>\n",
       "      <td>0</td>\n",
       "    </tr>\n",
       "    <tr>\n",
       "      <th>301387</th>\n",
       "      <td>01:22:00</td>\n",
       "      <td>01:22:00</td>\n",
       "      <td>3</td>\n",
       "      <td>0</td>\n",
       "      <td>0</td>\n",
       "    </tr>\n",
       "    <tr>\n",
       "      <th>301388</th>\n",
       "      <td>01:22:55</td>\n",
       "      <td>01:22:55</td>\n",
       "      <td>4</td>\n",
       "      <td>0</td>\n",
       "      <td>0</td>\n",
       "    </tr>\n",
       "    <tr>\n",
       "      <th>301389</th>\n",
       "      <td>01:23:13</td>\n",
       "      <td>01:23:13</td>\n",
       "      <td>5</td>\n",
       "      <td>0</td>\n",
       "      <td>0</td>\n",
       "    </tr>\n",
       "  </tbody>\n",
       "</table>\n",
       "</div>"
      ],
      "text/plain": [
       "                                   arrival_time departure_time  stop_sequence  \\\n",
       "trip_id                    stop_id                                              \n",
       "EN_U5-Weekday-008000_B12_1 901471      01:20:00       01:20:00              1   \n",
       "                           301386      01:21:28       01:21:28              2   \n",
       "                           301387      01:22:00       01:22:00              3   \n",
       "                           301388      01:22:55       01:22:55              4   \n",
       "                           301389      01:23:13       01:23:13              5   \n",
       "\n",
       "                                    pickup_type  drop_off_type  \n",
       "trip_id                    stop_id                              \n",
       "EN_U5-Weekday-008000_B12_1 901471             0              0  \n",
       "                           301386             0              0  \n",
       "                           301387             0              0  \n",
       "                           301388             0              0  \n",
       "                           301389             0              0  "
      ]
     },
     "execution_count": 15,
     "metadata": {},
     "output_type": "execute_result"
    }
   ],
   "source": [
    "stop_times.head()"
   ]
  },
  {
   "cell_type": "code",
   "execution_count": 39,
   "metadata": {
    "collapsed": true
   },
   "outputs": [],
   "source": [
    "import time"
   ]
  },
  {
   "cell_type": "code",
   "execution_count": 45,
   "metadata": {
    "collapsed": false
   },
   "outputs": [
    {
     "data": {
      "text/plain": [
       "arrival_time      object\n",
       "departure_time    object\n",
       "stop_sequence      int64\n",
       "pickup_type        int64\n",
       "drop_off_type      int64\n",
       "dtype: object"
      ]
     },
     "execution_count": 45,
     "metadata": {},
     "output_type": "execute_result"
    }
   ],
   "source": [
    "stop_times.dtypes"
   ]
  },
  {
   "cell_type": "code",
   "execution_count": 51,
   "metadata": {
    "collapsed": false
   },
   "outputs": [],
   "source": [
    "stop_times['arrival_time'] = pd.to_timedelta(stop_times['arrival_time'])\n",
    "# stop_times['departure_time'] = pd.to_timedelta(stop_times['departure_time'])"
   ]
  },
  {
   "cell_type": "code",
   "execution_count": 54,
   "metadata": {
    "collapsed": false
   },
   "outputs": [],
   "source": [
    "trip_durations = stop_times.groupby(level=(0))['arrival_time'].max()"
   ]
  },
  {
   "cell_type": "code",
   "execution_count": 56,
   "metadata": {
    "collapsed": false
   },
   "outputs": [],
   "source": [
    "trip_durations = trip_durations - stop_times.groupby(level=(0))['arrival_time'].min()"
   ]
  },
  {
   "cell_type": "code",
   "execution_count": 61,
   "metadata": {
    "collapsed": false
   },
   "outputs": [
    {
     "data": {
      "text/plain": [
       "count                    395723\n",
       "mean     0 days 00:46:32.805002\n",
       "std      0 days 00:19:39.089253\n",
       "min             0 days 00:02:00\n",
       "25%             0 days 00:32:00\n",
       "50%             0 days 00:44:00\n",
       "75%             0 days 00:59:00\n",
       "max             0 days 02:52:00\n",
       "Name: arrival_time, dtype: object"
      ]
     },
     "execution_count": 61,
     "metadata": {},
     "output_type": "execute_result"
    }
   ],
   "source": [
    "trip_durations.describe()"
   ]
  },
  {
   "cell_type": "code",
   "execution_count": 64,
   "metadata": {
    "collapsed": false
   },
   "outputs": [
    {
     "data": {
      "text/plain": [
       "<matplotlib.axes._subplots.AxesSubplot at 0x7fa1e1c24e50>"
      ]
     },
     "execution_count": 64,
     "metadata": {},
     "output_type": "execute_result"
    },
    {
     "data": {
      "image/png": "[encoded data removed]",
      "text/plain": [
       "<matplotlib.figure.Figure at 0x7fa1e1c705d0>"
      ]
     },
     "metadata": {},
     "output_type": "display_data"
    }
   ],
   "source": [
    "(trip_durations/ttools.datetime.timedelta(minutes=1)).hist(bins=20)"
   ]
  },
  {
   "cell_type": "code",
   "execution_count": 67,
   "metadata": {
    "collapsed": false
   },
   "outputs": [
    {
     "data": {
      "text/plain": [
       "(array([ 3961, 13828, 48599, 59335, 74194, 60698, 50974, 33746, 24119,\n",
       "        12920,  6866,  2893,  1849,  1250,   391,     6,    15,    55,\n",
       "            0,    24]),\n",
       " array([   2. ,   10.5,   19. ,   27.5,   36. ,   44.5,   53. ,   61.5,\n",
       "          70. ,   78.5,   87. ,   95.5,  104. ,  112.5,  121. ,  129.5,\n",
       "         138. ,  146.5,  155. ,  163.5,  172. ]))"
      ]
     },
     "execution_count": 67,
     "metadata": {},
     "output_type": "execute_result"
    }
   ],
   "source": [
    "np.histogram((trip_durations/ttools.datetime.timedelta(minutes=1)),bins=20)"
   ]
  },
  {
   "cell_type": "code",
   "execution_count": null,
   "metadata": {
    "collapsed": true
   },
   "outputs": [],
   "source": []
  }
 ],
 "metadata": {
  "kernelspec": {
   "display_name": "Python 2",
   "language": "python",
   "name": "python2"
  },
  "language_info": {
   "codemirror_mode": {
    "name": "ipython",
    "version": 2
   },
   "file_extension": ".py",
   "mimetype": "text/x-python",
   "name": "python",
   "nbconvert_exporter": "python",
   "pygments_lexer": "ipython2",
   "version": "2.7.11"
  }
 },
 "nbformat": 4,
 "nbformat_minor": 0
}
