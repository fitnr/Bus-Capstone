{
 "cells": [
  {
   "cell_type": "code",
   "execution_count": 1,
   "metadata": {
    "collapsed": true
   },
   "outputs": [],
   "source": [
    "import os\n",
    "import pandas as pd\n",
    "import matplotlib.pyplot as plt\n",
    "from scipy import interpolate\n",
    "import time\n",
    "%matplotlib inline  \n",
    "import sys\n",
    "sys.path.append('/gpfs2/projects/project-bus_capstone_2016/workspace/mu529/bus-Capstone')\n",
    "\n",
    "# these two modules are homemade\n",
    "import gtfs\n",
    "import arrivals\n",
    "import ttools\n",
    "os.chdir('/gpfs2/projects/project-bus_capstone_2016/workspace/share')"
   ]
  },
  {
   "cell_type": "code",
   "execution_count": 10,
   "metadata": {
    "collapsed": false
   },
   "outputs": [
    {
     "name": "stdout",
     "output_type": "stream",
     "text": [
      "Finished loading GTFS data.\n"
     ]
    }
   ],
   "source": [
    "# get all the schedule data. (subset can be created later)\n",
    "trips = gtfs.load_trips('2015-12-03','gtfs/')\n",
    "stops = gtfs.load_stops('2015-12-03','gtfs/')\n",
    "stop_times, tz_sched = gtfs.load_stop_times('2015-12-03','gtfs/')\n",
    "tcal=gtfs.TransitCalendar('2015-12-03')\n",
    "thurs_services = tcal.get_service_ids('2015-12-03')\n",
    "thurs_trips = trips.service_id.isin(thurs_services)\n",
    "thurs_stops = stop_times.reset_index().set_index('trip_id').loc[thurs_trips]\n",
    "print 'Finished loading GTFS data.'"
   ]
  },
  {
   "cell_type": "code",
   "execution_count": 99,
   "metadata": {
    "collapsed": true
   },
   "outputs": [],
   "source": [
    "interpolated = pd.read_csv('2015-12-03_interpolated.csv')"
   ]
  },
  {
   "cell_type": "code",
   "execution_count": 100,
   "metadata": {
    "collapsed": true
   },
   "outputs": [],
   "source": [
    "interpolated['interpolated_arrival_time'] = pd.to_timedelta(interpolated['interpolated_arrival_time'])"
   ]
  },
  {
   "cell_type": "code",
   "execution_count": 102,
   "metadata": {
    "collapsed": false
   },
   "outputs": [],
   "source": [
    "interpolated = interpolated.merge(stop_times[['arrival_time','stop_sequence']],how='left',left_on=['trip_id','stop_id'],right_index=True)"
   ]
  },
  {
   "cell_type": "code",
   "execution_count": 103,
   "metadata": {
    "collapsed": false
   },
   "outputs": [],
   "source": [
    "# bools = interpolated.duplicated(subset=['route','trip_id','trip_date','vehicle_id','stop_id'],take_last=False) + interpolated.duplicated(subset=['route','trip_id','trip_date','vehicle_id','stop_id'],take_last=True)\n",
    "# interpolated[bools].sort(['route','trip_id','trip_date','vehicle_id']).shape"
   ]
  },
  {
   "cell_type": "code",
   "execution_count": 104,
   "metadata": {
    "collapsed": false
   },
   "outputs": [],
   "source": [
    "interpolated.set_index(['route','trip_id','trip_date','vehicle_id','stop_sequence','stop_id'],inplace=True)"
   ]
  },
  {
   "cell_type": "markdown",
   "metadata": {},
   "source": [
    "## Get mean travel times based interpolations between stops"
   ]
  },
  {
   "cell_type": "code",
   "execution_count": 105,
   "metadata": {
    "collapsed": true
   },
   "outputs": [],
   "source": [
    "travel_times = interpolated['interpolated_arrival_time']/ttools.datetime.timedelta(seconds=1)"
   ]
  },
  {
   "cell_type": "code",
   "execution_count": 106,
   "metadata": {
    "collapsed": false
   },
   "outputs": [
    {
     "data": {
      "text/plain": [
       "route          trip_id                            trip_date   vehicle_id     stop_sequence  stop_id\n",
       "MTA NYCT_M101  OH_D5-Weekday-SDon-036500_M101_38  2015-12-03  MTA NYCT_5879  2              402805     22448.112401\n",
       "                                                                             3              405057     22505.545780\n",
       "                                                                             4              403416     22618.526210\n",
       "                                                                             5              402809     22645.226045\n",
       "                                                                             6              402811     22716.819142\n",
       "Name: interpolated_arrival_time, dtype: float64"
      ]
     },
     "execution_count": 106,
     "metadata": {},
     "output_type": "execute_result"
    }
   ],
   "source": [
    "travel_times.head()"
   ]
  },
  {
   "cell_type": "code",
   "execution_count": 122,
   "metadata": {
    "collapsed": false
   },
   "outputs": [],
   "source": [
    "# travel_times = travel_times.groupby(level=(0,1,2,3)).diff()\n",
    "diffs = travel_times.groupby(level=(0,1,2,3)).transform(pd.Series.diff)"
   ]
  },
  {
   "cell_type": "code",
   "execution_count": 124,
   "metadata": {
    "collapsed": false
   },
   "outputs": [
    {
     "data": {
      "text/plain": [
       "route          trip_id                              trip_date   vehicle_id     stop_sequence  stop_id\n",
       "MTA NYCT_M101  OH_D5-Weekday-SDon-036500_M101_38    2015-12-03  MTA NYCT_5879  24             803158     141.263272\n",
       "                                                                               25             402835      79.997546\n",
       "                                                                               26             404171     100.278116\n",
       "                                                                               27             402838      70.491499\n",
       "                                                                               28             803163     112.215689\n",
       "                                                                               29             403424      53.535580\n",
       "                                                                               31             402842     121.464761\n",
       "                                                                               32             402843     101.880250\n",
       "                                                                               33             403425     193.098036\n",
       "                                                                               34             402845      35.515471\n",
       "                                                                               36             403821     117.146192\n",
       "                                                                               37             403822      71.138080\n",
       "                                                                               38             402851      51.774218\n",
       "                                                                               39             402852      27.819421\n",
       "                                                                               41             402854      59.340783\n",
       "                                                                               42             403772      82.331007\n",
       "                                                                               43             402856      84.656553\n",
       "                                                                               44             404106      76.132006\n",
       "MTABC_Q52      9897360-FRPD5-FR_D5-Weekday-10-SDon  2015-12-03  MTABC_3646     3              550784            NaN\n",
       "                                                                               4              550777      98.621715\n",
       "Name: interpolated_arrival_time, dtype: float64"
      ]
     },
     "execution_count": 124,
     "metadata": {},
     "output_type": "execute_result"
    }
   ],
   "source": [
    "diffs.iloc[20:40]"
   ]
  },
  {
   "cell_type": "code",
   "execution_count": 125,
   "metadata": {
    "collapsed": false
   },
   "outputs": [],
   "source": [
    "diffs2 = pd.DataFrame(diffs).reset_index()"
   ]
  },
  {
   "cell_type": "code",
   "execution_count": 127,
   "metadata": {
    "collapsed": false
   },
   "outputs": [],
   "source": [
    "diffs2['prev_stop'] = diffs2['stop_id'].shift()"
   ]
  },
  {
   "cell_type": "code",
   "execution_count": 128,
   "metadata": {
    "collapsed": false
   },
   "outputs": [
    {
     "data": {
      "text/html": [
       "<div style=\"max-height:1000px;max-width:1500px;overflow:auto;\">\n",
       "<table border=\"1\" class=\"dataframe\">\n",
       "  <thead>\n",
       "    <tr style=\"text-align: right;\">\n",
       "      <th></th>\n",
       "      <th>route</th>\n",
       "      <th>trip_id</th>\n",
       "      <th>trip_date</th>\n",
       "      <th>vehicle_id</th>\n",
       "      <th>stop_sequence</th>\n",
       "      <th>stop_id</th>\n",
       "      <th>interpolated_arrival_time</th>\n",
       "      <th>prev_stop</th>\n",
       "    </tr>\n",
       "  </thead>\n",
       "  <tbody>\n",
       "    <tr>\n",
       "      <th>0</th>\n",
       "      <td>MTA NYCT_M101</td>\n",
       "      <td>OH_D5-Weekday-SDon-036500_M101_38</td>\n",
       "      <td>2015-12-03</td>\n",
       "      <td>MTA NYCT_5879</td>\n",
       "      <td>2</td>\n",
       "      <td>402805</td>\n",
       "      <td>NaN</td>\n",
       "      <td>NaN</td>\n",
       "    </tr>\n",
       "    <tr>\n",
       "      <th>1</th>\n",
       "      <td>MTA NYCT_M101</td>\n",
       "      <td>OH_D5-Weekday-SDon-036500_M101_38</td>\n",
       "      <td>2015-12-03</td>\n",
       "      <td>MTA NYCT_5879</td>\n",
       "      <td>3</td>\n",
       "      <td>405057</td>\n",
       "      <td>57.433379</td>\n",
       "      <td>402805</td>\n",
       "    </tr>\n",
       "    <tr>\n",
       "      <th>2</th>\n",
       "      <td>MTA NYCT_M101</td>\n",
       "      <td>OH_D5-Weekday-SDon-036500_M101_38</td>\n",
       "      <td>2015-12-03</td>\n",
       "      <td>MTA NYCT_5879</td>\n",
       "      <td>4</td>\n",
       "      <td>403416</td>\n",
       "      <td>112.980430</td>\n",
       "      <td>405057</td>\n",
       "    </tr>\n",
       "    <tr>\n",
       "      <th>3</th>\n",
       "      <td>MTA NYCT_M101</td>\n",
       "      <td>OH_D5-Weekday-SDon-036500_M101_38</td>\n",
       "      <td>2015-12-03</td>\n",
       "      <td>MTA NYCT_5879</td>\n",
       "      <td>5</td>\n",
       "      <td>402809</td>\n",
       "      <td>26.699835</td>\n",
       "      <td>403416</td>\n",
       "    </tr>\n",
       "    <tr>\n",
       "      <th>4</th>\n",
       "      <td>MTA NYCT_M101</td>\n",
       "      <td>OH_D5-Weekday-SDon-036500_M101_38</td>\n",
       "      <td>2015-12-03</td>\n",
       "      <td>MTA NYCT_5879</td>\n",
       "      <td>6</td>\n",
       "      <td>402811</td>\n",
       "      <td>71.593097</td>\n",
       "      <td>402809</td>\n",
       "    </tr>\n",
       "  </tbody>\n",
       "</table>\n",
       "</div>"
      ],
      "text/plain": [
       "           route                            trip_id   trip_date  \\\n",
       "0  MTA NYCT_M101  OH_D5-Weekday-SDon-036500_M101_38  2015-12-03   \n",
       "1  MTA NYCT_M101  OH_D5-Weekday-SDon-036500_M101_38  2015-12-03   \n",
       "2  MTA NYCT_M101  OH_D5-Weekday-SDon-036500_M101_38  2015-12-03   \n",
       "3  MTA NYCT_M101  OH_D5-Weekday-SDon-036500_M101_38  2015-12-03   \n",
       "4  MTA NYCT_M101  OH_D5-Weekday-SDon-036500_M101_38  2015-12-03   \n",
       "\n",
       "      vehicle_id  stop_sequence  stop_id  interpolated_arrival_time  prev_stop  \n",
       "0  MTA NYCT_5879              2   402805                        NaN        NaN  \n",
       "1  MTA NYCT_5879              3   405057                  57.433379     402805  \n",
       "2  MTA NYCT_5879              4   403416                 112.980430     405057  \n",
       "3  MTA NYCT_5879              5   402809                  26.699835     403416  \n",
       "4  MTA NYCT_5879              6   402811                  71.593097     402809  "
      ]
     },
     "execution_count": 128,
     "metadata": {},
     "output_type": "execute_result"
    }
   ],
   "source": [
    "diffs2.head()"
   ]
  },
  {
   "cell_type": "code",
   "execution_count": 129,
   "metadata": {
    "collapsed": true
   },
   "outputs": [],
   "source": [
    "diffs2.set_index(['prev_stop','stop_id'],inplace=True)"
   ]
  },
  {
   "cell_type": "code",
   "execution_count": 130,
   "metadata": {
    "collapsed": true
   },
   "outputs": [],
   "source": [
    "diffs2['elapsed'] = diffs2['interpolated_arrival_time']"
   ]
  },
  {
   "cell_type": "code",
   "execution_count": 131,
   "metadata": {
    "collapsed": false
   },
   "outputs": [
    {
     "data": {
      "text/plain": [
       "87.471864607713698"
      ]
     },
     "execution_count": 131,
     "metadata": {},
     "output_type": "execute_result"
    }
   ],
   "source": [
    "diffs2['elapsed'].mean()"
   ]
  },
  {
   "cell_type": "code",
   "execution_count": 138,
   "metadata": {
    "collapsed": false
   },
   "outputs": [
    {
     "data": {
      "text/plain": [
       "prev_stop  stop_id\n",
       "100014     104087     81\n",
       "           403676      1\n",
       "           502256      1\n",
       "100017     100018     71\n",
       "           100056     84\n",
       "dtype: int64"
      ]
     },
     "execution_count": 138,
     "metadata": {},
     "output_type": "execute_result"
    }
   ],
   "source": [
    "diffs2.groupby(level=(0,1))['elapsed'].size().head()"
   ]
  },
  {
   "cell_type": "code",
   "execution_count": 139,
   "metadata": {
    "collapsed": false
   },
   "outputs": [
    {
     "data": {
      "text/plain": [
       "prev_stop  stop_id\n",
       "100014     104087      90.626629\n",
       "           403676            NaN\n",
       "           502256            NaN\n",
       "100017     100018     104.237867\n",
       "           100056     223.215262\n",
       "Name: elapsed, dtype: float64"
      ]
     },
     "execution_count": 139,
     "metadata": {},
     "output_type": "execute_result"
    }
   ],
   "source": [
    "diffs2.groupby(level=(0,1))['elapsed'].mean().head()"
   ]
  },
  {
   "cell_type": "code",
   "execution_count": 140,
   "metadata": {
    "collapsed": false
   },
   "outputs": [
    {
     "data": {
      "text/plain": [
       "65651"
      ]
     },
     "execution_count": 140,
     "metadata": {},
     "output_type": "execute_result"
    }
   ],
   "source": [
    "len(diffs2.groupby(level=(0,1)))"
   ]
  },
  {
   "cell_type": "code",
   "execution_count": null,
   "metadata": {
    "collapsed": false
   },
   "outputs": [],
   "source": [
    "thurs_stops.groupby(level=(0))['stop_sequence'].diff()"
   ]
  },
  {
   "cell_type": "markdown",
   "metadata": {},
   "source": [
    "## Get the densest stop_id by shape (trip?)"
   ]
  },
  {
   "cell_type": "code",
   "execution_count": 61,
   "metadata": {
    "collapsed": false
   },
   "outputs": [],
   "source": [
    "trip_groups = interpolated.groupby(level=(0,2,5,4)).size()"
   ]
  },
  {
   "cell_type": "code",
   "execution_count": 64,
   "metadata": {
    "collapsed": true
   },
   "outputs": [],
   "source": [
    "def series_max(s):\n",
    "    return s.idxmax()[2]"
   ]
  },
  {
   "cell_type": "code",
   "execution_count": 65,
   "metadata": {
    "collapsed": false
   },
   "outputs": [
    {
     "data": {
      "text/plain": [
       "route\n",
       "MTA NYCT_B1      300009\n",
       "MTA NYCT_B11     301173\n",
       "MTA NYCT_B12     301328\n",
       "MTA NYCT_B13     301505\n",
       "MTA NYCT_B14     301598\n",
       "MTA NYCT_B15     553257\n",
       "MTA NYCT_B16     301677\n",
       "MTA NYCT_B17     300853\n",
       "MTA NYCT_B2      300173\n",
       "MTA NYCT_B20     301959\n",
       "MTA NYCT_B24     503993\n",
       "MTA NYCT_B25     302383\n",
       "MTA NYCT_B26     302372\n",
       "MTA NYCT_B3      300266\n",
       "MTA NYCT_B31     300175\n",
       "MTA NYCT_B32     305166\n",
       "MTA NYCT_B35     302692\n",
       "MTA NYCT_B36     300019\n",
       "MTA NYCT_B37     301016\n",
       "MTA NYCT_B38     302948\n",
       "MTA NYCT_B39     403679\n",
       "MTA NYCT_B4      300107\n",
       "MTA NYCT_B41     303295\n",
       "MTA NYCT_B42     303348\n",
       "MTA NYCT_B43     303711\n",
       "MTA NYCT_B44     303483\n",
       "MTA NYCT_B44+    303950\n",
       "MTA NYCT_B45     303531\n",
       "MTA NYCT_B46     303592\n",
       "MTA NYCT_B47     303191\n",
       "                  ...  \n",
       "MTABC_Q50        100294\n",
       "MTABC_Q52        550070\n",
       "MTABC_Q53        550070\n",
       "MTABC_Q60        504399\n",
       "MTABC_Q64        551812\n",
       "MTABC_Q65        550032\n",
       "MTABC_Q66        551894\n",
       "MTABC_Q67        503832\n",
       "MTABC_Q69        550010\n",
       "MTABC_Q70        504542\n",
       "MTABC_Q72        504023\n",
       "MTABC_QM1        502399\n",
       "MTABC_QM10       502984\n",
       "MTABC_QM11       550470\n",
       "MTABC_QM12       504309\n",
       "MTABC_QM15       550070\n",
       "MTABC_QM16       401842\n",
       "MTABC_QM17       401842\n",
       "MTABC_QM18       401840\n",
       "MTABC_QM2        501198\n",
       "MTABC_QM20       501133\n",
       "MTABC_QM21       450030\n",
       "MTABC_QM24       503456\n",
       "MTABC_QM25       401165\n",
       "MTABC_QM3        401840\n",
       "MTABC_QM4        551819\n",
       "MTABC_QM5        501470\n",
       "MTABC_QM6        502369\n",
       "MTABC_QM7        502408\n",
       "MTABC_QM8        501337\n",
       "dtype: int64"
      ]
     },
     "execution_count": 65,
     "metadata": {},
     "output_type": "execute_result"
    }
   ],
   "source": [
    "trip_groups.groupby(level=(0)).apply(series_max)"
   ]
  },
  {
   "cell_type": "code",
   "execution_count": null,
   "metadata": {
    "collapsed": true
   },
   "outputs": [],
   "source": []
  }
 ],
 "metadata": {
  "kernelspec": {
   "display_name": "Python 2",
   "language": "python",
   "name": "python2"
  },
  "language_info": {
   "codemirror_mode": {
    "name": "ipython",
    "version": 2
   },
   "file_extension": ".py",
   "mimetype": "text/x-python",
   "name": "python",
   "nbconvert_exporter": "python",
   "pygments_lexer": "ipython2",
   "version": "2.7.11"
  }
 },
 "nbformat": 4,
 "nbformat_minor": 0
}
