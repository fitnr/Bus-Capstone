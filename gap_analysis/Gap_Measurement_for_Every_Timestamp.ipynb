{
 "cells": [
  {
   "cell_type": "markdown",
   "metadata": {},
   "source": [
    "## Gap Analysis Part 3 - Gap Measurement for Every Hour"
   ]
  },
  {
   "cell_type": "code",
   "execution_count": 2,
   "metadata": {
    "collapsed": false
   },
   "outputs": [],
   "source": [
    "import pandas as pd\n",
    "import numpy as np\n",
    "import matplotlib.pyplot as plt\n",
    "from datetime import datetime\n",
    "%matplotlib inline\n",
    "import seaborn as sns; sns.set()"
   ]
  },
  {
   "cell_type": "code",
   "execution_count": 3,
   "metadata": {
    "collapsed": false
   },
   "outputs": [
    {
     "data": {
      "text/html": [
       "<div>\n",
       "<table border=\"1\" class=\"dataframe\">\n",
       "  <thead>\n",
       "    <tr style=\"text-align: right;\">\n",
       "      <th></th>\n",
       "      <th>response_time_stamp</th>\n",
       "      <th>veh_count</th>\n",
       "      <th>veh_str_len</th>\n",
       "      <th>filename</th>\n",
       "    </tr>\n",
       "  </thead>\n",
       "  <tbody>\n",
       "    <tr>\n",
       "      <th>0</th>\n",
       "      <td>2015-11-01T23:59:46.108-05:00</td>\n",
       "      <td>573</td>\n",
       "      <td>5118969</td>\n",
       "      <td>2015_11_02_nyct</td>\n",
       "    </tr>\n",
       "    <tr>\n",
       "      <th>1</th>\n",
       "      <td>2015-11-02T00:00:52.900-05:00</td>\n",
       "      <td>572</td>\n",
       "      <td>5125493</td>\n",
       "      <td>2015_11_02_nyct</td>\n",
       "    </tr>\n",
       "    <tr>\n",
       "      <th>2</th>\n",
       "      <td>2015-11-02T00:01:57.458-05:00</td>\n",
       "      <td>574</td>\n",
       "      <td>5115853</td>\n",
       "      <td>2015_11_02_nyct</td>\n",
       "    </tr>\n",
       "    <tr>\n",
       "      <th>3</th>\n",
       "      <td>2015-11-02T00:03:01.498-05:00</td>\n",
       "      <td>580</td>\n",
       "      <td>5210647</td>\n",
       "      <td>2015_11_02_nyct</td>\n",
       "    </tr>\n",
       "    <tr>\n",
       "      <th>4</th>\n",
       "      <td>2015-11-02T00:04:27.375-05:00</td>\n",
       "      <td>570</td>\n",
       "      <td>5054389</td>\n",
       "      <td>2015_11_02_nyct</td>\n",
       "    </tr>\n",
       "  </tbody>\n",
       "</table>\n",
       "</div>"
      ],
      "text/plain": [
       "             response_time_stamp  veh_count  veh_str_len         filename\n",
       "0  2015-11-01T23:59:46.108-05:00        573      5118969  2015_11_02_nyct\n",
       "1  2015-11-02T00:00:52.900-05:00        572      5125493  2015_11_02_nyct\n",
       "2  2015-11-02T00:01:57.458-05:00        574      5115853  2015_11_02_nyct\n",
       "3  2015-11-02T00:03:01.498-05:00        580      5210647  2015_11_02_nyct\n",
       "4  2015-11-02T00:04:27.375-05:00        570      5054389  2015_11_02_nyct"
      ]
     },
     "execution_count": 3,
     "metadata": {},
     "output_type": "execute_result"
    }
   ],
   "source": [
    "# Load the data\n",
    "time_count = pd.read_csv('jsons_summary.csv')\n",
    "time_count.columns = [\"\", \"response_time_stamp\", \"veh_count\", \"veh_str_len\", \"filename\"]\n",
    "time_count = time_count[['response_time_stamp', 'veh_count', 'veh_str_len', 'filename']]\n",
    "time_count.head()"
   ]
  },
  {
   "cell_type": "code",
   "execution_count": 4,
   "metadata": {
    "collapsed": false
   },
   "outputs": [
    {
     "data": {
      "text/html": [
       "<div>\n",
       "<table border=\"1\" class=\"dataframe\">\n",
       "  <thead>\n",
       "    <tr style=\"text-align: right;\">\n",
       "      <th></th>\n",
       "      <th>response_time_stamp</th>\n",
       "      <th>veh_count</th>\n",
       "      <th>veh_str_len</th>\n",
       "      <th>filename</th>\n",
       "      <th>source</th>\n",
       "    </tr>\n",
       "  </thead>\n",
       "  <tbody>\n",
       "    <tr>\n",
       "      <th>25976</th>\n",
       "      <td>2015-01-01 05:00:02.813</td>\n",
       "      <td>135</td>\n",
       "      <td>649833</td>\n",
       "      <td>2015_01_01_bc</td>\n",
       "      <td>bc</td>\n",
       "    </tr>\n",
       "    <tr>\n",
       "      <th>25977</th>\n",
       "      <td>2015-01-01 05:01:02.361</td>\n",
       "      <td>134</td>\n",
       "      <td>655039</td>\n",
       "      <td>2015_01_01_bc</td>\n",
       "      <td>bc</td>\n",
       "    </tr>\n",
       "    <tr>\n",
       "      <th>25978</th>\n",
       "      <td>2015-01-01 05:02:02.142</td>\n",
       "      <td>135</td>\n",
       "      <td>666904</td>\n",
       "      <td>2015_01_01_bc</td>\n",
       "      <td>bc</td>\n",
       "    </tr>\n",
       "    <tr>\n",
       "      <th>25979</th>\n",
       "      <td>2015-01-01 05:03:01.824</td>\n",
       "      <td>131</td>\n",
       "      <td>674832</td>\n",
       "      <td>2015_01_01_bc</td>\n",
       "      <td>bc</td>\n",
       "    </tr>\n",
       "    <tr>\n",
       "      <th>25980</th>\n",
       "      <td>2015-01-01 05:04:02.627</td>\n",
       "      <td>131</td>\n",
       "      <td>686519</td>\n",
       "      <td>2015_01_01_bc</td>\n",
       "      <td>bc</td>\n",
       "    </tr>\n",
       "  </tbody>\n",
       "</table>\n",
       "</div>"
      ],
      "text/plain": [
       "          response_time_stamp  veh_count  veh_str_len       filename source\n",
       "25976 2015-01-01 05:00:02.813        135       649833  2015_01_01_bc     bc\n",
       "25977 2015-01-01 05:01:02.361        134       655039  2015_01_01_bc     bc\n",
       "25978 2015-01-01 05:02:02.142        135       666904  2015_01_01_bc     bc\n",
       "25979 2015-01-01 05:03:01.824        131       674832  2015_01_01_bc     bc\n",
       "25980 2015-01-01 05:04:02.627        131       686519  2015_01_01_bc     bc"
      ]
     },
     "execution_count": 4,
     "metadata": {},
     "output_type": "execute_result"
    }
   ],
   "source": [
    "# Change the response_time_stamp type from sting to datetime\n",
    "time_count['response_time_stamp'] = pd.to_datetime(time_count.response_time_stamp)\n",
    "time_count['source'] = time_count.filename.str[11:]\n",
    "time_count.sort_values(['source','response_time_stamp'],inplace=True)\n",
    "time_count.head()"
   ]
  },
  {
   "cell_type": "code",
   "execution_count": 5,
   "metadata": {
    "collapsed": false
   },
   "outputs": [
    {
     "data": {
      "text/html": [
       "<div>\n",
       "<table border=\"1\" class=\"dataframe\">\n",
       "  <thead>\n",
       "    <tr style=\"text-align: right;\">\n",
       "      <th></th>\n",
       "      <th>response_time_stamp</th>\n",
       "      <th>veh_count</th>\n",
       "      <th>veh_str_len</th>\n",
       "      <th>filename</th>\n",
       "      <th>source</th>\n",
       "      <th>time</th>\n",
       "    </tr>\n",
       "  </thead>\n",
       "  <tbody>\n",
       "    <tr>\n",
       "      <th>25976</th>\n",
       "      <td>2015-01-01 05:00:02.813</td>\n",
       "      <td>135</td>\n",
       "      <td>649833</td>\n",
       "      <td>2015_01_01_bc</td>\n",
       "      <td>bc</td>\n",
       "      <td>2015-01-01 05:00:02.813000</td>\n",
       "    </tr>\n",
       "    <tr>\n",
       "      <th>25977</th>\n",
       "      <td>2015-01-01 05:01:02.361</td>\n",
       "      <td>134</td>\n",
       "      <td>655039</td>\n",
       "      <td>2015_01_01_bc</td>\n",
       "      <td>bc</td>\n",
       "      <td>2015-01-01 05:01:02.361000</td>\n",
       "    </tr>\n",
       "    <tr>\n",
       "      <th>25978</th>\n",
       "      <td>2015-01-01 05:02:02.142</td>\n",
       "      <td>135</td>\n",
       "      <td>666904</td>\n",
       "      <td>2015_01_01_bc</td>\n",
       "      <td>bc</td>\n",
       "      <td>2015-01-01 05:02:02.142000</td>\n",
       "    </tr>\n",
       "    <tr>\n",
       "      <th>25979</th>\n",
       "      <td>2015-01-01 05:03:01.824</td>\n",
       "      <td>131</td>\n",
       "      <td>674832</td>\n",
       "      <td>2015_01_01_bc</td>\n",
       "      <td>bc</td>\n",
       "      <td>2015-01-01 05:03:01.824000</td>\n",
       "    </tr>\n",
       "    <tr>\n",
       "      <th>25980</th>\n",
       "      <td>2015-01-01 05:04:02.627</td>\n",
       "      <td>131</td>\n",
       "      <td>686519</td>\n",
       "      <td>2015_01_01_bc</td>\n",
       "      <td>bc</td>\n",
       "      <td>2015-01-01 05:04:02.627000</td>\n",
       "    </tr>\n",
       "  </tbody>\n",
       "</table>\n",
       "</div>"
      ],
      "text/plain": [
       "          response_time_stamp  veh_count  veh_str_len       filename source  \\\n",
       "25976 2015-01-01 05:00:02.813        135       649833  2015_01_01_bc     bc   \n",
       "25977 2015-01-01 05:01:02.361        134       655039  2015_01_01_bc     bc   \n",
       "25978 2015-01-01 05:02:02.142        135       666904  2015_01_01_bc     bc   \n",
       "25979 2015-01-01 05:03:01.824        131       674832  2015_01_01_bc     bc   \n",
       "25980 2015-01-01 05:04:02.627        131       686519  2015_01_01_bc     bc   \n",
       "\n",
       "                             time  \n",
       "25976  2015-01-01 05:00:02.813000  \n",
       "25977  2015-01-01 05:01:02.361000  \n",
       "25978  2015-01-01 05:02:02.142000  \n",
       "25979  2015-01-01 05:03:01.824000  \n",
       "25980  2015-01-01 05:04:02.627000  "
      ]
     },
     "execution_count": 5,
     "metadata": {},
     "output_type": "execute_result"
    }
   ],
   "source": [
    "time_count['time'] = time_count.response_time_stamp.apply(str)\n",
    "time_count.head()"
   ]
  },
  {
   "cell_type": "code",
   "execution_count": 6,
   "metadata": {
    "collapsed": false
   },
   "outputs": [
    {
     "data": {
      "text/html": [
       "<div>\n",
       "<table border=\"1\" class=\"dataframe\">\n",
       "  <thead>\n",
       "    <tr style=\"text-align: right;\">\n",
       "      <th></th>\n",
       "      <th>response_time_stamp</th>\n",
       "      <th>veh_count</th>\n",
       "      <th>veh_str_len</th>\n",
       "      <th>filename</th>\n",
       "      <th>source</th>\n",
       "      <th>time</th>\n",
       "      <th>hour</th>\n",
       "      <th>date</th>\n",
       "    </tr>\n",
       "  </thead>\n",
       "  <tbody>\n",
       "    <tr>\n",
       "      <th>25976</th>\n",
       "      <td>2015-01-01 05:00:02.813</td>\n",
       "      <td>135</td>\n",
       "      <td>649833</td>\n",
       "      <td>2015_01_01_bc</td>\n",
       "      <td>bc</td>\n",
       "      <td>2015-01-01 05:00:02.813000</td>\n",
       "      <td>05</td>\n",
       "      <td>2015-01-01</td>\n",
       "    </tr>\n",
       "    <tr>\n",
       "      <th>25977</th>\n",
       "      <td>2015-01-01 05:01:02.361</td>\n",
       "      <td>134</td>\n",
       "      <td>655039</td>\n",
       "      <td>2015_01_01_bc</td>\n",
       "      <td>bc</td>\n",
       "      <td>2015-01-01 05:01:02.361000</td>\n",
       "      <td>05</td>\n",
       "      <td>2015-01-01</td>\n",
       "    </tr>\n",
       "    <tr>\n",
       "      <th>25978</th>\n",
       "      <td>2015-01-01 05:02:02.142</td>\n",
       "      <td>135</td>\n",
       "      <td>666904</td>\n",
       "      <td>2015_01_01_bc</td>\n",
       "      <td>bc</td>\n",
       "      <td>2015-01-01 05:02:02.142000</td>\n",
       "      <td>05</td>\n",
       "      <td>2015-01-01</td>\n",
       "    </tr>\n",
       "    <tr>\n",
       "      <th>25979</th>\n",
       "      <td>2015-01-01 05:03:01.824</td>\n",
       "      <td>131</td>\n",
       "      <td>674832</td>\n",
       "      <td>2015_01_01_bc</td>\n",
       "      <td>bc</td>\n",
       "      <td>2015-01-01 05:03:01.824000</td>\n",
       "      <td>05</td>\n",
       "      <td>2015-01-01</td>\n",
       "    </tr>\n",
       "    <tr>\n",
       "      <th>25980</th>\n",
       "      <td>2015-01-01 05:04:02.627</td>\n",
       "      <td>131</td>\n",
       "      <td>686519</td>\n",
       "      <td>2015_01_01_bc</td>\n",
       "      <td>bc</td>\n",
       "      <td>2015-01-01 05:04:02.627000</td>\n",
       "      <td>05</td>\n",
       "      <td>2015-01-01</td>\n",
       "    </tr>\n",
       "  </tbody>\n",
       "</table>\n",
       "</div>"
      ],
      "text/plain": [
       "          response_time_stamp  veh_count  veh_str_len       filename source  \\\n",
       "25976 2015-01-01 05:00:02.813        135       649833  2015_01_01_bc     bc   \n",
       "25977 2015-01-01 05:01:02.361        134       655039  2015_01_01_bc     bc   \n",
       "25978 2015-01-01 05:02:02.142        135       666904  2015_01_01_bc     bc   \n",
       "25979 2015-01-01 05:03:01.824        131       674832  2015_01_01_bc     bc   \n",
       "25980 2015-01-01 05:04:02.627        131       686519  2015_01_01_bc     bc   \n",
       "\n",
       "                             time hour        date  \n",
       "25976  2015-01-01 05:00:02.813000   05  2015-01-01  \n",
       "25977  2015-01-01 05:01:02.361000   05  2015-01-01  \n",
       "25978  2015-01-01 05:02:02.142000   05  2015-01-01  \n",
       "25979  2015-01-01 05:03:01.824000   05  2015-01-01  \n",
       "25980  2015-01-01 05:04:02.627000   05  2015-01-01  "
      ]
     },
     "execution_count": 6,
     "metadata": {},
     "output_type": "execute_result"
    }
   ],
   "source": [
    "time1 = time_count['time']\n",
    "time = map(lambda x:x[11:13], time1)\n",
    "date = map(lambda x:x[:10], time1)\n",
    "time_count['hour'] = time\n",
    "time_count['date'] = date\n",
    "time_count.head()"
   ]
  },
  {
   "cell_type": "code",
   "execution_count": 7,
   "metadata": {
    "collapsed": false
   },
   "outputs": [
    {
     "data": {
      "text/html": [
       "<div>\n",
       "<table border=\"1\" class=\"dataframe\">\n",
       "  <thead>\n",
       "    <tr style=\"text-align: right;\">\n",
       "      <th></th>\n",
       "      <th>response_time_stamp</th>\n",
       "      <th>veh_count</th>\n",
       "      <th>veh_str_len</th>\n",
       "      <th>filename</th>\n",
       "      <th>source</th>\n",
       "      <th>time</th>\n",
       "      <th>hour</th>\n",
       "      <th>date</th>\n",
       "      <th>weekday</th>\n",
       "    </tr>\n",
       "  </thead>\n",
       "  <tbody>\n",
       "    <tr>\n",
       "      <th>25976</th>\n",
       "      <td>2015-01-01 05:00:02.813</td>\n",
       "      <td>135</td>\n",
       "      <td>649833</td>\n",
       "      <td>2015_01_01_bc</td>\n",
       "      <td>bc</td>\n",
       "      <td>2015-01-01 05:00:02.813000</td>\n",
       "      <td>05</td>\n",
       "      <td>2015-01-01</td>\n",
       "      <td>3</td>\n",
       "    </tr>\n",
       "    <tr>\n",
       "      <th>25977</th>\n",
       "      <td>2015-01-01 05:01:02.361</td>\n",
       "      <td>134</td>\n",
       "      <td>655039</td>\n",
       "      <td>2015_01_01_bc</td>\n",
       "      <td>bc</td>\n",
       "      <td>2015-01-01 05:01:02.361000</td>\n",
       "      <td>05</td>\n",
       "      <td>2015-01-01</td>\n",
       "      <td>3</td>\n",
       "    </tr>\n",
       "    <tr>\n",
       "      <th>25978</th>\n",
       "      <td>2015-01-01 05:02:02.142</td>\n",
       "      <td>135</td>\n",
       "      <td>666904</td>\n",
       "      <td>2015_01_01_bc</td>\n",
       "      <td>bc</td>\n",
       "      <td>2015-01-01 05:02:02.142000</td>\n",
       "      <td>05</td>\n",
       "      <td>2015-01-01</td>\n",
       "      <td>3</td>\n",
       "    </tr>\n",
       "    <tr>\n",
       "      <th>25979</th>\n",
       "      <td>2015-01-01 05:03:01.824</td>\n",
       "      <td>131</td>\n",
       "      <td>674832</td>\n",
       "      <td>2015_01_01_bc</td>\n",
       "      <td>bc</td>\n",
       "      <td>2015-01-01 05:03:01.824000</td>\n",
       "      <td>05</td>\n",
       "      <td>2015-01-01</td>\n",
       "      <td>3</td>\n",
       "    </tr>\n",
       "    <tr>\n",
       "      <th>25980</th>\n",
       "      <td>2015-01-01 05:04:02.627</td>\n",
       "      <td>131</td>\n",
       "      <td>686519</td>\n",
       "      <td>2015_01_01_bc</td>\n",
       "      <td>bc</td>\n",
       "      <td>2015-01-01 05:04:02.627000</td>\n",
       "      <td>05</td>\n",
       "      <td>2015-01-01</td>\n",
       "      <td>3</td>\n",
       "    </tr>\n",
       "  </tbody>\n",
       "</table>\n",
       "</div>"
      ],
      "text/plain": [
       "          response_time_stamp  veh_count  veh_str_len       filename source  \\\n",
       "25976 2015-01-01 05:00:02.813        135       649833  2015_01_01_bc     bc   \n",
       "25977 2015-01-01 05:01:02.361        134       655039  2015_01_01_bc     bc   \n",
       "25978 2015-01-01 05:02:02.142        135       666904  2015_01_01_bc     bc   \n",
       "25979 2015-01-01 05:03:01.824        131       674832  2015_01_01_bc     bc   \n",
       "25980 2015-01-01 05:04:02.627        131       686519  2015_01_01_bc     bc   \n",
       "\n",
       "                             time hour        date  weekday  \n",
       "25976  2015-01-01 05:00:02.813000   05  2015-01-01        3  \n",
       "25977  2015-01-01 05:01:02.361000   05  2015-01-01        3  \n",
       "25978  2015-01-01 05:02:02.142000   05  2015-01-01        3  \n",
       "25979  2015-01-01 05:03:01.824000   05  2015-01-01        3  \n",
       "25980  2015-01-01 05:04:02.627000   05  2015-01-01        3  "
      ]
     },
     "execution_count": 7,
     "metadata": {},
     "output_type": "execute_result"
    }
   ],
   "source": [
    "time_count['weekday'] = time_count['response_time_stamp'].apply(datetime.weekday)\n",
    "time_count.head()"
   ]
  },
  {
   "cell_type": "code",
   "execution_count": 9,
   "metadata": {
    "collapsed": false
   },
   "outputs": [
    {
     "data": {
      "text/html": [
       "<div>\n",
       "<table border=\"1\" class=\"dataframe\">\n",
       "  <thead>\n",
       "    <tr style=\"text-align: right;\">\n",
       "      <th></th>\n",
       "      <th></th>\n",
       "      <th>veh_count</th>\n",
       "      <th>veh_str_len</th>\n",
       "    </tr>\n",
       "    <tr>\n",
       "      <th>weekday</th>\n",
       "      <th>hour</th>\n",
       "      <th></th>\n",
       "      <th></th>\n",
       "    </tr>\n",
       "  </thead>\n",
       "  <tbody>\n",
       "    <tr>\n",
       "      <th rowspan=\"5\" valign=\"top\">0</th>\n",
       "      <th>00</th>\n",
       "      <td>3888115</td>\n",
       "      <td>24150079879</td>\n",
       "    </tr>\n",
       "    <tr>\n",
       "      <th>01</th>\n",
       "      <td>3357079</td>\n",
       "      <td>21077657377</td>\n",
       "    </tr>\n",
       "    <tr>\n",
       "      <th>02</th>\n",
       "      <td>2959859</td>\n",
       "      <td>18954141310</td>\n",
       "    </tr>\n",
       "    <tr>\n",
       "      <th>03</th>\n",
       "      <td>2558692</td>\n",
       "      <td>16453669236</td>\n",
       "    </tr>\n",
       "    <tr>\n",
       "      <th>04</th>\n",
       "      <td>2047670</td>\n",
       "      <td>13255897179</td>\n",
       "    </tr>\n",
       "  </tbody>\n",
       "</table>\n",
       "</div>"
      ],
      "text/plain": [
       "              veh_count  veh_str_len\n",
       "weekday hour                        \n",
       "0       00      3888115  24150079879\n",
       "        01      3357079  21077657377\n",
       "        02      2959859  18954141310\n",
       "        03      2558692  16453669236\n",
       "        04      2047670  13255897179"
      ]
     },
     "execution_count": 9,
     "metadata": {},
     "output_type": "execute_result"
    }
   ],
   "source": [
    "count_hour = time_count.groupby(['weekday','hour']).sum()\n",
    "count_hour.head()"
   ]
  },
  {
   "cell_type": "code",
   "execution_count": 14,
   "metadata": {
    "collapsed": false
   },
   "outputs": [],
   "source": [
    "count_hour.to_csv('count_hour.csv')"
   ]
  },
  {
   "cell_type": "code",
   "execution_count": 15,
   "metadata": {
    "collapsed": false
   },
   "outputs": [
    {
     "data": {
      "text/html": [
       "<div>\n",
       "<table border=\"1\" class=\"dataframe\">\n",
       "  <thead>\n",
       "    <tr style=\"text-align: right;\">\n",
       "      <th></th>\n",
       "      <th>weekday</th>\n",
       "      <th>hour</th>\n",
       "      <th>veh_count</th>\n",
       "    </tr>\n",
       "  </thead>\n",
       "  <tbody>\n",
       "    <tr>\n",
       "      <th>0</th>\n",
       "      <td>0</td>\n",
       "      <td>0</td>\n",
       "      <td>3888115</td>\n",
       "    </tr>\n",
       "    <tr>\n",
       "      <th>1</th>\n",
       "      <td>0</td>\n",
       "      <td>1</td>\n",
       "      <td>3357079</td>\n",
       "    </tr>\n",
       "    <tr>\n",
       "      <th>2</th>\n",
       "      <td>0</td>\n",
       "      <td>2</td>\n",
       "      <td>2959859</td>\n",
       "    </tr>\n",
       "    <tr>\n",
       "      <th>3</th>\n",
       "      <td>0</td>\n",
       "      <td>3</td>\n",
       "      <td>2558692</td>\n",
       "    </tr>\n",
       "    <tr>\n",
       "      <th>4</th>\n",
       "      <td>0</td>\n",
       "      <td>4</td>\n",
       "      <td>2047670</td>\n",
       "    </tr>\n",
       "  </tbody>\n",
       "</table>\n",
       "</div>"
      ],
      "text/plain": [
       "   weekday  hour  veh_count\n",
       "0        0     0    3888115\n",
       "1        0     1    3357079\n",
       "2        0     2    2959859\n",
       "3        0     3    2558692\n",
       "4        0     4    2047670"
      ]
     },
     "execution_count": 15,
     "metadata": {},
     "output_type": "execute_result"
    }
   ],
   "source": [
    "count_hour = pd.read_csv('count_hour.csv')\n",
    "count_hour = count_hour[['weekday', 'hour', 'veh_count']]\n",
    "count_hour.head()"
   ]
  },
  {
   "cell_type": "code",
   "execution_count": 16,
   "metadata": {
    "collapsed": false
   },
   "outputs": [
    {
     "data": {
      "image/png": "[encoded data removed]",
      "text/plain": [
       "<matplotlib.figure.Figure at 0x11bec8310>"
      ]
     },
     "metadata": {},
     "output_type": "display_data"
    }
   ],
   "source": [
    "# Plot the data\n",
    "weekdaylist = ['Sunday','Monday','Tuesday','Wednesday','Thursday','Friday','Saturday']\n",
    "fig = plt.figure(figsize=(16,8))\n",
    "\n",
    "for i in range(0,7):\n",
    "    count_tmp = count_hour[count_hour['weekday'] == i]\n",
    "    #fig = plt.figure(figsize=(12,8))\n",
    "    ctdatetmp = count_tmp.hour\n",
    "    ctbustmp  = count_tmp.veh_count\n",
    "    ax = fig.add_subplot(2,4,i+1)\n",
    "    ax.bar(ctdatetmp, ctbustmp, width=1)\n",
    "    ax.set_xlabel('Hour')\n",
    "    ax.set_ylabel('Record Count')\n",
    "    ax.set_xlim(0,24)\n",
    "    ax.set_title('Bus Record Count For Every Hour In '+ weekdaylist[i]+'\\n')\n",
    "\n",
    "fig.tight_layout()"
   ]
  }
 ],
 "metadata": {
  "kernelspec": {
   "display_name": "Python 2",
   "language": "python",
   "name": "python2"
  },
  "language_info": {
   "codemirror_mode": {
    "name": "ipython",
    "version": 2
   },
   "file_extension": ".py",
   "mimetype": "text/x-python",
   "name": "python",
   "nbconvert_exporter": "python",
   "pygments_lexer": "ipython2",
   "version": "2.7.11"
  }
 },
 "nbformat": 4,
 "nbformat_minor": 0
}
