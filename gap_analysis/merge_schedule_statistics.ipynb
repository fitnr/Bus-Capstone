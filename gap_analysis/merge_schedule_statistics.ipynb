{
 "cells": [
  {
   "cell_type": "code",
   "execution_count": 1,
   "metadata": {
    "collapsed": true
   },
   "outputs": [],
   "source": [
    "import os\n",
    "import pandas as pd\n",
    "import datetime\n",
    "import matplotlib.pyplot as plt\n",
    "%matplotlib inline \n",
    "\n",
    "os.chdir('/gpfs2/projects/project-bus_capstone_2016/workspace/share')"
   ]
  },
  {
   "cell_type": "code",
   "execution_count": 2,
   "metadata": {
    "collapsed": true
   },
   "outputs": [],
   "source": [
    "dpath = '/gpfs2/projects/project-bus_capstone_2016/workspace/share/schedule_summaries_by_route/'"
   ]
  },
  {
   "cell_type": "code",
   "execution_count": 3,
   "metadata": {
    "collapsed": false
   },
   "outputs": [
    {
     "name": "stderr",
     "output_type": "stream",
     "text": [
      "/opt/rh/anaconda/root/lib/python2.7/site-packages/pandas/core/index.py:4072: FutureWarning: elementwise comparison failed; returning scalar instead, but in the future will perform elementwise comparison\n",
      "  return np.sum(name == np.asarray(self.names)) > 1\n"
     ]
    }
   ],
   "source": [
    "collected = pd.DataFrame()\n",
    "for f in os.listdir(dpath):\n",
    "    csv = pd.read_csv(dpath+f,index_col=0).set_index(['schedule_date','route_id','measure_name'])\n",
    "    csv = csv.unstack(level=-1)\n",
    "    csv.columns = csv.columns.droplevel()\n",
    "    collected = collected.append(csv)"
   ]
  },
  {
   "cell_type": "code",
   "execution_count": 4,
   "metadata": {
    "collapsed": false
   },
   "outputs": [],
   "source": [
    "collected['aggregate_trip_time'] = (pd.to_timedelta(collected['mean'])/datetime.timedelta(seconds=1)).astype(int) * collected['count'].astype(int)"
   ]
  },
  {
   "cell_type": "code",
   "execution_count": 5,
   "metadata": {
    "collapsed": false
   },
   "outputs": [
    {
     "data": {
      "text/plain": [
       "<matplotlib.axes._subplots.AxesSubplot at 0x7f62f1c1f650>"
      ]
     },
     "execution_count": 5,
     "metadata": {},
     "output_type": "execute_result"
    },
    {
     "data": {
      "image/png": "[encoded data removed]",
      "text/plain": [
       "<matplotlib.figure.Figure at 0x7f6320296710>"
      ]
     },
     "metadata": {},
     "output_type": "display_data"
    }
   ],
   "source": [
    "collected.groupby(level=0)['aggregate_trip_time'].sum().plot()"
   ]
  },
  {
   "cell_type": "code",
   "execution_count": 6,
   "metadata": {
    "collapsed": false
   },
   "outputs": [
    {
     "name": "stdout",
     "output_type": "stream",
     "text": [
      "schedule_date\n",
      "2015-04-01    157749452\n",
      "2015-04-02    157745644\n",
      "2015-04-03    142347399\n",
      "2015-04-04        11460\n",
      "2015-04-05     84371749\n",
      "2015-04-06    155232456\n",
      "2015-04-07    155232456\n",
      "2015-04-08    155232456\n",
      "2015-04-09    155232456\n",
      "2015-04-10    155240865\n",
      "Name: aggregate_trip_time, dtype: int64\n",
      "schedule_date\n",
      "2015-06-20     86951514\n",
      "2015-06-21     69430044\n",
      "2015-06-22    130732116\n",
      "2015-06-23    130732116\n",
      "2015-06-24    130732116\n",
      "2015-06-25    130732116\n",
      "2015-06-26     40945778\n",
      "2015-06-27     25709116\n",
      "2015-06-28     64457636\n",
      "2015-06-29    112146410\n",
      "2015-06-30    112146410\n",
      "Name: aggregate_trip_time, dtype: int64\n",
      "schedule_date\n",
      "2015-09-01    152704244\n",
      "2015-09-02    152704244\n",
      "2015-09-03    152704244\n",
      "2015-09-04     69487500\n",
      "2015-09-05     44075068\n",
      "2015-09-06     50551371\n",
      "2015-09-07     50551094\n",
      "2015-09-08     84759931\n",
      "2015-09-09     84759931\n",
      "2015-09-10     86993049\n",
      "Name: aggregate_trip_time, dtype: int64\n"
     ]
    }
   ],
   "source": [
    "print collected.groupby(level=0)['aggregate_trip_time'].sum().ix['2015-04-01':'2015-04-10']\n",
    "print collected.groupby(level=0)['aggregate_trip_time'].sum().ix['2015-06-20':'2015-06-30']\n",
    "print collected.groupby(level=0)['aggregate_trip_time'].sum().ix['2015-09-01':'2015-09-10']"
   ]
  },
  {
   "cell_type": "code",
   "execution_count": 7,
   "metadata": {
    "collapsed": false
   },
   "outputs": [],
   "source": [
    "collected.drop(['2015-04-04','2015-06-27','2015-09-05'],axis=0,level=0,inplace=True)"
   ]
  },
  {
   "cell_type": "code",
   "execution_count": 8,
   "metadata": {
    "collapsed": false
   },
   "outputs": [],
   "source": [
    "collected.to_csv(dpath+'combined_trip_summary.csv')"
   ]
  },
  {
   "cell_type": "code",
   "execution_count": null,
   "metadata": {
    "collapsed": true
   },
   "outputs": [],
   "source": []
  }
 ],
 "metadata": {
  "kernelspec": {
   "display_name": "Python 2",
   "language": "python",
   "name": "python2"
  },
  "language_info": {
   "codemirror_mode": {
    "name": "ipython",
    "version": 2
   },
   "file_extension": ".py",
   "mimetype": "text/x-python",
   "name": "python",
   "nbconvert_exporter": "python",
   "pygments_lexer": "ipython2",
   "version": "2.7.11"
  }
 },
 "nbformat": 4,
 "nbformat_minor": 0
}
