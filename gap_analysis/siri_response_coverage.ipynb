{
 "cells": [
  {
   "cell_type": "markdown",
   "metadata": {},
   "source": [
    "## Check performance of repeated Bus Time API calls\n",
    "We observed that a the API response sometimes came after an extended delay.  This checks the frequency of the API response time stamps throughout all data collected."
   ]
  },
  {
   "cell_type": "code",
   "execution_count": 1,
   "metadata": {
    "collapsed": false
   },
   "outputs": [],
   "source": [
    "import os\n",
    "import pandas as pd\n",
    "from datetime import datetime\n",
    "from datetime import timedelta\n",
    "%matplotlib inline\n",
    "os.chdir('/gpfs2/projects/project-bus_capstone_2016/workspace/share')"
   ]
  },
  {
   "cell_type": "markdown",
   "metadata": {},
   "source": [
    "#### Import desciptive metadata\n",
    "Each stored JSON was <a href='https://github.com/sarangof/Bus-Capstone/blob/master/jsons_response_sizes.py'>parsed to extract a few basic properties</a>:\n",
    "1. ResponseTimestamp\n",
    "2. Count of VehicleLocation objects\n",
    "3. Number of characters in file between first and last VehicleActivity object\n",
    "4. Name of file as stored on our server (since previously, two API calls were required to collect from separate agencies)"
   ]
  },
  {
   "cell_type": "code",
   "execution_count": 2,
   "metadata": {
    "collapsed": false
   },
   "outputs": [
    {
     "data": {
      "text/html": [
       "<div style=\"max-height:1000px;max-width:1500px;overflow:auto;\">\n",
       "<table border=\"1\" class=\"dataframe\">\n",
       "  <thead>\n",
       "    <tr style=\"text-align: right;\">\n",
       "      <th></th>\n",
       "      <th>response_time_stamp</th>\n",
       "      <th>veh_count</th>\n",
       "      <th>veh_str_len</th>\n",
       "      <th>filename</th>\n",
       "    </tr>\n",
       "  </thead>\n",
       "  <tbody>\n",
       "    <tr>\n",
       "      <th>0</th>\n",
       "      <td>2015-11-01T23:59:46.108-05:00</td>\n",
       "      <td>573</td>\n",
       "      <td>5118969</td>\n",
       "      <td>2015_11_02_nyct</td>\n",
       "    </tr>\n",
       "    <tr>\n",
       "      <th>1</th>\n",
       "      <td>2015-11-02T00:00:52.900-05:00</td>\n",
       "      <td>572</td>\n",
       "      <td>5125493</td>\n",
       "      <td>2015_11_02_nyct</td>\n",
       "    </tr>\n",
       "    <tr>\n",
       "      <th>2</th>\n",
       "      <td>2015-11-02T00:01:57.458-05:00</td>\n",
       "      <td>574</td>\n",
       "      <td>5115853</td>\n",
       "      <td>2015_11_02_nyct</td>\n",
       "    </tr>\n",
       "    <tr>\n",
       "      <th>3</th>\n",
       "      <td>2015-11-02T00:03:01.498-05:00</td>\n",
       "      <td>580</td>\n",
       "      <td>5210647</td>\n",
       "      <td>2015_11_02_nyct</td>\n",
       "    </tr>\n",
       "    <tr>\n",
       "      <th>4</th>\n",
       "      <td>2015-11-02T00:04:27.375-05:00</td>\n",
       "      <td>570</td>\n",
       "      <td>5054389</td>\n",
       "      <td>2015_11_02_nyct</td>\n",
       "    </tr>\n",
       "    <tr>\n",
       "      <th>5</th>\n",
       "      <td>2015-11-02T00:05:35.451-05:00</td>\n",
       "      <td>564</td>\n",
       "      <td>5069069</td>\n",
       "      <td>2015_11_02_nyct</td>\n",
       "    </tr>\n",
       "    <tr>\n",
       "      <th>6</th>\n",
       "      <td>2015-11-02T00:06:39.570-05:00</td>\n",
       "      <td>563</td>\n",
       "      <td>4995810</td>\n",
       "      <td>2015_11_02_nyct</td>\n",
       "    </tr>\n",
       "    <tr>\n",
       "      <th>7</th>\n",
       "      <td>2015-11-02T00:07:44.925-05:00</td>\n",
       "      <td>561</td>\n",
       "      <td>4896862</td>\n",
       "      <td>2015_11_02_nyct</td>\n",
       "    </tr>\n",
       "    <tr>\n",
       "      <th>8</th>\n",
       "      <td>2015-11-02T00:09:04.444-05:00</td>\n",
       "      <td>559</td>\n",
       "      <td>4886586</td>\n",
       "      <td>2015_11_02_nyct</td>\n",
       "    </tr>\n",
       "    <tr>\n",
       "      <th>9</th>\n",
       "      <td>2015-11-02T00:10:07.946-05:00</td>\n",
       "      <td>553</td>\n",
       "      <td>4828978</td>\n",
       "      <td>2015_11_02_nyct</td>\n",
       "    </tr>\n",
       "    <tr>\n",
       "      <th>10</th>\n",
       "      <td>2015-11-02T00:11:18.331-05:00</td>\n",
       "      <td>551</td>\n",
       "      <td>4815224</td>\n",
       "      <td>2015_11_02_nyct</td>\n",
       "    </tr>\n",
       "    <tr>\n",
       "      <th>11</th>\n",
       "      <td>2015-11-02T00:12:20.402-05:00</td>\n",
       "      <td>547</td>\n",
       "      <td>4847451</td>\n",
       "      <td>2015_11_02_nyct</td>\n",
       "    </tr>\n",
       "    <tr>\n",
       "      <th>12</th>\n",
       "      <td>2015-11-02T00:13:26.828-05:00</td>\n",
       "      <td>545</td>\n",
       "      <td>4706497</td>\n",
       "      <td>2015_11_02_nyct</td>\n",
       "    </tr>\n",
       "    <tr>\n",
       "      <th>13</th>\n",
       "      <td>2015-11-02T00:14:29.240-05:00</td>\n",
       "      <td>546</td>\n",
       "      <td>4651647</td>\n",
       "      <td>2015_11_02_nyct</td>\n",
       "    </tr>\n",
       "    <tr>\n",
       "      <th>14</th>\n",
       "      <td>2015-11-02T00:15:33.131-05:00</td>\n",
       "      <td>532</td>\n",
       "      <td>4600050</td>\n",
       "      <td>2015_11_02_nyct</td>\n",
       "    </tr>\n",
       "    <tr>\n",
       "      <th>15</th>\n",
       "      <td>2015-11-02T00:16:34.860-05:00</td>\n",
       "      <td>530</td>\n",
       "      <td>4535021</td>\n",
       "      <td>2015_11_02_nyct</td>\n",
       "    </tr>\n",
       "    <tr>\n",
       "      <th>16</th>\n",
       "      <td>2015-11-02T00:17:38.809-05:00</td>\n",
       "      <td>530</td>\n",
       "      <td>4526175</td>\n",
       "      <td>2015_11_02_nyct</td>\n",
       "    </tr>\n",
       "    <tr>\n",
       "      <th>17</th>\n",
       "      <td>2015-11-02T00:18:39.667-05:00</td>\n",
       "      <td>532</td>\n",
       "      <td>4478625</td>\n",
       "      <td>2015_11_02_nyct</td>\n",
       "    </tr>\n",
       "    <tr>\n",
       "      <th>18</th>\n",
       "      <td>2015-11-02T00:19:43.671-05:00</td>\n",
       "      <td>532</td>\n",
       "      <td>4496420</td>\n",
       "      <td>2015_11_02_nyct</td>\n",
       "    </tr>\n",
       "    <tr>\n",
       "      <th>19</th>\n",
       "      <td>2015-11-02T00:20:45.064-05:00</td>\n",
       "      <td>526</td>\n",
       "      <td>4462830</td>\n",
       "      <td>2015_11_02_nyct</td>\n",
       "    </tr>\n",
       "  </tbody>\n",
       "</table>\n",
       "</div>"
      ],
      "text/plain": [
       "              response_time_stamp  veh_count  veh_str_len         filename\n",
       "0   2015-11-01T23:59:46.108-05:00        573      5118969  2015_11_02_nyct\n",
       "1   2015-11-02T00:00:52.900-05:00        572      5125493  2015_11_02_nyct\n",
       "2   2015-11-02T00:01:57.458-05:00        574      5115853  2015_11_02_nyct\n",
       "3   2015-11-02T00:03:01.498-05:00        580      5210647  2015_11_02_nyct\n",
       "4   2015-11-02T00:04:27.375-05:00        570      5054389  2015_11_02_nyct\n",
       "5   2015-11-02T00:05:35.451-05:00        564      5069069  2015_11_02_nyct\n",
       "6   2015-11-02T00:06:39.570-05:00        563      4995810  2015_11_02_nyct\n",
       "7   2015-11-02T00:07:44.925-05:00        561      4896862  2015_11_02_nyct\n",
       "8   2015-11-02T00:09:04.444-05:00        559      4886586  2015_11_02_nyct\n",
       "9   2015-11-02T00:10:07.946-05:00        553      4828978  2015_11_02_nyct\n",
       "10  2015-11-02T00:11:18.331-05:00        551      4815224  2015_11_02_nyct\n",
       "11  2015-11-02T00:12:20.402-05:00        547      4847451  2015_11_02_nyct\n",
       "12  2015-11-02T00:13:26.828-05:00        545      4706497  2015_11_02_nyct\n",
       "13  2015-11-02T00:14:29.240-05:00        546      4651647  2015_11_02_nyct\n",
       "14  2015-11-02T00:15:33.131-05:00        532      4600050  2015_11_02_nyct\n",
       "15  2015-11-02T00:16:34.860-05:00        530      4535021  2015_11_02_nyct\n",
       "16  2015-11-02T00:17:38.809-05:00        530      4526175  2015_11_02_nyct\n",
       "17  2015-11-02T00:18:39.667-05:00        532      4478625  2015_11_02_nyct\n",
       "18  2015-11-02T00:19:43.671-05:00        532      4496420  2015_11_02_nyct\n",
       "19  2015-11-02T00:20:45.064-05:00        526      4462830  2015_11_02_nyct"
      ]
     },
     "execution_count": 2,
     "metadata": {},
     "output_type": "execute_result"
    }
   ],
   "source": [
    "data = pd.read_csv('jsons_summary.csv',index_col=0)\n",
    "data.head(20)"
   ]
  },
  {
   "cell_type": "markdown",
   "metadata": {},
   "source": [
    "Parse the response time strings to get some grouping-friendly elements."
   ]
  },
  {
   "cell_type": "code",
   "execution_count": 3,
   "metadata": {
    "collapsed": false
   },
   "outputs": [],
   "source": [
    "data['source'] = data.filename.str[11:]\n",
    "data['hour'] = data.response_time_stamp.str[11:13]\n",
    "data['response_date'] = data['response_time_stamp'].str[:10]\n",
    "data.sort(['source','response_time_stamp'],inplace=True)\n",
    "data.reset_index(drop=True,inplace=True)\n",
    "data['response_time_stamp'] = pd.to_datetime(data.response_time_stamp)\n",
    "# also calculate the difference from one to the next\n",
    "data['elapsed'] = data['response_time_stamp'].diff()/timedelta(seconds=1)\n",
    "data['weekday'] = data['response_time_stamp'].apply(datetime.weekday)"
   ]
  },
  {
   "cell_type": "markdown",
   "metadata": {},
   "source": [
    "Check the distribution of time deltas."
   ]
  },
  {
   "cell_type": "code",
   "execution_count": 4,
   "metadata": {
    "collapsed": false
   },
   "outputs": [
    {
     "data": {
      "text/plain": [
       "<matplotlib.axes._subplots.AxesSubplot at 0x7fa920f249d0>"
      ]
     },
     "execution_count": 4,
     "metadata": {},
     "output_type": "execute_result"
    },
    {
     "data": {
      "image/png": "[encoded data removed]",
      "text/plain": [
       "<matplotlib.figure.Figure at 0x7fa9200af690>"
      ]
     },
     "metadata": {},
     "output_type": "display_data"
    }
   ],
   "source": [
    "data['elapsed'].hist(range=(0,300),bins=60)"
   ]
  },
  {
   "cell_type": "markdown",
   "metadata": {},
   "source": [
    "Check for extremes: how many gaps were longer than 5 minutes?  5-minute gaps aren't so problematic since the median trip duration is about 45 minutes."
   ]
  },
  {
   "cell_type": "code",
   "execution_count": 5,
   "metadata": {
    "collapsed": false
   },
   "outputs": [
    {
     "data": {
      "text/plain": [
       "2868"
      ]
     },
     "execution_count": 5,
     "metadata": {},
     "output_type": "execute_result"
    }
   ],
   "source": [
    "sum(data['elapsed']>300)"
   ]
  },
  {
   "cell_type": "markdown",
   "metadata": {},
   "source": [
    "Longer than 30 minutes?  Those are problematic because entire trips will be missed, or only a few stops can be interpolated from it."
   ]
  },
  {
   "cell_type": "code",
   "execution_count": 6,
   "metadata": {
    "collapsed": false
   },
   "outputs": [
    {
     "data": {
      "text/plain": [
       "606"
      ]
     },
     "execution_count": 6,
     "metadata": {},
     "output_type": "execute_result"
    }
   ],
   "source": [
    "sum(data['elapsed']>1800)"
   ]
  },
  {
   "cell_type": "markdown",
   "metadata": {},
   "source": [
    "That's still a large number.  Are those gaps repeating throughout the year?"
   ]
  },
  {
   "cell_type": "code",
   "execution_count": 7,
   "metadata": {
    "collapsed": false
   },
   "outputs": [
    {
     "data": {
      "text/plain": [
       "<matplotlib.axes._subplots.AxesSubplot at 0x7fa8ca7bb410>"
      ]
     },
     "execution_count": 7,
     "metadata": {},
     "output_type": "execute_result"
    },
    {
     "data": {
      "image/png": "[encoded data removed]",
      "text/plain": [
       "<matplotlib.figure.Figure at 0x7fa8f7157d50>"
      ]
     },
     "metadata": {},
     "output_type": "display_data"
    }
   ],
   "source": [
    "data.query('elapsed > 1800').groupby('response_date').size().plot()"
   ]
  },
  {
   "cell_type": "markdown",
   "metadata": {},
   "source": [
    "Do those 30-minute gaps happen on certain weekdays?"
   ]
  },
  {
   "cell_type": "code",
   "execution_count": 8,
   "metadata": {
    "collapsed": false
   },
   "outputs": [
    {
     "data": {
      "text/plain": [
       "weekday\n",
       "0    100\n",
       "1    113\n",
       "2    119\n",
       "3    109\n",
       "4    124\n",
       "5     20\n",
       "6     21\n",
       "dtype: int64"
      ]
     },
     "execution_count": 8,
     "metadata": {},
     "output_type": "execute_result"
    }
   ],
   "source": [
    "data.query('elapsed > 1800').groupby('weekday').size()"
   ]
  },
  {
   "cell_type": "markdown",
   "metadata": {
    "collapsed": true
   },
   "source": [
    "It's much more prevalent on business days.  Is the problem clustered around certain time of day?"
   ]
  },
  {
   "cell_type": "code",
   "execution_count": 9,
   "metadata": {
    "collapsed": false
   },
   "outputs": [
    {
     "data": {
      "text/plain": [
       "hour\n",
       "00      2\n",
       "01      1\n",
       "02      6\n",
       "03      2\n",
       "04     10\n",
       "05      4\n",
       "06      2\n",
       "07      8\n",
       "08     58\n",
       "09    169\n",
       "10      8\n",
       "11      4\n",
       "12      4\n",
       "13      4\n",
       "14     13\n",
       "15     16\n",
       "16     11\n",
       "17      9\n",
       "18    112\n",
       "19    126\n",
       "20      6\n",
       "21      2\n",
       "22      6\n",
       "23      2\n",
       "dtype: int64"
      ]
     },
     "execution_count": 9,
     "metadata": {},
     "output_type": "execute_result"
    }
   ],
   "source": [
    "data.query('elapsed > 1800 & weekday <= 5').groupby('hour').size()"
   ]
  },
  {
   "cell_type": "code",
   "execution_count": 10,
   "metadata": {
    "collapsed": false
   },
   "outputs": [
    {
     "data": {
      "text/plain": [
       "hour\n",
       "00    106\n",
       "01    125\n",
       "02    137\n",
       "03    140\n",
       "04    127\n",
       "05     90\n",
       "06     37\n",
       "07     20\n",
       "08     20\n",
       "09     31\n",
       "10     43\n",
       "11     33\n",
       "12     26\n",
       "13     23\n",
       "14     23\n",
       "15     22\n",
       "16     19\n",
       "17     17\n",
       "18      1\n",
       "19     12\n",
       "20     15\n",
       "21     60\n",
       "22     87\n",
       "23     98\n",
       "dtype: int64"
      ]
     },
     "execution_count": 10,
     "metadata": {},
     "output_type": "execute_result"
    }
   ],
   "source": [
    "data[data['response_date']=='2015-11-05'].groupby('hour').size()"
   ]
  },
  {
   "cell_type": "code",
   "execution_count": 11,
   "metadata": {
    "collapsed": false
   },
   "outputs": [],
   "source": [
    "gaps_by_date = data.query('elapsed > 1800').groupby('response_date').size()"
   ]
  },
  {
   "cell_type": "code",
   "execution_count": 12,
   "metadata": {
    "collapsed": false
   },
   "outputs": [],
   "source": [
    "gaps_by_date.sort()"
   ]
  },
  {
   "cell_type": "code",
   "execution_count": 13,
   "metadata": {
    "collapsed": false
   },
   "outputs": [
    {
     "data": {
      "text/plain": [
       "response_date\n",
       "2015-09-03    1\n",
       "2015-11-27    1\n",
       "2015-01-19    1\n",
       "2015-07-08    2\n",
       "2015-07-10    2\n",
       "dtype: int64"
      ]
     },
     "execution_count": 13,
     "metadata": {},
     "output_type": "execute_result"
    }
   ],
   "source": [
    "gaps_by_date[:5]"
   ]
  },
  {
   "cell_type": "code",
   "execution_count": 14,
   "metadata": {
    "collapsed": false
   },
   "outputs": [
    {
     "data": {
      "text/plain": [
       "response_date\n",
       "2015-07-22    4\n",
       "2015-02-06    4\n",
       "2015-08-21    4\n",
       "2015-11-11    4\n",
       "2015-10-30    4\n",
       "2015-10-20    5\n",
       "2015-09-21    5\n",
       "2015-11-10    5\n",
       "2015-11-04    5\n",
       "2015-11-16    5\n",
       "2015-09-20    6\n",
       "2015-11-14    6\n",
       "2015-10-09    6\n",
       "2015-11-05    7\n",
       "2015-11-01    9\n",
       "dtype: int64"
      ]
     },
     "execution_count": 14,
     "metadata": {},
     "output_type": "execute_result"
    }
   ],
   "source": [
    "gaps_by_date[-15:]"
   ]
  },
  {
   "cell_type": "markdown",
   "metadata": {},
   "source": [
    "### Try to find a string of seven days NO 30+ minutes gaps"
   ]
  },
  {
   "cell_type": "code",
   "execution_count": 54,
   "metadata": {
    "collapsed": false
   },
   "outputs": [
    {
     "name": "stdout",
     "output_type": "stream",
     "text": [
      "2015-01-01\n",
      "2015-01-03\n",
      "2015-01-04\n",
      "2015-01-10\n",
      "2015-01-11\n",
      "2015-01-17\n",
      "2015-01-24\n",
      "2015-01-25\n",
      "2015-01-27\n",
      "2015-01-31\n",
      "2015-02-01\n",
      "2015-02-07\n",
      "2015-02-08\n",
      "2015-02-14\n",
      "2015-02-15\n",
      "2015-02-16\n",
      "2015-02-21\n",
      "2015-02-22\n",
      "2015-02-28\n",
      "2015-03-01\n",
      "2015-03-07\n",
      "2015-03-08\n",
      "2015-03-14\n",
      "2015-03-15\n",
      "2015-03-21\n",
      "2015-03-22\n",
      "2015-03-28\n",
      "2015-03-29\n",
      "2015-04-04\n",
      "2015-04-05\n",
      "2015-04-11\n",
      "2015-04-12\n",
      "2015-04-18\n",
      "2015-04-19\n",
      "2015-04-25\n",
      "2015-04-26\n",
      "2015-05-02\n",
      "2015-05-03\n",
      "2015-05-09\n",
      "2015-05-10\n",
      "2015-05-16\n",
      "2015-05-17\n",
      "2015-05-23\n",
      "2015-05-24\n",
      "2015-05-25\n",
      "2015-05-30\n",
      "2015-05-31\n",
      "2015-06-06\n",
      "2015-06-07\n",
      "2015-06-13\n",
      "2015-06-14\n",
      "2015-06-20\n",
      "2015-06-27\n",
      "2015-06-28\n",
      "2015-07-03\n",
      "2015-07-04\n",
      "2015-07-05\n",
      "2015-07-11\n",
      "2015-07-18\n",
      "2015-07-19\n",
      "2015-07-25\n",
      "2015-07-26\n",
      "2015-08-01\n",
      "2015-08-02\n",
      "2015-08-08\n",
      "2015-08-09\n",
      "2015-08-15\n",
      "2015-08-16\n",
      "2015-08-23\n",
      "2015-08-29\n",
      "2015-08-30\n",
      "2015-09-05\n",
      "2015-09-06\n",
      "2015-09-07\n",
      "2015-09-12\n",
      "2015-09-13\n",
      "2015-09-19\n",
      "2015-09-26\n",
      "2015-09-27\n",
      "2015-10-03\n",
      "2015-10-04\n",
      "2015-10-10\n",
      "2015-10-17\n",
      "2015-10-18\n",
      "2015-10-25\n",
      "2015-10-31\n",
      "2015-11-08\n",
      "2015-11-15\n",
      "2015-11-26\n",
      "2015-11-28\n",
      "2015-12-01\n",
      "2015-12-02\n",
      "2015-12-03\n",
      "2015-12-04\n",
      "2015-12-05\n",
      "2015-12-07\n"
     ]
    }
   ],
   "source": [
    "for d in data.response_date.unique():\n",
    "    if d in list(gaps_by_date.index):\n",
    "        pass\n",
    "    else:\n",
    "        print d"
   ]
  },
  {
   "cell_type": "code",
   "execution_count": 55,
   "metadata": {
    "collapsed": false
   },
   "outputs": [
    {
     "data": {
      "text/html": [
       "<div style=\"max-height:1000px;max-width:1500px;overflow:auto;\">\n",
       "<table border=\"1\" class=\"dataframe\">\n",
       "  <thead>\n",
       "    <tr style=\"text-align: right;\">\n",
       "      <th></th>\n",
       "      <th>response_time_stamp</th>\n",
       "      <th>veh_count</th>\n",
       "      <th>veh_str_len</th>\n",
       "      <th>filename</th>\n",
       "      <th>source</th>\n",
       "      <th>hour</th>\n",
       "      <th>response_date</th>\n",
       "      <th>elapsed</th>\n",
       "      <th>weekday</th>\n",
       "    </tr>\n",
       "  </thead>\n",
       "  <tbody>\n",
       "    <tr>\n",
       "      <th>485167</th>\n",
       "      <td>2015-12-06 08:00:02.713000</td>\n",
       "      <td>36</td>\n",
       "      <td>249523</td>\n",
       "      <td>2015_12_06_bc</td>\n",
       "      <td>bc</td>\n",
       "      <td>03</td>\n",
       "      <td>2015-12-06</td>\n",
       "      <td>13331.976</td>\n",
       "      <td>6</td>\n",
       "    </tr>\n",
       "    <tr>\n",
       "      <th>854060</th>\n",
       "      <td>2015-12-06 08:00:03.263000</td>\n",
       "      <td>154</td>\n",
       "      <td>1433557</td>\n",
       "      <td>2015_12_06_nyct</td>\n",
       "      <td>nyct</td>\n",
       "      <td>03</td>\n",
       "      <td>2015-12-06</td>\n",
       "      <td>13388.250</td>\n",
       "      <td>6</td>\n",
       "    </tr>\n",
       "  </tbody>\n",
       "</table>\n",
       "</div>"
      ],
      "text/plain": [
       "              response_time_stamp  veh_count  veh_str_len         filename  \\\n",
       "485167 2015-12-06 08:00:02.713000         36       249523    2015_12_06_bc   \n",
       "854060 2015-12-06 08:00:03.263000        154      1433557  2015_12_06_nyct   \n",
       "\n",
       "       source hour response_date    elapsed  weekday  \n",
       "485167     bc   03    2015-12-06  13331.976        6  \n",
       "854060   nyct   03    2015-12-06  13388.250        6  "
      ]
     },
     "execution_count": 55,
     "metadata": {},
     "output_type": "execute_result"
    }
   ],
   "source": [
    "data.query('response_date >= \"2015-12-01\" & response_date <= \"2015-12-07\" & elapsed > 1800').sort('response_date')"
   ]
  },
  {
   "cell_type": "code",
   "execution_count": 59,
   "metadata": {
    "collapsed": false
   },
   "outputs": [
    {
     "data": {
      "text/plain": [
       "response_date\n",
       "2015-11-20    1233\n",
       "2015-11-21    1792\n",
       "2015-11-22    1914\n",
       "2015-11-23    1339\n",
       "2015-11-24    1448\n",
       "2015-11-25    1250\n",
       "2015-11-26    2073\n",
       "2015-11-27    1579\n",
       "2015-11-28    1784\n",
       "2015-11-29    1950\n",
       "2015-11-30    1405\n",
       "2015-12-01    2086\n",
       "2015-12-02    2014\n",
       "2015-12-03    2033\n",
       "2015-12-04    2065\n",
       "2015-12-05    2341\n",
       "2015-12-06    2206\n",
       "2015-12-07    2059\n",
       "2015-12-08    1806\n",
       "2015-12-30     295\n",
       "dtype: int64"
      ]
     },
     "execution_count": 59,
     "metadata": {},
     "output_type": "execute_result"
    }
   ],
   "source": [
    "data.groupby('response_date').size().iloc[-20:]"
   ]
  },
  {
   "cell_type": "code",
   "execution_count": null,
   "metadata": {
    "collapsed": true
   },
   "outputs": [],
   "source": []
  }
 ],
 "metadata": {
  "kernelspec": {
   "display_name": "Python 2",
   "language": "python",
   "name": "python2"
  },
  "language_info": {
   "codemirror_mode": {
    "name": "ipython",
    "version": 2
   },
   "file_extension": ".py",
   "mimetype": "text/x-python",
   "name": "python",
   "nbconvert_exporter": "python",
   "pygments_lexer": "ipython2",
   "version": "2.7.11"
  }
 },
 "nbformat": 4,
 "nbformat_minor": 0
}
