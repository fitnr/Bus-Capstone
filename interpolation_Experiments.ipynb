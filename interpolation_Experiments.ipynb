{
 "cells": [
  {
   "cell_type": "code",
   "execution_count": 1,
   "metadata": {
    "collapsed": true
   },
   "outputs": [],
   "source": [
    "# -*- coding: utf-8 -*-\n",
    "\"\"\"\n",
    "The script demonstrates a comparison of vehicle times from AVL data to the\n",
    "scheduled arrival time at one stop for one example trip.\n",
    "\"\"\"\n",
    "\n",
    "import os\n",
    "import pandas as pd\n",
    "\n",
    "# these two modules are homemade\n",
    "import gtfs\n",
    "import arrivals\n",
    "import time\n",
    "os.chdir('/gpfs2/projects/project-bus_capstone_2016/workspace/share')\n"
   ]
  },
  {
   "cell_type": "code",
   "execution_count": 45,
   "metadata": {
    "collapsed": false
   },
   "outputs": [
    {
     "name": "stdout",
     "output_type": "stream",
     "text": [
      "Finished loading GTFS data.\n"
     ]
    },
    {
     "data": {
      "text/plain": [
       "'\\n# get the sample of parsed A\\tVL data.  Beware, takes a few minutes.\\nbustime = pd.read_csv(\\'newdata_parsed.csv\\')#,parse_dates=dt_columns)\\nqstr = (\\'Trip == \"MTA NYCT_MV_B6-Weekday-SDon-038500_M5_203\" or \\'\\n    \\'Trip == \"MTA NYCT_MV_B6-Weekday-SDon-036500_M5_202\" or \\'\\n    \\'Trip == \"MTA NYCT_MV_B6-Weekday-SDon-040000_M5_204\"\\')\\nbustime = bustime.query(qstr)\\nbustime.drop_duplicates([\\'vehicleID\\',\\'RecordedAtTime\\'],inplace=True)\\nbustime.set_index([\\'Line\\',\\'Trip\\',\\'TripDate\\',\\'vehicleID\\',\\'RecordedAtTime\\'],\\n                  inplace=True,drop=True,verify_integrity=True)\\n\\n# for now, use a truncated data set.  just get data for one line (M5).\\ntripDateLookup = \"2016-06-13\"\\nlineLookup = \"MTA NYCT_M5\"\\nbustime_short = bustime.xs((lineLookup,tripDateLookup),level=(0,2))\\ndel bustime # to free up memory\\nprint \\'Finished loading BusTime data and and slicing three trips of M5 line.\\'\\n'"
      ]
     },
     "execution_count": 45,
     "metadata": {},
     "output_type": "execute_result"
    }
   ],
   "source": [
    "\n",
    "# get all the schedule data. (subset can be created later)\n",
    "trips = gtfs.load_trips('gtfs/')\n",
    "stops = gtfs.load_stops('gtfs/')\n",
    "stop_times, tz_sched = gtfs.load_stop_times('gtfs/')\n",
    "print 'Finished loading GTFS data.'\n",
    "\n",
    "\"\"\"\n",
    "# get the sample of parsed A\tVL data.  Beware, takes a few minutes.\n",
    "bustime = pd.read_csv('newdata_parsed.csv')#,parse_dates=dt_columns)\n",
    "qstr = ('Trip == \"MTA NYCT_MV_B6-Weekday-SDon-038500_M5_203\" or '\n",
    "    'Trip == \"MTA NYCT_MV_B6-Weekday-SDon-036500_M5_202\" or '\n",
    "    'Trip == \"MTA NYCT_MV_B6-Weekday-SDon-040000_M5_204\"')\n",
    "bustime = bustime.query(qstr)\n",
    "bustime.drop_duplicates(['vehicleID','RecordedAtTime'],inplace=True)\n",
    "bustime.set_index(['Line','Trip','TripDate','vehicleID','RecordedAtTime'],\n",
    "                  inplace=True,drop=True,verify_integrity=True)\n",
    "\n",
    "# for now, use a truncated data set.  just get data for one line (M5).\n",
    "tripDateLookup = \"2016-06-13\"\n",
    "lineLookup = \"MTA NYCT_M5\"\n",
    "bustime_short = bustime.xs((lineLookup,tripDateLookup),level=(0,2))\n",
    "del bustime # to free up memory\n",
    "print 'Finished loading BusTime data and and slicing three trips of M5 line.'\n",
    "\"\"\""
   ]
  },
  {
   "cell_type": "code",
   "execution_count": 3,
   "metadata": {
    "collapsed": false
   },
   "outputs": [
    {
     "data": {
      "text/plain": [
       "\"\\n# This function returns some elements of interest for each trip and stop\\ndef trip_summary(avl_subset,t):    \\n    fail =  0\\n    trip_id = t[9:]\\n    stop_list = list(stop_times.loc[trip_id].index)\\n    # collect AVL data around each stop into a dict\\n    stop_pings = {}\\n    for stop_id in stop_list:\\n        try:\\n            stop_pings[stop_id] = arrivals.nearby_pings(stop_id,trip_id,stop_times,\\n                                                        stops,avl_subset)\\n        except:\\n            fail += 1\\n            continue    \\n    print str(time.time()) + ' - finished stop pings dict.'\\n    # make a summary table about the AVL data near each stop on a trip\\n    summary_columns = ['N','arrival_actual_estimated']\\n    summary_df = pd.DataFrame(columns=summary_columns,index=stop_pings.keys())\\n    for k, v in stop_pings.iteritems():\\n        # we want to know how many AVL pings were returned  nearby   \\n        newrow = {'N':len(v)}\\n        min_stamp = v['ResponseTimeStamp'].min()\\n        newrow['arrival_actual_estimated'] = min_stamp\\n        summary_df.loc[k] = newrow\\n    print str(time.time()) + ' - finished ' + t[9:]\\n    return summary_df\\n\\n# now collect a dataframe with the summary data about all trips in the subset\\nday_summary = pd.DataFrame()\\nfor t in bustime_short.index.get_level_values(0).unique():\\n    try:\\n        avl_subset = bustime_short.loc[t]\\n        summary_df = trip_summary(avl_subset,t)\\n        summary_df['trip_id'] = t[9:]\\n        summary_df['TripDate'] = tripDateLookup\\n        summary_df.reset_index(inplace=True)\\n        summary_df.rename(columns={'index':'stop_id'},inplace=True)\\n        day_summary = day_summary.append(summary_df)\\n    except:\\n        print t\\nday_summary.set_index(['trip_id','stop_id'],inplace=True)\\nday_summary = day_summary.join(stop_times['arrival_time'])\\n\\nprint day_summary.shape\\n\""
      ]
     },
     "execution_count": 3,
     "metadata": {},
     "output_type": "execute_result"
    }
   ],
   "source": [
    "\"\"\"\n",
    "# This function returns some elements of interest for each trip and stop\n",
    "def trip_summary(avl_subset,t):    \n",
    "    fail =  0\n",
    "    trip_id = t[9:]\n",
    "    stop_list = list(stop_times.loc[trip_id].index)\n",
    "    # collect AVL data around each stop into a dict\n",
    "    stop_pings = {}\n",
    "    for stop_id in stop_list:\n",
    "        try:\n",
    "            stop_pings[stop_id] = arrivals.nearby_pings(stop_id,trip_id,stop_times,\n",
    "                                                        stops,avl_subset)\n",
    "        except:\n",
    "            fail += 1\n",
    "            continue    \n",
    "    print str(time.time()) + ' - finished stop pings dict.'\n",
    "    # make a summary table about the AVL data near each stop on a trip\n",
    "    summary_columns = ['N','arrival_actual_estimated']\n",
    "    summary_df = pd.DataFrame(columns=summary_columns,index=stop_pings.keys())\n",
    "    for k, v in stop_pings.iteritems():\n",
    "        # we want to know how many AVL pings were returned  nearby   \n",
    "        newrow = {'N':len(v)}\n",
    "        min_stamp = v['ResponseTimeStamp'].min()\n",
    "        newrow['arrival_actual_estimated'] = min_stamp\n",
    "        summary_df.loc[k] = newrow\n",
    "    print str(time.time()) + ' - finished ' + t[9:]\n",
    "    return summary_df\n",
    "\n",
    "# now collect a dataframe with the summary data about all trips in the subset\n",
    "day_summary = pd.DataFrame()\n",
    "for t in bustime_short.index.get_level_values(0).unique():\n",
    "    try:\n",
    "        avl_subset = bustime_short.loc[t]\n",
    "        summary_df = trip_summary(avl_subset,t)\n",
    "        summary_df['trip_id'] = t[9:]\n",
    "        summary_df['TripDate'] = tripDateLookup\n",
    "        summary_df.reset_index(inplace=True)\n",
    "        summary_df.rename(columns={'index':'stop_id'},inplace=True)\n",
    "        day_summary = day_summary.append(summary_df)\n",
    "    except:\n",
    "        print t\n",
    "day_summary.set_index(['trip_id','stop_id'],inplace=True)\n",
    "day_summary = day_summary.join(stop_times['arrival_time'])\n",
    "\n",
    "print day_summary.shape\n",
    "\"\"\"\n"
   ]
  },
  {
   "cell_type": "code",
   "execution_count": 46,
   "metadata": {
    "collapsed": false
   },
   "outputs": [],
   "source": [
    "# day_summary.to_csv('day_summary.csv')\n",
    "\n",
    "data = pd.read_csv('longjsons_parsed.csv')\n",
    "\n",
    "qstr = ('Trip == \"MTA NYCT_FB_B6-Weekday-SDon-043400_B41_16\"')\n",
    "bustime = data.query(qstr)\n",
    "bustime.drop_duplicates(['vehicleID','RecordedAtTime'],inplace=True)\n",
    "bustime.set_index(['Line','Trip','TripDate','vehicleID','RecordedAtTime'],\n",
    "                  inplace=True,drop=True,verify_integrity=True)\n",
    "# for now, use a truncated data set.  just get data for one line (M5).\n",
    "tripDateLookup = \"2016-05-25\"\n",
    "lineLookup = \"MTA NYCT_B41\"\n",
    "avl_long = bustime.xs((lineLookup,tripDateLookup),level=(0,2))\n",
    "del bustime,data # to free up memory\n",
    "\n"
   ]
  },
  {
   "cell_type": "code",
   "execution_count": 13,
   "metadata": {
    "collapsed": true
   },
   "outputs": [],
   "source": [
    "from scipy import spatial"
   ]
  },
  {
   "cell_type": "code",
   "execution_count": 81,
   "metadata": {
    "collapsed": false
   },
   "outputs": [
    {
     "ename": "ValueError",
     "evalue": "Troublesome data array: [  2387.92   2598.69   2598.69   2598.69   2981.87   2981.87   2981.87\n   3197.86   3197.86   3406.24   3695.94   3695.94   3695.94   3695.94\n   4539.73   4539.73   4539.73   4539.73   4908.69   4908.69   5120.66\n   5120.66   5120.66   5436.26   5436.26   5436.26   5436.26   5766.06\n   5766.06   5766.06   5766.06   6065.31   6065.31   6393.44   6393.44\n   6393.44       nan       nan   6677.85   6978.25   6978.25   6978.25\n   6978.25   7252.59   7252.59   7252.59   7498.74   7498.74   7785.86\n   7785.86   7785.86   7785.86   8146.94   8146.94   8146.94   8146.94\n   8360.25   8360.25   8360.25   8675.57   8675.57   8675.57   8675.57\n   8675.57   8976.29   9298.28   9298.28   9689.41   9689.41  10075.25\n  10075.25  10075.25  10075.25  10248.78  10248.78  10248.78  10562.79\n  10562.79  10562.79  10562.79       nan  10862.42  10862.42  11111.04\n  11111.04  11111.04  11111.04  11266.13  11429.64  11598.19  11598.19\n  11759.84  11759.84  11869.77  12057.53  12057.53  12229.37  12350.36\n  12538.28  12654.86  12654.86  12654.86  12654.86  12654.86  12654.86\n  12654.86  12654.86  12654.86  12654.86  12654.86  12654.86  12654.86\n  12654.86  12654.86  12654.86  12654.86  12654.86  12654.86  12654.86\n  12654.86  12654.86  12654.86  12654.86  12654.86  12654.86  12654.86\n  12654.86  12654.86  12654.86  12654.86]",
     "output_type": "error",
     "traceback": [
      "\u001b[1;31m---------------------------------------------------------------------------\u001b[0m",
      "\u001b[1;31mValueError\u001b[0m                                Traceback (most recent call last)",
      "\u001b[1;32m<ipython-input-81-1e3ad9f46d0f>\u001b[0m in \u001b[0;36m<module>\u001b[1;34m()\u001b[0m\n\u001b[0;32m     22\u001b[0m \u001b[1;31m#lat, lon = 40.6763783,-73.983488\u001b[0m\u001b[1;33m\u001b[0m\u001b[1;33m\u001b[0m\u001b[0m\n\u001b[0;32m     23\u001b[0m \u001b[1;33m\u001b[0m\u001b[0m\n\u001b[1;32m---> 24\u001b[1;33m \u001b[0mtime_at_location\u001b[0m\u001b[1;33m(\u001b[0m\u001b[0mdist_route\u001b[0m\u001b[1;33m,\u001b[0m\u001b[0mtrip_id\u001b[0m\u001b[1;33m,\u001b[0m\u001b[0mavl_data\u001b[0m\u001b[1;33m,\u001b[0m\u001b[0mstop_times\u001b[0m\u001b[1;33m,\u001b[0m\u001b[0mradius\u001b[0m\u001b[1;33m)\u001b[0m\u001b[1;33m\u001b[0m\u001b[0m\n\u001b[0m",
      "\u001b[1;32m<ipython-input-81-1e3ad9f46d0f>\u001b[0m in \u001b[0;36mtime_at_location\u001b[1;34m(dist_route, trip_id, avl_data, stop_times, radius)\u001b[0m\n\u001b[0;32m      5\u001b[0m         \u001b[1;31m#print avl_subset\u001b[0m\u001b[1;33m\u001b[0m\u001b[1;33m\u001b[0m\u001b[0m\n\u001b[0;32m      6\u001b[0m         \u001b[0mpoints\u001b[0m \u001b[1;33m=\u001b[0m \u001b[0mzip\u001b[0m\u001b[1;33m(\u001b[0m\u001b[0mavl_subset\u001b[0m\u001b[1;33m.\u001b[0m\u001b[0mCallDistAlongRoute\u001b[0m\u001b[1;33m.\u001b[0m\u001b[0mravel\u001b[0m\u001b[1;33m(\u001b[0m\u001b[1;33m)\u001b[0m\u001b[1;33m)\u001b[0m\u001b[1;33m\u001b[0m\u001b[0m\n\u001b[1;32m----> 7\u001b[1;33m         \u001b[0mtree\u001b[0m \u001b[1;33m=\u001b[0m \u001b[0mspatial\u001b[0m\u001b[1;33m.\u001b[0m\u001b[0mKDTree\u001b[0m\u001b[1;33m(\u001b[0m\u001b[0mpoints\u001b[0m\u001b[1;33m)\u001b[0m \u001b[1;31m# implement KDTree class\u001b[0m\u001b[1;33m\u001b[0m\u001b[0m\n\u001b[0m\u001b[0;32m      8\u001b[0m         \u001b[0mlookup_point\u001b[0m \u001b[1;33m=\u001b[0m \u001b[1;33m[\u001b[0m\u001b[0mdist_route\u001b[0m\u001b[1;33m]\u001b[0m\u001b[1;33m\u001b[0m\u001b[0m\n\u001b[0;32m      9\u001b[0m         \u001b[0mnearby_points\u001b[0m \u001b[1;33m=\u001b[0m \u001b[0mtree\u001b[0m\u001b[1;33m.\u001b[0m\u001b[0mquery_ball_point\u001b[0m\u001b[1;33m(\u001b[0m\u001b[0mlookup_point\u001b[0m\u001b[1;33m,\u001b[0m \u001b[0mradius\u001b[0m\u001b[1;33m)\u001b[0m\u001b[1;33m\u001b[0m\u001b[0m\n",
      "\u001b[1;32m/opt/rh/anaconda/root/lib/python2.7/site-packages/scipy/spatial/kdtree.pyc\u001b[0m in \u001b[0;36m__init__\u001b[1;34m(self, data, leafsize)\u001b[0m\n\u001b[0;32m    234\u001b[0m         \u001b[0mself\u001b[0m\u001b[1;33m.\u001b[0m\u001b[0mmins\u001b[0m \u001b[1;33m=\u001b[0m \u001b[0mnp\u001b[0m\u001b[1;33m.\u001b[0m\u001b[0mamin\u001b[0m\u001b[1;33m(\u001b[0m\u001b[0mself\u001b[0m\u001b[1;33m.\u001b[0m\u001b[0mdata\u001b[0m\u001b[1;33m,\u001b[0m\u001b[0maxis\u001b[0m\u001b[1;33m=\u001b[0m\u001b[1;36m0\u001b[0m\u001b[1;33m)\u001b[0m\u001b[1;33m\u001b[0m\u001b[0m\n\u001b[0;32m    235\u001b[0m \u001b[1;33m\u001b[0m\u001b[0m\n\u001b[1;32m--> 236\u001b[1;33m         \u001b[0mself\u001b[0m\u001b[1;33m.\u001b[0m\u001b[0mtree\u001b[0m \u001b[1;33m=\u001b[0m \u001b[0mself\u001b[0m\u001b[1;33m.\u001b[0m\u001b[0m__build\u001b[0m\u001b[1;33m(\u001b[0m\u001b[0mnp\u001b[0m\u001b[1;33m.\u001b[0m\u001b[0marange\u001b[0m\u001b[1;33m(\u001b[0m\u001b[0mself\u001b[0m\u001b[1;33m.\u001b[0m\u001b[0mn\u001b[0m\u001b[1;33m)\u001b[0m\u001b[1;33m,\u001b[0m \u001b[0mself\u001b[0m\u001b[1;33m.\u001b[0m\u001b[0mmaxes\u001b[0m\u001b[1;33m,\u001b[0m \u001b[0mself\u001b[0m\u001b[1;33m.\u001b[0m\u001b[0mmins\u001b[0m\u001b[1;33m)\u001b[0m\u001b[1;33m\u001b[0m\u001b[0m\n\u001b[0m\u001b[0;32m    237\u001b[0m \u001b[1;33m\u001b[0m\u001b[0m\n\u001b[0;32m    238\u001b[0m     \u001b[1;32mclass\u001b[0m \u001b[0mnode\u001b[0m\u001b[1;33m(\u001b[0m\u001b[0mobject\u001b[0m\u001b[1;33m)\u001b[0m\u001b[1;33m:\u001b[0m\u001b[1;33m\u001b[0m\u001b[0m\n",
      "\u001b[1;32m/opt/rh/anaconda/root/lib/python2.7/site-packages/scipy/spatial/kdtree.pyc\u001b[0m in \u001b[0;36m__build\u001b[1;34m(self, idx, maxes, mins)\u001b[0m\n\u001b[0;32m    297\u001b[0m                 \u001b[1;31m# _still_ zero? all must have the same value\u001b[0m\u001b[1;33m\u001b[0m\u001b[1;33m\u001b[0m\u001b[0m\n\u001b[0;32m    298\u001b[0m                 \u001b[1;32mif\u001b[0m \u001b[1;32mnot\u001b[0m \u001b[0mnp\u001b[0m\u001b[1;33m.\u001b[0m\u001b[0mall\u001b[0m\u001b[1;33m(\u001b[0m\u001b[0mdata\u001b[0m \u001b[1;33m==\u001b[0m \u001b[0mdata\u001b[0m\u001b[1;33m[\u001b[0m\u001b[1;36m0\u001b[0m\u001b[1;33m]\u001b[0m\u001b[1;33m)\u001b[0m\u001b[1;33m:\u001b[0m\u001b[1;33m\u001b[0m\u001b[0m\n\u001b[1;32m--> 299\u001b[1;33m                     \u001b[1;32mraise\u001b[0m \u001b[0mValueError\u001b[0m\u001b[1;33m(\u001b[0m\u001b[1;34m\"Troublesome data array: %s\"\u001b[0m \u001b[1;33m%\u001b[0m \u001b[0mdata\u001b[0m\u001b[1;33m)\u001b[0m\u001b[1;33m\u001b[0m\u001b[0m\n\u001b[0m\u001b[0;32m    300\u001b[0m                 \u001b[0msplit\u001b[0m \u001b[1;33m=\u001b[0m \u001b[0mdata\u001b[0m\u001b[1;33m[\u001b[0m\u001b[1;36m0\u001b[0m\u001b[1;33m]\u001b[0m\u001b[1;33m\u001b[0m\u001b[0m\n\u001b[0;32m    301\u001b[0m                 \u001b[0mless_idx\u001b[0m \u001b[1;33m=\u001b[0m \u001b[0mnp\u001b[0m\u001b[1;33m.\u001b[0m\u001b[0marange\u001b[0m\u001b[1;33m(\u001b[0m\u001b[0mlen\u001b[0m\u001b[1;33m(\u001b[0m\u001b[0mdata\u001b[0m\u001b[1;33m)\u001b[0m\u001b[1;33m-\u001b[0m\u001b[1;36m1\u001b[0m\u001b[1;33m)\u001b[0m\u001b[1;33m\u001b[0m\u001b[0m\n",
      "\u001b[1;31mValueError\u001b[0m: Troublesome data array: [  2387.92   2598.69   2598.69   2598.69   2981.87   2981.87   2981.87\n   3197.86   3197.86   3406.24   3695.94   3695.94   3695.94   3695.94\n   4539.73   4539.73   4539.73   4539.73   4908.69   4908.69   5120.66\n   5120.66   5120.66   5436.26   5436.26   5436.26   5436.26   5766.06\n   5766.06   5766.06   5766.06   6065.31   6065.31   6393.44   6393.44\n   6393.44       nan       nan   6677.85   6978.25   6978.25   6978.25\n   6978.25   7252.59   7252.59   7252.59   7498.74   7498.74   7785.86\n   7785.86   7785.86   7785.86   8146.94   8146.94   8146.94   8146.94\n   8360.25   8360.25   8360.25   8675.57   8675.57   8675.57   8675.57\n   8675.57   8976.29   9298.28   9298.28   9689.41   9689.41  10075.25\n  10075.25  10075.25  10075.25  10248.78  10248.78  10248.78  10562.79\n  10562.79  10562.79  10562.79       nan  10862.42  10862.42  11111.04\n  11111.04  11111.04  11111.04  11266.13  11429.64  11598.19  11598.19\n  11759.84  11759.84  11869.77  12057.53  12057.53  12229.37  12350.36\n  12538.28  12654.86  12654.86  12654.86  12654.86  12654.86  12654.86\n  12654.86  12654.86  12654.86  12654.86  12654.86  12654.86  12654.86\n  12654.86  12654.86  12654.86  12654.86  12654.86  12654.86  12654.86\n  12654.86  12654.86  12654.86  12654.86  12654.86  12654.86  12654.86\n  12654.86  12654.86  12654.86  12654.86]"
     ]
    }
   ],
   "source": [
    "avl_data = avl_long\n",
    "radius = 0.01\n",
    "trip_id = \"FB_B6-Weekday-SDon-043400_B41_16\"\n",
    "dist_route = 2600\n",
    "#lat, lon = 40.6763783,-73.983488\n",
    "\n",
    "trip_stop_times = stop_times.loc[trip_id]\n",
    "lookup = 'MTA NYCT_' + trip_id # lookup string used to query AVL data\n",
    "avl_subset = avl_data.query('Trip == @lookup')\n",
    "#print avl_subset\n",
    "points = zip(avl_subset.CallDistAlongRoute.ravel())\n",
    "tree = spatial.KDTree(points) # implement KDTree class\n",
    "lookup_point = [dist_route]\n",
    "nearby_points = tree.query_ball_point(lookup_point, radius)\n",
    "#print nearby_points\n",
    "locations = avl_subset.iloc[nearby_points][['CallDistAlongRoute']]\n",
    "times = avl_subset.iloc[nearby_points].index.get_level_values('RecordedAtTime')\n",
    "df = pd.DataFrame(avl_subset.iloc[nearby_points][['CallDistAlongRoute']])\n",
    "df['RecordedAtTime'] = times\n",
    "df = df.set_index(['RecordedAtTime'])\n",
    "#resampled = df.resample('S').interpolate()\n",
    "return df#resampled\n",
    "\n",
    "\n",
    "time_at_location(dist_route,trip_id,avl_data,stop_times,radius)    "
   ]
  },
  {
   "cell_type": "code",
   "execution_count": 76,
   "metadata": {
    "collapsed": false
   },
   "outputs": [
    {
     "data": {
      "text/html": [
       "<div style=\"max-height:1000px;max-width:1500px;overflow:auto;\">\n",
       "<table border=\"1\" class=\"dataframe\">\n",
       "  <thead>\n",
       "    <tr style=\"text-align: right;\">\n",
       "      <th></th>\n",
       "      <th></th>\n",
       "      <th></th>\n",
       "      <th>Latitude</th>\n",
       "      <th>Longitude</th>\n",
       "      <th>TripPattern</th>\n",
       "      <th>MonitoredCallRef</th>\n",
       "      <th>EstCallArrival</th>\n",
       "      <th>DistFromCall</th>\n",
       "      <th>CallDistAlongRoute</th>\n",
       "      <th>PresentableDistance</th>\n",
       "      <th>ResponseTimeStamp</th>\n",
       "    </tr>\n",
       "    <tr>\n",
       "      <th>Trip</th>\n",
       "      <th>vehicleID</th>\n",
       "      <th>RecordedAtTime</th>\n",
       "      <th></th>\n",
       "      <th></th>\n",
       "      <th></th>\n",
       "      <th></th>\n",
       "      <th></th>\n",
       "      <th></th>\n",
       "      <th></th>\n",
       "      <th></th>\n",
       "      <th></th>\n",
       "    </tr>\n",
       "  </thead>\n",
       "  <tbody>\n",
       "    <tr>\n",
       "      <th rowspan=\"5\" valign=\"top\">MTA NYCT_FB_B6-Weekday-SDon-043400_B41_16</th>\n",
       "      <th rowspan=\"5\" valign=\"top\">MTA NYCT_4587</th>\n",
       "      <th>2016-05-25T07:26:40.000-04:00</th>\n",
       "      <td>40.682170</td>\n",
       "      <td>-73.976072</td>\n",
       "      <td>MTA_B410332</td>\n",
       "      <td>MTA_901500</td>\n",
       "      <td>2016-05-25T07:27:13.126-04:00</td>\n",
       "      <td>0.00</td>\n",
       "      <td>2387.92</td>\n",
       "      <td>at stop</td>\n",
       "      <td>2016-05-25T07:27:12.126-04:00</td>\n",
       "    </tr>\n",
       "    <tr>\n",
       "      <th>2016-05-25T07:27:11.000-04:00</th>\n",
       "      <td>40.681098</td>\n",
       "      <td>-73.975304</td>\n",
       "      <td>MTA_B410332</td>\n",
       "      <td>MTA_303297</td>\n",
       "      <td>2016-05-25T07:27:43.111-04:00</td>\n",
       "      <td>75.02</td>\n",
       "      <td>2598.69</td>\n",
       "      <td>approaching</td>\n",
       "      <td>2016-05-25T07:27:42.111-04:00</td>\n",
       "    </tr>\n",
       "    <tr>\n",
       "      <th>2016-05-25T07:27:42.000-04:00</th>\n",
       "      <td>40.681126</td>\n",
       "      <td>-73.975324</td>\n",
       "      <td>MTA_B410332</td>\n",
       "      <td>MTA_303297</td>\n",
       "      <td>2016-05-25T07:28:13.158-04:00</td>\n",
       "      <td>78.59</td>\n",
       "      <td>2598.69</td>\n",
       "      <td>approaching</td>\n",
       "      <td>2016-05-25T07:28:12.158-04:00</td>\n",
       "    </tr>\n",
       "    <tr>\n",
       "      <th>2016-05-25T07:28:14.000-04:00</th>\n",
       "      <td>40.680564</td>\n",
       "      <td>-73.974913</td>\n",
       "      <td>MTA_B410332</td>\n",
       "      <td>MTA_303297</td>\n",
       "      <td>2016-05-25T07:28:43.133-04:00</td>\n",
       "      <td>7.14</td>\n",
       "      <td>2598.69</td>\n",
       "      <td>at stop</td>\n",
       "      <td>2016-05-25T07:28:42.133-04:00</td>\n",
       "    </tr>\n",
       "    <tr>\n",
       "      <th>2016-05-25T07:28:45.000-04:00</th>\n",
       "      <td>40.678978</td>\n",
       "      <td>-73.973757</td>\n",
       "      <td>MTA_B410332</td>\n",
       "      <td>MTA_303300</td>\n",
       "      <td>2016-05-25T07:29:38.356-04:00</td>\n",
       "      <td>188.81</td>\n",
       "      <td>2981.87</td>\n",
       "      <td>&lt; 1 stop away</td>\n",
       "      <td>2016-05-25T07:29:12.128-04:00</td>\n",
       "    </tr>\n",
       "  </tbody>\n",
       "</table>\n",
       "</div>"
      ],
      "text/plain": [
       "                                                                                        Latitude  \\\n",
       "Trip                                      vehicleID     RecordedAtTime                             \n",
       "MTA NYCT_FB_B6-Weekday-SDon-043400_B41_16 MTA NYCT_4587 2016-05-25T07:26:40.000-04:00  40.682170   \n",
       "                                                        2016-05-25T07:27:11.000-04:00  40.681098   \n",
       "                                                        2016-05-25T07:27:42.000-04:00  40.681126   \n",
       "                                                        2016-05-25T07:28:14.000-04:00  40.680564   \n",
       "                                                        2016-05-25T07:28:45.000-04:00  40.678978   \n",
       "\n",
       "                                                                                       Longitude  \\\n",
       "Trip                                      vehicleID     RecordedAtTime                             \n",
       "MTA NYCT_FB_B6-Weekday-SDon-043400_B41_16 MTA NYCT_4587 2016-05-25T07:26:40.000-04:00 -73.976072   \n",
       "                                                        2016-05-25T07:27:11.000-04:00 -73.975304   \n",
       "                                                        2016-05-25T07:27:42.000-04:00 -73.975324   \n",
       "                                                        2016-05-25T07:28:14.000-04:00 -73.974913   \n",
       "                                                        2016-05-25T07:28:45.000-04:00 -73.973757   \n",
       "\n",
       "                                                                                       TripPattern  \\\n",
       "Trip                                      vehicleID     RecordedAtTime                               \n",
       "MTA NYCT_FB_B6-Weekday-SDon-043400_B41_16 MTA NYCT_4587 2016-05-25T07:26:40.000-04:00  MTA_B410332   \n",
       "                                                        2016-05-25T07:27:11.000-04:00  MTA_B410332   \n",
       "                                                        2016-05-25T07:27:42.000-04:00  MTA_B410332   \n",
       "                                                        2016-05-25T07:28:14.000-04:00  MTA_B410332   \n",
       "                                                        2016-05-25T07:28:45.000-04:00  MTA_B410332   \n",
       "\n",
       "                                                                                      MonitoredCallRef  \\\n",
       "Trip                                      vehicleID     RecordedAtTime                                   \n",
       "MTA NYCT_FB_B6-Weekday-SDon-043400_B41_16 MTA NYCT_4587 2016-05-25T07:26:40.000-04:00       MTA_901500   \n",
       "                                                        2016-05-25T07:27:11.000-04:00       MTA_303297   \n",
       "                                                        2016-05-25T07:27:42.000-04:00       MTA_303297   \n",
       "                                                        2016-05-25T07:28:14.000-04:00       MTA_303297   \n",
       "                                                        2016-05-25T07:28:45.000-04:00       MTA_303300   \n",
       "\n",
       "                                                                                                      EstCallArrival  \\\n",
       "Trip                                      vehicleID     RecordedAtTime                                                 \n",
       "MTA NYCT_FB_B6-Weekday-SDon-043400_B41_16 MTA NYCT_4587 2016-05-25T07:26:40.000-04:00  2016-05-25T07:27:13.126-04:00   \n",
       "                                                        2016-05-25T07:27:11.000-04:00  2016-05-25T07:27:43.111-04:00   \n",
       "                                                        2016-05-25T07:27:42.000-04:00  2016-05-25T07:28:13.158-04:00   \n",
       "                                                        2016-05-25T07:28:14.000-04:00  2016-05-25T07:28:43.133-04:00   \n",
       "                                                        2016-05-25T07:28:45.000-04:00  2016-05-25T07:29:38.356-04:00   \n",
       "\n",
       "                                                                                       DistFromCall  \\\n",
       "Trip                                      vehicleID     RecordedAtTime                                \n",
       "MTA NYCT_FB_B6-Weekday-SDon-043400_B41_16 MTA NYCT_4587 2016-05-25T07:26:40.000-04:00          0.00   \n",
       "                                                        2016-05-25T07:27:11.000-04:00         75.02   \n",
       "                                                        2016-05-25T07:27:42.000-04:00         78.59   \n",
       "                                                        2016-05-25T07:28:14.000-04:00          7.14   \n",
       "                                                        2016-05-25T07:28:45.000-04:00        188.81   \n",
       "\n",
       "                                                                                       CallDistAlongRoute  \\\n",
       "Trip                                      vehicleID     RecordedAtTime                                      \n",
       "MTA NYCT_FB_B6-Weekday-SDon-043400_B41_16 MTA NYCT_4587 2016-05-25T07:26:40.000-04:00             2387.92   \n",
       "                                                        2016-05-25T07:27:11.000-04:00             2598.69   \n",
       "                                                        2016-05-25T07:27:42.000-04:00             2598.69   \n",
       "                                                        2016-05-25T07:28:14.000-04:00             2598.69   \n",
       "                                                        2016-05-25T07:28:45.000-04:00             2981.87   \n",
       "\n",
       "                                                                                      PresentableDistance  \\\n",
       "Trip                                      vehicleID     RecordedAtTime                                      \n",
       "MTA NYCT_FB_B6-Weekday-SDon-043400_B41_16 MTA NYCT_4587 2016-05-25T07:26:40.000-04:00             at stop   \n",
       "                                                        2016-05-25T07:27:11.000-04:00         approaching   \n",
       "                                                        2016-05-25T07:27:42.000-04:00         approaching   \n",
       "                                                        2016-05-25T07:28:14.000-04:00             at stop   \n",
       "                                                        2016-05-25T07:28:45.000-04:00       < 1 stop away   \n",
       "\n",
       "                                                                                                   ResponseTimeStamp  \n",
       "Trip                                      vehicleID     RecordedAtTime                                                \n",
       "MTA NYCT_FB_B6-Weekday-SDon-043400_B41_16 MTA NYCT_4587 2016-05-25T07:26:40.000-04:00  2016-05-25T07:27:12.126-04:00  \n",
       "                                                        2016-05-25T07:27:11.000-04:00  2016-05-25T07:27:42.111-04:00  \n",
       "                                                        2016-05-25T07:27:42.000-04:00  2016-05-25T07:28:12.158-04:00  \n",
       "                                                        2016-05-25T07:28:14.000-04:00  2016-05-25T07:28:42.133-04:00  \n",
       "                                                        2016-05-25T07:28:45.000-04:00  2016-05-25T07:29:12.128-04:00  "
      ]
     },
     "execution_count": 76,
     "metadata": {},
     "output_type": "execute_result"
    }
   ],
   "source": [
    "avl_data.head()"
   ]
  },
  {
   "cell_type": "code",
   "execution_count": null,
   "metadata": {
    "collapsed": false
   },
   "outputs": [],
   "source": []
  }
 ],
 "metadata": {
  "kernelspec": {
   "display_name": "Python 2",
   "language": "python",
   "name": "python2"
  },
  "language_info": {
   "codemirror_mode": {
    "name": "ipython",
    "version": 2
   },
   "file_extension": ".py",
   "mimetype": "text/x-python",
   "name": "python",
   "nbconvert_exporter": "python",
   "pygments_lexer": "ipython2",
   "version": "2.7.11"
  }
 },
 "nbformat": 4,
 "nbformat_minor": 0
}
