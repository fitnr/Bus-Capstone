{
 "cells": [
  {
   "cell_type": "code",
   "execution_count": 105,
   "metadata": {
    "collapsed": true
   },
   "outputs": [],
   "source": [
    "# -*- coding: utf-8 -*-\n",
    "\"\"\"\n",
    "The script demonstrates a comparison of vehicle times from AVL data to the\n",
    "scheduled arrival time at one stop for one example trip.\n",
    "\"\"\"\n",
    "\n",
    "import os\n",
    "import pandas as pd\n",
    "import matplotlib.pyplot as plt\n",
    "%matplotlib inline  \n",
    "\n",
    "# these two modules are homemade\n",
    "import gtfs\n",
    "import arrivals\n",
    "import time\n",
    "os.chdir('/gpfs2/projects/project-bus_capstone_2016/workspace/share')\n"
   ]
  },
  {
   "cell_type": "code",
   "execution_count": 92,
   "metadata": {
    "collapsed": false
   },
   "outputs": [
    {
     "name": "stdout",
     "output_type": "stream",
     "text": [
      "Finished loading GTFS data.\n"
     ]
    },
    {
     "data": {
      "text/plain": [
       "'\\n# get the sample of parsed A\\tVL data.  Beware, takes a few minutes.\\nbustime = pd.read_csv(\\'newdata_parsed.csv\\')#,parse_dates=dt_columns)\\nqstr = (\\'Trip == \"MTA NYCT_MV_B6-Weekday-SDon-038500_M5_203\" or \\'\\n    \\'Trip == \"MTA NYCT_MV_B6-Weekday-SDon-036500_M5_202\" or \\'\\n    \\'Trip == \"MTA NYCT_MV_B6-Weekday-SDon-040000_M5_204\"\\')\\nbustime = bustime.query(qstr)\\nbustime.drop_duplicates([\\'vehicleID\\',\\'RecordedAtTime\\'],inplace=True)\\nbustime.set_index([\\'Line\\',\\'Trip\\',\\'TripDate\\',\\'vehicleID\\',\\'RecordedAtTime\\'],\\n                  inplace=True,drop=True,verify_integrity=True)\\n\\n# for now, use a truncated data set.  just get data for one line (M5).\\ntripDateLookup = \"2016-06-13\"\\nlineLookup = \"MTA NYCT_M5\"\\nbustime_short = bustime.xs((lineLookup,tripDateLookup),level=(0,2))\\ndel bustime # to free up memory\\nprint \\'Finished loading BusTime data and and slicing three trips of M5 line.\\'\\n'"
      ]
     },
     "execution_count": 92,
     "metadata": {},
     "output_type": "execute_result"
    }
   ],
   "source": [
    "# get all the schedule data. (subset can be created later)\n",
    "trips = gtfs.load_trips('gtfs/')\n",
    "stops = gtfs.load_stops('gtfs/')\n",
    "trip_shapes = gtfs.load_trip_shapes('gtfs/')\n",
    "stop_times, tz_sched = gtfs.load_stop_times('gtfs/')\n",
    "print 'Finished loading GTFS data.'\n",
    "\n",
    "\"\"\"\n",
    "# get the sample of parsed A\tVL data.  Beware, takes a few minutes.\n",
    "bustime = pd.read_csv('newdata_parsed.csv')#,parse_dates=dt_columns)\n",
    "qstr = ('Trip == \"MTA NYCT_MV_B6-Weekday-SDon-038500_M5_203\" or '\n",
    "    'Trip == \"MTA NYCT_MV_B6-Weekday-SDon-036500_M5_202\" or '\n",
    "    'Trip == \"MTA NYCT_MV_B6-Weekday-SDon-040000_M5_204\"')\n",
    "bustime = bustime.query(qstr)\n",
    "bustime.drop_duplicates(['vehicleID','RecordedAtTime'],inplace=True)\n",
    "bustime.set_index(['Line','Trip','TripDate','vehicleID','RecordedAtTime'],\n",
    "                  inplace=True,drop=True,verify_integrity=True)\n",
    "\n",
    "# for now, use a truncated data set.  just get data for one line (M5).\n",
    "tripDateLookup = \"2016-06-13\"\n",
    "lineLookup = \"MTA NYCT_M5\"\n",
    "bustime_short = bustime.xs((lineLookup,tripDateLookup),level=(0,2))\n",
    "del bustime # to free up memory\n",
    "print 'Finished loading BusTime data and and slicing three trips of M5 line.'\n",
    "\"\"\""
   ]
  },
  {
   "cell_type": "code",
   "execution_count": 3,
   "metadata": {
    "collapsed": false
   },
   "outputs": [
    {
     "data": {
      "text/plain": [
       "\"\\n# This function returns some elements of interest for each trip and stop\\ndef trip_summary(avl_subset,t):    \\n    fail =  0\\n    trip_id = t[9:]\\n    stop_list = list(stop_times.loc[trip_id].index)\\n    # collect AVL data around each stop into a dict\\n    stop_pings = {}\\n    for stop_id in stop_list:\\n        try:\\n            stop_pings[stop_id] = arrivals.nearby_pings(stop_id,trip_id,stop_times,\\n                                                        stops,avl_subset)\\n        except:\\n            fail += 1\\n            continue    \\n    print str(time.time()) + ' - finished stop pings dict.'\\n    # make a summary table about the AVL data near each stop on a trip\\n    summary_columns = ['N','arrival_actual_estimated']\\n    summary_df = pd.DataFrame(columns=summary_columns,index=stop_pings.keys())\\n    for k, v in stop_pings.iteritems():\\n        # we want to know how many AVL pings were returned  nearby   \\n        newrow = {'N':len(v)}\\n        min_stamp = v['ResponseTimeStamp'].min()\\n        newrow['arrival_actual_estimated'] = min_stamp\\n        summary_df.loc[k] = newrow\\n    print str(time.time()) + ' - finished ' + t[9:]\\n    return summary_df\\n\\n# now collect a dataframe with the summary data about all trips in the subset\\nday_summary = pd.DataFrame()\\nfor t in bustime_short.index.get_level_values(0).unique():\\n    try:\\n        avl_subset = bustime_short.loc[t]\\n        summary_df = trip_summary(avl_subset,t)\\n        summary_df['trip_id'] = t[9:]\\n        summary_df['TripDate'] = tripDateLookup\\n        summary_df.reset_index(inplace=True)\\n        summary_df.rename(columns={'index':'stop_id'},inplace=True)\\n        day_summary = day_summary.append(summary_df)\\n    except:\\n        print t\\nday_summary.set_index(['trip_id','stop_id'],inplace=True)\\nday_summary = day_summary.join(stop_times['arrival_time'])\\n\\nprint day_summary.shape\\n\""
      ]
     },
     "execution_count": 3,
     "metadata": {},
     "output_type": "execute_result"
    }
   ],
   "source": [
    "\"\"\"\n",
    "# This function returns some elements of interest for each trip and stop\n",
    "def trip_summary(avl_subset,t):    \n",
    "    fail =  0\n",
    "    trip_id = t[9:]\n",
    "    stop_list = list(stop_times.loc[trip_id].index)\n",
    "    # collect AVL data around each stop into a dict\n",
    "    stop_pings = {}\n",
    "    for stop_id in stop_list:\n",
    "        try:\n",
    "            stop_pings[stop_id] = arrivals.nearby_pings(stop_id,trip_id,stop_times,\n",
    "                                                        stops,avl_subset)\n",
    "        except:\n",
    "            fail += 1\n",
    "            continue    \n",
    "    print str(time.time()) + ' - finished stop pings dict.'\n",
    "    # make a summary table about the AVL data near each stop on a trip\n",
    "    summary_columns = ['N','arrival_actual_estimated']\n",
    "    summary_df = pd.DataFrame(columns=summary_columns,index=stop_pings.keys())\n",
    "    for k, v in stop_pings.iteritems():\n",
    "        # we want to know how many AVL pings were returned  nearby   \n",
    "        newrow = {'N':len(v)}\n",
    "        min_stamp = v['ResponseTimeStamp'].min()\n",
    "        newrow['arrival_actual_estimated'] = min_stamp\n",
    "        summary_df.loc[k] = newrow\n",
    "    print str(time.time()) + ' - finished ' + t[9:]\n",
    "    return summary_df\n",
    "\n",
    "# now collect a dataframe with the summary data about all trips in the subset\n",
    "day_summary = pd.DataFrame()\n",
    "for t in bustime_short.index.get_level_values(0).unique():\n",
    "    try:\n",
    "        avl_subset = bustime_short.loc[t]\n",
    "        summary_df = trip_summary(avl_subset,t)\n",
    "        summary_df['trip_id'] = t[9:]\n",
    "        summary_df['TripDate'] = tripDateLookup\n",
    "        summary_df.reset_index(inplace=True)\n",
    "        summary_df.rename(columns={'index':'stop_id'},inplace=True)\n",
    "        day_summary = day_summary.append(summary_df)\n",
    "    except:\n",
    "        print t\n",
    "day_summary.set_index(['trip_id','stop_id'],inplace=True)\n",
    "day_summary = day_summary.join(stop_times['arrival_time'])\n",
    "\n",
    "print day_summary.shape\n",
    "\"\"\"\n"
   ]
  },
  {
   "cell_type": "code",
   "execution_count": 46,
   "metadata": {
    "collapsed": false
   },
   "outputs": [],
   "source": [
    "# day_summary.to_csv('day_summary.csv')\n",
    "\n",
    "data = pd.read_csv('longjsons_parsed.csv')\n",
    "\n",
    "qstr = ('Trip == \"MTA NYCT_FB_B6-Weekday-SDon-043400_B41_16\"')\n",
    "bustime = data.query(qstr)\n",
    "bustime.drop_duplicates(['vehicleID','RecordedAtTime'],inplace=True)\n",
    "bustime.set_index(['Line','Trip','TripDate','vehicleID','RecordedAtTime'],\n",
    "                  inplace=True,drop=True,verify_integrity=True)\n",
    "# for now, use a truncated data set.  just get data for one line (M5).\n",
    "tripDateLookup = \"2016-05-25\"\n",
    "lineLookup = \"MTA NYCT_B41\"\n",
    "avl_long = bustime.xs((lineLookup,tripDateLookup),level=(0,2))\n",
    "del bustime,data # to free up memory\n",
    "\n"
   ]
  },
  {
   "cell_type": "code",
   "execution_count": 13,
   "metadata": {
    "collapsed": true
   },
   "outputs": [],
   "source": [
    "from scipy import spatial"
   ]
  },
  {
   "cell_type": "code",
   "execution_count": 83,
   "metadata": {
    "collapsed": false
   },
   "outputs": [
    {
     "data": {
      "text/html": [
       "<div style=\"max-height:1000px;max-width:1500px;overflow:auto;\">\n",
       "<table border=\"1\" class=\"dataframe\">\n",
       "  <thead>\n",
       "    <tr style=\"text-align: right;\">\n",
       "      <th></th>\n",
       "      <th>Latitude</th>\n",
       "      <th>Longitude</th>\n",
       "    </tr>\n",
       "    <tr>\n",
       "      <th>RecordedAtTime</th>\n",
       "      <th></th>\n",
       "      <th></th>\n",
       "    </tr>\n",
       "  </thead>\n",
       "  <tbody>\n",
       "    <tr>\n",
       "      <th>2016-05-25T07:26:40.000-04:00</th>\n",
       "      <td>40.682170</td>\n",
       "      <td>-73.976072</td>\n",
       "    </tr>\n",
       "    <tr>\n",
       "      <th>2016-05-25T07:27:11.000-04:00</th>\n",
       "      <td>40.681098</td>\n",
       "      <td>-73.975304</td>\n",
       "    </tr>\n",
       "    <tr>\n",
       "      <th>2016-05-25T07:27:42.000-04:00</th>\n",
       "      <td>40.681126</td>\n",
       "      <td>-73.975324</td>\n",
       "    </tr>\n",
       "    <tr>\n",
       "      <th>2016-05-25T07:28:14.000-04:00</th>\n",
       "      <td>40.680564</td>\n",
       "      <td>-73.974913</td>\n",
       "    </tr>\n",
       "  </tbody>\n",
       "</table>\n",
       "</div>"
      ],
      "text/plain": [
       "                                Latitude  Longitude\n",
       "RecordedAtTime                                     \n",
       "2016-05-25T07:26:40.000-04:00  40.682170 -73.976072\n",
       "2016-05-25T07:27:11.000-04:00  40.681098 -73.975304\n",
       "2016-05-25T07:27:42.000-04:00  40.681126 -73.975324\n",
       "2016-05-25T07:28:14.000-04:00  40.680564 -73.974913"
      ]
     },
     "execution_count": 83,
     "metadata": {},
     "output_type": "execute_result"
    }
   ],
   "source": [
    "def time_at_location(lat,lon,trip_id,avl_data,stop_times,radius=0.001):\n",
    "        trip_stop_times = stop_times.loc[trip_id]\n",
    "        lookup = 'MTA NYCT_' + trip_id # lookup string used to query AVL data\n",
    "        avl_subset = avl_data.query('Trip == @lookup')\n",
    "        #print avl_subset\n",
    "        points = zip(avl_subset.Longitude.ravel(), avl_subset.Latitude.ravel())\n",
    "        tree = spatial.KDTree(points) # implement KDTree class\n",
    "        lookup_point = [lon,lat]\n",
    "        nearby_points = tree.query_ball_point(lookup_point, radius)\n",
    "        #print nearby_points\n",
    "        locations = avl_subset.iloc[nearby_points][['Latitude','Longitude']]\n",
    "        times = avl_subset.iloc[nearby_points].index.get_level_values('RecordedAtTime')\n",
    "        df = pd.DataFrame(avl_subset.iloc[nearby_points][['Latitude','Longitude']])\n",
    "        df['RecordedAtTime'] = times\n",
    "        df = df.set_index(['RecordedAtTime'])\n",
    "        #resampled = df.resample('S').interpolate()\n",
    "        return df#resampled\n",
    "avl_data = avl_long\n",
    "radius = 0.01\n",
    "trip_id = \"FB_B6-Weekday-SDon-043400_B41_16\"\n",
    "lat, lon = 40.6763783,-73.983488\n",
    "\n",
    "\n",
    "\n",
    "time_at_location(lat,lon,trip_id,avl_data,stop_times,radius)    "
   ]
  },
  {
   "cell_type": "code",
   "execution_count": 86,
   "metadata": {
    "collapsed": false
   },
   "outputs": [
    {
     "data": {
      "text/html": [
       "<div style=\"max-height:1000px;max-width:1500px;overflow:auto;\">\n",
       "<table border=\"1\" class=\"dataframe\">\n",
       "  <thead>\n",
       "    <tr style=\"text-align: right;\">\n",
       "      <th></th>\n",
       "      <th>location_type</th>\n",
       "      <th>parent_station</th>\n",
       "      <th>stop_desc</th>\n",
       "      <th>stop_lat</th>\n",
       "      <th>stop_lon</th>\n",
       "      <th>stop_name</th>\n",
       "      <th>stop_url</th>\n",
       "      <th>zone_id</th>\n",
       "    </tr>\n",
       "    <tr>\n",
       "      <th>stop_id</th>\n",
       "      <th></th>\n",
       "      <th></th>\n",
       "      <th></th>\n",
       "      <th></th>\n",
       "      <th></th>\n",
       "      <th></th>\n",
       "      <th></th>\n",
       "      <th></th>\n",
       "    </tr>\n",
       "  </thead>\n",
       "  <tbody>\n",
       "    <tr>\n",
       "      <th>100014</th>\n",
       "      <td>0</td>\n",
       "      <td>NaN</td>\n",
       "      <td>NaN</td>\n",
       "      <td>40.872562</td>\n",
       "      <td>-73.888153</td>\n",
       "      <td>BEDFORD PK BL/GRAND CONCOURSE</td>\n",
       "      <td>NaN</td>\n",
       "      <td>NaN</td>\n",
       "    </tr>\n",
       "    <tr>\n",
       "      <th>100017</th>\n",
       "      <td>0</td>\n",
       "      <td>NaN</td>\n",
       "      <td>NaN</td>\n",
       "      <td>40.876808</td>\n",
       "      <td>-73.889656</td>\n",
       "      <td>PAUL AV/W 205 ST</td>\n",
       "      <td>NaN</td>\n",
       "      <td>NaN</td>\n",
       "    </tr>\n",
       "    <tr>\n",
       "      <th>100018</th>\n",
       "      <td>0</td>\n",
       "      <td>NaN</td>\n",
       "      <td>NaN</td>\n",
       "      <td>40.880341</td>\n",
       "      <td>-73.886063</td>\n",
       "      <td>PAUL AV/W MOSHOLU PY S</td>\n",
       "      <td>NaN</td>\n",
       "      <td>NaN</td>\n",
       "    </tr>\n",
       "    <tr>\n",
       "      <th>100019</th>\n",
       "      <td>0</td>\n",
       "      <td>NaN</td>\n",
       "      <td>NaN</td>\n",
       "      <td>40.813496</td>\n",
       "      <td>-73.929489</td>\n",
       "      <td>GRAND CONCOURSE/E 138 ST</td>\n",
       "      <td>NaN</td>\n",
       "      <td>NaN</td>\n",
       "    </tr>\n",
       "    <tr>\n",
       "      <th>100020</th>\n",
       "      <td>0</td>\n",
       "      <td>NaN</td>\n",
       "      <td>NaN</td>\n",
       "      <td>40.816803</td>\n",
       "      <td>-73.927956</td>\n",
       "      <td>GRAND CONCOURSE/E 144 ST</td>\n",
       "      <td>NaN</td>\n",
       "      <td>NaN</td>\n",
       "    </tr>\n",
       "  </tbody>\n",
       "</table>\n",
       "</div>"
      ],
      "text/plain": [
       "         location_type  parent_station stop_desc   stop_lat   stop_lon  \\\n",
       "stop_id                                                                  \n",
       "100014               0             NaN       NaN  40.872562 -73.888153   \n",
       "100017               0             NaN       NaN  40.876808 -73.889656   \n",
       "100018               0             NaN       NaN  40.880341 -73.886063   \n",
       "100019               0             NaN       NaN  40.813496 -73.929489   \n",
       "100020               0             NaN       NaN  40.816803 -73.927956   \n",
       "\n",
       "                             stop_name  stop_url  zone_id  \n",
       "stop_id                                                    \n",
       "100014   BEDFORD PK BL/GRAND CONCOURSE       NaN      NaN  \n",
       "100017                PAUL AV/W 205 ST       NaN      NaN  \n",
       "100018          PAUL AV/W MOSHOLU PY S       NaN      NaN  \n",
       "100019        GRAND CONCOURSE/E 138 ST       NaN      NaN  \n",
       "100020        GRAND CONCOURSE/E 144 ST       NaN      NaN  "
      ]
     },
     "execution_count": 86,
     "metadata": {},
     "output_type": "execute_result"
    }
   ],
   "source": [
    "stops.head()"
   ]
  },
  {
   "cell_type": "code",
   "execution_count": 87,
   "metadata": {
    "collapsed": false
   },
   "outputs": [
    {
     "data": {
      "text/html": [
       "<div style=\"max-height:1000px;max-width:1500px;overflow:auto;\">\n",
       "<table border=\"1\" class=\"dataframe\">\n",
       "  <thead>\n",
       "    <tr style=\"text-align: right;\">\n",
       "      <th></th>\n",
       "      <th></th>\n",
       "      <th>arrival_time</th>\n",
       "      <th>departure_time</th>\n",
       "      <th>stop_sequence</th>\n",
       "      <th>pickup_type</th>\n",
       "      <th>drop_off_type</th>\n",
       "    </tr>\n",
       "    <tr>\n",
       "      <th>trip_id</th>\n",
       "      <th>stop_id</th>\n",
       "      <th></th>\n",
       "      <th></th>\n",
       "      <th></th>\n",
       "      <th></th>\n",
       "      <th></th>\n",
       "    </tr>\n",
       "  </thead>\n",
       "  <tbody>\n",
       "    <tr>\n",
       "      <th rowspan=\"5\" valign=\"top\">GH_B6-Weekday-004000_BX12_1</th>\n",
       "      <th>103794</th>\n",
       "      <td>00:40:00</td>\n",
       "      <td>00:40:00</td>\n",
       "      <td>1</td>\n",
       "      <td>0</td>\n",
       "      <td>0</td>\n",
       "    </tr>\n",
       "    <tr>\n",
       "      <th>103795</th>\n",
       "      <td>00:40:22</td>\n",
       "      <td>00:40:22</td>\n",
       "      <td>2</td>\n",
       "      <td>0</td>\n",
       "      <td>0</td>\n",
       "    </tr>\n",
       "    <tr>\n",
       "      <th>101739</th>\n",
       "      <td>00:42:26</td>\n",
       "      <td>00:42:26</td>\n",
       "      <td>3</td>\n",
       "      <td>0</td>\n",
       "      <td>0</td>\n",
       "    </tr>\n",
       "    <tr>\n",
       "      <th>103255</th>\n",
       "      <td>00:44:00</td>\n",
       "      <td>00:44:00</td>\n",
       "      <td>4</td>\n",
       "      <td>0</td>\n",
       "      <td>0</td>\n",
       "    </tr>\n",
       "    <tr>\n",
       "      <th>103945</th>\n",
       "      <td>00:49:00</td>\n",
       "      <td>00:49:00</td>\n",
       "      <td>5</td>\n",
       "      <td>0</td>\n",
       "      <td>0</td>\n",
       "    </tr>\n",
       "  </tbody>\n",
       "</table>\n",
       "</div>"
      ],
      "text/plain": [
       "                                    arrival_time departure_time  \\\n",
       "trip_id                     stop_id                               \n",
       "GH_B6-Weekday-004000_BX12_1 103794      00:40:00       00:40:00   \n",
       "                            103795      00:40:22       00:40:22   \n",
       "                            101739      00:42:26       00:42:26   \n",
       "                            103255      00:44:00       00:44:00   \n",
       "                            103945      00:49:00       00:49:00   \n",
       "\n",
       "                                     stop_sequence  pickup_type  drop_off_type  \n",
       "trip_id                     stop_id                                             \n",
       "GH_B6-Weekday-004000_BX12_1 103794               1            0              0  \n",
       "                            103795               2            0              0  \n",
       "                            101739               3            0              0  \n",
       "                            103255               4            0              0  \n",
       "                            103945               5            0              0  "
      ]
     },
     "execution_count": 87,
     "metadata": {},
     "output_type": "execute_result"
    }
   ],
   "source": [
    "stop_times.head()"
   ]
  },
  {
   "cell_type": "code",
   "execution_count": 90,
   "metadata": {
    "collapsed": false
   },
   "outputs": [
    {
     "data": {
      "text/html": [
       "<div style=\"max-height:1000px;max-width:1500px;overflow:auto;\">\n",
       "<table border=\"1\" class=\"dataframe\">\n",
       "  <thead>\n",
       "    <tr style=\"text-align: right;\">\n",
       "      <th></th>\n",
       "      <th>block_id</th>\n",
       "      <th>direction_id</th>\n",
       "      <th>route_id</th>\n",
       "      <th>service_id</th>\n",
       "      <th>shape_id</th>\n",
       "      <th>trip_headsign</th>\n",
       "    </tr>\n",
       "    <tr>\n",
       "      <th>trip_id</th>\n",
       "      <th></th>\n",
       "      <th></th>\n",
       "      <th></th>\n",
       "      <th></th>\n",
       "      <th></th>\n",
       "      <th></th>\n",
       "    </tr>\n",
       "  </thead>\n",
       "  <tbody>\n",
       "    <tr>\n",
       "      <th>GH_B6-Weekday-004000_BX12_1</th>\n",
       "      <td>NaN</td>\n",
       "      <td>1</td>\n",
       "      <td>BX12</td>\n",
       "      <td>GH_B6-Weekday</td>\n",
       "      <td>BX120805</td>\n",
       "      <td>INWOOD BWY-207 ST- PEL PKY via FRDHAM RD</td>\n",
       "    </tr>\n",
       "    <tr>\n",
       "      <th>GH_B6-Weekday-009000_BX12_1</th>\n",
       "      <td>NaN</td>\n",
       "      <td>0</td>\n",
       "      <td>BX12</td>\n",
       "      <td>GH_B6-Weekday</td>\n",
       "      <td>BX120809</td>\n",
       "      <td>EDSON AV via FORDHAM RD via PELHAM PKY</td>\n",
       "    </tr>\n",
       "    <tr>\n",
       "      <th>GH_B6-Weekday-013000_BX12_1</th>\n",
       "      <td>NaN</td>\n",
       "      <td>1</td>\n",
       "      <td>BX12</td>\n",
       "      <td>GH_B6-Weekday</td>\n",
       "      <td>BX120792</td>\n",
       "      <td>INWOOD BWY-207 ST- PEL PKY via FRDHAM RD</td>\n",
       "    </tr>\n",
       "    <tr>\n",
       "      <th>GH_B6-Weekday-017000_BX12_1</th>\n",
       "      <td>NaN</td>\n",
       "      <td>0</td>\n",
       "      <td>BX12</td>\n",
       "      <td>GH_B6-Weekday</td>\n",
       "      <td>BX120809</td>\n",
       "      <td>EDSON AV via FORDHAM RD via PELHAM PKY</td>\n",
       "    </tr>\n",
       "    <tr>\n",
       "      <th>GH_B6-Weekday-021000_BX12_1</th>\n",
       "      <td>NaN</td>\n",
       "      <td>1</td>\n",
       "      <td>BX12</td>\n",
       "      <td>GH_B6-Weekday</td>\n",
       "      <td>BX120792</td>\n",
       "      <td>INWOOD BWY-207 ST- PEL PKY via FRDHAM RD</td>\n",
       "    </tr>\n",
       "  </tbody>\n",
       "</table>\n",
       "</div>"
      ],
      "text/plain": [
       "                             block_id  direction_id route_id     service_id  \\\n",
       "trip_id                                                                       \n",
       "GH_B6-Weekday-004000_BX12_1       NaN             1     BX12  GH_B6-Weekday   \n",
       "GH_B6-Weekday-009000_BX12_1       NaN             0     BX12  GH_B6-Weekday   \n",
       "GH_B6-Weekday-013000_BX12_1       NaN             1     BX12  GH_B6-Weekday   \n",
       "GH_B6-Weekday-017000_BX12_1       NaN             0     BX12  GH_B6-Weekday   \n",
       "GH_B6-Weekday-021000_BX12_1       NaN             1     BX12  GH_B6-Weekday   \n",
       "\n",
       "                             shape_id  \\\n",
       "trip_id                                 \n",
       "GH_B6-Weekday-004000_BX12_1  BX120805   \n",
       "GH_B6-Weekday-009000_BX12_1  BX120809   \n",
       "GH_B6-Weekday-013000_BX12_1  BX120792   \n",
       "GH_B6-Weekday-017000_BX12_1  BX120809   \n",
       "GH_B6-Weekday-021000_BX12_1  BX120792   \n",
       "\n",
       "                                                        trip_headsign  \n",
       "trip_id                                                                \n",
       "GH_B6-Weekday-004000_BX12_1  INWOOD BWY-207 ST- PEL PKY via FRDHAM RD  \n",
       "GH_B6-Weekday-009000_BX12_1    EDSON AV via FORDHAM RD via PELHAM PKY  \n",
       "GH_B6-Weekday-013000_BX12_1  INWOOD BWY-207 ST- PEL PKY via FRDHAM RD  \n",
       "GH_B6-Weekday-017000_BX12_1    EDSON AV via FORDHAM RD via PELHAM PKY  \n",
       "GH_B6-Weekday-021000_BX12_1  INWOOD BWY-207 ST- PEL PKY via FRDHAM RD  "
      ]
     },
     "execution_count": 90,
     "metadata": {},
     "output_type": "execute_result"
    }
   ],
   "source": [
    "trips.head()"
   ]
  },
  {
   "cell_type": "code",
   "execution_count": 125,
   "metadata": {
    "collapsed": false
   },
   "outputs": [
    {
     "data": {
      "text/html": [
       "<div style=\"max-height:1000px;max-width:1500px;overflow:auto;\">\n",
       "<table border=\"1\" class=\"dataframe\">\n",
       "  <thead>\n",
       "    <tr style=\"text-align: right;\">\n",
       "      <th></th>\n",
       "      <th>shape_pt_lat</th>\n",
       "      <th>shape_pt_lon</th>\n",
       "      <th>shape_pt_sequence</th>\n",
       "    </tr>\n",
       "    <tr>\n",
       "      <th>shape_id</th>\n",
       "      <th></th>\n",
       "      <th></th>\n",
       "      <th></th>\n",
       "    </tr>\n",
       "  </thead>\n",
       "  <tbody>\n",
       "    <tr>\n",
       "      <th>BX010027</th>\n",
       "      <td>40.809663</td>\n",
       "      <td>-73.92824</td>\n",
       "      <td>10001</td>\n",
       "    </tr>\n",
       "  </tbody>\n",
       "</table>\n",
       "</div>"
      ],
      "text/plain": [
       "          shape_pt_lat  shape_pt_lon  shape_pt_sequence\n",
       "shape_id                                               \n",
       "BX010027     40.809663     -73.92824              10001"
      ]
     },
     "execution_count": 125,
     "metadata": {},
     "output_type": "execute_result"
    }
   ],
   "source": [
    "#trip_shapes.col\n",
    "trip_shapes[trip_shapes.index=='BX010027']"
   ]
  },
  {
   "cell_type": "code",
   "execution_count": 112,
   "metadata": {
    "collapsed": false
   },
   "outputs": [
    {
     "data": {
      "text/html": [
       "<div style=\"max-height:1000px;max-width:1500px;overflow:auto;\">\n",
       "<table border=\"1\" class=\"dataframe\">\n",
       "  <thead>\n",
       "    <tr style=\"text-align: right;\">\n",
       "      <th></th>\n",
       "      <th>shape_pt_lat</th>\n",
       "      <th>shape_pt_lon</th>\n",
       "      <th>shape_pt_sequence</th>\n",
       "    </tr>\n",
       "    <tr>\n",
       "      <th>shape_id</th>\n",
       "      <th></th>\n",
       "      <th></th>\n",
       "      <th></th>\n",
       "    </tr>\n",
       "  </thead>\n",
       "  <tbody>\n",
       "    <tr>\n",
       "      <th>BX010026</th>\n",
       "      <td>40.809663</td>\n",
       "      <td>-73.928240</td>\n",
       "      <td>10001</td>\n",
       "    </tr>\n",
       "    <tr>\n",
       "      <th>BX010027</th>\n",
       "      <td>40.809663</td>\n",
       "      <td>-73.928240</td>\n",
       "      <td>10001</td>\n",
       "    </tr>\n",
       "    <tr>\n",
       "      <th>BX010028</th>\n",
       "      <td>40.881224</td>\n",
       "      <td>-73.909390</td>\n",
       "      <td>10001</td>\n",
       "    </tr>\n",
       "    <tr>\n",
       "      <th>BX010029</th>\n",
       "      <td>40.880626</td>\n",
       "      <td>-73.886019</td>\n",
       "      <td>10001</td>\n",
       "    </tr>\n",
       "    <tr>\n",
       "      <th>BX010030</th>\n",
       "      <td>40.880626</td>\n",
       "      <td>-73.886019</td>\n",
       "      <td>10001</td>\n",
       "    </tr>\n",
       "  </tbody>\n",
       "</table>\n",
       "</div>"
      ],
      "text/plain": [
       "          shape_pt_lat  shape_pt_lon  shape_pt_sequence\n",
       "shape_id                                               \n",
       "BX010026     40.809663    -73.928240              10001\n",
       "BX010027     40.809663    -73.928240              10001\n",
       "BX010028     40.881224    -73.909390              10001\n",
       "BX010029     40.880626    -73.886019              10001\n",
       "BX010030     40.880626    -73.886019              10001"
      ]
     },
     "execution_count": 112,
     "metadata": {},
     "output_type": "execute_result"
    }
   ],
   "source": [
    "trip_shapes.head()"
   ]
  },
  {
   "cell_type": "code",
   "execution_count": null,
   "metadata": {
    "collapsed": false
   },
   "outputs": [],
   "source": [
    "avl_data = avl_long\n",
    "radius = 0.01\n",
    "trip_id = \"FB_B6-Weekday-SDon-043400_B41_16\"\n",
    "lat, lon = 40.6763783,-73.983488\n",
    "\n",
    "trip_stop_times = stop_times.loc[trip_id]\n",
    "lookup = 'MTA NYCT_' + trip_id # lookup string used to query AVL data\n",
    "avl_subset = avl_data.query('Trip == @lookup')\n",
    "#print avl_subset\n",
    "points = zip(avl_subset.Longitude.ravel(), avl_subset.Latitude.ravel())\n",
    "tree = spatial.KDTree(points) # implement KDTree class\n",
    "lookup_point = [lon,lat]\n",
    "nearby_points = tree.query_ball_point(lookup_point, radius)\n",
    "#print nearby_points\n",
    "locations = avl_subset.iloc[nearby_points][['Latitude','Longitude']]\n",
    "times = avl_subset.iloc[nearby_points].index.get_level_values('RecordedAtTime')\n",
    "df = pd.DataFrame(avl_subset.iloc[nearby_points][['Latitude','Longitude']])\n",
    "df['RecordedAtTime'] = times\n",
    "df = df.set_index(['RecordedAtTime'])\n",
    "#resampled = df.resample('S').interpolate()\n",
    "return df#resampled\n",
    "\n",
    "time_at_location(lat,lon,trip_id,avl_data,stop_times,radius) "
   ]
  },
  {
   "cell_type": "markdown",
   "metadata": {},
   "source": [
    "This will be one example of one route"
   ]
  },
  {
   "cell_type": "code",
   "execution_count": 127,
   "metadata": {
    "collapsed": false
   },
   "outputs": [
    {
     "data": {
      "text/plain": [
       "40"
      ]
     },
     "execution_count": 127,
     "metadata": {},
     "output_type": "execute_result"
    }
   ],
   "source": [
    "stops_ex = list(pd.unique(avl_data.MonitoredCallRef))\n",
    "for stp in stops_ex:\n",
    "    \n"
   ]
  },
  {
   "cell_type": "code",
   "execution_count": 131,
   "metadata": {
    "collapsed": false
   },
   "outputs": [
    {
     "data": {
      "text/plain": [
       "Index([u'MTA NYCT_4587', u'MTA NYCT_4587', u'MTA NYCT_4587', u'MTA NYCT_4587',\n",
       "       u'MTA NYCT_4587', u'MTA NYCT_4587', u'MTA NYCT_4587', u'MTA NYCT_4587',\n",
       "       u'MTA NYCT_4587', u'MTA NYCT_4587', \n",
       "       ...\n",
       "       u'MTA NYCT_4587', u'MTA NYCT_4587', u'MTA NYCT_4587', u'MTA NYCT_4587',\n",
       "       u'MTA NYCT_4587', u'MTA NYCT_4587', u'MTA NYCT_4587', u'MTA NYCT_4587',\n",
       "       u'MTA NYCT_4587', u'MTA NYCT_4587'],\n",
       "      dtype='object', name=u'vehicleID', length=130)"
      ]
     },
     "execution_count": 131,
     "metadata": {},
     "output_type": "execute_result"
    }
   ],
   "source": [
    "avl_data.index.get_level_values('vehicleID').UNIQ"
   ]
  },
  {
   "cell_type": "code",
   "execution_count": null,
   "metadata": {
    "collapsed": true
   },
   "outputs": [],
   "source": []
  }
 ],
 "metadata": {
  "kernelspec": {
   "display_name": "Python 2",
   "language": "python",
   "name": "python2"
  },
  "language_info": {
   "codemirror_mode": {
    "name": "ipython",
    "version": 2
   },
   "file_extension": ".py",
   "mimetype": "text/x-python",
   "name": "python",
   "nbconvert_exporter": "python",
   "pygments_lexer": "ipython2",
   "version": "2.7.11"
  }
 },
 "nbformat": 4,
 "nbformat_minor": 0
}
