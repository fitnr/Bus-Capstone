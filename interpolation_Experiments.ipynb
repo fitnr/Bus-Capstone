{
 "cells": [
  {
   "cell_type": "code",
   "execution_count": 12,
   "metadata": {
    "collapsed": false
   },
   "outputs": [],
   "source": [
    "# -*- coding: utf-8 -*-\n",
    "\"\"\"\n",
    "The script demonstrates a comparison of vehicle times from AVL data to the\n",
    "scheduled arrival time at one stop for one example trip.\n",
    "\"\"\"\n",
    "\n",
    "import os\n",
    "import pandas as pd\n",
    "import matplotlib.pyplot as plt\n",
    "from scipy import interpolate\n",
    "import time\n",
    "%matplotlib inline  \n",
    "import sys\n",
    "sys.path.append('/gpfs2/projects/project-bus_capstone_2016/workspace/saf537/bus-Capstone')\n",
    "\n",
    "# these two modules are homemade\n",
    "import gtfs\n",
    "import arrivals\n",
    "import time\n",
    "import ttools\n",
    "os.chdir('/gpfs2/projects/project-bus_capstone_2016/workspace/share')"
   ]
  },
  {
   "cell_type": "markdown",
   "metadata": {},
   "source": [
    "### Data loading and such."
   ]
  },
  {
   "cell_type": "code",
   "execution_count": 49,
   "metadata": {
    "collapsed": true
   },
   "outputs": [],
   "source": [
    "data = pd.read_csv('longjsons_parsed.csv')"
   ]
  },
  {
   "cell_type": "code",
   "execution_count": null,
   "metadata": {
    "collapsed": false
   },
   "outputs": [],
   "source": []
  },
  {
   "cell_type": "markdown",
   "metadata": {},
   "source": [
    "### Selecting a sample trip"
   ]
  },
  {
   "cell_type": "code",
   "execution_count": 15,
   "metadata": {
    "collapsed": false
   },
   "outputs": [],
   "source": [
    "qstr = ('Trip == \"MTA NYCT_FB_B6-Weekday-SDon-043400_B41_16\"')\n",
    "bustime = data.query(qstr)\n",
    "bustime.drop_duplicates(['vehicleID','RecordedAtTime'],inplace=True)\n",
    "bustime.set_index(['Line','Trip','TripDate','vehicleID','RecordedAtTime'],\n",
    "                  inplace=True,drop=True,verify_integrity=True)\n",
    "# for now, use a truncated data set.  just get data for one line (M5).\n",
    "tripDateLookup = \"2016-05-25\"\n",
    "lineLookup = \"MTA NYCT_B41\"\n",
    "avl_long = bustime.xs((lineLookup,tripDateLookup),level=(0,2),drop_level=False)\n",
    "del bustime,data # to free up memory"
   ]
  },
  {
   "cell_type": "markdown",
   "metadata": {},
   "source": [
    "This will be one example of one route"
   ]
  },
  {
   "cell_type": "code",
   "execution_count": 16,
   "metadata": {
    "collapsed": false
   },
   "outputs": [
    {
     "data": {
      "text/html": [
       "<div style=\"max-height:1000px;max-width:1500px;overflow:auto;\">\n",
       "<table border=\"1\" class=\"dataframe\">\n",
       "  <thead>\n",
       "    <tr style=\"text-align: right;\">\n",
       "      <th></th>\n",
       "      <th></th>\n",
       "      <th></th>\n",
       "      <th></th>\n",
       "      <th></th>\n",
       "      <th>Latitude</th>\n",
       "      <th>Longitude</th>\n",
       "      <th>TripPattern</th>\n",
       "      <th>MonitoredCallRef</th>\n",
       "      <th>EstCallArrival</th>\n",
       "      <th>DistFromCall</th>\n",
       "      <th>CallDistAlongRoute</th>\n",
       "      <th>PresentableDistance</th>\n",
       "      <th>ResponseTimeStamp</th>\n",
       "    </tr>\n",
       "    <tr>\n",
       "      <th>Line</th>\n",
       "      <th>Trip</th>\n",
       "      <th>TripDate</th>\n",
       "      <th>vehicleID</th>\n",
       "      <th>RecordedAtTime</th>\n",
       "      <th></th>\n",
       "      <th></th>\n",
       "      <th></th>\n",
       "      <th></th>\n",
       "      <th></th>\n",
       "      <th></th>\n",
       "      <th></th>\n",
       "      <th></th>\n",
       "      <th></th>\n",
       "    </tr>\n",
       "  </thead>\n",
       "  <tbody>\n",
       "    <tr>\n",
       "      <th rowspan=\"5\" valign=\"top\">MTA NYCT_B41</th>\n",
       "      <th rowspan=\"5\" valign=\"top\">MTA NYCT_FB_B6-Weekday-SDon-043400_B41_16</th>\n",
       "      <th rowspan=\"5\" valign=\"top\">2016-05-25</th>\n",
       "      <th rowspan=\"5\" valign=\"top\">MTA NYCT_4587</th>\n",
       "      <th>2016-05-25T07:26:40.000-04:00</th>\n",
       "      <td>40.682170</td>\n",
       "      <td>-73.976072</td>\n",
       "      <td>MTA_B410332</td>\n",
       "      <td>MTA_901500</td>\n",
       "      <td>2016-05-25T07:27:13.126-04:00</td>\n",
       "      <td>0.00</td>\n",
       "      <td>2387.92</td>\n",
       "      <td>at stop</td>\n",
       "      <td>2016-05-25T07:27:12.126-04:00</td>\n",
       "    </tr>\n",
       "    <tr>\n",
       "      <th>2016-05-25T07:27:11.000-04:00</th>\n",
       "      <td>40.681098</td>\n",
       "      <td>-73.975304</td>\n",
       "      <td>MTA_B410332</td>\n",
       "      <td>MTA_303297</td>\n",
       "      <td>2016-05-25T07:27:43.111-04:00</td>\n",
       "      <td>75.02</td>\n",
       "      <td>2598.69</td>\n",
       "      <td>approaching</td>\n",
       "      <td>2016-05-25T07:27:42.111-04:00</td>\n",
       "    </tr>\n",
       "    <tr>\n",
       "      <th>2016-05-25T07:27:42.000-04:00</th>\n",
       "      <td>40.681126</td>\n",
       "      <td>-73.975324</td>\n",
       "      <td>MTA_B410332</td>\n",
       "      <td>MTA_303297</td>\n",
       "      <td>2016-05-25T07:28:13.158-04:00</td>\n",
       "      <td>78.59</td>\n",
       "      <td>2598.69</td>\n",
       "      <td>approaching</td>\n",
       "      <td>2016-05-25T07:28:12.158-04:00</td>\n",
       "    </tr>\n",
       "    <tr>\n",
       "      <th>2016-05-25T07:28:14.000-04:00</th>\n",
       "      <td>40.680564</td>\n",
       "      <td>-73.974913</td>\n",
       "      <td>MTA_B410332</td>\n",
       "      <td>MTA_303297</td>\n",
       "      <td>2016-05-25T07:28:43.133-04:00</td>\n",
       "      <td>7.14</td>\n",
       "      <td>2598.69</td>\n",
       "      <td>at stop</td>\n",
       "      <td>2016-05-25T07:28:42.133-04:00</td>\n",
       "    </tr>\n",
       "    <tr>\n",
       "      <th>2016-05-25T07:28:45.000-04:00</th>\n",
       "      <td>40.678978</td>\n",
       "      <td>-73.973757</td>\n",
       "      <td>MTA_B410332</td>\n",
       "      <td>MTA_303300</td>\n",
       "      <td>2016-05-25T07:29:38.356-04:00</td>\n",
       "      <td>188.81</td>\n",
       "      <td>2981.87</td>\n",
       "      <td>&lt; 1 stop away</td>\n",
       "      <td>2016-05-25T07:29:12.128-04:00</td>\n",
       "    </tr>\n",
       "  </tbody>\n",
       "</table>\n",
       "</div>"
      ],
      "text/plain": [
       "                                                                                                                Latitude  \\\n",
       "Line         Trip                                      TripDate   vehicleID     RecordedAtTime                             \n",
       "MTA NYCT_B41 MTA NYCT_FB_B6-Weekday-SDon-043400_B41_16 2016-05-25 MTA NYCT_4587 2016-05-25T07:26:40.000-04:00  40.682170   \n",
       "                                                                                2016-05-25T07:27:11.000-04:00  40.681098   \n",
       "                                                                                2016-05-25T07:27:42.000-04:00  40.681126   \n",
       "                                                                                2016-05-25T07:28:14.000-04:00  40.680564   \n",
       "                                                                                2016-05-25T07:28:45.000-04:00  40.678978   \n",
       "\n",
       "                                                                                                               Longitude  \\\n",
       "Line         Trip                                      TripDate   vehicleID     RecordedAtTime                             \n",
       "MTA NYCT_B41 MTA NYCT_FB_B6-Weekday-SDon-043400_B41_16 2016-05-25 MTA NYCT_4587 2016-05-25T07:26:40.000-04:00 -73.976072   \n",
       "                                                                                2016-05-25T07:27:11.000-04:00 -73.975304   \n",
       "                                                                                2016-05-25T07:27:42.000-04:00 -73.975324   \n",
       "                                                                                2016-05-25T07:28:14.000-04:00 -73.974913   \n",
       "                                                                                2016-05-25T07:28:45.000-04:00 -73.973757   \n",
       "\n",
       "                                                                                                               TripPattern  \\\n",
       "Line         Trip                                      TripDate   vehicleID     RecordedAtTime                               \n",
       "MTA NYCT_B41 MTA NYCT_FB_B6-Weekday-SDon-043400_B41_16 2016-05-25 MTA NYCT_4587 2016-05-25T07:26:40.000-04:00  MTA_B410332   \n",
       "                                                                                2016-05-25T07:27:11.000-04:00  MTA_B410332   \n",
       "                                                                                2016-05-25T07:27:42.000-04:00  MTA_B410332   \n",
       "                                                                                2016-05-25T07:28:14.000-04:00  MTA_B410332   \n",
       "                                                                                2016-05-25T07:28:45.000-04:00  MTA_B410332   \n",
       "\n",
       "                                                                                                              MonitoredCallRef  \\\n",
       "Line         Trip                                      TripDate   vehicleID     RecordedAtTime                                   \n",
       "MTA NYCT_B41 MTA NYCT_FB_B6-Weekday-SDon-043400_B41_16 2016-05-25 MTA NYCT_4587 2016-05-25T07:26:40.000-04:00       MTA_901500   \n",
       "                                                                                2016-05-25T07:27:11.000-04:00       MTA_303297   \n",
       "                                                                                2016-05-25T07:27:42.000-04:00       MTA_303297   \n",
       "                                                                                2016-05-25T07:28:14.000-04:00       MTA_303297   \n",
       "                                                                                2016-05-25T07:28:45.000-04:00       MTA_303300   \n",
       "\n",
       "                                                                                                                              EstCallArrival  \\\n",
       "Line         Trip                                      TripDate   vehicleID     RecordedAtTime                                                 \n",
       "MTA NYCT_B41 MTA NYCT_FB_B6-Weekday-SDon-043400_B41_16 2016-05-25 MTA NYCT_4587 2016-05-25T07:26:40.000-04:00  2016-05-25T07:27:13.126-04:00   \n",
       "                                                                                2016-05-25T07:27:11.000-04:00  2016-05-25T07:27:43.111-04:00   \n",
       "                                                                                2016-05-25T07:27:42.000-04:00  2016-05-25T07:28:13.158-04:00   \n",
       "                                                                                2016-05-25T07:28:14.000-04:00  2016-05-25T07:28:43.133-04:00   \n",
       "                                                                                2016-05-25T07:28:45.000-04:00  2016-05-25T07:29:38.356-04:00   \n",
       "\n",
       "                                                                                                               DistFromCall  \\\n",
       "Line         Trip                                      TripDate   vehicleID     RecordedAtTime                                \n",
       "MTA NYCT_B41 MTA NYCT_FB_B6-Weekday-SDon-043400_B41_16 2016-05-25 MTA NYCT_4587 2016-05-25T07:26:40.000-04:00          0.00   \n",
       "                                                                                2016-05-25T07:27:11.000-04:00         75.02   \n",
       "                                                                                2016-05-25T07:27:42.000-04:00         78.59   \n",
       "                                                                                2016-05-25T07:28:14.000-04:00          7.14   \n",
       "                                                                                2016-05-25T07:28:45.000-04:00        188.81   \n",
       "\n",
       "                                                                                                               CallDistAlongRoute  \\\n",
       "Line         Trip                                      TripDate   vehicleID     RecordedAtTime                                      \n",
       "MTA NYCT_B41 MTA NYCT_FB_B6-Weekday-SDon-043400_B41_16 2016-05-25 MTA NYCT_4587 2016-05-25T07:26:40.000-04:00             2387.92   \n",
       "                                                                                2016-05-25T07:27:11.000-04:00             2598.69   \n",
       "                                                                                2016-05-25T07:27:42.000-04:00             2598.69   \n",
       "                                                                                2016-05-25T07:28:14.000-04:00             2598.69   \n",
       "                                                                                2016-05-25T07:28:45.000-04:00             2981.87   \n",
       "\n",
       "                                                                                                              PresentableDistance  \\\n",
       "Line         Trip                                      TripDate   vehicleID     RecordedAtTime                                      \n",
       "MTA NYCT_B41 MTA NYCT_FB_B6-Weekday-SDon-043400_B41_16 2016-05-25 MTA NYCT_4587 2016-05-25T07:26:40.000-04:00             at stop   \n",
       "                                                                                2016-05-25T07:27:11.000-04:00         approaching   \n",
       "                                                                                2016-05-25T07:27:42.000-04:00         approaching   \n",
       "                                                                                2016-05-25T07:28:14.000-04:00             at stop   \n",
       "                                                                                2016-05-25T07:28:45.000-04:00       < 1 stop away   \n",
       "\n",
       "                                                                                                                           ResponseTimeStamp  \n",
       "Line         Trip                                      TripDate   vehicleID     RecordedAtTime                                                \n",
       "MTA NYCT_B41 MTA NYCT_FB_B6-Weekday-SDon-043400_B41_16 2016-05-25 MTA NYCT_4587 2016-05-25T07:26:40.000-04:00  2016-05-25T07:27:12.126-04:00  \n",
       "                                                                                2016-05-25T07:27:11.000-04:00  2016-05-25T07:27:42.111-04:00  \n",
       "                                                                                2016-05-25T07:27:42.000-04:00  2016-05-25T07:28:12.158-04:00  \n",
       "                                                                                2016-05-25T07:28:14.000-04:00  2016-05-25T07:28:42.133-04:00  \n",
       "                                                                                2016-05-25T07:28:45.000-04:00  2016-05-25T07:29:12.128-04:00  "
      ]
     },
     "execution_count": 16,
     "metadata": {},
     "output_type": "execute_result"
    }
   ],
   "source": [
    "avl_data = avl_long\n",
    "avl_data.head()"
   ]
  },
  {
   "cell_type": "markdown",
   "metadata": {},
   "source": [
    "### Calculate the distance along the route of *each* of the AVL points and standardize the time recordings."
   ]
  },
  {
   "cell_type": "code",
   "execution_count": 25,
   "metadata": {
    "collapsed": false
   },
   "outputs": [],
   "source": [
    "#trip_id = \"FB_B6-Weekday-SDon-043400_B41_16\"\n",
    "\n",
    "def interpolate_stops(avl_data):\n",
    "    trip_id = avl_data.index.get_level_values('Trip')[0]\n",
    "    stops_ex = list(pd.unique(avl_data.MonitoredCallRef))\n",
    "    first = stops_ex[0]\n",
    "    last = stops_ex[-1]\n",
    "    last_set = avl_data[avl_data.MonitoredCallRef==last][['DistFromCall','PresentableDistance']]\n",
    "    first_set = avl_data[avl_data.MonitoredCallRef==first][['DistFromCall','PresentableDistance']]\n",
    "    avl_data = avl_data[avl_data.MonitoredCallRef!=last][avl_data.MonitoredCallRef!=first]\n",
    "    distance_stops = list(pd.unique(avl_data.CallDistAlongRoute))\n",
    "    stops_route = pd.DataFrame([stops_ex,distance_stops])\n",
    "    stops_route = stops_route.T\n",
    "    stops_route.columns=['MonitoredCallRef','CallDistAlongRoute']\n",
    "    pattern = '%Y-%m-%dT%H:%M:%S'\n",
    "    inter_stops = pd.DataFrame([],columns = [\"DistAlongRoute\",\"TimeStamp\"])\n",
    "    inter_stops['DistAlongRoute'] = avl_data.CallDistAlongRoute - avl_data.DistFromCall\n",
    "    inter_stops['TimeStamp'] = avl_data.index.get_level_values('RecordedAtTime')\n",
    "    inter_stops['TimeStamp'] = inter_stops['TimeStamp'].apply(lambda x: int(time.mktime(time.strptime(x[:-10], pattern))))\n",
    "    inter_stops = inter_stops.reset_index()\n",
    "    plt.figure(figsize=(10,5))\n",
    "    plt.scatter(inter_stops.TimeStamp,inter_stops.DistAlongRoute)\n",
    "    plt.title('Visualization of single trip.')\n",
    "    plt.xlabel('Time (epoch)')\n",
    "    plt.ylabel('Distance along route')\n",
    "    x = inter_stops.DistAlongRoute\n",
    "    y = inter_stops.TimeStamp\n",
    "    f = interpolate.interp1d(x,y)\n",
    "    xnew = distance_stops\n",
    "    ynew = f(xnew)   # use interpolation function returned by `interp1d`\n",
    "    plt.figure(figsize=(20,10))\n",
    "    plt.plot(y,x, 'o',color='blue',markersize=5)\n",
    "    plt.plot(ynew, xnew, '*',color='red',markersize=15)\n",
    "    return ynew"
   ]
  },
  {
   "cell_type": "code",
   "execution_count": null,
   "metadata": {
    "collapsed": true
   },
   "outputs": [],
   "source": [
    "avl_data"
   ]
  },
  {
   "cell_type": "code",
   "execution_count": 26,
   "metadata": {
    "collapsed": false
   },
   "outputs": [
    {
     "data": {
      "text/plain": [
       "array([  1.46417570e+09,   1.46417580e+09,   1.46417588e+09,\n",
       "         1.46417591e+09,   1.46417603e+09,   1.46417615e+09,\n",
       "         1.46417622e+09,   1.46417632e+09,   1.46417644e+09,\n",
       "         1.46417652e+09,   1.46417663e+09,   1.46417674e+09,\n",
       "                    nan,   1.46417683e+09,   1.46417693e+09,\n",
       "         1.46417702e+09,   1.46417710e+09,   1.46417723e+09,\n",
       "         1.46417734e+09,   1.46417744e+09,   1.46417757e+09,\n",
       "         1.46417765e+09,   1.46417769e+09,   1.46417775e+09,\n",
       "         1.46417787e+09,   1.46417800e+09,   1.46417813e+09,\n",
       "         1.46417821e+09,   1.46417833e+09,   1.46417837e+09,\n",
       "         1.46417841e+09,   1.46417846e+09,   1.46417851e+09,\n",
       "         1.46417855e+09,   1.46417861e+09,   1.46417864e+09,\n",
       "         1.46417867e+09,              nan])"
      ]
     },
     "execution_count": 26,
     "metadata": {},
     "output_type": "execute_result"
    },
    {
     "data": {
      "image/png": "[encoded data removed]",
      "text/plain": [
       "<matplotlib.figure.Figure at 0x7f647eb06e50>"
      ]
     },
     "metadata": {},
     "output_type": "display_data"
    },
    {
     "data": {
      "image/png": "[encoded data removed]",
      "text/plain": [
       "<matplotlib.figure.Figure at 0x7f647722c690>"
      ]
     },
     "metadata": {},
     "output_type": "display_data"
    }
   ],
   "source": [
    "interpolate_stops(avl_data)"
   ]
  },
  {
   "cell_type": "code",
   "execution_count": 48,
   "metadata": {
    "collapsed": false
   },
   "outputs": [
    {
     "ename": "KeyError",
     "evalue": "'vehicleID'",
     "output_type": "error",
     "traceback": [
      "\u001b[1;31m---------------------------------------------------------------------------\u001b[0m",
      "\u001b[1;31mKeyError\u001b[0m                                  Traceback (most recent call last)",
      "\u001b[1;32m<ipython-input-48-fadb7d2fc77b>\u001b[0m in \u001b[0;36m<module>\u001b[1;34m()\u001b[0m\n\u001b[1;32m----> 1\u001b[1;33m \u001b[0mdata\u001b[0m\u001b[1;33m.\u001b[0m\u001b[0mdrop_duplicates\u001b[0m\u001b[1;33m(\u001b[0m\u001b[1;33m[\u001b[0m\u001b[1;34m'vehicleID'\u001b[0m\u001b[1;33m,\u001b[0m\u001b[1;34m'RecordedAtTime'\u001b[0m\u001b[1;33m]\u001b[0m\u001b[1;33m,\u001b[0m\u001b[0minplace\u001b[0m\u001b[1;33m=\u001b[0m\u001b[0mTrue\u001b[0m\u001b[1;33m)\u001b[0m\u001b[1;33m\u001b[0m\u001b[0m\n\u001b[0m\u001b[0;32m      2\u001b[0m \u001b[0mdata\u001b[0m\u001b[1;33m.\u001b[0m\u001b[0mset_index\u001b[0m\u001b[1;33m(\u001b[0m\u001b[1;33m[\u001b[0m\u001b[1;34m'Line'\u001b[0m\u001b[1;33m,\u001b[0m\u001b[1;34m'Trip'\u001b[0m\u001b[1;33m,\u001b[0m\u001b[1;34m'TripDate'\u001b[0m\u001b[1;33m,\u001b[0m\u001b[1;34m'vehicleID'\u001b[0m\u001b[1;33m,\u001b[0m\u001b[1;34m'RecordedAtTime'\u001b[0m\u001b[1;33m]\u001b[0m\u001b[1;33m,\u001b[0m\u001b[0minplace\u001b[0m\u001b[1;33m=\u001b[0m\u001b[0mTrue\u001b[0m\u001b[1;33m,\u001b[0m\u001b[0mdrop\u001b[0m\u001b[1;33m=\u001b[0m\u001b[0mTrue\u001b[0m\u001b[1;33m,\u001b[0m\u001b[0mverify_integrity\u001b[0m\u001b[1;33m=\u001b[0m\u001b[0mTrue\u001b[0m\u001b[1;33m)\u001b[0m\u001b[1;33m\u001b[0m\u001b[0m\n\u001b[0;32m      3\u001b[0m \u001b[1;31m# for now, use a truncated data set.  just get data for one line (M5).\u001b[0m\u001b[1;33m\u001b[0m\u001b[1;33m\u001b[0m\u001b[0m\n\u001b[0;32m      4\u001b[0m \u001b[0mtripDateLookup\u001b[0m \u001b[1;33m=\u001b[0m \u001b[1;34m\"2016-05-25\"\u001b[0m\u001b[1;33m\u001b[0m\u001b[0m\n\u001b[0;32m      5\u001b[0m \u001b[0mlineLookup\u001b[0m \u001b[1;33m=\u001b[0m \u001b[1;34m\"MTA NYCT_B41\"\u001b[0m\u001b[1;33m\u001b[0m\u001b[0m\n",
      "\u001b[1;32m/opt/rh/anaconda/root/lib/python2.7/site-packages/pandas/util/decorators.pyc\u001b[0m in \u001b[0;36mwrapper\u001b[1;34m(*args, **kwargs)\u001b[0m\n\u001b[0;32m     86\u001b[0m                 \u001b[1;32melse\u001b[0m\u001b[1;33m:\u001b[0m\u001b[1;33m\u001b[0m\u001b[0m\n\u001b[0;32m     87\u001b[0m                     \u001b[0mkwargs\u001b[0m\u001b[1;33m[\u001b[0m\u001b[0mnew_arg_name\u001b[0m\u001b[1;33m]\u001b[0m \u001b[1;33m=\u001b[0m \u001b[0mnew_arg_value\u001b[0m\u001b[1;33m\u001b[0m\u001b[0m\n\u001b[1;32m---> 88\u001b[1;33m             \u001b[1;32mreturn\u001b[0m \u001b[0mfunc\u001b[0m\u001b[1;33m(\u001b[0m\u001b[1;33m*\u001b[0m\u001b[0margs\u001b[0m\u001b[1;33m,\u001b[0m \u001b[1;33m**\u001b[0m\u001b[0mkwargs\u001b[0m\u001b[1;33m)\u001b[0m\u001b[1;33m\u001b[0m\u001b[0m\n\u001b[0m\u001b[0;32m     89\u001b[0m         \u001b[1;32mreturn\u001b[0m \u001b[0mwrapper\u001b[0m\u001b[1;33m\u001b[0m\u001b[0m\n\u001b[0;32m     90\u001b[0m     \u001b[1;32mreturn\u001b[0m \u001b[0m_deprecate_kwarg\u001b[0m\u001b[1;33m\u001b[0m\u001b[0m\n",
      "\u001b[1;32m/opt/rh/anaconda/root/lib/python2.7/site-packages/pandas/core/frame.pyc\u001b[0m in \u001b[0;36mdrop_duplicates\u001b[1;34m(self, subset, take_last, inplace)\u001b[0m\n\u001b[0;32m   2820\u001b[0m         \u001b[0mdeduplicated\u001b[0m \u001b[1;33m:\u001b[0m \u001b[0mDataFrame\u001b[0m\u001b[1;33m\u001b[0m\u001b[0m\n\u001b[0;32m   2821\u001b[0m         \"\"\"\n\u001b[1;32m-> 2822\u001b[1;33m         \u001b[0mduplicated\u001b[0m \u001b[1;33m=\u001b[0m \u001b[0mself\u001b[0m\u001b[1;33m.\u001b[0m\u001b[0mduplicated\u001b[0m\u001b[1;33m(\u001b[0m\u001b[0msubset\u001b[0m\u001b[1;33m,\u001b[0m \u001b[0mtake_last\u001b[0m\u001b[1;33m=\u001b[0m\u001b[0mtake_last\u001b[0m\u001b[1;33m)\u001b[0m\u001b[1;33m\u001b[0m\u001b[0m\n\u001b[0m\u001b[0;32m   2823\u001b[0m \u001b[1;33m\u001b[0m\u001b[0m\n\u001b[0;32m   2824\u001b[0m         \u001b[1;32mif\u001b[0m \u001b[0minplace\u001b[0m\u001b[1;33m:\u001b[0m\u001b[1;33m\u001b[0m\u001b[0m\n",
      "\u001b[1;32m/opt/rh/anaconda/root/lib/python2.7/site-packages/pandas/util/decorators.pyc\u001b[0m in \u001b[0;36mwrapper\u001b[1;34m(*args, **kwargs)\u001b[0m\n\u001b[0;32m     86\u001b[0m                 \u001b[1;32melse\u001b[0m\u001b[1;33m:\u001b[0m\u001b[1;33m\u001b[0m\u001b[0m\n\u001b[0;32m     87\u001b[0m                     \u001b[0mkwargs\u001b[0m\u001b[1;33m[\u001b[0m\u001b[0mnew_arg_name\u001b[0m\u001b[1;33m]\u001b[0m \u001b[1;33m=\u001b[0m \u001b[0mnew_arg_value\u001b[0m\u001b[1;33m\u001b[0m\u001b[0m\n\u001b[1;32m---> 88\u001b[1;33m             \u001b[1;32mreturn\u001b[0m \u001b[0mfunc\u001b[0m\u001b[1;33m(\u001b[0m\u001b[1;33m*\u001b[0m\u001b[0margs\u001b[0m\u001b[1;33m,\u001b[0m \u001b[1;33m**\u001b[0m\u001b[0mkwargs\u001b[0m\u001b[1;33m)\u001b[0m\u001b[1;33m\u001b[0m\u001b[0m\n\u001b[0m\u001b[0;32m     89\u001b[0m         \u001b[1;32mreturn\u001b[0m \u001b[0mwrapper\u001b[0m\u001b[1;33m\u001b[0m\u001b[0m\n\u001b[0;32m     90\u001b[0m     \u001b[1;32mreturn\u001b[0m \u001b[0m_deprecate_kwarg\u001b[0m\u001b[1;33m\u001b[0m\u001b[0m\n",
      "\u001b[1;32m/opt/rh/anaconda/root/lib/python2.7/site-packages/pandas/core/frame.pyc\u001b[0m in \u001b[0;36mduplicated\u001b[1;34m(self, subset, take_last)\u001b[0m\n\u001b[0;32m   2865\u001b[0m \u001b[1;33m\u001b[0m\u001b[0m\n\u001b[0;32m   2866\u001b[0m         \u001b[0mvals\u001b[0m \u001b[1;33m=\u001b[0m \u001b[1;33m(\u001b[0m\u001b[0mself\u001b[0m\u001b[1;33m[\u001b[0m\u001b[0mcol\u001b[0m\u001b[1;33m]\u001b[0m\u001b[1;33m.\u001b[0m\u001b[0mvalues\u001b[0m \u001b[1;32mfor\u001b[0m \u001b[0mcol\u001b[0m \u001b[1;32min\u001b[0m \u001b[0msubset\u001b[0m\u001b[1;33m)\u001b[0m\u001b[1;33m\u001b[0m\u001b[0m\n\u001b[1;32m-> 2867\u001b[1;33m         \u001b[0mlabels\u001b[0m\u001b[1;33m,\u001b[0m \u001b[0mshape\u001b[0m \u001b[1;33m=\u001b[0m \u001b[0mmap\u001b[0m\u001b[1;33m(\u001b[0m\u001b[0mlist\u001b[0m\u001b[1;33m,\u001b[0m \u001b[0mzip\u001b[0m\u001b[1;33m(\u001b[0m \u001b[1;33m*\u001b[0m \u001b[0mmap\u001b[0m\u001b[1;33m(\u001b[0m\u001b[0mf\u001b[0m\u001b[1;33m,\u001b[0m \u001b[0mvals\u001b[0m\u001b[1;33m)\u001b[0m\u001b[1;33m)\u001b[0m\u001b[1;33m)\u001b[0m\u001b[1;33m\u001b[0m\u001b[0m\n\u001b[0m\u001b[0;32m   2868\u001b[0m \u001b[1;33m\u001b[0m\u001b[0m\n\u001b[0;32m   2869\u001b[0m         \u001b[0mids\u001b[0m \u001b[1;33m=\u001b[0m \u001b[0mget_group_index\u001b[0m\u001b[1;33m(\u001b[0m\u001b[0mlabels\u001b[0m\u001b[1;33m,\u001b[0m \u001b[0mshape\u001b[0m\u001b[1;33m,\u001b[0m \u001b[0msort\u001b[0m\u001b[1;33m=\u001b[0m\u001b[0mFalse\u001b[0m\u001b[1;33m,\u001b[0m \u001b[0mxnull\u001b[0m\u001b[1;33m=\u001b[0m\u001b[0mFalse\u001b[0m\u001b[1;33m)\u001b[0m\u001b[1;33m\u001b[0m\u001b[0m\n",
      "\u001b[1;32m/opt/rh/anaconda/root/lib/python2.7/site-packages/pandas/core/frame.pyc\u001b[0m in \u001b[0;36m<genexpr>\u001b[1;34m((col,))\u001b[0m\n\u001b[0;32m   2864\u001b[0m             \u001b[0msubset\u001b[0m \u001b[1;33m=\u001b[0m \u001b[0msubset\u001b[0m\u001b[1;33m,\u001b[0m\u001b[1;33m\u001b[0m\u001b[0m\n\u001b[0;32m   2865\u001b[0m \u001b[1;33m\u001b[0m\u001b[0m\n\u001b[1;32m-> 2866\u001b[1;33m         \u001b[0mvals\u001b[0m \u001b[1;33m=\u001b[0m \u001b[1;33m(\u001b[0m\u001b[0mself\u001b[0m\u001b[1;33m[\u001b[0m\u001b[0mcol\u001b[0m\u001b[1;33m]\u001b[0m\u001b[1;33m.\u001b[0m\u001b[0mvalues\u001b[0m \u001b[1;32mfor\u001b[0m \u001b[0mcol\u001b[0m \u001b[1;32min\u001b[0m \u001b[0msubset\u001b[0m\u001b[1;33m)\u001b[0m\u001b[1;33m\u001b[0m\u001b[0m\n\u001b[0m\u001b[0;32m   2867\u001b[0m         \u001b[0mlabels\u001b[0m\u001b[1;33m,\u001b[0m \u001b[0mshape\u001b[0m \u001b[1;33m=\u001b[0m \u001b[0mmap\u001b[0m\u001b[1;33m(\u001b[0m\u001b[0mlist\u001b[0m\u001b[1;33m,\u001b[0m \u001b[0mzip\u001b[0m\u001b[1;33m(\u001b[0m \u001b[1;33m*\u001b[0m \u001b[0mmap\u001b[0m\u001b[1;33m(\u001b[0m\u001b[0mf\u001b[0m\u001b[1;33m,\u001b[0m \u001b[0mvals\u001b[0m\u001b[1;33m)\u001b[0m\u001b[1;33m)\u001b[0m\u001b[1;33m)\u001b[0m\u001b[1;33m\u001b[0m\u001b[0m\n\u001b[0;32m   2868\u001b[0m \u001b[1;33m\u001b[0m\u001b[0m\n",
      "\u001b[1;32m/opt/rh/anaconda/root/lib/python2.7/site-packages/pandas/core/frame.pyc\u001b[0m in \u001b[0;36m__getitem__\u001b[1;34m(self, key)\u001b[0m\n\u001b[0;32m   1789\u001b[0m             \u001b[1;32mreturn\u001b[0m \u001b[0mself\u001b[0m\u001b[1;33m.\u001b[0m\u001b[0m_getitem_multilevel\u001b[0m\u001b[1;33m(\u001b[0m\u001b[0mkey\u001b[0m\u001b[1;33m)\u001b[0m\u001b[1;33m\u001b[0m\u001b[0m\n\u001b[0;32m   1790\u001b[0m         \u001b[1;32melse\u001b[0m\u001b[1;33m:\u001b[0m\u001b[1;33m\u001b[0m\u001b[0m\n\u001b[1;32m-> 1791\u001b[1;33m             \u001b[1;32mreturn\u001b[0m \u001b[0mself\u001b[0m\u001b[1;33m.\u001b[0m\u001b[0m_getitem_column\u001b[0m\u001b[1;33m(\u001b[0m\u001b[0mkey\u001b[0m\u001b[1;33m)\u001b[0m\u001b[1;33m\u001b[0m\u001b[0m\n\u001b[0m\u001b[0;32m   1792\u001b[0m \u001b[1;33m\u001b[0m\u001b[0m\n\u001b[0;32m   1793\u001b[0m     \u001b[1;32mdef\u001b[0m \u001b[0m_getitem_column\u001b[0m\u001b[1;33m(\u001b[0m\u001b[0mself\u001b[0m\u001b[1;33m,\u001b[0m \u001b[0mkey\u001b[0m\u001b[1;33m)\u001b[0m\u001b[1;33m:\u001b[0m\u001b[1;33m\u001b[0m\u001b[0m\n",
      "\u001b[1;32m/opt/rh/anaconda/root/lib/python2.7/site-packages/pandas/core/frame.pyc\u001b[0m in \u001b[0;36m_getitem_column\u001b[1;34m(self, key)\u001b[0m\n\u001b[0;32m   1796\u001b[0m         \u001b[1;31m# get column\u001b[0m\u001b[1;33m\u001b[0m\u001b[1;33m\u001b[0m\u001b[0m\n\u001b[0;32m   1797\u001b[0m         \u001b[1;32mif\u001b[0m \u001b[0mself\u001b[0m\u001b[1;33m.\u001b[0m\u001b[0mcolumns\u001b[0m\u001b[1;33m.\u001b[0m\u001b[0mis_unique\u001b[0m\u001b[1;33m:\u001b[0m\u001b[1;33m\u001b[0m\u001b[0m\n\u001b[1;32m-> 1798\u001b[1;33m             \u001b[1;32mreturn\u001b[0m \u001b[0mself\u001b[0m\u001b[1;33m.\u001b[0m\u001b[0m_get_item_cache\u001b[0m\u001b[1;33m(\u001b[0m\u001b[0mkey\u001b[0m\u001b[1;33m)\u001b[0m\u001b[1;33m\u001b[0m\u001b[0m\n\u001b[0m\u001b[0;32m   1799\u001b[0m \u001b[1;33m\u001b[0m\u001b[0m\n\u001b[0;32m   1800\u001b[0m         \u001b[1;31m# duplicate columns & possible reduce dimensionaility\u001b[0m\u001b[1;33m\u001b[0m\u001b[1;33m\u001b[0m\u001b[0m\n",
      "\u001b[1;32m/opt/rh/anaconda/root/lib/python2.7/site-packages/pandas/core/generic.pyc\u001b[0m in \u001b[0;36m_get_item_cache\u001b[1;34m(self, item)\u001b[0m\n\u001b[0;32m   1082\u001b[0m         \u001b[0mres\u001b[0m \u001b[1;33m=\u001b[0m \u001b[0mcache\u001b[0m\u001b[1;33m.\u001b[0m\u001b[0mget\u001b[0m\u001b[1;33m(\u001b[0m\u001b[0mitem\u001b[0m\u001b[1;33m)\u001b[0m\u001b[1;33m\u001b[0m\u001b[0m\n\u001b[0;32m   1083\u001b[0m         \u001b[1;32mif\u001b[0m \u001b[0mres\u001b[0m \u001b[1;32mis\u001b[0m \u001b[0mNone\u001b[0m\u001b[1;33m:\u001b[0m\u001b[1;33m\u001b[0m\u001b[0m\n\u001b[1;32m-> 1084\u001b[1;33m             \u001b[0mvalues\u001b[0m \u001b[1;33m=\u001b[0m \u001b[0mself\u001b[0m\u001b[1;33m.\u001b[0m\u001b[0m_data\u001b[0m\u001b[1;33m.\u001b[0m\u001b[0mget\u001b[0m\u001b[1;33m(\u001b[0m\u001b[0mitem\u001b[0m\u001b[1;33m)\u001b[0m\u001b[1;33m\u001b[0m\u001b[0m\n\u001b[0m\u001b[0;32m   1085\u001b[0m             \u001b[0mres\u001b[0m \u001b[1;33m=\u001b[0m \u001b[0mself\u001b[0m\u001b[1;33m.\u001b[0m\u001b[0m_box_item_values\u001b[0m\u001b[1;33m(\u001b[0m\u001b[0mitem\u001b[0m\u001b[1;33m,\u001b[0m \u001b[0mvalues\u001b[0m\u001b[1;33m)\u001b[0m\u001b[1;33m\u001b[0m\u001b[0m\n\u001b[0;32m   1086\u001b[0m             \u001b[0mcache\u001b[0m\u001b[1;33m[\u001b[0m\u001b[0mitem\u001b[0m\u001b[1;33m]\u001b[0m \u001b[1;33m=\u001b[0m \u001b[0mres\u001b[0m\u001b[1;33m\u001b[0m\u001b[0m\n",
      "\u001b[1;32m/opt/rh/anaconda/root/lib/python2.7/site-packages/pandas/core/internals.pyc\u001b[0m in \u001b[0;36mget\u001b[1;34m(self, item, fastpath)\u001b[0m\n\u001b[0;32m   2849\u001b[0m \u001b[1;33m\u001b[0m\u001b[0m\n\u001b[0;32m   2850\u001b[0m             \u001b[1;32mif\u001b[0m \u001b[1;32mnot\u001b[0m \u001b[0misnull\u001b[0m\u001b[1;33m(\u001b[0m\u001b[0mitem\u001b[0m\u001b[1;33m)\u001b[0m\u001b[1;33m:\u001b[0m\u001b[1;33m\u001b[0m\u001b[0m\n\u001b[1;32m-> 2851\u001b[1;33m                 \u001b[0mloc\u001b[0m \u001b[1;33m=\u001b[0m \u001b[0mself\u001b[0m\u001b[1;33m.\u001b[0m\u001b[0mitems\u001b[0m\u001b[1;33m.\u001b[0m\u001b[0mget_loc\u001b[0m\u001b[1;33m(\u001b[0m\u001b[0mitem\u001b[0m\u001b[1;33m)\u001b[0m\u001b[1;33m\u001b[0m\u001b[0m\n\u001b[0m\u001b[0;32m   2852\u001b[0m             \u001b[1;32melse\u001b[0m\u001b[1;33m:\u001b[0m\u001b[1;33m\u001b[0m\u001b[0m\n\u001b[0;32m   2853\u001b[0m                 \u001b[0mindexer\u001b[0m \u001b[1;33m=\u001b[0m \u001b[0mnp\u001b[0m\u001b[1;33m.\u001b[0m\u001b[0marange\u001b[0m\u001b[1;33m(\u001b[0m\u001b[0mlen\u001b[0m\u001b[1;33m(\u001b[0m\u001b[0mself\u001b[0m\u001b[1;33m.\u001b[0m\u001b[0mitems\u001b[0m\u001b[1;33m)\u001b[0m\u001b[1;33m)\u001b[0m\u001b[1;33m[\u001b[0m\u001b[0misnull\u001b[0m\u001b[1;33m(\u001b[0m\u001b[0mself\u001b[0m\u001b[1;33m.\u001b[0m\u001b[0mitems\u001b[0m\u001b[1;33m)\u001b[0m\u001b[1;33m]\u001b[0m\u001b[1;33m\u001b[0m\u001b[0m\n",
      "\u001b[1;32m/opt/rh/anaconda/root/lib/python2.7/site-packages/pandas/core/index.pyc\u001b[0m in \u001b[0;36mget_loc\u001b[1;34m(self, key, method)\u001b[0m\n\u001b[0;32m   1576\u001b[0m         \"\"\"\n\u001b[0;32m   1577\u001b[0m         \u001b[1;32mif\u001b[0m \u001b[0mmethod\u001b[0m \u001b[1;32mis\u001b[0m \u001b[0mNone\u001b[0m\u001b[1;33m:\u001b[0m\u001b[1;33m\u001b[0m\u001b[0m\n\u001b[1;32m-> 1578\u001b[1;33m             \u001b[1;32mreturn\u001b[0m \u001b[0mself\u001b[0m\u001b[1;33m.\u001b[0m\u001b[0m_engine\u001b[0m\u001b[1;33m.\u001b[0m\u001b[0mget_loc\u001b[0m\u001b[1;33m(\u001b[0m\u001b[0m_values_from_object\u001b[0m\u001b[1;33m(\u001b[0m\u001b[0mkey\u001b[0m\u001b[1;33m)\u001b[0m\u001b[1;33m)\u001b[0m\u001b[1;33m\u001b[0m\u001b[0m\n\u001b[0m\u001b[0;32m   1579\u001b[0m \u001b[1;33m\u001b[0m\u001b[0m\n\u001b[0;32m   1580\u001b[0m         \u001b[0mindexer\u001b[0m \u001b[1;33m=\u001b[0m \u001b[0mself\u001b[0m\u001b[1;33m.\u001b[0m\u001b[0mget_indexer\u001b[0m\u001b[1;33m(\u001b[0m\u001b[1;33m[\u001b[0m\u001b[0mkey\u001b[0m\u001b[1;33m]\u001b[0m\u001b[1;33m,\u001b[0m \u001b[0mmethod\u001b[0m\u001b[1;33m=\u001b[0m\u001b[0mmethod\u001b[0m\u001b[1;33m)\u001b[0m\u001b[1;33m\u001b[0m\u001b[0m\n",
      "\u001b[1;32mpandas/index.pyx\u001b[0m in \u001b[0;36mpandas.index.IndexEngine.get_loc (pandas/index.c:3824)\u001b[1;34m()\u001b[0m\n",
      "\u001b[1;32mpandas/index.pyx\u001b[0m in \u001b[0;36mpandas.index.IndexEngine.get_loc (pandas/index.c:3704)\u001b[1;34m()\u001b[0m\n",
      "\u001b[1;32mpandas/hashtable.pyx\u001b[0m in \u001b[0;36mpandas.hashtable.PyObjectHashTable.get_item (pandas/hashtable.c:12349)\u001b[1;34m()\u001b[0m\n",
      "\u001b[1;32mpandas/hashtable.pyx\u001b[0m in \u001b[0;36mpandas.hashtable.PyObjectHashTable.get_item (pandas/hashtable.c:12300)\u001b[1;34m()\u001b[0m\n",
      "\u001b[1;31mKeyError\u001b[0m: 'vehicleID'"
     ]
    }
   ],
   "source": [
    "data.drop_duplicates(['vehicleID','RecordedAtTime'],inplace=True)\n",
    "data.set_index(['Line','Trip','TripDate','vehicleID','RecordedAtTime'],inplace=True,drop=True,verify_integrity=True)\n",
    "# for now, use a truncated data set.  just get data for one line (M5).\n",
    "tripDateLookup = \"2016-05-25\"\n",
    "lineLookup = \"MTA NYCT_B41\"\n",
    "avl_long = data.xs((lineLookup,tripDateLookup),level=(0,2),drop_level=False)\n",
    "\n",
    "avl_long.groupby(avl_long.index.get_level_values('Trip')).apply(lambda x: interpolate_stops(x))"
   ]
  }
 ],
 "metadata": {
  "kernelspec": {
   "display_name": "Python 2",
   "language": "python",
   "name": "python2"
  },
  "language_info": {
   "codemirror_mode": {
    "name": "ipython",
    "version": 2
   },
   "file_extension": ".py",
   "mimetype": "text/x-python",
   "name": "python",
   "nbconvert_exporter": "python",
   "pygments_lexer": "ipython2",
   "version": "2.7.11"
  }
 },
 "nbformat": 4,
 "nbformat_minor": 0
}
