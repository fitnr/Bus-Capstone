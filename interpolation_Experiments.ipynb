{
 "cells": [
  {
   "cell_type": "code",
   "execution_count": 14,
   "metadata": {
    "collapsed": false
   },
   "outputs": [],
   "source": [
    "# -*- coding: utf-8 -*-\n",
    "\"\"\"\n",
    "The script demonstrates a comparison of vehicle times from AVL data to the\n",
    "scheduled arrival time at one stop for one example trip.\n",
    "\"\"\"\n",
    "\n",
    "import os\n",
    "import pandas as pd\n",
    "import matplotlib.pyplot as plt\n",
    "import time\n",
    "%matplotlib inline  \n",
    "import sys\n",
    "sys.path.append('/gpfs2/projects/project-bus_capstone_2016/workspace/saf537/bus-Capstone')\n",
    "\n",
    "# these two modules are homemade\n",
    "import gtfs\n",
    "import arrivals\n",
    "import time\n",
    "import ttools\n",
    "os.chdir('/gpfs2/projects/project-bus_capstone_2016/workspace/share')\n"
   ]
  },
  {
   "cell_type": "code",
   "execution_count": 59,
   "metadata": {
    "collapsed": false
   },
   "outputs": [
    {
     "name": "stdout",
     "output_type": "stream",
     "text": [
      "Finished loading GTFS data.\n"
     ]
    }
   ],
   "source": [
    "# get all the schedule data. (subset can be created later)\n",
    "trips = gtfs.load_trips('gtfs/')\n",
    "stops = gtfs.load_stops('gtfs/')\n",
    "trip_shapes = gtfs.load_trip_shapes('gtfs/')\n",
    "stop_times, tz_sched = gtfs.load_stop_times('gtfs/')\n",
    "print 'Finished loading GTFS data.'"
   ]
  },
  {
   "cell_type": "code",
   "execution_count": 9,
   "metadata": {
    "collapsed": false
   },
   "outputs": [
    {
     "name": "stderr",
     "output_type": "stream",
     "text": [
      "/opt/rh/anaconda/root/lib/python2.7/site-packages/pandas/util/decorators.py:88: SettingWithCopyWarning: \n",
      "A value is trying to be set on a copy of a slice from a DataFrame\n",
      "\n",
      "See the the caveats in the documentation: http://pandas.pydata.org/pandas-docs/stable/indexing.html#indexing-view-versus-copy\n",
      "  return func(*args, **kwargs)\n"
     ]
    }
   ],
   "source": [
    "# day_summary.to_csv('day_summary.csv')\n",
    "\n",
    "data = pd.read_csv('longjsons_parsed.csv')\n",
    "\n",
    "qstr = ('Trip == \"MTA NYCT_FB_B6-Weekday-SDon-043400_B41_16\"')\n",
    "bustime = data.query(qstr)\n",
    "bustime.drop_duplicates(['vehicleID','RecordedAtTime'],inplace=True)\n",
    "bustime.set_index(['Line','Trip','TripDate','vehicleID','RecordedAtTime'],\n",
    "                  inplace=True,drop=True,verify_integrity=True)\n",
    "# for now, use a truncated data set.  just get data for one line (M5).\n",
    "tripDateLookup = \"2016-05-25\"\n",
    "lineLookup = \"MTA NYCT_B41\"\n",
    "avl_long = bustime.xs((lineLookup,tripDateLookup),level=(0,2))\n",
    "del bustime,data # to free up memory\n",
    "\n"
   ]
  },
  {
   "cell_type": "code",
   "execution_count": 64,
   "metadata": {
    "collapsed": false
   },
   "outputs": [],
   "source": [
    "#stops.head()"
   ]
  },
  {
   "cell_type": "code",
   "execution_count": 60,
   "metadata": {
    "collapsed": false
   },
   "outputs": [],
   "source": [
    "#stop_times.head()"
   ]
  },
  {
   "cell_type": "code",
   "execution_count": 61,
   "metadata": {
    "collapsed": false
   },
   "outputs": [],
   "source": [
    "#trips.head()"
   ]
  },
  {
   "cell_type": "code",
   "execution_count": 62,
   "metadata": {
    "collapsed": false
   },
   "outputs": [],
   "source": [
    "#trip_shapes.col\n",
    "#trip_shapes[trip_shapes.index=='BX010027']"
   ]
  },
  {
   "cell_type": "code",
   "execution_count": 63,
   "metadata": {
    "collapsed": false
   },
   "outputs": [],
   "source": [
    "#trip_shapes.head()"
   ]
  },
  {
   "cell_type": "markdown",
   "metadata": {},
   "source": [
    "This will be one example of one route"
   ]
  },
  {
   "cell_type": "code",
   "execution_count": 65,
   "metadata": {
    "collapsed": false
   },
   "outputs": [
    {
     "data": {
      "text/html": [
       "<div style=\"max-height:1000px;max-width:1500px;overflow:auto;\">\n",
       "<table border=\"1\" class=\"dataframe\">\n",
       "  <thead>\n",
       "    <tr style=\"text-align: right;\">\n",
       "      <th></th>\n",
       "      <th></th>\n",
       "      <th></th>\n",
       "      <th>Latitude</th>\n",
       "      <th>Longitude</th>\n",
       "      <th>TripPattern</th>\n",
       "      <th>MonitoredCallRef</th>\n",
       "      <th>EstCallArrival</th>\n",
       "      <th>DistFromCall</th>\n",
       "      <th>CallDistAlongRoute</th>\n",
       "      <th>PresentableDistance</th>\n",
       "      <th>ResponseTimeStamp</th>\n",
       "    </tr>\n",
       "    <tr>\n",
       "      <th>Trip</th>\n",
       "      <th>vehicleID</th>\n",
       "      <th>RecordedAtTime</th>\n",
       "      <th></th>\n",
       "      <th></th>\n",
       "      <th></th>\n",
       "      <th></th>\n",
       "      <th></th>\n",
       "      <th></th>\n",
       "      <th></th>\n",
       "      <th></th>\n",
       "      <th></th>\n",
       "    </tr>\n",
       "  </thead>\n",
       "  <tbody>\n",
       "    <tr>\n",
       "      <th rowspan=\"5\" valign=\"top\">MTA NYCT_FB_B6-Weekday-SDon-043400_B41_16</th>\n",
       "      <th rowspan=\"5\" valign=\"top\">MTA NYCT_4587</th>\n",
       "      <th>2016-05-25T07:26:40.000-04:00</th>\n",
       "      <td>40.682170</td>\n",
       "      <td>-73.976072</td>\n",
       "      <td>MTA_B410332</td>\n",
       "      <td>MTA_901500</td>\n",
       "      <td>2016-05-25T07:27:13.126-04:00</td>\n",
       "      <td>0.00</td>\n",
       "      <td>2387.92</td>\n",
       "      <td>at stop</td>\n",
       "      <td>2016-05-25T07:27:12.126-04:00</td>\n",
       "    </tr>\n",
       "    <tr>\n",
       "      <th>2016-05-25T07:27:11.000-04:00</th>\n",
       "      <td>40.681098</td>\n",
       "      <td>-73.975304</td>\n",
       "      <td>MTA_B410332</td>\n",
       "      <td>MTA_303297</td>\n",
       "      <td>2016-05-25T07:27:43.111-04:00</td>\n",
       "      <td>75.02</td>\n",
       "      <td>2598.69</td>\n",
       "      <td>approaching</td>\n",
       "      <td>2016-05-25T07:27:42.111-04:00</td>\n",
       "    </tr>\n",
       "    <tr>\n",
       "      <th>2016-05-25T07:27:42.000-04:00</th>\n",
       "      <td>40.681126</td>\n",
       "      <td>-73.975324</td>\n",
       "      <td>MTA_B410332</td>\n",
       "      <td>MTA_303297</td>\n",
       "      <td>2016-05-25T07:28:13.158-04:00</td>\n",
       "      <td>78.59</td>\n",
       "      <td>2598.69</td>\n",
       "      <td>approaching</td>\n",
       "      <td>2016-05-25T07:28:12.158-04:00</td>\n",
       "    </tr>\n",
       "    <tr>\n",
       "      <th>2016-05-25T07:28:14.000-04:00</th>\n",
       "      <td>40.680564</td>\n",
       "      <td>-73.974913</td>\n",
       "      <td>MTA_B410332</td>\n",
       "      <td>MTA_303297</td>\n",
       "      <td>2016-05-25T07:28:43.133-04:00</td>\n",
       "      <td>7.14</td>\n",
       "      <td>2598.69</td>\n",
       "      <td>at stop</td>\n",
       "      <td>2016-05-25T07:28:42.133-04:00</td>\n",
       "    </tr>\n",
       "    <tr>\n",
       "      <th>2016-05-25T07:28:45.000-04:00</th>\n",
       "      <td>40.678978</td>\n",
       "      <td>-73.973757</td>\n",
       "      <td>MTA_B410332</td>\n",
       "      <td>MTA_303300</td>\n",
       "      <td>2016-05-25T07:29:38.356-04:00</td>\n",
       "      <td>188.81</td>\n",
       "      <td>2981.87</td>\n",
       "      <td>&lt; 1 stop away</td>\n",
       "      <td>2016-05-25T07:29:12.128-04:00</td>\n",
       "    </tr>\n",
       "  </tbody>\n",
       "</table>\n",
       "</div>"
      ],
      "text/plain": [
       "                                                                                        Latitude  \\\n",
       "Trip                                      vehicleID     RecordedAtTime                             \n",
       "MTA NYCT_FB_B6-Weekday-SDon-043400_B41_16 MTA NYCT_4587 2016-05-25T07:26:40.000-04:00  40.682170   \n",
       "                                                        2016-05-25T07:27:11.000-04:00  40.681098   \n",
       "                                                        2016-05-25T07:27:42.000-04:00  40.681126   \n",
       "                                                        2016-05-25T07:28:14.000-04:00  40.680564   \n",
       "                                                        2016-05-25T07:28:45.000-04:00  40.678978   \n",
       "\n",
       "                                                                                       Longitude  \\\n",
       "Trip                                      vehicleID     RecordedAtTime                             \n",
       "MTA NYCT_FB_B6-Weekday-SDon-043400_B41_16 MTA NYCT_4587 2016-05-25T07:26:40.000-04:00 -73.976072   \n",
       "                                                        2016-05-25T07:27:11.000-04:00 -73.975304   \n",
       "                                                        2016-05-25T07:27:42.000-04:00 -73.975324   \n",
       "                                                        2016-05-25T07:28:14.000-04:00 -73.974913   \n",
       "                                                        2016-05-25T07:28:45.000-04:00 -73.973757   \n",
       "\n",
       "                                                                                       TripPattern  \\\n",
       "Trip                                      vehicleID     RecordedAtTime                               \n",
       "MTA NYCT_FB_B6-Weekday-SDon-043400_B41_16 MTA NYCT_4587 2016-05-25T07:26:40.000-04:00  MTA_B410332   \n",
       "                                                        2016-05-25T07:27:11.000-04:00  MTA_B410332   \n",
       "                                                        2016-05-25T07:27:42.000-04:00  MTA_B410332   \n",
       "                                                        2016-05-25T07:28:14.000-04:00  MTA_B410332   \n",
       "                                                        2016-05-25T07:28:45.000-04:00  MTA_B410332   \n",
       "\n",
       "                                                                                      MonitoredCallRef  \\\n",
       "Trip                                      vehicleID     RecordedAtTime                                   \n",
       "MTA NYCT_FB_B6-Weekday-SDon-043400_B41_16 MTA NYCT_4587 2016-05-25T07:26:40.000-04:00       MTA_901500   \n",
       "                                                        2016-05-25T07:27:11.000-04:00       MTA_303297   \n",
       "                                                        2016-05-25T07:27:42.000-04:00       MTA_303297   \n",
       "                                                        2016-05-25T07:28:14.000-04:00       MTA_303297   \n",
       "                                                        2016-05-25T07:28:45.000-04:00       MTA_303300   \n",
       "\n",
       "                                                                                                      EstCallArrival  \\\n",
       "Trip                                      vehicleID     RecordedAtTime                                                 \n",
       "MTA NYCT_FB_B6-Weekday-SDon-043400_B41_16 MTA NYCT_4587 2016-05-25T07:26:40.000-04:00  2016-05-25T07:27:13.126-04:00   \n",
       "                                                        2016-05-25T07:27:11.000-04:00  2016-05-25T07:27:43.111-04:00   \n",
       "                                                        2016-05-25T07:27:42.000-04:00  2016-05-25T07:28:13.158-04:00   \n",
       "                                                        2016-05-25T07:28:14.000-04:00  2016-05-25T07:28:43.133-04:00   \n",
       "                                                        2016-05-25T07:28:45.000-04:00  2016-05-25T07:29:38.356-04:00   \n",
       "\n",
       "                                                                                       DistFromCall  \\\n",
       "Trip                                      vehicleID     RecordedAtTime                                \n",
       "MTA NYCT_FB_B6-Weekday-SDon-043400_B41_16 MTA NYCT_4587 2016-05-25T07:26:40.000-04:00          0.00   \n",
       "                                                        2016-05-25T07:27:11.000-04:00         75.02   \n",
       "                                                        2016-05-25T07:27:42.000-04:00         78.59   \n",
       "                                                        2016-05-25T07:28:14.000-04:00          7.14   \n",
       "                                                        2016-05-25T07:28:45.000-04:00        188.81   \n",
       "\n",
       "                                                                                       CallDistAlongRoute  \\\n",
       "Trip                                      vehicleID     RecordedAtTime                                      \n",
       "MTA NYCT_FB_B6-Weekday-SDon-043400_B41_16 MTA NYCT_4587 2016-05-25T07:26:40.000-04:00             2387.92   \n",
       "                                                        2016-05-25T07:27:11.000-04:00             2598.69   \n",
       "                                                        2016-05-25T07:27:42.000-04:00             2598.69   \n",
       "                                                        2016-05-25T07:28:14.000-04:00             2598.69   \n",
       "                                                        2016-05-25T07:28:45.000-04:00             2981.87   \n",
       "\n",
       "                                                                                      PresentableDistance  \\\n",
       "Trip                                      vehicleID     RecordedAtTime                                      \n",
       "MTA NYCT_FB_B6-Weekday-SDon-043400_B41_16 MTA NYCT_4587 2016-05-25T07:26:40.000-04:00             at stop   \n",
       "                                                        2016-05-25T07:27:11.000-04:00         approaching   \n",
       "                                                        2016-05-25T07:27:42.000-04:00         approaching   \n",
       "                                                        2016-05-25T07:28:14.000-04:00             at stop   \n",
       "                                                        2016-05-25T07:28:45.000-04:00       < 1 stop away   \n",
       "\n",
       "                                                                                                   ResponseTimeStamp  \n",
       "Trip                                      vehicleID     RecordedAtTime                                                \n",
       "MTA NYCT_FB_B6-Weekday-SDon-043400_B41_16 MTA NYCT_4587 2016-05-25T07:26:40.000-04:00  2016-05-25T07:27:12.126-04:00  \n",
       "                                                        2016-05-25T07:27:11.000-04:00  2016-05-25T07:27:42.111-04:00  \n",
       "                                                        2016-05-25T07:27:42.000-04:00  2016-05-25T07:28:12.158-04:00  \n",
       "                                                        2016-05-25T07:28:14.000-04:00  2016-05-25T07:28:42.133-04:00  \n",
       "                                                        2016-05-25T07:28:45.000-04:00  2016-05-25T07:29:12.128-04:00  "
      ]
     },
     "execution_count": 65,
     "metadata": {},
     "output_type": "execute_result"
    }
   ],
   "source": [
    "avl_data.head()"
   ]
  },
  {
   "cell_type": "code",
   "execution_count": 54,
   "metadata": {
    "collapsed": false
   },
   "outputs": [],
   "source": [
    "#n = len(avl_data.index)\n",
    "pattern = '%Y-%m-%dT%H:%M:%S'\n",
    "inter_stops = pd.DataFrame([],columns = [\"DistAlongRoute\",\"TimeStamp\"])\n",
    "inter_stops['DistAlongRoute'] = avl_data.CallDistAlongRoute - avl_data.DistFromCall\n",
    "inter_stops['TimeStamp'] = avl_data.index.get_level_values('RecordedAtTime')\n",
    "inter_stops['TimeStamp'] = inter_stops['TimeStamp'].apply(lambda x: int(time.mktime(time.strptime(x[:-10], pattern))))\n",
    "inter_stops = inter_stops.reset_index()"
   ]
  },
  {
   "cell_type": "code",
   "execution_count": 58,
   "metadata": {
    "collapsed": false
   },
   "outputs": [
    {
     "data": {
      "text/plain": [
       "<matplotlib.collections.PathCollection at 0x7f56d44a6bd0>"
      ]
     },
     "execution_count": 58,
     "metadata": {},
     "output_type": "execute_result"
    },
    {
     "name": "stderr",
     "output_type": "stream",
     "text": [
      "/opt/rh/anaconda/root/lib/python2.7/site-packages/matplotlib/collections.py:590: FutureWarning: elementwise comparison failed; returning scalar instead, but in the future will perform elementwise comparison\n",
      "  if self._edgecolors == str('face'):\n"
     ]
    },
    {
     "data": {
      "image/png": "[encoded data removed]",
      "text/plain": [
       "<matplotlib.figure.Figure at 0x7f56d449b090>"
      ]
     },
     "metadata": {},
     "output_type": "display_data"
    }
   ],
   "source": [
    "plt.scatter(inter_stops.TimeStamp,inter_stops.DistAlongRoute)"
   ]
  },
  {
   "cell_type": "code",
   "execution_count": 66,
   "metadata": {
    "collapsed": false
   },
   "outputs": [],
   "source": [
    "trip_id = \"FB_B6-Weekday-SDon-043400_B41_16\"\n",
    "pattern = '%Y-%m-%dT%H:%M:%S'\n",
    "stops_ex = list(pd.unique(avl_data.MonitoredCallRef))\n",
    "distance_stops = list(pd.unique(avl_data.CallDistAlongRoute))"
   ]
  },
  {
   "cell_type": "code",
   "execution_count": 67,
   "metadata": {
    "collapsed": false
   },
   "outputs": [],
   "source": [
    "import matplotlib.pyplot as plt\n",
    "from scipy import interpolate"
   ]
  },
  {
   "cell_type": "code",
   "execution_count": 70,
   "metadata": {
    "collapsed": false
   },
   "outputs": [
    {
     "data": {
      "text/plain": [
       "[<matplotlib.lines.Line2D at 0x7f563fafca10>,\n",
       " <matplotlib.lines.Line2D at 0x7f563fafcc90>]"
      ]
     },
     "execution_count": 70,
     "metadata": {},
     "output_type": "execute_result"
    },
    {
     "data": {
      "image/png": "[encoded data removed]",
      "text/plain": [
       "<matplotlib.figure.Figure at 0x7f563fbb5c50>"
      ]
     },
     "metadata": {},
     "output_type": "display_data"
    }
   ],
   "source": [
    "x = inter_stops.DistAlongRoute\n",
    "y = inter_stops.TimeStamp\n",
    "f = interpolate.interp1d(x,y)\n",
    "xnew = distance_stops\n",
    "ynew = f(xnew)   # use interpolation function returned by `interp1d`\n",
    "plt.plot(x, y, '*', xnew, ynew, '-')"
   ]
  }
 ],
 "metadata": {
  "kernelspec": {
   "display_name": "Python 2",
   "language": "python",
   "name": "python2"
  },
  "language_info": {
   "codemirror_mode": {
    "name": "ipython",
    "version": 2
   },
   "file_extension": ".py",
   "mimetype": "text/x-python",
   "name": "python",
   "nbconvert_exporter": "python",
   "pygments_lexer": "ipython2",
   "version": "2.7.11"
  }
 },
 "nbformat": 4,
 "nbformat_minor": 0
}
