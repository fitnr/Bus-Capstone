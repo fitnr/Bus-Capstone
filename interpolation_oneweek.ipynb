{
 "cells": [
  {
   "cell_type": "code",
   "execution_count": 1,
   "metadata": {
    "collapsed": false
   },
   "outputs": [],
   "source": [
    "# -*- coding: utf-8 -*-\n",
    "\"\"\"\n",
    "The script demonstrates the performance of an interpolation algorithm when applied to a large dataset.\n",
    "\"\"\"\n",
    "\n",
    "import os\n",
    "import pandas as pd\n",
    "import matplotlib.pyplot as plt\n",
    "from scipy import interpolate\n",
    "from itertools import compress\n",
    "import time\n",
    "%matplotlib inline  \n",
    "#import sys\n",
    "#sys.path.append('/gpfs2/projects/project-bus_capstone_2016/workspace/mu529/Bus-Capstone')\n",
    "\n",
    "# these two modules are homemade\n",
    "import gtfs\n",
    "import arrivals\n",
    "import time\n",
    "import ttools\n",
    "import seqtools\n",
    "os.chdir('/gpfs2/projects/project-bus_capstone_2016/workspace/share')"
   ]
  },
  {
   "cell_type": "markdown",
   "metadata": {},
   "source": [
    "### Previous versions of the interpolation function. (final version is below)"
   ]
  },
  {
   "cell_type": "markdown",
   "metadata": {},
   "source": [
    "### Current working version of interpolation function.\n",
    "Takes several lists as inputs, which can be stored together as a dataframe row (merged_row).\n",
    "\n",
    "merged_row.shape_stop_dist is a list of distances of *all* stops from the schedule on that shape.<p>\n",
    "mergedrow.shape_stop_id is a list of stop_id labels for those stops<p>"
   ]
  },
  {
   "cell_type": "code",
   "execution_count": 46,
   "metadata": {
    "collapsed": true
   },
   "outputs": [],
   "source": [
    "# for iteration over dataframe rows (each row is a collection of lists of necessary data)\n",
    "def interpolate_stops5(merged_row,tol=100):\n",
    "    distance_stops = merged_row.shape_stop_dist\n",
    "    # if the returned object is not a list, it does not contain any information, so there is nothing to interpolate.\n",
    "    if type(distance_stops) != list:\n",
    "        return [[]]\n",
    "    # if there are fewer than 2 pings, no interpolation is possible\n",
    "    if len(merged_row.recorded_time)<2:\n",
    "        return [[]]    \n",
    "    # assemble the ping data as a pandas Series, for convenient use of dropna() method\n",
    "    list1, list2 = zip(*sorted(zip(merged_row.recorded_time,merged_row.veh_dist_along_shape)))\n",
    "    veh_pings = pd.Series(index=list1,data=list2)\n",
    "    veh_pings = veh_pings.dropna()\n",
    "    # pings must be cleaned for cases when the vehicle \"moves backwards\" along the route.\n",
    "    # this may occur when the vehicle is actually finishing another trip, or returning to the first stop\n",
    "    # the proposed method is to identify the the largest monotonic increasing subsequence\n",
    "    first, last = seqtools.longest_inc_range(veh_pings.values,tolerance=tol)\n",
    "    if len(veh_pings) == 0:\n",
    "        return [[]]\n",
    "    valid_pings = veh_pings.iloc[first:last]\n",
    "    if len(valid_pings)<2:\n",
    "        return [[]]\n",
    "    # finally, perform the interpolation with the cleaned data\n",
    "    x = valid_pings.values\n",
    "    y = valid_pings.index.values\n",
    "    f = interpolate.interp1d(x,y)\n",
    "    xnew = distance_stops\n",
    "    masker = (xnew > min(x)) & (xnew < max(x))\n",
    "    xnew = list(compress(xnew,masker))\n",
    "    # return the estimated times (as timedelta dtype) and the stop labels\n",
    "    interp_times = pd.to_timedelta(f(xnew),unit='ns')\n",
    "    return [list(compress(merged_row.shape_stop_id,masker)),interp_times]"
   ]
  },
  {
   "cell_type": "markdown",
   "metadata": {},
   "source": [
    "## Now try it on a WHOLE WEEK of data..."
   ]
  },
  {
   "cell_type": "code",
   "execution_count": 3,
   "metadata": {
    "collapsed": true
   },
   "outputs": [],
   "source": [
    "# get the sample of parsed AVL data.  Beware, large files take more time.\n",
    "bustime = pd.read_csv('dec2015_extract_cleaned.csv')"
   ]
  },
  {
   "cell_type": "code",
   "execution_count": 5,
   "metadata": {
    "collapsed": false
   },
   "outputs": [
    {
     "data": {
      "text/html": [
       "<div style=\"max-height:1000px;max-width:1500px;overflow:auto;\">\n",
       "<table border=\"1\" class=\"dataframe\">\n",
       "  <thead>\n",
       "    <tr style=\"text-align: right;\">\n",
       "      <th></th>\n",
       "      <th>ROUTE_ID</th>\n",
       "      <th>latitude</th>\n",
       "      <th>longitude</th>\n",
       "      <th>recorded_time</th>\n",
       "      <th>vehicle_id</th>\n",
       "      <th>TRIP_ID</th>\n",
       "      <th>trip_date</th>\n",
       "      <th>SHAPE_ID</th>\n",
       "      <th>STOP_ID</th>\n",
       "      <th>distance_stop</th>\n",
       "      <th>distance_shape</th>\n",
       "      <th>status</th>\n",
       "      <th>destination</th>\n",
       "    </tr>\n",
       "  </thead>\n",
       "  <tbody>\n",
       "    <tr>\n",
       "      <th>0</th>\n",
       "      <td>Q66</td>\n",
       "      <td>40.759376</td>\n",
       "      <td>-73.830754</td>\n",
       "      <td>2015-11-30T23:41:52.000</td>\n",
       "      <td>211</td>\n",
       "      <td>9866275-CPPD5-CP_D5-Weekday-10-SDon</td>\n",
       "      <td>2015-12-01</td>\n",
       "      <td>Q660138</td>\n",
       "      <td>503845</td>\n",
       "      <td>0.01</td>\n",
       "      <td>0.01</td>\n",
       "      <td>at stop</td>\n",
       "      <td>505066</td>\n",
       "    </tr>\n",
       "    <tr>\n",
       "      <th>1</th>\n",
       "      <td>Q66</td>\n",
       "      <td>40.759376</td>\n",
       "      <td>-73.830754</td>\n",
       "      <td>2015-11-30T23:42:54.000</td>\n",
       "      <td>211</td>\n",
       "      <td>9866275-CPPD5-CP_D5-Weekday-10-SDon</td>\n",
       "      <td>2015-12-01</td>\n",
       "      <td>Q660138</td>\n",
       "      <td>503845</td>\n",
       "      <td>0.01</td>\n",
       "      <td>0.01</td>\n",
       "      <td>at stop</td>\n",
       "      <td>505066</td>\n",
       "    </tr>\n",
       "    <tr>\n",
       "      <th>2</th>\n",
       "      <td>Q66</td>\n",
       "      <td>40.759376</td>\n",
       "      <td>-73.830754</td>\n",
       "      <td>2015-11-30T23:44:30.000</td>\n",
       "      <td>211</td>\n",
       "      <td>9866275-CPPD5-CP_D5-Weekday-10-SDon</td>\n",
       "      <td>2015-12-01</td>\n",
       "      <td>Q660138</td>\n",
       "      <td>503845</td>\n",
       "      <td>0.01</td>\n",
       "      <td>0.01</td>\n",
       "      <td>at stop</td>\n",
       "      <td>505066</td>\n",
       "    </tr>\n",
       "    <tr>\n",
       "      <th>3</th>\n",
       "      <td>Q66</td>\n",
       "      <td>40.759376</td>\n",
       "      <td>-73.830754</td>\n",
       "      <td>2015-11-30T23:45:33.000</td>\n",
       "      <td>211</td>\n",
       "      <td>9866275-CPPD5-CP_D5-Weekday-10-SDon</td>\n",
       "      <td>2015-12-01</td>\n",
       "      <td>Q660138</td>\n",
       "      <td>503845</td>\n",
       "      <td>0.01</td>\n",
       "      <td>0.01</td>\n",
       "      <td>at stop</td>\n",
       "      <td>505066</td>\n",
       "    </tr>\n",
       "    <tr>\n",
       "      <th>4</th>\n",
       "      <td>Q66</td>\n",
       "      <td>40.759376</td>\n",
       "      <td>-73.830754</td>\n",
       "      <td>2015-11-30T23:46:36.000</td>\n",
       "      <td>211</td>\n",
       "      <td>9866275-CPPD5-CP_D5-Weekday-10-SDon</td>\n",
       "      <td>2015-12-01</td>\n",
       "      <td>Q660138</td>\n",
       "      <td>503845</td>\n",
       "      <td>0.01</td>\n",
       "      <td>0.01</td>\n",
       "      <td>at stop</td>\n",
       "      <td>505066</td>\n",
       "    </tr>\n",
       "  </tbody>\n",
       "</table>\n",
       "</div>"
      ],
      "text/plain": [
       "  ROUTE_ID   latitude  longitude            recorded_time  vehicle_id  \\\n",
       "0      Q66  40.759376 -73.830754  2015-11-30T23:41:52.000         211   \n",
       "1      Q66  40.759376 -73.830754  2015-11-30T23:42:54.000         211   \n",
       "2      Q66  40.759376 -73.830754  2015-11-30T23:44:30.000         211   \n",
       "3      Q66  40.759376 -73.830754  2015-11-30T23:45:33.000         211   \n",
       "4      Q66  40.759376 -73.830754  2015-11-30T23:46:36.000         211   \n",
       "\n",
       "                               TRIP_ID   trip_date SHAPE_ID  STOP_ID  \\\n",
       "0  9866275-CPPD5-CP_D5-Weekday-10-SDon  2015-12-01  Q660138   503845   \n",
       "1  9866275-CPPD5-CP_D5-Weekday-10-SDon  2015-12-01  Q660138   503845   \n",
       "2  9866275-CPPD5-CP_D5-Weekday-10-SDon  2015-12-01  Q660138   503845   \n",
       "3  9866275-CPPD5-CP_D5-Weekday-10-SDon  2015-12-01  Q660138   503845   \n",
       "4  9866275-CPPD5-CP_D5-Weekday-10-SDon  2015-12-01  Q660138   503845   \n",
       "\n",
       "   distance_stop  distance_shape   status  destination  \n",
       "0           0.01            0.01  at stop       505066  \n",
       "1           0.01            0.01  at stop       505066  \n",
       "2           0.01            0.01  at stop       505066  \n",
       "3           0.01            0.01  at stop       505066  \n",
       "4           0.01            0.01  at stop       505066  "
      ]
     },
     "execution_count": 5,
     "metadata": {},
     "output_type": "execute_result"
    }
   ],
   "source": [
    "bustime.head()"
   ]
  },
  {
   "cell_type": "markdown",
   "metadata": {},
   "source": [
    "#### Additional cleaning steps\n",
    "Remove prefixes from trip and shape labels.  (GTFS data does not use the prefix).  Distance values need to be numeric, not string."
   ]
  },
  {
   "cell_type": "code",
   "execution_count": null,
   "metadata": {
    "collapsed": true
   },
   "outputs": [],
   "source": [
    "# beware!  Bonan is still working on organizing the extract files.  these columns may change.\n",
    "\n",
    "bustime.drop_duplicates(['vehicle_id','recorded_time'],inplace=True)\n",
    "#bustime['trip_id'] = bustime['trip_id'].str.replace('MTA NYCT_','')\n",
    "#bustime['trip_id'] = bustime['trip_id'].str.replace('MTABC_','')\n",
    "#bustime['shape_id'] = bustime['shape_id'].str.replace('MTA_','')\n",
    "\n",
    "bustime.set_index(['ROUTE_ID','TRIP_ID','trip_date','vehicle_id'],inplace=True,drop=True)\n",
    "bustime.set_index('recorded_time',append=True,drop=False,inplace=True)\n",
    "\n",
    "# for demonstration, use a subset. Just get data one day.\n",
    "#tripDateLookup = \"2015-12-03\"\n",
    "#bustime = bustime.xs((tripDateLookup),level=(2),drop_level=False)\n",
    "# note that the AVL dataframe must be sorted by timestammp, since iloc[]\n",
    "# selection is used later in this script to find the earliest time\n",
    "bustime.sort_index(inplace=True)"
   ]
  },
  {
   "cell_type": "code",
   "execution_count": 7,
   "metadata": {
    "collapsed": false
   },
   "outputs": [
    {
     "name": "stdout",
     "output_type": "stream",
     "text": [
      "Finished loading BusTime data, parsing timestamps, and slicing ONE DAY.\n"
     ]
    }
   ],
   "source": [
    "bustime['distance_shape'] = bustime['distance_shape'].convert_objects(convert_numeric=True)\n",
    "bustime['distance_stop'] = bustime['distance_stop'].convert_objects(convert_numeric=True)\n",
    "# add calculated column for distance along shape\n",
    "bustime['veh_dist_along_shape'] = bustime['distance_shape'] - bustime['distance_stop']\n",
    "\n",
    "print 'Finished loading BusTime data, parsing timestamps, and slicing ONE DAY.'"
   ]
  },
  {
   "cell_type": "code",
   "execution_count": 28,
   "metadata": {
    "collapsed": false,
    "scrolled": true
   },
   "outputs": [],
   "source": [
    "for name, group in bustime.groupby(level=2):\n",
    "    bustime.loc[(slice(None),slice(None),name),'recorded_time'] = group['recorded_time'].apply(ttools.parseActualTime,tdate=name)"
   ]
  },
  {
   "cell_type": "code",
   "execution_count": 29,
   "metadata": {
    "collapsed": false
   },
   "outputs": [
    {
     "data": {
      "text/plain": [
       "ROUTE_ID  TRIP_ID                           trip_date   vehicle_id  recorded_time          \n",
       "B1        FB_D5-Weekday-SDon-047200_B49_15  2015-12-03  5125        2015-12-03T07:59:24.000    28764000000000\n",
       "                                                                    2015-12-03T08:02:35.000    28955000000000\n",
       "                                                                    2015-12-03T08:04:11.000    29051000000000\n",
       "                                                                    2015-12-03T08:06:18.000    29178000000000\n",
       "          FB_D5-Weekday-SDon-051000_B49_15  2015-12-03  4855        2015-12-03T08:52:39.000    31959000000000\n",
       "Name: recorded_time, dtype: object"
      ]
     },
     "execution_count": 29,
     "metadata": {},
     "output_type": "execute_result"
    }
   ],
   "source": [
    "bustime.loc[(slice(None),slice(None),'2015-12-03'),'recorded_time'].head()"
   ]
  },
  {
   "cell_type": "code",
   "execution_count": 35,
   "metadata": {
    "collapsed": false
   },
   "outputs": [
    {
     "data": {
      "text/plain": [
       "172797000000000L"
      ]
     },
     "execution_count": 35,
     "metadata": {},
     "output_type": "execute_result"
    }
   ],
   "source": [
    "bustime.recorded_time.max()"
   ]
  },
  {
   "cell_type": "markdown",
   "metadata": {},
   "source": [
    "#### Create a separate dataframe containing the distances of ALL stops along each shape.\n",
    "Although GTFS is the official source for all stop information, Bus Time has the distances calculated already according to the shape.  The problem is the records from each trip may not contain information about all the stops (for example, when some are skipped).  Using a large enough sample should resolve that problem."
   ]
  },
  {
   "cell_type": "code",
   "execution_count": 37,
   "metadata": {
    "collapsed": false
   },
   "outputs": [
    {
     "name": "stdout",
     "output_type": "stream",
     "text": [
      "Finished creating stop-distances reference dataframe.\n"
     ]
    }
   ],
   "source": [
    "bustime_distances = bustime.drop(['recorded_time'],axis=1,inplace=False)\n",
    "bustime_distances = bustime_distances.reset_index().drop(['ROUTE_ID','TRIP_ID','trip_date','vehicle_id','recorded_time',\n",
    "                                                'latitude','longitude','distance_stop','status','destination',\n",
    "                                                'veh_dist_along_shape'],axis=1,inplace=False)\n",
    "\n",
    "stop_distances = bustime_distances.drop_duplicates(['SHAPE_ID','STOP_ID','distance_shape'])\n",
    "stop_distances = stop_distances.query('distance_shape > 0.1')\n",
    "\n",
    "# stop_distances.next_stop_id = stop_distances.next_stop_id.str.replace('MTA_','')\n",
    "\n",
    "stop_distances = stop_distances.sort(['SHAPE_ID','distance_shape']).reset_index(drop=True)\n",
    "\n",
    "print 'Finished creating stop-distances reference dataframe.'"
   ]
  },
  {
   "cell_type": "markdown",
   "metadata": {},
   "source": [
    "## Organization of Bus Time data\n",
    "A trip is identified as the grouping of records for each route, trip date, trip_id **and** vehicle_id.  Both are required because sometimes trip_id labels are \"recycled\" during the day and used by two different vehicles serving the route."
   ]
  },
  {
   "cell_type": "code",
   "execution_count": 38,
   "metadata": {
    "collapsed": false
   },
   "outputs": [],
   "source": [
    "# make a copy\n",
    "avl_data2 = bustime"
   ]
  },
  {
   "cell_type": "code",
   "execution_count": 39,
   "metadata": {
    "collapsed": true
   },
   "outputs": [],
   "source": [
    "gb = avl_data2.groupby(level=(0,1,2,3))"
   ]
  },
  {
   "cell_type": "markdown",
   "metadata": {},
   "source": [
    "For each **trip data group**, take the reported shape_id (single value), which will be used next to get the information about all stops along that shape.<p>\n",
    "From each group, take the necessary data in list form:\n",
    "<ol>\n",
    "<li>time stamps of all the pings</li>\n",
    "<li>vehicle distances for thosee pings (note: Python list ordering is persistent, so the two lists can be kept separate)</li></ol>"
   ]
  },
  {
   "cell_type": "code",
   "execution_count": 40,
   "metadata": {
    "collapsed": true
   },
   "outputs": [],
   "source": [
    "shape_ids = gb['SHAPE_ID'].agg(lambda x:x.value_counts().index[0])\n",
    "reported_timestamps = gb['recorded_time'].apply(list)\n",
    "reported_dists = gb['veh_dist_along_shape'].apply(list)"
   ]
  },
  {
   "cell_type": "code",
   "execution_count": 41,
   "metadata": {
    "collapsed": true
   },
   "outputs": [],
   "source": [
    "del bustime"
   ]
  },
  {
   "cell_type": "markdown",
   "metadata": {},
   "source": [
    "... and also take the necessary data (in list form) from each **shape**:\n",
    "<ol start=\"3\">\n",
    "<li>labels of all the stops along that shape, from the separate dataframe of stop distances</li>\n",
    "<li>the distances of all those stops</li><ol>\n",
    "<br>Also, rename the objects for clarity.  And then merge together."
   ]
  },
  {
   "cell_type": "code",
   "execution_count": 43,
   "metadata": {
    "collapsed": false
   },
   "outputs": [],
   "source": [
    "all_stops = stop_distances.groupby('SHAPE_ID')['STOP_ID'].apply(list)\n",
    "all_dists = stop_distances.groupby('SHAPE_ID')['distance_shape'].apply(list)\n",
    "all_dists.name = 'shape_stop_dist'\n",
    "all_stops.name = 'shape_stop_id'\n",
    "all_stop_dists = pd.DataFrame(shape_ids).merge(pd.DataFrame(all_dists),left_on='SHAPE_ID',right_index=True).merge(pd.DataFrame(all_stops),left_on='SHAPE_ID',right_index=True)"
   ]
  },
  {
   "cell_type": "markdown",
   "metadata": {},
   "source": [
    "## Two approaches for consolidated the data.\n",
    "Approach 1: merge everything into a dataframe"
   ]
  },
  {
   "cell_type": "code",
   "execution_count": 44,
   "metadata": {
    "collapsed": false
   },
   "outputs": [
    {
     "name": "stdout",
     "output_type": "stream",
     "text": [
      "Processing time:\n",
      "10.4703299999\n"
     ]
    }
   ],
   "source": [
    "starttime = time.time()\n",
    "avl_merged = pd.concat([all_stop_dists,reported_timestamps,reported_dists],axis=1)\n",
    "print 'Processing time:'\n",
    "print time.time() - starttime"
   ]
  },
  {
   "cell_type": "code",
   "execution_count": 45,
   "metadata": {
    "collapsed": false
   },
   "outputs": [
    {
     "data": {
      "text/html": [
       "<div style=\"max-height:1000px;max-width:1500px;overflow:auto;\">\n",
       "<table border=\"1\" class=\"dataframe\">\n",
       "  <thead>\n",
       "    <tr style=\"text-align: right;\">\n",
       "      <th></th>\n",
       "      <th></th>\n",
       "      <th></th>\n",
       "      <th></th>\n",
       "      <th>SHAPE_ID</th>\n",
       "      <th>shape_stop_dist</th>\n",
       "      <th>shape_stop_id</th>\n",
       "      <th>recorded_time</th>\n",
       "      <th>veh_dist_along_shape</th>\n",
       "    </tr>\n",
       "    <tr>\n",
       "      <th>ROUTE_ID</th>\n",
       "      <th>TRIP_ID</th>\n",
       "      <th>trip_date</th>\n",
       "      <th>vehicle_id</th>\n",
       "      <th></th>\n",
       "      <th></th>\n",
       "      <th></th>\n",
       "      <th></th>\n",
       "      <th></th>\n",
       "    </tr>\n",
       "  </thead>\n",
       "  <tbody>\n",
       "    <tr>\n",
       "      <th rowspan=\"25\" valign=\"top\">B1</th>\n",
       "      <th rowspan=\"4\" valign=\"top\">FB_D5-Weekday-SDon-044500_B49_21</th>\n",
       "      <th>2015-12-01</th>\n",
       "      <th>5051</th>\n",
       "      <td>B1O0254</td>\n",
       "      <td>[0.27, 146.45, 343.65, 508.5, 682.49, 896.49, ...</td>\n",
       "      <td>[305775, 300123, 300124, 308045, 300126, 30012...</td>\n",
       "      <td>[26740000000000, 26867000000000, 2702600000000...</td>\n",
       "      <td>[6.92, 468.59, 484.21, 1057.67, 1920.63]</td>\n",
       "    </tr>\n",
       "    <tr>\n",
       "      <th>2015-12-02</th>\n",
       "      <th>4966</th>\n",
       "      <td>B1O0254</td>\n",
       "      <td>[0.27, 146.45, 343.65, 508.5, 682.49, 896.49, ...</td>\n",
       "      <td>[305775, 300123, 300124, 308045, 300126, 30012...</td>\n",
       "      <td>[26921000000000, 27079000000000, 27207000000000]</td>\n",
       "      <td>[8.58, 477.26, 676.88]</td>\n",
       "    </tr>\n",
       "    <tr>\n",
       "      <th>2015-12-04</th>\n",
       "      <th>4626</th>\n",
       "      <td>B1O0254</td>\n",
       "      <td>[0.27, 146.45, 343.65, 508.5, 682.49, 896.49, ...</td>\n",
       "      <td>[305775, 300123, 300124, 308045, 300126, 30012...</td>\n",
       "      <td>[27295000000000, 27455000000000, 27550000000000]</td>\n",
       "      <td>[282.98, 615.14, 1016.07]</td>\n",
       "    </tr>\n",
       "    <tr>\n",
       "      <th>2015-12-07</th>\n",
       "      <th>4586</th>\n",
       "      <td>B1O0254</td>\n",
       "      <td>[0.27, 146.45, 343.65, 508.5, 682.49, 896.49, ...</td>\n",
       "      <td>[305775, 300123, 300124, 308045, 300126, 30012...</td>\n",
       "      <td>[27006000000000, 27165000000000, 2729400000000...</td>\n",
       "      <td>[335.22, 1016.07, 1897.46, 2203.18]</td>\n",
       "    </tr>\n",
       "    <tr>\n",
       "      <th rowspan=\"5\" valign=\"top\">FB_D5-Weekday-SDon-047200_B49_15</th>\n",
       "      <th>2015-12-01</th>\n",
       "      <th>4591</th>\n",
       "      <td>B1O0254</td>\n",
       "      <td>[0.27, 146.45, 343.65, 508.5, 682.49, 896.49, ...</td>\n",
       "      <td>[305775, 300123, 300124, 308045, 300126, 30012...</td>\n",
       "      <td>[28331000000000, 28805000000000, 2893400000000...</td>\n",
       "      <td>[25.19, 301.51, 466.85, 609.53, 1181.91, 1897.46]</td>\n",
       "    </tr>\n",
       "    <tr>\n",
       "      <th>2015-12-02</th>\n",
       "      <th>7359</th>\n",
       "      <td>B1O0254</td>\n",
       "      <td>[0.27, 146.45, 343.65, 508.5, 682.49, 896.49, ...</td>\n",
       "      <td>[305775, 300123, 300124, 308045, 300126, 30012...</td>\n",
       "      <td>[28783000000000, 28909000000000, 2903500000000...</td>\n",
       "      <td>[475.53, 699.84, 1240.22, 1944.15]</td>\n",
       "    </tr>\n",
       "    <tr>\n",
       "      <th>2015-12-03</th>\n",
       "      <th>5125</th>\n",
       "      <td>B1O0254</td>\n",
       "      <td>[0.27, 146.45, 343.65, 508.5, 682.49, 896.49, ...</td>\n",
       "      <td>[305775, 300123, 300124, 308045, 300126, 30012...</td>\n",
       "      <td>[28764000000000, 28955000000000, 2905100000000...</td>\n",
       "      <td>[331.85, 463.38, 559.01, 1546.4]</td>\n",
       "    </tr>\n",
       "    <tr>\n",
       "      <th>2015-12-04</th>\n",
       "      <th>4232</th>\n",
       "      <td>B1O0254</td>\n",
       "      <td>[0.27, 146.45, 343.65, 508.5, 682.49, 896.49, ...</td>\n",
       "      <td>[305775, 300123, 300124, 308045, 300126, 30012...</td>\n",
       "      <td>[28028000000000, 28184000000000, 2833800000000...</td>\n",
       "      <td>[94.96, 94.96, 94.96, 45.12, 331.85, 501.56, 1...</td>\n",
       "    </tr>\n",
       "    <tr>\n",
       "      <th>2015-12-07</th>\n",
       "      <th>7306</th>\n",
       "      <td>B1O0254</td>\n",
       "      <td>[0.27, 146.45, 343.65, 508.5, 682.49, 896.49, ...</td>\n",
       "      <td>[305775, 300123, 300124, 308045, 300126, 30012...</td>\n",
       "      <td>[29082000000000, 29242000000000, 2936900000000...</td>\n",
       "      <td>[234.1, 479.0, 769.25, 1510.59]</td>\n",
       "    </tr>\n",
       "    <tr>\n",
       "      <th rowspan=\"4\" valign=\"top\">FB_D5-Weekday-SDon-047300_B49_21</th>\n",
       "      <th>2015-12-01</th>\n",
       "      <th>5051</th>\n",
       "      <td>B1O0254</td>\n",
       "      <td>[0.27, 146.45, 343.65, 508.5, 682.49, 896.49, ...</td>\n",
       "      <td>[305775, 300123, 300124, 308045, 300126, 30012...</td>\n",
       "      <td>[28495000000000, 28622000000000, 2881000000000...</td>\n",
       "      <td>[103.26, 318.37, 468.59, 734.55, 1546.4, 1909.04]</td>\n",
       "    </tr>\n",
       "    <tr>\n",
       "      <th>2015-12-02</th>\n",
       "      <th>4966</th>\n",
       "      <td>B1O0254</td>\n",
       "      <td>[0.27, 146.45, 343.65, 508.5, 682.49, 896.49, ...</td>\n",
       "      <td>[305775, 300123, 300124, 308045, 300126, 30012...</td>\n",
       "      <td>[28786000000000, 28912000000000, 29039000000000]</td>\n",
       "      <td>[479.0, 671.26, 1251.88]</td>\n",
       "    </tr>\n",
       "    <tr>\n",
       "      <th>2015-12-04</th>\n",
       "      <th>4626</th>\n",
       "      <td>B1O0254</td>\n",
       "      <td>[0.27, 146.45, 343.65, 508.5, 682.49, 896.49, ...</td>\n",
       "      <td>[305775, 300123, 300124, 308045, 300126, 30012...</td>\n",
       "      <td>[28628000000000, 28787000000000, 2894700000000...</td>\n",
       "      <td>[165.0, 475.53, 803.95, 1459.44]</td>\n",
       "    </tr>\n",
       "    <tr>\n",
       "      <th>2015-12-07</th>\n",
       "      <th>4586</th>\n",
       "      <td>B1O0254</td>\n",
       "      <td>[0.27, 146.45, 343.65, 508.5, 682.49, 896.49, ...</td>\n",
       "      <td>[305775, 300123, 300124, 308045, 300126, 30012...</td>\n",
       "      <td>[28592000000000, 28783000000000, 28910000000000]</td>\n",
       "      <td>[330.17, 494.62, 1339.35]</td>\n",
       "    </tr>\n",
       "    <tr>\n",
       "      <th rowspan=\"7\" valign=\"top\">FB_D5-Weekday-SDon-051000_B49_15</th>\n",
       "      <th>2015-12-01</th>\n",
       "      <th>4591</th>\n",
       "      <td>B1O0256</td>\n",
       "      <td>[200.62, 530.31, 697.01, 895.26, 1248.41, 1480...</td>\n",
       "      <td>[300107, 300109, 300110, 300111, 307132, 30011...</td>\n",
       "      <td>[30816000000000, 30976000000000, 3107200000000...</td>\n",
       "      <td>[191.77, 904.16, 1233.57, 1635.07, 1957.3, 259...</td>\n",
       "    </tr>\n",
       "    <tr>\n",
       "      <th>2015-12-02</th>\n",
       "      <th>7359</th>\n",
       "      <td>B1O0256</td>\n",
       "      <td>[200.62, 530.31, 697.01, 895.26, 1248.41, 1480...</td>\n",
       "      <td>[300107, 300109, 300110, 300111, 307132, 30011...</td>\n",
       "      <td>[30917000000000, 31041000000000, 3116700000000...</td>\n",
       "      <td>[398.43, 667.76, 1192.02, 1833.61, 1923.21, 26...</td>\n",
       "    </tr>\n",
       "    <tr>\n",
       "      <th rowspan=\"3\" valign=\"top\">2015-12-03</th>\n",
       "      <th>4855</th>\n",
       "      <td>B1O0256</td>\n",
       "      <td>[200.62, 530.31, 697.01, 895.26, 1248.41, 1480...</td>\n",
       "      <td>[300107, 300109, 300110, 300111, 307132, 30011...</td>\n",
       "      <td>[31959000000000]</td>\n",
       "      <td>[3707.69]</td>\n",
       "    </tr>\n",
       "    <tr>\n",
       "      <th>5125</th>\n",
       "      <td>B1O0256</td>\n",
       "      <td>[200.62, 530.31, 697.01, 895.26, 1248.41, 1480...</td>\n",
       "      <td>[300107, 300109, 300110, 300111, 307132, 30011...</td>\n",
       "      <td>[31075000000000, 31201000000000, 3132900000000...</td>\n",
       "      <td>[449.39, 1126.74, 1221.7, 1514.36, 2447.31, 26...</td>\n",
       "    </tr>\n",
       "    <tr>\n",
       "      <th>7146</th>\n",
       "      <td>B1O0256</td>\n",
       "      <td>[200.62, 530.31, 697.01, 895.26, 1248.41, 1480...</td>\n",
       "      <td>[300107, 300109, 300110, 300111, 307132, 30011...</td>\n",
       "      <td>[30838000000000, 31092000000000]</td>\n",
       "      <td>[796.14, 1230.6]</td>\n",
       "    </tr>\n",
       "    <tr>\n",
       "      <th>2015-12-04</th>\n",
       "      <th>4232</th>\n",
       "      <td>B1O0256</td>\n",
       "      <td>[200.62, 530.31, 697.01, 895.26, 1248.41, 1480...</td>\n",
       "      <td>[300107, 300109, 300110, 300111, 307132, 30011...</td>\n",
       "      <td>[31125000000000, 31219000000000, 3131400000000...</td>\n",
       "      <td>[335.49, 987.26, 1233.57, 1790.32, 2608.58, 30...</td>\n",
       "    </tr>\n",
       "    <tr>\n",
       "      <th>2015-12-07</th>\n",
       "      <th>7306</th>\n",
       "      <td>B1O0256</td>\n",
       "      <td>[200.62, 530.31, 697.01, 895.26, 1248.41, 1480...</td>\n",
       "      <td>[300107, 300109, 300110, 300111, 307132, 30011...</td>\n",
       "      <td>[31121000000000, 31280000000000, 3144000000000...</td>\n",
       "      <td>[335.49, 760.09, 1257.69, 1647.45, 2679.91, 31...</td>\n",
       "    </tr>\n",
       "    <tr>\n",
       "      <th rowspan=\"5\" valign=\"top\">FB_D5-Weekday-SDon-051200_B49_21</th>\n",
       "      <th rowspan=\"2\" valign=\"top\">2015-12-01</th>\n",
       "      <th>5051</th>\n",
       "      <td>B1O0256</td>\n",
       "      <td>[200.62, 530.31, 697.01, 895.26, 1248.41, 1480...</td>\n",
       "      <td>[300107, 300109, 300110, 300111, 307132, 30011...</td>\n",
       "      <td>[30813000000000, 30973000000000, 3106800000000...</td>\n",
       "      <td>[35.47, 667.76, 1141.57, 1236.54, 1616.5, 2279...</td>\n",
       "    </tr>\n",
       "    <tr>\n",
       "      <th>5105</th>\n",
       "      <td>B1O0256</td>\n",
       "      <td>[200.62, 530.31, 697.01, 895.26, 1248.41, 1480...</td>\n",
       "      <td>[300107, 300109, 300110, 300111, 307132, 30011...</td>\n",
       "      <td>[32000000000000]</td>\n",
       "      <td>[3692.18]</td>\n",
       "    </tr>\n",
       "    <tr>\n",
       "      <th>2015-12-02</th>\n",
       "      <th>4966</th>\n",
       "      <td>B1O0256</td>\n",
       "      <td>[200.62, 530.31, 697.01, 895.26, 1248.41, 1480...</td>\n",
       "      <td>[300107, 300109, 300110, 300111, 307132, 30011...</td>\n",
       "      <td>[30907000000000, 31034000000000, 3116100000000...</td>\n",
       "      <td>[0.08, 359.47, 948.68, 1474.14, 1892.31, 2422....</td>\n",
       "    </tr>\n",
       "    <tr>\n",
       "      <th>2015-12-03</th>\n",
       "      <th>7146</th>\n",
       "      <td>B1O0256</td>\n",
       "      <td>[200.62, 530.31, 697.01, 895.26, 1248.41, 1480...</td>\n",
       "      <td>[300107, 300109, 300110, 300111, 307132, 30011...</td>\n",
       "      <td>[31885000000000, 31948000000000, 3204400000000...</td>\n",
       "      <td>[3620.86, 3623.96, 3914.0, 4238.83, 4322.27]</td>\n",
       "    </tr>\n",
       "    <tr>\n",
       "      <th>2015-12-04</th>\n",
       "      <th>4626</th>\n",
       "      <td>B1O0256</td>\n",
       "      <td>[200.62, 530.31, 697.01, 895.26, 1248.41, 1480...</td>\n",
       "      <td>[300107, 300109, 300110, 300111, 307132, 30011...</td>\n",
       "      <td>[31114000000000, 31211000000000, 3130700000000...</td>\n",
       "      <td>[317.51, 877.24, 1159.38, 1514.36, 2444.21, 26...</td>\n",
       "    </tr>\n",
       "  </tbody>\n",
       "</table>\n",
       "</div>"
      ],
      "text/plain": [
       "                                                                SHAPE_ID  \\\n",
       "ROUTE_ID TRIP_ID                          trip_date  vehicle_id            \n",
       "B1       FB_D5-Weekday-SDon-044500_B49_21 2015-12-01 5051        B1O0254   \n",
       "                                          2015-12-02 4966        B1O0254   \n",
       "                                          2015-12-04 4626        B1O0254   \n",
       "                                          2015-12-07 4586        B1O0254   \n",
       "         FB_D5-Weekday-SDon-047200_B49_15 2015-12-01 4591        B1O0254   \n",
       "                                          2015-12-02 7359        B1O0254   \n",
       "                                          2015-12-03 5125        B1O0254   \n",
       "                                          2015-12-04 4232        B1O0254   \n",
       "                                          2015-12-07 7306        B1O0254   \n",
       "         FB_D5-Weekday-SDon-047300_B49_21 2015-12-01 5051        B1O0254   \n",
       "                                          2015-12-02 4966        B1O0254   \n",
       "                                          2015-12-04 4626        B1O0254   \n",
       "                                          2015-12-07 4586        B1O0254   \n",
       "         FB_D5-Weekday-SDon-051000_B49_15 2015-12-01 4591        B1O0256   \n",
       "                                          2015-12-02 7359        B1O0256   \n",
       "                                          2015-12-03 4855        B1O0256   \n",
       "                                                     5125        B1O0256   \n",
       "                                                     7146        B1O0256   \n",
       "                                          2015-12-04 4232        B1O0256   \n",
       "                                          2015-12-07 7306        B1O0256   \n",
       "         FB_D5-Weekday-SDon-051200_B49_21 2015-12-01 5051        B1O0256   \n",
       "                                                     5105        B1O0256   \n",
       "                                          2015-12-02 4966        B1O0256   \n",
       "                                          2015-12-03 7146        B1O0256   \n",
       "                                          2015-12-04 4626        B1O0256   \n",
       "\n",
       "                                                                                                   shape_stop_dist  \\\n",
       "ROUTE_ID TRIP_ID                          trip_date  vehicle_id                                                      \n",
       "B1       FB_D5-Weekday-SDon-044500_B49_21 2015-12-01 5051        [0.27, 146.45, 343.65, 508.5, 682.49, 896.49, ...   \n",
       "                                          2015-12-02 4966        [0.27, 146.45, 343.65, 508.5, 682.49, 896.49, ...   \n",
       "                                          2015-12-04 4626        [0.27, 146.45, 343.65, 508.5, 682.49, 896.49, ...   \n",
       "                                          2015-12-07 4586        [0.27, 146.45, 343.65, 508.5, 682.49, 896.49, ...   \n",
       "         FB_D5-Weekday-SDon-047200_B49_15 2015-12-01 4591        [0.27, 146.45, 343.65, 508.5, 682.49, 896.49, ...   \n",
       "                                          2015-12-02 7359        [0.27, 146.45, 343.65, 508.5, 682.49, 896.49, ...   \n",
       "                                          2015-12-03 5125        [0.27, 146.45, 343.65, 508.5, 682.49, 896.49, ...   \n",
       "                                          2015-12-04 4232        [0.27, 146.45, 343.65, 508.5, 682.49, 896.49, ...   \n",
       "                                          2015-12-07 7306        [0.27, 146.45, 343.65, 508.5, 682.49, 896.49, ...   \n",
       "         FB_D5-Weekday-SDon-047300_B49_21 2015-12-01 5051        [0.27, 146.45, 343.65, 508.5, 682.49, 896.49, ...   \n",
       "                                          2015-12-02 4966        [0.27, 146.45, 343.65, 508.5, 682.49, 896.49, ...   \n",
       "                                          2015-12-04 4626        [0.27, 146.45, 343.65, 508.5, 682.49, 896.49, ...   \n",
       "                                          2015-12-07 4586        [0.27, 146.45, 343.65, 508.5, 682.49, 896.49, ...   \n",
       "         FB_D5-Weekday-SDon-051000_B49_15 2015-12-01 4591        [200.62, 530.31, 697.01, 895.26, 1248.41, 1480...   \n",
       "                                          2015-12-02 7359        [200.62, 530.31, 697.01, 895.26, 1248.41, 1480...   \n",
       "                                          2015-12-03 4855        [200.62, 530.31, 697.01, 895.26, 1248.41, 1480...   \n",
       "                                                     5125        [200.62, 530.31, 697.01, 895.26, 1248.41, 1480...   \n",
       "                                                     7146        [200.62, 530.31, 697.01, 895.26, 1248.41, 1480...   \n",
       "                                          2015-12-04 4232        [200.62, 530.31, 697.01, 895.26, 1248.41, 1480...   \n",
       "                                          2015-12-07 7306        [200.62, 530.31, 697.01, 895.26, 1248.41, 1480...   \n",
       "         FB_D5-Weekday-SDon-051200_B49_21 2015-12-01 5051        [200.62, 530.31, 697.01, 895.26, 1248.41, 1480...   \n",
       "                                                     5105        [200.62, 530.31, 697.01, 895.26, 1248.41, 1480...   \n",
       "                                          2015-12-02 4966        [200.62, 530.31, 697.01, 895.26, 1248.41, 1480...   \n",
       "                                          2015-12-03 7146        [200.62, 530.31, 697.01, 895.26, 1248.41, 1480...   \n",
       "                                          2015-12-04 4626        [200.62, 530.31, 697.01, 895.26, 1248.41, 1480...   \n",
       "\n",
       "                                                                                                     shape_stop_id  \\\n",
       "ROUTE_ID TRIP_ID                          trip_date  vehicle_id                                                      \n",
       "B1       FB_D5-Weekday-SDon-044500_B49_21 2015-12-01 5051        [305775, 300123, 300124, 308045, 300126, 30012...   \n",
       "                                          2015-12-02 4966        [305775, 300123, 300124, 308045, 300126, 30012...   \n",
       "                                          2015-12-04 4626        [305775, 300123, 300124, 308045, 300126, 30012...   \n",
       "                                          2015-12-07 4586        [305775, 300123, 300124, 308045, 300126, 30012...   \n",
       "         FB_D5-Weekday-SDon-047200_B49_15 2015-12-01 4591        [305775, 300123, 300124, 308045, 300126, 30012...   \n",
       "                                          2015-12-02 7359        [305775, 300123, 300124, 308045, 300126, 30012...   \n",
       "                                          2015-12-03 5125        [305775, 300123, 300124, 308045, 300126, 30012...   \n",
       "                                          2015-12-04 4232        [305775, 300123, 300124, 308045, 300126, 30012...   \n",
       "                                          2015-12-07 7306        [305775, 300123, 300124, 308045, 300126, 30012...   \n",
       "         FB_D5-Weekday-SDon-047300_B49_21 2015-12-01 5051        [305775, 300123, 300124, 308045, 300126, 30012...   \n",
       "                                          2015-12-02 4966        [305775, 300123, 300124, 308045, 300126, 30012...   \n",
       "                                          2015-12-04 4626        [305775, 300123, 300124, 308045, 300126, 30012...   \n",
       "                                          2015-12-07 4586        [305775, 300123, 300124, 308045, 300126, 30012...   \n",
       "         FB_D5-Weekday-SDon-051000_B49_15 2015-12-01 4591        [300107, 300109, 300110, 300111, 307132, 30011...   \n",
       "                                          2015-12-02 7359        [300107, 300109, 300110, 300111, 307132, 30011...   \n",
       "                                          2015-12-03 4855        [300107, 300109, 300110, 300111, 307132, 30011...   \n",
       "                                                     5125        [300107, 300109, 300110, 300111, 307132, 30011...   \n",
       "                                                     7146        [300107, 300109, 300110, 300111, 307132, 30011...   \n",
       "                                          2015-12-04 4232        [300107, 300109, 300110, 300111, 307132, 30011...   \n",
       "                                          2015-12-07 7306        [300107, 300109, 300110, 300111, 307132, 30011...   \n",
       "         FB_D5-Weekday-SDon-051200_B49_21 2015-12-01 5051        [300107, 300109, 300110, 300111, 307132, 30011...   \n",
       "                                                     5105        [300107, 300109, 300110, 300111, 307132, 30011...   \n",
       "                                          2015-12-02 4966        [300107, 300109, 300110, 300111, 307132, 30011...   \n",
       "                                          2015-12-03 7146        [300107, 300109, 300110, 300111, 307132, 30011...   \n",
       "                                          2015-12-04 4626        [300107, 300109, 300110, 300111, 307132, 30011...   \n",
       "\n",
       "                                                                                                     recorded_time  \\\n",
       "ROUTE_ID TRIP_ID                          trip_date  vehicle_id                                                      \n",
       "B1       FB_D5-Weekday-SDon-044500_B49_21 2015-12-01 5051        [26740000000000, 26867000000000, 2702600000000...   \n",
       "                                          2015-12-02 4966         [26921000000000, 27079000000000, 27207000000000]   \n",
       "                                          2015-12-04 4626         [27295000000000, 27455000000000, 27550000000000]   \n",
       "                                          2015-12-07 4586        [27006000000000, 27165000000000, 2729400000000...   \n",
       "         FB_D5-Weekday-SDon-047200_B49_15 2015-12-01 4591        [28331000000000, 28805000000000, 2893400000000...   \n",
       "                                          2015-12-02 7359        [28783000000000, 28909000000000, 2903500000000...   \n",
       "                                          2015-12-03 5125        [28764000000000, 28955000000000, 2905100000000...   \n",
       "                                          2015-12-04 4232        [28028000000000, 28184000000000, 2833800000000...   \n",
       "                                          2015-12-07 7306        [29082000000000, 29242000000000, 2936900000000...   \n",
       "         FB_D5-Weekday-SDon-047300_B49_21 2015-12-01 5051        [28495000000000, 28622000000000, 2881000000000...   \n",
       "                                          2015-12-02 4966         [28786000000000, 28912000000000, 29039000000000]   \n",
       "                                          2015-12-04 4626        [28628000000000, 28787000000000, 2894700000000...   \n",
       "                                          2015-12-07 4586         [28592000000000, 28783000000000, 28910000000000]   \n",
       "         FB_D5-Weekday-SDon-051000_B49_15 2015-12-01 4591        [30816000000000, 30976000000000, 3107200000000...   \n",
       "                                          2015-12-02 7359        [30917000000000, 31041000000000, 3116700000000...   \n",
       "                                          2015-12-03 4855                                         [31959000000000]   \n",
       "                                                     5125        [31075000000000, 31201000000000, 3132900000000...   \n",
       "                                                     7146                         [30838000000000, 31092000000000]   \n",
       "                                          2015-12-04 4232        [31125000000000, 31219000000000, 3131400000000...   \n",
       "                                          2015-12-07 7306        [31121000000000, 31280000000000, 3144000000000...   \n",
       "         FB_D5-Weekday-SDon-051200_B49_21 2015-12-01 5051        [30813000000000, 30973000000000, 3106800000000...   \n",
       "                                                     5105                                         [32000000000000]   \n",
       "                                          2015-12-02 4966        [30907000000000, 31034000000000, 3116100000000...   \n",
       "                                          2015-12-03 7146        [31885000000000, 31948000000000, 3204400000000...   \n",
       "                                          2015-12-04 4626        [31114000000000, 31211000000000, 3130700000000...   \n",
       "\n",
       "                                                                                              veh_dist_along_shape  \n",
       "ROUTE_ID TRIP_ID                          trip_date  vehicle_id                                                     \n",
       "B1       FB_D5-Weekday-SDon-044500_B49_21 2015-12-01 5051                 [6.92, 468.59, 484.21, 1057.67, 1920.63]  \n",
       "                                          2015-12-02 4966                                   [8.58, 477.26, 676.88]  \n",
       "                                          2015-12-04 4626                                [282.98, 615.14, 1016.07]  \n",
       "                                          2015-12-07 4586                      [335.22, 1016.07, 1897.46, 2203.18]  \n",
       "         FB_D5-Weekday-SDon-047200_B49_15 2015-12-01 4591        [25.19, 301.51, 466.85, 609.53, 1181.91, 1897.46]  \n",
       "                                          2015-12-02 7359                       [475.53, 699.84, 1240.22, 1944.15]  \n",
       "                                          2015-12-03 5125                         [331.85, 463.38, 559.01, 1546.4]  \n",
       "                                          2015-12-04 4232        [94.96, 94.96, 94.96, 45.12, 331.85, 501.56, 1...  \n",
       "                                          2015-12-07 7306                          [234.1, 479.0, 769.25, 1510.59]  \n",
       "         FB_D5-Weekday-SDon-047300_B49_21 2015-12-01 5051        [103.26, 318.37, 468.59, 734.55, 1546.4, 1909.04]  \n",
       "                                          2015-12-02 4966                                 [479.0, 671.26, 1251.88]  \n",
       "                                          2015-12-04 4626                         [165.0, 475.53, 803.95, 1459.44]  \n",
       "                                          2015-12-07 4586                                [330.17, 494.62, 1339.35]  \n",
       "         FB_D5-Weekday-SDon-051000_B49_15 2015-12-01 4591        [191.77, 904.16, 1233.57, 1635.07, 1957.3, 259...  \n",
       "                                          2015-12-02 7359        [398.43, 667.76, 1192.02, 1833.61, 1923.21, 26...  \n",
       "                                          2015-12-03 4855                                                [3707.69]  \n",
       "                                                     5125        [449.39, 1126.74, 1221.7, 1514.36, 2447.31, 26...  \n",
       "                                                     7146                                         [796.14, 1230.6]  \n",
       "                                          2015-12-04 4232        [335.49, 987.26, 1233.57, 1790.32, 2608.58, 30...  \n",
       "                                          2015-12-07 7306        [335.49, 760.09, 1257.69, 1647.45, 2679.91, 31...  \n",
       "         FB_D5-Weekday-SDon-051200_B49_21 2015-12-01 5051        [35.47, 667.76, 1141.57, 1236.54, 1616.5, 2279...  \n",
       "                                                     5105                                                [3692.18]  \n",
       "                                          2015-12-02 4966        [0.08, 359.47, 948.68, 1474.14, 1892.31, 2422....  \n",
       "                                          2015-12-03 7146             [3620.86, 3623.96, 3914.0, 4238.83, 4322.27]  \n",
       "                                          2015-12-04 4626        [317.51, 877.24, 1159.38, 1514.36, 2444.21, 26...  "
      ]
     },
     "execution_count": 45,
     "metadata": {},
     "output_type": "execute_result"
    }
   ],
   "source": [
    "avl_merged.head(25)"
   ]
  },
  {
   "cell_type": "markdown",
   "metadata": {},
   "source": [
    "### Compare performance when iterating over dataframe of lists or dict of dicts\n",
    "Approach 1"
   ]
  },
  {
   "cell_type": "markdown",
   "metadata": {},
   "source": [
    "Approach 3, using dataframe version but trying longest-increasing subsequence to slice array"
   ]
  },
  {
   "cell_type": "code",
   "execution_count": 47,
   "metadata": {
    "collapsed": false
   },
   "outputs": [
    {
     "name": "stdout",
     "output_type": "stream",
     "text": [
      "Processing time:\n",
      "409.18736887\n"
     ]
    }
   ],
   "source": [
    "starttime = time.time()\n",
    "results_longest = {}\n",
    "for i, v in avl_merged.iterrows():\n",
    "    results_longest[i] = interpolate_stops5(v)\n",
    "print 'Processing time:'\n",
    "print time.time() - starttime"
   ]
  },
  {
   "cell_type": "code",
   "execution_count": 48,
   "metadata": {
    "collapsed": true
   },
   "outputs": [],
   "source": [
    "import pickle\n",
    "\n",
    "with open('dec2015_results.pickle', 'wb') as handle:\n",
    "    pickle.dump(results_longest, handle)"
   ]
  },
  {
   "cell_type": "code",
   "execution_count": 50,
   "metadata": {
    "collapsed": false
   },
   "outputs": [
    {
     "data": {
      "text/plain": [
       "[[301056,\n",
       "  302736,\n",
       "  302737,\n",
       "  302738,\n",
       "  306454,\n",
       "  302740,\n",
       "  302741,\n",
       "  302742,\n",
       "  302743,\n",
       "  302744,\n",
       "  302745,\n",
       "  308483,\n",
       "  302747,\n",
       "  302748,\n",
       "  302749,\n",
       "  302750,\n",
       "  308083,\n",
       "  302753,\n",
       "  307790,\n",
       "  307793,\n",
       "  307795,\n",
       "  302758,\n",
       "  302759,\n",
       "  302760,\n",
       "  302761,\n",
       "  302762,\n",
       "  302763,\n",
       "  302764,\n",
       "  302765,\n",
       "  302766,\n",
       "  302767,\n",
       "  302768],\n",
       " TimedeltaIndex(['09:17:33.619949', '09:18:59.501519', '09:19:53.564916',\n",
       "                 '09:21:06.978558', '09:21:47.937048', '09:23:11.685081',\n",
       "                 '09:24:08.099487', '09:25:20.139838', '09:26:15.823063',\n",
       "                 '09:27:25.870189', '09:28:43.513447', '09:30:29.742519',\n",
       "                 '09:33:15.885250', '09:34:06.711601', '09:34:34.988275',\n",
       "                 '09:35:52.784867', '09:38:05.544742', '09:38:51.705802',\n",
       "                 '09:40:21.070278', '09:42:31.499583', '09:43:51.457706',\n",
       "                 '09:46:23.398239', '09:48:11.584132', '09:48:50.413190',\n",
       "                 '09:49:30.506044', '09:50:45.694432', '09:51:09.302491',\n",
       "                 '09:51:31.425135', '09:52:45.250032', '09:53:40.774671',\n",
       "                 '09:54:33.837643', '09:55:16.500000'],\n",
       "                dtype='timedelta64[ns]', freq=None)]"
      ]
     },
     "execution_count": 50,
     "metadata": {},
     "output_type": "execute_result"
    }
   ],
   "source": [
    "results_longest[('B35', 'JG_D5-Sunday-055400_B35_12', '2015-12-06', 403)]"
   ]
  },
  {
   "cell_type": "markdown",
   "metadata": {},
   "source": [
    "### Expand results into a dataframe (to use for things like headway measurement)"
   ]
  },
  {
   "cell_type": "code",
   "execution_count": 51,
   "metadata": {
    "collapsed": false
   },
   "outputs": [],
   "source": [
    "import csv\n",
    "with open('dec2015_interpolated.csv','w') as out:\n",
    "    csv_out=csv.writer(out)\n",
    "    csv_out.writerow(['ROUTE_ID','TRIP_ID','trip_date','vehicle_id','STOP_ID','interpolated_arrival_time'])\n",
    "    for k, v in results_longest.iteritems():\n",
    "        for i in range(len(v[0])):\n",
    "            row = k + (v[0][i],v[1][i])\n",
    "            csv_out.writerow(row)"
   ]
  },
  {
   "cell_type": "markdown",
   "metadata": {},
   "source": [
    "## Investigate results and check method for data groups with more than one ping"
   ]
  },
  {
   "cell_type": "code",
   "execution_count": 52,
   "metadata": {
    "collapsed": false
   },
   "outputs": [
    {
     "name": "stdout",
     "output_type": "stream",
     "text": [
      "Some basic stats: \n",
      "Total number of estimated arrival times\n",
      "11620111\n",
      "Number of trips identified overall\n",
      "416508\n",
      "Number of trips with estimates\n",
      "356907\n",
      "Number of trips without valid interpolation\n",
      "59601\n",
      "Average number of estimates per trip\n",
      "32.557811979\n"
     ]
    }
   ],
   "source": [
    "lens = []\n",
    "trip_count = 0\n",
    "for k, v in results_longest.iteritems():\n",
    "    l = len(v[0])\n",
    "    if l > 0:\n",
    "        trip_count += 1\n",
    "    lens.append(l)\n",
    "def empty_inds(lst):\n",
    "    k = results_longest.keys()\n",
    "    return [k[i] for i, x in enumerate(lst) if x==0]\n",
    "empty_keys = empty_inds(lens)\n",
    "print 'Some basic stats: '\n",
    "print 'Total number of estimated arrival times'\n",
    "print sum(lens)\n",
    "print 'Number of trips identified overall'\n",
    "print len(lens)\n",
    "print 'Number of trips with estimates'\n",
    "print trip_count\n",
    "print 'Number of trips without valid interpolation'\n",
    "print len(empty_keys)\n",
    "print 'Average number of estimates per trip'\n",
    "print 1.0*sum(lens)/trip_count"
   ]
  },
  {
   "cell_type": "code",
   "execution_count": 53,
   "metadata": {
    "collapsed": false
   },
   "outputs": [],
   "source": [
    "ek_index = pd.MultiIndex.from_tuples(empty_keys)\n",
    "ek_info = pd.DataFrame(data=gb.size(),index=ek_index,columns=['N'])"
   ]
  },
  {
   "cell_type": "code",
   "execution_count": 54,
   "metadata": {
    "collapsed": false
   },
   "outputs": [],
   "source": [
    "ek_info['min_ts'] = gb['recorded_time'].min()\n",
    "ek_info['max_ts'] = gb['recorded_time'].max()\n",
    "ek_info['min_dist'] = gb['veh_dist_along_shape'].min()\n",
    "ek_info['max_dist'] = gb['veh_dist_along_shape'].max()"
   ]
  },
  {
   "cell_type": "code",
   "execution_count": 55,
   "metadata": {
    "collapsed": false
   },
   "outputs": [],
   "source": [
    "ek_info['ts_delta'] = ek_info['max_ts'] - ek_info['min_ts']\n",
    "ek_info['dist_delta'] = ek_info['max_dist'] - ek_info['min_dist']"
   ]
  },
  {
   "cell_type": "code",
   "execution_count": 56,
   "metadata": {
    "collapsed": false
   },
   "outputs": [
    {
     "data": {
      "text/plain": [
       "N\n",
       "1      0.635308\n",
       "2      0.141877\n",
       "3      0.065888\n",
       "4      0.040687\n",
       "5      0.026510\n",
       "6      0.019563\n",
       "7      0.013272\n",
       "8      0.009715\n",
       "9      0.007668\n",
       "10     0.006023\n",
       "11     0.004664\n",
       "12     0.003943\n",
       "13     0.002466\n",
       "14     0.002550\n",
       "15     0.002215\n",
       "16     0.001376\n",
       "17     0.001342\n",
       "18     0.001460\n",
       "19     0.001124\n",
       "20     0.000872\n",
       "21     0.001023\n",
       "22     0.000570\n",
       "23     0.000638\n",
       "24     0.000688\n",
       "25     0.000805\n",
       "26     0.000604\n",
       "27     0.000403\n",
       "28     0.000520\n",
       "29     0.000487\n",
       "30     0.000336\n",
       "         ...   \n",
       "54     0.000134\n",
       "55     0.000050\n",
       "56     0.000134\n",
       "57     0.000117\n",
       "58     0.000034\n",
       "59     0.000017\n",
       "60     0.000050\n",
       "62     0.000050\n",
       "63     0.000034\n",
       "65     0.000017\n",
       "66     0.000017\n",
       "67     0.000034\n",
       "69     0.000017\n",
       "70     0.000017\n",
       "72     0.000034\n",
       "74     0.000034\n",
       "76     0.000034\n",
       "77     0.000050\n",
       "79     0.000017\n",
       "84     0.000017\n",
       "85     0.000017\n",
       "88     0.000017\n",
       "92     0.000017\n",
       "96     0.000017\n",
       "97     0.000017\n",
       "101    0.000017\n",
       "108    0.000017\n",
       "115    0.000017\n",
       "119    0.000017\n",
       "222    0.000017\n",
       "dtype: float64"
      ]
     },
     "execution_count": 56,
     "metadata": {},
     "output_type": "execute_result"
    }
   ],
   "source": [
    "ek_info.groupby('N').size()/len(ek_info)"
   ]
  },
  {
   "cell_type": "code",
   "execution_count": 57,
   "metadata": {
    "collapsed": false
   },
   "outputs": [
    {
     "data": {
      "text/plain": [
       "<matplotlib.axes._subplots.AxesSubplot at 0x7f107af83150>"
      ]
     },
     "execution_count": 57,
     "metadata": {},
     "output_type": "execute_result"
    },
    {
     "data": {
      "image/png": "[encoded data removed]",
      "text/plain": [
       "<matplotlib.figure.Figure at 0x7f105901a910>"
      ]
     },
     "metadata": {},
     "output_type": "display_data"
    }
   ],
   "source": [
    "ek_info.query('N>1')['dist_delta'].hist(range=(0,1000),bins=50)"
   ]
  },
  {
   "cell_type": "code",
   "execution_count": 58,
   "metadata": {
    "collapsed": false
   },
   "outputs": [
    {
     "data": {
      "text/plain": [
       "<matplotlib.axes._subplots.AxesSubplot at 0x7f0ffd89f310>"
      ]
     },
     "execution_count": 58,
     "metadata": {},
     "output_type": "execute_result"
    },
    {
     "data": {
      "image/png": "[encoded data removed]",
      "text/plain": [
       "<matplotlib.figure.Figure at 0x7f107b26ee50>"
      ]
     },
     "metadata": {},
     "output_type": "display_data"
    }
   ],
   "source": [
    "# how many stops were estimated for each trip data group?\n",
    "pd.Series(lens).hist(range=(0,80),bins=40)"
   ]
  },
  {
   "cell_type": "code",
   "execution_count": 59,
   "metadata": {
    "collapsed": false
   },
   "outputs": [
    {
     "data": {
      "text/plain": [
       "<matplotlib.axes._subplots.AxesSubplot at 0x7f10229ad150>"
      ]
     },
     "execution_count": 59,
     "metadata": {},
     "output_type": "execute_result"
    },
    {
     "data": {
      "image/png": "[encoded data removed]",
      "text/plain": [
       "<matplotlib.figure.Figure at 0x7f107db333d0>"
      ]
     },
     "metadata": {},
     "output_type": "display_data"
    }
   ],
   "source": [
    "# how many pings were available for each trip data group?\n",
    "gb.size().hist(range=(0,90),bins=30)"
   ]
  },
  {
   "cell_type": "code",
   "execution_count": null,
   "metadata": {
    "collapsed": true
   },
   "outputs": [],
   "source": []
  }
 ],
 "metadata": {
  "kernelspec": {
   "display_name": "Python 2",
   "language": "python",
   "name": "python2"
  },
  "language_info": {
   "codemirror_mode": {
    "name": "ipython",
    "version": 2
   },
   "file_extension": ".py",
   "mimetype": "text/x-python",
   "name": "python",
   "nbconvert_exporter": "python",
   "pygments_lexer": "ipython2",
   "version": "2.7.11"
  }
 },
 "nbformat": 4,
 "nbformat_minor": 0
}
