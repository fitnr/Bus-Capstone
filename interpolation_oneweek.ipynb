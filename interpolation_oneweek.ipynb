{
 "cells": [
  {
   "cell_type": "code",
   "execution_count": 4,
   "metadata": {
    "collapsed": false
   },
   "outputs": [],
   "source": [
    "# -*- coding: utf-8 -*-\n",
    "\"\"\"\n",
    "The script demonstrates the performance of an interpolation algorithm when applied to a large dataset.\n",
    "\"\"\"\n",
    "\n",
    "import os\n",
    "import pandas as pd\n",
    "import matplotlib.pyplot as plt\n",
    "from scipy import interpolate\n",
    "from itertools import compress\n",
    "import time\n",
    "%matplotlib inline  \n",
    "#import sys\n",
    "#sys.path.append('/gpfs2/projects/project-bus_capstone_2016/workspace/mu529/Bus-Capstone')\n",
    "\n",
    "# these two modules are homemade\n",
    "import gtfs\n",
    "import arrivals\n",
    "import time\n",
    "import ttools\n",
    "import seqtools\n",
    "os.chdir('/gpfs2/projects/project-bus_capstone_2016/workspace/share')"
   ]
  },
  {
   "cell_type": "markdown",
   "metadata": {},
   "source": [
    "### Previous versions of the interpolation function. (final version is below)"
   ]
  },
  {
   "cell_type": "markdown",
   "metadata": {},
   "source": [
    "### Current working version of interpolation function.\n",
    "Takes several lists as inputs, which can be stored together as a dataframe row (merged_row).\n",
    "\n",
    "merged_row.shape_stop_dist is a list of distances of *all* stops from the schedule on that shape.<p>\n",
    "mergedrow.shape_stop_id is a list of stop_id labels for those stops<p>"
   ]
  },
  {
   "cell_type": "code",
   "execution_count": 5,
   "metadata": {
    "collapsed": true
   },
   "outputs": [],
   "source": [
    "# for iteration over dataframe rows (each row is a collection of lists of necessary data)\n",
    "def interpolate_stops5(merged_row,tol=100):\n",
    "    distance_stops = merged_row.shape_stop_dist\n",
    "    # if the returned object is not a list, it does not contain any information, so there is nothing to interpolate.\n",
    "    if type(distance_stops) != list:\n",
    "        return [[]]\n",
    "    # if there are fewer than 2 pings, no interpolation is possible\n",
    "    if len(merged_row.recorded_time)<2:\n",
    "        return [[]]    \n",
    "    # assemble the ping data as a pandas Series, for convenient use of dropna() method\n",
    "    list1, list2 = zip(*sorted(zip(merged_row.recorded_time,merged_row.veh_dist_along_shape)))\n",
    "    veh_pings = pd.Series(index=list1,data=list2)\n",
    "    veh_pings = veh_pings.dropna()\n",
    "    # pings must be cleaned for cases when the vehicle \"moves backwards\" along the route.\n",
    "    # this may occur when the vehicle is actually finishing another trip, or returning to the first stop\n",
    "    # the proposed method is to identify the the largest monotonic increasing subsequence\n",
    "    first, last = seqtools.longest_inc_range(veh_pings.values,tolerance=tol)\n",
    "    if len(veh_pings) == 0:\n",
    "        return [[]]\n",
    "    valid_pings = veh_pings.iloc[first:last]\n",
    "    if len(valid_pings)<2:\n",
    "        return [[]]\n",
    "    # finally, perform the interpolation with the cleaned data\n",
    "    x = valid_pings.values\n",
    "    y = valid_pings.index.values\n",
    "    f = interpolate.interp1d(x,y)\n",
    "    xnew = distance_stops\n",
    "    masker = (xnew > min(x)) & (xnew < max(x))\n",
    "    xnew = list(compress(xnew,masker))\n",
    "    # return the estimated times (as timedelta dtype) and the stop labels\n",
    "    interp_times = pd.to_timedelta(f(xnew),unit='ns')\n",
    "    return [list(compress(merged_row.shape_stop_id,masker)),interp_times]"
   ]
  },
  {
   "cell_type": "markdown",
   "metadata": {},
   "source": [
    "## Now try it on a WHOLE WEEK of data..."
   ]
  },
  {
   "cell_type": "code",
   "execution_count": 6,
   "metadata": {
    "collapsed": false
   },
   "outputs": [],
   "source": [
    "# get the sample of parsed AVL data.  Beware, large files take more time.\n",
    "bustime = pd.read_csv('nov2015_extract_cleaned.csv')"
   ]
  },
  {
   "cell_type": "code",
   "execution_count": 7,
   "metadata": {
    "collapsed": false
   },
   "outputs": [
    {
     "data": {
      "text/html": [
       "<div style=\"max-height:1000px;max-width:1500px;overflow:auto;\">\n",
       "<table border=\"1\" class=\"dataframe\">\n",
       "  <thead>\n",
       "    <tr style=\"text-align: right;\">\n",
       "      <th></th>\n",
       "      <th>ROUTE_ID</th>\n",
       "      <th>latitude</th>\n",
       "      <th>longitude</th>\n",
       "      <th>recorded_time</th>\n",
       "      <th>vehicle_id</th>\n",
       "      <th>TRIP_ID</th>\n",
       "      <th>trip_date</th>\n",
       "      <th>SHAPE_ID</th>\n",
       "      <th>STOP_ID</th>\n",
       "      <th>distance_stop</th>\n",
       "      <th>distance_shape</th>\n",
       "      <th>status</th>\n",
       "      <th>destination</th>\n",
       "    </tr>\n",
       "  </thead>\n",
       "  <tbody>\n",
       "    <tr>\n",
       "      <th>0</th>\n",
       "      <td>Q66</td>\n",
       "      <td>40.759376</td>\n",
       "      <td>-73.830754</td>\n",
       "      <td>2015-11-09T23:42:16.000</td>\n",
       "      <td>598</td>\n",
       "      <td>9866275-CPPD5-CP_D5-Weekday-10-SDon</td>\n",
       "      <td>2015-11-10</td>\n",
       "      <td>Q660138</td>\n",
       "      <td>503845</td>\n",
       "      <td>0.01</td>\n",
       "      <td>0.01</td>\n",
       "      <td>at stop</td>\n",
       "      <td>505066</td>\n",
       "    </tr>\n",
       "    <tr>\n",
       "      <th>1</th>\n",
       "      <td>Q66</td>\n",
       "      <td>40.759376</td>\n",
       "      <td>-73.830754</td>\n",
       "      <td>2015-11-09T23:43:51.000</td>\n",
       "      <td>598</td>\n",
       "      <td>9866275-CPPD5-CP_D5-Weekday-10-SDon</td>\n",
       "      <td>2015-11-10</td>\n",
       "      <td>Q660138</td>\n",
       "      <td>503845</td>\n",
       "      <td>0.01</td>\n",
       "      <td>0.01</td>\n",
       "      <td>at stop</td>\n",
       "      <td>505066</td>\n",
       "    </tr>\n",
       "    <tr>\n",
       "      <th>2</th>\n",
       "      <td>Q33</td>\n",
       "      <td>40.746975</td>\n",
       "      <td>-73.890510</td>\n",
       "      <td>2015-11-09T23:43:57.000</td>\n",
       "      <td>3595</td>\n",
       "      <td>9942542-LGPD5-LG_D5-Weekday-10-SDon</td>\n",
       "      <td>2015-11-10</td>\n",
       "      <td>Q330098</td>\n",
       "      <td>503311</td>\n",
       "      <td>87.75</td>\n",
       "      <td>296.69</td>\n",
       "      <td>approaching</td>\n",
       "      <td>552017</td>\n",
       "    </tr>\n",
       "    <tr>\n",
       "      <th>3</th>\n",
       "      <td>Q66</td>\n",
       "      <td>40.759376</td>\n",
       "      <td>-73.830754</td>\n",
       "      <td>2015-11-09T23:44:53.000</td>\n",
       "      <td>598</td>\n",
       "      <td>9866275-CPPD5-CP_D5-Weekday-10-SDon</td>\n",
       "      <td>2015-11-10</td>\n",
       "      <td>Q660138</td>\n",
       "      <td>503845</td>\n",
       "      <td>0.01</td>\n",
       "      <td>0.01</td>\n",
       "      <td>at stop</td>\n",
       "      <td>505066</td>\n",
       "    </tr>\n",
       "    <tr>\n",
       "      <th>4</th>\n",
       "      <td>Q33</td>\n",
       "      <td>40.746975</td>\n",
       "      <td>-73.890510</td>\n",
       "      <td>2015-11-09T23:45:01.000</td>\n",
       "      <td>3595</td>\n",
       "      <td>9942542-LGPD5-LG_D5-Weekday-10-SDon</td>\n",
       "      <td>2015-11-10</td>\n",
       "      <td>Q330098</td>\n",
       "      <td>503311</td>\n",
       "      <td>87.75</td>\n",
       "      <td>296.69</td>\n",
       "      <td>approaching</td>\n",
       "      <td>552017</td>\n",
       "    </tr>\n",
       "  </tbody>\n",
       "</table>\n",
       "</div>"
      ],
      "text/plain": [
       "  ROUTE_ID   latitude  longitude            recorded_time  vehicle_id  \\\n",
       "0      Q66  40.759376 -73.830754  2015-11-09T23:42:16.000         598   \n",
       "1      Q66  40.759376 -73.830754  2015-11-09T23:43:51.000         598   \n",
       "2      Q33  40.746975 -73.890510  2015-11-09T23:43:57.000        3595   \n",
       "3      Q66  40.759376 -73.830754  2015-11-09T23:44:53.000         598   \n",
       "4      Q33  40.746975 -73.890510  2015-11-09T23:45:01.000        3595   \n",
       "\n",
       "                               TRIP_ID   trip_date SHAPE_ID  STOP_ID  \\\n",
       "0  9866275-CPPD5-CP_D5-Weekday-10-SDon  2015-11-10  Q660138   503845   \n",
       "1  9866275-CPPD5-CP_D5-Weekday-10-SDon  2015-11-10  Q660138   503845   \n",
       "2  9942542-LGPD5-LG_D5-Weekday-10-SDon  2015-11-10  Q330098   503311   \n",
       "3  9866275-CPPD5-CP_D5-Weekday-10-SDon  2015-11-10  Q660138   503845   \n",
       "4  9942542-LGPD5-LG_D5-Weekday-10-SDon  2015-11-10  Q330098   503311   \n",
       "\n",
       "   distance_stop  distance_shape       status  destination  \n",
       "0           0.01            0.01      at stop       505066  \n",
       "1           0.01            0.01      at stop       505066  \n",
       "2          87.75          296.69  approaching       552017  \n",
       "3           0.01            0.01      at stop       505066  \n",
       "4          87.75          296.69  approaching       552017  "
      ]
     },
     "execution_count": 7,
     "metadata": {},
     "output_type": "execute_result"
    }
   ],
   "source": [
    "bustime.head()"
   ]
  },
  {
   "cell_type": "markdown",
   "metadata": {},
   "source": [
    "#### Additional cleaning steps\n",
    "Remove prefixes from trip and shape labels.  (GTFS data does not use the prefix).  Distance values need to be numeric, not string."
   ]
  },
  {
   "cell_type": "code",
   "execution_count": 8,
   "metadata": {
    "collapsed": true
   },
   "outputs": [],
   "source": [
    "# beware!  Bonan is still working on organizing the extract files.  these columns may change.\n",
    "\n",
    "bustime.drop_duplicates(['vehicle_id','recorded_time'],inplace=True)\n",
    "#bustime['trip_id'] = bustime['trip_id'].str.replace('MTA NYCT_','')\n",
    "#bustime['trip_id'] = bustime['trip_id'].str.replace('MTABC_','')\n",
    "#bustime['shape_id'] = bustime['shape_id'].str.replace('MTA_','')\n",
    "\n",
    "bustime.set_index(['ROUTE_ID','TRIP_ID','trip_date','vehicle_id'],inplace=True,drop=True)\n",
    "bustime.set_index('recorded_time',append=True,drop=False,inplace=True)\n",
    "\n",
    "# for demonstration, use a subset. Just get data one day.\n",
    "#tripDateLookup = \"2015-12-03\"\n",
    "#bustime = bustime.xs((tripDateLookup),level=(2),drop_level=False)\n",
    "# note that the AVL dataframe must be sorted by timestammp, since iloc[]\n",
    "# selection is used later in this script to find the earliest time\n",
    "bustime.sort_index(inplace=True)"
   ]
  },
  {
   "cell_type": "code",
   "execution_count": 9,
   "metadata": {
    "collapsed": false
   },
   "outputs": [
    {
     "name": "stdout",
     "output_type": "stream",
     "text": [
      "Finished loading BusTime data, parsing timestamps, and slicing ONE DAY.\n"
     ]
    }
   ],
   "source": [
    "bustime['distance_shape'] = bustime['distance_shape'].convert_objects(convert_numeric=True)\n",
    "bustime['distance_stop'] = bustime['distance_stop'].convert_objects(convert_numeric=True)\n",
    "# add calculated column for distance along shape\n",
    "bustime['veh_dist_along_shape'] = bustime['distance_shape'] - bustime['distance_stop']\n",
    "\n",
    "print 'Finished loading BusTime data, parsing timestamps, and slicing ONE DAY.'"
   ]
  },
  {
   "cell_type": "code",
   "execution_count": 10,
   "metadata": {
    "collapsed": false,
    "scrolled": true
   },
   "outputs": [],
   "source": [
    "for name, group in bustime.groupby(level=2):\n",
    "    bustime.loc[(slice(None),slice(None),name),'recorded_time'] = group['recorded_time'].apply(ttools.parseActualTime,tdate=name)"
   ]
  },
  {
   "cell_type": "code",
   "execution_count": 12,
   "metadata": {
    "collapsed": false
   },
   "outputs": [
    {
     "data": {
      "text/plain": [
       "ROUTE_ID  TRIP_ID                         trip_date   vehicle_id  recorded_time          \n",
       "B1        UP_D5-Weekday-SDon-006000_B1_1  2015-11-13  7158        2015-11-13T01:01:50.000    3710000000000\n",
       "                                                                  2015-11-13T01:02:55.000    3775000000000\n",
       "                                                                  2015-11-13T01:03:58.000    3838000000000\n",
       "                                                                  2015-11-13T01:05:01.000    3901000000000\n",
       "                                                                  2015-11-13T01:06:04.000    3964000000000\n",
       "Name: recorded_time, dtype: object"
      ]
     },
     "execution_count": 12,
     "metadata": {},
     "output_type": "execute_result"
    }
   ],
   "source": [
    "bustime.loc[(slice(None),slice(None),'2015-11-13'),'recorded_time'].head()"
   ]
  },
  {
   "cell_type": "markdown",
   "metadata": {},
   "source": [
    "#### Create a separate dataframe containing the distances of ALL stops along each shape.\n",
    "Although GTFS is the official source for all stop information, Bus Time has the distances calculated already according to the shape.  The problem is the records from each trip may not contain information about all the stops (for example, when some are skipped).  Using a large enough sample should resolve that problem."
   ]
  },
  {
   "cell_type": "code",
   "execution_count": 13,
   "metadata": {
    "collapsed": false
   },
   "outputs": [
    {
     "name": "stdout",
     "output_type": "stream",
     "text": [
      "Finished creating stop-distances reference dataframe.\n"
     ]
    }
   ],
   "source": [
    "bustime_distances = bustime.drop(['recorded_time'],axis=1,inplace=False)\n",
    "bustime_distances = bustime_distances.reset_index().drop(['ROUTE_ID','TRIP_ID','trip_date','vehicle_id','recorded_time',\n",
    "                                                'latitude','longitude','distance_stop','status','destination',\n",
    "                                                'veh_dist_along_shape'],axis=1,inplace=False)\n",
    "\n",
    "stop_distances = bustime_distances.drop_duplicates(['SHAPE_ID','STOP_ID','distance_shape'])\n",
    "stop_distances = stop_distances.query('distance_shape > 0.1')\n",
    "\n",
    "# stop_distances.next_stop_id = stop_distances.next_stop_id.str.replace('MTA_','')\n",
    "\n",
    "stop_distances = stop_distances.sort(['SHAPE_ID','distance_shape']).reset_index(drop=True)\n",
    "\n",
    "print 'Finished creating stop-distances reference dataframe.'"
   ]
  },
  {
   "cell_type": "markdown",
   "metadata": {},
   "source": [
    "## Organization of Bus Time data\n",
    "A trip is identified as the grouping of records for each route, trip date, trip_id **and** vehicle_id.  Both are required because sometimes trip_id labels are \"recycled\" during the day and used by two different vehicles serving the route."
   ]
  },
  {
   "cell_type": "code",
   "execution_count": 14,
   "metadata": {
    "collapsed": false
   },
   "outputs": [],
   "source": [
    "# make a copy\n",
    "avl_data2 = bustime"
   ]
  },
  {
   "cell_type": "code",
   "execution_count": 15,
   "metadata": {
    "collapsed": true
   },
   "outputs": [],
   "source": [
    "gb = avl_data2.groupby(level=(0,1,2,3))"
   ]
  },
  {
   "cell_type": "markdown",
   "metadata": {},
   "source": [
    "For each **trip data group**, take the reported shape_id (single value), which will be used next to get the information about all stops along that shape.<p>\n",
    "From each group, take the necessary data in list form:\n",
    "<ol>\n",
    "<li>time stamps of all the pings</li>\n",
    "<li>vehicle distances for thosee pings (note: Python list ordering is persistent, so the two lists can be kept separate)</li></ol>"
   ]
  },
  {
   "cell_type": "code",
   "execution_count": 16,
   "metadata": {
    "collapsed": true
   },
   "outputs": [],
   "source": [
    "shape_ids = gb['SHAPE_ID'].agg(lambda x:x.value_counts().index[0])\n",
    "reported_timestamps = gb['recorded_time'].apply(list)\n",
    "reported_dists = gb['veh_dist_along_shape'].apply(list)"
   ]
  },
  {
   "cell_type": "code",
   "execution_count": 17,
   "metadata": {
    "collapsed": true
   },
   "outputs": [],
   "source": [
    "del bustime"
   ]
  },
  {
   "cell_type": "markdown",
   "metadata": {},
   "source": [
    "... and also take the necessary data (in list form) from each **shape**:\n",
    "<ol start=\"3\">\n",
    "<li>labels of all the stops along that shape, from the separate dataframe of stop distances</li>\n",
    "<li>the distances of all those stops</li><ol>\n",
    "<br>Also, rename the objects for clarity.  And then merge together."
   ]
  },
  {
   "cell_type": "code",
   "execution_count": 18,
   "metadata": {
    "collapsed": false
   },
   "outputs": [],
   "source": [
    "all_stops = stop_distances.groupby('SHAPE_ID')['STOP_ID'].apply(list)\n",
    "all_dists = stop_distances.groupby('SHAPE_ID')['distance_shape'].apply(list)\n",
    "all_dists.name = 'shape_stop_dist'\n",
    "all_stops.name = 'shape_stop_id'\n",
    "all_stop_dists = pd.DataFrame(shape_ids).merge(pd.DataFrame(all_dists),left_on='SHAPE_ID',right_index=True).merge(pd.DataFrame(all_stops),left_on='SHAPE_ID',right_index=True)"
   ]
  },
  {
   "cell_type": "markdown",
   "metadata": {},
   "source": [
    "## Two approaches for consolidated the data.\n",
    "Approach 1: merge everything into a dataframe"
   ]
  },
  {
   "cell_type": "code",
   "execution_count": 19,
   "metadata": {
    "collapsed": false
   },
   "outputs": [
    {
     "name": "stdout",
     "output_type": "stream",
     "text": [
      "Processing time:\n",
      "6.18458485603\n"
     ]
    }
   ],
   "source": [
    "starttime = time.time()\n",
    "avl_merged = pd.concat([all_stop_dists,reported_timestamps,reported_dists],axis=1)\n",
    "print 'Processing time:'\n",
    "print time.time() - starttime"
   ]
  },
  {
   "cell_type": "code",
   "execution_count": 20,
   "metadata": {
    "collapsed": false
   },
   "outputs": [
    {
     "data": {
      "text/html": [
       "<div style=\"max-height:1000px;max-width:1500px;overflow:auto;\">\n",
       "<table border=\"1\" class=\"dataframe\">\n",
       "  <thead>\n",
       "    <tr style=\"text-align: right;\">\n",
       "      <th></th>\n",
       "      <th></th>\n",
       "      <th></th>\n",
       "      <th></th>\n",
       "      <th>SHAPE_ID</th>\n",
       "      <th>shape_stop_dist</th>\n",
       "      <th>shape_stop_id</th>\n",
       "      <th>recorded_time</th>\n",
       "      <th>veh_dist_along_shape</th>\n",
       "    </tr>\n",
       "    <tr>\n",
       "      <th>ROUTE_ID</th>\n",
       "      <th>TRIP_ID</th>\n",
       "      <th>trip_date</th>\n",
       "      <th>vehicle_id</th>\n",
       "      <th></th>\n",
       "      <th></th>\n",
       "      <th></th>\n",
       "      <th></th>\n",
       "      <th></th>\n",
       "    </tr>\n",
       "  </thead>\n",
       "  <tbody>\n",
       "    <tr>\n",
       "      <th rowspan=\"25\" valign=\"top\">B1</th>\n",
       "      <th>UP_D5-Saturday-009800_B1_1</th>\n",
       "      <th>2015-11-14</th>\n",
       "      <th>4858</th>\n",
       "      <td>B10163</td>\n",
       "      <td>[187.16, 361.71, 567.94, 720.29, 920.63, 1219....</td>\n",
       "      <td>[301614, 301615, 305511, 305512, 305513, 30551...</td>\n",
       "      <td>[7174000000000, 7238000000000, 7301000000000, ...</td>\n",
       "      <td>[5985.48, 6232.36, 6571.7, 6658.35, 6658.35, 7...</td>\n",
       "    </tr>\n",
       "    <tr>\n",
       "      <th rowspan=\"2\" valign=\"top\">UP_D5-Saturday-010000_B1_2</th>\n",
       "      <th rowspan=\"2\" valign=\"top\">2015-11-14</th>\n",
       "      <th>423</th>\n",
       "      <td>B10162</td>\n",
       "      <td>[0.44, 289.31, 427.52, 560.27, 845.9, 1002.3, ...</td>\n",
       "      <td>[300000, 300002, 300003, 300004, 300006, 30000...</td>\n",
       "      <td>[7590000000000]</td>\n",
       "      <td>[5009.34]</td>\n",
       "    </tr>\n",
       "    <tr>\n",
       "      <th>4892</th>\n",
       "      <td>B10162</td>\n",
       "      <td>[0.44, 289.31, 427.52, 560.27, 845.9, 1002.3, ...</td>\n",
       "      <td>[300000, 300002, 300003, 300004, 300006, 30000...</td>\n",
       "      <td>[7187000000000, 7249000000000, 7313000000000, ...</td>\n",
       "      <td>[8248.83, 8770.45, 9667.56, 10025.47, 10585.16...</td>\n",
       "    </tr>\n",
       "    <tr>\n",
       "      <th>UP_D5-Saturday-013800_B1_2</th>\n",
       "      <th>2015-11-14</th>\n",
       "      <th>4892</th>\n",
       "      <td>B10163</td>\n",
       "      <td>[187.16, 361.71, 567.94, 720.29, 920.63, 1219....</td>\n",
       "      <td>[301614, 301615, 305511, 305512, 305513, 30551...</td>\n",
       "      <td>[7563000000000, 7688000000000, 7750000000000, ...</td>\n",
       "      <td>[79.79, 79.4, 79.4, 79.4, 79.4, 79.4, 79.4, 79...</td>\n",
       "    </tr>\n",
       "    <tr>\n",
       "      <th>UP_D5-Saturday-014000_B1_1</th>\n",
       "      <th>2015-11-14</th>\n",
       "      <th>4858</th>\n",
       "      <td>B10162</td>\n",
       "      <td>[0.44, 289.31, 427.52, 560.27, 845.9, 1002.3, ...</td>\n",
       "      <td>[300000, 300002, 300003, 300004, 300006, 30000...</td>\n",
       "      <td>[8407000000000]</td>\n",
       "      <td>[343.05]</td>\n",
       "    </tr>\n",
       "    <tr>\n",
       "      <th>UP_D5-Saturday-017800_B1_1</th>\n",
       "      <th>2015-11-14</th>\n",
       "      <th>4858</th>\n",
       "      <td>B10163</td>\n",
       "      <td>[187.16, 361.71, 567.94, 720.29, 920.63, 1219....</td>\n",
       "      <td>[301614, 301615, 305511, 305512, 305513, 30551...</td>\n",
       "      <td>[10788000000000, 10980000000000]</td>\n",
       "      <td>[73.61, 1162.38]</td>\n",
       "    </tr>\n",
       "    <tr>\n",
       "      <th>UP_D5-Saturday-018000_B1_2</th>\n",
       "      <th>2015-11-14</th>\n",
       "      <th>4892</th>\n",
       "      <td>B10162</td>\n",
       "      <td>[0.44, 289.31, 427.52, 560.27, 845.9, 1002.3, ...</td>\n",
       "      <td>[300000, 300002, 300003, 300004, 300006, 30000...</td>\n",
       "      <td>[10983000000000]</td>\n",
       "      <td>[629.75]</td>\n",
       "    </tr>\n",
       "    <tr>\n",
       "      <th rowspan=\"2\" valign=\"top\">UP_D5-Saturday-021800_B1_2</th>\n",
       "      <th rowspan=\"2\" valign=\"top\">2015-11-14</th>\n",
       "      <th>423</th>\n",
       "      <td>B10163</td>\n",
       "      <td>[187.16, 361.71, 567.94, 720.29, 920.63, 1219....</td>\n",
       "      <td>[301614, 301615, 305511, 305512, 305513, 30551...</td>\n",
       "      <td>[18588000000000, 18620000000000]</td>\n",
       "      <td>[5933.54, 5933.54]</td>\n",
       "    </tr>\n",
       "    <tr>\n",
       "      <th>4892</th>\n",
       "      <td>B10163</td>\n",
       "      <td>[187.16, 361.71, 567.94, 720.29, 920.63, 1219....</td>\n",
       "      <td>[301614, 301615, 305511, 305512, 305513, 30551...</td>\n",
       "      <td>[14375000000000, 14437000000000, 1449900000000...</td>\n",
       "      <td>[6501.69, 6681.45, 6775.58, 7176.11, 7452.9, 7...</td>\n",
       "    </tr>\n",
       "    <tr>\n",
       "      <th>UP_D5-Saturday-022000_B1_1</th>\n",
       "      <th>2015-11-14</th>\n",
       "      <th>4858</th>\n",
       "      <td>B10162</td>\n",
       "      <td>[0.44, 289.31, 427.52, 560.27, 845.9, 1002.3, ...</td>\n",
       "      <td>[300000, 300002, 300003, 300004, 300006, 30000...</td>\n",
       "      <td>[14373000000000, 14436000000000, 1449900000000...</td>\n",
       "      <td>[6136.42, 6351.03, 6898.59, 7013.14, 7219.77, ...</td>\n",
       "    </tr>\n",
       "    <tr>\n",
       "      <th>UP_D5-Saturday-025800_X2737_702</th>\n",
       "      <th>2015-11-14</th>\n",
       "      <th>7174</th>\n",
       "      <td>B10163</td>\n",
       "      <td>[187.16, 361.71, 567.94, 720.29, 920.63, 1219....</td>\n",
       "      <td>[301614, 301615, 305511, 305512, 305513, 30551...</td>\n",
       "      <td>[15382000000000, 15445000000000, 1547800000000...</td>\n",
       "      <td>[83.32, 291.89, 393.09, 668.05, 1385.73, 1764....</td>\n",
       "    </tr>\n",
       "    <tr>\n",
       "      <th rowspan=\"2\" valign=\"top\">UP_D5-Saturday-026000_B1_2</th>\n",
       "      <th rowspan=\"2\" valign=\"top\">2015-11-14</th>\n",
       "      <th>423</th>\n",
       "      <td>B10162</td>\n",
       "      <td>[0.44, 289.31, 427.52, 560.27, 845.9, 1002.3, ...</td>\n",
       "      <td>[300000, 300002, 300003, 300004, 300006, 30000...</td>\n",
       "      <td>[19980000000000]</td>\n",
       "      <td>[5004.26]</td>\n",
       "    </tr>\n",
       "    <tr>\n",
       "      <th>4892</th>\n",
       "      <td>B10162</td>\n",
       "      <td>[0.44, 289.31, 427.52, 560.27, 845.9, 1002.3, ...</td>\n",
       "      <td>[300000, 300002, 300003, 300004, 300006, 30000...</td>\n",
       "      <td>[15752000000000, 15815000000000, 1584700000000...</td>\n",
       "      <td>[450.95, 935.27, 1185.26, 1544.07, 1760.55, 18...</td>\n",
       "    </tr>\n",
       "    <tr>\n",
       "      <th>UP_D5-Saturday-029600_B3_103</th>\n",
       "      <th>2015-11-14</th>\n",
       "      <th>7153</th>\n",
       "      <td>B10163</td>\n",
       "      <td>[187.16, 361.71, 567.94, 720.29, 920.63, 1219....</td>\n",
       "      <td>[301614, 301615, 305511, 305512, 305513, 30551...</td>\n",
       "      <td>[17814000000000, 17877000000000, 1794200000000...</td>\n",
       "      <td>[73.67, 274.43, 500.69, 663.7, 1197.54, 1474.1...</td>\n",
       "    </tr>\n",
       "    <tr>\n",
       "      <th>UP_D5-Saturday-030000_X2737_702</th>\n",
       "      <th>2015-11-14</th>\n",
       "      <th>7174</th>\n",
       "      <td>B10162</td>\n",
       "      <td>[0.44, 289.31, 427.52, 560.27, 845.9, 1002.3, ...</td>\n",
       "      <td>[300000, 300002, 300003, 300004, 300006, 30000...</td>\n",
       "      <td>[18051000000000, 18115000000000, 1817800000000...</td>\n",
       "      <td>[575.71, 1185.26, 1760.55, 1760.55, 1861.47, 2...</td>\n",
       "    </tr>\n",
       "    <tr>\n",
       "      <th rowspan=\"3\" valign=\"top\">UP_D5-Saturday-033800_X2737_702</th>\n",
       "      <th rowspan=\"3\" valign=\"top\">2015-11-14</th>\n",
       "      <th>4858</th>\n",
       "      <td>B10163</td>\n",
       "      <td>[187.16, 361.71, 567.94, 720.29, 920.63, 1219....</td>\n",
       "      <td>[301614, 301615, 305511, 305512, 305513, 30551...</td>\n",
       "      <td>[22128000000000]</td>\n",
       "      <td>[10828.04]</td>\n",
       "    </tr>\n",
       "    <tr>\n",
       "      <th>4892</th>\n",
       "      <td>B10163</td>\n",
       "      <td>[187.16, 361.71, 567.94, 720.29, 920.63, 1219....</td>\n",
       "      <td>[301614, 301615, 305511, 305512, 305513, 30551...</td>\n",
       "      <td>[23282000000000, 23345000000000, 23408000000000]</td>\n",
       "      <td>[10774.88, 10774.88, 10774.88]</td>\n",
       "    </tr>\n",
       "    <tr>\n",
       "      <th>7174</th>\n",
       "      <td>B10163</td>\n",
       "      <td>[187.16, 361.71, 567.94, 720.29, 920.63, 1219....</td>\n",
       "      <td>[301614, 301615, 305511, 305512, 305513, 30551...</td>\n",
       "      <td>[20169000000000, 20233000000000, 2029700000000...</td>\n",
       "      <td>[143.83, 365.46, 541.69, 1219.52, 1743.5, 2103...</td>\n",
       "    </tr>\n",
       "    <tr>\n",
       "      <th>UP_D5-Saturday-034000_B3_103</th>\n",
       "      <th>2015-11-14</th>\n",
       "      <th>7153</th>\n",
       "      <td>B10162</td>\n",
       "      <td>[0.44, 289.31, 427.52, 560.27, 845.9, 1002.3, ...</td>\n",
       "      <td>[300000, 300002, 300003, 300004, 300006, 30000...</td>\n",
       "      <td>[20193000000000, 20259000000000, 2032200000000...</td>\n",
       "      <td>[0.44, 0.44, 0.44, 0.44, 266.51, 920.38, 1277....</td>\n",
       "    </tr>\n",
       "    <tr>\n",
       "      <th>UP_D5-Saturday-037000_B1_1</th>\n",
       "      <th>2015-11-14</th>\n",
       "      <th>4858</th>\n",
       "      <td>B10162</td>\n",
       "      <td>[0.44, 289.31, 427.52, 560.27, 845.9, 1002.3, ...</td>\n",
       "      <td>[300000, 300002, 300003, 300004, 300006, 30000...</td>\n",
       "      <td>[22223000000000, 22286000000000, 2234900000000...</td>\n",
       "      <td>[742.59, 1110.02, 1335.22, 1733.57, 1846.8, 23...</td>\n",
       "    </tr>\n",
       "    <tr>\n",
       "      <th rowspan=\"2\" valign=\"top\">UP_D5-Saturday-037600_B3_103</th>\n",
       "      <th rowspan=\"2\" valign=\"top\">2015-11-14</th>\n",
       "      <th>5081</th>\n",
       "      <td>B10163</td>\n",
       "      <td>[187.16, 361.71, 567.94, 720.29, 920.63, 1219....</td>\n",
       "      <td>[301614, 301615, 305511, 305512, 305513, 30551...</td>\n",
       "      <td>[25545000000000]</td>\n",
       "      <td>[10874.31]</td>\n",
       "    </tr>\n",
       "    <tr>\n",
       "      <th>7153</th>\n",
       "      <td>B10163</td>\n",
       "      <td>[187.16, 361.71, 567.94, 720.29, 920.63, 1219....</td>\n",
       "      <td>[301614, 301615, 305511, 305512, 305513, 30551...</td>\n",
       "      <td>[22810000000000, 22906000000000, 2297000000000...</td>\n",
       "      <td>[2.83, 138.2, 309.72, 549.19, 731.42, 909.5, 1...</td>\n",
       "    </tr>\n",
       "    <tr>\n",
       "      <th rowspan=\"2\" valign=\"top\">UP_D5-Saturday-039000_B1_2</th>\n",
       "      <th rowspan=\"2\" valign=\"top\">2015-11-14</th>\n",
       "      <th>423</th>\n",
       "      <td>B10162</td>\n",
       "      <td>[0.44, 289.31, 427.52, 560.27, 845.9, 1002.3, ...</td>\n",
       "      <td>[300000, 300002, 300003, 300004, 300006, 30000...</td>\n",
       "      <td>[26278000000000]</td>\n",
       "      <td>[5002.12]</td>\n",
       "    </tr>\n",
       "    <tr>\n",
       "      <th>4892</th>\n",
       "      <td>B10162</td>\n",
       "      <td>[0.44, 289.31, 427.52, 560.27, 845.9, 1002.3, ...</td>\n",
       "      <td>[300000, 300002, 300003, 300004, 300006, 30000...</td>\n",
       "      <td>[23471000000000, 23564000000000, 2362800000000...</td>\n",
       "      <td>[0.44, 1103.69, 1499.4, 1758.14, 2027.23, 2384...</td>\n",
       "    </tr>\n",
       "    <tr>\n",
       "      <th>UP_D5-Saturday-040100_B1_5</th>\n",
       "      <th>2015-11-14</th>\n",
       "      <th>4868</th>\n",
       "      <td>B10163</td>\n",
       "      <td>[187.16, 361.71, 567.94, 720.29, 920.63, 1219....</td>\n",
       "      <td>[301614, 301615, 305511, 305512, 305513, 30551...</td>\n",
       "      <td>[23858000000000, 23924000000000, 2398800000000...</td>\n",
       "      <td>[8.78, 101.31, 139.3, 139.3, 213.15, 455.45, 8...</td>\n",
       "    </tr>\n",
       "  </tbody>\n",
       "</table>\n",
       "</div>"
      ],
      "text/plain": [
       "                                                               SHAPE_ID  \\\n",
       "ROUTE_ID TRIP_ID                         trip_date  vehicle_id            \n",
       "B1       UP_D5-Saturday-009800_B1_1      2015-11-14 4858         B10163   \n",
       "         UP_D5-Saturday-010000_B1_2      2015-11-14 423          B10162   \n",
       "                                                    4892         B10162   \n",
       "         UP_D5-Saturday-013800_B1_2      2015-11-14 4892         B10163   \n",
       "         UP_D5-Saturday-014000_B1_1      2015-11-14 4858         B10162   \n",
       "         UP_D5-Saturday-017800_B1_1      2015-11-14 4858         B10163   \n",
       "         UP_D5-Saturday-018000_B1_2      2015-11-14 4892         B10162   \n",
       "         UP_D5-Saturday-021800_B1_2      2015-11-14 423          B10163   \n",
       "                                                    4892         B10163   \n",
       "         UP_D5-Saturday-022000_B1_1      2015-11-14 4858         B10162   \n",
       "         UP_D5-Saturday-025800_X2737_702 2015-11-14 7174         B10163   \n",
       "         UP_D5-Saturday-026000_B1_2      2015-11-14 423          B10162   \n",
       "                                                    4892         B10162   \n",
       "         UP_D5-Saturday-029600_B3_103    2015-11-14 7153         B10163   \n",
       "         UP_D5-Saturday-030000_X2737_702 2015-11-14 7174         B10162   \n",
       "         UP_D5-Saturday-033800_X2737_702 2015-11-14 4858         B10163   \n",
       "                                                    4892         B10163   \n",
       "                                                    7174         B10163   \n",
       "         UP_D5-Saturday-034000_B3_103    2015-11-14 7153         B10162   \n",
       "         UP_D5-Saturday-037000_B1_1      2015-11-14 4858         B10162   \n",
       "         UP_D5-Saturday-037600_B3_103    2015-11-14 5081         B10163   \n",
       "                                                    7153         B10163   \n",
       "         UP_D5-Saturday-039000_B1_2      2015-11-14 423          B10162   \n",
       "                                                    4892         B10162   \n",
       "         UP_D5-Saturday-040100_B1_5      2015-11-14 4868         B10163   \n",
       "\n",
       "                                                                                                  shape_stop_dist  \\\n",
       "ROUTE_ID TRIP_ID                         trip_date  vehicle_id                                                      \n",
       "B1       UP_D5-Saturday-009800_B1_1      2015-11-14 4858        [187.16, 361.71, 567.94, 720.29, 920.63, 1219....   \n",
       "         UP_D5-Saturday-010000_B1_2      2015-11-14 423         [0.44, 289.31, 427.52, 560.27, 845.9, 1002.3, ...   \n",
       "                                                    4892        [0.44, 289.31, 427.52, 560.27, 845.9, 1002.3, ...   \n",
       "         UP_D5-Saturday-013800_B1_2      2015-11-14 4892        [187.16, 361.71, 567.94, 720.29, 920.63, 1219....   \n",
       "         UP_D5-Saturday-014000_B1_1      2015-11-14 4858        [0.44, 289.31, 427.52, 560.27, 845.9, 1002.3, ...   \n",
       "         UP_D5-Saturday-017800_B1_1      2015-11-14 4858        [187.16, 361.71, 567.94, 720.29, 920.63, 1219....   \n",
       "         UP_D5-Saturday-018000_B1_2      2015-11-14 4892        [0.44, 289.31, 427.52, 560.27, 845.9, 1002.3, ...   \n",
       "         UP_D5-Saturday-021800_B1_2      2015-11-14 423         [187.16, 361.71, 567.94, 720.29, 920.63, 1219....   \n",
       "                                                    4892        [187.16, 361.71, 567.94, 720.29, 920.63, 1219....   \n",
       "         UP_D5-Saturday-022000_B1_1      2015-11-14 4858        [0.44, 289.31, 427.52, 560.27, 845.9, 1002.3, ...   \n",
       "         UP_D5-Saturday-025800_X2737_702 2015-11-14 7174        [187.16, 361.71, 567.94, 720.29, 920.63, 1219....   \n",
       "         UP_D5-Saturday-026000_B1_2      2015-11-14 423         [0.44, 289.31, 427.52, 560.27, 845.9, 1002.3, ...   \n",
       "                                                    4892        [0.44, 289.31, 427.52, 560.27, 845.9, 1002.3, ...   \n",
       "         UP_D5-Saturday-029600_B3_103    2015-11-14 7153        [187.16, 361.71, 567.94, 720.29, 920.63, 1219....   \n",
       "         UP_D5-Saturday-030000_X2737_702 2015-11-14 7174        [0.44, 289.31, 427.52, 560.27, 845.9, 1002.3, ...   \n",
       "         UP_D5-Saturday-033800_X2737_702 2015-11-14 4858        [187.16, 361.71, 567.94, 720.29, 920.63, 1219....   \n",
       "                                                    4892        [187.16, 361.71, 567.94, 720.29, 920.63, 1219....   \n",
       "                                                    7174        [187.16, 361.71, 567.94, 720.29, 920.63, 1219....   \n",
       "         UP_D5-Saturday-034000_B3_103    2015-11-14 7153        [0.44, 289.31, 427.52, 560.27, 845.9, 1002.3, ...   \n",
       "         UP_D5-Saturday-037000_B1_1      2015-11-14 4858        [0.44, 289.31, 427.52, 560.27, 845.9, 1002.3, ...   \n",
       "         UP_D5-Saturday-037600_B3_103    2015-11-14 5081        [187.16, 361.71, 567.94, 720.29, 920.63, 1219....   \n",
       "                                                    7153        [187.16, 361.71, 567.94, 720.29, 920.63, 1219....   \n",
       "         UP_D5-Saturday-039000_B1_2      2015-11-14 423         [0.44, 289.31, 427.52, 560.27, 845.9, 1002.3, ...   \n",
       "                                                    4892        [0.44, 289.31, 427.52, 560.27, 845.9, 1002.3, ...   \n",
       "         UP_D5-Saturday-040100_B1_5      2015-11-14 4868        [187.16, 361.71, 567.94, 720.29, 920.63, 1219....   \n",
       "\n",
       "                                                                                                    shape_stop_id  \\\n",
       "ROUTE_ID TRIP_ID                         trip_date  vehicle_id                                                      \n",
       "B1       UP_D5-Saturday-009800_B1_1      2015-11-14 4858        [301614, 301615, 305511, 305512, 305513, 30551...   \n",
       "         UP_D5-Saturday-010000_B1_2      2015-11-14 423         [300000, 300002, 300003, 300004, 300006, 30000...   \n",
       "                                                    4892        [300000, 300002, 300003, 300004, 300006, 30000...   \n",
       "         UP_D5-Saturday-013800_B1_2      2015-11-14 4892        [301614, 301615, 305511, 305512, 305513, 30551...   \n",
       "         UP_D5-Saturday-014000_B1_1      2015-11-14 4858        [300000, 300002, 300003, 300004, 300006, 30000...   \n",
       "         UP_D5-Saturday-017800_B1_1      2015-11-14 4858        [301614, 301615, 305511, 305512, 305513, 30551...   \n",
       "         UP_D5-Saturday-018000_B1_2      2015-11-14 4892        [300000, 300002, 300003, 300004, 300006, 30000...   \n",
       "         UP_D5-Saturday-021800_B1_2      2015-11-14 423         [301614, 301615, 305511, 305512, 305513, 30551...   \n",
       "                                                    4892        [301614, 301615, 305511, 305512, 305513, 30551...   \n",
       "         UP_D5-Saturday-022000_B1_1      2015-11-14 4858        [300000, 300002, 300003, 300004, 300006, 30000...   \n",
       "         UP_D5-Saturday-025800_X2737_702 2015-11-14 7174        [301614, 301615, 305511, 305512, 305513, 30551...   \n",
       "         UP_D5-Saturday-026000_B1_2      2015-11-14 423         [300000, 300002, 300003, 300004, 300006, 30000...   \n",
       "                                                    4892        [300000, 300002, 300003, 300004, 300006, 30000...   \n",
       "         UP_D5-Saturday-029600_B3_103    2015-11-14 7153        [301614, 301615, 305511, 305512, 305513, 30551...   \n",
       "         UP_D5-Saturday-030000_X2737_702 2015-11-14 7174        [300000, 300002, 300003, 300004, 300006, 30000...   \n",
       "         UP_D5-Saturday-033800_X2737_702 2015-11-14 4858        [301614, 301615, 305511, 305512, 305513, 30551...   \n",
       "                                                    4892        [301614, 301615, 305511, 305512, 305513, 30551...   \n",
       "                                                    7174        [301614, 301615, 305511, 305512, 305513, 30551...   \n",
       "         UP_D5-Saturday-034000_B3_103    2015-11-14 7153        [300000, 300002, 300003, 300004, 300006, 30000...   \n",
       "         UP_D5-Saturday-037000_B1_1      2015-11-14 4858        [300000, 300002, 300003, 300004, 300006, 30000...   \n",
       "         UP_D5-Saturday-037600_B3_103    2015-11-14 5081        [301614, 301615, 305511, 305512, 305513, 30551...   \n",
       "                                                    7153        [301614, 301615, 305511, 305512, 305513, 30551...   \n",
       "         UP_D5-Saturday-039000_B1_2      2015-11-14 423         [300000, 300002, 300003, 300004, 300006, 30000...   \n",
       "                                                    4892        [300000, 300002, 300003, 300004, 300006, 30000...   \n",
       "         UP_D5-Saturday-040100_B1_5      2015-11-14 4868        [301614, 301615, 305511, 305512, 305513, 30551...   \n",
       "\n",
       "                                                                                                    recorded_time  \\\n",
       "ROUTE_ID TRIP_ID                         trip_date  vehicle_id                                                      \n",
       "B1       UP_D5-Saturday-009800_B1_1      2015-11-14 4858        [7174000000000, 7238000000000, 7301000000000, ...   \n",
       "         UP_D5-Saturday-010000_B1_2      2015-11-14 423                                           [7590000000000]   \n",
       "                                                    4892        [7187000000000, 7249000000000, 7313000000000, ...   \n",
       "         UP_D5-Saturday-013800_B1_2      2015-11-14 4892        [7563000000000, 7688000000000, 7750000000000, ...   \n",
       "         UP_D5-Saturday-014000_B1_1      2015-11-14 4858                                          [8407000000000]   \n",
       "         UP_D5-Saturday-017800_B1_1      2015-11-14 4858                         [10788000000000, 10980000000000]   \n",
       "         UP_D5-Saturday-018000_B1_2      2015-11-14 4892                                         [10983000000000]   \n",
       "         UP_D5-Saturday-021800_B1_2      2015-11-14 423                          [18588000000000, 18620000000000]   \n",
       "                                                    4892        [14375000000000, 14437000000000, 1449900000000...   \n",
       "         UP_D5-Saturday-022000_B1_1      2015-11-14 4858        [14373000000000, 14436000000000, 1449900000000...   \n",
       "         UP_D5-Saturday-025800_X2737_702 2015-11-14 7174        [15382000000000, 15445000000000, 1547800000000...   \n",
       "         UP_D5-Saturday-026000_B1_2      2015-11-14 423                                          [19980000000000]   \n",
       "                                                    4892        [15752000000000, 15815000000000, 1584700000000...   \n",
       "         UP_D5-Saturday-029600_B3_103    2015-11-14 7153        [17814000000000, 17877000000000, 1794200000000...   \n",
       "         UP_D5-Saturday-030000_X2737_702 2015-11-14 7174        [18051000000000, 18115000000000, 1817800000000...   \n",
       "         UP_D5-Saturday-033800_X2737_702 2015-11-14 4858                                         [22128000000000]   \n",
       "                                                    4892         [23282000000000, 23345000000000, 23408000000000]   \n",
       "                                                    7174        [20169000000000, 20233000000000, 2029700000000...   \n",
       "         UP_D5-Saturday-034000_B3_103    2015-11-14 7153        [20193000000000, 20259000000000, 2032200000000...   \n",
       "         UP_D5-Saturday-037000_B1_1      2015-11-14 4858        [22223000000000, 22286000000000, 2234900000000...   \n",
       "         UP_D5-Saturday-037600_B3_103    2015-11-14 5081                                         [25545000000000]   \n",
       "                                                    7153        [22810000000000, 22906000000000, 2297000000000...   \n",
       "         UP_D5-Saturday-039000_B1_2      2015-11-14 423                                          [26278000000000]   \n",
       "                                                    4892        [23471000000000, 23564000000000, 2362800000000...   \n",
       "         UP_D5-Saturday-040100_B1_5      2015-11-14 4868        [23858000000000, 23924000000000, 2398800000000...   \n",
       "\n",
       "                                                                                             veh_dist_along_shape  \n",
       "ROUTE_ID TRIP_ID                         trip_date  vehicle_id                                                     \n",
       "B1       UP_D5-Saturday-009800_B1_1      2015-11-14 4858        [5985.48, 6232.36, 6571.7, 6658.35, 6658.35, 7...  \n",
       "         UP_D5-Saturday-010000_B1_2      2015-11-14 423                                                 [5009.34]  \n",
       "                                                    4892        [8248.83, 8770.45, 9667.56, 10025.47, 10585.16...  \n",
       "         UP_D5-Saturday-013800_B1_2      2015-11-14 4892        [79.79, 79.4, 79.4, 79.4, 79.4, 79.4, 79.4, 79...  \n",
       "         UP_D5-Saturday-014000_B1_1      2015-11-14 4858                                                 [343.05]  \n",
       "         UP_D5-Saturday-017800_B1_1      2015-11-14 4858                                         [73.61, 1162.38]  \n",
       "         UP_D5-Saturday-018000_B1_2      2015-11-14 4892                                                 [629.75]  \n",
       "         UP_D5-Saturday-021800_B1_2      2015-11-14 423                                        [5933.54, 5933.54]  \n",
       "                                                    4892        [6501.69, 6681.45, 6775.58, 7176.11, 7452.9, 7...  \n",
       "         UP_D5-Saturday-022000_B1_1      2015-11-14 4858        [6136.42, 6351.03, 6898.59, 7013.14, 7219.77, ...  \n",
       "         UP_D5-Saturday-025800_X2737_702 2015-11-14 7174        [83.32, 291.89, 393.09, 668.05, 1385.73, 1764....  \n",
       "         UP_D5-Saturday-026000_B1_2      2015-11-14 423                                                 [5004.26]  \n",
       "                                                    4892        [450.95, 935.27, 1185.26, 1544.07, 1760.55, 18...  \n",
       "         UP_D5-Saturday-029600_B3_103    2015-11-14 7153        [73.67, 274.43, 500.69, 663.7, 1197.54, 1474.1...  \n",
       "         UP_D5-Saturday-030000_X2737_702 2015-11-14 7174        [575.71, 1185.26, 1760.55, 1760.55, 1861.47, 2...  \n",
       "         UP_D5-Saturday-033800_X2737_702 2015-11-14 4858                                               [10828.04]  \n",
       "                                                    4892                           [10774.88, 10774.88, 10774.88]  \n",
       "                                                    7174        [143.83, 365.46, 541.69, 1219.52, 1743.5, 2103...  \n",
       "         UP_D5-Saturday-034000_B3_103    2015-11-14 7153        [0.44, 0.44, 0.44, 0.44, 266.51, 920.38, 1277....  \n",
       "         UP_D5-Saturday-037000_B1_1      2015-11-14 4858        [742.59, 1110.02, 1335.22, 1733.57, 1846.8, 23...  \n",
       "         UP_D5-Saturday-037600_B3_103    2015-11-14 5081                                               [10874.31]  \n",
       "                                                    7153        [2.83, 138.2, 309.72, 549.19, 731.42, 909.5, 1...  \n",
       "         UP_D5-Saturday-039000_B1_2      2015-11-14 423                                                 [5002.12]  \n",
       "                                                    4892        [0.44, 1103.69, 1499.4, 1758.14, 2027.23, 2384...  \n",
       "         UP_D5-Saturday-040100_B1_5      2015-11-14 4868        [8.78, 101.31, 139.3, 139.3, 213.15, 455.45, 8...  "
      ]
     },
     "execution_count": 20,
     "metadata": {},
     "output_type": "execute_result"
    }
   ],
   "source": [
    "avl_merged.head(25)"
   ]
  },
  {
   "cell_type": "markdown",
   "metadata": {},
   "source": [
    "### Compare performance when iterating over dataframe of lists or dict of dicts\n",
    "Approach 1"
   ]
  },
  {
   "cell_type": "markdown",
   "metadata": {},
   "source": [
    "Approach 3, using dataframe version but trying longest-increasing subsequence to slice array"
   ]
  },
  {
   "cell_type": "code",
   "execution_count": 21,
   "metadata": {
    "collapsed": false
   },
   "outputs": [
    {
     "name": "stdout",
     "output_type": "stream",
     "text": [
      "Processing time:\n",
      "300.024837971\n"
     ]
    }
   ],
   "source": [
    "starttime = time.time()\n",
    "results_longest = {}\n",
    "for i, v in avl_merged.iterrows():\n",
    "    results_longest[i] = interpolate_stops5(v)\n",
    "print 'Processing time:'\n",
    "print time.time() - starttime"
   ]
  },
  {
   "cell_type": "code",
   "execution_count": 22,
   "metadata": {
    "collapsed": true
   },
   "outputs": [],
   "source": [
    "import pickle\n",
    "\n",
    "with open('nov2015_results.pickle', 'wb') as handle:\n",
    "    pickle.dump(results_longest, handle)"
   ]
  },
  {
   "cell_type": "markdown",
   "metadata": {},
   "source": [
    "### Expand results into a dataframe (to use for things like headway measurement)"
   ]
  },
  {
   "cell_type": "code",
   "execution_count": 23,
   "metadata": {
    "collapsed": false
   },
   "outputs": [],
   "source": [
    "import csv\n",
    "with open('nov2015_interpolated.csv','w') as out:\n",
    "    csv_out=csv.writer(out)\n",
    "    csv_out.writerow(['ROUTE_ID','TRIP_ID','trip_date','vehicle_id','STOP_ID','interpolated_arrival_time'])\n",
    "    for k, v in results_longest.iteritems():\n",
    "        for i in range(len(v[0])):\n",
    "            row = k + (v[0][i],v[1][i])\n",
    "            csv_out.writerow(row)"
   ]
  },
  {
   "cell_type": "markdown",
   "metadata": {},
   "source": [
    "## Investigate results and check method for data groups with more than one ping"
   ]
  },
  {
   "cell_type": "code",
   "execution_count": 24,
   "metadata": {
    "collapsed": false
   },
   "outputs": [
    {
     "name": "stdout",
     "output_type": "stream",
     "text": [
      "Some basic stats: \n",
      "Total number of estimated arrival times\n",
      "7857384\n",
      "Number of trips identified overall\n",
      "295750\n",
      "Number of trips with estimates\n",
      "251061\n",
      "Number of trips without valid interpolation\n",
      "44689\n",
      "Average number of estimates per trip\n",
      "31.2967127511\n"
     ]
    }
   ],
   "source": [
    "lens = []\n",
    "trip_count = 0\n",
    "for k, v in results_longest.iteritems():\n",
    "    l = len(v[0])\n",
    "    if l > 0:\n",
    "        trip_count += 1\n",
    "    lens.append(l)\n",
    "def empty_inds(lst):\n",
    "    k = results_longest.keys()\n",
    "    return [k[i] for i, x in enumerate(lst) if x==0]\n",
    "empty_keys = empty_inds(lens)\n",
    "print 'Some basic stats: '\n",
    "print 'Total number of estimated arrival times'\n",
    "print sum(lens)\n",
    "print 'Number of trips identified overall'\n",
    "print len(lens)\n",
    "print 'Number of trips with estimates'\n",
    "print trip_count\n",
    "print 'Number of trips without valid interpolation'\n",
    "print len(empty_keys)\n",
    "print 'Average number of estimates per trip'\n",
    "print 1.0*sum(lens)/trip_count"
   ]
  },
  {
   "cell_type": "code",
   "execution_count": 24,
   "metadata": {
    "collapsed": false
   },
   "outputs": [],
   "source": [
    "ek_index = pd.MultiIndex.from_tuples(empty_keys)\n",
    "ek_info = pd.DataFrame(data=gb.size(),index=ek_index,columns=['N'])"
   ]
  },
  {
   "cell_type": "code",
   "execution_count": 25,
   "metadata": {
    "collapsed": false
   },
   "outputs": [],
   "source": [
    "ek_info['min_ts'] = gb['recorded_time'].min()\n",
    "ek_info['max_ts'] = gb['recorded_time'].max()\n",
    "ek_info['min_dist'] = gb['veh_dist_along_shape'].min()\n",
    "ek_info['max_dist'] = gb['veh_dist_along_shape'].max()"
   ]
  },
  {
   "cell_type": "code",
   "execution_count": 26,
   "metadata": {
    "collapsed": false
   },
   "outputs": [],
   "source": [
    "ek_info['ts_delta'] = ek_info['max_ts'] - ek_info['min_ts']\n",
    "ek_info['dist_delta'] = ek_info['max_dist'] - ek_info['min_dist']"
   ]
  },
  {
   "cell_type": "code",
   "execution_count": 27,
   "metadata": {
    "collapsed": false
   },
   "outputs": [
    {
     "data": {
      "text/plain": [
       "N\n",
       "1      0.691066\n",
       "2      0.124428\n",
       "3      0.059734\n",
       "4      0.034402\n",
       "5      0.020836\n",
       "6      0.014863\n",
       "7      0.010691\n",
       "8      0.007391\n",
       "9      0.005305\n",
       "10     0.004475\n",
       "11     0.003625\n",
       "12     0.002835\n",
       "13     0.002774\n",
       "14     0.002329\n",
       "15     0.001903\n",
       "16     0.001235\n",
       "17     0.001276\n",
       "18     0.001114\n",
       "19     0.000992\n",
       "20     0.000911\n",
       "21     0.000790\n",
       "22     0.000486\n",
       "23     0.000486\n",
       "24     0.000445\n",
       "25     0.000526\n",
       "26     0.000547\n",
       "27     0.000466\n",
       "28     0.000223\n",
       "29     0.000283\n",
       "30     0.000182\n",
       "         ...   \n",
       "42     0.000121\n",
       "43     0.000061\n",
       "44     0.000101\n",
       "45     0.000101\n",
       "47     0.000061\n",
       "48     0.000081\n",
       "49     0.000121\n",
       "50     0.000040\n",
       "52     0.000081\n",
       "53     0.000020\n",
       "54     0.000061\n",
       "55     0.000040\n",
       "56     0.000081\n",
       "57     0.000020\n",
       "58     0.000081\n",
       "59     0.000020\n",
       "60     0.000020\n",
       "61     0.000061\n",
       "64     0.000020\n",
       "67     0.000081\n",
       "68     0.000020\n",
       "70     0.000020\n",
       "72     0.000020\n",
       "73     0.000040\n",
       "74     0.000020\n",
       "76     0.000020\n",
       "89     0.000020\n",
       "95     0.000020\n",
       "120    0.000020\n",
       "217    0.000020\n",
       "dtype: float64"
      ]
     },
     "execution_count": 27,
     "metadata": {},
     "output_type": "execute_result"
    }
   ],
   "source": [
    "ek_info.groupby('N').size()/len(ek_info)"
   ]
  },
  {
   "cell_type": "code",
   "execution_count": 28,
   "metadata": {
    "collapsed": false
   },
   "outputs": [
    {
     "data": {
      "text/plain": [
       "<matplotlib.axes._subplots.AxesSubplot at 0x7f48abd1a250>"
      ]
     },
     "execution_count": 28,
     "metadata": {},
     "output_type": "execute_result"
    },
    {
     "data": {
      "image/png": "[encoded data removed]",
      "text/plain": [
       "<matplotlib.figure.Figure at 0x7f485cab2750>"
      ]
     },
     "metadata": {},
     "output_type": "display_data"
    }
   ],
   "source": [
    "ek_info.query('N>1')['dist_delta'].hist(range=(0,1000),bins=50)"
   ]
  },
  {
   "cell_type": "code",
   "execution_count": 29,
   "metadata": {
    "collapsed": false
   },
   "outputs": [
    {
     "data": {
      "text/plain": [
       "<matplotlib.axes._subplots.AxesSubplot at 0x7f488e025190>"
      ]
     },
     "execution_count": 29,
     "metadata": {},
     "output_type": "execute_result"
    },
    {
     "data": {
      "image/png": "[encoded data removed]",
      "text/plain": [
       "<matplotlib.figure.Figure at 0x7f48aee34810>"
      ]
     },
     "metadata": {},
     "output_type": "display_data"
    }
   ],
   "source": [
    "# how many stops were estimated for each trip data group?\n",
    "pd.Series(lens).hist(range=(0,80),bins=40)"
   ]
  },
  {
   "cell_type": "code",
   "execution_count": 30,
   "metadata": {
    "collapsed": false
   },
   "outputs": [
    {
     "data": {
      "text/plain": [
       "<matplotlib.axes._subplots.AxesSubplot at 0x7f4873573450>"
      ]
     },
     "execution_count": 30,
     "metadata": {},
     "output_type": "execute_result"
    },
    {
     "data": {
      "image/png": "[encoded data removed]",
      "text/plain": [
       "<matplotlib.figure.Figure at 0x7f488a04f050>"
      ]
     },
     "metadata": {},
     "output_type": "display_data"
    }
   ],
   "source": [
    "# how many pings were available for each trip data group?\n",
    "gb.size().hist(range=(0,90),bins=30)"
   ]
  },
  {
   "cell_type": "code",
   "execution_count": null,
   "metadata": {
    "collapsed": true
   },
   "outputs": [],
   "source": []
  }
 ],
 "metadata": {
  "kernelspec": {
   "display_name": "Python 2",
   "language": "python",
   "name": "python2"
  },
  "language_info": {
   "codemirror_mode": {
    "name": "ipython",
    "version": 2
   },
   "file_extension": ".py",
   "mimetype": "text/x-python",
   "name": "python",
   "nbconvert_exporter": "python",
   "pygments_lexer": "ipython2",
   "version": "2.7.11"
  }
 },
 "nbformat": 4,
 "nbformat_minor": 0
}
