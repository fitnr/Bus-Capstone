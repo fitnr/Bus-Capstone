{
 "cells": [
  {
   "cell_type": "code",
   "execution_count": 1,
   "metadata": {
    "collapsed": false
   },
   "outputs": [],
   "source": [
    "# -*- coding: utf-8 -*-\n",
    "\"\"\"\n",
    "The script demonstrates a comparison of vehicle times from AVL data to the\n",
    "scheduled arrival time at one stop for one example trip.\n",
    "\"\"\"\n",
    "\n",
    "import os\n",
    "import pandas as pd\n",
    "import matplotlib.pyplot as plt\n",
    "from scipy import interpolate\n",
    "from itertools import compress\n",
    "import time\n",
    "%matplotlib inline  \n",
    "import sys\n",
    "sys.path.append('/gpfs2/projects/project-bus_capstone_2016/workspace/mu529/bus-Capstone')\n",
    "\n",
    "# these two modules are homemade\n",
    "import gtfs\n",
    "import arrivals\n",
    "import time\n",
    "import ttools\n",
    "os.chdir('/gpfs2/projects/project-bus_capstone_2016/workspace/share')"
   ]
  },
  {
   "cell_type": "code",
   "execution_count": 2,
   "metadata": {
    "collapsed": false
   },
   "outputs": [],
   "source": [
    "# for iteration over dataframe rows (each row is a collection of lists of necessary data)\n",
    "def interpolate_stops3(merged_row):\n",
    "    distance_stops = merged_row.stop_dist_on_trip\n",
    "    if len(merged_row.timestamp)<2:\n",
    "        return [[]]    \n",
    "    list1, list2 = zip(*sorted(zip(merged_row.timestamp,merged_row.veh_dist_along_trip)))\n",
    "    veh_pings = pd.Series(index=list1,data=list2)\n",
    "    last = veh_pings.idxmax()\n",
    "    first = veh_pings.sort_index(ascending=False).idxmin()\n",
    "    veh_pings = veh_pings.dropna()\n",
    "    if len(veh_pings) == 0:\n",
    "        return [[]]\n",
    "    inter_stops = veh_pings.loc[first:last]\n",
    "    if len(inter_stops)<2:\n",
    "        return [[]]\n",
    "    x = inter_stops.values\n",
    "    y = inter_stops.index.values\n",
    "    f = interpolate.interp1d(x,y)\n",
    "    xnew = distance_stops\n",
    "    masker = (xnew > min(x)) & (xnew < max(x))\n",
    "    xnew = list(compress(xnew,masker))\n",
    "    interp_times = pd.to_timedelta(f(xnew),unit='ns')    \n",
    "    return [list(compress(merged_row.next_stop_id,masker)),interp_times]"
   ]
  },
  {
   "cell_type": "code",
   "execution_count": 3,
   "metadata": {
    "collapsed": true
   },
   "outputs": [],
   "source": [
    "# for iteration over dict-of-dicts (each dict is a collection of lists of necessary data)\n",
    "def interpolate_stops4(d):\n",
    "    distance_stops = d['stop_dist_on_trip']\n",
    "    if len(d['timestamp'])<2:\n",
    "        return [[]]    \n",
    "    list1, list2 = zip(*sorted(zip(d['timestamp'],d['veh_dist_along_trip'])))\n",
    "    veh_pings = pd.Series(index=list1,data=list2)\n",
    "    last = veh_pings.idxmax()\n",
    "    first = veh_pings.sort_index(ascending=False).idxmin()\n",
    "    veh_pings = veh_pings.dropna()\n",
    "    if len(veh_pings) == 0:\n",
    "        return [[]]\n",
    "    inter_stops = veh_pings.loc[first:last]\n",
    "    if len(inter_stops)<2:\n",
    "        return [[]]\n",
    "    x = inter_stops.values\n",
    "    y = inter_stops.index.values\n",
    "    f = interpolate.interp1d(x,y)\n",
    "    xnew = distance_stops\n",
    "    masker = (xnew > min(x)) & (xnew < max(x))\n",
    "    xnew = list(compress(xnew,masker))\n",
    "    interp_times = pd.to_timedelta(f(xnew),unit='ns')    \n",
    "    return [list(compress(d['next_stop_id'],masker)),interp_times]"
   ]
  },
  {
   "cell_type": "code",
   "execution_count": 82,
   "metadata": {
    "collapsed": true
   },
   "outputs": [],
   "source": [
    "def longest_increasing_range(s,tolerance=0):\n",
    "    end_idx_local = 0\n",
    "    start_idx_local = 0\n",
    "    best_len = 0\n",
    "    for i in xrange(1, len(s)):\n",
    "        if s[i] < (s[i-1]-tolerance):\n",
    "            # first check we achieved a new best\n",
    "            local_max_len = end_idx_local - start_idx_local\n",
    "            if local_max_len > best_len:\n",
    "                best_len = local_max_len # reset the best length\n",
    "                start_idx_best = start_idx_local\n",
    "                end_idx_best = i  # and remember the local indexes as the best \n",
    "            # in any case, reset the local bookmarks\n",
    "            start_idx_local = i\n",
    "            end_idx_local = i\n",
    "        else:\n",
    "            # if it continues to increase, do nothing except move the end bookmark\n",
    "            end_idx_local = i\n",
    "            local_max_len = end_idx_local - start_idx_local\n",
    "    if local_max_len > best_len:\n",
    "        # in case the entire sequence was monotonic increasing\n",
    "        return (0,end_idx_local+1)\n",
    "    elif best_len == 0:\n",
    "        # in case the entire sequence was monotonic decreasing\n",
    "        return (None,None)\n",
    "    else:\n",
    "        return (start_idx_best,end_idx_best+1)"
   ]
  },
  {
   "cell_type": "code",
   "execution_count": 111,
   "metadata": {
    "collapsed": true
   },
   "outputs": [],
   "source": [
    "# for iteration over dataframe rows (each row is a collection of lists of necessary data)\n",
    "def interpolate_stops5(merged_row):\n",
    "    distance_stops = merged_row.stop_dist_on_trip\n",
    "    if type(distance_stops) != list:\n",
    "        return [[]]\n",
    "    if len(merged_row.timestamp)<2:\n",
    "        return [[]]    \n",
    "    list1, list2 = zip(*sorted(zip(merged_row.timestamp,merged_row.veh_dist_along_trip)))\n",
    "    veh_pings = pd.Series(index=list1,data=list2)\n",
    "    # last = veh_pings.idxmax()\n",
    "    # first = veh_pings.sort_index(ascending=False).idxmin()\n",
    "    veh_pings = veh_pings.dropna()\n",
    "    first, last = longest_increasing_range(veh_pings.values,tolerance=100)\n",
    "    if len(veh_pings) == 0:\n",
    "        return [[]]\n",
    "    inter_stops = veh_pings.iloc[first:last]\n",
    "    if len(inter_stops)<2:\n",
    "        return [[]]\n",
    "    x = inter_stops.values\n",
    "    y = inter_stops.index.values\n",
    "    f = interpolate.interp1d(x,y)\n",
    "    xnew = distance_stops\n",
    "    masker = (xnew > min(x)) & (xnew < max(x))\n",
    "    xnew = list(compress(xnew,masker))\n",
    "    interp_times = pd.to_timedelta(f(xnew),unit='ns')    \n",
    "    return [list(compress(merged_row.next_stop_id,masker)),interp_times]"
   ]
  },
  {
   "cell_type": "markdown",
   "metadata": {},
   "source": [
    "## Now try it on a WHOLE DAY of data...\n",
    "#### Potential weakness: only uses the most common shape_id for each trip"
   ]
  },
  {
   "cell_type": "code",
   "execution_count": 4,
   "metadata": {
    "collapsed": true
   },
   "outputs": [],
   "source": [
    "# get the sample of parsed AVL data.  Beware, large files take more time.\n",
    "# bustime = pd.read_csv('spark_parse/1203.txt',header=None)\n",
    "bustime = pd.read_csv('spark_parse/1203_cleaned.csv')"
   ]
  },
  {
   "cell_type": "code",
   "execution_count": 5,
   "metadata": {
    "collapsed": false
   },
   "outputs": [],
   "source": [
    "bustime.drop('Unnamed: 0',axis=1,inplace=True)"
   ]
  },
  {
   "cell_type": "code",
   "execution_count": 6,
   "metadata": {
    "collapsed": false
   },
   "outputs": [
    {
     "name": "stdout",
     "output_type": "stream",
     "text": [
      "Finished loading BusTime data, parsing timestamps, and slicing ONE DAY.\n"
     ]
    }
   ],
   "source": [
    "# beware!  Bonan is still working on organizing the extract files.  these columns may change.\n",
    "#bustime.columns = ['route','lat','lon','timestamp','vehicle_id','trip_id','trip_date','shape_id',\n",
    "#                   'next_stop_id','dist_from_stop','stop_dist_on_trip','presentable_dist']\n",
    "\n",
    "bustime.drop_duplicates(['vehicle_id','timestamp'],inplace=True)\n",
    "bustime['trip_id'] = bustime['trip_id'].str.replace('MTA NYCT_','')\n",
    "bustime['trip_id'] = bustime['trip_id'].str.replace('MTABC_','')\n",
    "\n",
    "bustime.set_index(['route','trip_id','trip_date','vehicle_id'],inplace=True,drop=True)\n",
    "bustime.set_index('timestamp',append=True,drop=False,inplace=True)\n",
    "\n",
    "# for demonstration, use a subset. Just get data one day.\n",
    "tripDateLookup = \"2015-12-03\"\n",
    "bustime = bustime.xs((tripDateLookup),level=(2),drop_level=False)\n",
    "# note that the AVL dataframe must be sorted by timestammp, since iloc[]\n",
    "# selection is used later in this script to find the earliest time\n",
    "bustime.sort_index(inplace=True)\n",
    "bustime['timestamp'] = bustime['timestamp'].apply(ttools.parseActualTime,tdate='2015-12-03')\n",
    "\n",
    "bustime['stop_dist_on_trip'] = bustime['stop_dist_on_trip'].convert_objects(convert_numeric=True)\n",
    "bustime['dist_from_stop'] = bustime['dist_from_stop'].convert_objects(convert_numeric=True)\n",
    "bustime['veh_dist_along_trip'] = bustime['stop_dist_on_trip'] - bustime['dist_from_stop']\n",
    "\n",
    "print 'Finished loading BusTime data, parsing timestamps, and slicing ONE DAY.'"
   ]
  },
  {
   "cell_type": "code",
   "execution_count": 9,
   "metadata": {
    "collapsed": false
   },
   "outputs": [
    {
     "name": "stdout",
     "output_type": "stream",
     "text": [
      "Finished creating stop-distances reference dataframe.\n"
     ]
    }
   ],
   "source": [
    "# bustime = bustime.query('stop_dist_on_trip > 0.1')\n",
    "\n",
    "bustime_distances = bustime.drop(['timestamp'],axis=1,inplace=False)\n",
    "bustime_distances = bustime_distances.reset_index().drop(['route','trip_id','trip_date','vehicle_id','timestamp',\n",
    "                                                'lat','lon','dist_from_stop','presentable_dist',\n",
    "                                                'veh_dist_along_trip'],axis=1,inplace=False)\n",
    "\n",
    "stop_distances = bustime_distances.drop_duplicates(['shape_id','next_stop_id','stop_dist_on_trip'])\n",
    "stop_distances = stop_distances.query('stop_dist_on_trip > 0.1')\n",
    "stop_distances.shape_id = stop_distances.shape_id.str.replace('MTA_','')\n",
    "# stop_distances.next_stop_id = stop_distances.next_stop_id.str.replace('MTA_','')\n",
    "\n",
    "stop_distances = stop_distances.sort(['shape_id','stop_dist_on_trip']).reset_index(drop=True)\n",
    "\n",
    "print 'Finished creating stop-distances reference dataframe.'"
   ]
  },
  {
   "cell_type": "code",
   "execution_count": 11,
   "metadata": {
    "collapsed": false
   },
   "outputs": [],
   "source": [
    "avl_data2 = bustime\n",
    "# avl_data2.shape_id = avl_data2.shape_id.str.replace('MTA_','')\n",
    "# avl_data2.next_stop_id = avl_data2.next_stop_id.str.replace('MTA_','')"
   ]
  },
  {
   "cell_type": "code",
   "execution_count": 12,
   "metadata": {
    "collapsed": true
   },
   "outputs": [],
   "source": [
    "gb = avl_data2.groupby(level=(0,1,2,3))"
   ]
  },
  {
   "cell_type": "code",
   "execution_count": 13,
   "metadata": {
    "collapsed": true
   },
   "outputs": [],
   "source": [
    "reported_timestamps = gb['timestamp'].apply(list)\n",
    "reported_dists = gb['veh_dist_along_trip'].apply(list)\n",
    "shape_ids = gb['shape_id'].agg(lambda x:x.value_counts().index[0])"
   ]
  },
  {
   "cell_type": "code",
   "execution_count": 14,
   "metadata": {
    "collapsed": true
   },
   "outputs": [],
   "source": [
    "all_dists = stop_distances.groupby('shape_id')['stop_dist_on_trip'].apply(list)\n",
    "all_stops = stop_distances.groupby('shape_id')['next_stop_id'].apply(list)\n",
    "all_stop_dists = pd.DataFrame(shape_ids).merge(pd.DataFrame(all_dists),left_on='shape_id',right_index=True).merge(pd.DataFrame(all_stops),left_on='shape_id',right_index=True)"
   ]
  },
  {
   "cell_type": "markdown",
   "metadata": {},
   "source": [
    "Approach 1: merge everything into a dataframe"
   ]
  },
  {
   "cell_type": "code",
   "execution_count": 15,
   "metadata": {
    "collapsed": false
   },
   "outputs": [
    {
     "name": "stdout",
     "output_type": "stream",
     "text": [
      "Processing time:\n",
      "1.33799695969\n"
     ]
    }
   ],
   "source": [
    "starttime = time.time()\n",
    "avl_merged = pd.concat([all_stop_dists,reported_timestamps,reported_dists],axis=1)\n",
    "print 'Processing time:'\n",
    "print time.time() - starttime"
   ]
  },
  {
   "cell_type": "markdown",
   "metadata": {},
   "source": [
    "Approach 2: merge everything as a dict-of-dicts"
   ]
  },
  {
   "cell_type": "code",
   "execution_count": 16,
   "metadata": {
    "collapsed": false
   },
   "outputs": [
    {
     "name": "stdout",
     "output_type": "stream",
     "text": [
      "Processing time:\n",
      "17.4030539989\n"
     ]
    }
   ],
   "source": [
    "starttime = time.time()\n",
    "test_dict = {}\n",
    "for i,v in all_stop_dists.iterrows():\n",
    "    test_dict[i] = {'stop_dist_on_trip':v.stop_dist_on_trip,'next_stop_id':v.next_stop_id,\n",
    "                    'timestamp':reported_timestamps.loc[i],'veh_dist_along_trip':reported_dists.loc[i]}\n",
    "print 'Processing time:'\n",
    "print time.time() - starttime"
   ]
  },
  {
   "cell_type": "markdown",
   "metadata": {},
   "source": [
    "### Compare performance when iterating over dataframe of lists or dict of dicts\n",
    "Approach 1"
   ]
  },
  {
   "cell_type": "code",
   "execution_count": 17,
   "metadata": {
    "collapsed": false
   },
   "outputs": [
    {
     "name": "stdout",
     "output_type": "stream",
     "text": [
      "Processing time:\n",
      "93.4115130901\n"
     ]
    }
   ],
   "source": [
    "starttime = time.time()\n",
    "results = {}\n",
    "for i, v in avl_merged.iterrows():\n",
    "    results[i] = interpolate_stops3(v)\n",
    "print 'Processing time:'\n",
    "print time.time() - starttime"
   ]
  },
  {
   "cell_type": "markdown",
   "metadata": {},
   "source": [
    "Approach 1A, using longest-increasing subsequence to slice array"
   ]
  },
  {
   "cell_type": "code",
   "execution_count": 112,
   "metadata": {
    "collapsed": false
   },
   "outputs": [
    {
     "name": "stdout",
     "output_type": "stream",
     "text": [
      "Processing time:\n",
      "72.077712059\n"
     ]
    }
   ],
   "source": [
    "starttime = time.time()\n",
    "results_longest = {}\n",
    "for i, v in avl_merged.iterrows():\n",
    "    results_longest[i] = interpolate_stops5(v)\n",
    "print 'Processing time:'\n",
    "print time.time() - starttime"
   ]
  },
  {
   "cell_type": "markdown",
   "metadata": {},
   "source": [
    "Approach 2"
   ]
  },
  {
   "cell_type": "code",
   "execution_count": 15,
   "metadata": {
    "collapsed": false
   },
   "outputs": [
    {
     "name": "stdout",
     "output_type": "stream",
     "text": [
      "Processing time:\n",
      "81.2485888004\n"
     ]
    }
   ],
   "source": [
    "starttime = time.time()\n",
    "results2 = {}\n",
    "for k, v in test_dict.iteritems():\n",
    "    results2[k] = interpolate_stops4(v)\n",
    "print 'Processing time:'\n",
    "print time.time() - starttime"
   ]
  },
  {
   "cell_type": "markdown",
   "metadata": {},
   "source": [
    "### Expand results into a dataframe (to use for things like headway measurement)"
   ]
  },
  {
   "cell_type": "code",
   "execution_count": 138,
   "metadata": {
    "collapsed": false
   },
   "outputs": [],
   "source": [
    "import csv\n",
    "with open('2015-12-03_interpolated.csv','w') as out:\n",
    "    csv_out=csv.writer(out)\n",
    "    csv_out.writerow(['route','trip_id','trip_date','vehicle_id','stop_id','interpolated_arrival_time'])\n",
    "    for k, v in results_longest.iteritems():\n",
    "        for i in range(len(v[0])):\n",
    "            row = k + (v[0][i],v[1][i])\n",
    "            csv_out.writerow(row)"
   ]
  },
  {
   "cell_type": "markdown",
   "metadata": {},
   "source": [
    "## Investigate results and check method for data groups with more than one ping"
   ]
  },
  {
   "cell_type": "code",
   "execution_count": 150,
   "metadata": {
    "collapsed": false
   },
   "outputs": [
    {
     "name": "stdout",
     "output_type": "stream",
     "text": [
      "Some basic stats: \n",
      "Total number of estimated arrival times\n",
      "1769451\n",
      "Number of trips identified overall\n",
      "65525\n",
      "Number of trips with estimates\n",
      "55844\n",
      "Number of trips with valid interpolation\n",
      "9681\n",
      "Average number of estimates per trip\n",
      "31.6856063319\n"
     ]
    }
   ],
   "source": [
    "lens = []\n",
    "trip_count = 0\n",
    "for k, v in results_longest.iteritems():\n",
    "    l = len(v[0])\n",
    "    if l > 0:\n",
    "        trip_count += 1\n",
    "    lens.append(l)\n",
    "def empty_inds(lst):\n",
    "    k = results_longest.keys()\n",
    "    return [k[i] for i, x in enumerate(lst) if x==0]\n",
    "empty_keys = empty_inds(lens)\n",
    "print 'Some basic stats: '\n",
    "print 'Total number of estimated arrival times'\n",
    "print sum(lens)\n",
    "print 'Number of trips identified overall'\n",
    "print len(lens)\n",
    "print 'Number of trips with estimates'\n",
    "print trip_count\n",
    "print 'Number of trips with valid interpolation'\n",
    "print len(empty_keys)\n",
    "print 'Average number of estimates per trip'\n",
    "print 1.0*sum(lens)/trip_count"
   ]
  },
  {
   "cell_type": "code",
   "execution_count": 44,
   "metadata": {
    "collapsed": true
   },
   "outputs": [],
   "source": [
    "def interpolate_stops3_debug(merged_row):\n",
    "    distance_stops = merged_row.stop_dist_on_trip\n",
    "    if len(merged_row.timestamp)<2:\n",
    "        print 'Not enough timestamps'\n",
    "        return [[]]    \n",
    "    list1, list2 = zip(*sorted(zip(merged_row.timestamp,merged_row.veh_dist_along_trip)))\n",
    "    veh_pings = pd.Series(index=list1,data=list2)\n",
    "    print veh_pings\n",
    "    last = veh_pings.idxmax()\n",
    "    first = veh_pings.sort_index(ascending=False).idxmin()\n",
    "    print first, last\n",
    "    veh_pings = veh_pings.dropna()\n",
    "    print veh_pings\n",
    "    if len(veh_pings) == 0:\n",
    "        print 'Not enough filtered vehicle pings.'\n",
    "        return [[]]\n",
    "    inter_stops = veh_pings.loc[first:last]\n",
    "    if len(inter_stops)<2:\n",
    "        return [[]]\n",
    "    x = inter_stops.values\n",
    "    y = inter_stops.index.values\n",
    "    f = interpolate.interp1d(x,y)\n",
    "    xnew = distance_stops\n",
    "    masker = (xnew > min(x)) & (xnew < max(x))\n",
    "    xnew = list(compress(xnew,masker))\n",
    "    interp_times = pd.to_timedelta(f(xnew),unit='ns')    \n",
    "    return [list(compress(merged_row.next_stop_id,masker)),interp_times]"
   ]
  },
  {
   "cell_type": "code",
   "execution_count": 142,
   "metadata": {
    "collapsed": true
   },
   "outputs": [],
   "source": [
    "def interpolate_stops5_debug(merged_row):\n",
    "    distance_stops = merged_row.stop_dist_on_trip\n",
    "    if type(distance_stops) != list:\n",
    "        print 'No shape'\n",
    "        return [[]]\n",
    "    if len(merged_row.timestamp)<2:\n",
    "        print 'Not enough timestamps: ' + str(len(merged_row.timestamp))\n",
    "        return [[]]    \n",
    "    list1, list2 = zip(*sorted(zip(merged_row.timestamp,merged_row.veh_dist_along_trip)))\n",
    "    veh_pings = pd.Series(index=list1,data=list2)\n",
    "    # last = veh_pings.idxmax()\n",
    "    # first = veh_pings.sort_index(ascending=False).idxmin()\n",
    "    veh_pings = veh_pings.dropna()\n",
    "    first, last = longest_increasing_range(veh_pings.values,tolerance=100)\n",
    "    print 'Slicer range: ' + str(first) + ' to ' + str(last)\n",
    "    if len(veh_pings) == 0:\n",
    "        print 'Zero filtered vehicle pings'\n",
    "        return [[]]\n",
    "    inter_stops = veh_pings.iloc[first:last]\n",
    "    if len(inter_stops)<2:\n",
    "        print 'Not enough interpolable stops: ' + str(len(inter_stops))\n",
    "        return [[]]\n",
    "    x = inter_stops.values\n",
    "    y = inter_stops.index.values\n",
    "    f = interpolate.interp1d(x,y)\n",
    "    print 'Max possible stops to interpolate: ' + str(len(distance_stops))\n",
    "    xnew = distance_stops\n",
    "    print 'Range of distance from useful pings: ' + str(min(x)) + ', ' + str(max(x))\n",
    "    masker = (xnew > min(x)) & (xnew < max(x))\n",
    "    xnew = list(compress(xnew,masker))\n",
    "    interp_times = pd.to_timedelta(f(xnew),unit='ns')    \n",
    "    return [list(compress(merged_row.next_stop_id,masker)),interp_times]"
   ]
  },
  {
   "cell_type": "code",
   "execution_count": 144,
   "metadata": {
    "collapsed": false
   },
   "outputs": [
    {
     "name": "stdout",
     "output_type": "stream",
     "text": [
      "Slicer range: 0 to 5\n",
      "Max possible stops to interpolate: 49\n",
      "Range of distance from useful pings: 29.44, 29.44\n"
     ]
    },
    {
     "data": {
      "text/plain": [
       "[[], TimedeltaIndex([], dtype='timedelta64[ns]', freq=None)]"
      ]
     },
     "execution_count": 144,
     "metadata": {},
     "output_type": "execute_result"
    }
   ],
   "source": [
    "interpolate_stops5_debug(avl_merged.loc[empty_keys[16]])"
   ]
  },
  {
   "cell_type": "code",
   "execution_count": 137,
   "metadata": {
    "collapsed": false
   },
   "outputs": [
    {
     "name": "stdout",
     "output_type": "stream",
     "text": [
      "('MTA NYCT_Q46', 'QV_E5-Weekday-SDon-111700_MISC_319', '2015-12-03', 'MTA NYCT_4463')\n",
      "                                     lat        lon  timestamp shape_id  \\\n",
      "timestamp                                                                 \n",
      "2015-12-03T18:31:37.000-05:00  40.754844 -73.706735   18:31:37  Q460240   \n",
      "2015-12-03T18:33:47.000-05:00  40.754844 -73.706735   18:33:47  Q460240   \n",
      "2015-12-03T18:35:56.000-05:00  40.754844 -73.706735   18:35:56  Q460240   \n",
      "2015-12-03T18:38:06.000-05:00  40.754844 -73.706735   18:38:06  Q460240   \n",
      "2015-12-03T18:40:13.000-05:00  40.754844 -73.706735   18:40:13  Q460240   \n",
      "\n",
      "                               next_stop_id  dist_from_stop  \\\n",
      "timestamp                                                     \n",
      "2015-12-03T18:31:37.000-05:00        904122          348.35   \n",
      "2015-12-03T18:33:47.000-05:00        904122          348.35   \n",
      "2015-12-03T18:35:56.000-05:00        904122          348.35   \n",
      "2015-12-03T18:38:06.000-05:00        904122          348.35   \n",
      "2015-12-03T18:40:13.000-05:00        904122          348.35   \n",
      "\n",
      "                               stop_dist_on_trip presentable_dist  \\\n",
      "timestamp                                                           \n",
      "2015-12-03T18:31:37.000-05:00             377.79    < 1 stop away   \n",
      "2015-12-03T18:33:47.000-05:00             377.79    < 1 stop away   \n",
      "2015-12-03T18:35:56.000-05:00             377.79    < 1 stop away   \n",
      "2015-12-03T18:38:06.000-05:00             377.79    < 1 stop away   \n",
      "2015-12-03T18:40:13.000-05:00             377.79    < 1 stop away   \n",
      "\n",
      "                               veh_dist_along_trip  \n",
      "timestamp                                           \n",
      "2015-12-03T18:31:37.000-05:00                29.44  \n",
      "2015-12-03T18:33:47.000-05:00                29.44  \n",
      "2015-12-03T18:35:56.000-05:00                29.44  \n",
      "2015-12-03T18:38:06.000-05:00                29.44  \n",
      "2015-12-03T18:40:13.000-05:00                29.44  \n"
     ]
    }
   ],
   "source": [
    "print empty_keys[16]\n",
    "print avl_data2.loc[empty_keys[16]]"
   ]
  },
  {
   "cell_type": "code",
   "execution_count": 125,
   "metadata": {
    "collapsed": false
   },
   "outputs": [
    {
     "data": {
      "text/plain": [
       "6280"
      ]
     },
     "execution_count": 125,
     "metadata": {},
     "output_type": "execute_result"
    }
   ],
   "source": [
    "# how many of the original groupings had only 1 ping?\n",
    "sum(bustime.groupby(level=(0,1,2,3)).size()==1)"
   ]
  },
  {
   "cell_type": "code",
   "execution_count": 145,
   "metadata": {
    "collapsed": false
   },
   "outputs": [
    {
     "data": {
      "text/plain": [
       "59245"
      ]
     },
     "execution_count": 145,
     "metadata": {},
     "output_type": "execute_result"
    }
   ],
   "source": [
    "# how many with more than one ping?\n",
    "sum(bustime.groupby(level=(0,1,2,3)).size()>1)"
   ]
  },
  {
   "cell_type": "code",
   "execution_count": 151,
   "metadata": {
    "collapsed": false
   },
   "outputs": [
    {
     "data": {
      "text/plain": [
       "<matplotlib.axes._subplots.AxesSubplot at 0x7f3bb644d190>"
      ]
     },
     "execution_count": 151,
     "metadata": {},
     "output_type": "execute_result"
    },
    {
     "data": {
      "image/png": "[encoded data removed]",
      "text/plain": [
       "<matplotlib.figure.Figure at 0x7f3bb6442e90>"
      ]
     },
     "metadata": {},
     "output_type": "display_data"
    }
   ],
   "source": [
    "pd.Series(lens).hist(range=(0,60),bins=30)"
   ]
  },
  {
   "cell_type": "code",
   "execution_count": 152,
   "metadata": {
    "collapsed": false
   },
   "outputs": [
    {
     "data": {
      "text/plain": [
       "<matplotlib.axes._subplots.AxesSubplot at 0x7f3bb63e3d90>"
      ]
     },
     "execution_count": 152,
     "metadata": {},
     "output_type": "execute_result"
    },
    {
     "data": {
      "image/png": "[encoded data removed]",
      "text/plain": [
       "<matplotlib.figure.Figure at 0x7f3bb640bfd0>"
      ]
     },
     "metadata": {},
     "output_type": "display_data"
    }
   ],
   "source": [
    "gb.size().hist(range=(0,120),bins=120)"
   ]
  },
  {
   "cell_type": "code",
   "execution_count": null,
   "metadata": {
    "collapsed": true
   },
   "outputs": [],
   "source": []
  }
 ],
 "metadata": {
  "kernelspec": {
   "display_name": "Python 2",
   "language": "python",
   "name": "python2"
  },
  "language_info": {
   "codemirror_mode": {
    "name": "ipython",
    "version": 2
   },
   "file_extension": ".py",
   "mimetype": "text/x-python",
   "name": "python",
   "nbconvert_exporter": "python",
   "pygments_lexer": "ipython2",
   "version": "2.7.11"
  }
 },
 "nbformat": 4,
 "nbformat_minor": 0
}
