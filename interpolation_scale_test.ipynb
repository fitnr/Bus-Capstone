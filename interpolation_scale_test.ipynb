{
 "cells": [
  {
   "cell_type": "code",
   "execution_count": 1,
   "metadata": {
    "collapsed": false
   },
   "outputs": [],
   "source": [
    "# -*- coding: utf-8 -*-\n",
    "\"\"\"\n",
    "The script demonstrates a comparison of vehicle times from AVL data to the\n",
    "scheduled arrival time at one stop for one example trip.\n",
    "\"\"\"\n",
    "\n",
    "import os\n",
    "import pandas as pd\n",
    "import matplotlib.pyplot as plt\n",
    "from scipy import interpolate\n",
    "from itertools import compress\n",
    "import time\n",
    "%matplotlib inline  \n",
    "import sys\n",
    "sys.path.append('/gpfs2/projects/project-bus_capstone_2016/workspace/mu529/bus-Capstone')\n",
    "\n",
    "# these two modules are homemade\n",
    "import gtfs\n",
    "import arrivals\n",
    "import time\n",
    "import ttools\n",
    "os.chdir('/gpfs2/projects/project-bus_capstone_2016/workspace/share')"
   ]
  },
  {
   "cell_type": "markdown",
   "metadata": {},
   "source": [
    "### Previous versions of the interpolation function."
   ]
  },
  {
   "cell_type": "code",
   "execution_count": 84,
   "metadata": {
    "collapsed": false
   },
   "outputs": [],
   "source": [
    "# for iteration over dataframe rows (each row is a collection of lists of necessary data)\n",
    "def interpolate_stops3(merged_row):\n",
    "    distance_stops = merged_row.shape_stop_dist\n",
    "    if len(merged_row.timestamp)<2:\n",
    "        return [[]]    \n",
    "    list1, list2 = zip(*sorted(zip(merged_row.timestamp,merged_row.veh_dist_along_trip)))\n",
    "    veh_pings = pd.Series(index=list1,data=list2)\n",
    "    last = veh_pings.idxmax()\n",
    "    first = veh_pings.sort_index(ascending=False).idxmin()\n",
    "    veh_pings = veh_pings.dropna()\n",
    "    if len(veh_pings) == 0:\n",
    "        return [[]]\n",
    "    inter_stops = veh_pings.loc[first:last]\n",
    "    if len(inter_stops)<2:\n",
    "        return [[]]\n",
    "    x = inter_stops.values\n",
    "    y = inter_stops.index.values\n",
    "    f = interpolate.interp1d(x,y)\n",
    "    xnew = distance_stops\n",
    "    masker = (xnew > min(x)) & (xnew < max(x))\n",
    "    xnew = list(compress(xnew,masker))\n",
    "    interp_times = pd.to_timedelta(f(xnew),unit='ns')    \n",
    "    return [list(compress(merged_row.shape_stop_id,masker)),interp_times]"
   ]
  },
  {
   "cell_type": "code",
   "execution_count": 3,
   "metadata": {
    "collapsed": true
   },
   "outputs": [],
   "source": [
    "# for iteration over dict-of-dicts (each dict is a collection of lists of necessary data)\n",
    "def interpolate_stops4(d):\n",
    "    distance_stops = d['shape_stop_dist']\n",
    "    if len(d['timestamp'])<2:\n",
    "        return [[]]    \n",
    "    list1, list2 = zip(*sorted(zip(d['timestamp'],d['veh_dist_along_trip'])))\n",
    "    veh_pings = pd.Series(index=list1,data=list2)\n",
    "    last = veh_pings.idxmax()\n",
    "    first = veh_pings.sort_index(ascending=False).idxmin()\n",
    "    veh_pings = veh_pings.dropna()\n",
    "    if len(veh_pings) == 0:\n",
    "        return [[]]\n",
    "    inter_stops = veh_pings.loc[first:last]\n",
    "    if len(inter_stops)<2:\n",
    "        return [[]]\n",
    "    x = inter_stops.values\n",
    "    y = inter_stops.index.values\n",
    "    f = interpolate.interp1d(x,y)\n",
    "    xnew = distance_stops\n",
    "    masker = (xnew > min(x)) & (xnew < max(x))\n",
    "    xnew = list(compress(xnew,masker))\n",
    "    interp_times = pd.to_timedelta(f(xnew),unit='ns')    \n",
    "    return [list(compress(d['shape_stop_id'],masker)),interp_times]"
   ]
  },
  {
   "cell_type": "markdown",
   "metadata": {},
   "source": [
    "### This function returns the first and last index of the largest adjacent monotonic subsequence \n",
    "Requires local variables to remember the bookmarks as it moves along.  Includes a \"tolerance\" argument to allow for slight decreases in an otherwise increasing subsequence."
   ]
  },
  {
   "cell_type": "code",
   "execution_count": 4,
   "metadata": {
    "collapsed": true
   },
   "outputs": [],
   "source": [
    "def longest_increasing_range(s,tolerance=0):\n",
    "    end_idx_local = 0\n",
    "    start_idx_local = 0\n",
    "    best_len = 0\n",
    "    for i in xrange(1, len(s)):\n",
    "        if s[i] < (s[i-1]-tolerance):\n",
    "            # first check we achieved a new best\n",
    "            local_max_len = end_idx_local - start_idx_local\n",
    "            if local_max_len > best_len:\n",
    "                best_len = local_max_len # reset the best length\n",
    "                start_idx_best = start_idx_local\n",
    "                end_idx_best = i  # and remember the local indexes as the best \n",
    "            # in any case, reset the local bookmarks\n",
    "            start_idx_local = i\n",
    "            end_idx_local = i\n",
    "        else:\n",
    "            # if it continues to increase, do nothing except move the end bookmark\n",
    "            end_idx_local = i\n",
    "            local_max_len = end_idx_local - start_idx_local\n",
    "    if local_max_len > best_len:\n",
    "        # in case the entire sequence was monotonic increasing\n",
    "        return (0,end_idx_local+1)\n",
    "    elif best_len == 0:\n",
    "        # in case the entire sequence was monotonic decreasing\n",
    "        return (None,None)\n",
    "    else:\n",
    "        return (start_idx_best,end_idx_best+1)"
   ]
  },
  {
   "cell_type": "markdown",
   "metadata": {},
   "source": [
    "### Current working version of interpolation function.\n",
    "Takes several lists as inputs, which can be stored together as a dataframe row (merged_row).\n",
    "\n",
    "merged_row.shape_stop_dist is a list of distances of *all* stops from the schedule on that shape.<p>\n",
    "mergedrow.shape_stop_id is a list of stop_id labels for those stops<p>"
   ]
  },
  {
   "cell_type": "code",
   "execution_count": 81,
   "metadata": {
    "collapsed": true
   },
   "outputs": [],
   "source": [
    "# for iteration over dataframe rows (each row is a collection of lists of necessary data)\n",
    "def interpolate_stops5(merged_row,tol=100):\n",
    "    distance_stops = merged_row.shape_stop_dist\n",
    "    if type(distance_stops) != list:\n",
    "        return [[]]\n",
    "    if len(merged_row.timestamp)<2:\n",
    "        return [[]]    \n",
    "    list1, list2 = zip(*sorted(zip(merged_row.timestamp,merged_row.veh_dist_along_trip)))\n",
    "    veh_pings = pd.Series(index=list1,data=list2)\n",
    "    veh_pings = veh_pings.dropna()\n",
    "    first, last = longest_increasing_range(veh_pings.values,tolerance=tol)\n",
    "    if len(veh_pings) == 0:\n",
    "        return [[]]\n",
    "    inter_stops = veh_pings.iloc[first:last]\n",
    "    if len(inter_stops)<2:\n",
    "        return [[]]\n",
    "    x = inter_stops.values\n",
    "    y = inter_stops.index.values\n",
    "    f = interpolate.interp1d(x,y)\n",
    "    xnew = distance_stops\n",
    "    masker = (xnew > min(x)) & (xnew < max(x))\n",
    "    xnew = list(compress(xnew,masker))\n",
    "    interp_times = pd.to_timedelta(f(xnew),unit='ns')    \n",
    "    return [list(compress(merged_row.shape_stop_id,masker)),interp_times]"
   ]
  },
  {
   "cell_type": "markdown",
   "metadata": {},
   "source": [
    "## Now try it on a WHOLE DAY of data...\n",
    "#### Potential weakness: only uses the most common shape_id for each trip"
   ]
  },
  {
   "cell_type": "code",
   "execution_count": 6,
   "metadata": {
    "collapsed": true
   },
   "outputs": [],
   "source": [
    "# get the sample of parsed AVL data.  Beware, large files take more time.\n",
    "# bustime = pd.read_csv('spark_parse/1203.txt',header=None)\n",
    "bustime = pd.read_csv('spark_parse/1203_cleaned.csv')"
   ]
  },
  {
   "cell_type": "code",
   "execution_count": 7,
   "metadata": {
    "collapsed": false
   },
   "outputs": [],
   "source": [
    "bustime.drop('Unnamed: 0',axis=1,inplace=True)"
   ]
  },
  {
   "cell_type": "code",
   "execution_count": 8,
   "metadata": {
    "collapsed": false
   },
   "outputs": [
    {
     "name": "stdout",
     "output_type": "stream",
     "text": [
      "Finished loading BusTime data, parsing timestamps, and slicing ONE DAY.\n"
     ]
    }
   ],
   "source": [
    "# beware!  Bonan is still working on organizing the extract files.  these columns may change.\n",
    "#bustime.columns = ['route','lat','lon','timestamp','vehicle_id','trip_id','trip_date','shape_id',\n",
    "#                   'next_stop_id','dist_from_stop','stop_dist_on_trip','presentable_dist']\n",
    "\n",
    "bustime.drop_duplicates(['vehicle_id','timestamp'],inplace=True)\n",
    "bustime['trip_id'] = bustime['trip_id'].str.replace('MTA NYCT_','')\n",
    "bustime['trip_id'] = bustime['trip_id'].str.replace('MTABC_','')\n",
    "bustime['shape_id'] = bustime['shape_id'].str.replace('MTA_','')\n",
    "\n",
    "bustime.set_index(['route','trip_id','trip_date','vehicle_id'],inplace=True,drop=True)\n",
    "bustime.set_index('timestamp',append=True,drop=False,inplace=True)\n",
    "\n",
    "# for demonstration, use a subset. Just get data one day.\n",
    "tripDateLookup = \"2015-12-03\"\n",
    "bustime = bustime.xs((tripDateLookup),level=(2),drop_level=False)\n",
    "# note that the AVL dataframe must be sorted by timestammp, since iloc[]\n",
    "# selection is used later in this script to find the earliest time\n",
    "bustime.sort_index(inplace=True)\n",
    "bustime['timestamp'] = bustime['timestamp'].apply(ttools.parseActualTime,tdate='2015-12-03')\n",
    "\n",
    "bustime['stop_dist_on_trip'] = bustime['stop_dist_on_trip'].convert_objects(convert_numeric=True)\n",
    "bustime['dist_from_stop'] = bustime['dist_from_stop'].convert_objects(convert_numeric=True)\n",
    "bustime['veh_dist_along_trip'] = bustime['stop_dist_on_trip'] - bustime['dist_from_stop']\n",
    "\n",
    "print 'Finished loading BusTime data, parsing timestamps, and slicing ONE DAY.'"
   ]
  },
  {
   "cell_type": "code",
   "execution_count": 9,
   "metadata": {
    "collapsed": false
   },
   "outputs": [
    {
     "name": "stdout",
     "output_type": "stream",
     "text": [
      "Finished creating stop-distances reference dataframe.\n"
     ]
    }
   ],
   "source": [
    "# bustime = bustime.query('stop_dist_on_trip > 0.1')\n",
    "\n",
    "bustime_distances = bustime.drop(['timestamp'],axis=1,inplace=False)\n",
    "bustime_distances = bustime_distances.reset_index().drop(['route','trip_id','trip_date','vehicle_id','timestamp',\n",
    "                                                'lat','lon','dist_from_stop','presentable_dist',\n",
    "                                                'veh_dist_along_trip'],axis=1,inplace=False)\n",
    "\n",
    "stop_distances = bustime_distances.drop_duplicates(['shape_id','next_stop_id','stop_dist_on_trip'])\n",
    "stop_distances = stop_distances.query('stop_dist_on_trip > 0.1')\n",
    "\n",
    "# stop_distances.next_stop_id = stop_distances.next_stop_id.str.replace('MTA_','')\n",
    "\n",
    "stop_distances = stop_distances.sort(['shape_id','stop_dist_on_trip']).reset_index(drop=True)\n",
    "\n",
    "print 'Finished creating stop-distances reference dataframe.'"
   ]
  },
  {
   "cell_type": "code",
   "execution_count": 10,
   "metadata": {
    "collapsed": false
   },
   "outputs": [],
   "source": [
    "avl_data2 = bustime\n",
    "# avl_data2.shape_id = avl_data2.shape_id.str.replace('MTA_','')\n",
    "# avl_data2.next_stop_id = avl_data2.next_stop_id.str.replace('MTA_','')"
   ]
  },
  {
   "cell_type": "code",
   "execution_count": 11,
   "metadata": {
    "collapsed": true
   },
   "outputs": [],
   "source": [
    "gb = avl_data2.groupby(level=(0,1,2,3))"
   ]
  },
  {
   "cell_type": "code",
   "execution_count": 12,
   "metadata": {
    "collapsed": true
   },
   "outputs": [],
   "source": [
    "reported_timestamps = gb['timestamp'].apply(list)\n",
    "reported_dists = gb['veh_dist_along_trip'].apply(list)\n",
    "shape_ids = gb['shape_id'].agg(lambda x:x.value_counts().index[0])"
   ]
  },
  {
   "cell_type": "code",
   "execution_count": 78,
   "metadata": {
    "collapsed": true
   },
   "outputs": [],
   "source": [
    "all_dists = stop_distances.groupby('shape_id')['stop_dist_on_trip'].apply(list)\n",
    "all_stops = stop_distances.groupby('shape_id')['next_stop_id'].apply(list)\n",
    "all_dists.name = 'shape_stop_dist'\n",
    "all_stops.name = 'shape_stop_id'\n",
    "all_stop_dists = pd.DataFrame(shape_ids).merge(pd.DataFrame(all_dists),left_on='shape_id',right_index=True).merge(pd.DataFrame(all_stops),left_on='shape_id',right_index=True)"
   ]
  },
  {
   "cell_type": "markdown",
   "metadata": {},
   "source": [
    "Approach 1: merge everything into a dataframe"
   ]
  },
  {
   "cell_type": "code",
   "execution_count": 79,
   "metadata": {
    "collapsed": false
   },
   "outputs": [
    {
     "name": "stdout",
     "output_type": "stream",
     "text": [
      "Processing time:\n",
      "0.54243683815\n"
     ]
    }
   ],
   "source": [
    "starttime = time.time()\n",
    "avl_merged = pd.concat([all_stop_dists,reported_timestamps,reported_dists],axis=1)\n",
    "print 'Processing time:'\n",
    "print time.time() - starttime"
   ]
  },
  {
   "cell_type": "markdown",
   "metadata": {},
   "source": [
    "Approach 2: merge everything as a dict-of-dicts"
   ]
  },
  {
   "cell_type": "code",
   "execution_count": 16,
   "metadata": {
    "collapsed": false
   },
   "outputs": [
    {
     "name": "stdout",
     "output_type": "stream",
     "text": [
      "Processing time:\n",
      "17.9934101105\n"
     ]
    }
   ],
   "source": [
    "starttime = time.time()\n",
    "test_dict = {}\n",
    "for i,v in all_stop_dists.iterrows():\n",
    "    test_dict[i] = {'stop_dist_on_trip':v.stop_dist_on_trip,'next_stop_id':v.next_stop_id,\n",
    "                    'timestamp':reported_timestamps.loc[i],'veh_dist_along_trip':reported_dists.loc[i]}\n",
    "print 'Processing time:'\n",
    "print time.time() - starttime"
   ]
  },
  {
   "cell_type": "markdown",
   "metadata": {},
   "source": [
    "### Compare performance when iterating over dataframe of lists or dict of dicts\n",
    "Approach 1"
   ]
  },
  {
   "cell_type": "code",
   "execution_count": 82,
   "metadata": {
    "collapsed": false
   },
   "outputs": [
    {
     "ename": "AttributeError",
     "evalue": "'Series' object has no attribute 'stop_dist_on_trip'",
     "output_type": "error",
     "traceback": [
      "\u001b[1;31m---------------------------------------------------------------------------\u001b[0m",
      "\u001b[1;31mAttributeError\u001b[0m                            Traceback (most recent call last)",
      "\u001b[1;32m<ipython-input-82-b6c185110c21>\u001b[0m in \u001b[0;36m<module>\u001b[1;34m()\u001b[0m\n\u001b[0;32m      2\u001b[0m \u001b[0mresults\u001b[0m \u001b[1;33m=\u001b[0m \u001b[1;33m{\u001b[0m\u001b[1;33m}\u001b[0m\u001b[1;33m\u001b[0m\u001b[0m\n\u001b[0;32m      3\u001b[0m \u001b[1;32mfor\u001b[0m \u001b[0mi\u001b[0m\u001b[1;33m,\u001b[0m \u001b[0mv\u001b[0m \u001b[1;32min\u001b[0m \u001b[0mavl_merged\u001b[0m\u001b[1;33m.\u001b[0m\u001b[0miterrows\u001b[0m\u001b[1;33m(\u001b[0m\u001b[1;33m)\u001b[0m\u001b[1;33m:\u001b[0m\u001b[1;33m\u001b[0m\u001b[0m\n\u001b[1;32m----> 4\u001b[1;33m     \u001b[0mresults\u001b[0m\u001b[1;33m[\u001b[0m\u001b[0mi\u001b[0m\u001b[1;33m]\u001b[0m \u001b[1;33m=\u001b[0m \u001b[0minterpolate_stops3\u001b[0m\u001b[1;33m(\u001b[0m\u001b[0mv\u001b[0m\u001b[1;33m)\u001b[0m\u001b[1;33m\u001b[0m\u001b[0m\n\u001b[0m\u001b[0;32m      5\u001b[0m \u001b[1;32mprint\u001b[0m \u001b[1;34m'Processing time:'\u001b[0m\u001b[1;33m\u001b[0m\u001b[0m\n\u001b[0;32m      6\u001b[0m \u001b[1;32mprint\u001b[0m \u001b[0mtime\u001b[0m\u001b[1;33m.\u001b[0m\u001b[0mtime\u001b[0m\u001b[1;33m(\u001b[0m\u001b[1;33m)\u001b[0m \u001b[1;33m-\u001b[0m \u001b[0mstarttime\u001b[0m\u001b[1;33m\u001b[0m\u001b[0m\n",
      "\u001b[1;32m<ipython-input-2-d51501f97d28>\u001b[0m in \u001b[0;36minterpolate_stops3\u001b[1;34m(merged_row)\u001b[0m\n\u001b[0;32m      1\u001b[0m \u001b[1;31m# for iteration over dataframe rows (each row is a collection of lists of necessary data)\u001b[0m\u001b[1;33m\u001b[0m\u001b[1;33m\u001b[0m\u001b[0m\n\u001b[0;32m      2\u001b[0m \u001b[1;32mdef\u001b[0m \u001b[0minterpolate_stops3\u001b[0m\u001b[1;33m(\u001b[0m\u001b[0mmerged_row\u001b[0m\u001b[1;33m)\u001b[0m\u001b[1;33m:\u001b[0m\u001b[1;33m\u001b[0m\u001b[0m\n\u001b[1;32m----> 3\u001b[1;33m     \u001b[0mdistance_stops\u001b[0m \u001b[1;33m=\u001b[0m \u001b[0mmerged_row\u001b[0m\u001b[1;33m.\u001b[0m\u001b[0mstop_dist_on_trip\u001b[0m\u001b[1;33m\u001b[0m\u001b[0m\n\u001b[0m\u001b[0;32m      4\u001b[0m     \u001b[1;32mif\u001b[0m \u001b[0mlen\u001b[0m\u001b[1;33m(\u001b[0m\u001b[0mmerged_row\u001b[0m\u001b[1;33m.\u001b[0m\u001b[0mtimestamp\u001b[0m\u001b[1;33m)\u001b[0m\u001b[1;33m<\u001b[0m\u001b[1;36m2\u001b[0m\u001b[1;33m:\u001b[0m\u001b[1;33m\u001b[0m\u001b[0m\n\u001b[0;32m      5\u001b[0m         \u001b[1;32mreturn\u001b[0m \u001b[1;33m[\u001b[0m\u001b[1;33m[\u001b[0m\u001b[1;33m]\u001b[0m\u001b[1;33m]\u001b[0m\u001b[1;33m\u001b[0m\u001b[0m\n",
      "\u001b[1;32m/opt/rh/anaconda/root/lib/python2.7/site-packages/pandas/core/generic.pyc\u001b[0m in \u001b[0;36m__getattr__\u001b[1;34m(self, name)\u001b[0m\n\u001b[0;32m   2081\u001b[0m                 \u001b[1;32mreturn\u001b[0m \u001b[0mself\u001b[0m\u001b[1;33m[\u001b[0m\u001b[0mname\u001b[0m\u001b[1;33m]\u001b[0m\u001b[1;33m\u001b[0m\u001b[0m\n\u001b[0;32m   2082\u001b[0m             raise AttributeError(\"'%s' object has no attribute '%s'\" %\n\u001b[1;32m-> 2083\u001b[1;33m                                  (type(self).__name__, name))\n\u001b[0m\u001b[0;32m   2084\u001b[0m \u001b[1;33m\u001b[0m\u001b[0m\n\u001b[0;32m   2085\u001b[0m     \u001b[1;32mdef\u001b[0m \u001b[0m__setattr__\u001b[0m\u001b[1;33m(\u001b[0m\u001b[0mself\u001b[0m\u001b[1;33m,\u001b[0m \u001b[0mname\u001b[0m\u001b[1;33m,\u001b[0m \u001b[0mvalue\u001b[0m\u001b[1;33m)\u001b[0m\u001b[1;33m:\u001b[0m\u001b[1;33m\u001b[0m\u001b[0m\n",
      "\u001b[1;31mAttributeError\u001b[0m: 'Series' object has no attribute 'stop_dist_on_trip'"
     ]
    }
   ],
   "source": [
    "starttime = time.time()\n",
    "results = {}\n",
    "for i, v in avl_merged.iterrows():\n",
    "    results[i] = interpolate_stops3(v)\n",
    "print 'Processing time:'\n",
    "print time.time() - starttime"
   ]
  },
  {
   "cell_type": "markdown",
   "metadata": {},
   "source": [
    "Approach 1A, using longest-increasing subsequence to slice array"
   ]
  },
  {
   "cell_type": "code",
   "execution_count": 83,
   "metadata": {
    "collapsed": false
   },
   "outputs": [
    {
     "name": "stdout",
     "output_type": "stream",
     "text": [
      "Processing time:\n",
      "80.9567050934\n"
     ]
    }
   ],
   "source": [
    "starttime = time.time()\n",
    "results_longest = {}\n",
    "for i, v in avl_merged.iterrows():\n",
    "    results_longest[i] = interpolate_stops5(v)\n",
    "print 'Processing time:'\n",
    "print time.time() - starttime"
   ]
  },
  {
   "cell_type": "markdown",
   "metadata": {},
   "source": [
    "Approach 2"
   ]
  },
  {
   "cell_type": "code",
   "execution_count": 15,
   "metadata": {
    "collapsed": false
   },
   "outputs": [
    {
     "name": "stdout",
     "output_type": "stream",
     "text": [
      "Processing time:\n",
      "81.2485888004\n"
     ]
    }
   ],
   "source": [
    "starttime = time.time()\n",
    "results2 = {}\n",
    "for k, v in test_dict.iteritems():\n",
    "    results2[k] = interpolate_stops4(v)\n",
    "print 'Processing time:'\n",
    "print time.time() - starttime"
   ]
  },
  {
   "cell_type": "markdown",
   "metadata": {},
   "source": [
    "### Expand results into a dataframe (to use for things like headway measurement)"
   ]
  },
  {
   "cell_type": "code",
   "execution_count": 138,
   "metadata": {
    "collapsed": false
   },
   "outputs": [],
   "source": [
    "import csv\n",
    "with open('2015-12-03_interpolated.csv','w') as out:\n",
    "    csv_out=csv.writer(out)\n",
    "    csv_out.writerow(['route','trip_id','trip_date','vehicle_id','stop_id','interpolated_arrival_time'])\n",
    "    for k, v in results_longest.iteritems():\n",
    "        for i in range(len(v[0])):\n",
    "            row = k + (v[0][i],v[1][i])\n",
    "            csv_out.writerow(row)"
   ]
  },
  {
   "cell_type": "markdown",
   "metadata": {},
   "source": [
    "## Investigate results and check method for data groups with more than one ping"
   ]
  },
  {
   "cell_type": "code",
   "execution_count": 52,
   "metadata": {
    "collapsed": false
   },
   "outputs": [
    {
     "name": "stdout",
     "output_type": "stream",
     "text": [
      "Some basic stats: \n",
      "Total number of estimated arrival times\n",
      "1769451\n",
      "Number of trips identified overall\n",
      "65525\n",
      "Number of trips with estimates\n",
      "55844\n",
      "Number of trips without valid interpolation\n",
      "9681\n",
      "Average number of estimates per trip\n",
      "31.6856063319\n"
     ]
    }
   ],
   "source": [
    "lens = []\n",
    "trip_count = 0\n",
    "for k, v in results_longest.iteritems():\n",
    "    l = len(v[0])\n",
    "    if l > 0:\n",
    "        trip_count += 1\n",
    "    lens.append(l)\n",
    "def empty_inds(lst):\n",
    "    k = results_longest.keys()\n",
    "    return [k[i] for i, x in enumerate(lst) if x==0]\n",
    "empty_keys = empty_inds(lens)\n",
    "print 'Some basic stats: '\n",
    "print 'Total number of estimated arrival times'\n",
    "print sum(lens)\n",
    "print 'Number of trips identified overall'\n",
    "print len(lens)\n",
    "print 'Number of trips with estimates'\n",
    "print trip_count\n",
    "print 'Number of trips without valid interpolation'\n",
    "print len(empty_keys)\n",
    "print 'Average number of estimates per trip'\n",
    "print 1.0*sum(lens)/trip_count"
   ]
  },
  {
   "cell_type": "code",
   "execution_count": 40,
   "metadata": {
    "collapsed": false
   },
   "outputs": [],
   "source": [
    "ek_index = pd.MultiIndex.from_tuples(empty_keys)\n",
    "ek_info = pd.DataFrame(data=gb.size(),index=ek_index,columns=['N'])"
   ]
  },
  {
   "cell_type": "code",
   "execution_count": 41,
   "metadata": {
    "collapsed": false
   },
   "outputs": [],
   "source": [
    "ek_info['min_ts'] = gb['timestamp'].min()\n",
    "ek_info['max_ts'] = gb['timestamp'].max()\n",
    "ek_info['min_dist'] = gb['veh_dist_along_trip'].min()\n",
    "ek_info['max_dist'] = gb['veh_dist_along_trip'].max()"
   ]
  },
  {
   "cell_type": "code",
   "execution_count": 43,
   "metadata": {
    "collapsed": false
   },
   "outputs": [],
   "source": [
    "ek_info['ts_delta'] = ek_info['max_ts'] - ek_info['min_ts']\n",
    "ek_info['dist_delta'] = ek_info['max_dist'] - ek_info['min_dist']"
   ]
  },
  {
   "cell_type": "code",
   "execution_count": 51,
   "metadata": {
    "collapsed": false
   },
   "outputs": [
    {
     "data": {
      "text/plain": [
       "N\n",
       "1     0.648693\n",
       "2     0.140688\n",
       "3     0.066729\n",
       "4     0.039355\n",
       "5     0.024481\n",
       "6     0.019936\n",
       "7     0.012189\n",
       "8     0.007541\n",
       "9     0.006611\n",
       "10    0.006508\n",
       "11    0.004442\n",
       "12    0.004338\n",
       "13    0.001963\n",
       "14    0.002479\n",
       "15    0.001549\n",
       "16    0.001033\n",
       "17    0.000413\n",
       "18    0.001033\n",
       "19    0.000826\n",
       "20    0.000930\n",
       "21    0.000723\n",
       "22    0.000620\n",
       "23    0.000516\n",
       "24    0.000310\n",
       "25    0.000826\n",
       "26    0.000103\n",
       "27    0.000516\n",
       "28    0.000103\n",
       "29    0.000826\n",
       "30    0.000413\n",
       "31    0.000103\n",
       "32    0.000103\n",
       "33    0.000103\n",
       "34    0.000310\n",
       "35    0.000103\n",
       "36    0.000310\n",
       "37    0.000207\n",
       "38    0.000413\n",
       "41    0.000103\n",
       "43    0.000310\n",
       "47    0.000207\n",
       "48    0.000103\n",
       "49    0.000207\n",
       "50    0.000207\n",
       "52    0.000103\n",
       "56    0.000207\n",
       "57    0.000207\n",
       "dtype: float64"
      ]
     },
     "execution_count": 51,
     "metadata": {},
     "output_type": "execute_result"
    }
   ],
   "source": [
    "ek_info.groupby('N').size()/len(ek_info)"
   ]
  },
  {
   "cell_type": "code",
   "execution_count": 50,
   "metadata": {
    "collapsed": false
   },
   "outputs": [
    {
     "data": {
      "text/plain": [
       "<matplotlib.axes._subplots.AxesSubplot at 0x7f582cce7250>"
      ]
     },
     "execution_count": 50,
     "metadata": {},
     "output_type": "execute_result"
    },
    {
     "data": {
      "image/png": "[encoded data removed]",
      "text/plain": [
       "<matplotlib.figure.Figure at 0x7f582cd316d0>"
      ]
     },
     "metadata": {},
     "output_type": "display_data"
    }
   ],
   "source": [
    "ek_info.query('N>1')['dist_delta'].hist(range=(0,1000),bins=50)"
   ]
  },
  {
   "cell_type": "markdown",
   "metadata": {},
   "source": [
    "### Ignore below - for debugging"
   ]
  },
  {
   "cell_type": "code",
   "execution_count": 44,
   "metadata": {
    "collapsed": true
   },
   "outputs": [],
   "source": [
    "def interpolate_stops3_debug(merged_row):\n",
    "    distance_stops = merged_row.stop_dist_on_trip\n",
    "    if len(merged_row.timestamp)<2:\n",
    "        print 'Not enough timestamps'\n",
    "        return [[]]    \n",
    "    list1, list2 = zip(*sorted(zip(merged_row.timestamp,merged_row.veh_dist_along_trip)))\n",
    "    veh_pings = pd.Series(index=list1,data=list2)\n",
    "    print veh_pings\n",
    "    last = veh_pings.idxmax()\n",
    "    first = veh_pings.sort_index(ascending=False).idxmin()\n",
    "    print first, last\n",
    "    veh_pings = veh_pings.dropna()\n",
    "    print veh_pings\n",
    "    if len(veh_pings) == 0:\n",
    "        print 'Not enough filtered vehicle pings.'\n",
    "        return [[]]\n",
    "    inter_stops = veh_pings.loc[first:last]\n",
    "    if len(inter_stops)<2:\n",
    "        return [[]]\n",
    "    x = inter_stops.values\n",
    "    y = inter_stops.index.values\n",
    "    f = interpolate.interp1d(x,y)\n",
    "    xnew = distance_stops\n",
    "    masker = (xnew > min(x)) & (xnew < max(x))\n",
    "    xnew = list(compress(xnew,masker))\n",
    "    interp_times = pd.to_timedelta(f(xnew),unit='ns')    \n",
    "    return [list(compress(merged_row.next_stop_id,masker)),interp_times]"
   ]
  },
  {
   "cell_type": "code",
   "execution_count": 142,
   "metadata": {
    "collapsed": true
   },
   "outputs": [],
   "source": [
    "def interpolate_stops5_debug(merged_row):\n",
    "    distance_stops = merged_row.stop_dist_on_trip\n",
    "    if type(distance_stops) != list:\n",
    "        print 'No shape'\n",
    "        return [[]]\n",
    "    if len(merged_row.timestamp)<2:\n",
    "        print 'Not enough timestamps: ' + str(len(merged_row.timestamp))\n",
    "        return [[]]    \n",
    "    list1, list2 = zip(*sorted(zip(merged_row.timestamp,merged_row.veh_dist_along_trip)))\n",
    "    veh_pings = pd.Series(index=list1,data=list2)\n",
    "    # last = veh_pings.idxmax()\n",
    "    # first = veh_pings.sort_index(ascending=False).idxmin()\n",
    "    veh_pings = veh_pings.dropna()\n",
    "    first, last = longest_increasing_range(veh_pings.values,tolerance=100)\n",
    "    print 'Slicer range: ' + str(first) + ' to ' + str(last)\n",
    "    if len(veh_pings) == 0:\n",
    "        print 'Zero filtered vehicle pings'\n",
    "        return [[]]\n",
    "    inter_stops = veh_pings.iloc[first:last]\n",
    "    if len(inter_stops)<2:\n",
    "        print 'Not enough interpolable stops: ' + str(len(inter_stops))\n",
    "        return [[]]\n",
    "    x = inter_stops.values\n",
    "    y = inter_stops.index.values\n",
    "    f = interpolate.interp1d(x,y)\n",
    "    print 'Max possible stops to interpolate: ' + str(len(distance_stops))\n",
    "    xnew = distance_stops\n",
    "    print 'Range of distance from useful pings: ' + str(min(x)) + ', ' + str(max(x))\n",
    "    masker = (xnew > min(x)) & (xnew < max(x))\n",
    "    xnew = list(compress(xnew,masker))\n",
    "    interp_times = pd.to_timedelta(f(xnew),unit='ns')    \n",
    "    return [list(compress(merged_row.next_stop_id,masker)),interp_times]"
   ]
  },
  {
   "cell_type": "code",
   "execution_count": 144,
   "metadata": {
    "collapsed": false
   },
   "outputs": [
    {
     "name": "stdout",
     "output_type": "stream",
     "text": [
      "Slicer range: 0 to 5\n",
      "Max possible stops to interpolate: 49\n",
      "Range of distance from useful pings: 29.44, 29.44\n"
     ]
    },
    {
     "data": {
      "text/plain": [
       "[[], TimedeltaIndex([], dtype='timedelta64[ns]', freq=None)]"
      ]
     },
     "execution_count": 144,
     "metadata": {},
     "output_type": "execute_result"
    }
   ],
   "source": [
    "interpolate_stops5_debug(avl_merged.loc[empty_keys[16]])"
   ]
  },
  {
   "cell_type": "code",
   "execution_count": 137,
   "metadata": {
    "collapsed": false
   },
   "outputs": [
    {
     "name": "stdout",
     "output_type": "stream",
     "text": [
      "('MTA NYCT_Q46', 'QV_E5-Weekday-SDon-111700_MISC_319', '2015-12-03', 'MTA NYCT_4463')\n",
      "                                     lat        lon  timestamp shape_id  \\\n",
      "timestamp                                                                 \n",
      "2015-12-03T18:31:37.000-05:00  40.754844 -73.706735   18:31:37  Q460240   \n",
      "2015-12-03T18:33:47.000-05:00  40.754844 -73.706735   18:33:47  Q460240   \n",
      "2015-12-03T18:35:56.000-05:00  40.754844 -73.706735   18:35:56  Q460240   \n",
      "2015-12-03T18:38:06.000-05:00  40.754844 -73.706735   18:38:06  Q460240   \n",
      "2015-12-03T18:40:13.000-05:00  40.754844 -73.706735   18:40:13  Q460240   \n",
      "\n",
      "                               next_stop_id  dist_from_stop  \\\n",
      "timestamp                                                     \n",
      "2015-12-03T18:31:37.000-05:00        904122          348.35   \n",
      "2015-12-03T18:33:47.000-05:00        904122          348.35   \n",
      "2015-12-03T18:35:56.000-05:00        904122          348.35   \n",
      "2015-12-03T18:38:06.000-05:00        904122          348.35   \n",
      "2015-12-03T18:40:13.000-05:00        904122          348.35   \n",
      "\n",
      "                               stop_dist_on_trip presentable_dist  \\\n",
      "timestamp                                                           \n",
      "2015-12-03T18:31:37.000-05:00             377.79    < 1 stop away   \n",
      "2015-12-03T18:33:47.000-05:00             377.79    < 1 stop away   \n",
      "2015-12-03T18:35:56.000-05:00             377.79    < 1 stop away   \n",
      "2015-12-03T18:38:06.000-05:00             377.79    < 1 stop away   \n",
      "2015-12-03T18:40:13.000-05:00             377.79    < 1 stop away   \n",
      "\n",
      "                               veh_dist_along_trip  \n",
      "timestamp                                           \n",
      "2015-12-03T18:31:37.000-05:00                29.44  \n",
      "2015-12-03T18:33:47.000-05:00                29.44  \n",
      "2015-12-03T18:35:56.000-05:00                29.44  \n",
      "2015-12-03T18:38:06.000-05:00                29.44  \n",
      "2015-12-03T18:40:13.000-05:00                29.44  \n"
     ]
    }
   ],
   "source": [
    "print empty_keys[16]\n",
    "print avl_data2.loc[empty_keys[16]]"
   ]
  },
  {
   "cell_type": "code",
   "execution_count": 125,
   "metadata": {
    "collapsed": false
   },
   "outputs": [
    {
     "data": {
      "text/plain": [
       "6280"
      ]
     },
     "execution_count": 125,
     "metadata": {},
     "output_type": "execute_result"
    }
   ],
   "source": [
    "# how many of the original groupings had only 1 ping?\n",
    "sum(bustime.groupby(level=(0,1,2,3)).size()==1)"
   ]
  },
  {
   "cell_type": "code",
   "execution_count": 145,
   "metadata": {
    "collapsed": false
   },
   "outputs": [
    {
     "data": {
      "text/plain": [
       "59245"
      ]
     },
     "execution_count": 145,
     "metadata": {},
     "output_type": "execute_result"
    }
   ],
   "source": [
    "# how many with more than one ping?\n",
    "sum(bustime.groupby(level=(0,1,2,3)).size()>1)"
   ]
  },
  {
   "cell_type": "code",
   "execution_count": 151,
   "metadata": {
    "collapsed": false
   },
   "outputs": [
    {
     "data": {
      "text/plain": [
       "<matplotlib.axes._subplots.AxesSubplot at 0x7f3bb644d190>"
      ]
     },
     "execution_count": 151,
     "metadata": {},
     "output_type": "execute_result"
    },
    {
     "data": {
      "image/png": "[encoded data removed]",
      "text/plain": [
       "<matplotlib.figure.Figure at 0x7f3bb6442e90>"
      ]
     },
     "metadata": {},
     "output_type": "display_data"
    }
   ],
   "source": [
    "pd.Series(lens).hist(range=(0,60),bins=30)"
   ]
  },
  {
   "cell_type": "code",
   "execution_count": 152,
   "metadata": {
    "collapsed": false
   },
   "outputs": [
    {
     "data": {
      "text/plain": [
       "<matplotlib.axes._subplots.AxesSubplot at 0x7f3bb63e3d90>"
      ]
     },
     "execution_count": 152,
     "metadata": {},
     "output_type": "execute_result"
    },
    {
     "data": {
      "image/png": "[encoded data removed]",
      "text/plain": [
       "<matplotlib.figure.Figure at 0x7f3bb640bfd0>"
      ]
     },
     "metadata": {},
     "output_type": "display_data"
    }
   ],
   "source": [
    "gb.size().hist(range=(0,120),bins=120)"
   ]
  },
  {
   "cell_type": "code",
   "execution_count": 55,
   "metadata": {
    "collapsed": false
   },
   "outputs": [
    {
     "data": {
      "text/html": [
       "<div style=\"max-height:1000px;max-width:1500px;overflow:auto;\">\n",
       "<table border=\"1\" class=\"dataframe\">\n",
       "  <thead>\n",
       "    <tr style=\"text-align: right;\">\n",
       "      <th></th>\n",
       "      <th></th>\n",
       "      <th></th>\n",
       "      <th></th>\n",
       "      <th></th>\n",
       "      <th>lat</th>\n",
       "      <th>lon</th>\n",
       "      <th>timestamp</th>\n",
       "      <th>shape_id</th>\n",
       "      <th>next_stop_id</th>\n",
       "      <th>dist_from_stop</th>\n",
       "      <th>stop_dist_on_trip</th>\n",
       "      <th>presentable_dist</th>\n",
       "      <th>veh_dist_along_trip</th>\n",
       "    </tr>\n",
       "    <tr>\n",
       "      <th>route</th>\n",
       "      <th>trip_id</th>\n",
       "      <th>trip_date</th>\n",
       "      <th>vehicle_id</th>\n",
       "      <th>timestamp</th>\n",
       "      <th></th>\n",
       "      <th></th>\n",
       "      <th></th>\n",
       "      <th></th>\n",
       "      <th></th>\n",
       "      <th></th>\n",
       "      <th></th>\n",
       "      <th></th>\n",
       "      <th></th>\n",
       "    </tr>\n",
       "  </thead>\n",
       "  <tbody>\n",
       "    <tr>\n",
       "      <th rowspan=\"5\" valign=\"top\">MTA NYCT_B1</th>\n",
       "      <th rowspan=\"4\" valign=\"top\">FB_D5-Weekday-SDon-047200_B49_15</th>\n",
       "      <th rowspan=\"4\" valign=\"top\">2015-12-03</th>\n",
       "      <th rowspan=\"4\" valign=\"top\">MTA NYCT_5125</th>\n",
       "      <th>2015-12-03T07:59:24.000-05:00</th>\n",
       "      <td>40.577553</td>\n",
       "      <td>-73.961702</td>\n",
       "      <td>07:59:24</td>\n",
       "      <td>B1O0254</td>\n",
       "      <td>300124</td>\n",
       "      <td>11.80</td>\n",
       "      <td>343.65</td>\n",
       "      <td>at stop</td>\n",
       "      <td>331.85</td>\n",
       "    </tr>\n",
       "    <tr>\n",
       "      <th>2015-12-03T08:02:35.000-05:00</th>\n",
       "      <td>40.577875</td>\n",
       "      <td>-73.960204</td>\n",
       "      <td>08:02:35</td>\n",
       "      <td>B1O0254</td>\n",
       "      <td>308045</td>\n",
       "      <td>45.12</td>\n",
       "      <td>508.50</td>\n",
       "      <td>approaching</td>\n",
       "      <td>463.38</td>\n",
       "    </tr>\n",
       "    <tr>\n",
       "      <th>2015-12-03T08:04:11.000-05:00</th>\n",
       "      <td>40.578103</td>\n",
       "      <td>-73.959112</td>\n",
       "      <td>08:04:11</td>\n",
       "      <td>B1O0254</td>\n",
       "      <td>300126</td>\n",
       "      <td>123.48</td>\n",
       "      <td>682.49</td>\n",
       "      <td>approaching</td>\n",
       "      <td>559.01</td>\n",
       "    </tr>\n",
       "    <tr>\n",
       "      <th>2015-12-03T08:06:18.000-05:00</th>\n",
       "      <td>40.577311</td>\n",
       "      <td>-73.948462</td>\n",
       "      <td>08:06:18</td>\n",
       "      <td>B1O0254</td>\n",
       "      <td>300132</td>\n",
       "      <td>90.39</td>\n",
       "      <td>1636.79</td>\n",
       "      <td>approaching</td>\n",
       "      <td>1546.40</td>\n",
       "    </tr>\n",
       "    <tr>\n",
       "      <th>FB_D5-Weekday-SDon-051000_B49_15</th>\n",
       "      <th>2015-12-03</th>\n",
       "      <th>MTA NYCT_4855</th>\n",
       "      <th>2015-12-03T08:52:39.000-05:00</th>\n",
       "      <td>40.576311</td>\n",
       "      <td>-73.967732</td>\n",
       "      <td>08:52:39</td>\n",
       "      <td>B1O0256</td>\n",
       "      <td>307942</td>\n",
       "      <td>9.30</td>\n",
       "      <td>3716.99</td>\n",
       "      <td>at stop</td>\n",
       "      <td>3707.69</td>\n",
       "    </tr>\n",
       "  </tbody>\n",
       "</table>\n",
       "</div>"
      ],
      "text/plain": [
       "                                                                                                           lat  \\\n",
       "route       trip_id                          trip_date  vehicle_id    timestamp                                  \n",
       "MTA NYCT_B1 FB_D5-Weekday-SDon-047200_B49_15 2015-12-03 MTA NYCT_5125 2015-12-03T07:59:24.000-05:00  40.577553   \n",
       "                                                                      2015-12-03T08:02:35.000-05:00  40.577875   \n",
       "                                                                      2015-12-03T08:04:11.000-05:00  40.578103   \n",
       "                                                                      2015-12-03T08:06:18.000-05:00  40.577311   \n",
       "            FB_D5-Weekday-SDon-051000_B49_15 2015-12-03 MTA NYCT_4855 2015-12-03T08:52:39.000-05:00  40.576311   \n",
       "\n",
       "                                                                                                           lon  \\\n",
       "route       trip_id                          trip_date  vehicle_id    timestamp                                  \n",
       "MTA NYCT_B1 FB_D5-Weekday-SDon-047200_B49_15 2015-12-03 MTA NYCT_5125 2015-12-03T07:59:24.000-05:00 -73.961702   \n",
       "                                                                      2015-12-03T08:02:35.000-05:00 -73.960204   \n",
       "                                                                      2015-12-03T08:04:11.000-05:00 -73.959112   \n",
       "                                                                      2015-12-03T08:06:18.000-05:00 -73.948462   \n",
       "            FB_D5-Weekday-SDon-051000_B49_15 2015-12-03 MTA NYCT_4855 2015-12-03T08:52:39.000-05:00 -73.967732   \n",
       "\n",
       "                                                                                                     timestamp  \\\n",
       "route       trip_id                          trip_date  vehicle_id    timestamp                                  \n",
       "MTA NYCT_B1 FB_D5-Weekday-SDon-047200_B49_15 2015-12-03 MTA NYCT_5125 2015-12-03T07:59:24.000-05:00   07:59:24   \n",
       "                                                                      2015-12-03T08:02:35.000-05:00   08:02:35   \n",
       "                                                                      2015-12-03T08:04:11.000-05:00   08:04:11   \n",
       "                                                                      2015-12-03T08:06:18.000-05:00   08:06:18   \n",
       "            FB_D5-Weekday-SDon-051000_B49_15 2015-12-03 MTA NYCT_4855 2015-12-03T08:52:39.000-05:00   08:52:39   \n",
       "\n",
       "                                                                                                    shape_id  \\\n",
       "route       trip_id                          trip_date  vehicle_id    timestamp                                \n",
       "MTA NYCT_B1 FB_D5-Weekday-SDon-047200_B49_15 2015-12-03 MTA NYCT_5125 2015-12-03T07:59:24.000-05:00  B1O0254   \n",
       "                                                                      2015-12-03T08:02:35.000-05:00  B1O0254   \n",
       "                                                                      2015-12-03T08:04:11.000-05:00  B1O0254   \n",
       "                                                                      2015-12-03T08:06:18.000-05:00  B1O0254   \n",
       "            FB_D5-Weekday-SDon-051000_B49_15 2015-12-03 MTA NYCT_4855 2015-12-03T08:52:39.000-05:00  B1O0256   \n",
       "\n",
       "                                                                                                     next_stop_id  \\\n",
       "route       trip_id                          trip_date  vehicle_id    timestamp                                     \n",
       "MTA NYCT_B1 FB_D5-Weekday-SDon-047200_B49_15 2015-12-03 MTA NYCT_5125 2015-12-03T07:59:24.000-05:00        300124   \n",
       "                                                                      2015-12-03T08:02:35.000-05:00        308045   \n",
       "                                                                      2015-12-03T08:04:11.000-05:00        300126   \n",
       "                                                                      2015-12-03T08:06:18.000-05:00        300132   \n",
       "            FB_D5-Weekday-SDon-051000_B49_15 2015-12-03 MTA NYCT_4855 2015-12-03T08:52:39.000-05:00        307942   \n",
       "\n",
       "                                                                                                     dist_from_stop  \\\n",
       "route       trip_id                          trip_date  vehicle_id    timestamp                                       \n",
       "MTA NYCT_B1 FB_D5-Weekday-SDon-047200_B49_15 2015-12-03 MTA NYCT_5125 2015-12-03T07:59:24.000-05:00           11.80   \n",
       "                                                                      2015-12-03T08:02:35.000-05:00           45.12   \n",
       "                                                                      2015-12-03T08:04:11.000-05:00          123.48   \n",
       "                                                                      2015-12-03T08:06:18.000-05:00           90.39   \n",
       "            FB_D5-Weekday-SDon-051000_B49_15 2015-12-03 MTA NYCT_4855 2015-12-03T08:52:39.000-05:00            9.30   \n",
       "\n",
       "                                                                                                     stop_dist_on_trip  \\\n",
       "route       trip_id                          trip_date  vehicle_id    timestamp                                          \n",
       "MTA NYCT_B1 FB_D5-Weekday-SDon-047200_B49_15 2015-12-03 MTA NYCT_5125 2015-12-03T07:59:24.000-05:00             343.65   \n",
       "                                                                      2015-12-03T08:02:35.000-05:00             508.50   \n",
       "                                                                      2015-12-03T08:04:11.000-05:00             682.49   \n",
       "                                                                      2015-12-03T08:06:18.000-05:00            1636.79   \n",
       "            FB_D5-Weekday-SDon-051000_B49_15 2015-12-03 MTA NYCT_4855 2015-12-03T08:52:39.000-05:00            3716.99   \n",
       "\n",
       "                                                                                                    presentable_dist  \\\n",
       "route       trip_id                          trip_date  vehicle_id    timestamp                                        \n",
       "MTA NYCT_B1 FB_D5-Weekday-SDon-047200_B49_15 2015-12-03 MTA NYCT_5125 2015-12-03T07:59:24.000-05:00          at stop   \n",
       "                                                                      2015-12-03T08:02:35.000-05:00      approaching   \n",
       "                                                                      2015-12-03T08:04:11.000-05:00      approaching   \n",
       "                                                                      2015-12-03T08:06:18.000-05:00      approaching   \n",
       "            FB_D5-Weekday-SDon-051000_B49_15 2015-12-03 MTA NYCT_4855 2015-12-03T08:52:39.000-05:00          at stop   \n",
       "\n",
       "                                                                                                     veh_dist_along_trip  \n",
       "route       trip_id                          trip_date  vehicle_id    timestamp                                           \n",
       "MTA NYCT_B1 FB_D5-Weekday-SDon-047200_B49_15 2015-12-03 MTA NYCT_5125 2015-12-03T07:59:24.000-05:00               331.85  \n",
       "                                                                      2015-12-03T08:02:35.000-05:00               463.38  \n",
       "                                                                      2015-12-03T08:04:11.000-05:00               559.01  \n",
       "                                                                      2015-12-03T08:06:18.000-05:00              1546.40  \n",
       "            FB_D5-Weekday-SDon-051000_B49_15 2015-12-03 MTA NYCT_4855 2015-12-03T08:52:39.000-05:00              3707.69  "
      ]
     },
     "execution_count": 55,
     "metadata": {},
     "output_type": "execute_result"
    }
   ],
   "source": [
    "bustime.head()"
   ]
  },
  {
   "cell_type": "code",
   "execution_count": null,
   "metadata": {
    "collapsed": true
   },
   "outputs": [],
   "source": []
  }
 ],
 "metadata": {
  "kernelspec": {
   "display_name": "Python 2",
   "language": "python",
   "name": "python2"
  },
  "language_info": {
   "codemirror_mode": {
    "name": "ipython",
    "version": 2
   },
   "file_extension": ".py",
   "mimetype": "text/x-python",
   "name": "python",
   "nbconvert_exporter": "python",
   "pygments_lexer": "ipython2",
   "version": "2.7.11"
  }
 },
 "nbformat": 4,
 "nbformat_minor": 0
}
