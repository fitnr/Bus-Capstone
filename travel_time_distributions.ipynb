{
 "cells": [
  {
   "cell_type": "code",
   "execution_count": 1,
   "metadata": {
    "collapsed": true
   },
   "outputs": [],
   "source": [
    "import os\n",
    "import pandas as pd\n",
    "import matplotlib.pyplot as plt\n",
    "from scipy import interpolate\n",
    "import time\n",
    "%matplotlib inline  \n",
    "import sys\n",
    "sys.path.append('/gpfs2/projects/project-bus_capstone_2016/workspace/jz2308/bus-Capstone')\n",
    "\n",
    "# these two modules are homemade\n",
    "import gtfs\n",
    "import arrivals\n",
    "import ttools\n",
    "os.chdir('/gpfs2/projects/project-bus_capstone_2016/workspace/share')"
   ]
  },
  {
   "cell_type": "code",
   "execution_count": 2,
   "metadata": {
    "collapsed": false
   },
   "outputs": [
    {
     "name": "stdout",
     "output_type": "stream",
     "text": [
      "Finished loading GTFS data.\n"
     ]
    }
   ],
   "source": [
    "# get all the schedule data. (subset can be created later)\n",
    "trips = gtfs.load_trips('2015-12-03','gtfs/')\n",
    "stops = gtfs.load_stops('2015-12-03','gtfs/')\n",
    "stop_times, tz_sched = gtfs.load_stop_times('2015-12-03','gtfs/')\n",
    "tcal=gtfs.TransitCalendar('2015-12-03')\n",
    "thurs_services = tcal.get_service_ids('2015-12-03')\n",
    "thurs_trips = trips.service_id.isin(thurs_services)\n",
    "thurs_stops = stop_times.reset_index().set_index('trip_id').loc[thurs_trips]\n",
    "print 'Finished loading GTFS data.'"
   ]
  },
  {
   "cell_type": "code",
   "execution_count": 3,
   "metadata": {
    "collapsed": true
   },
   "outputs": [],
   "source": [
    "interpolated = pd.read_csv('2015-12-03_interpolated.csv')"
   ]
  },
  {
   "cell_type": "code",
   "execution_count": 4,
   "metadata": {
    "collapsed": false
   },
   "outputs": [
    {
     "data": {
      "text/html": [
       "<div style=\"max-height:1000px;max-width:1500px;overflow:auto;\">\n",
       "<table border=\"1\" class=\"dataframe\">\n",
       "  <thead>\n",
       "    <tr style=\"text-align: right;\">\n",
       "      <th></th>\n",
       "      <th>route</th>\n",
       "      <th>trip_id</th>\n",
       "      <th>trip_date</th>\n",
       "      <th>vehicle_id</th>\n",
       "      <th>stop_id</th>\n",
       "      <th>interpolated_arrival_time</th>\n",
       "    </tr>\n",
       "  </thead>\n",
       "  <tbody>\n",
       "    <tr>\n",
       "      <th>0</th>\n",
       "      <td>MTA NYCT_M101</td>\n",
       "      <td>OH_D5-Weekday-SDon-036500_M101_38</td>\n",
       "      <td>2015-12-03</td>\n",
       "      <td>MTA NYCT_5879</td>\n",
       "      <td>402805</td>\n",
       "      <td>0 days 06:10:56.778916</td>\n",
       "    </tr>\n",
       "    <tr>\n",
       "      <th>1</th>\n",
       "      <td>MTA NYCT_M101</td>\n",
       "      <td>OH_D5-Weekday-SDon-036500_M101_38</td>\n",
       "      <td>2015-12-03</td>\n",
       "      <td>MTA NYCT_5879</td>\n",
       "      <td>405057</td>\n",
       "      <td>0 days 06:14:24.977703</td>\n",
       "    </tr>\n",
       "    <tr>\n",
       "      <th>2</th>\n",
       "      <td>MTA NYCT_M101</td>\n",
       "      <td>OH_D5-Weekday-SDon-036500_M101_38</td>\n",
       "      <td>2015-12-03</td>\n",
       "      <td>MTA NYCT_5879</td>\n",
       "      <td>403416</td>\n",
       "      <td>0 days 06:16:58.526210</td>\n",
       "    </tr>\n",
       "    <tr>\n",
       "      <th>3</th>\n",
       "      <td>MTA NYCT_M101</td>\n",
       "      <td>OH_D5-Weekday-SDon-036500_M101_38</td>\n",
       "      <td>2015-12-03</td>\n",
       "      <td>MTA NYCT_5879</td>\n",
       "      <td>402809</td>\n",
       "      <td>0 days 06:17:25.226045</td>\n",
       "    </tr>\n",
       "    <tr>\n",
       "      <th>4</th>\n",
       "      <td>MTA NYCT_M101</td>\n",
       "      <td>OH_D5-Weekday-SDon-036500_M101_38</td>\n",
       "      <td>2015-12-03</td>\n",
       "      <td>MTA NYCT_5879</td>\n",
       "      <td>402811</td>\n",
       "      <td>0 days 06:18:36.819142</td>\n",
       "    </tr>\n",
       "  </tbody>\n",
       "</table>\n",
       "</div>"
      ],
      "text/plain": [
       "           route                            trip_id   trip_date  \\\n",
       "0  MTA NYCT_M101  OH_D5-Weekday-SDon-036500_M101_38  2015-12-03   \n",
       "1  MTA NYCT_M101  OH_D5-Weekday-SDon-036500_M101_38  2015-12-03   \n",
       "2  MTA NYCT_M101  OH_D5-Weekday-SDon-036500_M101_38  2015-12-03   \n",
       "3  MTA NYCT_M101  OH_D5-Weekday-SDon-036500_M101_38  2015-12-03   \n",
       "4  MTA NYCT_M101  OH_D5-Weekday-SDon-036500_M101_38  2015-12-03   \n",
       "\n",
       "      vehicle_id  stop_id interpolated_arrival_time  \n",
       "0  MTA NYCT_5879   402805    0 days 06:10:56.778916  \n",
       "1  MTA NYCT_5879   405057    0 days 06:14:24.977703  \n",
       "2  MTA NYCT_5879   403416    0 days 06:16:58.526210  \n",
       "3  MTA NYCT_5879   402809    0 days 06:17:25.226045  \n",
       "4  MTA NYCT_5879   402811    0 days 06:18:36.819142  "
      ]
     },
     "execution_count": 4,
     "metadata": {},
     "output_type": "execute_result"
    }
   ],
   "source": [
    "interpolated.head()"
   ]
  },
  {
   "cell_type": "code",
   "execution_count": 5,
   "metadata": {
    "collapsed": false
   },
   "outputs": [],
   "source": [
    "interpolated = interpolated.merge(stop_times[['arrival_time','stop_sequence']],how='left',left_on=['trip_id','stop_id'],right_index=True)"
   ]
  },
  {
   "cell_type": "code",
   "execution_count": 6,
   "metadata": {
    "collapsed": true
   },
   "outputs": [],
   "source": [
    "interpolated['interpolated_arrival_time'] = pd.to_timedelta(interpolated['interpolated_arrival_time'])\n",
    "interpolated['arrival_time'] = pd.to_timedelta(interpolated['arrival_time'])"
   ]
  },
  {
   "cell_type": "code",
   "execution_count": 7,
   "metadata": {
    "collapsed": false
   },
   "outputs": [],
   "source": [
    "# bools = interpolated.duplicated(subset=['route','trip_id','trip_date','vehicle_id','stop_id'],take_last=False) + interpolated.duplicated(subset=['route','trip_id','trip_date','vehicle_id','stop_id'],take_last=True)\n",
    "# interpolated[bools].sort(['route','trip_id','trip_date','vehicle_id']).shape"
   ]
  },
  {
   "cell_type": "code",
   "execution_count": 8,
   "metadata": {
    "collapsed": false
   },
   "outputs": [],
   "source": [
    "interpolated.set_index(['route','trip_id','trip_date','vehicle_id','stop_sequence','stop_id'],inplace=True)"
   ]
  },
  {
   "cell_type": "code",
   "execution_count": 10,
   "metadata": {
    "collapsed": false
   },
   "outputs": [],
   "source": [
    "grouped = interpolated.groupby(level=(0,1,2,3))\n",
    "begins = grouped.min()\n",
    "ends = grouped.max()\n",
    "travel_times = begins.join(ends,lsuffix='_begin',rsuffix='_end')"
   ]
  },
  {
   "cell_type": "code",
   "execution_count": 18,
   "metadata": {
    "collapsed": false
   },
   "outputs": [],
   "source": [
    "def earliest_stop(g):\n",
    "    return g.idxmin()[-1][-1]\n",
    "def latest_stop(g):\n",
    "    return g.idxmax()[-1][-1]\n",
    "travel_times['earliest_stop'] = grouped.apply(earliest_stop)\n",
    "travel_times['latest_stop'] = grouped.apply(latest_stop)"
   ]
  },
  {
   "cell_type": "code",
   "execution_count": 28,
   "metadata": {
    "collapsed": true
   },
   "outputs": [],
   "source": [
    "travel_times['ttime_schedule'] = (travel_times['arrival_time_end'] - travel_times['arrival_time_begin'])/ttools.datetime.timedelta(seconds=1)\n",
    "travel_times['ttime_actual'] = (travel_times['interpolated_arrival_time_end'] - travel_times['interpolated_arrival_time_begin'])/ttools.datetime.timedelta(seconds=1)"
   ]
  },
  {
   "cell_type": "code",
   "execution_count": 52,
   "metadata": {
    "collapsed": false
   },
   "outputs": [],
   "source": [
    "# travel_times.reset_index().groupby(['route','earliest_stop','latest_stop'])['ttime_schedule'].median() - travel_times.reset_index().groupby(['route','earliest_stop','latest_stop'])['ttime_actual'].median()"
   ]
  },
  {
   "cell_type": "code",
   "execution_count": 37,
   "metadata": {
    "collapsed": false
   },
   "outputs": [
    {
     "data": {
      "text/plain": [
       "route\n",
       "MTA NYCT_B1        (MTA NYCT_B1, 300002, 305460)\n",
       "MTA NYCT_B11      (MTA NYCT_B11, 307485, 306468)\n",
       "MTA NYCT_B12      (MTA NYCT_B12, 301310, 301343)\n",
       "MTA NYCT_B13      (MTA NYCT_B13, 301880, 801167)\n",
       "MTA NYCT_B14      (MTA NYCT_B14, 301516, 307896)\n",
       "MTA NYCT_B15      (MTA NYCT_B15, 503996, 301092)\n",
       "MTA NYCT_B16      (MTA NYCT_B16, 301603, 307646)\n",
       "MTA NYCT_B17      (MTA NYCT_B17, 307027, 301804)\n",
       "MTA NYCT_B2        (MTA NYCT_B2, 300138, 307636)\n",
       "MTA NYCT_B20      (MTA NYCT_B20, 503454, 307896)\n",
       "MTA NYCT_B24      (MTA NYCT_B24, 302255, 302310)\n",
       "MTA NYCT_B25      (MTA NYCT_B25, 307238, 302440)\n",
       "MTA NYCT_B26      (MTA NYCT_B26, 307699, 801052)\n",
       "MTA NYCT_B3        (MTA NYCT_B3, 300185, 300228)\n",
       "MTA NYCT_B31      (MTA NYCT_B31, 302599, 300182)\n",
       "MTA NYCT_B32      (MTA NYCT_B32, 551925, 306461)\n",
       "MTA NYCT_B35      (MTA NYCT_B35, 302678, 307993)\n",
       "MTA NYCT_B36      (MTA NYCT_B36, 308361, 302868)\n",
       "MTA NYCT_B37      (MTA NYCT_B37, 301722, 901484)\n",
       "MTA NYCT_B38      (MTA NYCT_B38, 307460, 503884)\n",
       "MTA NYCT_B39      (MTA NYCT_B39, 403679, 403679)\n",
       "MTA NYCT_B4        (MTA NYCT_B4, 300285, 307806)\n",
       "MTA NYCT_B41      (MTA NYCT_B41, 307460, 307636)\n",
       "MTA NYCT_B42      (MTA NYCT_B42, 308543, 308106)\n",
       "MTA NYCT_B43      (MTA NYCT_B43, 303710, 308187)\n",
       "MTA NYCT_B44      (MTA NYCT_B44, 308354, 307045)\n",
       "MTA NYCT_B44+    (MTA NYCT_B44+, 307020, 303427)\n",
       "MTA NYCT_B45      (MTA NYCT_B45, 303290, 303198)\n",
       "MTA NYCT_B46      (MTA NYCT_B46, 302293, 307636)\n",
       "MTA NYCT_B47      (MTA NYCT_B47, 303178, 901001)\n",
       "                              ...               \n",
       "MTABC_Q50            (MTABC_Q50, 500994, 101731)\n",
       "MTABC_Q52            (MTABC_Q52, 550473, 553245)\n",
       "MTABC_Q53            (MTABC_Q53, 550690, 553013)\n",
       "MTABC_Q60            (MTABC_Q60, 551689, 503341)\n",
       "MTABC_Q64            (MTABC_Q64, 551810, 551839)\n",
       "MTABC_Q65            (MTABC_Q65, 550032, 551782)\n",
       "MTABC_Q66            (MTABC_Q66, 551850, 551761)\n",
       "MTABC_Q67            (MTABC_Q67, 504259, 553174)\n",
       "MTABC_Q69            (MTABC_Q69, 550653, 503855)\n",
       "MTABC_Q70            (MTABC_Q70, 553285, 505192)\n",
       "MTABC_Q72            (MTABC_Q72, 551131, 552027)\n",
       "MTABC_QM1            (MTABC_QM1, 450005, 501402)\n",
       "MTABC_QM10          (MTABC_QM10, 450004, 551323)\n",
       "MTABC_QM11          (MTABC_QM11, 551695, 405060)\n",
       "MTABC_QM12          (MTABC_QM12, 504307, 450006)\n",
       "MTABC_QM15          (MTABC_QM15, 550723, 450032)\n",
       "MTABC_QM16          (MTABC_QM16, 552908, 450032)\n",
       "MTABC_QM17          (MTABC_QM17, 550847, 450032)\n",
       "MTABC_QM18          (MTABC_QM18, 401840, 553221)\n",
       "MTABC_QM2            (MTABC_QM2, 450014, 450024)\n",
       "MTABC_QM20          (MTABC_QM20, 450014, 552667)\n",
       "MTABC_QM21          (MTABC_QM21, 500637, 450042)\n",
       "MTABC_QM24          (MTABC_QM24, 504366, 450006)\n",
       "MTABC_QM25          (MTABC_QM25, 505246, 401165)\n",
       "MTABC_QM3            (MTABC_QM3, 500958, 450024)\n",
       "MTABC_QM4            (MTABC_QM4, 450014, 551733)\n",
       "MTABC_QM5            (MTABC_QM5, 450015, 450019)\n",
       "MTABC_QM6            (MTABC_QM6, 450015, 552825)\n",
       "MTABC_QM7            (MTABC_QM7, 501399, 450378)\n",
       "MTABC_QM8            (MTABC_QM8, 405337, 502361)\n",
       "dtype: object"
      ]
     },
     "execution_count": 37,
     "metadata": {},
     "output_type": "execute_result"
    }
   ],
   "source": [
    "sample_sizes = travel_times.reset_index().groupby(['route','earliest_stop','latest_stop']).size()\n",
    "sample_sizes.groupby(level=0).idxmax()"
   ]
  },
  {
   "cell_type": "code",
   "execution_count": 50,
   "metadata": {
    "collapsed": false
   },
   "outputs": [
    {
     "data": {
      "text/plain": [
       "<matplotlib.axes._subplots.AxesSubplot at 0x7fdfcf7a6bd0>"
      ]
     },
     "execution_count": 50,
     "metadata": {},
     "output_type": "execute_result"
    },
    {
     "data": {
      "image/png": "[encoded data removed]",
      "text/plain": [
       "<matplotlib.figure.Figure at 0x7fdfcf7481d0>"
      ]
     },
     "metadata": {},
     "output_type": "display_data"
    }
   ],
   "source": [
    "travel_times.loc['MTA NYCT_B41'].query('earliest_stop == 307460 & latest_stop == 307636')['ttime_schedule'].hist(range=(2500,5500),bins=15)"
   ]
  },
  {
   "cell_type": "code",
   "execution_count": 51,
   "metadata": {
    "collapsed": false
   },
   "outputs": [
    {
     "data": {
      "text/plain": [
       "<matplotlib.axes._subplots.AxesSubplot at 0x7fdfcf452610>"
      ]
     },
     "execution_count": 51,
     "metadata": {},
     "output_type": "execute_result"
    },
    {
     "data": {
      "image/png": "[encoded data removed]",
      "text/plain": [
       "<matplotlib.figure.Figure at 0x7fdfcd366590>"
      ]
     },
     "metadata": {},
     "output_type": "display_data"
    }
   ],
   "source": [
    "travel_times.loc['MTA NYCT_B41'].query('earliest_stop == 307460 & latest_stop == 307636')['ttime_actual'].hist(range=(2500,5500),bins=15)"
   ]
  },
  {
   "cell_type": "code",
   "execution_count": null,
   "metadata": {
    "collapsed": true
   },
   "outputs": [],
   "source": []
  }
 ],
 "metadata": {
  "kernelspec": {
   "display_name": "Python 2",
   "language": "python",
   "name": "python2"
  },
  "language_info": {
   "codemirror_mode": {
    "name": "ipython",
    "version": 2
   },
   "file_extension": ".py",
   "mimetype": "text/x-python",
   "name": "python",
   "nbconvert_exporter": "python",
   "pygments_lexer": "ipython2",
   "version": "2.7.11"
  }
 },
 "nbformat": 4,
 "nbformat_minor": 0
}
