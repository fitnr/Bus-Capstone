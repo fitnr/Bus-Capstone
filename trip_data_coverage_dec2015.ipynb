{
 "cells": [
  {
   "cell_type": "code",
   "execution_count": 1,
   "metadata": {
    "collapsed": true
   },
   "outputs": [],
   "source": [
    "import os\n",
    "import pandas as pd\n",
    "import numpy as np\n",
    "import sys\n",
    "sys.path.append('/gpfs2/projects/project-bus_capstone_2016/workspace/mu529/Bus-Capstone')\n",
    "import ttools #homemade module\n",
    "import gtfs #homemade module\n",
    "os.chdir('/gpfs2/projects/project-bus_capstone_2016/workspace/share')\n",
    "%matplotlib inline"
   ]
  },
  {
   "cell_type": "code",
   "execution_count": 2,
   "metadata": {
    "collapsed": false
   },
   "outputs": [
    {
     "name": "stdout",
     "output_type": "stream",
     "text": [
      "Finished loading GTFS data.\n"
     ]
    }
   ],
   "source": [
    "# get all the schedule data. (subset can be created later)\n",
    "trips = gtfs.load_trips('gtfs_nov15/')\n",
    "stops = gtfs.load_stops('gtfs_nov15/')\n",
    "stop_times, tz_sched = gtfs.load_stop_times('gtfs_nov15/')\n",
    "tcal = gtfs.TransitCalendar('gtfs_nov15/')\n",
    "print 'Finished loading GTFS data.'"
   ]
  },
  {
   "cell_type": "markdown",
   "metadata": {
    "collapsed": true
   },
   "source": [
    "# get the sample of parsed AVL data.\n",
    "Clean MTA prefixes from trip_id"
   ]
  },
  {
   "cell_type": "code",
   "execution_count": 3,
   "metadata": {
    "collapsed": true
   },
   "outputs": [],
   "source": [
    "# get the sample of parsed AVL data.  Beware, large files take more time.\n",
    "bustime = pd.read_csv('20151203_parsed.csv')"
   ]
  },
  {
   "cell_type": "code",
   "execution_count": 4,
   "metadata": {
    "collapsed": false
   },
   "outputs": [],
   "source": [
    "bustime.columns = ['vehicle_id','route','timestamp','lat','lon','trip_id','trip_date','shape_id',\n",
    "                   'next_stop_id','est_arrival','dist_from_stop','stop_dist_on_trip','presentable_dist','response']\n",
    "bustime.drop_duplicates(['vehicle_id','timestamp'],inplace=True)\n",
    "bustime['trip_id'] = bustime['trip_id'].str.replace('MTA NYCT_','')\n",
    "bustime['trip_id'] = bustime['trip_id'].str.replace('MTABC_','')\n",
    "bustime.set_index(['route','trip_id','trip_date','vehicle_id'],inplace=True,drop=True)"
   ]
  },
  {
   "cell_type": "code",
   "execution_count": 5,
   "metadata": {
    "collapsed": false
   },
   "outputs": [
    {
     "data": {
      "text/plain": [
       "trip_date\n",
       "2015-10-31       8701\n",
       "2015-11-01     151733\n",
       "2015-11-02         40\n",
       "2015-12-02      51559\n",
       "2015-12-03    1283489\n",
       "2015-12-04         24\n",
       "dtype: int64"
      ]
     },
     "execution_count": 5,
     "metadata": {},
     "output_type": "execute_result"
    }
   ],
   "source": [
    "bustime.groupby(level=2).size()"
   ]
  },
  {
   "cell_type": "code",
   "execution_count": 6,
   "metadata": {
    "collapsed": false
   },
   "outputs": [
    {
     "name": "stdout",
     "output_type": "stream",
     "text": [
      "Finished loading BusTime data and and slicing one day.\n"
     ]
    }
   ],
   "source": [
    "# for demonstration, use a subset. Just get data for one trip-date.\n",
    "tripDateLookup = \"2015-12-03\" # this is a non-holiday Monday\n",
    "bustime = bustime.xs((tripDateLookup),level=(2),drop_level=False)\n",
    "bustime.sort_index(inplace=True)\n",
    "print 'Finished loading BusTime data and and slicing one day.'"
   ]
  },
  {
   "cell_type": "code",
   "execution_count": 7,
   "metadata": {
    "collapsed": true
   },
   "outputs": [],
   "source": [
    "# make a separate column with just the hour, to show distribution without parsing numerically\n",
    "# bustime['timestamp_hour'] = bustime['timestamp'].str[11:13]\n",
    "# bustime.groupby('timestamp_hour').size()"
   ]
  },
  {
   "cell_type": "markdown",
   "metadata": {},
   "source": [
    "## Compare list of trip_id between GTFS schedule and BusTime reported data.\n",
    "First just compare the length of the lists."
   ]
  },
  {
   "cell_type": "code",
   "execution_count": 8,
   "metadata": {
    "collapsed": false
   },
   "outputs": [],
   "source": [
    "# Filter the service_ids for those applicable to this date\n",
    "# gtfs.TransitCalendar class now correctly adjusts for exception dates\n",
    "active_services = tcal.get_service_ids('2015-12-03') \n",
    "# Load a sepate trips dataframe but use only one index level\n",
    "trips_ = gtfs.load_trips('gtfs_nov15/').reset_index().set_index(['service_id'])\n",
    "# Generate list of all trip_ids that are scheduled for those service_ids\n",
    "gtfs_trip_ids = trips_.loc[active_services]['trip_id'].unique()\n",
    "# Generate list of all trip_ids in BusTime subset\n",
    "bustime_trip_ids = bustime.index.get_level_values(1).unique()"
   ]
  },
  {
   "cell_type": "code",
   "execution_count": 9,
   "metadata": {
    "collapsed": false
   },
   "outputs": [
    {
     "data": {
      "text/plain": [
       "54272"
      ]
     },
     "execution_count": 9,
     "metadata": {},
     "output_type": "execute_result"
    }
   ],
   "source": [
    "len(gtfs_trip_ids)"
   ]
  },
  {
   "cell_type": "code",
   "execution_count": 10,
   "metadata": {
    "collapsed": false
   },
   "outputs": [
    {
     "data": {
      "text/plain": [
       "41314"
      ]
     },
     "execution_count": 10,
     "metadata": {},
     "output_type": "execute_result"
    }
   ],
   "source": [
    "len(bustime_trip_ids)"
   ]
  },
  {
   "cell_type": "markdown",
   "metadata": {},
   "source": [
    "## Much smaller difference in trip lists using the recent sample\n",
    "Return the non-matching trip_ids and describe a few things about those trips, based on the GTFS data."
   ]
  },
  {
   "cell_type": "code",
   "execution_count": 11,
   "metadata": {
    "collapsed": false
   },
   "outputs": [],
   "source": [
    "# parse times into numeric\n",
    "ts_parsed = bustime['timestamp'].apply(ttools.parseActualTime,tdate='2015-12-03')"
   ]
  },
  {
   "cell_type": "markdown",
   "metadata": {},
   "source": [
    "### Plot distribution of BusTime pings throughout the day.  Look for sudden dips (gaps)."
   ]
  },
  {
   "cell_type": "code",
   "execution_count": 12,
   "metadata": {
    "collapsed": false
   },
   "outputs": [
    {
     "data": {
      "text/plain": [
       "<matplotlib.axes._subplots.AxesSubplot at 0x7f5be326f250>"
      ]
     },
     "execution_count": 12,
     "metadata": {},
     "output_type": "execute_result"
    },
    {
     "data": {
      "image/png": "[encoded data removed]",
      "text/plain": [
       "<matplotlib.figure.Figure at 0x7f5ca58d5890>"
      ]
     },
     "metadata": {},
     "output_type": "display_data"
    }
   ],
   "source": [
    "(ts_parsed/ttools.datetime.timedelta(hours=1)).hist(range=(0,30),bins=180)"
   ]
  },
  {
   "cell_type": "markdown",
   "metadata": {},
   "source": [
    "The mid-day gap could be due to the schedule.  Peaks are clearly around rush-hours.\n",
    "### Get the trip_id labels from GTFS which are not found anywhere in BusTime data"
   ]
  },
  {
   "cell_type": "code",
   "execution_count": 13,
   "metadata": {
    "collapsed": false
   },
   "outputs": [
    {
     "data": {
      "text/plain": [
       "12958"
      ]
     },
     "execution_count": 13,
     "metadata": {},
     "output_type": "execute_result"
    }
   ],
   "source": [
    "set1 = set(gtfs_trip_ids)\n",
    "set2 = set(bustime_trip_ids)\n",
    "\n",
    "unmatched = set1.symmetric_difference(set2) # goes both ways\n",
    "len(unmatched)"
   ]
  },
  {
   "cell_type": "markdown",
   "metadata": {},
   "source": [
    "Show routes with percentage of trips missing any data"
   ]
  },
  {
   "cell_type": "code",
   "execution_count": 14,
   "metadata": {
    "collapsed": false
   },
   "outputs": [
    {
     "data": {
      "text/plain": [
       "route_id\n",
       "BXM18    1.000000\n",
       "Q34      0.412935\n",
       "BXM1     0.394958\n",
       "QM16     0.375000\n",
       "BXM11    0.364017\n",
       "BXM3     0.360000\n",
       "QM24     0.357664\n",
       "QM8      0.355932\n",
       "QM17     0.354167\n",
       "QM20     0.350000\n",
       "QM7      0.349398\n",
       "QM25     0.348837\n",
       "QM11     0.344262\n",
       "QM1      0.341085\n",
       "BXM2     0.337778\n",
       "QM21     0.333333\n",
       "QM3      0.333333\n",
       "QM12     0.333333\n",
       "QM18     0.333333\n",
       "QM10     0.333333\n",
       "BM1      0.325843\n",
       "BXM4     0.312977\n",
       "QM15     0.311224\n",
       "BM2      0.305195\n",
       "B100     0.303311\n",
       "BM4      0.302521\n",
       "BM3      0.300654\n",
       "BXM9     0.296970\n",
       "BXM8     0.294304\n",
       "BM5      0.294118\n",
       "           ...   \n",
       "BX27     0.000509\n",
       "B32           NaN\n",
       "B44+          NaN\n",
       "B84           NaN\n",
       "BX18          NaN\n",
       "BX24          NaN\n",
       "BX26          NaN\n",
       "BX38          NaN\n",
       "BX41+         NaN\n",
       "BX8           NaN\n",
       "M106          NaN\n",
       "M98           NaN\n",
       "Q44           NaN\n",
       "S81           NaN\n",
       "S86           NaN\n",
       "S89           NaN\n",
       "S91           NaN\n",
       "S92           NaN\n",
       "S98           NaN\n",
       "X15           NaN\n",
       "X17           NaN\n",
       "X19           NaN\n",
       "X21           NaN\n",
       "X22A          NaN\n",
       "X28           NaN\n",
       "X63           NaN\n",
       "X64           NaN\n",
       "X68           NaN\n",
       "X8            NaN\n",
       "X9            NaN\n",
       "dtype: float64"
      ]
     },
     "execution_count": 14,
     "metadata": {},
     "output_type": "execute_result"
    }
   ],
   "source": [
    "pct_missing_by_route = trips.loc[unmatched].groupby('route_id').size()/trips.groupby('route_id').size()\n",
    "pct_missing_by_route.sort(ascending=False)\n",
    "pct_missing_by_route"
   ]
  },
  {
   "cell_type": "markdown",
   "metadata": {},
   "source": [
    "### Show distribution of missing data according to the hour of service (based on stop times)\n",
    "This should be roughly inverse to the data density plotted initially."
   ]
  },
  {
   "cell_type": "code",
   "execution_count": 15,
   "metadata": {
    "collapsed": false
   },
   "outputs": [
    {
     "data": {
      "text/plain": [
       "<matplotlib.axes._subplots.AxesSubplot at 0x7f5bdeb64d10>"
      ]
     },
     "execution_count": 15,
     "metadata": {},
     "output_type": "execute_result"
    },
    {
     "data": {
      "image/png": "[encoded data removed]",
      "text/plain": [
       "<matplotlib.figure.Figure at 0x7f5be16870d0>"
      ]
     },
     "metadata": {},
     "output_type": "display_data"
    }
   ],
   "source": [
    "stop_hour = stop_times.reset_index().set_index('trip_id')['arrival_time'].apply(ttools.parseTime)/ttools.datetime.timedelta(hours=1)\n",
    "stop_hour.loc[unmatched].hist(bins=48)"
   ]
  },
  {
   "cell_type": "markdown",
   "metadata": {},
   "source": [
    "### Compare distributions of trip duration, all trips from GTFS versus the missing trips. "
   ]
  },
  {
   "cell_type": "code",
   "execution_count": 16,
   "metadata": {
    "collapsed": false
   },
   "outputs": [
    {
     "data": {
      "text/plain": [
       "<matplotlib.axes._subplots.AxesSubplot at 0x7f5be23ca190>"
      ]
     },
     "execution_count": 16,
     "metadata": {},
     "output_type": "execute_result"
    },
    {
     "data": {
      "image/png": "[encoded data removed]",
      "text/plain": [
       "<matplotlib.figure.Figure at 0x7f5be0355890>"
      ]
     },
     "metadata": {},
     "output_type": "display_data"
    }
   ],
   "source": [
    "# Distribution of trip durations - ALL scheduled trips\n",
    "pd.Series(stop_hour.groupby(level=0).max() - stop_hour.groupby(level=0).min()).hist(bins=40)"
   ]
  },
  {
   "cell_type": "code",
   "execution_count": 17,
   "metadata": {
    "collapsed": false
   },
   "outputs": [
    {
     "data": {
      "text/plain": [
       "<matplotlib.axes._subplots.AxesSubplot at 0x7f5bdf4a4710>"
      ]
     },
     "execution_count": 17,
     "metadata": {},
     "output_type": "execute_result"
    },
    {
     "data": {
      "image/png": "[encoded data removed]",
      "text/plain": [
       "<matplotlib.figure.Figure at 0x7f5c96f622d0>"
      ]
     },
     "metadata": {},
     "output_type": "display_data"
    }
   ],
   "source": [
    "# Distribution of trip durations - MISSING trips only\n",
    "pd.Series(stop_hour.loc[unmatched].groupby(level=0).max() - stop_hour.loc[unmatched].groupby(level=0).min()).hist(bins=40)"
   ]
  },
  {
   "cell_type": "markdown",
   "metadata": {},
   "source": [
    "## Analyze expected trip data-density, but agnostic to trip_id\n",
    "Plot a comparison (GTFS versus BusTime) of how many vehicles are on an active trip throughout the day."
   ]
  },
  {
   "cell_type": "code",
   "execution_count": 23,
   "metadata": {
    "collapsed": false
   },
   "outputs": [
    {
     "data": {
      "text/plain": [
       "54272"
      ]
     },
     "execution_count": 23,
     "metadata": {},
     "output_type": "execute_result"
    }
   ],
   "source": [
    "np.count_nonzero(gtfs_trip_ids)"
   ]
  },
  {
   "cell_type": "code",
   "execution_count": 24,
   "metadata": {
    "collapsed": false
   },
   "outputs": [],
   "source": [
    "start_bins = (10*stop_hour.loc[gtfs_trip_ids].groupby(level=0).min()).apply(np.floor).astype(int)\n",
    "end_bins = (10*stop_hour.loc[gtfs_trip_ids].groupby(level=0).max()).apply(np.floor).astype(int)"
   ]
  },
  {
   "cell_type": "code",
   "execution_count": 25,
   "metadata": {
    "collapsed": false
   },
   "outputs": [],
   "source": [
    "# time is divided into bins of 0.1 hours (6 minutes)\n",
    "# make a 2D binary matrix indicating when the trip is active during each time bin.\n",
    "time_bin_matrix = np.zeros((len(start_bins),max(end_bins)+1))\n",
    "counter = 0\n",
    "for i,v_start in start_bins.iteritems():\n",
    "    v_end = end_bins.loc[i]\n",
    "    time_bin_matrix[counter,v_start:v_end] = 1\n",
    "    counter += 1"
   ]
  },
  {
   "cell_type": "markdown",
   "metadata": {},
   "source": [
    "Now do the same from the BusTime data.  Danger - vehicles may be recording data even when not on an active trip."
   ]
  },
  {
   "cell_type": "code",
   "execution_count": 26,
   "metadata": {
    "collapsed": false
   },
   "outputs": [],
   "source": [
    "start_bins_bustime = (10*(ts_parsed.groupby(level=(1,3)).min()/ttools.datetime.timedelta(hours=1))).apply(np.floor).astype(int)\n",
    "end_bins_bustime = (10*(ts_parsed.groupby(level=(1,3)).max()/ttools.datetime.timedelta(hours=1))).apply(np.floor).astype(int)\n",
    "time_bin_matrix_bustime = np.zeros((len(start_bins_bustime),max(end_bins_bustime)+1))\n",
    "counter = 0\n",
    "for i,v_start in start_bins_bustime.iteritems():\n",
    "    v_end = end_bins_bustime.loc[i]\n",
    "    time_bin_matrix_bustime[counter,v_start:v_end] = 1\n",
    "    counter += 1"
   ]
  },
  {
   "cell_type": "markdown",
   "metadata": {
    "collapsed": true
   },
   "source": [
    "### Plot the comparison.\n",
    "Note that the BusTime data tracks the expected density nicely."
   ]
  },
  {
   "cell_type": "code",
   "execution_count": 27,
   "metadata": {
    "collapsed": false
   },
   "outputs": [
    {
     "data": {
      "text/plain": [
       "<matplotlib.axes._subplots.AxesSubplot at 0x7f5be08e3a90>"
      ]
     },
     "execution_count": 27,
     "metadata": {},
     "output_type": "execute_result"
    },
    {
     "data": {
      "image/png": "[encoded data removed]",
      "text/plain": [
       "<matplotlib.figure.Figure at 0x7f5be3947810>"
      ]
     },
     "metadata": {},
     "output_type": "display_data"
    }
   ],
   "source": [
    "pd.DataFrame(time_bin_matrix_bustime.sum(axis=0),columns=['BusTime_Vehicles']).join(pd.Series(time_bin_matrix.sum(axis=0),name='GTFS_Vehicles')).plot()"
   ]
  },
  {
   "cell_type": "code",
   "execution_count": null,
   "metadata": {
    "collapsed": true
   },
   "outputs": [],
   "source": []
  }
 ],
 "metadata": {
  "kernelspec": {
   "display_name": "Python 2",
   "language": "python",
   "name": "python2"
  },
  "language_info": {
   "codemirror_mode": {
    "name": "ipython",
    "version": 2
   },
   "file_extension": ".py",
   "mimetype": "text/x-python",
   "name": "python",
   "nbconvert_exporter": "python",
   "pygments_lexer": "ipython2",
   "version": "2.7.11"
  }
 },
 "nbformat": 4,
 "nbformat_minor": 0
}
