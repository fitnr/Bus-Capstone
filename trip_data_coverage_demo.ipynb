{
 "cells": [
  {
   "cell_type": "code",
   "execution_count": 1,
   "metadata": {
    "collapsed": true
   },
   "outputs": [],
   "source": [
    "import os\n",
    "import pandas as pd\n",
    "import numpy as np\n",
    "import sys\n",
    "sys.path.append('/gpfs2/projects/project-bus_capstone_2016/workspace/mu529/Bus-Capstone')\n",
    "import ttools #homemade module\n",
    "import gtfs #homemade module\n",
    "os.chdir('/gpfs2/projects/project-bus_capstone_2016/workspace/share')\n",
    "%matplotlib inline"
   ]
  },
  {
   "cell_type": "code",
   "execution_count": 2,
   "metadata": {
    "collapsed": false
   },
   "outputs": [
    {
     "name": "stdout",
     "output_type": "stream",
     "text": [
      "Finished loading GTFS data.\n"
     ]
    }
   ],
   "source": [
    "# get all the schedule data. (subset can be created later)\n",
    "trips = gtfs.load_trips('gtfs/')\n",
    "stops = gtfs.load_stops('gtfs/')\n",
    "stop_times, tz_sched = gtfs.load_stop_times('gtfs/')\n",
    "print 'Finished loading GTFS data.'"
   ]
  },
  {
   "cell_type": "code",
   "execution_count": 3,
   "metadata": {
    "collapsed": true
   },
   "outputs": [],
   "source": [
    "# get the sample of parsed AVL data.  Beware, large files take more time.\n",
    "bustime = pd.read_csv('newdata_parsed.csv')#,parse_dates=dt_columns)\n",
    "bustime.drop_duplicates(['vehicleID','RecordedAtTime'],inplace=True)\n",
    "bustime['Trip'] = bustime['Trip'].str.replace('MTA NYCT_','')\n",
    "bustime.set_index(['Line','Trip','TripDate','vehicleID','RecordedAtTime'],\n",
    "                  inplace=True,drop=True,verify_integrity=True)"
   ]
  },
  {
   "cell_type": "code",
   "execution_count": 5,
   "metadata": {
    "collapsed": false
   },
   "outputs": [
    {
     "name": "stdout",
     "output_type": "stream",
     "text": [
      "Finished loading BusTime data and and slicing one day.\n"
     ]
    }
   ],
   "source": [
    "# for demonstration, use a subset. Just get data for one line (M5) on one day.\n",
    "tripDateLookup = \"2016-06-13\"\n",
    "bustime = bustime.xs((tripDateLookup),level=(2),drop_level=False)\n",
    "# note that the AVL dataframe must be sorted by timestammp, since iloc[]\n",
    "# selection is used later in this script to find the earliest time\n",
    "bustime.sort_index(inplace=True)\n",
    "print 'Finished loading BusTime data and and slicing one day.'"
   ]
  },
  {
   "cell_type": "code",
   "execution_count": 7,
   "metadata": {
    "collapsed": false
   },
   "outputs": [
    {
     "data": {
      "text/plain": [
       "178272"
      ]
     },
     "execution_count": 7,
     "metadata": {},
     "output_type": "execute_result"
    }
   ],
   "source": [
    "len(trips.index)"
   ]
  },
  {
   "cell_type": "code",
   "execution_count": 14,
   "metadata": {
    "collapsed": false
   },
   "outputs": [],
   "source": [
    "bustime_trip_ids = bustime.index.get_level_values(1).unique()"
   ]
  },
  {
   "cell_type": "code",
   "execution_count": 18,
   "metadata": {
    "collapsed": false
   },
   "outputs": [
    {
     "data": {
      "text/plain": [
       "52346"
      ]
     },
     "execution_count": 18,
     "metadata": {},
     "output_type": "execute_result"
    }
   ],
   "source": [
    "len(bustime_trip_ids)"
   ]
  },
  {
   "cell_type": "code",
   "execution_count": 52,
   "metadata": {
    "collapsed": false
   },
   "outputs": [
    {
     "data": {
      "text/plain": [
       "52346"
      ]
     },
     "execution_count": 52,
     "metadata": {},
     "output_type": "execute_result"
    }
   ],
   "source": [
    "len(bustime.groupby(level=1).size())"
   ]
  },
  {
   "cell_type": "code",
   "execution_count": 17,
   "metadata": {
    "collapsed": false
   },
   "outputs": [
    {
     "data": {
      "text/plain": [
       "(52346, 6)"
      ]
     },
     "execution_count": 17,
     "metadata": {},
     "output_type": "execute_result"
    }
   ],
   "source": [
    "trips.loc[bustime_trip_ids].shape"
   ]
  },
  {
   "cell_type": "code",
   "execution_count": 44,
   "metadata": {
    "collapsed": false
   },
   "outputs": [],
   "source": [
    "service_ids = trips.loc[bustime_trip_ids]['service_id'].dropna().unique()"
   ]
  },
  {
   "cell_type": "code",
   "execution_count": 34,
   "metadata": {
    "collapsed": false
   },
   "outputs": [],
   "source": [
    "trips_reframed = trips.reset_index().set_index('service_id')"
   ]
  },
  {
   "cell_type": "code",
   "execution_count": 49,
   "metadata": {
    "collapsed": false
   },
   "outputs": [
    {
     "data": {
      "text/plain": [
       "43365"
      ]
     },
     "execution_count": 49,
     "metadata": {},
     "output_type": "execute_result"
    }
   ],
   "source": [
    "len(trips_reframed.loc[service_ids]['trip_id'].unique())"
   ]
  },
  {
   "cell_type": "code",
   "execution_count": 53,
   "metadata": {
    "collapsed": false
   },
   "outputs": [
    {
     "data": {
      "text/html": [
       "<div style=\"max-height:1000px;max-width:1500px;overflow:auto;\">\n",
       "<table border=\"1\" class=\"dataframe\">\n",
       "  <thead>\n",
       "    <tr style=\"text-align: right;\">\n",
       "      <th></th>\n",
       "      <th>trip_id</th>\n",
       "      <th>block_id</th>\n",
       "      <th>direction_id</th>\n",
       "      <th>route_id</th>\n",
       "      <th>shape_id</th>\n",
       "      <th>trip_headsign</th>\n",
       "    </tr>\n",
       "    <tr>\n",
       "      <th>service_id</th>\n",
       "      <th></th>\n",
       "      <th></th>\n",
       "      <th></th>\n",
       "      <th></th>\n",
       "      <th></th>\n",
       "      <th></th>\n",
       "    </tr>\n",
       "  </thead>\n",
       "  <tbody>\n",
       "    <tr>\n",
       "      <th>GH_B6-Weekday</th>\n",
       "      <td>GH_B6-Weekday-004000_BX12_1</td>\n",
       "      <td>NaN</td>\n",
       "      <td>1</td>\n",
       "      <td>BX12</td>\n",
       "      <td>BX120805</td>\n",
       "      <td>INWOOD BWY-207 ST- PEL PKY via FRDHAM RD</td>\n",
       "    </tr>\n",
       "    <tr>\n",
       "      <th>GH_B6-Weekday</th>\n",
       "      <td>GH_B6-Weekday-009000_BX12_1</td>\n",
       "      <td>NaN</td>\n",
       "      <td>0</td>\n",
       "      <td>BX12</td>\n",
       "      <td>BX120809</td>\n",
       "      <td>EDSON AV via FORDHAM RD via PELHAM PKY</td>\n",
       "    </tr>\n",
       "    <tr>\n",
       "      <th>GH_B6-Weekday</th>\n",
       "      <td>GH_B6-Weekday-013000_BX12_1</td>\n",
       "      <td>NaN</td>\n",
       "      <td>1</td>\n",
       "      <td>BX12</td>\n",
       "      <td>BX120792</td>\n",
       "      <td>INWOOD BWY-207 ST- PEL PKY via FRDHAM RD</td>\n",
       "    </tr>\n",
       "    <tr>\n",
       "      <th>GH_B6-Weekday</th>\n",
       "      <td>GH_B6-Weekday-017000_BX12_1</td>\n",
       "      <td>NaN</td>\n",
       "      <td>0</td>\n",
       "      <td>BX12</td>\n",
       "      <td>BX120809</td>\n",
       "      <td>EDSON AV via FORDHAM RD via PELHAM PKY</td>\n",
       "    </tr>\n",
       "    <tr>\n",
       "      <th>GH_B6-Weekday</th>\n",
       "      <td>GH_B6-Weekday-021000_BX12_1</td>\n",
       "      <td>NaN</td>\n",
       "      <td>1</td>\n",
       "      <td>BX12</td>\n",
       "      <td>BX120792</td>\n",
       "      <td>INWOOD BWY-207 ST- PEL PKY via FRDHAM RD</td>\n",
       "    </tr>\n",
       "  </tbody>\n",
       "</table>\n",
       "</div>"
      ],
      "text/plain": [
       "                                   trip_id  block_id  direction_id route_id  \\\n",
       "service_id                                                                    \n",
       "GH_B6-Weekday  GH_B6-Weekday-004000_BX12_1       NaN             1     BX12   \n",
       "GH_B6-Weekday  GH_B6-Weekday-009000_BX12_1       NaN             0     BX12   \n",
       "GH_B6-Weekday  GH_B6-Weekday-013000_BX12_1       NaN             1     BX12   \n",
       "GH_B6-Weekday  GH_B6-Weekday-017000_BX12_1       NaN             0     BX12   \n",
       "GH_B6-Weekday  GH_B6-Weekday-021000_BX12_1       NaN             1     BX12   \n",
       "\n",
       "               shape_id                             trip_headsign  \n",
       "service_id                                                         \n",
       "GH_B6-Weekday  BX120805  INWOOD BWY-207 ST- PEL PKY via FRDHAM RD  \n",
       "GH_B6-Weekday  BX120809    EDSON AV via FORDHAM RD via PELHAM PKY  \n",
       "GH_B6-Weekday  BX120792  INWOOD BWY-207 ST- PEL PKY via FRDHAM RD  \n",
       "GH_B6-Weekday  BX120809    EDSON AV via FORDHAM RD via PELHAM PKY  \n",
       "GH_B6-Weekday  BX120792  INWOOD BWY-207 ST- PEL PKY via FRDHAM RD  "
      ]
     },
     "execution_count": 53,
     "metadata": {},
     "output_type": "execute_result"
    }
   ],
   "source": [
    "trips_reframed.head()"
   ]
  },
  {
   "cell_type": "code",
   "execution_count": 57,
   "metadata": {
    "collapsed": false
   },
   "outputs": [
    {
     "data": {
      "text/plain": [
       "block_id                                              NaN\n",
       "direction_id                                            1\n",
       "route_id                                             BX12\n",
       "service_id                                  GH_B6-Weekday\n",
       "shape_id                                         BX120792\n",
       "trip_headsign    INWOOD BWY-207 ST- PEL PKY via FRDHAM RD\n",
       "Name: GH_B6-Weekday-013000_BX12_1, dtype: object"
      ]
     },
     "execution_count": 57,
     "metadata": {},
     "output_type": "execute_result"
    }
   ],
   "source": [
    "trips.loc['GH_B6-Weekday-013000_BX12_1']"
   ]
  },
  {
   "cell_type": "code",
   "execution_count": null,
   "metadata": {
    "collapsed": true
   },
   "outputs": [],
   "source": []
  }
 ],
 "metadata": {
  "kernelspec": {
   "display_name": "Python 2",
   "language": "python",
   "name": "python2"
  },
  "language_info": {
   "codemirror_mode": {
    "name": "ipython",
    "version": 2
   },
   "file_extension": ".py",
   "mimetype": "text/x-python",
   "name": "python",
   "nbconvert_exporter": "python",
   "pygments_lexer": "ipython2",
   "version": "2.7.11"
  }
 },
 "nbformat": 4,
 "nbformat_minor": 0
}
