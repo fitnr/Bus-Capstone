{
 "cells": [
  {
   "cell_type": "code",
   "execution_count": 36,
   "metadata": {
    "collapsed": true
   },
   "outputs": [],
   "source": [
    "import os\n",
    "import pandas as pd\n",
    "import numpy as np\n",
    "import sys\n",
    "sys.path.append('/gpfs2/projects/project-bus_capstone_2016/workspace/mu529/Bus-Capstone')\n",
    "import ttools #homemade module\n",
    "import gtfs #homemade module\n",
    "os.chdir('/gpfs2/projects/project-bus_capstone_2016/workspace/share')\n",
    "%matplotlib inline"
   ]
  },
  {
   "cell_type": "code",
   "execution_count": 2,
   "metadata": {
    "collapsed": false
   },
   "outputs": [
    {
     "name": "stdout",
     "output_type": "stream",
     "text": [
      "Finished loading GTFS data.\n"
     ]
    }
   ],
   "source": [
    "# get all the schedule data. (subset can be created later)\n",
    "trips = gtfs.load_trips('gtfs_subset/')\n",
    "stops = gtfs.load_stops('gtfs_subset/')\n",
    "stop_times, tz_sched = gtfs.load_stop_times('gtfs_subset/')\n",
    "tcal = gtfs.TransitCalendar('gtfs_subset/')\n",
    "print 'Finished loading GTFS data.'"
   ]
  },
  {
   "cell_type": "markdown",
   "metadata": {
    "collapsed": true
   },
   "source": [
    "# get the sample of parsed AVL data.  Beware, large files take more time.\n",
    "bustime = pd.read_csv('newdata_parsed.csv')#,parse_dates=dt_columns)\n",
    "bustime.drop_duplicates(['vehicleID','RecordedAtTime'],inplace=True)\n",
    "bustime['Trip'] = bustime['Trip'].str.replace('MTA NYCT_','')\n",
    "bustime.set_index(['Line','Trip','TripDate','vehicleID','RecordedAtTime'],\n",
    "                  inplace=True,drop=True,verify_integrity=True)"
   ]
  },
  {
   "cell_type": "code",
   "execution_count": 3,
   "metadata": {
    "collapsed": false
   },
   "outputs": [
    {
     "name": "stderr",
     "output_type": "stream",
     "text": [
      "/opt/rh/anaconda/root/lib/python2.7/site-packages/pandas/io/parsers.py:1170: DtypeWarning: Columns (9,10) have mixed types. Specify dtype option on import or set low_memory=False.\n",
      "  data = self._reader.read(nrows)\n"
     ]
    }
   ],
   "source": [
    "# get the sample of parsed AVL data.  Beware, large files take more time.\n",
    "bustime = pd.read_csv('spark_parse/test2.txt',header=None)\n",
    "\n",
    "# beware!  Bonan is still working on organizing the extract files.  these columns may change.\n",
    "bustime.columns = ['route','lat','lon','timestamp','vehicle_id','trip_id','trip_date','shape_id','next_stop_id','dist_from_stop','stop_dist_on_trip','presentable_dist']\n",
    "\n",
    "bustime.drop_duplicates(['vehicle_id','timestamp'],inplace=True)\n",
    "bustime['trip_id'] = bustime['trip_id'].str.replace('MTA NYCT_','')\n",
    "bustime['trip_id'] = bustime['trip_id'].str.replace('MTABC_','')\n",
    "bustime.set_index(['route','trip_id','trip_date','vehicle_id'],inplace=True,drop=True)#,verify_integrity=True)"
   ]
  },
  {
   "cell_type": "code",
   "execution_count": 4,
   "metadata": {
    "collapsed": false
   },
   "outputs": [
    {
     "name": "stdout",
     "output_type": "stream",
     "text": [
      "Finished loading BusTime data and and slicing one day.\n"
     ]
    }
   ],
   "source": [
    "# for demonstration, use a subset. Just get data for one line (M5) on one day.\n",
    "tripDateLookup = \"2015-01-06\"\n",
    "bustime = bustime.xs((tripDateLookup),level=(2),drop_level=False)\n",
    "# note that the AVL dataframe must be sorted by timestammp, since iloc[]\n",
    "# selection is used later in this script to find the earliest time\n",
    "bustime.sort_index(inplace=True)\n",
    "print 'Finished loading BusTime data and and slicing one day.'"
   ]
  },
  {
   "cell_type": "code",
   "execution_count": 5,
   "metadata": {
    "collapsed": false
   },
   "outputs": [],
   "source": [
    "bustime['timestamp_hour'] = bustime['timestamp'].str[11:13]"
   ]
  },
  {
   "cell_type": "code",
   "execution_count": 6,
   "metadata": {
    "collapsed": false
   },
   "outputs": [
    {
     "data": {
      "text/plain": [
       "timestamp_hour\n",
       "00     44315\n",
       "01     20938\n",
       "02     13868\n",
       "03     12987\n",
       "04     21359\n",
       "05     54743\n",
       "06     86121\n",
       "07     45115\n",
       "08     52033\n",
       "09     94293\n",
       "10    150900\n",
       "11    131875\n",
       "12    137770\n",
       "13    124391\n",
       "14     54107\n",
       "15     28759\n",
       "16     38179\n",
       "17     42506\n",
       "18     63992\n",
       "19    108940\n",
       "20    101036\n",
       "21     87412\n",
       "22     75087\n",
       "23     58310\n",
       "dtype: int64"
      ]
     },
     "execution_count": 6,
     "metadata": {},
     "output_type": "execute_result"
    }
   ],
   "source": [
    "bustime.groupby('timestamp_hour').size()"
   ]
  },
  {
   "cell_type": "code",
   "execution_count": 8,
   "metadata": {
    "collapsed": false
   },
   "outputs": [],
   "source": [
    "active_services = tcal.get_service_ids('2015-01-06')\n",
    "trips_ = gtfs.load_trips('gtfs_subset/').reset_index().set_index(['service_id'])\n",
    "gtfs_trip_ids = trips_.loc[active_services]['trip_id'].unique()\n",
    "bustime_trip_ids = bustime.index.get_level_values(1).unique()"
   ]
  },
  {
   "cell_type": "code",
   "execution_count": 9,
   "metadata": {
    "collapsed": false
   },
   "outputs": [
    {
     "data": {
      "text/plain": [
       "array(['UP_A5-Weekday-SDon-009800_B1_1', 'UP_A5-Weekday-SDon-010000_B1_2',\n",
       "       'UP_A5-Weekday-SDon-013800_B1_2', 'UP_A5-Weekday-SDon-014000_B1_1',\n",
       "       'UP_A5-Weekday-SDon-017800_B1_1'], dtype=object)"
      ]
     },
     "execution_count": 9,
     "metadata": {},
     "output_type": "execute_result"
    }
   ],
   "source": [
    "bustime_trip_ids[:5]"
   ]
  },
  {
   "cell_type": "code",
   "execution_count": 10,
   "metadata": {
    "collapsed": false
   },
   "outputs": [
    {
     "data": {
      "text/plain": [
       "array(['EN_A5-Weekday-SDon-000000_B82_101',\n",
       "       'EN_A5-Weekday-SDon-006500_B82_101',\n",
       "       'EN_A5-Weekday-SDon-014000_B82_101',\n",
       "       'EN_A5-Weekday-SDon-020500_B82_101',\n",
       "       'EN_A5-Weekday-SDon-007000_B82_102'], dtype=object)"
      ]
     },
     "execution_count": 10,
     "metadata": {},
     "output_type": "execute_result"
    }
   ],
   "source": [
    "gtfs_trip_ids[:5]"
   ]
  },
  {
   "cell_type": "code",
   "execution_count": 11,
   "metadata": {
    "collapsed": false
   },
   "outputs": [
    {
     "data": {
      "text/plain": [
       "54281"
      ]
     },
     "execution_count": 11,
     "metadata": {},
     "output_type": "execute_result"
    }
   ],
   "source": [
    "len(gtfs_trip_ids)"
   ]
  },
  {
   "cell_type": "code",
   "execution_count": 12,
   "metadata": {
    "collapsed": false
   },
   "outputs": [
    {
     "data": {
      "text/plain": [
       "40553"
      ]
     },
     "execution_count": 12,
     "metadata": {},
     "output_type": "execute_result"
    }
   ],
   "source": [
    "len(bustime_trip_ids)"
   ]
  },
  {
   "cell_type": "markdown",
   "metadata": {},
   "source": [
    "## Hmmm there appears to be a big difference in the trip_id lists.\n",
    "Return the non-matching trip_ids and let's examine the data from the GTFS import."
   ]
  },
  {
   "cell_type": "code",
   "execution_count": 14,
   "metadata": {
    "collapsed": false
   },
   "outputs": [],
   "source": [
    "ts_parsed = bustime['timestamp'].apply(ttools.parseActualTime,tdate='2015-01-06')"
   ]
  },
  {
   "cell_type": "code",
   "execution_count": 17,
   "metadata": {
    "collapsed": false
   },
   "outputs": [
    {
     "data": {
      "text/plain": [
       "<matplotlib.axes._subplots.AxesSubplot at 0x7f5ca71a2e50>"
      ]
     },
     "execution_count": 17,
     "metadata": {},
     "output_type": "execute_result"
    },
    {
     "data": {
      "image/png": "[encoded data removed]",
      "text/plain": [
       "<matplotlib.figure.Figure at 0x7f5ca71a8310>"
      ]
     },
     "metadata": {},
     "output_type": "display_data"
    }
   ],
   "source": [
    "(ts_parsed/ttools.datetime.timedelta(hours=1)).hist(range=(0,30),bins=180)"
   ]
  },
  {
   "cell_type": "code",
   "execution_count": 19,
   "metadata": {
    "collapsed": false
   },
   "outputs": [
    {
     "data": {
      "text/plain": [
       "13728"
      ]
     },
     "execution_count": 19,
     "metadata": {},
     "output_type": "execute_result"
    }
   ],
   "source": [
    "set1 = set(gtfs_trip_ids)\n",
    "set2 = set(bustime_trip_ids)\n",
    "\n",
    "unmatched = set1.symmetric_difference(set2) # goes both ways\n",
    "len(unmatched)"
   ]
  },
  {
   "cell_type": "code",
   "execution_count": 20,
   "metadata": {
    "collapsed": false
   },
   "outputs": [
    {
     "data": {
      "text/plain": [
       "route_id\n",
       "S86      0.500000\n",
       "S81      0.333333\n",
       "S84      0.312500\n",
       "S94      0.294118\n",
       "S90      0.277778\n",
       "S91      0.260000\n",
       "S98      0.257143\n",
       "S96      0.232143\n",
       "S56      0.209402\n",
       "S92      0.187500\n",
       "BX20     0.181818\n",
       "X17A     0.167883\n",
       "X11      0.163265\n",
       "Q26      0.145038\n",
       "S55      0.142857\n",
       "X3       0.138889\n",
       "X2       0.134146\n",
       "X19      0.130435\n",
       "S54      0.129518\n",
       "S42      0.129353\n",
       "X21      0.119048\n",
       "M98      0.118280\n",
       "S89      0.114865\n",
       "Q77      0.113943\n",
       "X4       0.113924\n",
       "X68      0.111111\n",
       "X17J     0.110132\n",
       "S93      0.107042\n",
       "X9       0.106870\n",
       "X37      0.105691\n",
       "           ...   \n",
       "QM1      0.007752\n",
       "BXM7     0.007533\n",
       "QM24     0.007299\n",
       "Q37      0.006605\n",
       "BM2      0.006494\n",
       "Q66      0.005271\n",
       "BXM6     0.004926\n",
       "QM20     0.004717\n",
       "QM4      0.004016\n",
       "Q65      0.003864\n",
       "QM6      0.003717\n",
       "Q21      0.002941\n",
       "BXM9     0.002762\n",
       "Q53      0.002294\n",
       "BM4           NaN\n",
       "BXM18         NaN\n",
       "Q104          NaN\n",
       "Q35           NaN\n",
       "Q70           NaN\n",
       "QM10          NaN\n",
       "QM12          NaN\n",
       "QM15          NaN\n",
       "QM16          NaN\n",
       "QM17          NaN\n",
       "QM18          NaN\n",
       "QM2           NaN\n",
       "QM21          NaN\n",
       "QM25          NaN\n",
       "QM3           NaN\n",
       "QM8           NaN\n",
       "dtype: float64"
      ]
     },
     "execution_count": 20,
     "metadata": {},
     "output_type": "execute_result"
    }
   ],
   "source": [
    "# of trips by route with no data in BusTime set\n",
    "pct_missing_by_route = trips.loc[unmatched].groupby('route_id').size()/trips.groupby('route_id').size()\n",
    "pct_missing_by_route.sort(ascending=False)\n",
    "pct_missing_by_route"
   ]
  },
  {
   "cell_type": "code",
   "execution_count": 21,
   "metadata": {
    "collapsed": false
   },
   "outputs": [
    {
     "data": {
      "text/plain": [
       "<matplotlib.axes._subplots.AxesSubplot at 0x7f5ca71c8550>"
      ]
     },
     "execution_count": 21,
     "metadata": {},
     "output_type": "execute_result"
    },
    {
     "data": {
      "image/png": "[encoded data removed]",
      "text/plain": [
       "<matplotlib.figure.Figure at 0x7f5ca714aa90>"
      ]
     },
     "metadata": {},
     "output_type": "display_data"
    }
   ],
   "source": [
    "stop_hour = stop_times.reset_index().set_index('trip_id')['arrival_time'].apply(ttools.parseTime)/ttools.datetime.timedelta(hours=1)\n",
    "stop_hour.loc[unmatched].hist(bins=48)"
   ]
  },
  {
   "cell_type": "code",
   "execution_count": 28,
   "metadata": {
    "collapsed": false
   },
   "outputs": [
    {
     "data": {
      "text/plain": [
       "<matplotlib.axes._subplots.AxesSubplot at 0x7f5ca70d39d0>"
      ]
     },
     "execution_count": 28,
     "metadata": {},
     "output_type": "execute_result"
    },
    {
     "data": {
      "image/png": "[encoded data removed]",
      "text/plain": [
       "<matplotlib.figure.Figure at 0x7f5ca71d2fd0>"
      ]
     },
     "metadata": {},
     "output_type": "display_data"
    }
   ],
   "source": [
    "# check distribution of length of missing trips\n",
    "pd.Series(stop_hour.loc[unmatched].groupby(level=0).max() - stop_hour.loc[unmatched].groupby(level=0).min()).hist(bins=40)"
   ]
  },
  {
   "cell_type": "code",
   "execution_count": 27,
   "metadata": {
    "collapsed": false
   },
   "outputs": [
    {
     "data": {
      "text/plain": [
       "<matplotlib.axes._subplots.AxesSubplot at 0x7f5ca719de10>"
      ]
     },
     "execution_count": 27,
     "metadata": {},
     "output_type": "execute_result"
    },
    {
     "data": {
      "image/png": "[encoded data removed]",
      "text/plain": [
       "<matplotlib.figure.Figure at 0x7f5ca71ce7d0>"
      ]
     },
     "metadata": {},
     "output_type": "display_data"
    }
   ],
   "source": [
    "# compare to all scheduled trips\n",
    "pd.Series(stop_hour.groupby(level=0).max() - stop_hour.groupby(level=0).min()).hist(bins=40)"
   ]
  },
  {
   "cell_type": "markdown",
   "metadata": {},
   "source": [
    "## Analyze expected trip data-density, but agnostic to trip_id\n",
    "First, plot how many vehicles are scheduled to be on an active trip, throughout the day."
   ]
  },
  {
   "cell_type": "code",
   "execution_count": 91,
   "metadata": {
    "collapsed": false
   },
   "outputs": [],
   "source": [
    "start_bins = (10*stop_hour.loc[gtfs_trip_ids].groupby(level=0).min()).apply(np.floor).astype(int)\n",
    "end_bins = (10*stop_hour.loc[gtfs_trip_ids].groupby(level=0).max()).apply(np.floor).astype(int)"
   ]
  },
  {
   "cell_type": "code",
   "execution_count": 92,
   "metadata": {
    "collapsed": false
   },
   "outputs": [],
   "source": [
    "time_bin_matrix = np.zeros((len(start_bins),max(end_bins)+1))\n",
    "counter = 0\n",
    "for i,v_start in start_bins.iteritems():\n",
    "    v_end = end_bins.loc[i]\n",
    "    time_bin_matrix[counter,v_start:v_end] = 1\n",
    "    counter += 1"
   ]
  },
  {
   "cell_type": "markdown",
   "metadata": {},
   "source": [
    "Now do the same from the BusTime data.  Danger - lots of vehicles may be recorded data despite no active trip."
   ]
  },
  {
   "cell_type": "code",
   "execution_count": 72,
   "metadata": {
    "collapsed": false
   },
   "outputs": [
    {
     "data": {
      "text/plain": [
       "route        trip_id                         trip_date   vehicle_id   \n",
       "MTA NYCT_B1  UP_A5-Weekday-SDon-009800_B1_1  2015-01-06  MTA NYCT_4857   01:43:21\n",
       "                                                         MTA NYCT_4857   01:44:24\n",
       "                                                         MTA NYCT_4857   01:45:27\n",
       "                                                         MTA NYCT_4857   01:46:31\n",
       "                                                         MTA NYCT_4857   01:47:34\n",
       "Name: timestamp, dtype: timedelta64[ns]"
      ]
     },
     "execution_count": 72,
     "metadata": {},
     "output_type": "execute_result"
    }
   ],
   "source": [
    "ts_parsed.head()"
   ]
  },
  {
   "cell_type": "code",
   "execution_count": 79,
   "metadata": {
    "collapsed": false
   },
   "outputs": [],
   "source": [
    "start_bins_bustime = (10*(ts_parsed.groupby(level=(1,3)).min()/ttools.datetime.timedelta(hours=1))).apply(np.floor).astype(int)\n",
    "end_bins_bustime = (10*(ts_parsed.groupby(level=(1,3)).max()/ttools.datetime.timedelta(hours=1))).apply(np.floor).astype(int)"
   ]
  },
  {
   "cell_type": "code",
   "execution_count": 80,
   "metadata": {
    "collapsed": true
   },
   "outputs": [],
   "source": [
    "time_bin_matrix_bustime = np.zeros((len(start_bins_bustime),max(end_bins_bustime)+1))\n",
    "counter = 0\n",
    "for i,v_start in start_bins_bustime.iteritems():\n",
    "    v_end = end_bins_bustime.loc[i]\n",
    "    time_bin_matrix_bustime[counter,v_start:v_end] = 1\n",
    "    counter += 1"
   ]
  },
  {
   "cell_type": "code",
   "execution_count": 98,
   "metadata": {
    "collapsed": false
   },
   "outputs": [
    {
     "data": {
      "text/plain": [
       "<matplotlib.axes._subplots.AxesSubplot at 0x7f5ca6ef2110>"
      ]
     },
     "execution_count": 98,
     "metadata": {},
     "output_type": "execute_result"
    },
    {
     "data": {
      "image/png": "[encoded data removed]",
      "text/plain": [
       "<matplotlib.figure.Figure at 0x7f5ca6f9a210>"
      ]
     },
     "metadata": {},
     "output_type": "display_data"
    }
   ],
   "source": [
    "pd.DataFrame(time_bin_matrix_bustime.sum(axis=0),columns=['BusTime_Vehicles']).join(pd.Series(time_bin_matrix.sum(axis=0),name='GTFS_Vehicles')).plot()"
   ]
  }
 ],
 "metadata": {
  "kernelspec": {
   "display_name": "Python 2",
   "language": "python",
   "name": "python2"
  },
  "language_info": {
   "codemirror_mode": {
    "name": "ipython",
    "version": 2
   },
   "file_extension": ".py",
   "mimetype": "text/x-python",
   "name": "python",
   "nbconvert_exporter": "python",
   "pygments_lexer": "ipython2",
   "version": "2.7.11"
  }
 },
 "nbformat": 4,
 "nbformat_minor": 0
}
