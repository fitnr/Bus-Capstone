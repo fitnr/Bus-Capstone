{
 "cells": [
  {
   "cell_type": "code",
   "execution_count": 1,
   "metadata": {
    "collapsed": false
   },
   "outputs": [],
   "source": [
    "# -*- coding: utf-8 -*-\n",
    "\"\"\"\n",
    "The script demonstrates a comparison of vehicle times from AVL data to the\n",
    "scheduled arrival time at one stop for one example trip.\n",
    "\"\"\"\n",
    "\n",
    "import os\n",
    "import pandas as pd\n",
    "import matplotlib.pyplot as plt\n",
    "from scipy import interpolate\n",
    "from itertools import compress\n",
    "import time\n",
    "%matplotlib inline  \n",
    "import sys\n",
    "sys.path.append('/gpfs2/projects/project-bus_capstone_2016/workspace/mu529/bus-Capstone')\n",
    "\n",
    "# these two modules are homemade\n",
    "import gtfs\n",
    "import arrivals\n",
    "import time\n",
    "import ttools\n",
    "os.chdir('/gpfs2/projects/project-bus_capstone_2016/workspace/share')"
   ]
  },
  {
   "cell_type": "code",
   "execution_count": null,
   "metadata": {
    "collapsed": true
   },
   "outputs": [],
   "source": []
  },
  {
   "cell_type": "code",
   "execution_count": 8,
   "metadata": {
    "collapsed": false
   },
   "outputs": [],
   "source": [
    "def interpolate_stops3(merged_row):\n",
    "    # trip_id = avl_data.index.get_level_values('Trip')[0]\n",
    "    # stops_ex = list(pd.unique(avl_data.MonitoredCallRef))\n",
    "    \n",
    "    # Remove faulty data from head and tail of each trip\n",
    "    # first = stops_ex[0]\n",
    "    # last = stops_ex[-1]\n",
    "    # last_set = avl_data[avl_data.MonitoredCallRef==last][['DistFromCall','PresentableDistance']]\n",
    "    # first_set = avl_data[avl_data.MonitoredCallRef==first][['DistFromCall','PresentableDistance']]\n",
    "    # avl_data = avl_data[avl_data.MonitoredCallRef!=last][avl_data.MonitoredCallRef!=first]\n",
    "    # avl_data.append(avl_data[avl_data.MonitoredCallRef!=last].iloc[0])\n",
    "    # avl_data.append(avl_data[avl_data.MonitoredCallRef!=first].iloc[-1])\n",
    "    # distance_stops = list(pd.unique(avl_data.CallDistAlongRoute))\n",
    "    distance_stops = merged_row.stop_dist_on_trip\n",
    "    if len(merged_row.timestamp)<2:\n",
    "        # print merged_row.shape_id + ': ' + 'Not long enough data'\n",
    "        return [[]]    \n",
    "    # List of stops in each trip\n",
    "    # stops_route = pd.DataFrame([stops_ex,distance_stops])\n",
    "    # stops_route = stops_route.T\n",
    "    # stops_route.columns=['MonitoredCallRef','CallDistAlongRoute']\n",
    "    # pattern = '%Y-%m-%dT%H:%M:%S'\n",
    "    # inter_stops = pd.DataFrame([],columns = [\"DistAlongRoute\",\"TimeStamp\"])\n",
    "    list1, list2 = zip(*sorted(zip(merged_row.timestamp,merged_row.veh_dist_along_trip)))\n",
    "    veh_pings = pd.Series(index=list1,data=list2)\n",
    "    # trip_data.sort('timestamp',inplace=True)\n",
    "    last = veh_pings.idxmax()\n",
    "    first = veh_pings.sort_index(ascending=False).idxmin()\n",
    "    veh_pings = veh_pings.dropna()\n",
    "    if len(veh_pings) == 0:\n",
    "        return [[]]\n",
    "    inter_stops = veh_pings.loc[first:last]#,['veh_dist_along_trip','timestamp']]\n",
    "    if len(inter_stops)<2:\n",
    "        # print merged_row.shape_id + ': ' + 'Not long enough inter'\n",
    "        return [[]]\n",
    "    # print merged_row.shape_id + ': ' + str(len(inter_stops))\n",
    "    # inter_stops['DistAlongRoute'] = avl_data.CallDistAlongRoute - avl_data.DistFromCall\n",
    "    # inter_stops['TimeStamp'] = avl_data.index.get_level_values('RecordedAtTime')\n",
    "    # inter_stops['TimeStamp'] = inter_stops['TimeStamp'].apply(lambda x: int(time.mktime(time.strptime(x[:-10], pattern))))\n",
    "    # inter_stops = inter_stops.reset_index()\n",
    "    # plt.figure(figsize=(8,4))\n",
    "    # plt.scatter(inter_stops.timestamp/ttools.datetime.timedelta(seconds=1),inter_stops.veh_dist_along_trip)\n",
    "    # plt.title('Visualization of single trip.')\n",
    "    # plt.xlabel('Time (epoch)')\n",
    "    # plt.ylabel('Distance along route')\n",
    "    x = inter_stops.values\n",
    "    y = inter_stops.index.values\n",
    "    f = interpolate.interp1d(x,y)\n",
    "    xnew = distance_stops\n",
    "    masker = (xnew > min(x)) & (xnew < max(x))\n",
    "    xnew = list(compress(xnew,masker))\n",
    "    interp_times = pd.to_timedelta(f(xnew),unit='ns')\n",
    "    # ynew = f(xnew)   # use interpolation function returned by `interp1d`\n",
    "    # plt.figure(figsize=(10,5))\n",
    "    # plt.plot(y,x, 'o',color='blue',markersize=5)\n",
    "    # plt.plot(ynew, xnew, '*',color='red',markersize=15)\n",
    "    # plt.title('Measured and inferred positions')\n",
    "    # plt.legend()\n",
    "    \n",
    "    return [list(compress(merged_row.next_stop_id,masker)),interp_times]\n",
    "    # return interp_times"
   ]
  },
  {
   "cell_type": "markdown",
   "metadata": {},
   "source": [
    "## Now try it on a WHOLE DAY of data...\n",
    "### Remember to cut stop distances as >0.1\n",
    "### Also - this just takes the most common shape_id"
   ]
  },
  {
   "cell_type": "code",
   "execution_count": 2,
   "metadata": {
    "collapsed": true
   },
   "outputs": [],
   "source": [
    "# get the sample of parsed AVL data.  Beware, large files take more time.\n",
    "bustime = pd.read_csv('spark_parse/1203.txt',header=None)\n",
    "\n",
    "# beware!  Bonan is still working on organizing the extract files.  these columns may change.\n",
    "bustime.columns = ['route','lat','lon','timestamp','vehicle_id','trip_id','trip_date','shape_id',\n",
    "                   'next_stop_id','dist_from_stop','stop_dist_on_trip','presentable_dist']\n",
    "\n",
    "bustime.drop_duplicates(['vehicle_id','timestamp'],inplace=True)\n",
    "bustime['trip_id'] = bustime['trip_id'].str.replace('MTA NYCT_','')\n",
    "bustime['trip_id'] = bustime['trip_id'].str.replace('MTABC_','')"
   ]
  },
  {
   "cell_type": "code",
   "execution_count": 17,
   "metadata": {
    "collapsed": true
   },
   "outputs": [],
   "source": [
    "bustime['route'] = bustime['route'].str.replace('MTA NYCT_','')\n",
    "bustime['route'] = bustime['route'].str.replace('MTABC_','')\n",
    "bustime['shape_id'] = bustime['shape_id'].str.replace('MTA_','')\n",
    "bustime['vehicle_id'] = bustime['vehicle_id'].str.replace('MTA NYCT_','')\n",
    "bustime['vehicle_id'] = bustime['vehicle_id'].str.replace('MTABC_','')"
   ]
  },
  {
   "cell_type": "code",
   "execution_count": 19,
   "metadata": {
    "collapsed": false
   },
   "outputs": [],
   "source": [
    "bustime.set_index(['route','shape_id','vehicle_id'],inplace=True)\n",
    "bustime.set_index('timestamp',append=True,drop=False,inplace=True)"
   ]
  },
  {
   "cell_type": "code",
   "execution_count": 29,
   "metadata": {
    "collapsed": false
   },
   "outputs": [
    {
     "name": "stdout",
     "output_type": "stream",
     "text": [
      "Finished loading BusTime data, parsing timestamps, and slicing ONE DAY.\n"
     ]
    }
   ],
   "source": [
    "bustime.sort_index(inplace=True)\n",
    "bustime['timestamp'] = bustime['timestamp'].apply(ttools.parseActualTime,tdate='2015-12-03')\n",
    "\n",
    "bustime['stop_dist_on_trip'] = bustime['stop_dist_on_trip'].convert_objects(convert_numeric=True)\n",
    "bustime['dist_from_stop'] = bustime['dist_from_stop'].convert_objects(convert_numeric=True)\n",
    "bustime['veh_dist_along_trip'] = bustime['stop_dist_on_trip'] - bustime['dist_from_stop']\n",
    "\n",
    "print 'Finished loading BusTime data, parsing timestamps, and slicing ONE DAY.'"
   ]
  },
  {
   "cell_type": "code",
   "execution_count": 31,
   "metadata": {
    "collapsed": false
   },
   "outputs": [
    {
     "data": {
      "text/plain": [
       "route  shape_id  vehicle_id\n",
       "B1     B1O0216   4877           4472.11\n",
       "                 4992           4248.22\n",
       "       B1O0242   4858           2194.92\n",
       "                 4888           1803.24\n",
       "                 4989           1997.66\n",
       "                 5082           2149.55\n",
       "                 5085           2457.20\n",
       "                 5088           2428.41\n",
       "                 5103           2344.11\n",
       "                 7155           2446.73\n",
       "                 7159           2393.82\n",
       "       B1O0243   4855          10881.33\n",
       "                 4858          10767.31\n",
       "                 4865          10881.33\n",
       "                 4867          10866.23\n",
       "                 4876          10881.33\n",
       "                 4877          10881.33\n",
       "                 4878          10881.33\n",
       "                 4879          10872.29\n",
       "                 4888          10871.56\n",
       "                 4889          10649.44\n",
       "                 4890          10881.33\n",
       "                 4892          10881.33\n",
       "                 4893          10881.33\n",
       "                 4895          10881.33\n",
       "                 4984          10881.33\n",
       "                 4988          10881.33\n",
       "                 4989          10695.65\n",
       "                 4990          10881.33\n",
       "                 5007          10881.33\n",
       "                                 ...   \n",
       "X9     X90106    2672          30642.63\n",
       "                 2747          27532.65\n",
       "                 2759          31164.99\n",
       "                 2792          31158.37\n",
       "                 2795          30688.72\n",
       "                 2796          31161.08\n",
       "                 2802          31161.68\n",
       "                 2884          30936.53\n",
       "                 2900          31161.68\n",
       "                 2918          29538.63\n",
       "       X90107    2419          32465.17\n",
       "                 2521          32285.26\n",
       "                 2522          32501.75\n",
       "                 2523          32273.13\n",
       "                 2549          31951.15\n",
       "                 2551          32522.41\n",
       "                 2553          32655.17\n",
       "                 2591          31440.49\n",
       "                 2602            317.08\n",
       "                 2604          32019.92\n",
       "                 2607          32030.76\n",
       "                 2611          32681.73\n",
       "                 2624          31764.94\n",
       "                 2756          32440.68\n",
       "                 2759          32442.75\n",
       "                 2784          32278.42\n",
       "                 2792          32429.52\n",
       "                 2804          32524.39\n",
       "                 2810          32611.51\n",
       "                 2812          32446.26\n",
       "Name: veh_dist_along_trip, dtype: float64"
      ]
     },
     "execution_count": 31,
     "metadata": {},
     "output_type": "execute_result"
    }
   ],
   "source": [
    "bustime.groupby(level=(0,1,2))['veh_dist_along_trip'].max()"
   ]
  },
  {
   "cell_type": "code",
   "execution_count": 98,
   "metadata": {
    "collapsed": false
   },
   "outputs": [],
   "source": [
    "def matthew3(seq):\n",
    "    end_idx_local = 0\n",
    "    start_idx_local = 0\n",
    "    start_idx_best = 0\n",
    "    end_idx_best = 0\n",
    "    local_max_len = 0\n",
    "    best_len = 0\n",
    "    local_runs = []\n",
    "    for i in xrange(1, len(seq)):\n",
    "        if seq[i] < seq[i-1]:\n",
    "            # then it's decreasing\n",
    "            # first check if was a new record\n",
    "            local_max_len = end_idx_local - start_idx_local\n",
    "            if local_max_len >= best_len:\n",
    "                # print str(i) + ': found or matched a new best!'\n",
    "                best_len = local_max_len # reset the best length\n",
    "                start_idx_best = start_idx_local\n",
    "                end_idx_best = i  # and remember the local indexes as the best \n",
    "            else:\n",
    "                # print str(i) + ': decreased, but not a new record.'\n",
    "                # forget and move on\n",
    "                continue\n",
    "            # if it's longer than 2, remember the locations\n",
    "            if local_max_len > 2:\n",
    "                local_runs.append([start_idx_local,end_idx_local])\n",
    "            # but no matter what, reset the locals\n",
    "            start_idx_local = i\n",
    "            end_idx_local = i\n",
    "            # print str(i) + ': starting over.'\n",
    "        else:\n",
    "            # don't reset the start index!\n",
    "            end_idx_local = i\n",
    "            local_max_len = end_idx_local - start_idx_local\n",
    "            # print str(i) + ': good.  max len so far: ' + str(local_max_len)\n",
    "    if local_max_len > best_len:\n",
    "        # print 'ended on best'\n",
    "        best_len = local_max_len\n",
    "        start_idx_best = start_idx_local\n",
    "        end_idx_best = i\n",
    "        if local_max_len > 2:\n",
    "            local_runs.append([start_idx_local,end_idx_local])\n",
    "    # run_labels = np.zeros(len(seq),dtype=int)\n",
    "    run_labels = pd.Series(index=seq.index)\n",
    "    label = 0\n",
    "    for run in local_runs:\n",
    "        label += 1\n",
    "        run_labels[run[0]:run[1]] = int(label)\n",
    "    return run_labels"
   ]
  },
  {
   "cell_type": "code",
   "execution_count": 99,
   "metadata": {
    "collapsed": true
   },
   "outputs": [],
   "source": [
    "bustime_short = bustime.iloc[:4001]"
   ]
  },
  {
   "cell_type": "code",
   "execution_count": 100,
   "metadata": {
    "collapsed": false
   },
   "outputs": [
    {
     "name": "stderr",
     "output_type": "stream",
     "text": [
      "/opt/rh/anaconda/root/lib/python2.7/site-packages/ipykernel/__main__.py:1: SettingWithCopyWarning: \n",
      "A value is trying to be set on a copy of a slice from a DataFrame.\n",
      "Try using .loc[row_indexer,col_indexer] = value instead\n",
      "\n",
      "See the the caveats in the documentation: http://pandas.pydata.org/pandas-docs/stable/indexing.html#indexing-view-versus-copy\n",
      "  if __name__ == '__main__':\n"
     ]
    }
   ],
   "source": [
    "bustime_short['run_label'] = bustime_short.groupby(level=(0,1,2))['veh_dist_along_trip'].apply(matthew3)"
   ]
  },
  {
   "cell_type": "code",
   "execution_count": 103,
   "metadata": {
    "collapsed": false
   },
   "outputs": [],
   "source": [
    "bustime['run_label'] = bustime.groupby(level=(0,1,2))['veh_dist_along_trip'].apply(matthew3)"
   ]
  },
  {
   "cell_type": "code",
   "execution_count": 105,
   "metadata": {
    "collapsed": true
   },
   "outputs": [],
   "source": [
    "bustime_new = bustime.set_index('run_label',append=True)"
   ]
  },
  {
   "cell_type": "code",
   "execution_count": 106,
   "metadata": {
    "collapsed": true
   },
   "outputs": [],
   "source": [
    "bustime_old = bustime.set_index('trip_id',append=True)"
   ]
  },
  {
   "cell_type": "code",
   "execution_count": 108,
   "metadata": {
    "collapsed": false
   },
   "outputs": [
    {
     "data": {
      "text/plain": [
       "68139"
      ]
     },
     "execution_count": 108,
     "metadata": {},
     "output_type": "execute_result"
    }
   ],
   "source": [
    "len(bustime_old.groupby(level=(0,1,2,4)))"
   ]
  },
  {
   "cell_type": "code",
   "execution_count": 110,
   "metadata": {
    "collapsed": false
   },
   "outputs": [
    {
     "data": {
      "text/plain": [
       "41797"
      ]
     },
     "execution_count": 110,
     "metadata": {},
     "output_type": "execute_result"
    }
   ],
   "source": [
    "len(bustime_new.groupby(level=(0,1,2,4)))"
   ]
  },
  {
   "cell_type": "code",
   "execution_count": 112,
   "metadata": {
    "collapsed": false
   },
   "outputs": [
    {
     "data": {
      "text/plain": [
       "26597"
      ]
     },
     "execution_count": 112,
     "metadata": {},
     "output_type": "execute_result"
    }
   ],
   "source": [
    "len(bustime.groupby(level=(0,1,2)))"
   ]
  },
  {
   "cell_type": "markdown",
   "metadata": {},
   "source": [
    "# whats this garbage"
   ]
  },
  {
   "cell_type": "code",
   "execution_count": 2,
   "metadata": {
    "collapsed": false
   },
   "outputs": [
    {
     "name": "stdout",
     "output_type": "stream",
     "text": [
      "Finished loading BusTime data, parsing timestamps, and slicing ONE DAY.\n"
     ]
    }
   ],
   "source": [
    "bustime.set_index(['route','trip_id','trip_date','vehicle_id'],inplace=True,drop=True)\n",
    "bustime.set_index('timestamp',append=True,drop=False,inplace=True)\n",
    "\n",
    "# for demonstration, use a subset. Just get data for one line (B41) on one day.\n",
    "tripDateLookup = \"2015-12-03\"\n",
    "# lineLookup = \"MTA NYCT_B41\"\n",
    "bustime = bustime.xs((tripDateLookup),level=(2),\n",
    "                           drop_level=False)\n",
    "# note that the AVL dataframe must be sorted by timestammp, since iloc[]\n",
    "# selection is used later in this script to find the earliest time\n",
    "bustime.sort_index(inplace=True)\n",
    "bustime['timestamp'] = bustime['timestamp'].apply(ttools.parseActualTime,tdate='2015-12-03')\n",
    "\n",
    "bustime['stop_dist_on_trip'] = bustime['stop_dist_on_trip'].convert_objects(convert_numeric=True)\n",
    "bustime['dist_from_stop'] = bustime['dist_from_stop'].convert_objects(convert_numeric=True)\n",
    "bustime['veh_dist_along_trip'] = bustime['stop_dist_on_trip'] - bustime['dist_from_stop']\n",
    "\n",
    "print 'Finished loading BusTime data, parsing timestamps, and slicing ONE DAY.'\n",
    "\n",
    "bustime_distances = bustime.drop(['timestamp'],axis=1,inplace=False)\n",
    "bustime_distances = bustime_distances.reset_index().drop(['route','trip_id','trip_date','vehicle_id','timestamp',\n",
    "                                                'lat','lon','dist_from_stop','presentable_dist',\n",
    "                                                'veh_dist_along_trip'],axis=1,inplace=False)"
   ]
  },
  {
   "cell_type": "code",
   "execution_count": 3,
   "metadata": {
    "collapsed": false
   },
   "outputs": [],
   "source": [
    "stop_distances = bustime_distances.drop_duplicates(['shape_id','next_stop_id','stop_dist_on_trip'])\n",
    "stop_distances = stop_distances.query('stop_dist_on_trip > 0.1')\n",
    "stop_distances.shape_id = stop_distances.shape_id.str.replace('MTA_','')\n",
    "stop_distances.next_stop_id = stop_distances.next_stop_id.str.replace('MTA_','')\n",
    "\n",
    "stop_distances = stop_distances.sort(['shape_id','stop_dist_on_trip']).reset_index(drop=True)\n",
    "\n",
    "avl_data2 = bustime\n",
    "avl_data2.shape_id = avl_data2.shape_id.str.replace('MTA_','')\n",
    "avl_data2.next_stop_id = avl_data2.next_stop_id.str.replace('MTA_','')"
   ]
  },
  {
   "cell_type": "code",
   "execution_count": 4,
   "metadata": {
    "collapsed": true
   },
   "outputs": [],
   "source": [
    "gb = avl_data2.groupby(level=(0,1,2,3))#,4))"
   ]
  },
  {
   "cell_type": "code",
   "execution_count": 5,
   "metadata": {
    "collapsed": true
   },
   "outputs": [],
   "source": [
    "reported_timestamps = gb['timestamp'].apply(list)\n",
    "reported_dists = gb['veh_dist_along_trip'].apply(list)\n",
    "shape_ids = gb['shape_id'].agg(lambda x:x.value_counts().index[0])"
   ]
  },
  {
   "cell_type": "code",
   "execution_count": 6,
   "metadata": {
    "collapsed": true
   },
   "outputs": [],
   "source": [
    "all_dists = stop_distances.groupby('shape_id')['stop_dist_on_trip'].apply(list)\n",
    "all_stops = stop_distances.groupby('shape_id')['next_stop_id'].apply(list)\n",
    "all_stop_dists = pd.DataFrame(shape_ids).merge(pd.DataFrame(all_dists),left_on='shape_id',right_index=True).merge(pd.DataFrame(all_stops),left_on='shape_id',right_index=True)\n",
    "avl_merged = pd.concat([all_stop_dists,reported_timestamps,reported_dists],axis=1)"
   ]
  },
  {
   "cell_type": "code",
   "execution_count": 9,
   "metadata": {
    "collapsed": false
   },
   "outputs": [],
   "source": [
    "results = {}\n",
    "for i, v in avl_merged.iterrows():\n",
    "    results[i] = interpolate_stops3(v)"
   ]
  },
  {
   "cell_type": "code",
   "execution_count": 10,
   "metadata": {
    "collapsed": false
   },
   "outputs": [],
   "source": [
    "lens = []\n",
    "trip_count = 0\n",
    "for k, v in results.iteritems():\n",
    "    l = len(v[0])\n",
    "    if l > 0:\n",
    "        trip_count += 1\n",
    "    lens.append(l)"
   ]
  },
  {
   "cell_type": "code",
   "execution_count": 11,
   "metadata": {
    "collapsed": false
   },
   "outputs": [
    {
     "name": "stdout",
     "output_type": "stream",
     "text": [
      "1546160\n",
      "66086\n",
      "48825\n",
      "31.6673835125\n"
     ]
    }
   ],
   "source": [
    "print sum(lens)\n",
    "print len(lens)\n",
    "print trip_count\n",
    "print 1.0*sum(lens)/trip_count"
   ]
  },
  {
   "cell_type": "code",
   "execution_count": 13,
   "metadata": {
    "collapsed": false
   },
   "outputs": [
    {
     "data": {
      "text/plain": [
       "<matplotlib.axes._subplots.AxesSubplot at 0x7fc5f4e8c990>"
      ]
     },
     "execution_count": 13,
     "metadata": {},
     "output_type": "execute_result"
    },
    {
     "data": {
      "image/png": "[encoded data removed]",
      "text/plain": [
       "<matplotlib.figure.Figure at 0x7fc676f4f0d0>"
      ]
     },
     "metadata": {},
     "output_type": "display_data"
    }
   ],
   "source": [
    "pd.Series(lens).hist(range=(0,60),bins=30)"
   ]
  },
  {
   "cell_type": "code",
   "execution_count": 14,
   "metadata": {
    "collapsed": false
   },
   "outputs": [
    {
     "data": {
      "text/plain": [
       "<matplotlib.axes._subplots.AxesSubplot at 0x7fc5f4b7c510>"
      ]
     },
     "execution_count": 14,
     "metadata": {},
     "output_type": "execute_result"
    },
    {
     "data": {
      "image/png": "[encoded data removed]",
      "text/plain": [
       "<matplotlib.figure.Figure at 0x7fc6e1b7df10>"
      ]
     },
     "metadata": {},
     "output_type": "display_data"
    }
   ],
   "source": [
    "gb.size().hist(range=(0,120),bins=120)"
   ]
  },
  {
   "cell_type": "markdown",
   "metadata": {
    "collapsed": false
   },
   "source": [
    "data = pd.read_csv('longjsons_parsed.csv')\n",
    "data.drop_duplicates(['vehicleID','RecordedAtTime'],inplace=True)\n",
    "data.set_index(['Line','Trip','TripDate','vehicleID','RecordedAtTime'],inplace=True,drop=True,verify_integrity=True)\n",
    "# for now, use a truncated data set.  just get data for one line (M5).\n",
    "tripDateLookup = \"2016-05-25\"\n",
    "lineLookup = \"MTA NYCT_B41\"\n",
    "avl_long = data.xs((lineLookup,tripDateLookup),level=(0,2),drop_level=False)\n",
    "\n",
    "trips = pd.unique(avl_long.index.get_level_values('Trip'))\n",
    "for tp in trips:\n",
    "    try:\n",
    "        interpolate_stops(avl_long[avl_long.index.get_level_values('Trip') == tp])\n",
    "    except ValueError:\n",
    "        continue\n",
    "    except IndexError:\n",
    "        continue"
   ]
  },
  {
   "cell_type": "markdown",
   "metadata": {
    "collapsed": false
   },
   "source": [
    "data.index.get_level_values('Trip')"
   ]
  },
  {
   "cell_type": "markdown",
   "metadata": {},
   "source": [
    "#### Note: sometimes the stations are missing but maybe this can be solved without GTFS after all the trips are aggregated."
   ]
  }
 ],
 "metadata": {
  "kernelspec": {
   "display_name": "Python 2",
   "language": "python",
   "name": "python2"
  },
  "language_info": {
   "codemirror_mode": {
    "name": "ipython",
    "version": 2
   },
   "file_extension": ".py",
   "mimetype": "text/x-python",
   "name": "python",
   "nbconvert_exporter": "python",
   "pygments_lexer": "ipython2",
   "version": "2.7.11"
  }
 },
 "nbformat": 4,
 "nbformat_minor": 0
}
