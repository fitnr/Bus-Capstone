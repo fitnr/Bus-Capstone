{
 "cells": [
  {
   "cell_type": "code",
   "execution_count": 1,
   "metadata": {
    "collapsed": true
   },
   "outputs": [],
   "source": [
    "import os\n",
    "import pandas as pd\n",
    "import matplotlib.pyplot as plt\n",
    "from scipy import interpolate\n",
    "import time\n",
    "%matplotlib inline  \n",
    "import sys\n",
    "sys.path.append('/gpfs2/projects/project-bus_capstone_2016/workspace/jz2308/bus-Capstone')\n",
    "\n",
    "# these two modules are homemade\n",
    "import gtfs\n",
    "import arrivals\n",
    "import ttools\n",
    "os.chdir('/gpfs2/projects/project-bus_capstone_2016/workspace/share')"
   ]
  },
  {
   "cell_type": "code",
   "execution_count": 2,
   "metadata": {
    "collapsed": false
   },
   "outputs": [
    {
     "name": "stdout",
     "output_type": "stream",
     "text": [
      "Finished loading GTFS data.\n"
     ]
    }
   ],
   "source": [
    "# get all the schedule data. (subset can be created later)\n",
    "trips = gtfs.load_trips('2015-12-03','gtfs/')\n",
    "stops = gtfs.load_stops('2015-12-03','gtfs/')\n",
    "stop_times, tz_sched = gtfs.load_stop_times('2015-12-03','gtfs/')\n",
    "tcal=gtfs.TransitCalendar('2015-12-03')\n",
    "thurs_services = tcal.get_service_ids('2015-12-03')\n",
    "thurs_trips = trips.service_id.isin(thurs_services)\n",
    "thurs_stops = stop_times.reset_index().set_index('trip_id').loc[thurs_trips]\n",
    "print 'Finished loading GTFS data.'"
   ]
  },
  {
   "cell_type": "code",
   "execution_count": 3,
   "metadata": {
    "collapsed": true
   },
   "outputs": [],
   "source": [
    "interpolated = pd.read_csv('2015-12-03_interpolated.csv')"
   ]
  },
  {
   "cell_type": "code",
   "execution_count": 4,
   "metadata": {
    "collapsed": false
   },
   "outputs": [
    {
     "data": {
      "text/html": [
       "<div style=\"max-height:1000px;max-width:1500px;overflow:auto;\">\n",
       "<table border=\"1\" class=\"dataframe\">\n",
       "  <thead>\n",
       "    <tr style=\"text-align: right;\">\n",
       "      <th></th>\n",
       "      <th>route</th>\n",
       "      <th>trip_id</th>\n",
       "      <th>trip_date</th>\n",
       "      <th>vehicle_id</th>\n",
       "      <th>stop_id</th>\n",
       "      <th>interpolated_arrival_time</th>\n",
       "    </tr>\n",
       "  </thead>\n",
       "  <tbody>\n",
       "    <tr>\n",
       "      <th>0</th>\n",
       "      <td>MTA NYCT_M101</td>\n",
       "      <td>OH_D5-Weekday-SDon-036500_M101_38</td>\n",
       "      <td>2015-12-03</td>\n",
       "      <td>MTA NYCT_5879</td>\n",
       "      <td>402805</td>\n",
       "      <td>0 days 06:10:56.778916</td>\n",
       "    </tr>\n",
       "    <tr>\n",
       "      <th>1</th>\n",
       "      <td>MTA NYCT_M101</td>\n",
       "      <td>OH_D5-Weekday-SDon-036500_M101_38</td>\n",
       "      <td>2015-12-03</td>\n",
       "      <td>MTA NYCT_5879</td>\n",
       "      <td>405057</td>\n",
       "      <td>0 days 06:14:24.977703</td>\n",
       "    </tr>\n",
       "    <tr>\n",
       "      <th>2</th>\n",
       "      <td>MTA NYCT_M101</td>\n",
       "      <td>OH_D5-Weekday-SDon-036500_M101_38</td>\n",
       "      <td>2015-12-03</td>\n",
       "      <td>MTA NYCT_5879</td>\n",
       "      <td>403416</td>\n",
       "      <td>0 days 06:16:58.526210</td>\n",
       "    </tr>\n",
       "    <tr>\n",
       "      <th>3</th>\n",
       "      <td>MTA NYCT_M101</td>\n",
       "      <td>OH_D5-Weekday-SDon-036500_M101_38</td>\n",
       "      <td>2015-12-03</td>\n",
       "      <td>MTA NYCT_5879</td>\n",
       "      <td>402809</td>\n",
       "      <td>0 days 06:17:25.226045</td>\n",
       "    </tr>\n",
       "    <tr>\n",
       "      <th>4</th>\n",
       "      <td>MTA NYCT_M101</td>\n",
       "      <td>OH_D5-Weekday-SDon-036500_M101_38</td>\n",
       "      <td>2015-12-03</td>\n",
       "      <td>MTA NYCT_5879</td>\n",
       "      <td>402811</td>\n",
       "      <td>0 days 06:18:36.819142</td>\n",
       "    </tr>\n",
       "  </tbody>\n",
       "</table>\n",
       "</div>"
      ],
      "text/plain": [
       "           route                            trip_id   trip_date  \\\n",
       "0  MTA NYCT_M101  OH_D5-Weekday-SDon-036500_M101_38  2015-12-03   \n",
       "1  MTA NYCT_M101  OH_D5-Weekday-SDon-036500_M101_38  2015-12-03   \n",
       "2  MTA NYCT_M101  OH_D5-Weekday-SDon-036500_M101_38  2015-12-03   \n",
       "3  MTA NYCT_M101  OH_D5-Weekday-SDon-036500_M101_38  2015-12-03   \n",
       "4  MTA NYCT_M101  OH_D5-Weekday-SDon-036500_M101_38  2015-12-03   \n",
       "\n",
       "      vehicle_id  stop_id interpolated_arrival_time  \n",
       "0  MTA NYCT_5879   402805    0 days 06:10:56.778916  \n",
       "1  MTA NYCT_5879   405057    0 days 06:14:24.977703  \n",
       "2  MTA NYCT_5879   403416    0 days 06:16:58.526210  \n",
       "3  MTA NYCT_5879   402809    0 days 06:17:25.226045  \n",
       "4  MTA NYCT_5879   402811    0 days 06:18:36.819142  "
      ]
     },
     "execution_count": 4,
     "metadata": {},
     "output_type": "execute_result"
    }
   ],
   "source": [
    "interpolated.head()"
   ]
  },
  {
   "cell_type": "code",
   "execution_count": 5,
   "metadata": {
    "collapsed": true
   },
   "outputs": [],
   "source": [
    "interpolated['interpolated_arrival_time'] = pd.to_timedelta(interpolated['interpolated_arrival_time'])"
   ]
  },
  {
   "cell_type": "code",
   "execution_count": 6,
   "metadata": {
    "collapsed": false
   },
   "outputs": [],
   "source": [
    "interpolated = interpolated.merge(stop_times[['arrival_time','stop_sequence']],how='left',left_on=['trip_id','stop_id'],right_index=True)"
   ]
  },
  {
   "cell_type": "code",
   "execution_count": 7,
   "metadata": {
    "collapsed": false
   },
   "outputs": [],
   "source": [
    "# bools = interpolated.duplicated(subset=['route','trip_id','trip_date','vehicle_id','stop_id'],take_last=False) + interpolated.duplicated(subset=['route','trip_id','trip_date','vehicle_id','stop_id'],take_last=True)\n",
    "# interpolated[bools].sort(['route','trip_id','trip_date','vehicle_id']).shape"
   ]
  },
  {
   "cell_type": "code",
   "execution_count": 8,
   "metadata": {
    "collapsed": false
   },
   "outputs": [],
   "source": [
    "interpolated.set_index(['route','trip_id','trip_date','vehicle_id','stop_sequence','stop_id'],inplace=True)"
   ]
  },
  {
   "cell_type": "markdown",
   "metadata": {},
   "source": [
    "## Get the densest stop_id by shape (trip?)"
   ]
  },
  {
   "cell_type": "code",
   "execution_count": 14,
   "metadata": {
    "collapsed": false
   },
   "outputs": [],
   "source": [
    "trip_groups = interpolated.groupby(level=(0,2,5,4)).size()"
   ]
  },
  {
   "cell_type": "code",
   "execution_count": 22,
   "metadata": {
    "collapsed": true
   },
   "outputs": [],
   "source": [
    "def series_max(s):\n",
    "    return s.idxmax()[2]"
   ]
  },
  {
   "cell_type": "code",
   "execution_count": 23,
   "metadata": {
    "collapsed": false
   },
   "outputs": [
    {
     "data": {
      "text/plain": [
       "route\n",
       "MTA NYCT_B1      300009\n",
       "MTA NYCT_B11     301173\n",
       "MTA NYCT_B12     301328\n",
       "MTA NYCT_B13     301505\n",
       "MTA NYCT_B14     301598\n",
       "MTA NYCT_B15     301135\n",
       "MTA NYCT_B16     301677\n",
       "MTA NYCT_B17     300853\n",
       "MTA NYCT_B2      300173\n",
       "MTA NYCT_B20     301959\n",
       "MTA NYCT_B24     503993\n",
       "MTA NYCT_B25     302383\n",
       "MTA NYCT_B26     302372\n",
       "MTA NYCT_B3      300261\n",
       "MTA NYCT_B31     300175\n",
       "MTA NYCT_B32     302304\n",
       "MTA NYCT_B35     302692\n",
       "MTA NYCT_B36     300019\n",
       "MTA NYCT_B37     302914\n",
       "MTA NYCT_B38     302948\n",
       "MTA NYCT_B39     403679\n",
       "MTA NYCT_B4      300368\n",
       "MTA NYCT_B41     303295\n",
       "MTA NYCT_B42     303358\n",
       "MTA NYCT_B43     303711\n",
       "MTA NYCT_B44     303483\n",
       "MTA NYCT_B44+    303441\n",
       "MTA NYCT_B45     303531\n",
       "MTA NYCT_B46     303592\n",
       "MTA NYCT_B47     300857\n",
       "                  ...  \n",
       "MTABC_Q50        101743\n",
       "MTABC_Q52        550070\n",
       "MTABC_Q53        550070\n",
       "MTABC_Q60        504399\n",
       "MTABC_Q64        551812\n",
       "MTABC_Q65        550032\n",
       "MTABC_Q66        551894\n",
       "MTABC_Q67        503832\n",
       "MTABC_Q69        550010\n",
       "MTABC_Q70        504542\n",
       "MTABC_Q72        552020\n",
       "MTABC_QM1        502399\n",
       "MTABC_QM10       502984\n",
       "MTABC_QM11       550470\n",
       "MTABC_QM12       504309\n",
       "MTABC_QM15       550070\n",
       "MTABC_QM16       401840\n",
       "MTABC_QM17       401842\n",
       "MTABC_QM18       401840\n",
       "MTABC_QM2        501198\n",
       "MTABC_QM20       501133\n",
       "MTABC_QM21       450030\n",
       "MTABC_QM24       503456\n",
       "MTABC_QM25       401165\n",
       "MTABC_QM3        401840\n",
       "MTABC_QM4        551819\n",
       "MTABC_QM5        501470\n",
       "MTABC_QM6        502369\n",
       "MTABC_QM7        401797\n",
       "MTABC_QM8        501337\n",
       "dtype: int64"
      ]
     },
     "execution_count": 23,
     "metadata": {},
     "output_type": "execute_result"
    }
   ],
   "source": [
    "densest_stops = trip_groups.groupby(level=(0)).apply(series_max)\n",
    "densest_stops"
   ]
  },
  {
   "cell_type": "markdown",
   "metadata": {},
   "source": [
    "## Function that can applied repeatedly"
   ]
  },
  {
   "cell_type": "code",
   "execution_count": 24,
   "metadata": {
    "collapsed": false
   },
   "outputs": [],
   "source": [
    "# convert scheduled time to numeric\n",
    "interpolated['schedule_convert'] = pd.to_timedelta(interpolated['arrival_time'])"
   ]
  },
  {
   "cell_type": "code",
   "execution_count": 25,
   "metadata": {
    "collapsed": true
   },
   "outputs": [],
   "source": [
    "def peak_hour(x):\n",
    "    if x > '06:00:00' and x < '09:00:00':\n",
    "        return True\n",
    "    else:\n",
    "        if x > '16:00:00' and x < '19:00:00':\n",
    "            return True\n",
    "        else:\n",
    "            return False"
   ]
  },
  {
   "cell_type": "code",
   "execution_count": 26,
   "metadata": {
    "collapsed": false
   },
   "outputs": [],
   "source": [
    "def wait_ass(x,y):\n",
    "    if x == True:\n",
    "        if y >= 3*60:\n",
    "            return True\n",
    "        else:\n",
    "            return False\n",
    "    if x == False:\n",
    "        if y>= 5*60:\n",
    "            return True\n",
    "        else:\n",
    "            return False         "
   ]
  },
  {
   "cell_type": "code",
   "execution_count": 63,
   "metadata": {
    "collapsed": true
   },
   "outputs": [],
   "source": [
    "def wa_at_stop(route,stop):\n",
    "    pd.options.mode.chained_assignment = None\n",
    "    interpolated_2 = interpolated.xs((route,stop),level=(0,5),drop_level=False)\n",
    "    interpolated_2.reset_index(inplace=True)\n",
    "    interpolated_2['sche_headway'] = interpolated_2.sort(columns='schedule_convert')['schedule_convert'].diff()\n",
    "    interpolated_2['inter_headway'] = interpolated_2.sort(columns='interpolated_arrival_time')['interpolated_arrival_time'].diff()\n",
    "    interpolated_2['sche_h_sec'] = interpolated_2['sche_headway']/ttools.datetime.timedelta(seconds=1)\n",
    "    interpolated_2['inter_h_sec'] = interpolated_2['inter_headway']/ttools.datetime.timedelta(seconds=1)\n",
    "    interpolated_2['P_hour'] = map(lambda x:peak_hour(x),interpolated_2['arrival_time'])\n",
    "    interpolated_2['diff'] = interpolated_2['inter_h_sec'] - interpolated_2['sche_h_sec']\n",
    "    interpolated_2['wait_ass'] = map(lambda x,y:wait_ass(x,y), interpolated_2['P_hour'],interpolated_2['diff'])\n",
    "    ##wait assessment for the single route on the single stop\n",
    "    # 100% is best\n",
    "    return 1.0-(1.0*interpolated_2['wait_ass'].sum()/len(interpolated_2['wait_ass']))"
   ]
  },
  {
   "cell_type": "code",
   "execution_count": 64,
   "metadata": {
    "collapsed": false
   },
   "outputs": [
    {
     "data": {
      "text/html": [
       "<div style=\"max-height:1000px;max-width:1500px;overflow:auto;\">\n",
       "<table border=\"1\" class=\"dataframe\">\n",
       "  <thead>\n",
       "    <tr style=\"text-align: right;\">\n",
       "      <th></th>\n",
       "      <th></th>\n",
       "      <th></th>\n",
       "      <th></th>\n",
       "      <th></th>\n",
       "      <th></th>\n",
       "      <th>interpolated_arrival_time</th>\n",
       "      <th>arrival_time</th>\n",
       "      <th>schedule_convert</th>\n",
       "    </tr>\n",
       "    <tr>\n",
       "      <th>route</th>\n",
       "      <th>trip_id</th>\n",
       "      <th>trip_date</th>\n",
       "      <th>vehicle_id</th>\n",
       "      <th>stop_sequence</th>\n",
       "      <th>stop_id</th>\n",
       "      <th></th>\n",
       "      <th></th>\n",
       "      <th></th>\n",
       "    </tr>\n",
       "  </thead>\n",
       "  <tbody>\n",
       "    <tr>\n",
       "      <th rowspan=\"5\" valign=\"top\">MTA NYCT_M101</th>\n",
       "      <th rowspan=\"5\" valign=\"top\">OH_D5-Weekday-SDon-036500_M101_38</th>\n",
       "      <th rowspan=\"5\" valign=\"top\">2015-12-03</th>\n",
       "      <th rowspan=\"5\" valign=\"top\">MTA NYCT_5879</th>\n",
       "      <th>2</th>\n",
       "      <th>402805</th>\n",
       "      <td>06:10:56.778916</td>\n",
       "      <td>06:06:17</td>\n",
       "      <td>06:06:17</td>\n",
       "    </tr>\n",
       "    <tr>\n",
       "      <th>3</th>\n",
       "      <th>405057</th>\n",
       "      <td>06:14:24.977703</td>\n",
       "      <td>06:07:38</td>\n",
       "      <td>06:07:38</td>\n",
       "    </tr>\n",
       "    <tr>\n",
       "      <th>4</th>\n",
       "      <th>403416</th>\n",
       "      <td>06:16:58.526210</td>\n",
       "      <td>06:09:06</td>\n",
       "      <td>06:09:06</td>\n",
       "    </tr>\n",
       "    <tr>\n",
       "      <th>5</th>\n",
       "      <th>402809</th>\n",
       "      <td>06:17:25.226045</td>\n",
       "      <td>06:09:48</td>\n",
       "      <td>06:09:48</td>\n",
       "    </tr>\n",
       "    <tr>\n",
       "      <th>6</th>\n",
       "      <th>402811</th>\n",
       "      <td>06:18:36.819142</td>\n",
       "      <td>06:11:41</td>\n",
       "      <td>06:11:41</td>\n",
       "    </tr>\n",
       "  </tbody>\n",
       "</table>\n",
       "</div>"
      ],
      "text/plain": [
       "                                                                                                interpolated_arrival_time  \\\n",
       "route         trip_id                           trip_date  vehicle_id    stop_sequence stop_id                              \n",
       "MTA NYCT_M101 OH_D5-Weekday-SDon-036500_M101_38 2015-12-03 MTA NYCT_5879 2             402805             06:10:56.778916   \n",
       "                                                                         3             405057             06:14:24.977703   \n",
       "                                                                         4             403416             06:16:58.526210   \n",
       "                                                                         5             402809             06:17:25.226045   \n",
       "                                                                         6             402811             06:18:36.819142   \n",
       "\n",
       "                                                                                               arrival_time  \\\n",
       "route         trip_id                           trip_date  vehicle_id    stop_sequence stop_id                \n",
       "MTA NYCT_M101 OH_D5-Weekday-SDon-036500_M101_38 2015-12-03 MTA NYCT_5879 2             402805      06:06:17   \n",
       "                                                                         3             405057      06:07:38   \n",
       "                                                                         4             403416      06:09:06   \n",
       "                                                                         5             402809      06:09:48   \n",
       "                                                                         6             402811      06:11:41   \n",
       "\n",
       "                                                                                                schedule_convert  \n",
       "route         trip_id                           trip_date  vehicle_id    stop_sequence stop_id                    \n",
       "MTA NYCT_M101 OH_D5-Weekday-SDon-036500_M101_38 2015-12-03 MTA NYCT_5879 2             402805           06:06:17  \n",
       "                                                                         3             405057           06:07:38  \n",
       "                                                                         4             403416           06:09:06  \n",
       "                                                                         5             402809           06:09:48  \n",
       "                                                                         6             402811           06:11:41  "
      ]
     },
     "execution_count": 64,
     "metadata": {},
     "output_type": "execute_result"
    }
   ],
   "source": [
    "interpolated.head()"
   ]
  },
  {
   "cell_type": "code",
   "execution_count": 65,
   "metadata": {
    "collapsed": false
   },
   "outputs": [
    {
     "data": {
      "text/plain": [
       "0.8957055214723927"
      ]
     },
     "execution_count": 65,
     "metadata": {},
     "output_type": "execute_result"
    }
   ],
   "source": [
    "wa_at_stop('MTA NYCT_B1',300009)"
   ]
  },
  {
   "cell_type": "code",
   "execution_count": 66,
   "metadata": {
    "collapsed": false
   },
   "outputs": [],
   "source": [
    "all_routes = pd.Series(index=densest_stops.index)\n",
    "for i,v in densest_stops.iteritems():\n",
    "    all_routes[i] = wa_at_stop(i,v)"
   ]
  },
  {
   "cell_type": "code",
   "execution_count": 67,
   "metadata": {
    "collapsed": false
   },
   "outputs": [
    {
     "data": {
      "text/plain": [
       "0.79945940207255217"
      ]
     },
     "execution_count": 67,
     "metadata": {},
     "output_type": "execute_result"
    }
   ],
   "source": [
    "all_routes.mean()"
   ]
  },
  {
   "cell_type": "code",
   "execution_count": 74,
   "metadata": {
    "collapsed": false
   },
   "outputs": [],
   "source": [
    "all_stops = pd.Series(index=trip_groups.index)\n",
    "for i, v in trip_groups.iteritems():\n",
    "    if v > 50:\n",
    "        all_stops[i] = wa_at_stop(i[0],i[2])"
   ]
  },
  {
   "cell_type": "code",
   "execution_count": 93,
   "metadata": {
    "collapsed": false
   },
   "outputs": [],
   "source": [
    "all_stops_df = pd.DataFrame.from_dict(all_stops).dropna().reset_index().rename(columns={0:'wa'})"
   ]
  },
  {
   "cell_type": "code",
   "execution_count": 94,
   "metadata": {
    "collapsed": false
   },
   "outputs": [
    {
     "data": {
      "text/html": [
       "<div style=\"max-height:1000px;max-width:1500px;overflow:auto;\">\n",
       "<table border=\"1\" class=\"dataframe\">\n",
       "  <thead>\n",
       "    <tr style=\"text-align: right;\">\n",
       "      <th></th>\n",
       "      <th>stop_id</th>\n",
       "      <th>stop_sequence</th>\n",
       "      <th>wa</th>\n",
       "    </tr>\n",
       "  </thead>\n",
       "  <tbody>\n",
       "    <tr>\n",
       "      <th>stop_id</th>\n",
       "      <td>1.000000</td>\n",
       "      <td>-0.014718</td>\n",
       "      <td>-0.090302</td>\n",
       "    </tr>\n",
       "    <tr>\n",
       "      <th>stop_sequence</th>\n",
       "      <td>-0.014718</td>\n",
       "      <td>1.000000</td>\n",
       "      <td>-0.538366</td>\n",
       "    </tr>\n",
       "    <tr>\n",
       "      <th>wa</th>\n",
       "      <td>-0.090302</td>\n",
       "      <td>-0.538366</td>\n",
       "      <td>1.000000</td>\n",
       "    </tr>\n",
       "  </tbody>\n",
       "</table>\n",
       "</div>"
      ],
      "text/plain": [
       "                stop_id  stop_sequence        wa\n",
       "stop_id        1.000000      -0.014718 -0.090302\n",
       "stop_sequence -0.014718       1.000000 -0.538366\n",
       "wa            -0.090302      -0.538366  1.000000"
      ]
     },
     "execution_count": 94,
     "metadata": {},
     "output_type": "execute_result"
    }
   ],
   "source": [
    "all_stops_df.corr()"
   ]
  },
  {
   "cell_type": "code",
   "execution_count": 95,
   "metadata": {
    "collapsed": false
   },
   "outputs": [
    {
     "name": "stdout",
     "output_type": "stream",
     "text": [
      "                            OLS Regression Results                            \n",
      "==============================================================================\n",
      "Dep. Variable:                     wa   R-squared:                       0.290\n",
      "Model:                            OLS   Adj. R-squared:                  0.290\n",
      "Method:                 Least Squares   F-statistic:                     6701.\n",
      "Date:                Mon, 18 Jul 2016   Prob (F-statistic):               0.00\n",
      "Time:                        11:05:40   Log-Likelihood:                 25037.\n",
      "No. Observations:               16421   AIC:                        -5.007e+04\n",
      "Df Residuals:                   16419   BIC:                        -5.005e+04\n",
      "Df Model:                           1                                         \n",
      "Covariance Type:            nonrobust                                         \n",
      "=================================================================================\n",
      "                    coef    std err          t      P>|t|      [95.0% Conf. Int.]\n",
      "---------------------------------------------------------------------------------\n",
      "Intercept         0.8405      0.001   1141.083      0.000         0.839     0.842\n",
      "stop_sequence    -0.0021   2.51e-05    -81.860      0.000        -0.002    -0.002\n",
      "==============================================================================\n",
      "Omnibus:                       95.810   Durbin-Watson:                   0.489\n",
      "Prob(Omnibus):                  0.000   Jarque-Bera (JB):               97.389\n",
      "Skew:                          -0.189   Prob(JB):                     7.12e-22\n",
      "Kurtosis:                       3.009   Cond. No.                         52.7\n",
      "==============================================================================\n",
      "\n",
      "Warnings:\n",
      "[1] Standard Errors assume that the covariance matrix of the errors is correctly specified.\n"
     ]
    }
   ],
   "source": [
    "import statsmodels.formula.api as smf\n",
    "results = smf.ols('wa ~ stop_sequence', data=all_stops_df.dropna().reset_index()).fit()\n",
    "print results.summary()"
   ]
  },
  {
   "cell_type": "code",
   "execution_count": 99,
   "metadata": {
    "collapsed": true
   },
   "outputs": [],
   "source": [
    "def mean_hw_dev_at_stop(route,stop):\n",
    "    pd.options.mode.chained_assignment = None\n",
    "    interpolated_2 = interpolated.xs((route,stop),level=(0,5),drop_level=False)\n",
    "    interpolated_2.reset_index(inplace=True)\n",
    "    interpolated_2['sche_headway'] = interpolated_2.sort(columns='schedule_convert')['schedule_convert'].diff()\n",
    "    interpolated_2['inter_headway'] = interpolated_2.sort(columns='interpolated_arrival_time')['interpolated_arrival_time'].diff()\n",
    "    interpolated_2['sche_h_sec'] = interpolated_2['sche_headway']/ttools.datetime.timedelta(seconds=1)\n",
    "    interpolated_2['inter_h_sec'] = interpolated_2['inter_headway']/ttools.datetime.timedelta(seconds=1)\n",
    "    # interpolated_2['P_hour'] = map(lambda x:peak_hour(x),interpolated_2['arrival_time'])\n",
    "    interpolated_2['abs_diff'] = abs(interpolated_2['inter_h_sec'] - interpolated_2['sche_h_sec'])\n",
    "    # interpolated_2['wait_ass'] = map(lambda x,y:wait_ass(x,y), interpolated_2['P_hour'],interpolated_2['diff'])\n",
    "    ##wait assessment for the single route on the single stop\n",
    "    # 100% is best\n",
    "    return interpolated_2['abs_diff'].dropna().mean()"
   ]
  },
  {
   "cell_type": "code",
   "execution_count": 100,
   "metadata": {
    "collapsed": false
   },
   "outputs": [
    {
     "data": {
      "text/plain": [
       "136.72597633950616"
      ]
     },
     "execution_count": 100,
     "metadata": {},
     "output_type": "execute_result"
    }
   ],
   "source": [
    "mean_hw_dev_at_stop('MTA NYCT_B1',300009)"
   ]
  },
  {
   "cell_type": "code",
   "execution_count": 101,
   "metadata": {
    "collapsed": true
   },
   "outputs": [],
   "source": [
    "all_routes_hwdev = pd.Series(index=densest_stops.index)\n",
    "for i,v in densest_stops.iteritems():\n",
    "    all_routes_hwdev[i] = mean_hw_dev_at_stop(i,v)"
   ]
  },
  {
   "cell_type": "code",
   "execution_count": 102,
   "metadata": {
    "collapsed": false
   },
   "outputs": [
    {
     "data": {
      "text/plain": [
       "292.6473991789245"
      ]
     },
     "execution_count": 102,
     "metadata": {},
     "output_type": "execute_result"
    }
   ],
   "source": [
    "all_routes_hwdev.mean()"
   ]
  },
  {
   "cell_type": "code",
   "execution_count": 103,
   "metadata": {
    "collapsed": true
   },
   "outputs": [],
   "source": [
    "all_stops_hwdev = pd.Series(index=trip_groups.index)\n",
    "for i, v in trip_groups.iteritems():\n",
    "    if v > 50:\n",
    "        all_stops_hwdev[i] = mean_hw_dev_at_stop(i[0],i[2])"
   ]
  },
  {
   "cell_type": "code",
   "execution_count": 104,
   "metadata": {
    "collapsed": false
   },
   "outputs": [
    {
     "name": "stdout",
     "output_type": "stream",
     "text": [
      "                            OLS Regression Results                            \n",
      "==============================================================================\n",
      "Dep. Variable:             mean_hwdev   R-squared:                       0.247\n",
      "Model:                            OLS   Adj. R-squared:                  0.247\n",
      "Method:                 Least Squares   F-statistic:                     5383.\n",
      "Date:                Mon, 18 Jul 2016   Prob (F-statistic):               0.00\n",
      "Time:                        11:32:20   Log-Likelihood:                -97228.\n",
      "No. Observations:               16421   AIC:                         1.945e+05\n",
      "Df Residuals:                   16419   BIC:                         1.945e+05\n",
      "Df Model:                           1                                         \n",
      "Covariance Type:            nonrobust                                         \n",
      "=================================================================================\n",
      "                    coef    std err          t      P>|t|      [95.0% Conf. Int.]\n",
      "---------------------------------------------------------------------------------\n",
      "Intercept       231.7930      1.261    183.775      0.000       229.321   234.265\n",
      "stop_sequence     3.1519      0.043     73.371      0.000         3.068     3.236\n",
      "==============================================================================\n",
      "Omnibus:                     2865.310   Durbin-Watson:                   0.326\n",
      "Prob(Omnibus):                  0.000   Jarque-Bera (JB):             6033.538\n",
      "Skew:                           1.036   Prob(JB):                         0.00\n",
      "Kurtosis:                       5.128   Cond. No.                         52.7\n",
      "==============================================================================\n",
      "\n",
      "Warnings:\n",
      "[1] Standard Errors assume that the covariance matrix of the errors is correctly specified.\n"
     ]
    }
   ],
   "source": [
    "all_stops_hwdev_df = pd.DataFrame.from_dict(all_stops_hwdev).dropna().reset_index().rename(columns={0:'mean_hwdev'})\n",
    "results = smf.ols('mean_hwdev ~ stop_sequence', data=all_stops_hwdev_df.dropna().reset_index()).fit()\n",
    "print results.summary()"
   ]
  },
  {
   "cell_type": "code",
   "execution_count": null,
   "metadata": {
    "collapsed": true
   },
   "outputs": [],
   "source": []
  }
 ],
 "metadata": {
  "kernelspec": {
   "display_name": "Python 2",
   "language": "python",
   "name": "python2"
  },
  "language_info": {
   "codemirror_mode": {
    "name": "ipython",
    "version": 2
   },
   "file_extension": ".py",
   "mimetype": "text/x-python",
   "name": "python",
   "nbconvert_exporter": "python",
   "pygments_lexer": "ipython2",
   "version": "2.7.11"
  }
 },
 "nbformat": 4,
 "nbformat_minor": 0
}
